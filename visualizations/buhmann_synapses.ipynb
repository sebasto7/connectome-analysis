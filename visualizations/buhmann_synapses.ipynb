{
 "cells": [
  {
   "cell_type": "markdown",
   "id": "d0d8664f",
   "metadata": {},
   "source": [
    "# Display of Buhman synapses - Neuroglancer links"
   ]
  },
  {
   "cell_type": "markdown",
   "id": "85ae04e4",
   "metadata": {},
   "source": [
    "This documnent contains code for:\n",
    "<br>\n",
    "<br>A) Take many segments IDs as one neuron and:\n",
    "1. Display synaptic site in neuroglancer\n",
    "2. Quantifying number of synaptic sites\n",
    "3. Clustering synapses based on assumptions\n",
    "\n",
    "<br>B) Displaying pre or postsynaptic sites between two segment IDs\n",
    "<br>C) Linking pre and postsynaptic sites\n",
    "<br>D) Displaying presynaptic sites of a given neuropile (try to mimicking Brp stainings)\n",
    "<br>E) Visualizing neuron´s main branch location and cluster of neighboring neurons"
   ]
  },
  {
   "cell_type": "markdown",
   "id": "c8362861",
   "metadata": {},
   "source": [
    "## A) Many segments IDs as one neuron"
   ]
  },
  {
   "cell_type": "markdown",
   "id": "b18e2a2a",
   "metadata": {},
   "source": [
    "### 1. Displaying synaptic sites in neuroglancer"
   ]
  },
  {
   "cell_type": "code",
   "execution_count": 1,
   "id": "8311f41e",
   "metadata": {},
   "outputs": [
    {
     "name": "stderr",
     "output_type": "stream",
     "text": [
      "C:\\Users\\smolina\\Anaconda3\\envs\\EM\\lib\\site-packages\\blessed\\terminal.py:186: UserWarning: Failed to setupterm(kind='xterm-color'): Could not find terminal xterm-color\n",
      "  warnings.warn(msg)\n"
     ]
    }
   ],
   "source": [
    "import fafbseg\n",
    "from fafbseg import flywire\n",
    "import numpy as np\n",
    "import os\n",
    "import matplotlib.pyplot as plt\n",
    "import pandas as pd\n",
    "import seaborn as sns\n",
    "from nglui.statebuilder.helpers import make_synapse_neuroglancer_link\n",
    "from helpers.synapse_queries import combine_xyz, separate_xyz, synapse_count\n",
    "from caveclient import CAVEclient\n",
    "\n",
    "client = CAVEclient('flywire_fafb_production')"
   ]
  },
  {
   "cell_type": "markdown",
   "id": "060796b2",
   "metadata": {},
   "source": [
    "#### 1.1 Loading from URL:"
   ]
  },
  {
   "cell_type": "code",
   "execution_count": 14,
   "id": "427f98c8",
   "metadata": {},
   "outputs": [],
   "source": [
    "#User's parameters\n",
    "url = \"https://ngl.flywire.ai/?json_url=https://globalv1.flywire-daf.com/nglstate/5614413943930880\"\n",
    "segments_dict = flywire.decode_url(url)\n",
    "segmentsIDs = segments_dict[\"selected\"]   # root ID query for a Dm4 segments"
   ]
  },
  {
   "cell_type": "markdown",
   "id": "763af2c8",
   "metadata": {},
   "source": [
    "#### 1.1 Or, loading manually:"
   ]
  },
  {
   "cell_type": "code",
   "execution_count": 2,
   "id": "236dd1e1",
   "metadata": {},
   "outputs": [],
   "source": [
    "segmentsIDs = [720575940631226127,720575940633045933,720575940628912899,720575940631224079] # ids with no synapses when cleft score => 50\n",
    "segmentsIDs = [720575940621983984] # Dm4 interesting case for Tm9: 720575940620703936\n",
    "segmentsIDs = [720575940617527297] # L5 example"
   ]
  },
  {
   "cell_type": "markdown",
   "id": "506ad849",
   "metadata": {},
   "source": [
    "#### 1.1 Or, loading from excel file in PC:"
   ]
  },
  {
   "cell_type": "code",
   "execution_count": null,
   "id": "3dcb9ee8",
   "metadata": {},
   "outputs": [],
   "source": [
    "# Choose path and file\n",
    "dataPath = r'C:\\Users\\sebas\\Downloads'\n",
    "fileName = 'Dm4 proofreading axon terminals_20221011.xlsx'\n",
    "#fileName = 'Tm9 proofreadings.xlsx'\n",
    "filePath = os.path.join(dataPath,fileName)"
   ]
  },
  {
   "cell_type": "code",
   "execution_count": 20,
   "id": "b047cea4",
   "metadata": {},
   "outputs": [
    {
     "data": {
      "text/html": [
       "<div>\n",
       "<style scoped>\n",
       "    .dataframe tbody tr th:only-of-type {\n",
       "        vertical-align: middle;\n",
       "    }\n",
       "\n",
       "    .dataframe tbody tr th {\n",
       "        vertical-align: top;\n",
       "    }\n",
       "\n",
       "    .dataframe thead th {\n",
       "        text-align: right;\n",
       "    }\n",
       "</style>\n",
       "<table border=\"1\" class=\"dataframe\">\n",
       "  <thead>\n",
       "    <tr style=\"text-align: right;\">\n",
       "      <th></th>\n",
       "      <th>XYZ soma</th>\n",
       "      <th>XYZ</th>\n",
       "      <th>voxel_raw_x</th>\n",
       "      <th>voxel_raw_y</th>\n",
       "      <th>voxel_raw_z</th>\n",
       "      <th>symbol</th>\n",
       "      <th>hemisphere</th>\n",
       "      <th>lab</th>\n",
       "      <th>author</th>\n",
       "      <th>name</th>\n",
       "      <th>seg_id</th>\n",
       "      <th>twigs proofread (Y/N)</th>\n",
       "      <th>identified_in</th>\n",
       "      <th>lab authorship (Y/N)</th>\n",
       "      <th>notes</th>\n",
       "      <th>annotations_link</th>\n",
       "      <th>Extra notes (see comments)</th>\n",
       "      <th>Working on</th>\n",
       "    </tr>\n",
       "  </thead>\n",
       "  <tbody>\n",
       "    <tr>\n",
       "      <th>0</th>\n",
       "      <td>61042, 90348, 5344</td>\n",
       "      <td>66139, 86342, 5433</td>\n",
       "      <td>66139.0</td>\n",
       "      <td>86342.0</td>\n",
       "      <td>5433.0</td>\n",
       "      <td>Tm9</td>\n",
       "      <td>R</td>\n",
       "      <td>Marion Silies</td>\n",
       "      <td>Jonas Chojetzki</td>\n",
       "      <td>Tm9, Tm9_R, transmedullary neuron Tm9, FBbt_00...</td>\n",
       "      <td>720575940629938298</td>\n",
       "      <td>Y</td>\n",
       "      <td>Fischbach &amp; Dittrich, 1989</td>\n",
       "      <td>Y</td>\n",
       "      <td>marked as complete and identified</td>\n",
       "      <td>https://ngl.flywire.ai/?json_url=https://globa...</td>\n",
       "      <td>NaN</td>\n",
       "      <td>NaN</td>\n",
       "    </tr>\n",
       "  </tbody>\n",
       "</table>\n",
       "</div>"
      ],
      "text/plain": [
       "             XYZ soma                 XYZ  voxel_raw_x  voxel_raw_y  \\\n",
       "0  61042, 90348, 5344  66139, 86342, 5433      66139.0      86342.0   \n",
       "\n",
       "   voxel_raw_z symbol hemisphere            lab           author  \\\n",
       "0       5433.0    Tm9          R  Marion Silies  Jonas Chojetzki   \n",
       "\n",
       "                                                name              seg_id  \\\n",
       "0  Tm9, Tm9_R, transmedullary neuron Tm9, FBbt_00...  720575940629938298   \n",
       "\n",
       "  twigs proofread (Y/N)               identified_in lab authorship (Y/N)  \\\n",
       "0                     Y  Fischbach & Dittrich, 1989                    Y   \n",
       "\n",
       "                               notes  \\\n",
       "0  marked as complete and identified   \n",
       "\n",
       "                                    annotations_link  \\\n",
       "0  https://ngl.flywire.ai/?json_url=https://globa...   \n",
       "\n",
       "  Extra notes (see comments) Working on  \n",
       "0                        NaN        NaN  "
      ]
     },
     "metadata": {},
     "output_type": "display_data"
    }
   ],
   "source": [
    "#Loading file as DataFrame\n",
    "df = pd.read_excel(filePath)\n",
    "if df[\"seg_id\"][0] == 'asdf': #Dropping the fisrt row ('asdf' was added as a walk-around to set that column values as type str)\n",
    "    df = df.iloc[1: , :]\n",
    "    df.reset_index(inplace=True,drop=True)\n",
    "display(df.head(1))\n",
    "segmentsIDs = df[\"seg_id\"]"
   ]
  },
  {
   "cell_type": "markdown",
   "id": "1b35f27a",
   "metadata": {},
   "source": [
    "#### 1.2 Updating IDs (necessary for correct annotations in neuroglancer and feching synapses with FAFBseg-py)"
   ]
  },
  {
   "cell_type": "code",
   "execution_count": 3,
   "id": "48ee71a9",
   "metadata": {},
   "outputs": [],
   "source": [
    "#Update IDs witth chunkedgraph module of CAVE\n",
    "segmentsIDs_int = list(map(int,segmentsIDs))\n",
    "new_segmentsIDs_int = list(map(client.chunkedgraph.get_latest_roots,segmentsIDs_int))\n"
   ]
  },
  {
   "cell_type": "code",
   "execution_count": 4,
   "id": "d0390d9c",
   "metadata": {},
   "outputs": [
    {
     "name": "stdout",
     "output_type": "stream",
     "text": [
      "OLD segments: https://ngl.flywire.ai/?json_url=https://globalv1.flywire-daf.com/nglstate/4761401086181376\n",
      "NEW segments: https://ngl.flywire.ai/?json_url=https://globalv1.flywire-daf.com/nglstate/6737951063015424\n"
     ]
    }
   ],
   "source": [
    "# Putting the new IDs into a list and getting a new neuroglancer URL\n",
    "new_segmentsIDs_arr = np.concatenate(new_segmentsIDs_int, axis=0 )\n",
    "new_segmentsIDs_ls = new_segmentsIDs_arr.tolist()\n",
    "old_url = flywire.encode_url(segmentsIDs)\n",
    "print(f'OLD segments: {old_url}')\n",
    "new_url = flywire.encode_url(new_segmentsIDs_ls)\n",
    "print(f'NEW segments: {new_url}')"
   ]
  },
  {
   "cell_type": "markdown",
   "id": "77f1151b",
   "metadata": {},
   "source": [
    "#### 1.3 Generating the final URLs"
   ]
  },
  {
   "cell_type": "code",
   "execution_count": 5,
   "id": "30bac713",
   "metadata": {},
   "outputs": [
    {
     "data": {
      "text/html": [
       "<a href=\"https://ngl.flywire.ai/?json_url=https://global.daf-apis.com/nglstate/api/v1/6689999430877184\">Neuroglancer Link</a>"
      ],
      "text/plain": [
       "<IPython.core.display.HTML object>"
      ]
     },
     "metadata": {},
     "output_type": "display_data"
    }
   ],
   "source": [
    "# Important to fetch synapses from live materialization (mat = \"live\")\n",
    "pre_synapses = flywire.synapses.fetch_synapses(new_segmentsIDs_ls, pre=True, post=False, attach=True,\n",
    "                                          min_score=50, clean=True, transmitters=False,\n",
    "                                          neuropils=True, batch_size=30,\n",
    "                                          dataset='production', progress=True,mat=\"live\")\n",
    "\n",
    "#Combining x,y,z columns for future purposes\n",
    "combine_xyz(pre_synapses)\n",
    "\n",
    "url = make_synapse_neuroglancer_link(pre_synapses, client, point_column='pre_pt_position')\n",
    "display(url)"
   ]
  },
  {
   "cell_type": "code",
   "execution_count": 6,
   "id": "3fd48319",
   "metadata": {},
   "outputs": [
    {
     "data": {
      "text/html": [
       "<a href=\"https://ngl.flywire.ai/?json_url=https://global.daf-apis.com/nglstate/api/v1/6025162249994240\">Neuroglancer Link</a>"
      ],
      "text/plain": [
       "<IPython.core.display.HTML object>"
      ]
     },
     "metadata": {},
     "output_type": "display_data"
    }
   ],
   "source": [
    "# Important to fetch synapses from live materialization (mat = \"auto\")\n",
    "post_synapses = flywire.synapses.fetch_synapses(new_segmentsIDs_ls, pre=False, post=True, attach=True, \n",
    "                                         min_score=50, clean=True, transmitters=False, \n",
    "                                         neuropils=True, batch_size=30,\n",
    "                                         dataset='production', progress=True,mat=\"live\")\n",
    "\n",
    "#Combining x,y,z columns for future purposes\n",
    "combine_xyz(post_synapses)\n",
    "\n",
    "url = make_synapse_neuroglancer_link(post_synapses, client, point_column='post_pt_position')\n",
    "display(url)"
   ]
  },
  {
   "cell_type": "code",
   "execution_count": 48,
   "id": "b2e54486",
   "metadata": {},
   "outputs": [
    {
     "data": {
      "text/html": [
       "<a href=\"https://ngl.flywire.ai/?json_url=https://global.daf-apis.com/nglstate/api/v1/5175474326077440\">Neuroglancer Link</a>"
      ],
      "text/plain": [
       "<IPython.core.display.HTML object>"
      ]
     },
     "metadata": {},
     "output_type": "display_data"
    }
   ],
   "source": [
    "# Fetch the neuron's presynaptic sites (not using live materialization, danger of missing synapses)\n",
    "pre_synapses = client.materialize.synapse_query(\n",
    "        pre_ids = new_segmentsIDs_ls,\n",
    "        bounding_box_column='pre_pt_position'\n",
    "        )\n",
    "pre_synapses = post_synapses[post_synapses['cleft_score'] >= 50]\n",
    "#display(pre_synapses.head())\n",
    "url = make_synapse_neuroglancer_link(pre_synapses, client, point_column='pre_pt_position')\n",
    "display(url)"
   ]
  },
  {
   "cell_type": "code",
   "execution_count": 49,
   "id": "48e36220",
   "metadata": {},
   "outputs": [
    {
     "data": {
      "text/html": [
       "<a href=\"https://ngl.flywire.ai/?json_url=https://global.daf-apis.com/nglstate/api/v1/5712739703980032\">Neuroglancer Link</a>"
      ],
      "text/plain": [
       "<IPython.core.display.HTML object>"
      ]
     },
     "metadata": {},
     "output_type": "display_data"
    }
   ],
   "source": [
    "# Fetch the neuron's presynaptic sites (not using live materialization, danger of missing synapses)\n",
    "post_synapses = client.materialize.synapse_query(\n",
    "        post_ids = new_segmentsIDs_ls,\n",
    "        bounding_box_column='post_pt_position'\n",
    "        )\n",
    "post_synapses = post_synapses[post_synapses['cleft_score'] >= 50]\n",
    "#display(post_synapses.head())\n",
    "url = make_synapse_neuroglancer_link(post_synapses, client, point_column='post_pt_position')\n",
    "display(url)"
   ]
  },
  {
   "cell_type": "markdown",
   "id": "254c1c3a",
   "metadata": {},
   "source": [
    "### 2. Quantifying synaptic sites"
   ]
  },
  {
   "cell_type": "markdown",
   "id": "ee698159",
   "metadata": {},
   "source": [
    "### 2.1 Fecthing synapses"
   ]
  },
  {
   "cell_type": "markdown",
   "id": "1f78450d",
   "metadata": {},
   "source": [
    "#### Using CAVE. No need of updating the segment IDs"
   ]
  },
  {
   "cell_type": "code",
   "execution_count": 33,
   "id": "ff378683",
   "metadata": {},
   "outputs": [
    {
     "data": {
      "text/plain": [
       "[258, 526, 545, 547, 549, 447]"
      ]
     },
     "execution_count": 33,
     "metadata": {},
     "output_type": "execute_result"
    }
   ],
   "source": [
    "#Probably we are using one of the materialization version below\n",
    "client.materialize.get_versions()"
   ]
  },
  {
   "cell_type": "code",
   "execution_count": 34,
   "id": "38ee29a9",
   "metadata": {},
   "outputs": [],
   "source": [
    "use_mat = 526"
   ]
  },
  {
   "cell_type": "code",
   "execution_count": null,
   "id": "6dcc430f",
   "metadata": {},
   "outputs": [],
   "source": [
    "pre_synapses = client.materialize.synapse_query(\n",
    "        pre_ids = segmentsIDs,materialization_version = use_mat,\n",
    "        )\n",
    "print(f'Length without filter: {len(pre_synapses)}')\n",
    "pre_synapses = pre_synapses[pre_synapses['cleft_score'] >= 50]\n",
    "display(pre_synapses.head())\n",
    "print(f'Length with filter: {len(pre_synapses)}')"
   ]
  },
  {
   "cell_type": "code",
   "execution_count": 35,
   "id": "e864961e",
   "metadata": {},
   "outputs": [
    {
     "name": "stdout",
     "output_type": "stream",
     "text": [
      "Length without filter: 635\n",
      "Length with filter: 341\n"
     ]
    }
   ],
   "source": [
    "post_synapses = client.materialize.synapse_query(\n",
    "        post_ids = segmentsIDs,materialization_version = use_mat,\n",
    "        )\n",
    "print(f'Length without filter: {len(post_synapses)}')\n",
    "post_synapses = post_synapses[post_synapses['cleft_score'] >= 50]\n",
    "#display(post_synapses.head())\n",
    "print(f'Length with filter: {len(post_synapses)}')"
   ]
  },
  {
   "cell_type": "markdown",
   "id": "9d2bd931",
   "metadata": {},
   "source": [
    "#### Using FAFBseq-py. Needs updated segment IDs (currently using live materializations)"
   ]
  },
  {
   "cell_type": "code",
   "execution_count": 36,
   "id": "7febe5bb",
   "metadata": {},
   "outputs": [
    {
     "name": "stdout",
     "output_type": "stream",
     "text": [
      "Length with filter: 2123\n",
      "Length with filter: 608\n"
     ]
    }
   ],
   "source": [
    "# Fetching synapses (with  cleft score filter)\n",
    "pre_synapses_updated = flywire.synapses.fetch_synapses(new_segmentsIDs_ls, pre=True, post=False, attach=True,\n",
    "                                          min_score=50, clean=True, transmitters=False,\n",
    "                                          neuropils=True, batch_size=30,\n",
    "                                          dataset='production', progress=True,mat=\"live\")\n",
    "\n",
    "post_synapses_updated = flywire.synapses.fetch_synapses(new_segmentsIDs_ls, pre=False, post=True, attach=True, \n",
    "                                         min_score=50, clean=True, transmitters=False, \n",
    "                                         neuropils=True, batch_size=30,\n",
    "                                         dataset='production', progress=True,mat=\"live\")\n",
    "\n",
    "print(f'Length with filter: {len(pre_synapses_updated)}')\n",
    "print(f'Length with filter: {len(post_synapses_updated)}')\n",
    "\n",
    "#Combining x,y,z columns for future purposes\n",
    "combine_xyz(pre_synapses_updated) \n",
    "combine_xyz(post_synapses_updated)"
   ]
  },
  {
   "cell_type": "markdown",
   "id": "9c2c4a3b",
   "metadata": {},
   "source": [
    "### 2.2 Counting synapses"
   ]
  },
  {
   "cell_type": "markdown",
   "id": "8ca60bf3",
   "metadata": {},
   "source": [
    "#### 2.2.1 Using FAFBseq-py. Needs updated segment IDs (currently using live materializations)"
   ]
  },
  {
   "cell_type": "code",
   "execution_count": null,
   "id": "0d4f1176",
   "metadata": {},
   "outputs": [],
   "source": [
    "synapses_count_updated = fafbseg.flywire.synapses.synapse_counts(new_segmentsIDs_ls, by_neuropil=False, \n",
    "                                        min_score=50,mat='live', batch_size=10, dataset='production')"
   ]
  },
  {
   "cell_type": "markdown",
   "id": "d909b56c",
   "metadata": {},
   "source": [
    "#### 2.2.1 Or, Using custom function (using any data frame)"
   ]
  },
  {
   "cell_type": "code",
   "execution_count": null,
   "id": "1de6fc17",
   "metadata": {},
   "outputs": [],
   "source": [
    "# Getting synapse_count data frame, among other interesting ones\n",
    "count_pre, count_post, synapses_count_updated = synapse_count(pre_synapses_updated, post_synapses_updated)"
   ]
  },
  {
   "cell_type": "markdown",
   "id": "0596db38",
   "metadata": {},
   "source": [
    "#### Removing some repeated segments"
   ]
  },
  {
   "cell_type": "code",
   "execution_count": null,
   "id": "99b68686",
   "metadata": {},
   "outputs": [],
   "source": [
    "# Identifying those segments that have been merged with others\n",
    "# (they will have more than one entry on the data frame)\n",
    "\n",
    "duplicates_boolean = synapses_count_updated.duplicated(keep=False)\n",
    "no_duplicates_boolean = [not elem for elem in duplicates_boolean] #flipping duplicates_boolean\n",
    "\n",
    "duplicated_IDs = list(set(list(synapses_count_updated.index.values[duplicates_boolean])))\n",
    "str_duplicated_IDs = list(map(str,duplicated_IDs))\n",
    "\n",
    "#display(synapses_count_updated[no_duplicates_boolean])\n",
    "#display(synapses_count_updated)"
   ]
  },
  {
   "cell_type": "markdown",
   "id": "06277899",
   "metadata": {},
   "source": [
    "#### Saving the dataset for future plotting and analysis"
   ]
  },
  {
   "cell_type": "code",
   "execution_count": null,
   "id": "6727bdaf",
   "metadata": {},
   "outputs": [],
   "source": [
    "# Choose data frames to save\n",
    "\n",
    "# Keeping the non duplicated IDs\n",
    "count_pre_save =  count_pre[count_pre['presynaptic_ID'].isin(str_duplicated_IDs) == False].copy() \n",
    "count_post_save =  count_post[count_post['postsynaptic_ID'].isin(str_duplicated_IDs) == False].copy()\n",
    "synapses_count_updated_save = synapses_count_updated[no_duplicates_boolean].copy()\n",
    "synapses_count_updated_save.index = synapses_count_updated_save.index.map(str)\n"
   ]
  },
  {
   "cell_type": "code",
   "execution_count": 93,
   "id": "846cd5ec",
   "metadata": {},
   "outputs": [],
   "source": [
    "# Choose path and file\n",
    "dataPath = r'C:\\Users\\sebas\\Downloads'\n",
    "fileName = 'Dm4_counts_axon_terminals.xlsx'\n",
    "filePath = os.path.join(dataPath,fileName)\n",
    "\n",
    "#To write in multiple sheets                                         \n",
    "from openpyxl import load_workbook, Workbook\n",
    "\n",
    "book = Workbook()\n",
    "book.save(filename = filePath)\n",
    "book = load_workbook(filePath)\n",
    "writer = pd.ExcelWriter(filePath, engine = 'openpyxl')\n",
    "writer.book = book\n",
    "\n",
    "count_pre_save.to_excel(writer, sheet_name='count_pre')\n",
    "count_post_save.to_excel(writer, sheet_name='count_post')\n",
    "synapse_count_updated_save.to_excel(writer, sheet_name='synapse_count_total')\n",
    "\n",
    "writer.save()\n",
    "writer.close()"
   ]
  },
  {
   "cell_type": "markdown",
   "id": "50b41844",
   "metadata": {},
   "source": [
    "#### Some plotting to visualize variability"
   ]
  },
  {
   "cell_type": "code",
   "execution_count": 88,
   "id": "c5f5545d",
   "metadata": {},
   "outputs": [],
   "source": [
    "# Setting custmized seaborn style\n",
    "\n",
    "#Black backgroung plots\n",
    "sns.set(rc={'axes.facecolor':'k', 'figure.facecolor':'k','axes.grid' : False,'xtick.color': 'w',\n",
    "     'ytick.color': 'w','axes.labelcolor': 'w','xtick.bottom': True})"
   ]
  },
  {
   "cell_type": "code",
   "execution_count": 86,
   "id": "748f00b5",
   "metadata": {},
   "outputs": [],
   "source": [
    "# Setting custmized seaborn style\n",
    "\n",
    "#White backgroung plots\n",
    "sns.set(rc={'axes.facecolor':'w', 'figure.facecolor':'w','axes.grid' : False,'xtick.color': 'k',\n",
    "     'ytick.color': 'k','axes.labelcolor': 'k','xtick.bottom': True})"
   ]
  },
  {
   "cell_type": "code",
   "execution_count": 48,
   "id": "70d8c3b8",
   "metadata": {},
   "outputs": [
    {
     "ename": "NameError",
     "evalue": "name 'synapses_count_updated_save' is not defined",
     "output_type": "error",
     "traceback": [
      "\u001b[1;31m---------------------------------------------------------------------------\u001b[0m",
      "\u001b[1;31mNameError\u001b[0m                                 Traceback (most recent call last)",
      "\u001b[1;32m~\\AppData\\Local\\Temp\\ipykernel_23092\\3360978996.py\u001b[0m in \u001b[0;36m<module>\u001b[1;34m\u001b[0m\n\u001b[0;32m      9\u001b[0m \u001b[0max\u001b[0m\u001b[1;33m[\u001b[0m\u001b[1;36m1\u001b[0m\u001b[1;33m]\u001b[0m\u001b[1;33m.\u001b[0m\u001b[0mset_title\u001b[0m\u001b[1;33m(\u001b[0m\u001b[1;34m'Postsynaptic sites'\u001b[0m\u001b[1;33m,\u001b[0m \u001b[0mcolor\u001b[0m \u001b[1;33m=\u001b[0m \u001b[1;34m'w'\u001b[0m\u001b[1;33m)\u001b[0m\u001b[1;33m\u001b[0m\u001b[1;33m\u001b[0m\u001b[0m\n\u001b[0;32m     10\u001b[0m \u001b[1;33m\u001b[0m\u001b[0m\n\u001b[1;32m---> 11\u001b[1;33m pre_plot = sns.boxplot(data =synapses_count_updated_save, x =synapses_count_updated_save['pre'],\n\u001b[0m\u001b[0;32m     12\u001b[0m             \u001b[0mnotch\u001b[0m\u001b[1;33m=\u001b[0m\u001b[1;32mFalse\u001b[0m\u001b[1;33m,\u001b[0m \u001b[0mshowcaps\u001b[0m\u001b[1;33m=\u001b[0m\u001b[1;32mTrue\u001b[0m\u001b[1;33m,\u001b[0m\u001b[0mboxprops\u001b[0m\u001b[1;33m=\u001b[0m\u001b[1;33m{\u001b[0m\u001b[1;34m\"facecolor\"\u001b[0m\u001b[1;33m:\u001b[0m \u001b[1;33m(\u001b[0m\u001b[1;36m.4\u001b[0m\u001b[1;33m,\u001b[0m \u001b[1;36m.6\u001b[0m\u001b[1;33m,\u001b[0m \u001b[1;36m.8\u001b[0m\u001b[1;33m,\u001b[0m \u001b[1;36m.5\u001b[0m\u001b[1;33m)\u001b[0m\u001b[1;33m}\u001b[0m\u001b[1;33m,\u001b[0m\u001b[1;33m\u001b[0m\u001b[1;33m\u001b[0m\u001b[0m\n\u001b[0;32m     13\u001b[0m             medianprops={\"color\": \"w\"},flierprops={\"marker\": \"x\"}, ax=ax[0])\n",
      "\u001b[1;31mNameError\u001b[0m: name 'synapses_count_updated_save' is not defined"
     ]
    }
   ],
   "source": [
    "# Boxplot for counts\n",
    "\n",
    "fig, ax = plt.subplots(nrows=1, ncols=2,figsize=(10, 3), facecolor='k', edgecolor='k')\n",
    "sns.set(rc={'axes.facecolor':'k', 'figure.facecolor':'k','axes.grid' : False,'xtick.color': 'w',\n",
    "     'ytick.color': 'w','axes.labelcolor': 'w','xtick.bottom': True})\n",
    "\n",
    "#fig.suptitle('Predicted pre- and postsynaptic counts', fontsize=16)\n",
    "ax[0].set_title('Presynaptic sites', color = 'w')\n",
    "ax[1].set_title('Postsynaptic sites', color = 'w')\n",
    "\n",
    "pre_plot = sns.boxplot(data =synapses_count_updated_save, x =synapses_count_updated_save['pre'],\n",
    "            notch=False, showcaps=True,boxprops={\"facecolor\": (.4, .6, .8, .5)},\n",
    "            medianprops={\"color\": \"w\"},flierprops={\"marker\": \"x\"}, ax=ax[0])\n",
    "pre_plot = sns.swarmplot(data =synapses_count_updated_save, x =synapses_count_updated_save['pre'], \n",
    "                         color=\"w\", ax=ax[0])\n",
    "\n",
    "post_plot = sns.boxplot(data =synapses_count_updated_save, x =synapses_count_updated_save['post'],\n",
    "            notch=False, showcaps=True,boxprops={\"facecolor\": (.4, .6, .8, .5)},\n",
    "            medianprops={\"color\": \"r\"},flierprops={\"marker\": \"x\"}, ax=ax[1])\n",
    "post_plot = sns.swarmplot(data =synapses_count_updated_save, x =synapses_count_updated_save['post'], \n",
    "                         color=\"r\", ax=ax[1])\n",
    "\n",
    "# This will add label to X-axis\n",
    "pre_plot.set_xlabel(\"count\")\n",
    "post_plot.set_xlabel(\"count\")\n",
    "\n"
   ]
  },
  {
   "cell_type": "code",
   "execution_count": 82,
   "id": "869c5670",
   "metadata": {},
   "outputs": [
    {
     "name": "stdout",
     "output_type": "stream",
     "text": [
      "OLD segments: https://ngl.flywire.ai/?json_url=https://globalv1.flywire-daf.com/nglstate/5733715888046080\n",
      "NEW segments: https://ngl.flywire.ai/?json_url=https://globalv1.flywire-daf.com/nglstate/4567777792753664\n"
     ]
    }
   ],
   "source": [
    "# links to neuroglancer of the above counts\n",
    "segmentsIDs= synapse_count_updated_save.index.tolist()\n",
    "\n",
    "#Update IDs witth chunkedgraph module of CAVE\n",
    "segmentsIDs_int = list(map(int,segmentsIDs))\n",
    "new_segmentsIDs_int = list(map(client.chunkedgraph.get_latest_roots,segmentsIDs_int))\n",
    "\n",
    "# Putting the new IDs into a list and getting a new neuroglancer URL\n",
    "new_segmentsIDs_arr = np.concatenate(new_segmentsIDs_int, axis=0 )\n",
    "new_segmentsIDs_ls = new_segmentsIDs_arr.tolist()\n",
    "old_url = flywire.encode_url(segmentsIDs)\n",
    "print(f'OLD segments: {old_url}')\n",
    "new_url = flywire.encode_url(new_segmentsIDs_ls)\n",
    "print(f'NEW segments: {new_url}')\n",
    "\n"
   ]
  },
  {
   "cell_type": "code",
   "execution_count": 23,
   "id": "c4d597e4",
   "metadata": {},
   "outputs": [
    {
     "data": {
      "application/vnd.jupyter.widget-view+json": {
       "model_id": "f36c3eab02964bb6ad6556f036faf2c5",
       "version_major": 2,
       "version_minor": 0
      },
      "text/plain": [
       "Fetching synapses:   0%|          | 0/4 [00:00<?, ?it/s]"
      ]
     },
     "metadata": {},
     "output_type": "display_data"
    },
    {
     "ename": "HTTPError",
     "evalue": "413 Client Error: Request Entity Too Large for url: https://global.daf-apis.com/nglstate/api/v1/post content: b'<html>\\r\\n<head><title>413 Request Entity Too Large</title></head>\\r\\n<body>\\r\\n<center><h1>413 Request Entity Too Large</h1></center>\\r\\n<hr><center>nginx</center>\\r\\n</body>\\r\\n</html>\\r\\n'",
     "output_type": "error",
     "traceback": [
      "\u001b[1;31m---------------------------------------------------------------------------\u001b[0m",
      "\u001b[1;31mHTTPError\u001b[0m                                 Traceback (most recent call last)",
      "\u001b[1;32m~\\AppData\\Local\\Temp\\ipykernel_26884\\2060296850.py\u001b[0m in \u001b[0;36m<module>\u001b[1;34m\u001b[0m\n\u001b[0;32m      8\u001b[0m \u001b[0mcombine_xyz\u001b[0m\u001b[1;33m(\u001b[0m\u001b[0mpre_synapses\u001b[0m\u001b[1;33m)\u001b[0m\u001b[1;33m\u001b[0m\u001b[1;33m\u001b[0m\u001b[0m\n\u001b[0;32m      9\u001b[0m \u001b[1;33m\u001b[0m\u001b[0m\n\u001b[1;32m---> 10\u001b[1;33m \u001b[0murl\u001b[0m \u001b[1;33m=\u001b[0m \u001b[0mmake_synapse_neuroglancer_link\u001b[0m\u001b[1;33m(\u001b[0m\u001b[0mpre_synapses\u001b[0m\u001b[1;33m,\u001b[0m \u001b[0mclient\u001b[0m\u001b[1;33m,\u001b[0m \u001b[0mpoint_column\u001b[0m\u001b[1;33m=\u001b[0m\u001b[1;34m'pre_pt_position'\u001b[0m\u001b[1;33m)\u001b[0m\u001b[1;33m\u001b[0m\u001b[1;33m\u001b[0m\u001b[0m\n\u001b[0m\u001b[0;32m     11\u001b[0m \u001b[0mdisplay\u001b[0m\u001b[1;33m(\u001b[0m\u001b[0murl\u001b[0m\u001b[1;33m)\u001b[0m\u001b[1;33m\u001b[0m\u001b[1;33m\u001b[0m\u001b[0m\n",
      "\u001b[1;32m~\\anaconda3\\envs\\EM\\lib\\site-packages\\nglui\\statebuilder\\helpers.py\u001b[0m in \u001b[0;36mmake_synapse_neuroglancer_link\u001b[1;34m(synapse_df, client, return_as, shorten, contrast, point_column, dataframe_resolution, group_connections, link_pre_and_post, ngl_url, view_kws, pre_post_columns, neuroglancer_link_text, color)\u001b[0m\n\u001b[0;32m    325\u001b[0m     )\n\u001b[0;32m    326\u001b[0m     return package_state(\n\u001b[1;32m--> 327\u001b[1;33m         \u001b[0msynapse_df\u001b[0m\u001b[1;33m,\u001b[0m \u001b[0msb\u001b[0m\u001b[1;33m,\u001b[0m \u001b[0mclient\u001b[0m\u001b[1;33m,\u001b[0m \u001b[0mshorten\u001b[0m\u001b[1;33m,\u001b[0m \u001b[0mreturn_as\u001b[0m\u001b[1;33m,\u001b[0m \u001b[0mngl_url\u001b[0m\u001b[1;33m,\u001b[0m \u001b[0mneuroglancer_link_text\u001b[0m\u001b[1;33m\u001b[0m\u001b[1;33m\u001b[0m\u001b[0m\n\u001b[0m\u001b[0;32m    328\u001b[0m     )\n\u001b[0;32m    329\u001b[0m \u001b[1;33m\u001b[0m\u001b[0m\n",
      "\u001b[1;32m~\\anaconda3\\envs\\EM\\lib\\site-packages\\nglui\\statebuilder\\helpers.py\u001b[0m in \u001b[0;36mpackage_state\u001b[1;34m(df, sb, client, shorten, return_as, ngl_url, link_text)\u001b[0m\n\u001b[0;32m    227\u001b[0m \u001b[1;33m\u001b[0m\u001b[0m\n\u001b[0;32m    228\u001b[0m     \u001b[1;32mif\u001b[0m \u001b[1;33m(\u001b[0m\u001b[0mreturn_as\u001b[0m \u001b[1;33m==\u001b[0m \u001b[1;34m\"html\"\u001b[0m\u001b[1;33m)\u001b[0m \u001b[1;32mor\u001b[0m \u001b[1;33m(\u001b[0m\u001b[0mreturn_as\u001b[0m \u001b[1;33m==\u001b[0m \u001b[1;34m\"url\"\u001b[0m\u001b[1;33m)\u001b[0m\u001b[1;33m:\u001b[0m\u001b[1;33m\u001b[0m\u001b[1;33m\u001b[0m\u001b[0m\n\u001b[1;32m--> 229\u001b[1;33m         \u001b[0murl\u001b[0m \u001b[1;33m=\u001b[0m \u001b[0mmake_url_robust\u001b[0m\u001b[1;33m(\u001b[0m\u001b[0mdf\u001b[0m\u001b[1;33m,\u001b[0m \u001b[0msb\u001b[0m\u001b[1;33m,\u001b[0m \u001b[0mclient\u001b[0m\u001b[1;33m,\u001b[0m \u001b[0mshorten\u001b[0m\u001b[1;33m=\u001b[0m\u001b[0mshorten\u001b[0m\u001b[1;33m,\u001b[0m \u001b[0mngl_url\u001b[0m\u001b[1;33m=\u001b[0m\u001b[0mngl_url\u001b[0m\u001b[1;33m)\u001b[0m\u001b[1;33m\u001b[0m\u001b[1;33m\u001b[0m\u001b[0m\n\u001b[0m\u001b[0;32m    230\u001b[0m         \u001b[1;32mif\u001b[0m \u001b[0mreturn_as\u001b[0m \u001b[1;33m==\u001b[0m \u001b[1;34m\"html\"\u001b[0m\u001b[1;33m:\u001b[0m\u001b[1;33m\u001b[0m\u001b[1;33m\u001b[0m\u001b[0m\n\u001b[0;32m    231\u001b[0m             \u001b[1;32mreturn\u001b[0m \u001b[0mHTML\u001b[0m\u001b[1;33m(\u001b[0m\u001b[1;34mf'<a href=\"{url}\">{link_text}</a>'\u001b[0m\u001b[1;33m)\u001b[0m\u001b[1;33m\u001b[0m\u001b[1;33m\u001b[0m\u001b[0m\n",
      "\u001b[1;32m~\\anaconda3\\envs\\EM\\lib\\site-packages\\nglui\\statebuilder\\helpers.py\u001b[0m in \u001b[0;36mmake_url_robust\u001b[1;34m(df, sb, client, shorten, ngl_url)\u001b[0m\n\u001b[0;32m    212\u001b[0m             \u001b[0murl\u001b[0m \u001b[1;33m=\u001b[0m \u001b[0mmake_state_url\u001b[0m\u001b[1;33m(\u001b[0m\u001b[0mdf\u001b[0m\u001b[1;33m,\u001b[0m \u001b[0msb\u001b[0m\u001b[1;33m,\u001b[0m \u001b[0mclient\u001b[0m\u001b[1;33m,\u001b[0m \u001b[0mngl_url\u001b[0m\u001b[1;33m=\u001b[0m\u001b[0mngl_url\u001b[0m\u001b[1;33m)\u001b[0m\u001b[1;33m\u001b[0m\u001b[1;33m\u001b[0m\u001b[0m\n\u001b[0;32m    213\u001b[0m     \u001b[1;32melif\u001b[0m \u001b[0mshorten\u001b[0m \u001b[1;33m==\u001b[0m \u001b[1;34m\"always\"\u001b[0m\u001b[1;33m:\u001b[0m\u001b[1;33m\u001b[0m\u001b[1;33m\u001b[0m\u001b[0m\n\u001b[1;32m--> 214\u001b[1;33m         \u001b[0murl\u001b[0m \u001b[1;33m=\u001b[0m \u001b[0mmake_state_url\u001b[0m\u001b[1;33m(\u001b[0m\u001b[0mdf\u001b[0m\u001b[1;33m,\u001b[0m \u001b[0msb\u001b[0m\u001b[1;33m,\u001b[0m \u001b[0mclient\u001b[0m\u001b[1;33m)\u001b[0m\u001b[1;33m\u001b[0m\u001b[1;33m\u001b[0m\u001b[0m\n\u001b[0m\u001b[0;32m    215\u001b[0m     \u001b[1;32melif\u001b[0m \u001b[0mshorten\u001b[0m \u001b[1;33m==\u001b[0m \u001b[1;34m\"never\"\u001b[0m\u001b[1;33m:\u001b[0m\u001b[1;33m\u001b[0m\u001b[1;33m\u001b[0m\u001b[0m\n\u001b[0;32m    216\u001b[0m         \u001b[0murl\u001b[0m \u001b[1;33m=\u001b[0m \u001b[0msb\u001b[0m\u001b[1;33m.\u001b[0m\u001b[0mrender_state\u001b[0m\u001b[1;33m(\u001b[0m\u001b[0mdf\u001b[0m\u001b[1;33m,\u001b[0m \u001b[0mreturn_as\u001b[0m\u001b[1;33m=\u001b[0m\u001b[1;34m\"url\"\u001b[0m\u001b[1;33m,\u001b[0m \u001b[0murl_prefix\u001b[0m\u001b[1;33m=\u001b[0m\u001b[0mngl_url\u001b[0m\u001b[1;33m)\u001b[0m\u001b[1;33m\u001b[0m\u001b[1;33m\u001b[0m\u001b[0m\n",
      "\u001b[1;32m~\\anaconda3\\envs\\EM\\lib\\site-packages\\nglui\\statebuilder\\helpers.py\u001b[0m in \u001b[0;36mmake_state_url\u001b[1;34m(df, sb, client, ngl_url)\u001b[0m\n\u001b[0;32m    196\u001b[0m \u001b[1;32mdef\u001b[0m \u001b[0mmake_state_url\u001b[0m\u001b[1;33m(\u001b[0m\u001b[0mdf\u001b[0m\u001b[1;33m,\u001b[0m \u001b[0msb\u001b[0m\u001b[1;33m,\u001b[0m \u001b[0mclient\u001b[0m\u001b[1;33m,\u001b[0m \u001b[0mngl_url\u001b[0m\u001b[1;33m=\u001b[0m\u001b[1;32mNone\u001b[0m\u001b[1;33m)\u001b[0m\u001b[1;33m:\u001b[0m\u001b[1;33m\u001b[0m\u001b[1;33m\u001b[0m\u001b[0m\n\u001b[0;32m    197\u001b[0m     \u001b[0mstate\u001b[0m \u001b[1;33m=\u001b[0m \u001b[0msb\u001b[0m\u001b[1;33m.\u001b[0m\u001b[0mrender_state\u001b[0m\u001b[1;33m(\u001b[0m\u001b[0mdf\u001b[0m\u001b[1;33m,\u001b[0m \u001b[0mreturn_as\u001b[0m\u001b[1;33m=\u001b[0m\u001b[1;34m\"dict\"\u001b[0m\u001b[1;33m)\u001b[0m\u001b[1;33m\u001b[0m\u001b[1;33m\u001b[0m\u001b[0m\n\u001b[1;32m--> 198\u001b[1;33m     \u001b[0mstate_id\u001b[0m \u001b[1;33m=\u001b[0m \u001b[0mclient\u001b[0m\u001b[1;33m.\u001b[0m\u001b[0mstate\u001b[0m\u001b[1;33m.\u001b[0m\u001b[0mupload_state_json\u001b[0m\u001b[1;33m(\u001b[0m\u001b[0mstate\u001b[0m\u001b[1;33m)\u001b[0m\u001b[1;33m\u001b[0m\u001b[1;33m\u001b[0m\u001b[0m\n\u001b[0m\u001b[0;32m    199\u001b[0m     \u001b[1;32mif\u001b[0m \u001b[0mngl_url\u001b[0m \u001b[1;32mis\u001b[0m \u001b[1;32mNone\u001b[0m\u001b[1;33m:\u001b[0m\u001b[1;33m\u001b[0m\u001b[1;33m\u001b[0m\u001b[0m\n\u001b[0;32m    200\u001b[0m         \u001b[0mngl_url\u001b[0m \u001b[1;33m=\u001b[0m \u001b[0mclient\u001b[0m\u001b[1;33m.\u001b[0m\u001b[0minfo\u001b[0m\u001b[1;33m.\u001b[0m\u001b[0mviewer_site\u001b[0m\u001b[1;33m(\u001b[0m\u001b[1;33m)\u001b[0m\u001b[1;33m\u001b[0m\u001b[1;33m\u001b[0m\u001b[0m\n",
      "\u001b[1;32m~\\anaconda3\\envs\\EM\\lib\\site-packages\\caveclient\\jsonservice.py\u001b[0m in \u001b[0;36mupload_state_json\u001b[1;34m(self, json_state, state_id, timestamp)\u001b[0m\n\u001b[0;32m    166\u001b[0m \u001b[1;33m\u001b[0m\u001b[0m\n\u001b[0;32m    167\u001b[0m         \u001b[0mresponse\u001b[0m \u001b[1;33m=\u001b[0m \u001b[0mself\u001b[0m\u001b[1;33m.\u001b[0m\u001b[0msession\u001b[0m\u001b[1;33m.\u001b[0m\u001b[0mpost\u001b[0m\u001b[1;33m(\u001b[0m\u001b[0murl\u001b[0m\u001b[1;33m,\u001b[0m \u001b[0mdata\u001b[0m\u001b[1;33m=\u001b[0m\u001b[0mjson\u001b[0m\u001b[1;33m.\u001b[0m\u001b[0mdumps\u001b[0m\u001b[1;33m(\u001b[0m\u001b[0mjson_state\u001b[0m\u001b[1;33m)\u001b[0m\u001b[1;33m)\u001b[0m\u001b[1;33m\u001b[0m\u001b[1;33m\u001b[0m\u001b[0m\n\u001b[1;32m--> 168\u001b[1;33m         \u001b[0mhandle_response\u001b[0m\u001b[1;33m(\u001b[0m\u001b[0mresponse\u001b[0m\u001b[1;33m,\u001b[0m \u001b[0mas_json\u001b[0m\u001b[1;33m=\u001b[0m\u001b[1;32mFalse\u001b[0m\u001b[1;33m)\u001b[0m\u001b[1;33m\u001b[0m\u001b[1;33m\u001b[0m\u001b[0m\n\u001b[0m\u001b[0;32m    169\u001b[0m         \u001b[0mresponse_re\u001b[0m \u001b[1;33m=\u001b[0m \u001b[0mre\u001b[0m\u001b[1;33m.\u001b[0m\u001b[0msearch\u001b[0m\u001b[1;33m(\u001b[0m\u001b[1;34m\".*\\/(\\d+)\"\u001b[0m\u001b[1;33m,\u001b[0m \u001b[0mstr\u001b[0m\u001b[1;33m(\u001b[0m\u001b[0mresponse\u001b[0m\u001b[1;33m.\u001b[0m\u001b[0mcontent\u001b[0m\u001b[1;33m)\u001b[0m\u001b[1;33m)\u001b[0m\u001b[1;33m\u001b[0m\u001b[1;33m\u001b[0m\u001b[0m\n\u001b[0;32m    170\u001b[0m         \u001b[1;32mreturn\u001b[0m \u001b[0mint\u001b[0m\u001b[1;33m(\u001b[0m\u001b[0mresponse_re\u001b[0m\u001b[1;33m.\u001b[0m\u001b[0mgroups\u001b[0m\u001b[1;33m(\u001b[0m\u001b[1;33m)\u001b[0m\u001b[1;33m[\u001b[0m\u001b[1;36m0\u001b[0m\u001b[1;33m]\u001b[0m\u001b[1;33m)\u001b[0m\u001b[1;33m\u001b[0m\u001b[1;33m\u001b[0m\u001b[0m\n",
      "\u001b[1;32m~\\anaconda3\\envs\\EM\\lib\\site-packages\\caveclient\\base.py\u001b[0m in \u001b[0;36mhandle_response\u001b[1;34m(response, as_json)\u001b[0m\n\u001b[0;32m     75\u001b[0m \u001b[1;32mdef\u001b[0m \u001b[0mhandle_response\u001b[0m\u001b[1;33m(\u001b[0m\u001b[0mresponse\u001b[0m\u001b[1;33m,\u001b[0m \u001b[0mas_json\u001b[0m\u001b[1;33m=\u001b[0m\u001b[1;32mTrue\u001b[0m\u001b[1;33m)\u001b[0m\u001b[1;33m:\u001b[0m\u001b[1;33m\u001b[0m\u001b[1;33m\u001b[0m\u001b[0m\n\u001b[0;32m     76\u001b[0m     \u001b[1;34m\"\"\"Deal with potential errors in endpoint response and return json for default case\"\"\"\u001b[0m\u001b[1;33m\u001b[0m\u001b[1;33m\u001b[0m\u001b[0m\n\u001b[1;32m---> 77\u001b[1;33m     \u001b[0m_raise_for_status\u001b[0m\u001b[1;33m(\u001b[0m\u001b[0mresponse\u001b[0m\u001b[1;33m)\u001b[0m\u001b[1;33m\u001b[0m\u001b[1;33m\u001b[0m\u001b[0m\n\u001b[0m\u001b[0;32m     78\u001b[0m     \u001b[0m_check_authorization_redirect\u001b[0m\u001b[1;33m(\u001b[0m\u001b[0mresponse\u001b[0m\u001b[1;33m)\u001b[0m\u001b[1;33m\u001b[0m\u001b[1;33m\u001b[0m\u001b[0m\n\u001b[0;32m     79\u001b[0m     \u001b[1;32mif\u001b[0m \u001b[0mas_json\u001b[0m\u001b[1;33m:\u001b[0m\u001b[1;33m\u001b[0m\u001b[1;33m\u001b[0m\u001b[0m\n",
      "\u001b[1;32m~\\anaconda3\\envs\\EM\\lib\\site-packages\\caveclient\\base.py\u001b[0m in \u001b[0;36m_raise_for_status\u001b[1;34m(r)\u001b[0m\n\u001b[0;32m     67\u001b[0m \u001b[1;33m\u001b[0m\u001b[0m\n\u001b[0;32m     68\u001b[0m     \u001b[1;32mif\u001b[0m \u001b[0mhttp_error_msg\u001b[0m\u001b[1;33m:\u001b[0m\u001b[1;33m\u001b[0m\u001b[1;33m\u001b[0m\u001b[0m\n\u001b[1;32m---> 69\u001b[1;33m         \u001b[1;32mraise\u001b[0m \u001b[0mrequests\u001b[0m\u001b[1;33m.\u001b[0m\u001b[0mHTTPError\u001b[0m\u001b[1;33m(\u001b[0m\u001b[0mhttp_error_msg\u001b[0m\u001b[1;33m,\u001b[0m \u001b[0mresponse\u001b[0m\u001b[1;33m=\u001b[0m\u001b[0mr\u001b[0m\u001b[1;33m)\u001b[0m\u001b[1;33m\u001b[0m\u001b[1;33m\u001b[0m\u001b[0m\n\u001b[0m\u001b[0;32m     70\u001b[0m     \u001b[0mwarning\u001b[0m \u001b[1;33m=\u001b[0m \u001b[0mr\u001b[0m\u001b[1;33m.\u001b[0m\u001b[0mheaders\u001b[0m\u001b[1;33m.\u001b[0m\u001b[0mget\u001b[0m\u001b[1;33m(\u001b[0m\u001b[1;34m\"Warning\"\u001b[0m\u001b[1;33m)\u001b[0m\u001b[1;33m\u001b[0m\u001b[1;33m\u001b[0m\u001b[0m\n\u001b[0;32m     71\u001b[0m     \u001b[1;32mif\u001b[0m \u001b[0mwarning\u001b[0m\u001b[1;33m:\u001b[0m\u001b[1;33m\u001b[0m\u001b[1;33m\u001b[0m\u001b[0m\n",
      "\u001b[1;31mHTTPError\u001b[0m: 413 Client Error: Request Entity Too Large for url: https://global.daf-apis.com/nglstate/api/v1/post content: b'<html>\\r\\n<head><title>413 Request Entity Too Large</title></head>\\r\\n<body>\\r\\n<center><h1>413 Request Entity Too Large</h1></center>\\r\\n<hr><center>nginx</center>\\r\\n</body>\\r\\n</html>\\r\\n'"
     ]
    }
   ],
   "source": [
    "# Important to fetch synapses from live materialization (mat = \"live\")\n",
    "pre_synapses = flywire.synapses.fetch_synapses(new_segmentsIDs_ls, pre=True, post=False, attach=True,\n",
    "                                          min_score=50, clean=True, transmitters=False,\n",
    "                                          neuropils=True, batch_size=30,\n",
    "                                          dataset='production', progress=True,mat=\"live\")\n",
    "\n",
    "#Combining x,y,z columns for future purposes\n",
    "combine_xyz(pre_synapses)\n",
    "\n",
    "url = make_synapse_neuroglancer_link(pre_synapses, client, point_column='pre_pt_position')\n",
    "display(url)"
   ]
  },
  {
   "cell_type": "code",
   "execution_count": 49,
   "id": "7f2d6c52",
   "metadata": {},
   "outputs": [
    {
     "data": {
      "text/html": [
       "<a href=\"https://ngl.flywire.ai/?json_url=https://global.daf-apis.com/nglstate/api/v1/5876456978644992\">Neuroglancer Link</a>"
      ],
      "text/plain": [
       "<IPython.core.display.HTML object>"
      ]
     },
     "metadata": {},
     "output_type": "display_data"
    }
   ],
   "source": [
    "# Important to fetch synapses from live materialization (mat = \"auto\")\n",
    "post_synapses = flywire.synapses.fetch_synapses(new_segmentsIDs_ls, pre=False, post=True, attach=True, \n",
    "                                         min_score=50, clean=True, transmitters=False, \n",
    "                                         neuropils=True, batch_size=30,\n",
    "                                         dataset='production', progress=True,mat=\"live\")\n",
    "\n",
    "#Combining x,y,z columns for future purposes\n",
    "combine_xyz(post_synapses)\n",
    "\n",
    "url = make_synapse_neuroglancer_link(post_synapses, client, point_column='post_pt_position')\n",
    "display(url)"
   ]
  },
  {
   "cell_type": "markdown",
   "id": "1286bcea",
   "metadata": {},
   "source": [
    "### -- Temporary pieces of code --"
   ]
  },
  {
   "cell_type": "code",
   "execution_count": null,
   "id": "dff4bd25",
   "metadata": {},
   "outputs": [],
   "source": [
    "# Fetch the neuron's inputs and ouputs\n",
    "# Carefull, only fetching synapses among the provided IDs!!!\n",
    "inputs = flywire.synapses.fetch_synapses(new_segmentsIDs_ls, pre=False, post=True, attach=True, \n",
    "                                         min_score=50, clean=True, transmitters=False, \n",
    "                                         neuropils=True, batch_size=30,\n",
    "                                         dataset='production', progress=True)\n",
    "outputs = flywire.synapses.fetch_synapses(new_segmentsIDs_ls, pre=True, post=False, attach=True,\n",
    "                                          min_score=50, clean=True, transmitters=False,\n",
    "                                          neuropils=True, batch_size=30,\n",
    "                                          dataset='production', progress=True)"
   ]
  },
  {
   "cell_type": "code",
   "execution_count": null,
   "id": "76327c56",
   "metadata": {},
   "outputs": [],
   "source": [
    "# Making URLs for neuroglancer\n",
    "combine_xyz(inputs) # corrects dataframe for make_synapse_neuroglancer_link\n",
    "combine_xyz(outputs)# corrects dataframe for make_synapse_neuroglancer_link\n",
    "inputs_url = make_synapse_neuroglancer_link(inputs, client, point_column='post_pt_position')\n",
    "outputs_url = make_synapse_neuroglancer_link(outputs, client, point_column='pre_pt_position')\n",
    "print('Inputs URL:')\n",
    "display(inputs_url)\n",
    "print('Outputs URL:')\n",
    "display(outputs_url)"
   ]
  },
  {
   "cell_type": "code",
   "execution_count": null,
   "id": "04d9eaac",
   "metadata": {},
   "outputs": [],
   "source": [
    "# Separate x,y,z in diferent columns\n",
    "separate_xyz(pre_synapses)\n",
    "separate_xyz(post_synapses)"
   ]
  },
  {
   "cell_type": "markdown",
   "id": "65aa1d07",
   "metadata": {},
   "source": [
    "### 3. Clustering of  synaptic sites"
   ]
  },
  {
   "cell_type": "code",
   "execution_count": null,
   "id": "a515b434",
   "metadata": {},
   "outputs": [],
   "source": [
    "import numpy as np\n",
    "import matplotlib.pyplot as plt\n",
    "from mpl_toolkits.mplot3d import Axes3D\n",
    "from sklearn.cluster import DBSCAN\n",
    "from sklearn.cluster import KMeans\n",
    "import colorcet as cc\n"
   ]
  },
  {
   "cell_type": "code",
   "execution_count": 27,
   "id": "fcb33eb2",
   "metadata": {},
   "outputs": [],
   "source": [
    "# Choose data\n",
    "data = np.array(pre_synapses['pre_pt_position'].tolist())"
   ]
  },
  {
   "cell_type": "code",
   "execution_count": 266,
   "id": "7fe84e35",
   "metadata": {},
   "outputs": [
    {
     "name": "stdout",
     "output_type": "stream",
     "text": [
      "number of clusters expected: 21\n",
      "number of clusters found: 29\n",
      "cluster for each point:  [ 0  0  3 ...  2 27 10]\n"
     ]
    },
    {
     "name": "stderr",
     "output_type": "stream",
     "text": [
      "C:\\Users\\sebas\\anaconda3\\envs\\EM\\lib\\site-packages\\ipykernel_launcher.py:6: MatplotlibDeprecationWarning: Axes3D(fig) adding itself to the figure is deprecated since 3.4. Pass the keyword argument auto_add_to_figure=False and use fig.add_axes(ax) to suppress this warning. The default value of auto_add_to_figure will change to False in mpl3.5 and True values will no longer work in 3.6.  This is consistent with other Axes classes.\n",
      "  \n",
      "C:\\Users\\sebas\\anaconda3\\envs\\EM\\lib\\site-packages\\ipykernel_launcher.py:18: MatplotlibDeprecationWarning: Axes3D(fig) adding itself to the figure is deprecated since 3.4. Pass the keyword argument auto_add_to_figure=False and use fig.add_axes(ax) to suppress this warning. The default value of auto_add_to_figure will change to False in mpl3.5 and True values will no longer work in 3.6.  This is consistent with other Axes classes.\n"
     ]
    }
   ],
   "source": [
    "# CLustering of 3D data point\n",
    "%matplotlib qt\n",
    "#%matplotlib inline\n",
    "\n",
    "fig = plt.figure()\n",
    "ax = Axes3D(fig)\n",
    "ax.scatter(data[:,0], data[:,1], data[:,2], s=40)\n",
    "ax.view_init(azim=30,elev=50)\n",
    "plt.show()\n",
    "\n",
    "\n",
    "model = KMeans(n_clusters = 21, init = \"k-means++\", max_iter = 300, n_init = 10, random_state = 0)\n",
    "model = DBSCAN(eps=400, min_samples=22)\n",
    "#model.fit_predict(data)\n",
    "pred = model.fit_predict(data)\n",
    "\n",
    "fig = plt.figure()\n",
    "ax = Axes3D(fig)\n",
    "my_cmap = sns.color_palette(\"magma\", as_cmap=True) \n",
    "ax.scatter(data[:,0], data[:,1], data[:,2], c=model.labels_*10, s=40,cmap=my_cmap)\n",
    "ax.view_init(azim=30,elev=50)\n",
    "plt.show()\n",
    "\n",
    "print(\"number of clusters expected: {}\".format(len(pre_synapses['pre_pt_root_id'].unique())))\n",
    "print(\"number of clusters found: {}\".format(len(set(model.labels_))))\n",
    "print('cluster for each point: ', model.labels_)"
   ]
  },
  {
   "cell_type": "code",
   "execution_count": 274,
   "id": "c5ceb90e",
   "metadata": {},
   "outputs": [
    {
     "data": {
      "text/plain": [
       "Text(0, 0.5, 'count')"
      ]
     },
     "execution_count": 274,
     "metadata": {},
     "output_type": "execute_result"
    },
    {
     "data": {
      "image/png": "[encoded data removed]",
      "text/plain": [
       "<Figure size 720x216 with 2 Axes>"
      ]
     },
     "metadata": {},
     "output_type": "display_data"
    }
   ],
   "source": [
    "%matplotlib inline\n",
    "\n",
    "segment_counts = np.array(synapse_count_updated_save['pre'].tolist())\n",
    "labels, counts = np.unique(model.labels_,return_counts=True)\n",
    "\n",
    "\n",
    "fig, ax = plt.subplots(nrows=1, ncols=2,figsize=(10, 3), facecolor='k', edgecolor='k')\n",
    "\n",
    "\n",
    "#plt.hist(model.labels_, bins = 100)\n",
    "ax[0].bar(list(range(0,len(segment_counts))),np.sort(segment_counts))\n",
    "ax[1].bar(labels,np.sort(counts))\n",
    "\n",
    "ax[0].set_title('Original', color = 'w')\n",
    "ax[1].set_title('Clusters', color = 'w')\n",
    "\n",
    "# This will add label to X-axis\n",
    "ax[0].set_ylabel(\"count\")\n",
    "ax[1].set_ylabel(\"count\")"
   ]
  },
  {
   "cell_type": "code",
   "execution_count": 255,
   "id": "a96c9fc3",
   "metadata": {},
   "outputs": [
    {
     "data": {
      "text/plain": [
       "array([ 86, 107,  59,  79,  58,  32,  53,  86,  82,  75,  96,  98, 109,\n",
       "        65,  98,  92,  74,  37,  91,  51,  65])"
      ]
     },
     "execution_count": 255,
     "metadata": {},
     "output_type": "execute_result"
    }
   ],
   "source": []
  },
  {
   "cell_type": "code",
   "execution_count": 263,
   "id": "c99fff9c",
   "metadata": {},
   "outputs": [
    {
     "data": {
      "text/plain": [
       "<AxesSubplot:ylabel='count'>"
      ]
     },
     "execution_count": 263,
     "metadata": {},
     "output_type": "execute_result"
    },
    {
     "data": {
      "image/png": "[encoded data removed]",
      "text/plain": [
       "<Figure size 432x288 with 1 Axes>"
      ]
     },
     "metadata": {},
     "output_type": "display_data"
    }
   ],
   "source": [
    "# Setting custmized seaborn style\n",
    "\n",
    "#Black backgroung plots\n",
    "sns.set(rc={'axes.facecolor':'k', 'figure.facecolor':'k','axes.grid' : False,'xtick.color': 'w',\n",
    "     'ytick.color': 'w','axes.labelcolor': 'w','xtick.bottom': True})\n",
    "\n",
    "\n",
    "sns.countplot(pred,  palette = \"magma\")"
   ]
  },
  {
   "cell_type": "code",
   "execution_count": 191,
   "id": "ec564150",
   "metadata": {},
   "outputs": [
    {
     "name": "stderr",
     "output_type": "stream",
     "text": [
      "C:\\Users\\sebas\\anaconda3\\envs\\EM\\lib\\site-packages\\ipykernel_launcher.py:10: MatplotlibDeprecationWarning: Axes3D(fig) adding itself to the figure is deprecated since 3.4. Pass the keyword argument auto_add_to_figure=False and use fig.add_axes(ax) to suppress this warning. The default value of auto_add_to_figure will change to False in mpl3.5 and True values will no longer work in 3.6.  This is consistent with other Axes classes.\n",
      "  # Remove the CWD from sys.path while we load stuff.\n"
     ]
    }
   ],
   "source": [
    "# Replotting individual clusters\n",
    "cluster_idx = np.where(model.labels_ == 1)\n",
    "#print(len(cluster_idx[0]))\n",
    "cluster = data[cluster_idx]\n",
    "#print(len(cluster))\n",
    "\n",
    "%matplotlib qt\n",
    "#%matplotlib inline\n",
    "fig = plt.figure()\n",
    "ax = Axes3D(fig)\n",
    "\n",
    "ax.scatter(data[:,0], data[:,1], data[:,2], alpha =0.1,  s=20, color = \"w\") # ALl data\n",
    "ax.scatter(cluster[:,0], cluster[:,1], cluster[:,2], alpha =1, s=40, color = \"k\") # Cluster data\n",
    "\n",
    "\n",
    "\n",
    "ax.view_init(azim=30,elev=50)\n",
    "\n",
    "plt.show()"
   ]
  },
  {
   "cell_type": "markdown",
   "id": "8682a27d",
   "metadata": {},
   "source": [
    "## B) Displaying pre or postsynaptic sites between two segment IDs"
   ]
  },
  {
   "cell_type": "markdown",
   "id": "64774f5c",
   "metadata": {},
   "source": [
    "### 1. Input two segments IDs manually selected:"
   ]
  },
  {
   "cell_type": "code",
   "execution_count": null,
   "id": "5e5d4e39",
   "metadata": {},
   "outputs": [],
   "source": [
    "import numpy as np\n",
    "from caveclient import CAVEclient\n",
    "from nglui.statebuilder.helpers import make_synapse_neuroglancer_link\n",
    "from FANC_synaptic_links import to_ng_annotations, downscale"
   ]
  },
  {
   "cell_type": "code",
   "execution_count": null,
   "id": "b2f4bd54",
   "metadata": {},
   "outputs": [],
   "source": [
    "client = CAVEclient('flywire_fafb_production')"
   ]
  },
  {
   "cell_type": "code",
   "execution_count": null,
   "id": "a7ffb491",
   "metadata": {},
   "outputs": [],
   "source": [
    "#Defaul values\n",
    "top_left = np.array([65995, 84864, 5400])*[4,4,40]  # [65995, 84864, 5400], [158278, 71889, 2189]\n",
    "bottom_right = np.array([69399, 86757, 5478])*[4,4,40]  # [69399, 86757, 5478], [171350, 73983, 2237]\n",
    "defaul_pre_id = 720575940659388801 # L3\n",
    "defaul_post_id = 720575940626482442 # Tm9\n"
   ]
  },
  {
   "cell_type": "code",
   "execution_count": null,
   "id": "405d0d9e",
   "metadata": {},
   "outputs": [],
   "source": [
    "synapses = client.materialize.synapse_query(\n",
    "    bounding_box=[top_left, bottom_right],\n",
    "    bounding_box_column='pre_pt_position')\n",
    "\n",
    "# OR\n",
    "\n",
    "synapses = client.materialize.synapse_query(\n",
    "        pre_ids = int(defaul_pre_id), post_ids = int(defaul_post_id),\n",
    "        bounding_box_column='pre_pt_position'\n",
    "        )"
   ]
  },
  {
   "cell_type": "code",
   "execution_count": null,
   "id": "f4e7cd0e",
   "metadata": {},
   "outputs": [],
   "source": [
    "url = make_synapse_neuroglancer_link(synapses, client, point_column='pre_pt_position')"
   ]
  },
  {
   "cell_type": "code",
   "execution_count": null,
   "id": "b26c8a32",
   "metadata": {},
   "outputs": [],
   "source": [
    "display(url)"
   ]
  },
  {
   "cell_type": "markdown",
   "id": "28896e37",
   "metadata": {},
   "source": [
    "### 1. Or, load segment IDs from a google drive file (currently under development):"
   ]
  },
  {
   "cell_type": "markdown",
   "id": "16329503",
   "metadata": {},
   "source": [
    "A quickstar to access Google Workspace API here: https://developers.google.com/sheets/api/quickstart/python#step_3_set_up_the_sample"
   ]
  },
  {
   "cell_type": "code",
   "execution_count": null,
   "id": "54c796fe",
   "metadata": {},
   "outputs": [],
   "source": [
    "#Load file\n",
    "#Option 1: currently not working\n",
    "\n",
    "import pandas as pd\n",
    "from googleapiclient.discovery import build\n",
    "from google_auth_oauthlib.flow import InstalledAppFlow,Flow\n",
    "from google.auth.transport.requests import Request\n",
    "import os\n",
    "import pickle\n",
    "\n",
    "SCOPES = ['https://www.googleapis.com/auth/spreadsheets']\n",
    "#GET https://sheets.googleapis.com/v4/spreadsheets/{spreadsheetId}/values/{range}\n",
    "\n",
    "# here enter the id of your google sheet\n",
    "SAMPLE_SPREADSHEET_ID_input = '1qpe8WBx07Tcza_-cLjYx1HLx1IMKoFjL'\n",
    "SAMPLE_RANGE_NAME = 'A1:AA1000'\n",
    "\n",
    "def main():\n",
    "    global values_input, service\n",
    "    creds = None\n",
    "    if os.path.exists('token.pickle'):\n",
    "        with open('token.pickle', 'rb') as token:\n",
    "            creds = pickle.load(token)\n",
    "    if not creds or not creds.valid:\n",
    "        if creds and creds.expired and creds.refresh_token:\n",
    "            creds.refresh(Request())\n",
    "        else:\n",
    "            flow = InstalledAppFlow.from_client_secrets_file(\n",
    "                'credentials.json', SCOPES) # here enter the name of your downloaded JSON file\n",
    "            creds = flow.run_local_server(port=0)\n",
    "        with open('token.pickle', 'wb') as token:\n",
    "            pickle.dump(creds, token)\n",
    "\n",
    "    service = build('sheets', 'v4', credentials=creds)\n",
    "\n",
    "    # Call the Sheets API\n",
    "    sheet = service.spreadsheets()\n",
    "    result_input = sheet.values().get(spreadsheetId=SAMPLE_SPREADSHEET_ID_input,\n",
    "                                range=SAMPLE_RANGE_NAME).execute()\n",
    "    values_input = result_input.get('values', [])\n",
    "\n",
    "    if not values_input and not values_expansion:\n",
    "        print('No data found.')\n",
    "\n",
    "main()\n",
    "\n",
    "df=pd.DataFrame(values_input)\n",
    "\n"
   ]
  },
  {
   "cell_type": "code",
   "execution_count": null,
   "id": "204f6257",
   "metadata": {},
   "outputs": [],
   "source": [
    "# Load file\n",
    "#Option 2: currently not working\n",
    "\"\"\"\n",
    "BEFORE RUNNING:\n",
    "---------------\n",
    "1. If not already done, enable the Google Sheets API\n",
    "   and check the quota for your project at\n",
    "   https://console.developers.google.com/apis/api/sheets\n",
    "2. Install the Python client library for Google APIs by running\n",
    "   `pip install --upgrade google-api-python-client`\n",
    "\"\"\"\n",
    "from pprint import pprint\n",
    "\n",
    "from googleapiclient import discovery\n",
    "from google_auth_oauthlib.flow import InstalledAppFlow,Flow\n",
    "from google.auth.transport.requests import Request\n",
    "import os\n",
    "import pickle\n",
    "\n",
    "# TODO: Change placeholder below to generate authentication credentials. See\n",
    "# https://developers.google.com/sheets/quickstart/python#step_3_set_up_the_sample\n",
    "#\n",
    "# Authorize using one of the following scopes:\n",
    "#     'https://www.googleapis.com/auth/drive'\n",
    "#     'https://www.googleapis.com/auth/drive.file'\n",
    "#     'https://www.googleapis.com/auth/drive.readonly'\n",
    "#     'https://www.googleapis.com/auth/spreadsheets'\n",
    "#     'https://www.googleapis.com/auth/spreadsheets.readonly'\n",
    "\n",
    "creds = None\n",
    "if os.path.exists('token.pickle'):\n",
    "    with open('token.pickle', 'rb') as token:\n",
    "        creds = pickle.load(token)\n",
    "if not creds or not creds.valid:\n",
    "    if creds and creds.expired and creds.refresh_token:\n",
    "        creds.refresh(Request())\n",
    "    else:\n",
    "        flow = InstalledAppFlow.from_client_secrets_file(\n",
    "            'credentials.json', SCOPES) # here enter the name of your downloaded JSON file\n",
    "        creds = flow.run_local_server(port=0)\n",
    "    with open('token.pickle', 'wb') as token:\n",
    "        pickle.dump(creds, token)\n",
    "\n",
    "service = discovery.build('sheets', 'v4', credentials=creds)\n",
    "\n",
    "# The ID of the spreadsheet to retrieve data from.\n",
    "spreadsheet_id = '1qpe8WBx07Tcza_-cLjYx1HLx1IMKoFjL'  # TODO: Update placeholder value.\n",
    "\n",
    "# The A1 notation of the values to retrieve.\n",
    "range_ = 'A1:AA1000'  # TODO: Update placeholder value.\n",
    "\n",
    "# How values should be represented in the output.\n",
    "# The default render option is ValueRenderOption.FORMATTED_VALUE.\n",
    "value_render_option = 'FORMATTED_VALUE'  # TODO: Update placeholder value.\n",
    "\n",
    "# How dates, times, and durations should be represented in the output.\n",
    "# This is ignored if value_render_option is\n",
    "# FORMATTED_VALUE.\n",
    "# The default dateTime render option is [DateTimeRenderOption.SERIAL_NUMBER].\n",
    "date_time_render_option = 'SERIAL_NUMBER'  # TODO: Update placeholder value.\n",
    "\n",
    "request = service.spreadsheets().values().get(spreadsheetId=spreadsheet_id, range=range_, valueRenderOption=value_render_option, dateTimeRenderOption=date_time_render_option)\n",
    "response = request.execute()\n",
    "\n",
    "# TODO: Change code below to process the `response` dict:\n",
    "pprint(response)"
   ]
  },
  {
   "cell_type": "markdown",
   "id": "eeba8ec2",
   "metadata": {},
   "source": [
    "### 1. Or, load segment IDs from an excel file:"
   ]
  },
  {
   "cell_type": "code",
   "execution_count": 8,
   "id": "6725fd5c",
   "metadata": {},
   "outputs": [],
   "source": [
    "# Choose path and file\n",
    "import os\n",
    "\n",
    "dataPath = r'C:\\Users\\sebas\\Documents\\connectomics-data\\FlyWire\\Excels'\n",
    "fileName = 'All_Tm9_neurons_input_count_ME_R_20221206.xlsx'\n",
    "filePath = os.path.join(dataPath,fileName)"
   ]
  },
  {
   "cell_type": "code",
   "execution_count": 9,
   "id": "9f42c371",
   "metadata": {},
   "outputs": [
    {
     "data": {
      "text/html": [
       "<div>\n",
       "<style scoped>\n",
       "    .dataframe tbody tr th:only-of-type {\n",
       "        vertical-align: middle;\n",
       "    }\n",
       "\n",
       "    .dataframe tbody tr th {\n",
       "        vertical-align: top;\n",
       "    }\n",
       "\n",
       "    .dataframe thead th {\n",
       "        text-align: right;\n",
       "    }\n",
       "</style>\n",
       "<table border=\"1\" class=\"dataframe\">\n",
       "  <thead>\n",
       "    <tr style=\"text-align: right;\">\n",
       "      <th></th>\n",
       "      <th>presynaptic_ID</th>\n",
       "      <th>Updated_pre_IDs (will replace the column on the left)</th>\n",
       "      <th>counts</th>\n",
       "      <th>count %</th>\n",
       "      <th>postsynaptic_ID</th>\n",
       "      <th>Comments about synapses proofreading (e.g., false negatíve found)</th>\n",
       "      <th>URL buhmann postsynapses (annotate only as: true, false or false negative)</th>\n",
       "      <th>Synapses proofread (Y/N)</th>\n",
       "      <th>XYZ soma</th>\n",
       "      <th>XYZ</th>\n",
       "      <th>...</th>\n",
       "      <th>seg_id</th>\n",
       "      <th>twigs proofread (Y/N)</th>\n",
       "      <th>FlyWire proofread (Y/N)</th>\n",
       "      <th>identified_in</th>\n",
       "      <th>lab authorship (Y/N)</th>\n",
       "      <th>notes</th>\n",
       "      <th>annotations_link</th>\n",
       "      <th>Extra notes as comments (initials)</th>\n",
       "      <th>Working on</th>\n",
       "      <th>Unnamed: 28</th>\n",
       "    </tr>\n",
       "  </thead>\n",
       "  <tbody>\n",
       "    <tr>\n",
       "      <th>0</th>\n",
       "      <td>720575940659388801</td>\n",
       "      <td>NaN</td>\n",
       "      <td>38.0</td>\n",
       "      <td>27.536232</td>\n",
       "      <td>720575940629938298</td>\n",
       "      <td>false negative found</td>\n",
       "      <td>https://ngl.flywire.ai/?json_url=https://globa...</td>\n",
       "      <td>Y</td>\n",
       "      <td>no soma</td>\n",
       "      <td>61065, 87199, 4730</td>\n",
       "      <td>...</td>\n",
       "      <td>720575940659388801</td>\n",
       "      <td>Y</td>\n",
       "      <td>Y</td>\n",
       "      <td>Fischbach &amp; Dittrich, 1989</td>\n",
       "      <td>Y</td>\n",
       "      <td>NaN</td>\n",
       "      <td>https://ngl.flywire.ai/?json_url=https://globa...</td>\n",
       "      <td>done</td>\n",
       "      <td>NaN</td>\n",
       "      <td>NaN</td>\n",
       "    </tr>\n",
       "    <tr>\n",
       "      <th>1</th>\n",
       "      <td>720575940615238668</td>\n",
       "      <td>NaN</td>\n",
       "      <td>12.0</td>\n",
       "      <td>8.695652</td>\n",
       "      <td>720575940629938298</td>\n",
       "      <td>NaN</td>\n",
       "      <td>https://ngl.flywire.ai/?json_url=https://globa...</td>\n",
       "      <td>Y</td>\n",
       "      <td>59355, 90055, 5482</td>\n",
       "      <td>66443, 86349, 5461</td>\n",
       "      <td>...</td>\n",
       "      <td>720575940615238668</td>\n",
       "      <td>N</td>\n",
       "      <td>Y</td>\n",
       "      <td>Fischbach &amp; Dittrich, 1989</td>\n",
       "      <td>Y</td>\n",
       "      <td>NaN</td>\n",
       "      <td>https://ngl.flywire.ai/?json_url=https://globa...</td>\n",
       "      <td>done</td>\n",
       "      <td>NaN</td>\n",
       "      <td>NaN</td>\n",
       "    </tr>\n",
       "    <tr>\n",
       "      <th>2</th>\n",
       "      <td>720575940613808815</td>\n",
       "      <td>NaN</td>\n",
       "      <td>8.0</td>\n",
       "      <td>5.797101</td>\n",
       "      <td>720575940629938298</td>\n",
       "      <td>NaN</td>\n",
       "      <td>https://ngl.flywire.ai/?json_url=https://globa...</td>\n",
       "      <td>y</td>\n",
       "      <td>59642, 87973, 5337</td>\n",
       "      <td>61058, 86308, 5533</td>\n",
       "      <td>...</td>\n",
       "      <td>720575940613808815</td>\n",
       "      <td>N</td>\n",
       "      <td>Y</td>\n",
       "      <td>Fischbach &amp; Dittrich, 1989</td>\n",
       "      <td>Y</td>\n",
       "      <td>NaN</td>\n",
       "      <td>https://ngl.flywire.ai/?json_url=https://globa...</td>\n",
       "      <td>done</td>\n",
       "      <td>NaN</td>\n",
       "      <td>NaN</td>\n",
       "    </tr>\n",
       "    <tr>\n",
       "      <th>3</th>\n",
       "      <td>720575940625018512</td>\n",
       "      <td>NaN</td>\n",
       "      <td>5.0</td>\n",
       "      <td>3.623188</td>\n",
       "      <td>720575940629938298</td>\n",
       "      <td>NaN</td>\n",
       "      <td>https://ngl.flywire.ai/?json_url=https://globa...</td>\n",
       "      <td>Y</td>\n",
       "      <td>no soma</td>\n",
       "      <td>60075, 85501, 4528</td>\n",
       "      <td>...</td>\n",
       "      <td>720575940625018512</td>\n",
       "      <td>Y</td>\n",
       "      <td>Y</td>\n",
       "      <td>Fischbach &amp; Dittrich, 1989</td>\n",
       "      <td>Y</td>\n",
       "      <td>projections in layer M2 and M4</td>\n",
       "      <td>https://ngl.flywire.ai/?json_url=https://globa...</td>\n",
       "      <td>done</td>\n",
       "      <td>NaN</td>\n",
       "      <td>NaN</td>\n",
       "    </tr>\n",
       "    <tr>\n",
       "      <th>4</th>\n",
       "      <td>720575940633484514</td>\n",
       "      <td>NaN</td>\n",
       "      <td>5.0</td>\n",
       "      <td>3.623188</td>\n",
       "      <td>720575940629938298</td>\n",
       "      <td>NaN</td>\n",
       "      <td>https://ngl.flywire.ai/?json_url=https://globa...</td>\n",
       "      <td>Y</td>\n",
       "      <td>NaN</td>\n",
       "      <td>62895, 87995, 5152</td>\n",
       "      <td>...</td>\n",
       "      <td>720575940633484514</td>\n",
       "      <td>Y</td>\n",
       "      <td>N</td>\n",
       "      <td>Fischbach &amp; Dittrich, 1989</td>\n",
       "      <td>Y</td>\n",
       "      <td>NaN</td>\n",
       "      <td>https://ngl.flywire.ai/?json_url=https://globa...</td>\n",
       "      <td>done, do not marked as complete. To difficult ...</td>\n",
       "      <td>NaN</td>\n",
       "      <td>NaN</td>\n",
       "    </tr>\n",
       "  </tbody>\n",
       "</table>\n",
       "<p>5 rows × 29 columns</p>\n",
       "</div>"
      ],
      "text/plain": [
       "       presynaptic_ID  Updated_pre_IDs (will replace the column on the left)  \\\n",
       "0  720575940659388801                                                NaN       \n",
       "1  720575940615238668                                                NaN       \n",
       "2  720575940613808815                                                NaN       \n",
       "3  720575940625018512                                                NaN       \n",
       "4  720575940633484514                                                NaN       \n",
       "\n",
       "   counts    count %     postsynaptic_ID  \\\n",
       "0    38.0  27.536232  720575940629938298   \n",
       "1    12.0   8.695652  720575940629938298   \n",
       "2     8.0   5.797101  720575940629938298   \n",
       "3     5.0   3.623188  720575940629938298   \n",
       "4     5.0   3.623188  720575940629938298   \n",
       "\n",
       "  Comments about synapses proofreading (e.g., false negatíve found)  \\\n",
       "0                               false negative found                  \n",
       "1                                                NaN                  \n",
       "2                                                NaN                  \n",
       "3                                                NaN                  \n",
       "4                                                NaN                  \n",
       "\n",
       "  URL buhmann postsynapses (annotate only as: true, false or false negative)  \\\n",
       "0  https://ngl.flywire.ai/?json_url=https://globa...                           \n",
       "1  https://ngl.flywire.ai/?json_url=https://globa...                           \n",
       "2  https://ngl.flywire.ai/?json_url=https://globa...                           \n",
       "3  https://ngl.flywire.ai/?json_url=https://globa...                           \n",
       "4  https://ngl.flywire.ai/?json_url=https://globa...                           \n",
       "\n",
       "  Synapses proofread (Y/N)            XYZ soma                 XYZ  ...  \\\n",
       "0                        Y            no soma   61065, 87199, 4730  ...   \n",
       "1                        Y  59355, 90055, 5482  66443, 86349, 5461  ...   \n",
       "2                        y  59642, 87973, 5337  61058, 86308, 5533  ...   \n",
       "3                        Y            no soma   60075, 85501, 4528  ...   \n",
       "4                        Y                 NaN  62895, 87995, 5152  ...   \n",
       "\n",
       "               seg_id  twigs proofread (Y/N)  FlyWire proofread (Y/N)  \\\n",
       "0  720575940659388801                      Y                        Y   \n",
       "1  720575940615238668                      N                        Y   \n",
       "2  720575940613808815                      N                        Y   \n",
       "3  720575940625018512                      Y                        Y   \n",
       "4  720575940633484514                      Y                        N   \n",
       "\n",
       "                identified_in lab authorship (Y/N)  \\\n",
       "0  Fischbach & Dittrich, 1989                    Y   \n",
       "1  Fischbach & Dittrich, 1989                    Y   \n",
       "2  Fischbach & Dittrich, 1989                    Y   \n",
       "3  Fischbach & Dittrich, 1989                    Y   \n",
       "4  Fischbach & Dittrich, 1989                    Y   \n",
       "\n",
       "                            notes  \\\n",
       "0                             NaN   \n",
       "1                             NaN   \n",
       "2                             NaN   \n",
       "3  projections in layer M2 and M4   \n",
       "4                             NaN   \n",
       "\n",
       "                                    annotations_link  \\\n",
       "0  https://ngl.flywire.ai/?json_url=https://globa...   \n",
       "1  https://ngl.flywire.ai/?json_url=https://globa...   \n",
       "2  https://ngl.flywire.ai/?json_url=https://globa...   \n",
       "3  https://ngl.flywire.ai/?json_url=https://globa...   \n",
       "4  https://ngl.flywire.ai/?json_url=https://globa...   \n",
       "\n",
       "                  Extra notes as comments (initials) Working on Unnamed: 28  \n",
       "0                                               done        NaN         NaN  \n",
       "1                                               done        NaN         NaN  \n",
       "2                                               done        NaN         NaN  \n",
       "3                                               done        NaN         NaN  \n",
       "4  done, do not marked as complete. To difficult ...        NaN         NaN  \n",
       "\n",
       "[5 rows x 29 columns]"
      ]
     },
     "metadata": {},
     "output_type": "display_data"
    }
   ],
   "source": [
    "#Loeading file as DataFrame\n",
    "import pandas as pd\n",
    "\n",
    "df = pd.read_excel(filePath)\n",
    "if df[\"postsynaptic_ID\"][0] == 'asdf': #Dropping the fisrt row ('asdf' was added as a walk-around to set that column values as type str)\n",
    "    df = df.iloc[1: , :]\n",
    "    df.reset_index(inplace=True,drop=True)\n",
    "display(df.head())"
   ]
  },
  {
   "cell_type": "code",
   "execution_count": 5,
   "id": "5920235b",
   "metadata": {},
   "outputs": [],
   "source": [
    "#Generating a URL link with annotate synaptic connections for each \"presynaptic_ID - postynaptic_ID\" pair\n",
    "# THis might take long time depending on the length of the DataFrame\n",
    "import numpy as np\n",
    "from caveclient import CAVEclient\n",
    "from nglui.statebuilder.helpers import make_synapse_neuroglancer_link\n",
    "\n",
    "client = CAVEclient('flywire_fafb_production')\n",
    "\n",
    "# Filtering out the 'INPUTS PROOFREAD' row of the data frame\n",
    "filtered_df = df[df[\"presynaptic_ID\"] != 'INPUTS PROOFREAD'].copy()\n"
   ]
  },
  {
   "cell_type": "markdown",
   "id": "506bed36",
   "metadata": {},
   "source": [
    "### 2. Updating IDs"
   ]
  },
  {
   "cell_type": "code",
   "execution_count": 6,
   "id": "f197e79c",
   "metadata": {},
   "outputs": [
    {
     "data": {
      "application/vnd.jupyter.widget-view+json": {
       "model_id": "",
       "version_major": 2,
       "version_minor": 0
      },
      "text/plain": [
       "Updating:   0%|          | 0/372 [00:00<?, ?it/s]"
      ]
     },
     "metadata": {},
     "output_type": "display_data"
    },
    {
     "data": {
      "application/vnd.jupyter.widget-view+json": {
       "model_id": "",
       "version_major": 2,
       "version_minor": 0
      },
      "text/plain": [
       "Updating:   0%|          | 0/372 [00:00<?, ?it/s]"
      ]
     },
     "metadata": {},
     "output_type": "display_data"
    }
   ],
   "source": [
    "# Updating the IDs via Fafbseg (preferred)\n",
    "pre_ID_ls = filtered_df [\"presynaptic_ID\"].tolist()\n",
    "post_ID_ls = filtered_df [\"postsynaptic_ID\"].tolist()\n",
    "\n",
    "updated_pre_ID_df = fafbseg.flywire.update_ids(pre_ID_ls, stop_layer=2, supervoxels=None, timestamp=None, dataset='production', progress=True)\n",
    "updated_post_ID_df = fafbseg.flywire.update_ids(post_ID_ls, stop_layer=2, supervoxels=None, timestamp=None, dataset='production', progress=True)\n",
    "\n",
    "new_pre_ID_ls = updated_pre_ID_df[\"new_id\"].tolist()\n",
    "new_post_ID_ls = updated_post_ID_df[\"new_id\"].tolist()"
   ]
  },
  {
   "cell_type": "code",
   "execution_count": 25,
   "id": "26c24407",
   "metadata": {},
   "outputs": [],
   "source": [
    "# Updating the IDs via CAVE (not preferred)\n",
    "pre_IDs_int = list(map(int,filtered_df [\"presynaptic_ID\"].tolist()))\n",
    "post_IDs_int = list(map(int,filtered_df [\"postsynaptic_ID\"].tolist()))\n",
    "new_pre_IDs_int = list(map(client.chunkedgraph.get_latest_roots,pre_IDs_int))\n",
    "new_post_IDs_int = list(map(client.chunkedgraph.get_latest_roots,post_IDs_int))\n",
    "\n",
    "#Required data type transformations\n",
    "new_pre_IDs_arr = np.concatenate(new_pre_IDs_int, axis=0 )\n",
    "new_pre_ID_ls = new_pre_IDs_arr.tolist()\n",
    "\n",
    "new_post_IDs_arr = np.concatenate(new_post_IDs_int, axis=0 )\n",
    "new_post_ID_ls = new_post_IDs_arr.tolist()\n"
   ]
  },
  {
   "cell_type": "markdown",
   "id": "51e4d51e",
   "metadata": {},
   "source": [
    "### 3. URL genereation"
   ]
  },
  {
   "cell_type": "code",
   "execution_count": 12,
   "id": "ad49fc5e",
   "metadata": {},
   "outputs": [],
   "source": [
    "# Via Fafbseg (preferred)\n",
    "url_list = []\n",
    "for pre, post in zip(new_pre_ID_ls,new_post_ID_ls):\n",
    "    if pre == 'INPUTS PROOFREAD': # skiping this row for now\n",
    "        url_list.append('NEXT_PAIR')\n",
    "        continue\n",
    "\n",
    "    synapses = flywire.synapses.fetch_synapses(post,\n",
    "                        pre=False, post=True, attach=True,\n",
    "                        min_score=50, clean=True, transmitters=False,\n",
    "                        neuropils=True, batch_size=30,\n",
    "                        dataset='production', progress=True,mat=\"live\")\n",
    "\n",
    "\n",
    "    synapses = synapses[synapses['pre'] == pre]\n",
    "    #Combining x,y,z columns for future purposes\n",
    "    combine_xyz(synapses)\n",
    "    # Getting URL\n",
    "    url = make_synapse_neuroglancer_link(synapses, client,\n",
    "            point_column='post_pt_position',return_as=\"url\")\n",
    "    url_list.append(url)"
   ]
  },
  {
   "cell_type": "code",
   "execution_count": 10,
   "id": "6d2aae55",
   "metadata": {},
   "outputs": [],
   "source": [
    "# Via CAVE (not preferred)\n",
    "url_list = []\n",
    "for pre, post in zip(new_pre_ID_ls,new_post_ID_ls):\n",
    "    if pre == 'INPUTS PROOFREAD': # skiping this row for now\n",
    "        url_list.append('NEXT_PAIR')\n",
    "        continue\n",
    "        \n",
    "    synapses = client.materialize.synapse_query(\n",
    "        pre_ids = pre, post_ids = post,\n",
    "        bounding_box_column='post_pt_position'\n",
    "        )\n",
    "    url = make_synapse_neuroglancer_link(\n",
    "        synapses, client,\n",
    "        point_column='post_pt_position',\n",
    "        link_pre_and_post=True, return_as=\"url\"\n",
    "        )\n",
    "    url_list.append(url)"
   ]
  },
  {
   "cell_type": "code",
   "execution_count": 13,
   "id": "fc1d430a",
   "metadata": {},
   "outputs": [
    {
     "data": {
      "text/plain": [
       "['https://ngl.flywire.ai/?json_url=https://global.daf-apis.com/nglstate/api/v1/5974395235336192',\n",
       " 'https://ngl.flywire.ai/?json_url=https://global.daf-apis.com/nglstate/api/v1/5371996208627712',\n",
       " 'https://ngl.flywire.ai/?json_url=https://global.daf-apis.com/nglstate/api/v1/5285324171247616',\n",
       " 'https://ngl.flywire.ai/?json_url=https://global.daf-apis.com/nglstate/api/v1/5111177541582848',\n",
       " 'https://ngl.flywire.ai/?json_url=https://global.daf-apis.com/nglstate/api/v1/5615941761105920',\n",
       " 'https://ngl.flywire.ai/?json_url=https://global.daf-apis.com/nglstate/api/v1/4606656251953152',\n",
       " 'https://ngl.flywire.ai/?json_url=https://global.daf-apis.com/nglstate/api/v1/5560400653320192',\n",
       " 'https://ngl.flywire.ai/?json_url=https://global.daf-apis.com/nglstate/api/v1/6731042509553664',\n",
       " 'https://ngl.flywire.ai/?json_url=https://global.daf-apis.com/nglstate/api/v1/6686300560162816',\n",
       " 'https://ngl.flywire.ai/?json_url=https://global.daf-apis.com/nglstate/api/v1/5658949667782656',\n",
       " 'https://ngl.flywire.ai/?json_url=https://global.daf-apis.com/nglstate/api/v1/6237077448425472',\n",
       " 'https://ngl.flywire.ai/?json_url=https://global.daf-apis.com/nglstate/api/v1/5546579784105984',\n",
       " 'https://ngl.flywire.ai/?json_url=https://global.daf-apis.com/nglstate/api/v1/6741841667948544',\n",
       " 'https://ngl.flywire.ai/?json_url=https://global.daf-apis.com/nglstate/api/v1/4508278688055296',\n",
       " 'https://ngl.flywire.ai/?json_url=https://global.daf-apis.com/nglstate/api/v1/5466260540227584',\n",
       " 'https://ngl.flywire.ai/?json_url=https://global.daf-apis.com/nglstate/api/v1/5732038300663808',\n",
       " 'https://ngl.flywire.ai/?json_url=https://global.daf-apis.com/nglstate/api/v1/6749222233702400',\n",
       " 'https://ngl.flywire.ai/?json_url=https://global.daf-apis.com/nglstate/api/v1/5169088347242496',\n",
       " 'https://ngl.flywire.ai/?json_url=https://global.daf-apis.com/nglstate/api/v1/6285065386459136',\n",
       " 'https://ngl.flywire.ai/?json_url=https://global.daf-apis.com/nglstate/api/v1/5411445281914880',\n",
       " 'https://ngl.flywire.ai/?json_url=https://global.daf-apis.com/nglstate/api/v1/4877690502905856',\n",
       " 'https://ngl.flywire.ai/?json_url=https://global.daf-apis.com/nglstate/api/v1/5301806510899200',\n",
       " 'https://ngl.flywire.ai/?json_url=https://global.daf-apis.com/nglstate/api/v1/5634178594897920',\n",
       " 'https://ngl.flywire.ai/?json_url=https://global.daf-apis.com/nglstate/api/v1/4829702564872192',\n",
       " 'https://ngl.flywire.ai/?json_url=https://global.daf-apis.com/nglstate/api/v1/6294988254085120',\n",
       " 'https://ngl.flywire.ai/?json_url=https://global.daf-apis.com/nglstate/api/v1/6066397931110400',\n",
       " 'https://ngl.flywire.ai/?json_url=https://global.daf-apis.com/nglstate/api/v1/6427706417741824',\n",
       " 'https://ngl.flywire.ai/?json_url=https://global.daf-apis.com/nglstate/api/v1/6222944472662016',\n",
       " 'https://ngl.flywire.ai/?json_url=https://global.daf-apis.com/nglstate/api/v1/4915630163623936',\n",
       " 'https://ngl.flywire.ai/?json_url=https://global.daf-apis.com/nglstate/api/v1/6283826607161344',\n",
       " 'https://ngl.flywire.ai/?json_url=https://global.daf-apis.com/nglstate/api/v1/5609059612884992',\n",
       " 'https://ngl.flywire.ai/?json_url=https://global.daf-apis.com/nglstate/api/v1/6296508672507904',\n",
       " 'https://ngl.flywire.ai/?json_url=https://global.daf-apis.com/nglstate/api/v1/5120627610484736',\n",
       " 'https://ngl.flywire.ai/?json_url=https://global.daf-apis.com/nglstate/api/v1/6238839005773824',\n",
       " 'https://ngl.flywire.ai/?json_url=https://global.daf-apis.com/nglstate/api/v1/6437532090761216',\n",
       " 'https://ngl.flywire.ai/?json_url=https://global.daf-apis.com/nglstate/api/v1/6003590409748480',\n",
       " 'https://ngl.flywire.ai/?json_url=https://global.daf-apis.com/nglstate/api/v1/5660106708484096',\n",
       " 'https://ngl.flywire.ai/?json_url=https://global.daf-apis.com/nglstate/api/v1/5457013089763328',\n",
       " 'https://ngl.flywire.ai/?json_url=https://global.daf-apis.com/nglstate/api/v1/4590176600850432',\n",
       " 'https://ngl.flywire.ai/?json_url=https://global.daf-apis.com/nglstate/api/v1/4889133788954624',\n",
       " 'https://ngl.flywire.ai/?json_url=https://global.daf-apis.com/nglstate/api/v1/4887613370531840',\n",
       " 'https://ngl.flywire.ai/?json_url=https://global.daf-apis.com/nglstate/api/v1/6133366940237824',\n",
       " 'https://ngl.flywire.ai/?json_url=https://global.daf-apis.com/nglstate/api/v1/4540053862744064',\n",
       " 'https://ngl.flywire.ai/?json_url=https://global.daf-apis.com/nglstate/api/v1/6015033695797248',\n",
       " 'https://ngl.flywire.ai/?json_url=https://global.daf-apis.com/nglstate/api/v1/5732556158795776',\n",
       " 'https://ngl.flywire.ai/?json_url=https://global.daf-apis.com/nglstate/api/v1/5071228641476608',\n",
       " 'https://ngl.flywire.ai/?json_url=https://global.daf-apis.com/nglstate/api/v1/5452083742375936',\n",
       " 'https://ngl.flywire.ai/?json_url=https://global.daf-apis.com/nglstate/api/v1/6497896115470336',\n",
       " 'https://ngl.flywire.ai/?json_url=https://global.daf-apis.com/nglstate/api/v1/6630906823442432',\n",
       " 'https://ngl.flywire.ai/?json_url=https://global.daf-apis.com/nglstate/api/v1/4831464122220544',\n",
       " 'https://ngl.flywire.ai/?json_url=https://global.daf-apis.com/nglstate/api/v1/6734959519727616',\n",
       " 'https://ngl.flywire.ai/?json_url=https://global.daf-apis.com/nglstate/api/v1/6013513277374464',\n",
       " 'https://ngl.flywire.ai/?json_url=https://global.daf-apis.com/nglstate/api/v1/5169606205374464',\n",
       " 'https://ngl.flywire.ai/?json_url=https://global.daf-apis.com/nglstate/api/v1/6575076929437696',\n",
       " 'https://ngl.flywire.ai/?json_url=https://global.daf-apis.com/nglstate/api/v1/6197128548319232',\n",
       " 'https://ngl.flywire.ai/?json_url=https://global.daf-apis.com/nglstate/api/v1/6041530070466560',\n",
       " 'https://ngl.flywire.ai/?json_url=https://global.daf-apis.com/nglstate/api/v1/6672479690948608',\n",
       " 'https://ngl.flywire.ai/?json_url=https://global.daf-apis.com/nglstate/api/v1/4631786109796352',\n",
       " 'https://ngl.flywire.ai/?json_url=https://global.daf-apis.com/nglstate/api/v1/6509631643844608',\n",
       " 'https://ngl.flywire.ai/?json_url=https://global.daf-apis.com/nglstate/api/v1/5095999714361344',\n",
       " 'https://ngl.flywire.ai/?json_url=https://global.daf-apis.com/nglstate/api/v1/5665953769586688',\n",
       " 'https://ngl.flywire.ai/?json_url=https://global.daf-apis.com/nglstate/api/v1/5570416986816512',\n",
       " 'https://ngl.flywire.ai/?json_url=https://global.daf-apis.com/nglstate/api/v1/6537345188757504',\n",
       " 'https://ngl.flywire.ai/?json_url=https://global.daf-apis.com/nglstate/api/v1/4590213242290176',\n",
       " 'https://ngl.flywire.ai/?json_url=https://global.daf-apis.com/nglstate/api/v1/4980949771091968',\n",
       " 'https://ngl.flywire.ai/?json_url=https://global.daf-apis.com/nglstate/api/v1/4535936264175616',\n",
       " 'https://ngl.flywire.ai/?json_url=https://global.daf-apis.com/nglstate/api/v1/5097156755062784',\n",
       " 'https://ngl.flywire.ai/?json_url=https://global.daf-apis.com/nglstate/api/v1/6273909141798912',\n",
       " 'https://ngl.flywire.ai/?json_url=https://global.daf-apis.com/nglstate/api/v1/6582912996605952',\n",
       " 'https://ngl.flywire.ai/?json_url=https://global.daf-apis.com/nglstate/api/v1/4753325647986688',\n",
       " 'https://ngl.flywire.ai/?json_url=https://global.daf-apis.com/nglstate/api/v1/4815569589108736',\n",
       " 'https://ngl.flywire.ai/?json_url=https://global.daf-apis.com/nglstate/api/v1/5030157207207936',\n",
       " 'https://ngl.flywire.ai/?json_url=https://global.daf-apis.com/nglstate/api/v1/5879225554829312',\n",
       " 'https://ngl.flywire.ai/?json_url=https://global.daf-apis.com/nglstate/api/v1/4516430133329920',\n",
       " 'https://ngl.flywire.ai/?json_url=https://global.daf-apis.com/nglstate/api/v1/4789753664765952',\n",
       " 'https://ngl.flywire.ai/?json_url=https://global.daf-apis.com/nglstate/api/v1/4510616559550464',\n",
       " 'https://ngl.flywire.ai/?json_url=https://global.daf-apis.com/nglstate/api/v1/5955602471714816',\n",
       " 'https://ngl.flywire.ai/?json_url=https://global.daf-apis.com/nglstate/api/v1/5941469495951360',\n",
       " 'https://ngl.flywire.ai/?json_url=https://global.daf-apis.com/nglstate/api/v1/5316275601408000',\n",
       " 'https://ngl.flywire.ai/?json_url=https://global.daf-apis.com/nglstate/api/v1/6221899621203968',\n",
       " 'https://ngl.flywire.ai/?json_url=https://global.daf-apis.com/nglstate/api/v1/6223056661905408',\n",
       " 'https://ngl.flywire.ai/?json_url=https://global.daf-apis.com/nglstate/api/v1/6577983649218560',\n",
       " 'https://ngl.flywire.ai/?json_url=https://global.daf-apis.com/nglstate/api/v1/5642330040172544',\n",
       " 'https://ngl.flywire.ai/?json_url=https://global.daf-apis.com/nglstate/api/v1/6592160447070208',\n",
       " 'https://ngl.flywire.ai/?json_url=https://global.daf-apis.com/nglstate/api/v1/5378519542530048',\n",
       " 'https://ngl.flywire.ai/?json_url=https://global.daf-apis.com/nglstate/api/v1/6411224078090240',\n",
       " 'https://ngl.flywire.ai/?json_url=https://global.daf-apis.com/nglstate/api/v1/4745489580818432',\n",
       " 'https://ngl.flywire.ai/?json_url=https://global.daf-apis.com/nglstate/api/v1/5636516466393088',\n",
       " 'https://ngl.flywire.ai/?json_url=https://global.daf-apis.com/nglstate/api/v1/4815681778352128',\n",
       " 'https://ngl.flywire.ai/?json_url=https://global.daf-apis.com/nglstate/api/v1/4866534258245632',\n",
       " 'https://ngl.flywire.ai/?json_url=https://global.daf-apis.com/nglstate/api/v1/5992434165088256',\n",
       " 'https://ngl.flywire.ai/?json_url=https://global.daf-apis.com/nglstate/api/v1/5871389487661056',\n",
       " 'https://ngl.flywire.ai/?json_url=https://global.daf-apis.com/nglstate/api/v1/4876451723608064',\n",
       " 'https://ngl.flywire.ai/?json_url=https://global.daf-apis.com/nglstate/api/v1/6295506112217088',\n",
       " 'https://ngl.flywire.ai/?json_url=https://global.daf-apis.com/nglstate/api/v1/6106849677934592',\n",
       " 'https://ngl.flywire.ai/?json_url=https://global.daf-apis.com/nglstate/api/v1/4888131228663808',\n",
       " 'https://ngl.flywire.ai/?json_url=https://global.daf-apis.com/nglstate/api/v1/5073566512971776',\n",
       " 'https://ngl.flywire.ai/?json_url=https://global.daf-apis.com/nglstate/api/v1/5757686016638976',\n",
       " 'https://ngl.flywire.ai/?json_url=https://global.daf-apis.com/nglstate/api/v1/5440640456327168',\n",
       " 'https://ngl.flywire.ai/?json_url=https://global.daf-apis.com/nglstate/api/v1/5716113149132800',\n",
       " 'https://ngl.flywire.ai/?json_url=https://global.daf-apis.com/nglstate/api/v1/5543899724513280',\n",
       " 'https://ngl.flywire.ai/?json_url=https://global.daf-apis.com/nglstate/api/v1/6566540363169792',\n",
       " 'https://ngl.flywire.ai/?json_url=https://global.daf-apis.com/nglstate/api/v1/4707757840138240',\n",
       " 'https://ngl.flywire.ai/?json_url=https://global.daf-apis.com/nglstate/api/v1/5957364029063168',\n",
       " 'https://ngl.flywire.ai/?json_url=https://global.daf-apis.com/nglstate/api/v1/4532019254001664',\n",
       " 'https://ngl.flywire.ai/?json_url=https://global.daf-apis.com/nglstate/api/v1/5103003816165376',\n",
       " 'https://ngl.flywire.ai/?json_url=https://global.daf-apis.com/nglstate/api/v1/5020331534188544',\n",
       " 'https://ngl.flywire.ai/?json_url=https://global.daf-apis.com/nglstate/api/v1/6014031135506432',\n",
       " 'https://ngl.flywire.ai/?json_url=https://global.daf-apis.com/nglstate/api/v1/6146231441031168',\n",
       " 'https://ngl.flywire.ai/?json_url=https://global.daf-apis.com/nglstate/api/v1/4668308766851072',\n",
       " 'https://ngl.flywire.ai/?json_url=https://global.daf-apis.com/nglstate/api/v1/6669799631355904',\n",
       " 'https://ngl.flywire.ai/?json_url=https://global.daf-apis.com/nglstate/api/v1/5079380086751232',\n",
       " 'https://ngl.flywire.ai/?json_url=https://global.daf-apis.com/nglstate/api/v1/6199466419814400',\n",
       " 'https://ngl.flywire.ai/?json_url=https://global.daf-apis.com/nglstate/api/v1/6696316893659136',\n",
       " 'https://ngl.flywire.ai/?json_url=https://global.daf-apis.com/nglstate/api/v1/4736953014550528',\n",
       " 'https://ngl.flywire.ai/?json_url=https://global.daf-apis.com/nglstate/api/v1/5862852921393152',\n",
       " 'https://ngl.flywire.ai/?json_url=https://global.daf-apis.com/nglstate/api/v1/4814524737650688',\n",
       " 'https://ngl.flywire.ai/?json_url=https://global.daf-apis.com/nglstate/api/v1/6246527517327360',\n",
       " 'https://ngl.flywire.ai/?json_url=https://global.daf-apis.com/nglstate/api/v1/4792091536261120',\n",
       " 'https://ngl.flywire.ai/?json_url=https://global.daf-apis.com/nglstate/api/v1/4748396300599296',\n",
       " 'https://ngl.flywire.ai/?json_url=https://global.daf-apis.com/nglstate/api/v1/4629106050203648',\n",
       " 'https://ngl.flywire.ai/?json_url=https://global.daf-apis.com/nglstate/api/v1/6504419449372672',\n",
       " 'https://ngl.flywire.ai/?json_url=https://global.daf-apis.com/nglstate/api/v1/5153163195711488',\n",
       " 'https://ngl.flywire.ai/?json_url=https://global.daf-apis.com/nglstate/api/v1/5299902967971840',\n",
       " 'https://ngl.flywire.ai/?json_url=https://global.daf-apis.com/nglstate/api/v1/5940424644493312',\n",
       " 'https://ngl.flywire.ai/?json_url=https://global.daf-apis.com/nglstate/api/v1/5429484211666944',\n",
       " 'https://ngl.flywire.ai/?json_url=https://global.daf-apis.com/nglstate/api/v1/6228903723008000',\n",
       " 'https://ngl.flywire.ai/?json_url=https://global.daf-apis.com/nglstate/api/v1/5308439534239744',\n",
       " 'https://ngl.flywire.ai/?json_url=https://global.daf-apis.com/nglstate/api/v1/5833657746980864',\n",
       " 'https://ngl.flywire.ai/?json_url=https://global.daf-apis.com/nglstate/api/v1/5755005957046272',\n",
       " 'https://ngl.flywire.ai/?json_url=https://global.daf-apis.com/nglstate/api/v1/4821528839454720',\n",
       " 'https://ngl.flywire.ai/?json_url=https://global.daf-apis.com/nglstate/api/v1/5377474691072000',\n",
       " 'https://ngl.flywire.ai/?json_url=https://global.daf-apis.com/nglstate/api/v1/6709181394452480',\n",
       " 'https://ngl.flywire.ai/?json_url=https://global.daf-apis.com/nglstate/api/v1/5394414075641856',\n",
       " 'https://ngl.flywire.ai/?json_url=https://global.daf-apis.com/nglstate/api/v1/5917991443103744',\n",
       " 'https://ngl.flywire.ai/?json_url=https://global.daf-apis.com/nglstate/api/v1/6555384118509568',\n",
       " 'https://ngl.flywire.ai/?json_url=https://global.daf-apis.com/nglstate/api/v1/5270707793559552',\n",
       " 'https://ngl.flywire.ai/?json_url=https://global.daf-apis.com/nglstate/api/v1/6604480023887872',\n",
       " 'https://ngl.flywire.ai/?json_url=https://global.daf-apis.com/nglstate/api/v1/5003849194536960',\n",
       " 'https://ngl.flywire.ai/?json_url=https://global.daf-apis.com/nglstate/api/v1/5947428746297344',\n",
       " 'https://ngl.flywire.ai/?json_url=https://global.daf-apis.com/nglstate/api/v1/5450563323953152',\n",
       " 'https://ngl.flywire.ai/?json_url=https://global.daf-apis.com/nglstate/api/v1/6002351630450688',\n",
       " 'https://ngl.flywire.ai/?json_url=https://global.daf-apis.com/nglstate/api/v1/6442175508250624',\n",
       " 'https://ngl.flywire.ai/?json_url=https://global.daf-apis.com/nglstate/api/v1/5194736063217664',\n",
       " 'https://ngl.flywire.ai/?json_url=https://global.daf-apis.com/nglstate/api/v1/5384478792876032',\n",
       " 'https://ngl.flywire.ai/?json_url=https://global.daf-apis.com/nglstate/api/v1/5192056003624960',\n",
       " 'https://ngl.flywire.ai/?json_url=https://global.daf-apis.com/nglstate/api/v1/6510378699718656',\n",
       " 'https://ngl.flywire.ai/?json_url=https://global.daf-apis.com/nglstate/api/v1/6396607700402176',\n",
       " 'https://ngl.flywire.ai/?json_url=https://global.daf-apis.com/nglstate/api/v1/4725796769890304',\n",
       " 'https://ngl.flywire.ai/?json_url=https://global.daf-apis.com/nglstate/api/v1/4989232816848896',\n",
       " 'https://ngl.flywire.ai/?json_url=https://global.daf-apis.com/nglstate/api/v1/5657919160844288',\n",
       " 'https://ngl.flywire.ai/?json_url=https://global.daf-apis.com/nglstate/api/v1/6279063102554112',\n",
       " 'https://ngl.flywire.ai/?json_url=https://global.daf-apis.com/nglstate/api/v1/5661836171018240',\n",
       " 'https://ngl.flywire.ai/?json_url=https://global.daf-apis.com/nglstate/api/v1/6434339441082368',\n",
       " 'https://ngl.flywire.ai/?json_url=https://global.daf-apis.com/nglstate/api/v1/5153126554271744',\n",
       " 'https://ngl.flywire.ai/?json_url=https://global.daf-apis.com/nglstate/api/v1/6320635970060288',\n",
       " 'https://ngl.flywire.ai/?json_url=https://global.daf-apis.com/nglstate/api/v1/6518552425136128',\n",
       " 'https://ngl.flywire.ai/?json_url=https://global.daf-apis.com/nglstate/api/v1/4913261086507008',\n",
       " 'https://ngl.flywire.ai/?json_url=https://global.daf-apis.com/nglstate/api/v1/6039160993349632',\n",
       " 'https://ngl.flywire.ai/?json_url=https://global.daf-apis.com/nglstate/api/v1/4871688219000832',\n",
       " 'https://ngl.flywire.ai/?json_url=https://global.daf-apis.com/nglstate/api/v1/5026964557529088',\n",
       " 'https://ngl.flywire.ai/?json_url=https://global.daf-apis.com/nglstate/api/v1/5355041489682432',\n",
       " 'https://ngl.flywire.ai/?json_url=https://global.daf-apis.com/nglstate/api/v1/6115132723691520',\n",
       " 'https://ngl.flywire.ai/?json_url=https://global.daf-apis.com/nglstate/api/v1/6129749101379584',\n",
       " 'https://ngl.flywire.ai/?json_url=https://global.daf-apis.com/nglstate/api/v1/6503374597914624',\n",
       " 'https://ngl.flywire.ai/?json_url=https://global.daf-apis.com/nglstate/api/v1/6576463230795776',\n",
       " 'https://ngl.flywire.ai/?json_url=https://global.daf-apis.com/nglstate/api/v1/4673787249295360',\n",
       " 'https://ngl.flywire.ai/?json_url=https://global.daf-apis.com/nglstate/api/v1/4674832100753408',\n",
       " 'https://ngl.flywire.ai/?json_url=https://global.daf-apis.com/nglstate/api/v1/5503447977689088',\n",
       " 'https://ngl.flywire.ai/?json_url=https://global.daf-apis.com/nglstate/api/v1/4746875882176512',\n",
       " 'https://ngl.flywire.ai/?json_url=https://global.daf-apis.com/nglstate/api/v1/6156057114050560',\n",
       " 'https://ngl.flywire.ai/?json_url=https://global.daf-apis.com/nglstate/api/v1/6220869114265600',\n",
       " 'https://ngl.flywire.ai/?json_url=https://global.daf-apis.com/nglstate/api/v1/5872775789019136',\n",
       " 'https://ngl.flywire.ai/?json_url=https://global.daf-apis.com/nglstate/api/v1/5874296207441920',\n",
       " 'https://ngl.flywire.ai/?json_url=https://global.daf-apis.com/nglstate/api/v1/4910581026914304',\n",
       " 'https://ngl.flywire.ai/?json_url=https://global.daf-apis.com/nglstate/api/v1/5034800624697344',\n",
       " 'https://ngl.flywire.ai/?json_url=https://global.daf-apis.com/nglstate/api/v1/5175848625766400',\n",
       " 'https://ngl.flywire.ai/?json_url=https://global.daf-apis.com/nglstate/api/v1/5799687156137984',\n",
       " 'https://ngl.flywire.ai/?json_url=https://global.daf-apis.com/nglstate/api/v1/4688965076516864',\n",
       " 'https://ngl.flywire.ai/?json_url=https://global.daf-apis.com/nglstate/api/v1/5593107160629248',\n",
       " 'https://ngl.flywire.ai/?json_url=https://global.daf-apis.com/nglstate/api/v1/4839152633774080',\n",
       " 'https://ngl.flywire.ai/?json_url=https://global.daf-apis.com/nglstate/api/v1/6621043296829440',\n",
       " 'https://ngl.flywire.ai/?json_url=https://global.daf-apis.com/nglstate/api/v1/6279026461114368',\n",
       " 'https://ngl.flywire.ai/?json_url=https://global.daf-apis.com/nglstate/api/v1/6036480933756928',\n",
       " 'https://ngl.flywire.ai/?json_url=https://global.daf-apis.com/nglstate/api/v1/5851696676732928',\n",
       " 'https://ngl.flywire.ai/?json_url=https://global.daf-apis.com/nglstate/api/v1/6520313982484480',\n",
       " 'https://ngl.flywire.ai/?json_url=https://global.daf-apis.com/nglstate/api/v1/5566799147958272',\n",
       " 'https://ngl.flywire.ai/?json_url=https://global.daf-apis.com/nglstate/api/v1/4562934697033728',\n",
       " 'https://ngl.flywire.ai/?json_url=https://global.daf-apis.com/nglstate/api/v1/6477404692283392',\n",
       " 'https://ngl.flywire.ai/?json_url=https://global.daf-apis.com/nglstate/api/v1/4774892675268608',\n",
       " 'https://ngl.flywire.ai/?json_url=https://global.daf-apis.com/nglstate/api/v1/5473530980335616',\n",
       " 'https://ngl.flywire.ai/?json_url=https://global.daf-apis.com/nglstate/api/v1/5309825835597824',\n",
       " 'https://ngl.flywire.ai/?json_url=https://global.daf-apis.com/nglstate/api/v1/4813494230712320',\n",
       " 'https://ngl.flywire.ai/?json_url=https://global.daf-apis.com/nglstate/api/v1/4647817343664128',\n",
       " 'https://ngl.flywire.ai/?json_url=https://global.daf-apis.com/nglstate/api/v1/4690726633865216',\n",
       " 'https://ngl.flywire.ai/?json_url=https://global.daf-apis.com/nglstate/api/v1/5965052540616704',\n",
       " 'https://ngl.flywire.ai/?json_url=https://global.daf-apis.com/nglstate/api/v1/6205279993593856',\n",
       " 'https://ngl.flywire.ai/?json_url=https://global.daf-apis.com/nglstate/api/v1/6692699054800896',\n",
       " 'https://ngl.flywire.ai/?json_url=https://global.daf-apis.com/nglstate/api/v1/5997588125843456',\n",
       " 'https://ngl.flywire.ai/?json_url=https://global.daf-apis.com/nglstate/api/v1/4550070196240384',\n",
       " 'https://ngl.flywire.ai/?json_url=https://global.daf-apis.com/nglstate/api/v1/4871651577561088',\n",
       " 'https://ngl.flywire.ai/?json_url=https://global.daf-apis.com/nglstate/api/v1/5800732007596032',\n",
       " 'https://ngl.flywire.ai/?json_url=https://global.daf-apis.com/nglstate/api/v1/5402102587195392',\n",
       " 'https://ngl.flywire.ai/?json_url=https://global.daf-apis.com/nglstate/api/v1/5236737202716672',\n",
       " 'https://ngl.flywire.ai/?json_url=https://global.daf-apis.com/nglstate/api/v1/5552182770270208',\n",
       " 'https://ngl.flywire.ai/?json_url=https://global.daf-apis.com/nglstate/api/v1/5288746723311616',\n",
       " 'https://ngl.flywire.ai/?json_url=https://global.daf-apis.com/nglstate/api/v1/5439401677029376',\n",
       " 'https://ngl.flywire.ai/?json_url=https://global.daf-apis.com/nglstate/api/v1/6362637109559296',\n",
       " 'https://ngl.flywire.ai/?json_url=https://global.daf-apis.com/nglstate/api/v1/5941581685194752',\n",
       " 'https://ngl.flywire.ai/?json_url=https://global.daf-apis.com/nglstate/api/v1/5997551484403712',\n",
       " 'https://ngl.flywire.ai/?json_url=https://global.daf-apis.com/nglstate/api/v1/5311346254020608',\n",
       " 'https://ngl.flywire.ai/?json_url=https://global.daf-apis.com/nglstate/api/v1/5915653571608576',\n",
       " 'https://ngl.flywire.ai/?json_url=https://global.daf-apis.com/nglstate/api/v1/5352703618187264',\n",
       " 'https://ngl.flywire.ai/?json_url=https://global.daf-apis.com/nglstate/api/v1/5814864983359488',\n",
       " 'https://ngl.flywire.ai/?json_url=https://global.daf-apis.com/nglstate/api/v1/5251915029938176',\n",
       " 'https://ngl.flywire.ai/?json_url=https://global.daf-apis.com/nglstate/api/v1/5900792582111232',\n",
       " 'https://ngl.flywire.ai/?json_url=https://global.daf-apis.com/nglstate/api/v1/5451081182085120',\n",
       " 'https://ngl.flywire.ai/?json_url=https://global.daf-apis.com/nglstate/api/v1/6560501437825024',\n",
       " 'https://ngl.flywire.ai/?json_url=https://global.daf-apis.com/nglstate/api/v1/4762573098450944',\n",
       " 'https://ngl.flywire.ai/?json_url=https://global.daf-apis.com/nglstate/api/v1/4651354047905792',\n",
       " 'https://ngl.flywire.ai/?json_url=https://global.daf-apis.com/nglstate/api/v1/6435725742440448',\n",
       " 'https://ngl.flywire.ai/?json_url=https://global.daf-apis.com/nglstate/api/v1/5028350858887168',\n",
       " 'https://ngl.flywire.ai/?json_url=https://global.daf-apis.com/nglstate/api/v1/6437246160863232',\n",
       " 'https://ngl.flywire.ai/?json_url=https://global.daf-apis.com/nglstate/api/v1/5794208673693696',\n",
       " 'https://ngl.flywire.ai/?json_url=https://global.daf-apis.com/nglstate/api/v1/5777253954748416',\n",
       " 'https://ngl.flywire.ai/?json_url=https://global.daf-apis.com/nglstate/api/v1/5029871277309952',\n",
       " 'https://ngl.flywire.ai/?json_url=https://global.daf-apis.com/nglstate/api/v1/5214304001327104',\n",
       " 'https://ngl.flywire.ai/?json_url=https://global.daf-apis.com/nglstate/api/v1/6154250765729792',\n",
       " 'https://ngl.flywire.ai/?json_url=https://global.daf-apis.com/nglstate/api/v1/5476211039928320',\n",
       " 'https://ngl.flywire.ai/?json_url=https://global.daf-apis.com/nglstate/api/v1/6425802874814464',\n",
       " 'https://ngl.flywire.ai/?json_url=https://global.daf-apis.com/nglstate/api/v1/5237782054174720',\n",
       " 'https://ngl.flywire.ai/?json_url=https://global.daf-apis.com/nglstate/api/v1/5888473005293568',\n",
       " 'https://ngl.flywire.ai/?json_url=https://global.daf-apis.com/nglstate/api/v1/6152864464371712',\n",
       " 'https://ngl.flywire.ai/?json_url=https://global.daf-apis.com/nglstate/api/v1/4730914089205760',\n",
       " 'https://ngl.flywire.ai/?json_url=https://global.daf-apis.com/nglstate/api/v1/6363681961017344',\n",
       " 'https://ngl.flywire.ai/?json_url=https://global.daf-apis.com/nglstate/api/v1/5939394137554944',\n",
       " 'https://ngl.flywire.ai/?json_url=https://global.daf-apis.com/nglstate/api/v1/4955262226006016',\n",
       " 'https://ngl.flywire.ai/?json_url=https://global.daf-apis.com/nglstate/api/v1/5378631731773440',\n",
       " 'https://ngl.flywire.ai/?json_url=https://global.daf-apis.com/nglstate/api/v1/5688834603876352',\n",
       " 'https://ngl.flywire.ai/?json_url=https://global.daf-apis.com/nglstate/api/v1/6565301583872000',\n",
       " 'https://ngl.flywire.ai/?json_url=https://global.daf-apis.com/nglstate/api/v1/5816626540707840',\n",
       " 'https://ngl.flywire.ai/?json_url=https://global.daf-apis.com/nglstate/api/v1/5856813996048384',\n",
       " 'https://ngl.flywire.ai/?json_url=https://global.daf-apis.com/nglstate/api/v1/5675970103083008',\n",
       " 'https://ngl.flywire.ai/?json_url=https://global.daf-apis.com/nglstate/api/v1/6599430887178240',\n",
       " 'https://ngl.flywire.ai/?json_url=https://global.daf-apis.com/nglstate/api/v1/5098886217596928',\n",
       " 'https://ngl.flywire.ai/?json_url=https://global.daf-apis.com/nglstate/api/v1/5018427991261184',\n",
       " 'https://ngl.flywire.ai/?json_url=https://global.daf-apis.com/nglstate/api/v1/4797905110040576',\n",
       " 'https://ngl.flywire.ai/?json_url=https://global.daf-apis.com/nglstate/api/v1/5132138122838016',\n",
       " 'https://ngl.flywire.ai/?json_url=https://global.daf-apis.com/nglstate/api/v1/4546452357382144',\n",
       " 'https://ngl.flywire.ai/?json_url=https://global.daf-apis.com/nglstate/api/v1/6678082677112832',\n",
       " 'https://ngl.flywire.ai/?json_url=https://global.daf-apis.com/nglstate/api/v1/6155771184152576',\n",
       " 'https://ngl.flywire.ai/?json_url=https://global.daf-apis.com/nglstate/api/v1/6602110946770944',\n",
       " 'https://ngl.flywire.ai/?json_url=https://global.daf-apis.com/nglstate/api/v1/4680791351099392',\n",
       " 'https://ngl.flywire.ai/?json_url=https://global.daf-apis.com/nglstate/api/v1/6719007067471872',\n",
       " 'https://ngl.flywire.ai/?json_url=https://global.daf-apis.com/nglstate/api/v1/5591300812308480',\n",
       " 'https://ngl.flywire.ai/?json_url=https://global.daf-apis.com/nglstate/api/v1/4572760370053120',\n",
       " 'https://ngl.flywire.ai/?json_url=https://global.daf-apis.com/nglstate/api/v1/5376444184133632',\n",
       " 'https://ngl.flywire.ai/?json_url=https://global.daf-apis.com/nglstate/api/v1/6255850683367424',\n",
       " 'https://ngl.flywire.ai/?json_url=https://global.daf-apis.com/nglstate/api/v1/5325523051872256',\n",
       " 'https://ngl.flywire.ai/?json_url=https://global.daf-apis.com/nglstate/api/v1/6340203908169728',\n",
       " 'https://ngl.flywire.ai/?json_url=https://global.daf-apis.com/nglstate/api/v1/6715814417793024',\n",
       " 'https://ngl.flywire.ai/?json_url=https://global.daf-apis.com/nglstate/api/v1/5592821230731264',\n",
       " 'https://ngl.flywire.ai/?json_url=https://global.daf-apis.com/nglstate/api/v1/5125884650455040',\n",
       " 'https://ngl.flywire.ai/?json_url=https://global.daf-apis.com/nglstate/api/v1/6502344090976256',\n",
       " 'https://ngl.flywire.ai/?json_url=https://global.daf-apis.com/nglstate/api/v1/5672352264224768',\n",
       " 'https://ngl.flywire.ai/?json_url=https://global.daf-apis.com/nglstate/api/v1/4772523598151680',\n",
       " 'https://ngl.flywire.ai/?json_url=https://global.daf-apis.com/nglstate/api/v1/5231258720272384',\n",
       " 'https://ngl.flywire.ai/?json_url=https://global.daf-apis.com/nglstate/api/v1/4932829024616448',\n",
       " 'https://ngl.flywire.ai/?json_url=https://global.daf-apis.com/nglstate/api/v1/5923805016883200',\n",
       " 'https://ngl.flywire.ai/?json_url=https://global.daf-apis.com/nglstate/api/v1/6478603525029888',\n",
       " 'https://ngl.flywire.ai/?json_url=https://global.daf-apis.com/nglstate/api/v1/4769843538558976',\n",
       " 'https://ngl.flywire.ai/?json_url=https://global.daf-apis.com/nglstate/api/v1/4970440053227520',\n",
       " 'https://ngl.flywire.ai/?json_url=https://global.daf-apis.com/nglstate/api/v1/4672756742356992',\n",
       " 'https://ngl.flywire.ai/?json_url=https://global.daf-apis.com/nglstate/api/v1/6082206984306688',\n",
       " 'https://ngl.flywire.ai/?json_url=https://global.daf-apis.com/nglstate/api/v1/5135710323474432',\n",
       " 'https://ngl.flywire.ai/?json_url=https://global.daf-apis.com/nglstate/api/v1/6251784557297664',\n",
       " 'https://ngl.flywire.ai/?json_url=https://global.daf-apis.com/nglstate/api/v1/5109402310803456',\n",
       " 'https://ngl.flywire.ai/?json_url=https://global.daf-apis.com/nglstate/api/v1/5360855063461888',\n",
       " 'https://ngl.flywire.ai/?json_url=https://global.daf-apis.com/nglstate/api/v1/6414646630154240',\n",
       " 'https://ngl.flywire.ai/?json_url=https://global.daf-apis.com/nglstate/api/v1/5434638172422144',\n",
       " 'https://ngl.flywire.ai/?json_url=https://global.daf-apis.com/nglstate/api/v1/6451422958714880',\n",
       " 'https://ngl.flywire.ai/?json_url=https://global.daf-apis.com/nglstate/api/v1/6144327898103808',\n",
       " 'https://ngl.flywire.ai/?json_url=https://global.daf-apis.com/nglstate/api/v1/5806691257942016',\n",
       " 'https://ngl.flywire.ai/?json_url=https://global.daf-apis.com/nglstate/api/v1/6486754970304512',\n",
       " 'https://ngl.flywire.ai/?json_url=https://global.daf-apis.com/nglstate/api/v1/5044048075161600',\n",
       " 'https://ngl.flywire.ai/?json_url=https://global.daf-apis.com/nglstate/api/v1/6576981088927744',\n",
       " 'https://ngl.flywire.ai/?json_url=https://global.daf-apis.com/nglstate/api/v1/6504531638616064',\n",
       " 'https://ngl.flywire.ai/?json_url=https://global.daf-apis.com/nglstate/api/v1/6717200719151104',\n",
       " 'https://ngl.flywire.ai/?json_url=https://global.daf-apis.com/nglstate/api/v1/4657167621685248',\n",
       " 'https://ngl.flywire.ai/?json_url=https://global.daf-apis.com/nglstate/api/v1/5898423504994304',\n",
       " 'https://ngl.flywire.ai/?json_url=https://global.daf-apis.com/nglstate/api/v1/5335473551572992',\n",
       " 'https://ngl.flywire.ai/?json_url=https://global.daf-apis.com/nglstate/api/v1/5243741304520704',\n",
       " 'https://ngl.flywire.ai/?json_url=https://global.daf-apis.com/nglstate/api/v1/4674944289996800',\n",
       " 'https://ngl.flywire.ai/?json_url=https://global.daf-apis.com/nglstate/api/v1/6560538079264768',\n",
       " 'https://ngl.flywire.ai/?json_url=https://global.daf-apis.com/nglstate/api/v1/4570954021732352',\n",
       " 'https://ngl.flywire.ai/?json_url=https://global.daf-apis.com/nglstate/api/v1/5798656649199616',\n",
       " 'https://ngl.flywire.ai/?json_url=https://global.daf-apis.com/nglstate/api/v1/5696853928574976',\n",
       " 'https://ngl.flywire.ai/?json_url=https://global.daf-apis.com/nglstate/api/v1/5133903975153664',\n",
       " 'https://ngl.flywire.ai/?json_url=https://global.daf-apis.com/nglstate/api/v1/5519257030885376',\n",
       " 'https://ngl.flywire.ai/?json_url=https://global.daf-apis.com/nglstate/api/v1/6645156937728000',\n",
       " 'https://ngl.flywire.ai/?json_url=https://global.daf-apis.com/nglstate/api/v1/5895743445401600',\n",
       " 'https://ngl.flywire.ai/?json_url=https://global.daf-apis.com/nglstate/api/v1/6369641211363328',\n",
       " 'https://ngl.flywire.ai/?json_url=https://global.daf-apis.com/nglstate/api/v1/5332793491980288',\n",
       " 'https://ngl.flywire.ai/?json_url=https://global.daf-apis.com/nglstate/api/v1/6169947982004224',\n",
       " 'https://ngl.flywire.ai/?json_url=https://global.daf-apis.com/nglstate/api/v1/6357158627115008',\n",
       " 'https://ngl.flywire.ai/?json_url=https://global.daf-apis.com/nglstate/api/v1/6528002494038016',\n",
       " 'https://ngl.flywire.ai/?json_url=https://global.daf-apis.com/nglstate/api/v1/6463742535532544',\n",
       " 'https://ngl.flywire.ai/?json_url=https://global.daf-apis.com/nglstate/api/v1/6379576494129152',\n",
       " 'https://ngl.flywire.ai/?json_url=https://global.daf-apis.com/nglstate/api/v1/6096339960070144',\n",
       " 'https://ngl.flywire.ai/?json_url=https://global.daf-apis.com/nglstate/api/v1/4962266327810048',\n",
       " 'https://ngl.flywire.ai/?json_url=https://global.daf-apis.com/nglstate/api/v1/4637389095960576',\n",
       " 'https://ngl.flywire.ai/?json_url=https://global.daf-apis.com/nglstate/api/v1/6458693398822912',\n",
       " 'https://ngl.flywire.ai/?json_url=https://global.daf-apis.com/nglstate/api/v1/5056367651979264',\n",
       " 'https://ngl.flywire.ai/?json_url=https://global.daf-apis.com/nglstate/api/v1/4949783743561728',\n",
       " 'https://ngl.flywire.ai/?json_url=https://global.daf-apis.com/nglstate/api/v1/5235706695778304',\n",
       " 'https://ngl.flywire.ai/?json_url=https://global.daf-apis.com/nglstate/api/v1/5581377944682496',\n",
       " 'https://ngl.flywire.ai/?json_url=https://global.daf-apis.com/nglstate/api/v1/6160700531539968',\n",
       " 'https://ngl.flywire.ai/?json_url=https://global.daf-apis.com/nglstate/api/v1/4844409673744384',\n",
       " 'https://ngl.flywire.ai/?json_url=https://global.daf-apis.com/nglstate/api/v1/6081162132848640',\n",
       " 'https://ngl.flywire.ai/?json_url=https://global.daf-apis.com/nglstate/api/v1/6058728931459072',\n",
       " 'https://ngl.flywire.ai/?json_url=https://global.daf-apis.com/nglstate/api/v1/5763289002803200',\n",
       " 'https://ngl.flywire.ai/?json_url=https://global.daf-apis.com/nglstate/api/v1/5051318515269632',\n",
       " 'https://ngl.flywire.ai/?json_url=https://global.daf-apis.com/nglstate/api/v1/4972201610575872',\n",
       " 'https://ngl.flywire.ai/?json_url=https://global.daf-apis.com/nglstate/api/v1/5200339049381888',\n",
       " 'https://ngl.flywire.ai/?json_url=https://global.daf-apis.com/nglstate/api/v1/5518212179427328',\n",
       " 'https://ngl.flywire.ai/?json_url=https://global.daf-apis.com/nglstate/api/v1/4698415145418752',\n",
       " 'https://ngl.flywire.ai/?json_url=https://global.daf-apis.com/nglstate/api/v1/6235302217646080',\n",
       " 'https://ngl.flywire.ai/?json_url=https://global.daf-apis.com/nglstate/api/v1/4604463356575744',\n",
       " 'https://ngl.flywire.ai/?json_url=https://global.daf-apis.com/nglstate/api/v1/5730363263418368',\n",
       " 'https://ngl.flywire.ai/?json_url=https://global.daf-apis.com/nglstate/api/v1/6461373458415616',\n",
       " 'https://ngl.flywire.ai/?json_url=https://global.daf-apis.com/nglstate/api/v1/5970309580587008',\n",
       " 'https://ngl.flywire.ai/?json_url=https://global.daf-apis.com/nglstate/api/v1/5783067528527872',\n",
       " 'https://ngl.flywire.ai/?json_url=https://global.daf-apis.com/nglstate/api/v1/6259803881996288',\n",
       " 'https://ngl.flywire.ai/?json_url=https://global.daf-apis.com/nglstate/api/v1/4747393740308480',\n",
       " 'https://ngl.flywire.ai/?json_url=https://global.daf-apis.com/nglstate/api/v1/5533390006648832',\n",
       " 'https://ngl.flywire.ai/?json_url=https://global.daf-apis.com/nglstate/api/v1/5495778978037760',\n",
       " 'https://ngl.flywire.ai/?json_url=https://global.daf-apis.com/nglstate/api/v1/6177218422112256',\n",
       " 'https://ngl.flywire.ai/?json_url=https://global.daf-apis.com/nglstate/api/v1/4649016176410624',\n",
       " 'https://ngl.flywire.ai/?json_url=https://global.daf-apis.com/nglstate/api/v1/4852428998443008',\n",
       " 'https://ngl.flywire.ai/?json_url=https://global.daf-apis.com/nglstate/api/v1/5824315052261376',\n",
       " 'https://ngl.flywire.ai/?json_url=https://global.daf-apis.com/nglstate/api/v1/6075683650404352',\n",
       " 'https://ngl.flywire.ai/?json_url=https://global.daf-apis.com/nglstate/api/v1/5053998574862336',\n",
       " 'https://ngl.flywire.ai/?json_url=https://global.daf-apis.com/nglstate/api/v1/4827927334092800',\n",
       " 'https://ngl.flywire.ai/?json_url=https://global.daf-apis.com/nglstate/api/v1/5800844196839424',\n",
       " 'https://ngl.flywire.ai/?json_url=https://global.daf-apis.com/nglstate/api/v1/5512733696983040',\n",
       " 'https://ngl.flywire.ai/?json_url=https://global.daf-apis.com/nglstate/api/v1/6644112086269952',\n",
       " 'https://ngl.flywire.ai/?json_url=https://global.daf-apis.com/nglstate/api/v1/5237894243418112',\n",
       " 'https://ngl.flywire.ai/?json_url=https://global.daf-apis.com/nglstate/api/v1/6718721137573888',\n",
       " 'https://ngl.flywire.ai/?json_url=https://global.daf-apis.com/nglstate/api/v1/5774916083253248',\n",
       " 'https://ngl.flywire.ai/?json_url=https://global.daf-apis.com/nglstate/api/v1/5220117575106560',\n",
       " 'https://ngl.flywire.ai/?json_url=https://global.daf-apis.com/nglstate/api/v1/5167413309997056',\n",
       " 'https://ngl.flywire.ai/?json_url=https://global.daf-apis.com/nglstate/api/v1/6224786124439552',\n",
       " 'https://ngl.flywire.ai/?json_url=https://global.daf-apis.com/nglstate/api/v1/6707277851525120',\n",
       " 'https://ngl.flywire.ai/?json_url=https://global.daf-apis.com/nglstate/api/v1/4561031154106368',\n",
       " 'https://ngl.flywire.ai/?json_url=https://global.daf-apis.com/nglstate/api/v1/4572474440155136',\n",
       " 'https://ngl.flywire.ai/?json_url=https://global.daf-apis.com/nglstate/api/v1/6621678884880384',\n",
       " 'https://ngl.flywire.ai/?json_url=https://global.daf-apis.com/nglstate/api/v1/6732897935425536',\n",
       " 'https://ngl.flywire.ai/?json_url=https://global.daf-apis.com/nglstate/api/v1/5007271746600960',\n",
       " 'https://ngl.flywire.ai/?json_url=https://global.daf-apis.com/nglstate/api/v1/6182267558821888',\n",
       " 'https://ngl.flywire.ai/?json_url=https://global.daf-apis.com/nglstate/api/v1/5597750578118656',\n",
       " 'https://ngl.flywire.ai/?json_url=https://global.daf-apis.com/nglstate/api/v1/6659289913491456',\n",
       " 'https://ngl.flywire.ai/?json_url=https://global.daf-apis.com/nglstate/api/v1/4735714235252736',\n",
       " 'https://ngl.flywire.ai/?json_url=https://global.daf-apis.com/nglstate/api/v1/5293864042627072',\n",
       " 'https://ngl.flywire.ai/?json_url=https://global.daf-apis.com/nglstate/api/v1/4569567720374272',\n",
       " 'https://ngl.flywire.ai/?json_url=https://global.daf-apis.com/nglstate/api/v1/5686931060948992',\n",
       " 'https://ngl.flywire.ai/?json_url=https://global.daf-apis.com/nglstate/api/v1/5619317605400576',\n",
       " 'https://ngl.flywire.ai/?json_url=https://global.daf-apis.com/nglstate/api/v1/5953827240935424',\n",
       " 'https://ngl.flywire.ai/?json_url=https://global.daf-apis.com/nglstate/api/v1/5614268468690944',\n",
       " 'https://ngl.flywire.ai/?json_url=https://global.daf-apis.com/nglstate/api/v1/4885938333286400',\n",
       " 'https://ngl.flywire.ai/?json_url=https://global.daf-apis.com/nglstate/api/v1/6363794150260736',\n",
       " 'https://ngl.flywire.ai/?json_url=https://global.daf-apis.com/nglstate/api/v1/5123981107527680',\n",
       " 'https://ngl.flywire.ai/?json_url=https://global.daf-apis.com/nglstate/api/v1/5407359627165696']"
      ]
     },
     "execution_count": 13,
     "metadata": {},
     "output_type": "execute_result"
    }
   ],
   "source": [
    "url_list"
   ]
  },
  {
   "cell_type": "markdown",
   "id": "d6a7e605",
   "metadata": {},
   "source": [
    "### 4. Saving"
   ]
  },
  {
   "cell_type": "code",
   "execution_count": 14,
   "id": "72fce074",
   "metadata": {},
   "outputs": [],
   "source": [
    "# Adding the new url column to the data frame\n",
    "filtered_df[\"URL buhmann postsynapses\"] = url_list\n",
    "\n",
    "# Writting in an existing excel file\n",
    "from openpyxl import load_workbook\n",
    "book = load_workbook(filePath)\n",
    "writer = pd.ExcelWriter(filePath, engine = 'openpyxl')\n",
    "writer.book = book\n",
    "\n",
    "filtered_df.to_excel(writer, sheet_name='buhmann synapses')\n",
    "writer.save()\n",
    "\n"
   ]
  },
  {
   "cell_type": "markdown",
   "id": "6c849eb8",
   "metadata": {},
   "source": [
    "## C) Linking pre and postsynaptic sites"
   ]
  },
  {
   "cell_type": "markdown",
   "id": "989dd1e3",
   "metadata": {},
   "source": [
    "You need to paste the dictionary into the neuroglancer annotation layer through the “Edit JSON state” button that you can access through the top-right corner menu.\n",
    "Paste the dictionary to replace the [] after \"annotations\":\n",
    "See the image below. Then press “Apply changes” and the synaptic links should show up.\n",
    "\n",
    "<img src=\"./images_visualization/change_annotation_layer_neuroglancer.png\"\n",
    "     alt=\"Optic lobe\"\n",
    "     width=\"500\" height=\"300\" style=\"display: block; margin: 0 auto\" />\n"
   ]
  },
  {
   "cell_type": "code",
   "execution_count": null,
   "id": "f0f41e4c",
   "metadata": {},
   "outputs": [],
   "source": [
    "synapses_vectors = np.hstack(\n",
    "        [np.vstack(synapses.pre_pt_position.values),\n",
    "        np.vstack(synapses.post_pt_position.values)])\n",
    "\n",
    "json_dict = to_ng_annotations(synapses_vectors, input_order='xyz', voxel_mip_center=1, input_units=(4,4,40))"
   ]
  },
  {
   "cell_type": "markdown",
   "id": "4d997d87",
   "metadata": {},
   "source": [
    "## D) Displaying presynaptic sites of a given neuropile (try to mimicking Brp stainings)\n"
   ]
  },
  {
   "cell_type": "markdown",
   "id": "b3fd30d9",
   "metadata": {},
   "source": [
    "### 1. Accesing data through filtered materializations (dumps by Sven Dorkenwald)\n"
   ]
  },
  {
   "cell_type": "markdown",
   "id": "33871653",
   "metadata": {},
   "source": [
    "As far as I have checked, there is no way to select a group of Buhmann synapses with a non-rectangular volume, for example:<br><br>`top_left = np.array([158278, 71889, 2189])*[4,4,40]\n",
    "bottom_right = np.array([171350, 73983, 2237])*[4,4,40]`\n",
    "<br><br>`synapses = client.materialize.synapse_query(\n",
    "    bounding_box=[top_left, bottom_right],\n",
    "    bounding_box_column='pre_pt_position')`\n",
    "<br><br>Thefore, to get all synapses for specific neuropils (not rectangular volumes), we work with dump tables shared by Sven Dorkenwald <a href=\"https://drive.google.com/drive/folders/1g7i3LMmDFcZXDXzevy3eUSrmcMJl2B6a\">here.</a>\n",
    "<br>Download the last dump first before continuing."
   ]
  },
  {
   "cell_type": "markdown",
   "id": "abc709ac",
   "metadata": {},
   "source": [
    "**DISCLAIMER:** Limited query to 200000 rows\n",
    "<br><br>**TODO** : To get a CLEAN neuropil: \n",
    "\n",
    "1. Get all root_IDs (segment IDs) belonging to a given neuropile (loaded from dump materialization).\n",
    "2. Pass these list in the `flywire.synapses.fetch_synapses` function to get XYZ location and the neuropile\n",
    "3. Filter according to the neuropile"
   ]
  },
  {
   "cell_type": "code",
   "execution_count": null,
   "id": "f82cfe6b",
   "metadata": {},
   "outputs": [],
   "source": [
    "# Choocing the latest dump files\n",
    "\n",
    "import os\n",
    "dataPath = r'D:\\Sebastian\\Science\\FlyWire\\materializations\\487'\n",
    "fileName = 'syn_proof_analysis_filtered_487.feather'\n",
    "filePath = os.path.join(dataPath,fileName)"
   ]
  },
  {
   "cell_type": "code",
   "execution_count": null,
   "id": "4eb0ea53",
   "metadata": {},
   "outputs": [],
   "source": [
    "import pyarrow.feather as feather\n",
    "\n",
    "# Loading dumps\n",
    "syn_df = feather.read_feather(filePath)"
   ]
  },
  {
   "cell_type": "code",
   "execution_count": null,
   "id": "3520d541",
   "metadata": {},
   "outputs": [],
   "source": [
    "# Getting all connecting pre and post IDs an specific neuropil\n",
    "\n",
    "neuropile = 'ME_R' # Choosen neuropil\n",
    "syn_threshold = [50,100] # minimum and maximum number of synapses to consider\n",
    "\n",
    "print(f\"Threshold: > {syn_threshold} synapses\")\n",
    "print(\"--\")\n",
    "syn_df = syn_df[((syn_df['syn_count'] > syn_threshold[0]) & (syn_df['syn_count'] < syn_threshold[1]))] # Sub dataframe for the selected threshold\n",
    "print(f\"Number of unique pre-IDs: {len(syn_df['pre_pt_root_id'].unique())}\")\n",
    "print(f\"Number of unique post-IDs: {len(syn_df['post_pt_root_id'].unique())}\")\n",
    "print(f\"Total number of synapses: {syn_df['syn_count'].sum()}\")\n",
    "print(\"--\")\n",
    "\n",
    "#Filtering for a neuropile and for more than one synaptic count\n",
    "syn_neuropile_df = syn_df[(syn_df['neuropil'] == neuropile)] # Sub dataframe for the selected neuropile\n",
    "print(f\"Number of unique {neuropile} pre-IDs: {len(syn_neuropile_df['pre_pt_root_id'].unique())}\")\n",
    "print(f\"Number of unique {neuropile} post-IDs: {len(syn_neuropile_df['post_pt_root_id'].unique())}\")\n",
    "print(f\"Total number of {neuropile} synapses: {syn_neuropile_df['syn_count'].sum()}\")\n",
    "\n",
    "#Storing the IDs in a common list\n",
    "pre_IDs = syn_neuropile_df['pre_pt_root_id'].unique().tolist()\n",
    "post_IDs = syn_neuropile_df['post_pt_root_id'].unique().tolist()\n",
    "segmentsIDs_ls = pre_IDs+post_IDs\n",
    "segmentsIDs_ls = list(dict.fromkeys(segmentsIDs_ls))"
   ]
  },
  {
   "cell_type": "code",
   "execution_count": null,
   "id": "b056b992",
   "metadata": {},
   "outputs": [],
   "source": [
    "# Downsampling at the ID level\n",
    "#(to avoid the limitation of queryng live materializations, as all CAVEclient or flywire functions do)\n",
    "\n",
    "import random\n",
    "random.seed(42)\n",
    "\n",
    "group_of_items = segmentsIDs_ls\n",
    "num_to_select = 5 \n",
    "segmentsIDs_random_ls = random.sample(group_of_items, num_to_select)"
   ]
  },
  {
   "cell_type": "code",
   "execution_count": null,
   "id": "50878dd7",
   "metadata": {},
   "outputs": [],
   "source": [
    "# Updating IDs\n",
    "from fafbseg import flywire\n",
    "df_upddated_segmentsIDs = flywire.update_ids(segmentsIDs_random_ls) \n",
    "new_segmentsIDs_ls = df_upddated_segmentsIDs.new_id.values"
   ]
  },
  {
   "cell_type": "code",
   "execution_count": null,
   "id": "6b9b1573",
   "metadata": {},
   "outputs": [],
   "source": [
    "# Getting synapses locations and neuropile\n",
    "inputs = flywire.synapses.fetch_synapses(new_segmentsIDs_ls, pre=False, post=True, attach=True, \n",
    "                                         min_score=50, clean=True, transmitters=True, \n",
    "                                         neuropils=True, batch_size=30,\n",
    "                                         dataset='production', progress=True)\n",
    "outputs = flywire.synapses.fetch_synapses(new_segmentsIDs_ls, pre=True, post=False, attach=True,\n",
    "                                          min_score=50, clean=True, transmitters=True,\n",
    "                                          neuropils=True, batch_size=30,\n",
    "                                          dataset='production', progress=True)\n"
   ]
  },
  {
   "cell_type": "code",
   "execution_count": null,
   "id": "07444eda",
   "metadata": {},
   "outputs": [],
   "source": [
    "# Getting the synapses location and generating URL (NOT CLEAN)\n",
    "import caveclient\n",
    "from nglui.statebuilder.helpers import make_synapse_neuroglancer_link\n",
    "\n",
    "client = caveclient.CAVEclient(\"flywire_fafb_production\")\n",
    "\n",
    "pre_list = syn_neuropile_df ['pre_pt_root_id'].tolist()\n",
    "post_list = syn_neuropile_df ['post_pt_root_id'].tolist()\n",
    "\n",
    "synapses = client.materialize.synapse_query(\n",
    "        pre_ids = pre_list, post_ids = post_list,\n",
    "        bounding_box_column='pre_pt_position'\n",
    "        )\n",
    "\n",
    "url = make_synapse_neuroglancer_link(synapses, client, point_column='pre_pt_position')\n",
    "display(url)"
   ]
  },
  {
   "cell_type": "code",
   "execution_count": null,
   "id": "b8d9590c",
   "metadata": {},
   "outputs": [],
   "source": [
    "# Getting neuropil-CLEAN synaptic locations\n",
    "inputs_neuropil_df = inputs[inputs[\"neuropil\"] == neuropile].copy() # Important here to get a copy and not just a slice\n",
    "outputs_neuropil_df = outputs[outputs[\"neuropil\"] == neuropile].copy()"
   ]
  },
  {
   "cell_type": "code",
   "execution_count": null,
   "id": "5fa0b1b4",
   "metadata": {},
   "outputs": [],
   "source": [
    "# Creating colums with combined XYZ positions for using the `make_synapse_neuroglancer_link` function\n",
    "post_pt_position = []\n",
    "for x,y,z in zip(inputs_neuropil_df['post_x'].tolist(),inputs_neuropil_df['post_y'].tolist(),inputs_neuropil_df['post_z'].tolist()):\n",
    "    temp_ls = [x/4,y/4,z/40]\n",
    "    post_pt_position.append(temp_ls)\n",
    "\n",
    "pre_pt_position = []\n",
    "for x,y,z in zip(outputs_neuropil_df['pre_x'].tolist(),outputs_neuropil_df['pre_y'].tolist(),outputs_neuropil_df['pre_z'].tolist()):\n",
    "    temp_ls = [x/4,y/4,z/40]\n",
    "    pre_pt_position.append(temp_ls)"
   ]
  },
  {
   "cell_type": "code",
   "execution_count": null,
   "id": "e6ce5628",
   "metadata": {},
   "outputs": [],
   "source": [
    "# Adding this new column to the dataset and changing some column names to use the `make_synapse_neuroglancer_link` function\n",
    "#Adding\n",
    "inputs_neuropil_df['post_pt_position'] = post_pt_position\n",
    "outputs_neuropil_df['pre_pt_position'] = pre_pt_position\n",
    "#Changing column names\n",
    "inputs_neuropil_df.rename(columns={'pre': 'pre_pt_root_id', 'post': 'post_pt_root_id'}, inplace=True)\n",
    "outputs_neuropil_df.rename(columns={'pre': 'pre_pt_root_id', 'post': 'post_pt_root_id'}, inplace=True)"
   ]
  },
  {
   "cell_type": "code",
   "execution_count": null,
   "id": "2f04ceaf",
   "metadata": {},
   "outputs": [],
   "source": [
    "outputs_neuropil_df.head()"
   ]
  },
  {
   "cell_type": "code",
   "execution_count": null,
   "id": "bf31f096",
   "metadata": {},
   "outputs": [],
   "source": [
    "# Downsampling at the final data frame level\n",
    "#(to avoid the limitation of generating URL links with to many anotations)\n",
    "downsampled_outputs_neuropil_df= outputs_neuropil_df.sample(n=30, random_state=42)"
   ]
  },
  {
   "cell_type": "code",
   "execution_count": null,
   "id": "09e27bf2",
   "metadata": {},
   "outputs": [],
   "source": [
    "# Generating URL (The connection is being aborted after some time if too many connections are included!)\n",
    "\n",
    "import caveclient\n",
    "from nglui.statebuilder.helpers import make_synapse_neuroglancer_link\n",
    "\n",
    "client = caveclient.CAVEclient(\"flywire_fafb_production\")\n",
    "\n",
    "url = make_synapse_neuroglancer_link(downsampled_outputs_neuropil_df, client, point_column='pre_pt_position')\n",
    "display(url)"
   ]
  },
  {
   "cell_type": "markdown",
   "id": "d6f26dba",
   "metadata": {},
   "source": [
    "### 1. Or,  accesing data without filters from the CAVE annotation system.. . \n",
    "\n",
    "**DISCLAIMER**: Currently it is not possible to get more than 200000 rows /data points from available tables."
   ]
  },
  {
   "cell_type": "markdown",
   "id": "c0b840b5",
   "metadata": {},
   "source": [
    "Using low level access to the CAVE annotation system. More info, <a href= \"https://natverse.org/fafbseg/reference/flywire_cave_client.html\"> here</a> or <a href=\"https://caveclient.readthedocs.io/en/latest/guide/annotation.html?highlight=tables#getting-existing-tables\"> here.</a>"
   ]
  },
  {
   "cell_type": "code",
   "execution_count": null,
   "id": "c16633e6",
   "metadata": {},
   "outputs": [],
   "source": [
    "# Checking available tables\n",
    "\n",
    "all_tables = client.annotation.get_tables()\n",
    "#all_tables"
   ]
  },
  {
   "cell_type": "code",
   "execution_count": null,
   "id": "33c80602",
   "metadata": {},
   "outputs": [],
   "source": [
    "import caveclient\n",
    "client = caveclient.CAVEclient(\"flywire_fafb_production\")\n",
    "ident_df = client.materialize.query_table(\"fly_synapses_neuropil\") # identification dataframe  with neuropil data\n"
   ]
  },
  {
   "cell_type": "code",
   "execution_count": null,
   "id": "a13f61bc",
   "metadata": {},
   "outputs": [],
   "source": [
    "ident_df.head()"
   ]
  },
  {
   "cell_type": "code",
   "execution_count": null,
   "id": "266f0b2c",
   "metadata": {},
   "outputs": [],
   "source": [
    "from nglui.statebuilder.helpers import make_synapse_neuroglancer_link\n",
    "\n",
    "url = make_synapse_neuroglancer_link(ident_df, client, point_column='pre_pt_position')"
   ]
  },
  {
   "cell_type": "code",
   "execution_count": null,
   "id": "d74a2e64",
   "metadata": {},
   "outputs": [],
   "source": [
    "display(url)"
   ]
  },
  {
   "cell_type": "code",
   "execution_count": null,
   "id": "6c4b1c9e",
   "metadata": {},
   "outputs": [],
   "source": []
  },
  {
   "cell_type": "markdown",
   "id": "edd34438",
   "metadata": {},
   "source": [
    "### 1. Or, getting a neuropile volume through itereations of rectangular boxes using \"bounding_box\" option from<br><br>`client.materialize.synapse_query`  (under development)"
   ]
  },
  {
   "cell_type": "code",
   "execution_count": null,
   "id": "ca47072e",
   "metadata": {},
   "outputs": [],
   "source": [
    "# To be done"
   ]
  },
  {
   "cell_type": "code",
   "execution_count": null,
   "id": "b3b3c964",
   "metadata": {},
   "outputs": [],
   "source": []
  },
  {
   "cell_type": "markdown",
   "id": "08bae7c6",
   "metadata": {},
   "source": [
    "## E) Visualizing neuron´s main branch location and cluster of neighboring neurons"
   ]
  },
  {
   "cell_type": "markdown",
   "id": "ce7518d9",
   "metadata": {},
   "source": [
    "### 1. Load IDs from file"
   ]
  },
  {
   "cell_type": "code",
   "execution_count": 67,
   "id": "c1bf0bd6",
   "metadata": {},
   "outputs": [],
   "source": [
    "# Choose path and file\n",
    "dataPath = r'C:\\Users\\sebas\\Downloads'\n",
    "fileName = 'Tm9 proofreadings_20221212.xlsx'\n",
    "filePath = os.path.join(dataPath,fileName)"
   ]
  },
  {
   "cell_type": "code",
   "execution_count": 68,
   "id": "ef15acb3",
   "metadata": {},
   "outputs": [
    {
     "data": {
      "text/html": [
       "<div>\n",
       "<style scoped>\n",
       "    .dataframe tbody tr th:only-of-type {\n",
       "        vertical-align: middle;\n",
       "    }\n",
       "\n",
       "    .dataframe tbody tr th {\n",
       "        vertical-align: top;\n",
       "    }\n",
       "\n",
       "    .dataframe thead th {\n",
       "        text-align: right;\n",
       "    }\n",
       "</style>\n",
       "<table border=\"1\" class=\"dataframe\">\n",
       "  <thead>\n",
       "    <tr style=\"text-align: right;\">\n",
       "      <th></th>\n",
       "      <th>XYZ soma</th>\n",
       "      <th>XYZ</th>\n",
       "      <th>voxel_raw_x</th>\n",
       "      <th>voxel_raw_y</th>\n",
       "      <th>voxel_raw_z</th>\n",
       "      <th>symbol</th>\n",
       "      <th>hemisphere</th>\n",
       "      <th>lab</th>\n",
       "      <th>author</th>\n",
       "      <th>name</th>\n",
       "      <th>seg_id</th>\n",
       "      <th>twigs proofread (Y/N)</th>\n",
       "      <th>identified_in</th>\n",
       "      <th>lab authorship (Y/N)</th>\n",
       "      <th>notes</th>\n",
       "      <th>annotations_link</th>\n",
       "      <th>Extra notes (see comments)</th>\n",
       "      <th>Working on</th>\n",
       "    </tr>\n",
       "  </thead>\n",
       "  <tbody>\n",
       "    <tr>\n",
       "      <th>0</th>\n",
       "      <td>61042, 90348, 5344</td>\n",
       "      <td>66139, 86342, 5433</td>\n",
       "      <td>66139.0</td>\n",
       "      <td>86342.0</td>\n",
       "      <td>5433.0</td>\n",
       "      <td>Tm9</td>\n",
       "      <td>R</td>\n",
       "      <td>Marion Silies</td>\n",
       "      <td>Jonas Chojetzki</td>\n",
       "      <td>Tm9, Tm9_R, transmedullary neuron Tm9, FBbt_00...</td>\n",
       "      <td>720575940629938298</td>\n",
       "      <td>Y</td>\n",
       "      <td>Fischbach &amp; Dittrich, 1989</td>\n",
       "      <td>Y</td>\n",
       "      <td>marked as complete and identified</td>\n",
       "      <td>https://ngl.flywire.ai/?json_url=https://globa...</td>\n",
       "      <td>NaN</td>\n",
       "      <td>NaN</td>\n",
       "    </tr>\n",
       "  </tbody>\n",
       "</table>\n",
       "</div>"
      ],
      "text/plain": [
       "             XYZ soma                 XYZ  voxel_raw_x  voxel_raw_y  \\\n",
       "0  61042, 90348, 5344  66139, 86342, 5433      66139.0      86342.0   \n",
       "\n",
       "   voxel_raw_z symbol hemisphere            lab           author  \\\n",
       "0       5433.0    Tm9          R  Marion Silies  Jonas Chojetzki   \n",
       "\n",
       "                                                name              seg_id  \\\n",
       "0  Tm9, Tm9_R, transmedullary neuron Tm9, FBbt_00...  720575940629938298   \n",
       "\n",
       "  twigs proofread (Y/N)               identified_in lab authorship (Y/N)  \\\n",
       "0                     Y  Fischbach & Dittrich, 1989                    Y   \n",
       "\n",
       "                               notes  \\\n",
       "0  marked as complete and identified   \n",
       "\n",
       "                                    annotations_link  \\\n",
       "0  https://ngl.flywire.ai/?json_url=https://globa...   \n",
       "\n",
       "  Extra notes (see comments) Working on  \n",
       "0                        NaN        NaN  "
      ]
     },
     "metadata": {},
     "output_type": "display_data"
    }
   ],
   "source": [
    "#Loading file as DataFrame\n",
    "df = pd.read_excel(filePath)\n",
    "if df[\"seg_id\"][0] == 'asdf': #Dropping the fisrt row ('asdf' was added as a walk-around to set that column values as type str)\n",
    "    df = df.iloc[1: , :]\n",
    "    df.reset_index(inplace=True,drop=True)\n",
    "display(df.head(1))"
   ]
  },
  {
   "cell_type": "markdown",
   "id": "680d7a4e",
   "metadata": {},
   "source": [
    "### 2. Applying som filters and changes to the data set"
   ]
  },
  {
   "cell_type": "code",
   "execution_count": 69,
   "id": "1ce8cf77",
   "metadata": {},
   "outputs": [],
   "source": [
    "filtered_df = df[df['hemisphere']== 'R'].copy()\n",
    "filtered_df = df.copy()"
   ]
  },
  {
   "cell_type": "code",
   "execution_count": 70,
   "id": "96f0bda6",
   "metadata": {},
   "outputs": [],
   "source": [
    "# transformig XYZ position from string to list of integers\n",
    "XYZ = []\n",
    "for s in filtered_df['XYZ'].tolist():\n",
    "    s_ls = s.split(\",\")\n",
    "    int_ls = list(map(int,s_ls))\n",
    "    XYZ.append(int_ls )\n",
    "    "
   ]
  },
  {
   "cell_type": "markdown",
   "id": "60f4db8c",
   "metadata": {},
   "source": [
    "### 3. Clustering 3D points"
   ]
  },
  {
   "cell_type": "code",
   "execution_count": 71,
   "id": "0414de4f",
   "metadata": {},
   "outputs": [],
   "source": [
    "import numpy as np\n",
    "import matplotlib.pyplot as plt\n",
    "from mpl_toolkits.mplot3d import Axes3D\n",
    "from sklearn.cluster import DBSCAN\n",
    "from sklearn.cluster import KMeans\n",
    "import colorcet as cc"
   ]
  },
  {
   "cell_type": "code",
   "execution_count": 72,
   "id": "2a68315d",
   "metadata": {},
   "outputs": [],
   "source": [
    "# Choose data\n",
    "data = np.array(XYZ)"
   ]
  },
  {
   "cell_type": "code",
   "execution_count": 73,
   "id": "bb0ce861",
   "metadata": {},
   "outputs": [
    {
     "name": "stdout",
     "output_type": "stream",
     "text": [
      "number of clusters found: 6\n",
      "cluster for each point:  [ 0  0  1  1  1  2  2  2  0  0  0 -1 -1  0 -1  2 -1 -1  1  3  0 -1  3  2\n",
      "  1 -1 -1  4  2 -1  4 -1 -1  0 -1 -1 -1 -1  2  0  3  3  2  3 -1  0  4  3\n",
      " -1 -1 -1  3  2  2 -1 -1  0  3 -1  3  4  3  3 -1  3 -1  0  0 -1 -1 -1 -1\n",
      "  4  4  4  4  4  4  4  4  4  4  4  4  4  4  4  4  4  4  4  4  4  4  0 -1\n",
      "  4  4]\n"
     ]
    },
    {
     "name": "stderr",
     "output_type": "stream",
     "text": [
      "C:\\Users\\sebas\\anaconda3\\envs\\EM\\lib\\site-packages\\ipykernel_launcher.py:6: MatplotlibDeprecationWarning: Axes3D(fig) adding itself to the figure is deprecated since 3.4. Pass the keyword argument auto_add_to_figure=False and use fig.add_axes(ax) to suppress this warning. The default value of auto_add_to_figure will change to False in mpl3.5 and True values will no longer work in 3.6.  This is consistent with other Axes classes.\n",
      "  \n",
      "C:\\Users\\sebas\\anaconda3\\envs\\EM\\lib\\site-packages\\ipykernel_launcher.py:18: MatplotlibDeprecationWarning: Axes3D(fig) adding itself to the figure is deprecated since 3.4. Pass the keyword argument auto_add_to_figure=False and use fig.add_axes(ax) to suppress this warning. The default value of auto_add_to_figure will change to False in mpl3.5 and True values will no longer work in 3.6.  This is consistent with other Axes classes.\n"
     ]
    }
   ],
   "source": [
    "# CLustering of 3D data point\n",
    "%matplotlib qt\n",
    "#%matplotlib inline\n",
    "\n",
    "fig = plt.figure()\n",
    "ax = Axes3D(fig)\n",
    "ax.scatter(data[:,0], data[:,1], data[:,2], s=40)\n",
    "#ax.view_init(azim=30,elev=50)\n",
    "plt.show()\n",
    "\n",
    "\n",
    "model = KMeans(n_clusters = 21, init = \"k-means++\", max_iter = 300, n_init = 10, random_state = 0)\n",
    "model = DBSCAN(eps=3200, min_samples=5)\n",
    "#model.fit_predict(data)\n",
    "pred = model.fit_predict(data)\n",
    "\n",
    "fig = plt.figure()\n",
    "ax = Axes3D(fig)\n",
    "my_cmap = sns.color_palette(\"magma\", as_cmap=True) \n",
    "ax.scatter(data[:,0], data[:,1], data[:,2], c=model.labels_*10, s=40,cmap=my_cmap)\n",
    "#ax.view_init(azim=30,elev=50)\n",
    "plt.show()\n",
    "\n",
    "print(\"number of clusters found: {}\".format(len(set(model.labels_))))\n",
    "print('cluster for each point: ', model.labels_)"
   ]
  },
  {
   "cell_type": "code",
   "execution_count": 77,
   "id": "d0d423d3",
   "metadata": {},
   "outputs": [
    {
     "name": "stderr",
     "output_type": "stream",
     "text": [
      "C:\\Users\\sebas\\anaconda3\\envs\\EM\\lib\\site-packages\\ipykernel_launcher.py:10: MatplotlibDeprecationWarning: Axes3D(fig) adding itself to the figure is deprecated since 3.4. Pass the keyword argument auto_add_to_figure=False and use fig.add_axes(ax) to suppress this warning. The default value of auto_add_to_figure will change to False in mpl3.5 and True values will no longer work in 3.6.  This is consistent with other Axes classes.\n",
      "  # Remove the CWD from sys.path while we load stuff.\n"
     ]
    }
   ],
   "source": [
    "# Replotting individual clusters\n",
    "cluster_idx = np.where(model.labels_ == 3)\n",
    "#print(len(cluster_idx[0]))\n",
    "cluster = data[cluster_idx]\n",
    "#print(len(cluster))\n",
    "\n",
    "%matplotlib qt\n",
    "#%matplotlib inline\n",
    "fig = plt.figure()\n",
    "ax = Axes3D(fig)\n",
    "\n",
    "ax.scatter(data[:,0], data[:,1], data[:,2], alpha =0.1,  s=20, color = \"w\") # ALl data\n",
    "ax.scatter(cluster[:,0], cluster[:,1], cluster[:,2], alpha =1, s=40, color = \"k\") # Cluster data\n",
    "\n",
    "\n",
    "\n",
    "ax.view_init(azim=30,elev=50)\n",
    "\n",
    "plt.show()"
   ]
  },
  {
   "cell_type": "markdown",
   "id": "8356a49a",
   "metadata": {},
   "source": [
    "### 4. Update dataframe with cluster information"
   ]
  },
  {
   "cell_type": "code",
   "execution_count": 78,
   "id": "f2121a10",
   "metadata": {},
   "outputs": [],
   "source": [
    "# Adding cluster IDs\n",
    "filtered_df['cluster_id'] = list(model.labels_)"
   ]
  },
  {
   "cell_type": "code",
   "execution_count": 79,
   "id": "9feb3fee",
   "metadata": {},
   "outputs": [
    {
     "data": {
      "text/html": [
       "<div>\n",
       "<style scoped>\n",
       "    .dataframe tbody tr th:only-of-type {\n",
       "        vertical-align: middle;\n",
       "    }\n",
       "\n",
       "    .dataframe tbody tr th {\n",
       "        vertical-align: top;\n",
       "    }\n",
       "\n",
       "    .dataframe thead th {\n",
       "        text-align: right;\n",
       "    }\n",
       "</style>\n",
       "<table border=\"1\" class=\"dataframe\">\n",
       "  <thead>\n",
       "    <tr style=\"text-align: right;\">\n",
       "      <th></th>\n",
       "      <th>XYZ soma</th>\n",
       "      <th>XYZ</th>\n",
       "      <th>voxel_raw_x</th>\n",
       "      <th>voxel_raw_y</th>\n",
       "      <th>voxel_raw_z</th>\n",
       "      <th>symbol</th>\n",
       "      <th>hemisphere</th>\n",
       "      <th>lab</th>\n",
       "      <th>author</th>\n",
       "      <th>name</th>\n",
       "      <th>seg_id</th>\n",
       "      <th>twigs proofread (Y/N)</th>\n",
       "      <th>identified_in</th>\n",
       "      <th>lab authorship (Y/N)</th>\n",
       "      <th>notes</th>\n",
       "      <th>annotations_link</th>\n",
       "      <th>Extra notes (see comments)</th>\n",
       "      <th>Working on</th>\n",
       "      <th>cluster_id</th>\n",
       "    </tr>\n",
       "  </thead>\n",
       "  <tbody>\n",
       "    <tr>\n",
       "      <th>0</th>\n",
       "      <td>61042, 90348, 5344</td>\n",
       "      <td>66139, 86342, 5433</td>\n",
       "      <td>66139.0</td>\n",
       "      <td>86342.0</td>\n",
       "      <td>5433.0</td>\n",
       "      <td>Tm9</td>\n",
       "      <td>R</td>\n",
       "      <td>Marion Silies</td>\n",
       "      <td>Jonas Chojetzki</td>\n",
       "      <td>Tm9, Tm9_R, transmedullary neuron Tm9, FBbt_00...</td>\n",
       "      <td>720575940629938298</td>\n",
       "      <td>Y</td>\n",
       "      <td>Fischbach &amp; Dittrich, 1989</td>\n",
       "      <td>Y</td>\n",
       "      <td>marked as complete and identified</td>\n",
       "      <td>https://ngl.flywire.ai/?json_url=https://globa...</td>\n",
       "      <td>NaN</td>\n",
       "      <td>NaN</td>\n",
       "      <td>0</td>\n",
       "    </tr>\n",
       "    <tr>\n",
       "      <th>1</th>\n",
       "      <td>60923, 89385, 5082</td>\n",
       "      <td>68466, 86246, 5321</td>\n",
       "      <td>68466.0</td>\n",
       "      <td>86246.0</td>\n",
       "      <td>5321.0</td>\n",
       "      <td>Tm9</td>\n",
       "      <td>R</td>\n",
       "      <td>Marion Silies</td>\n",
       "      <td>Jonas Chojetzki</td>\n",
       "      <td>Tm9, Tm9_R, transmedullary neuron Tm9, FBbt_00...</td>\n",
       "      <td>720575940620703936</td>\n",
       "      <td>Y</td>\n",
       "      <td>Fischbach &amp; Dittrich, 1989</td>\n",
       "      <td>Y</td>\n",
       "      <td>marked as complete and identified</td>\n",
       "      <td>https://ngl.flywire.ai/?json_url=https://globa...</td>\n",
       "      <td>NaN</td>\n",
       "      <td>NaN</td>\n",
       "      <td>0</td>\n",
       "    </tr>\n",
       "    <tr>\n",
       "      <th>2</th>\n",
       "      <td>49895, 76393, 5276</td>\n",
       "      <td>59942, 73078, 5380</td>\n",
       "      <td>59942.0</td>\n",
       "      <td>73078.0</td>\n",
       "      <td>5380.0</td>\n",
       "      <td>Tm9</td>\n",
       "      <td>R</td>\n",
       "      <td>Marion Silies</td>\n",
       "      <td>Jonas Chojetzki</td>\n",
       "      <td>Tm9, Tm9_R, transmedullary neuron Tm9, FBbt_00...</td>\n",
       "      <td>720575940638891683</td>\n",
       "      <td>Y</td>\n",
       "      <td>Fischbach &amp; Dittrich, 1989</td>\n",
       "      <td>Y</td>\n",
       "      <td>marked as complete and identified</td>\n",
       "      <td>https://ngl.flywire.ai/?json_url=https://globa...</td>\n",
       "      <td>NaN</td>\n",
       "      <td>NaN</td>\n",
       "      <td>1</td>\n",
       "    </tr>\n",
       "    <tr>\n",
       "      <th>3</th>\n",
       "      <td>48008, 75010, 5516</td>\n",
       "      <td>57862, 73661, 5554</td>\n",
       "      <td>57862.0</td>\n",
       "      <td>73661.0</td>\n",
       "      <td>5554.0</td>\n",
       "      <td>Tm9</td>\n",
       "      <td>R</td>\n",
       "      <td>Marion Silies</td>\n",
       "      <td>Annalena Oswald</td>\n",
       "      <td>Tm9, Tm9_R, transmedullary neuron Tm9, FBbt_00...</td>\n",
       "      <td>720575940613521635</td>\n",
       "      <td>Y</td>\n",
       "      <td>Fischbach &amp; Dittrich, 1989</td>\n",
       "      <td>Y</td>\n",
       "      <td>marked as complete and identified</td>\n",
       "      <td>https://ngl.flywire.ai/?json_url=https://globa...</td>\n",
       "      <td>NaN</td>\n",
       "      <td>NaN</td>\n",
       "      <td>1</td>\n",
       "    </tr>\n",
       "    <tr>\n",
       "      <th>4</th>\n",
       "      <td>48464, 73609, 5485</td>\n",
       "      <td>57238, 72829, 5661</td>\n",
       "      <td>57238.0</td>\n",
       "      <td>72829.0</td>\n",
       "      <td>5661.0</td>\n",
       "      <td>Tm9</td>\n",
       "      <td>R</td>\n",
       "      <td>Marion Silies</td>\n",
       "      <td>Annalena Oswald</td>\n",
       "      <td>Tm9, Tm9_R, transmedullary neuron Tm9, FBbt_00...</td>\n",
       "      <td>720575940618719915</td>\n",
       "      <td>Y</td>\n",
       "      <td>Fischbach &amp; Dittrich, 1989</td>\n",
       "      <td>Y</td>\n",
       "      <td>marked as complete and identified</td>\n",
       "      <td>https://ngl.flywire.ai/?json_url=https://globa...</td>\n",
       "      <td>NaN</td>\n",
       "      <td>NaN</td>\n",
       "      <td>1</td>\n",
       "    </tr>\n",
       "    <tr>\n",
       "      <th>...</th>\n",
       "      <td>...</td>\n",
       "      <td>...</td>\n",
       "      <td>...</td>\n",
       "      <td>...</td>\n",
       "      <td>...</td>\n",
       "      <td>...</td>\n",
       "      <td>...</td>\n",
       "      <td>...</td>\n",
       "      <td>...</td>\n",
       "      <td>...</td>\n",
       "      <td>...</td>\n",
       "      <td>...</td>\n",
       "      <td>...</td>\n",
       "      <td>...</td>\n",
       "      <td>...</td>\n",
       "      <td>...</td>\n",
       "      <td>...</td>\n",
       "      <td>...</td>\n",
       "      <td>...</td>\n",
       "    </tr>\n",
       "    <tr>\n",
       "      <th>93</th>\n",
       "      <td>NaN</td>\n",
       "      <td>72136, 68593, 3612</td>\n",
       "      <td>72136.0</td>\n",
       "      <td>68593.0</td>\n",
       "      <td>3612.0</td>\n",
       "      <td>Tm9</td>\n",
       "      <td>R</td>\n",
       "      <td>wernet_lab</td>\n",
       "      <td>emilkind</td>\n",
       "      <td>Tm9, Tm9_R, transmedullary neuron Tm9, FBbt_00...</td>\n",
       "      <td>720575940621284351</td>\n",
       "      <td>N</td>\n",
       "      <td>Fischbach &amp; Dittrich, 1989</td>\n",
       "      <td>Y</td>\n",
       "      <td>marked as complete and identified</td>\n",
       "      <td>NaN</td>\n",
       "      <td>NaN</td>\n",
       "      <td>NaN</td>\n",
       "      <td>4</td>\n",
       "    </tr>\n",
       "    <tr>\n",
       "      <th>94</th>\n",
       "      <td>57329, 87166, 5546</td>\n",
       "      <td>63165, 83785, 5499</td>\n",
       "      <td>63165.0</td>\n",
       "      <td>83785.0</td>\n",
       "      <td>5499.0</td>\n",
       "      <td>Tm9</td>\n",
       "      <td>R</td>\n",
       "      <td>Marion Silies</td>\n",
       "      <td>Sebastian Molina-Obando</td>\n",
       "      <td>Tm9, Tm9_R, transmedullary neuron Tm9, FBbt_00...</td>\n",
       "      <td>720575940604173489</td>\n",
       "      <td>N</td>\n",
       "      <td>Fischbach &amp; Dittrich, 1989</td>\n",
       "      <td>Y</td>\n",
       "      <td>marked as complete and identified</td>\n",
       "      <td>NaN</td>\n",
       "      <td>NaN</td>\n",
       "      <td>NaN</td>\n",
       "      <td>0</td>\n",
       "    </tr>\n",
       "    <tr>\n",
       "      <th>95</th>\n",
       "      <td>76238, 48102, 3553</td>\n",
       "      <td>77991, 52552, 3887</td>\n",
       "      <td>77991.0</td>\n",
       "      <td>52552.0</td>\n",
       "      <td>3887.0</td>\n",
       "      <td>Tm9 ???</td>\n",
       "      <td>R</td>\n",
       "      <td>Mala Murthy Lab, Sebastian Seung Lab</td>\n",
       "      <td>J. Dolorosa</td>\n",
       "      <td>NaN</td>\n",
       "      <td>720575940622340009</td>\n",
       "      <td>N</td>\n",
       "      <td>Fischbach &amp; Dittrich, 1989</td>\n",
       "      <td>NaN</td>\n",
       "      <td>marked as complete</td>\n",
       "      <td>https://ngl.flywire.ai/?json_url=https://globa...</td>\n",
       "      <td>NaN</td>\n",
       "      <td>NaN</td>\n",
       "      <td>-1</td>\n",
       "    </tr>\n",
       "    <tr>\n",
       "      <th>96</th>\n",
       "      <td>66049, 64574, 3210</td>\n",
       "      <td>62414, 66822, 4216</td>\n",
       "      <td>62414.0</td>\n",
       "      <td>66822.0</td>\n",
       "      <td>4216.0</td>\n",
       "      <td>Tm9 ???</td>\n",
       "      <td>R</td>\n",
       "      <td>Mala Murthy Lab, Sebastian Seung Lab</td>\n",
       "      <td>Ariel Dagohoy</td>\n",
       "      <td>NaN</td>\n",
       "      <td>720575940636624356</td>\n",
       "      <td>N</td>\n",
       "      <td>Fischbach &amp; Dittrich, 1989</td>\n",
       "      <td>NaN</td>\n",
       "      <td>marked as complete</td>\n",
       "      <td>https://ngl.flywire.ai/?json_url=https://globa...</td>\n",
       "      <td>NaN</td>\n",
       "      <td>NaN</td>\n",
       "      <td>4</td>\n",
       "    </tr>\n",
       "    <tr>\n",
       "      <th>97</th>\n",
       "      <td>69267, 63718, 3063</td>\n",
       "      <td>63255, 65486, 3747</td>\n",
       "      <td>63255.0</td>\n",
       "      <td>65486.0</td>\n",
       "      <td>3747.0</td>\n",
       "      <td>Tm9 ???</td>\n",
       "      <td>R</td>\n",
       "      <td>wernet_lab</td>\n",
       "      <td>emilkind</td>\n",
       "      <td>NaN</td>\n",
       "      <td>720575940621207105</td>\n",
       "      <td>N</td>\n",
       "      <td>Fischbach &amp; Dittrich, 1989</td>\n",
       "      <td>NaN</td>\n",
       "      <td>marked as complete</td>\n",
       "      <td>https://ngl.flywire.ai/?json_url=https://globa...</td>\n",
       "      <td>NaN</td>\n",
       "      <td>NaN</td>\n",
       "      <td>4</td>\n",
       "    </tr>\n",
       "  </tbody>\n",
       "</table>\n",
       "<p>98 rows × 19 columns</p>\n",
       "</div>"
      ],
      "text/plain": [
       "              XYZ soma                 XYZ  voxel_raw_x  voxel_raw_y  \\\n",
       "0   61042, 90348, 5344  66139, 86342, 5433      66139.0      86342.0   \n",
       "1   60923, 89385, 5082  68466, 86246, 5321      68466.0      86246.0   \n",
       "2   49895, 76393, 5276  59942, 73078, 5380      59942.0      73078.0   \n",
       "3   48008, 75010, 5516  57862, 73661, 5554      57862.0      73661.0   \n",
       "4   48464, 73609, 5485  57238, 72829, 5661      57238.0      72829.0   \n",
       "..                 ...                 ...          ...          ...   \n",
       "93                 NaN  72136, 68593, 3612      72136.0      68593.0   \n",
       "94  57329, 87166, 5546  63165, 83785, 5499      63165.0      83785.0   \n",
       "95  76238, 48102, 3553  77991, 52552, 3887      77991.0      52552.0   \n",
       "96  66049, 64574, 3210  62414, 66822, 4216      62414.0      66822.0   \n",
       "97  69267, 63718, 3063  63255, 65486, 3747      63255.0      65486.0   \n",
       "\n",
       "    voxel_raw_z   symbol hemisphere                                   lab  \\\n",
       "0        5433.0      Tm9          R                         Marion Silies   \n",
       "1        5321.0      Tm9          R                         Marion Silies   \n",
       "2        5380.0      Tm9          R                         Marion Silies   \n",
       "3        5554.0      Tm9          R                         Marion Silies   \n",
       "4        5661.0      Tm9          R                         Marion Silies   \n",
       "..          ...      ...        ...                                   ...   \n",
       "93       3612.0      Tm9          R                            wernet_lab   \n",
       "94       5499.0      Tm9          R                         Marion Silies   \n",
       "95       3887.0  Tm9 ???          R  Mala Murthy Lab, Sebastian Seung Lab   \n",
       "96       4216.0  Tm9 ???          R  Mala Murthy Lab, Sebastian Seung Lab   \n",
       "97       3747.0  Tm9 ???          R                            wernet_lab   \n",
       "\n",
       "                     author  \\\n",
       "0           Jonas Chojetzki   \n",
       "1           Jonas Chojetzki   \n",
       "2           Jonas Chojetzki   \n",
       "3           Annalena Oswald   \n",
       "4           Annalena Oswald   \n",
       "..                      ...   \n",
       "93                 emilkind   \n",
       "94  Sebastian Molina-Obando   \n",
       "95              J. Dolorosa   \n",
       "96            Ariel Dagohoy   \n",
       "97                 emilkind   \n",
       "\n",
       "                                                 name              seg_id  \\\n",
       "0   Tm9, Tm9_R, transmedullary neuron Tm9, FBbt_00...  720575940629938298   \n",
       "1   Tm9, Tm9_R, transmedullary neuron Tm9, FBbt_00...  720575940620703936   \n",
       "2   Tm9, Tm9_R, transmedullary neuron Tm9, FBbt_00...  720575940638891683   \n",
       "3   Tm9, Tm9_R, transmedullary neuron Tm9, FBbt_00...  720575940613521635   \n",
       "4   Tm9, Tm9_R, transmedullary neuron Tm9, FBbt_00...  720575940618719915   \n",
       "..                                                ...                 ...   \n",
       "93  Tm9, Tm9_R, transmedullary neuron Tm9, FBbt_00...  720575940621284351   \n",
       "94  Tm9, Tm9_R, transmedullary neuron Tm9, FBbt_00...  720575940604173489   \n",
       "95                                                NaN  720575940622340009   \n",
       "96                                                NaN  720575940636624356   \n",
       "97                                                NaN  720575940621207105   \n",
       "\n",
       "   twigs proofread (Y/N)               identified_in lab authorship (Y/N)  \\\n",
       "0                      Y  Fischbach & Dittrich, 1989                    Y   \n",
       "1                      Y  Fischbach & Dittrich, 1989                    Y   \n",
       "2                      Y  Fischbach & Dittrich, 1989                    Y   \n",
       "3                      Y  Fischbach & Dittrich, 1989                    Y   \n",
       "4                      Y  Fischbach & Dittrich, 1989                    Y   \n",
       "..                   ...                         ...                  ...   \n",
       "93                     N  Fischbach & Dittrich, 1989                    Y   \n",
       "94                     N  Fischbach & Dittrich, 1989                    Y   \n",
       "95                     N  Fischbach & Dittrich, 1989                  NaN   \n",
       "96                     N  Fischbach & Dittrich, 1989                  NaN   \n",
       "97                     N  Fischbach & Dittrich, 1989                  NaN   \n",
       "\n",
       "                                notes  \\\n",
       "0   marked as complete and identified   \n",
       "1   marked as complete and identified   \n",
       "2   marked as complete and identified   \n",
       "3   marked as complete and identified   \n",
       "4   marked as complete and identified   \n",
       "..                                ...   \n",
       "93  marked as complete and identified   \n",
       "94  marked as complete and identified   \n",
       "95                marked as complete    \n",
       "96                marked as complete    \n",
       "97                marked as complete    \n",
       "\n",
       "                                     annotations_link  \\\n",
       "0   https://ngl.flywire.ai/?json_url=https://globa...   \n",
       "1   https://ngl.flywire.ai/?json_url=https://globa...   \n",
       "2   https://ngl.flywire.ai/?json_url=https://globa...   \n",
       "3   https://ngl.flywire.ai/?json_url=https://globa...   \n",
       "4   https://ngl.flywire.ai/?json_url=https://globa...   \n",
       "..                                                ...   \n",
       "93                                                NaN   \n",
       "94                                                NaN   \n",
       "95  https://ngl.flywire.ai/?json_url=https://globa...   \n",
       "96  https://ngl.flywire.ai/?json_url=https://globa...   \n",
       "97  https://ngl.flywire.ai/?json_url=https://globa...   \n",
       "\n",
       "   Extra notes (see comments) Working on  cluster_id  \n",
       "0                         NaN        NaN           0  \n",
       "1                         NaN        NaN           0  \n",
       "2                         NaN        NaN           1  \n",
       "3                         NaN        NaN           1  \n",
       "4                         NaN        NaN           1  \n",
       "..                        ...        ...         ...  \n",
       "93                        NaN        NaN           4  \n",
       "94                        NaN        NaN           0  \n",
       "95                        NaN        NaN          -1  \n",
       "96                        NaN        NaN           4  \n",
       "97                        NaN        NaN           4  \n",
       "\n",
       "[98 rows x 19 columns]"
      ]
     },
     "execution_count": 79,
     "metadata": {},
     "output_type": "execute_result"
    }
   ],
   "source": [
    "filtered_df"
   ]
  },
  {
   "cell_type": "markdown",
   "id": "9a9cbb8a",
   "metadata": {},
   "source": [
    "### 5. Saviing back in the excel file"
   ]
  },
  {
   "cell_type": "code",
   "execution_count": 80,
   "id": "475a355a",
   "metadata": {},
   "outputs": [],
   "source": [
    "#To write in multiple sheets                                         \n",
    "from openpyxl import load_workbook, Workbook\n",
    "\n",
    "book = Workbook()\n",
    "book.save(filename = filePath)\n",
    "book = load_workbook(filePath)\n",
    "writer = pd.ExcelWriter(filePath, engine = 'openpyxl')\n",
    "writer.book = book\n",
    "\n",
    "filtered_df.to_excel(writer, sheet_name='cluster_ids')\n",
    "\n",
    "writer.save()\n",
    "writer.close()"
   ]
  },
  {
   "cell_type": "code",
   "execution_count": null,
   "id": "08114406",
   "metadata": {},
   "outputs": [],
   "source": []
  }
 ],
 "metadata": {
  "kernelspec": {
   "display_name": "Python 3",
   "language": "python",
   "name": "python3"
  },
  "language_info": {
   "codemirror_mode": {
    "name": "ipython",
    "version": 3
   },
   "file_extension": ".py",
   "mimetype": "text/x-python",
   "name": "python",
   "nbconvert_exporter": "python",
   "pygments_lexer": "ipython3",
   "version": "3.7.4"
  }
 },
 "nbformat": 4,
 "nbformat_minor": 5
}
