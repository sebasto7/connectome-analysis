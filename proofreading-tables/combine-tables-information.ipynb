{
 "cells": [
  {
   "cell_type": "markdown",
   "id": "26138994",
   "metadata": {},
   "source": [
    "# Combining information from two tables "
   ]
  },
  {
   "cell_type": "markdown",
   "id": "c05ffcad",
   "metadata": {},
   "source": [
    "This notebook contains code to compare and copy-paste information from one dataframe to another if the identity is the same.\n",
    "This notebook contains:\n",
    "<br> A) Combining information between tables of presynaptic partners\n",
    "<br> B) Combining information between tables of presynaptic partners and databse of postsynaptic partners\n",
    "<br> C) Combining information between tables of postsynaptic partners and databse of postsynaptic partners\n",
    "<br> D) Combining information between tables for neuron authorship"
   ]
  },
  {
   "cell_type": "code",
   "execution_count": 1,
   "id": "e33729fb",
   "metadata": {},
   "outputs": [
    {
     "name": "stderr",
     "output_type": "stream",
     "text": [
      "C:\\Users\\sebas\\anaconda3\\envs\\EM\\lib\\site-packages\\blessed\\terminal.py:186: UserWarning: Failed to setupterm(kind='xterm-color'): Could not find terminal xterm-color\n",
      "  warnings.warn(msg)\n"
     ]
    }
   ],
   "source": [
    "import os\n",
    "import math\n",
    "import pandas as pd\n",
    "import numpy as np\n",
    "from fafbseg import flywire\n",
    "from caveclient import CAVEclient\n",
    "client = CAVEclient('flywire_fafb_production')"
   ]
  },
  {
   "cell_type": "markdown",
   "id": "932839de",
   "metadata": {},
   "source": [
    "## A) Combining information between tables of presynaptic partners\n"
   ]
  },
  {
   "cell_type": "markdown",
   "id": "860efd71",
   "metadata": {},
   "source": [
    "### Chossing files of interest and data to transfer"
   ]
  },
  {
   "cell_type": "code",
   "execution_count": 3,
   "id": "860220bc",
   "metadata": {},
   "outputs": [],
   "source": [
    "# Choose path and file\n",
    "dataPath = r'D:\\Connectomics-Data\\FlyWire\\Excels\\drive-data-sets'\n",
    "\n",
    "date = '20230526'\n",
    "fileName_list = [f'All_Tm9_neurons_input_count_ME_R_{date}.xlsx',\n",
    "                 f'All_Tm9_neurons_input_count_ME_R_no_twig_proofread_{date}.xlsx']\n",
    "\n",
    "filePath_list = []\n",
    "for fileName in fileName_list:\n",
    "    filePath_list.append(os.path.join(dataPath,fileName))\n"
   ]
  },
  {
   "cell_type": "code",
   "execution_count": 308,
   "id": "955e3958",
   "metadata": {},
   "outputs": [],
   "source": [
    "#Choose column information to compare and to transfer\n",
    "columns_to_compare = ['presynaptic_ID', 'postsynaptic_ID', 'seg_id']\n",
    "columns_to_transfer_based_on_pre = ['presynaptic_ID','postsynaptic_ID','symbol','guess','hemisphere','lab', 'author','name','twigs proofread (Y/N)', \n",
    "                                    'FlyWire proofread (Y/N)','identified_in', 'lab authorship (Y/N)', 'Extra notes as comments (initials)']\n",
    "columns_to_transfer_based_on_post = ['presynaptic_ID','postsynaptic_ID', 'optic_lobe_id','column_id','detached_lamina (Y/N)', 'healthy_L3 (Y/N)']\n"
   ]
  },
  {
   "cell_type": "markdown",
   "id": "c7fe861d",
   "metadata": {},
   "source": [
    "### Loading files as distict dataframes"
   ]
  },
  {
   "cell_type": "code",
   "execution_count": 175,
   "id": "5ed19322",
   "metadata": {},
   "outputs": [],
   "source": [
    "# The distinct dataframes will be stored in a dictionary\n",
    "\n",
    "data_frames = dict()\n",
    "\n",
    "for i in range(1, len(filePath_list)+1):\n",
    "    data_frames['df_%02d' % i] = pd.read_excel(filePath_list[i-1])\n",
    "    #Dropping the fisrt row ('asdf' was added as a walk-around to set that column values as type str)\n",
    "    if data_frames['df_%02d' % i][\"postsynaptic_ID\"][0] == 'asdf': \n",
    "        data_frames['df_%02d' % i] = data_frames['df_%02d' % i].iloc[1: , :]\n",
    "        data_frames['df_%02d' % i].reset_index(inplace=True,drop=True)"
   ]
  },
  {
   "cell_type": "markdown",
   "id": "7df73ccd",
   "metadata": {},
   "source": [
    "### Updating column information"
   ]
  },
  {
   "cell_type": "code",
   "execution_count": 177,
   "id": "5fc59795",
   "metadata": {},
   "outputs": [],
   "source": [
    "# The distinct columns to update and the updated versions of them will be stored dictionaries\n",
    "\n",
    "columns_to_update = dict()\n",
    "for df_name in data_frames.keys():\n",
    "    curr_df = data_frames[df_name]\n",
    "    for column_name in columns_to_compare:\n",
    "        columns_to_update[f'{df_name}_{column_name}'] = curr_df[column_name].copy()"
   ]
  },
  {
   "cell_type": "code",
   "execution_count": 179,
   "id": "8b1c0b22",
   "metadata": {},
   "outputs": [],
   "source": [
    "#Replacing the 'INPUTS PROOFREAD' labelled row of the lists for a well-known marker id\n",
    "\n",
    "marker_id = '720575940628553731' # VM1 ORN\n",
    "marker_id_update_df = flywire.update_ids(marker_id, stop_layer=2, supervoxels=None, timestamp=None, dataset='production', progress=True)\n",
    "marker_id_updated = marker_id_update_df[\"new_id\"][0]\n",
    "for key,value in columns_to_update.items():\n",
    "    for i, id in enumerate(value):\n",
    "        if id == 'INPUTS PROOFREAD':\n",
    "            value[i] = marker_id_updated # Replacement by the marker\n",
    "    "
   ]
  },
  {
   "cell_type": "code",
   "execution_count": 180,
   "id": "35303e35",
   "metadata": {},
   "outputs": [
    {
     "data": {
      "application/vnd.jupyter.widget-view+json": {
       "model_id": "",
       "version_major": 2,
       "version_minor": 0
      },
      "text/plain": [
       "Updating:   0%|          | 0/1351 [00:00<?, ?it/s]"
      ]
     },
     "metadata": {},
     "output_type": "display_data"
    },
    {
     "data": {
      "application/vnd.jupyter.widget-view+json": {
       "model_id": "",
       "version_major": 2,
       "version_minor": 0
      },
      "text/plain": [
       "Updating:   0%|          | 0/1351 [00:00<?, ?it/s]"
      ]
     },
     "metadata": {},
     "output_type": "display_data"
    },
    {
     "data": {
      "application/vnd.jupyter.widget-view+json": {
       "model_id": "",
       "version_major": 2,
       "version_minor": 0
      },
      "text/plain": [
       "Updating:   0%|          | 0/1351 [00:00<?, ?it/s]"
      ]
     },
     "metadata": {},
     "output_type": "display_data"
    },
    {
     "data": {
      "application/vnd.jupyter.widget-view+json": {
       "model_id": "",
       "version_major": 2,
       "version_minor": 0
      },
      "text/plain": [
       "Updating:   0%|          | 0/294 [00:00<?, ?it/s]"
      ]
     },
     "metadata": {},
     "output_type": "display_data"
    },
    {
     "data": {
      "application/vnd.jupyter.widget-view+json": {
       "model_id": "",
       "version_major": 2,
       "version_minor": 0
      },
      "text/plain": [
       "Updating:   0%|          | 0/294 [00:00<?, ?it/s]"
      ]
     },
     "metadata": {},
     "output_type": "display_data"
    },
    {
     "data": {
      "application/vnd.jupyter.widget-view+json": {
       "model_id": "",
       "version_major": 2,
       "version_minor": 0
      },
      "text/plain": [
       "Updating:   0%|          | 0/294 [00:00<?, ?it/s]"
      ]
     },
     "metadata": {},
     "output_type": "display_data"
    }
   ],
   "source": [
    "# Updating the different columns. Information is stored in a dictionary\n",
    "updated_columns = dict()\n",
    "updated_columns_confidence = dict()\n",
    "for key, value in columns_to_update.items():\n",
    "    temp_segmentIDs_df = flywire.update_ids(value.tolist(), stop_layer=2, supervoxels=None, timestamp=None, dataset='production', progress=True)\n",
    "    updated_value = temp_segmentIDs_df[\"new_id\"]\n",
    "    confidence_of_update = temp_segmentIDs_df[\"confidence\"]\n",
    "    updated_columns[key] = updated_value\n",
    "    updated_columns_confidence[key] = confidence_of_update\n",
    "    "
   ]
  },
  {
   "cell_type": "markdown",
   "id": "79088b68",
   "metadata": {},
   "source": [
    "### Updating dataframe information"
   ]
  },
  {
   "cell_type": "code",
   "execution_count": 182,
   "id": "392254de",
   "metadata": {},
   "outputs": [],
   "source": [
    "# Restoring the initial INPUTS PROOFREAD' marker\n",
    "for key, series in updated_columns.items():\n",
    "    updated_columns[key] = series.replace(to_replace = int(marker_id), value = 'INPUTS PROOFREAD')\n",
    "    "
   ]
  },
  {
   "cell_type": "code",
   "execution_count": 184,
   "id": "c3c7ca08",
   "metadata": {},
   "outputs": [],
   "source": [
    "#Updating the different dataframes inplace\n",
    "for df_name, df_values in data_frames.items():\n",
    "    for column_name in columns_to_compare:\n",
    "        data_frames[df_name][column_name] =  updated_columns[f'{df_name}_{column_name}']\n"
   ]
  },
  {
   "cell_type": "markdown",
   "id": "4c63c147",
   "metadata": {},
   "source": []
  },
  {
   "cell_type": "markdown",
   "id": "e9a214a2",
   "metadata": {},
   "source": [
    "### Transfering data from a source data frame into another\n",
    "#### Defining a function that performs the copy-paste operation"
   ]
  },
  {
   "cell_type": "code",
   "execution_count": 374,
   "id": "4d439069",
   "metadata": {},
   "outputs": [],
   "source": [
    "def update_dataframe(source_df, target_df, reference_column1, reference_column2):\n",
    "    # Create a dictionary mapping from the reference columns to the source DataFrame\n",
    "    reference_columns = [reference_column1, reference_column2]\n",
    "    reference_dict = source_df.groupby(reference_columns).first().reset_index().to_dict(orient='records')\n",
    "    reference_dict = {(row[reference_column1], row[reference_column2]): row for row in reference_dict}\n",
    "\n",
    "    # Update the target DataFrame based on the reference columns\n",
    "    for i, row in target_df.iterrows():\n",
    "        ref1 = row[reference_column1]\n",
    "        ref2 = row[reference_column2]\n",
    "        if (ref1, ref2) in reference_dict:\n",
    "            source_row = reference_dict[(ref1, ref2)]\n",
    "            target_df.loc[i] = source_row\n",
    "\n",
    "    return target_df"
   ]
  },
  {
   "cell_type": "markdown",
   "id": "d72230d9",
   "metadata": {},
   "source": [
    "### Provide the user-chosen columns and reference column as inputs to the function"
   ]
  },
  {
   "cell_type": "code",
   "execution_count": 375,
   "id": "38044315",
   "metadata": {},
   "outputs": [],
   "source": [
    "source_cols = columns_to_transfer_based_on_pre \n",
    "target_cols = columns_to_transfer_based_on_pre \n",
    "reference_column1 = 'presynaptic_ID'\n",
    "reference_column2 = 'postsynaptic_ID'"
   ]
  },
  {
   "cell_type": "markdown",
   "id": "ed30e617",
   "metadata": {},
   "source": [
    "### Call the function with the source and target data frames and the provided inputs"
   ]
  },
  {
   "cell_type": "code",
   "execution_count": 390,
   "id": "d4417a3c",
   "metadata": {},
   "outputs": [],
   "source": [
    "source_df = data_frames['df_01'][source_cols].copy()\n",
    "target_df = data_frames['df_02'][target_cols].copy()\n",
    "\n",
    "source_df = source_df.astype(str)\n",
    "target_df = target_df.astype(str)\n",
    "\n",
    "result_df = update_dataframe(source_df, target_df,reference_column1, reference_column2)\n",
    "presynaptic_result_df = result_df.copy()"
   ]
  },
  {
   "cell_type": "markdown",
   "id": "ffa63c52",
   "metadata": {},
   "source": [
    "### Repeating the same process but for postsynaptic_id-based information"
   ]
  },
  {
   "cell_type": "code",
   "execution_count": 391,
   "id": "7cfb450d",
   "metadata": {},
   "outputs": [],
   "source": [
    "source_cols = columns_to_transfer_based_on_post \n",
    "target_cols = columns_to_transfer_based_on_post \n",
    "reference_column1 = 'presynaptic_ID'\n",
    "reference_column2 = 'postsynaptic_ID'\n",
    "\n",
    "source_df = data_frames['df_01'][source_cols].copy()\n",
    "target_df = data_frames['df_02'][target_cols].copy()\n",
    "\n",
    "source_df = source_df.astype(str)\n",
    "target_df = target_df.astype(str)\n",
    "\n",
    "result_df = update_dataframe(source_df, target_df,reference_column1, reference_column2)\n",
    "postsynaptic_result_df = result_df.copy()"
   ]
  },
  {
   "cell_type": "markdown",
   "id": "002e2e0c",
   "metadata": {},
   "source": [
    "### Combining the data frames and saving the data in an excel file"
   ]
  },
  {
   "cell_type": "code",
   "execution_count": 395,
   "id": "e00a69d6",
   "metadata": {},
   "outputs": [],
   "source": [
    "final_df = pd.concat([presynaptic_result_df,postsynaptic_result_df],axis=1)"
   ]
  },
  {
   "cell_type": "code",
   "execution_count": 398,
   "id": "05068261",
   "metadata": {},
   "outputs": [],
   "source": [
    "#Saving in a new file\n",
    "\n",
    "str_final_df = final_df.astype(str)\n",
    "\n",
    "import datetime\n",
    "x = datetime.datetime.now()\n",
    "date_str = x.strftime(\"%d\") + x.strftime(\"%b\") + x.strftime(\"%Y\")\n",
    "fileName_list[0]\n",
    "file_name = f'{fileName_list[1]}_UPDATED_from_{fileName_list[0]}_{date_str}.xlsx'\n",
    "savePath = os.path.join(dataPath, file_name)\n",
    "str_final_df.to_excel(savePath, sheet_name='Data frame update')"
   ]
  },
  {
   "cell_type": "markdown",
   "id": "a92ce6cf",
   "metadata": {},
   "source": [
    "##  B) Combining information between tables of presynaptic partners and databse of postsynaptic partners"
   ]
  },
  {
   "cell_type": "markdown",
   "id": "5cd20742",
   "metadata": {},
   "source": [
    "### Chossing files of interest and data to transfer"
   ]
  },
  {
   "cell_type": "code",
   "execution_count": 39,
   "id": "9f1db07b",
   "metadata": {},
   "outputs": [],
   "source": [
    "# Choose path and file\n",
    "dataPath = r'C:\\Connectomics-Data\\FlyWire\\Excels\\drive-data-sets'\n",
    "\n",
    "date = '20230822'\n",
    "fileName_list = [f'Tm2 proofreadings_{date}.xlsx',\n",
    "                 f'Tm2_neurons_input_count_R_{date}.xlsx']\n",
    "\n",
    "filePath_list = []\n",
    "for fileName in fileName_list:\n",
    "    filePath_list.append(os.path.join(dataPath,fileName))"
   ]
  },
  {
   "cell_type": "code",
   "execution_count": 40,
   "id": "18af3604",
   "metadata": {},
   "outputs": [],
   "source": [
    "#Choose column information to compare and to transfer\n",
    "columns_to_compare = ['postsynaptic_ID']"
   ]
  },
  {
   "cell_type": "markdown",
   "id": "420947fd",
   "metadata": {},
   "source": [
    "### Loading the distinct data frames"
   ]
  },
  {
   "cell_type": "code",
   "execution_count": 41,
   "id": "ff9086f0",
   "metadata": {},
   "outputs": [],
   "source": [
    "# The distinct dataframes will be stored in a dictionary\n",
    "\n",
    "data_frames = dict()\n",
    "\n",
    "for i in range(1, len(filePath_list)+1):\n",
    "    data_frames['df_%02d' % i] = pd.read_excel(filePath_list[i-1])\n",
    "    #Dropping the fisrt row ('asdf' was added as a walk-around to set that column values as type str)\n",
    "    if data_frames['df_%02d' % i][\"seg_id\"][0] == 'asdf': \n",
    "        data_frames['df_%02d' % i] = data_frames['df_%02d' % i].iloc[1: , :]\n",
    "        data_frames['df_%02d' % i].reset_index(inplace=True,drop=True)"
   ]
  },
  {
   "cell_type": "code",
   "execution_count": 42,
   "id": "0b1a0b16",
   "metadata": {},
   "outputs": [],
   "source": [
    "# Naming some columns different to match the two dataframes\n",
    "for df_name in data_frames.keys():\n",
    "    if 'postsynaptic_ID' not in data_frames[df_name].columns:\n",
    "        data_frames[df_name]['postsynaptic_ID'] = data_frames[df_name]['seg_id']\n",
    "        "
   ]
  },
  {
   "cell_type": "markdown",
   "id": "e67da504",
   "metadata": {},
   "source": [
    "### Updating column information"
   ]
  },
  {
   "cell_type": "code",
   "execution_count": 43,
   "id": "efb22bca",
   "metadata": {},
   "outputs": [],
   "source": [
    "# The distinct columns to update and the updated versions of them will be stored dictionaries\n",
    "columns_to_update = dict()\n",
    "for df_name in data_frames.keys():\n",
    "    curr_df = data_frames[df_name]\n",
    "    for column_name in columns_to_compare:\n",
    "        columns_to_update[f'{df_name}_{column_name}'] = curr_df[column_name].copy()"
   ]
  },
  {
   "cell_type": "code",
   "execution_count": 44,
   "id": "2299cabc",
   "metadata": {},
   "outputs": [],
   "source": [
    "#Replacing the 'INPUTS PROOFREAD' or NaN labelled row of the lists for a well-known marker id\n",
    "\n",
    "marker_id = '720575940628553731' # VM1 ORN\n",
    "marker_id_update_df = flywire.update_ids(marker_id, stop_layer=2, supervoxels=None, timestamp=None, dataset='production', progress=True)\n",
    "marker_id_updated = marker_id_update_df[\"new_id\"][0]\n",
    "for key,value in columns_to_update.items():\n",
    "    for i, id in enumerate(value):\n",
    "        if id == 'INPUTS PROOFREAD':\n",
    "            value[i] = marker_id_updated # Replacement by the marker\n",
    "        elif id == float('nan'):\n",
    "            value[i] = marker_id_updated # Replacement by the marker\n",
    "        elif math.isnan(float(id)):\n",
    "            value[i] = marker_id_updated # Replacement by the marker"
   ]
  },
  {
   "cell_type": "code",
   "execution_count": 45,
   "id": "13040f13",
   "metadata": {},
   "outputs": [
    {
     "data": {
      "application/vnd.jupyter.widget-view+json": {
       "model_id": "",
       "version_major": 2,
       "version_minor": 0
      },
      "text/plain": [
       "Updating:   0%|          | 0/1375 [00:00<?, ?it/s]"
      ]
     },
     "metadata": {},
     "output_type": "display_data"
    },
    {
     "data": {
      "application/vnd.jupyter.widget-view+json": {
       "model_id": "",
       "version_major": 2,
       "version_minor": 0
      },
      "text/plain": [
       "Updating:   0%|          | 0/15210 [00:00<?, ?it/s]"
      ]
     },
     "metadata": {},
     "output_type": "display_data"
    }
   ],
   "source": [
    "# Updating the different columns. Information is stored in a dictionary\n",
    "updated_columns = dict()\n",
    "updated_columns_confidence = dict()\n",
    "for key, value in columns_to_update.items():\n",
    "    temp_segmentIDs_df = flywire.update_ids(value.tolist(), stop_layer=2, supervoxels=None, timestamp=None, dataset='production', progress=True)\n",
    "    updated_value = temp_segmentIDs_df[\"new_id\"]\n",
    "    confidence_of_update = temp_segmentIDs_df[\"confidence\"]\n",
    "    updated_columns[key] = updated_value\n",
    "    updated_columns_confidence[key] = confidence_of_update"
   ]
  },
  {
   "cell_type": "markdown",
   "id": "9f5f3124",
   "metadata": {},
   "source": [
    "### Updating dataframe information"
   ]
  },
  {
   "cell_type": "code",
   "execution_count": 46,
   "id": "964abf36",
   "metadata": {},
   "outputs": [],
   "source": [
    "# Restoring the initial INPUTS PROOFREAD' marker\n",
    "for key, series in updated_columns.items():\n",
    "    updated_columns[key] = series.replace(to_replace = int(marker_id), value = 'INPUTS PROOFREAD')\n",
    "    "
   ]
  },
  {
   "cell_type": "code",
   "execution_count": 47,
   "id": "b31baa4d",
   "metadata": {},
   "outputs": [],
   "source": [
    "#Updating the different dataframes inplace\n",
    "for df_name, df_values in data_frames.items():\n",
    "    for column_name in columns_to_compare:\n",
    "        data_frames[df_name][f'Updated_{column_name}'] =  updated_columns[f'{df_name}_{column_name}']"
   ]
  },
  {
   "cell_type": "code",
   "execution_count": 48,
   "id": "9ef4fb06",
   "metadata": {},
   "outputs": [
    {
     "name": "stdout",
     "output_type": "stream",
     "text": [
      "Previous:\n",
      "['nan' '720575940628022346']\n",
      "Updated:\n",
      "['INPUTS PROOFREAD' '720575940619338053']\n"
     ]
    }
   ],
   "source": [
    "#The following ids have been updated\n",
    "query_name = 'df_01'\n",
    "diff_df = data_frames[query_name].astype(str).loc[data_frames[query_name].astype(str)['Updated_postsynaptic_ID'] != data_frames[query_name].astype(str)['postsynaptic_ID']]\n",
    "print('Previous:')\n",
    "print(diff_df['postsynaptic_ID'].unique())\n",
    "print('Updated:')\n",
    "print(diff_df['Updated_postsynaptic_ID'].unique())"
   ]
  },
  {
   "cell_type": "markdown",
   "id": "44fccbfc",
   "metadata": {},
   "source": [
    "### Transfering data from a source data frame into another\n",
    "#### Defining a function that performs the copy-paste operation"
   ]
  },
  {
   "cell_type": "code",
   "execution_count": 49,
   "id": "d4aa9efb",
   "metadata": {},
   "outputs": [],
   "source": [
    "def update_dataframe_single_column(source_df, target_df, reference_column):\n",
    "    # Create a dictionary mapping from the reference column to the source DataFrame\n",
    "    reference_dict = source_df.groupby(reference_column).first().reset_index().to_dict(orient='records')\n",
    "    reference_dict = {row[reference_column]: row for row in reference_dict}\n",
    "\n",
    "    # Update the target DataFrame based on the reference column\n",
    "    for i, row in target_df.iterrows():\n",
    "        ref = row[reference_column]\n",
    "        if ref in reference_dict:\n",
    "            source_row = reference_dict[ref]\n",
    "            target_df.loc[i] = source_row\n",
    "\n",
    "    return target_df"
   ]
  },
  {
   "cell_type": "code",
   "execution_count": 50,
   "id": "0e29943b",
   "metadata": {
    "scrolled": true
   },
   "outputs": [
    {
     "data": {
      "text/html": [
       "<div>\n",
       "<style scoped>\n",
       "    .dataframe tbody tr th:only-of-type {\n",
       "        vertical-align: middle;\n",
       "    }\n",
       "\n",
       "    .dataframe tbody tr th {\n",
       "        vertical-align: top;\n",
       "    }\n",
       "\n",
       "    .dataframe thead th {\n",
       "        text-align: right;\n",
       "    }\n",
       "</style>\n",
       "<table border=\"1\" class=\"dataframe\">\n",
       "  <thead>\n",
       "    <tr style=\"text-align: right;\">\n",
       "      <th></th>\n",
       "      <th>optic_lobe_id</th>\n",
       "      <th>column_id</th>\n",
       "      <th>detached_lamina (Y/N)</th>\n",
       "      <th>healthy_L3 (Y/N)</th>\n",
       "      <th>postsynaptic_ID</th>\n",
       "      <th>Updated_postsynaptic_ID</th>\n",
       "      <th>dorso-ventral</th>\n",
       "    </tr>\n",
       "  </thead>\n",
       "  <tbody>\n",
       "    <tr>\n",
       "      <th>0</th>\n",
       "      <td>R341</td>\n",
       "      <td>nan</td>\n",
       "      <td>N</td>\n",
       "      <td>Y</td>\n",
       "      <td>720575940647380020</td>\n",
       "      <td>720575940647380020</td>\n",
       "      <td>V</td>\n",
       "    </tr>\n",
       "    <tr>\n",
       "      <th>1</th>\n",
       "      <td>R341</td>\n",
       "      <td>nan</td>\n",
       "      <td>N</td>\n",
       "      <td>Y</td>\n",
       "      <td>720575940647380020</td>\n",
       "      <td>720575940647380020</td>\n",
       "      <td>V</td>\n",
       "    </tr>\n",
       "    <tr>\n",
       "      <th>2</th>\n",
       "      <td>R341</td>\n",
       "      <td>nan</td>\n",
       "      <td>N</td>\n",
       "      <td>Y</td>\n",
       "      <td>720575940647380020</td>\n",
       "      <td>720575940647380020</td>\n",
       "      <td>V</td>\n",
       "    </tr>\n",
       "    <tr>\n",
       "      <th>3</th>\n",
       "      <td>R341</td>\n",
       "      <td>nan</td>\n",
       "      <td>N</td>\n",
       "      <td>Y</td>\n",
       "      <td>720575940647380020</td>\n",
       "      <td>720575940647380020</td>\n",
       "      <td>V</td>\n",
       "    </tr>\n",
       "    <tr>\n",
       "      <th>4</th>\n",
       "      <td>R341</td>\n",
       "      <td>nan</td>\n",
       "      <td>N</td>\n",
       "      <td>Y</td>\n",
       "      <td>720575940647380020</td>\n",
       "      <td>720575940647380020</td>\n",
       "      <td>V</td>\n",
       "    </tr>\n",
       "  </tbody>\n",
       "</table>\n",
       "</div>"
      ],
      "text/plain": [
       "  optic_lobe_id column_id detached_lamina (Y/N) healthy_L3 (Y/N)  \\\n",
       "0          R341       nan                     N                Y   \n",
       "1          R341       nan                     N                Y   \n",
       "2          R341       nan                     N                Y   \n",
       "3          R341       nan                     N                Y   \n",
       "4          R341       nan                     N                Y   \n",
       "\n",
       "      postsynaptic_ID Updated_postsynaptic_ID dorso-ventral  \n",
       "0  720575940647380020      720575940647380020             V  \n",
       "1  720575940647380020      720575940647380020             V  \n",
       "2  720575940647380020      720575940647380020             V  \n",
       "3  720575940647380020      720575940647380020             V  \n",
       "4  720575940647380020      720575940647380020             V  "
      ]
     },
     "execution_count": 50,
     "metadata": {},
     "output_type": "execute_result"
    }
   ],
   "source": [
    "# Function inputs\n",
    "source_cols = ['optic_lobe_id', 'column_id','detached_lamina (Y/N)','healthy_L3 (Y/N)','postsynaptic_ID','Updated_postsynaptic_ID','dorso-ventral']\n",
    "target_cols = ['optic_lobe_id', 'column_id', 'detached_lamina (Y/N)','healthy_L3 (Y/N)','postsynaptic_ID','Updated_postsynaptic_ID','dorso-ventral']\n",
    "reference_column = 'postsynaptic_ID'\n",
    "\n",
    "# Selecting dataframes and resetting index\n",
    "source_df = data_frames['df_01'][source_cols].copy()\n",
    "source_df.reset_index(inplace = True, drop = True)\n",
    "target_df = data_frames['df_02'][target_cols].copy()\n",
    "target_df.reset_index(inplace = True, drop = True)\n",
    "\n",
    "\n",
    "source_df = source_df.astype(str)\n",
    "target_df = target_df.astype(str)\n",
    "\n",
    "# Running the function and compleating the dataset\n",
    "result_df = update_dataframe_single_column(source_df, target_df,reference_column)\n",
    "result_df.head()"
   ]
  },
  {
   "cell_type": "markdown",
   "id": "05dd6cd8",
   "metadata": {},
   "source": [
    "### Saving back to excel file"
   ]
  },
  {
   "cell_type": "code",
   "execution_count": 51,
   "id": "1bf198c9",
   "metadata": {},
   "outputs": [],
   "source": [
    "# Creating string for the date\n",
    "import datetime\n",
    "x = datetime.datetime.now()\n",
    "date_str = x.strftime(\"%d\") + x.strftime(\"%b\") + x.strftime(\"%Y\")\n",
    "\n",
    "# Writting in an existing excel file\n",
    "from openpyxl import load_workbook\n",
    "book = load_workbook(filePath_list[1])\n",
    "writer = pd.ExcelWriter(filePath_list[1], engine = 'openpyxl')\n",
    "writer.book = book\n",
    "\n",
    "result_df = result_df.astype(str)\n",
    "result_df.to_excel(writer, sheet_name='Updated_table_'+date_str) #sorted_df\n",
    "writer.save()\n",
    "writer.close()"
   ]
  },
  {
   "cell_type": "code",
   "execution_count": null,
   "id": "1fad1ea9",
   "metadata": {},
   "outputs": [],
   "source": []
  },
  {
   "cell_type": "markdown",
   "id": "60048cbf",
   "metadata": {},
   "source": [
    "## C) Combining information between tables of postsynaptic partners and databse of postsynaptic partners"
   ]
  },
  {
   "cell_type": "code",
   "execution_count": 122,
   "id": "7932a53c",
   "metadata": {},
   "outputs": [],
   "source": [
    "# Choose path and file\n",
    "dataPath = r'E:\\Connectomics-Data\\FlyWire\\Excels\\drive-data-sets'\n",
    "\n",
    "date = '20230621'\n",
    "fileName_list = [f'Tm9 proofreadings_{date}.xlsx',\n",
    "                 f'Tm16_neurons_outputs_count_L_Tm9_{date}.xlsx']\n",
    "\n",
    "filePath_list = []\n",
    "for fileName in fileName_list:\n",
    "    filePath_list.append(os.path.join(dataPath,fileName))"
   ]
  },
  {
   "cell_type": "code",
   "execution_count": 123,
   "id": "99dab603",
   "metadata": {},
   "outputs": [],
   "source": [
    "#Choose column information to compare and to transfer\n",
    "columns_to_compare = ['postsynaptic_ID']"
   ]
  },
  {
   "cell_type": "markdown",
   "id": "9165b5f6",
   "metadata": {},
   "source": [
    "### Loading the distinct data frames"
   ]
  },
  {
   "cell_type": "code",
   "execution_count": 124,
   "id": "b0c44e35",
   "metadata": {},
   "outputs": [],
   "source": [
    "# The distinct dataframes will be stored in a dictionary\n",
    "\n",
    "data_frames = dict()\n",
    "\n",
    "for i in range(1, len(filePath_list)+1):\n",
    "    data_frames['df_%02d' % i] = pd.read_excel(filePath_list[i-1])\n",
    "    #Dropping the fisrt row ('asdf' was added as a walk-around to set that column values as type str)\n",
    "    if data_frames['df_%02d' % i][\"seg_id\"][0] == 'asdf': \n",
    "        data_frames['df_%02d' % i] = data_frames['df_%02d' % i].iloc[1: , :]\n",
    "        data_frames['df_%02d' % i].reset_index(inplace=True,drop=True)"
   ]
  },
  {
   "cell_type": "code",
   "execution_count": 125,
   "id": "07216255",
   "metadata": {},
   "outputs": [],
   "source": [
    "# Naming some columns different to match the two dataframes\n",
    "for df_name in data_frames.keys():\n",
    "    if 'postsynaptic_ID' not in data_frames[df_name].columns:\n",
    "        data_frames[df_name]['postsynaptic_ID'] = data_frames[df_name]['seg_id']\n",
    "        "
   ]
  },
  {
   "cell_type": "code",
   "execution_count": 126,
   "id": "ff8814f6",
   "metadata": {},
   "outputs": [],
   "source": [
    "#Choose column information to compare and to transfer\n",
    "columns_to_compare = ['postsynaptic_ID']"
   ]
  },
  {
   "cell_type": "code",
   "execution_count": null,
   "id": "00c380a2",
   "metadata": {},
   "outputs": [],
   "source": []
  },
  {
   "cell_type": "markdown",
   "id": "32549770",
   "metadata": {},
   "source": [
    "### Updating column information"
   ]
  },
  {
   "cell_type": "code",
   "execution_count": 127,
   "id": "8201ca1b",
   "metadata": {},
   "outputs": [],
   "source": [
    "# The distinct columns to update and the updated versions of them will be stored dictionaries\n",
    "columns_to_update = dict()\n",
    "for df_name in data_frames.keys():\n",
    "    curr_df = data_frames[df_name]\n",
    "    for column_name in columns_to_compare:\n",
    "        columns_to_update[f'{df_name}_{column_name}'] = curr_df[column_name].copy()"
   ]
  },
  {
   "cell_type": "code",
   "execution_count": 128,
   "id": "9f4d6848",
   "metadata": {},
   "outputs": [],
   "source": [
    "#Replacing the 'INPUTS PROOFREAD' or NaN labelled row of the lists for a well-known marker id\n",
    "\n",
    "marker_id = '720575940628553731' # VM1 ORN\n",
    "marker_id_update_df = flywire.update_ids(marker_id, stop_layer=2, supervoxels=None, timestamp=None, dataset='production', progress=True)\n",
    "marker_id_updated = marker_id_update_df[\"new_id\"][0]\n",
    "for key,value in columns_to_update.items():\n",
    "    for i, id in enumerate(value):\n",
    "        if id == 'INPUTS PROOFREAD':\n",
    "            value[i] = marker_id_updated # Replacement by the marker\n",
    "        elif id == float('nan'):\n",
    "            value[i] = marker_id_updated # Replacement by the marker\n",
    "        elif math.isnan(float(id)):\n",
    "            value[i] = marker_id_updated # Replacement by the marker"
   ]
  },
  {
   "cell_type": "code",
   "execution_count": 129,
   "id": "234cdadd",
   "metadata": {},
   "outputs": [
    {
     "data": {
      "application/vnd.jupyter.widget-view+json": {
       "model_id": "",
       "version_major": 2,
       "version_minor": 0
      },
      "text/plain": [
       "Updating:   0%|          | 0/1375 [00:00<?, ?it/s]"
      ]
     },
     "metadata": {},
     "output_type": "display_data"
    },
    {
     "data": {
      "application/vnd.jupyter.widget-view+json": {
       "model_id": "",
       "version_major": 2,
       "version_minor": 0
      },
      "text/plain": [
       "Updating:   0%|          | 0/1452 [00:00<?, ?it/s]"
      ]
     },
     "metadata": {},
     "output_type": "display_data"
    }
   ],
   "source": [
    "# Updating the different columns. Information is stored in a dictionary\n",
    "updated_columns = dict()\n",
    "updated_columns_confidence = dict()\n",
    "for key, value in columns_to_update.items():\n",
    "    temp_segmentIDs_df = flywire.update_ids(value.tolist(), stop_layer=2, supervoxels=None, timestamp=None, dataset='production', progress=True)\n",
    "    updated_value = temp_segmentIDs_df[\"new_id\"]\n",
    "    confidence_of_update = temp_segmentIDs_df[\"confidence\"]\n",
    "    updated_columns[key] = updated_value\n",
    "    updated_columns_confidence[key] = confidence_of_update"
   ]
  },
  {
   "cell_type": "markdown",
   "id": "6338481f",
   "metadata": {},
   "source": [
    "### Updating dataframe information"
   ]
  },
  {
   "cell_type": "code",
   "execution_count": 130,
   "id": "744e0b38",
   "metadata": {},
   "outputs": [],
   "source": [
    "# Restoring the initial INPUTS PROOFREAD' marker\n",
    "for key, series in updated_columns.items():\n",
    "    updated_columns[key] = series.replace(to_replace = int(marker_id), value = 'INPUTS PROOFREAD')\n",
    "    "
   ]
  },
  {
   "cell_type": "code",
   "execution_count": 131,
   "id": "42e9d96e",
   "metadata": {},
   "outputs": [],
   "source": [
    "#Updating the different dataframes inplace\n",
    "for df_name, df_values in data_frames.items():\n",
    "    for column_name in columns_to_compare:\n",
    "        data_frames[df_name][f'Updated_{column_name}'] =  updated_columns[f'{df_name}_{column_name}']"
   ]
  },
  {
   "cell_type": "code",
   "execution_count": 132,
   "id": "0c059772",
   "metadata": {},
   "outputs": [
    {
     "name": "stdout",
     "output_type": "stream",
     "text": [
      "Previous:\n",
      "[]\n",
      "Updated:\n",
      "[]\n"
     ]
    }
   ],
   "source": [
    "#The following ids have been updated\n",
    "query_name = 'df_01'\n",
    "diff_df = data_frames[query_name].astype(str).loc[data_frames[query_name].astype(str)['Updated_postsynaptic_ID'] != data_frames[query_name].astype(str)['postsynaptic_ID']]\n",
    "print('Previous:')\n",
    "print(diff_df['postsynaptic_ID'].unique())\n",
    "print('Updated:')\n",
    "print(diff_df['Updated_postsynaptic_ID'].unique())"
   ]
  },
  {
   "cell_type": "markdown",
   "id": "301000ce",
   "metadata": {},
   "source": [
    "### Transfering data from a source data frame into another\n",
    "#### Defining a function that performs the copy-paste operation"
   ]
  },
  {
   "cell_type": "code",
   "execution_count": 133,
   "id": "7c2b3299",
   "metadata": {},
   "outputs": [],
   "source": [
    "def update_dataframe_single_column(source_df, target_df, reference_column):\n",
    "    # Create a dictionary mapping from the reference column to the source DataFrame\n",
    "    reference_dict = source_df.groupby(reference_column).first().reset_index().to_dict(orient='records')\n",
    "    reference_dict = {row[reference_column]: row for row in reference_dict}\n",
    "\n",
    "    # Update the target DataFrame based on the reference column\n",
    "    for i, row in target_df.iterrows():\n",
    "        ref = row[reference_column]\n",
    "        if ref in reference_dict:\n",
    "            source_row = reference_dict[ref]\n",
    "            target_df.loc[i] = source_row\n",
    "\n",
    "    return target_df"
   ]
  },
  {
   "cell_type": "code",
   "execution_count": 134,
   "id": "ba49de94",
   "metadata": {
    "scrolled": true
   },
   "outputs": [
    {
     "data": {
      "text/html": [
       "<div>\n",
       "<style scoped>\n",
       "    .dataframe tbody tr th:only-of-type {\n",
       "        vertical-align: middle;\n",
       "    }\n",
       "\n",
       "    .dataframe tbody tr th {\n",
       "        vertical-align: top;\n",
       "    }\n",
       "\n",
       "    .dataframe thead th {\n",
       "        text-align: right;\n",
       "    }\n",
       "</style>\n",
       "<table border=\"1\" class=\"dataframe\">\n",
       "  <thead>\n",
       "    <tr style=\"text-align: right;\">\n",
       "      <th></th>\n",
       "      <th>XYZ-ME</th>\n",
       "      <th>XYZ-LO</th>\n",
       "      <th>optic_lobe_id</th>\n",
       "      <th>column_id</th>\n",
       "      <th>detached_lamina (Y/N)</th>\n",
       "      <th>healthy_L3 (Y/N)</th>\n",
       "      <th>postsynaptic_ID</th>\n",
       "      <th>Updated_postsynaptic_ID</th>\n",
       "    </tr>\n",
       "  </thead>\n",
       "  <tbody>\n",
       "    <tr>\n",
       "      <th>0</th>\n",
       "      <td>67167.0,50125.0,4221.0</td>\n",
       "      <td>82126.0,53158.0,6017.0</td>\n",
       "      <td>L314</td>\n",
       "      <td>nan</td>\n",
       "      <td>?</td>\n",
       "      <td>nan</td>\n",
       "      <td>720575940626237898</td>\n",
       "      <td>720575940626237898</td>\n",
       "    </tr>\n",
       "    <tr>\n",
       "      <th>1</th>\n",
       "      <td>66890.0,48924.0,4466.0</td>\n",
       "      <td>82040.0,52275.0,5971.0</td>\n",
       "      <td>L476</td>\n",
       "      <td>nan</td>\n",
       "      <td>?</td>\n",
       "      <td>nan</td>\n",
       "      <td>720575940615900358</td>\n",
       "      <td>720575940615900358</td>\n",
       "    </tr>\n",
       "    <tr>\n",
       "      <th>2</th>\n",
       "      <td>64840.0,50020.0,4511.0</td>\n",
       "      <td>81655.0,52786.0,5912.0</td>\n",
       "      <td>L167</td>\n",
       "      <td>nan</td>\n",
       "      <td>?</td>\n",
       "      <td>nan</td>\n",
       "      <td>720575940630534518</td>\n",
       "      <td>720575940630534518</td>\n",
       "    </tr>\n",
       "    <tr>\n",
       "      <th>3</th>\n",
       "      <td>65978.0,47858.0,4567.0</td>\n",
       "      <td>81724.0,51402.0,5913.0</td>\n",
       "      <td>L120</td>\n",
       "      <td>nan</td>\n",
       "      <td>N</td>\n",
       "      <td>nan</td>\n",
       "      <td>720575940632125251</td>\n",
       "      <td>720575940632125251</td>\n",
       "    </tr>\n",
       "    <tr>\n",
       "      <th>4</th>\n",
       "      <td>66694.0,52382.0,4179.0</td>\n",
       "      <td>82453.0,54018.0,5985.0</td>\n",
       "      <td>L646</td>\n",
       "      <td>nan</td>\n",
       "      <td>N</td>\n",
       "      <td>nan</td>\n",
       "      <td>720575940640110670</td>\n",
       "      <td>720575940640110670</td>\n",
       "    </tr>\n",
       "  </tbody>\n",
       "</table>\n",
       "</div>"
      ],
      "text/plain": [
       "                   XYZ-ME                  XYZ-LO optic_lobe_id column_id  \\\n",
       "0  67167.0,50125.0,4221.0  82126.0,53158.0,6017.0          L314       nan   \n",
       "1  66890.0,48924.0,4466.0  82040.0,52275.0,5971.0          L476       nan   \n",
       "2  64840.0,50020.0,4511.0  81655.0,52786.0,5912.0          L167       nan   \n",
       "3  65978.0,47858.0,4567.0  81724.0,51402.0,5913.0          L120       nan   \n",
       "4  66694.0,52382.0,4179.0  82453.0,54018.0,5985.0          L646       nan   \n",
       "\n",
       "  detached_lamina (Y/N) healthy_L3 (Y/N)     postsynaptic_ID  \\\n",
       "0                     ?              nan  720575940626237898   \n",
       "1                     ?              nan  720575940615900358   \n",
       "2                     ?              nan  720575940630534518   \n",
       "3                     N              nan  720575940632125251   \n",
       "4                     N              nan  720575940640110670   \n",
       "\n",
       "  Updated_postsynaptic_ID  \n",
       "0      720575940626237898  \n",
       "1      720575940615900358  \n",
       "2      720575940630534518  \n",
       "3      720575940632125251  \n",
       "4      720575940640110670  "
      ]
     },
     "execution_count": 134,
     "metadata": {},
     "output_type": "execute_result"
    }
   ],
   "source": [
    "# Function inputs\n",
    "source_cols = ['XYZ-ME','XYZ-LO','optic_lobe_id', 'column_id','detached_lamina (Y/N)','healthy_L3 (Y/N)','postsynaptic_ID','Updated_postsynaptic_ID']\n",
    "target_cols = ['XYZ-ME','XYZ-LO','optic_lobe_id', 'column_id', 'detached_lamina (Y/N)','healthy_L3 (Y/N)','postsynaptic_ID','Updated_postsynaptic_ID']\n",
    "reference_column = 'postsynaptic_ID'\n",
    "\n",
    "# Selecting dataframes and resetting index\n",
    "source_df = data_frames['df_01'][source_cols].copy()\n",
    "source_df.reset_index(inplace = True, drop = True)\n",
    "target_df = data_frames['df_02'][target_cols].copy()\n",
    "target_df.reset_index(inplace = True, drop = True)\n",
    "\n",
    "\n",
    "source_df = source_df.astype(str)\n",
    "target_df = target_df.astype(str)\n",
    "\n",
    "# Running the function and compleating the dataset\n",
    "result_df = update_dataframe_single_column(source_df, target_df,reference_column)\n",
    "result_df.head()"
   ]
  },
  {
   "cell_type": "markdown",
   "id": "8294d399",
   "metadata": {},
   "source": [
    "### Saving back to excel file"
   ]
  },
  {
   "cell_type": "code",
   "execution_count": 135,
   "id": "eb1fddbd",
   "metadata": {},
   "outputs": [],
   "source": [
    "\n",
    "# Creating string for the date\n",
    "import datetime\n",
    "x = datetime.datetime.now()\n",
    "date_str = x.strftime(\"%d\") + x.strftime(\"%b\") + x.strftime(\"%Y\")\n",
    "\n",
    "# Writting in an existing excel file\n",
    "from openpyxl import load_workbook\n",
    "book = load_workbook(filePath_list[1])\n",
    "writer = pd.ExcelWriter(filePath_list[1], engine = 'openpyxl')\n",
    "writer.book = book\n",
    "\n",
    "result_df = result_df.astype(str)\n",
    "result_df.to_excel(writer, sheet_name='Updated_table_'+date_str) #sorted_df\n",
    "writer.save()\n",
    "writer.close()"
   ]
  },
  {
   "cell_type": "markdown",
   "id": "6f570791",
   "metadata": {},
   "source": [
    "### D) Combining information between tables for neuron authorship"
   ]
  },
  {
   "cell_type": "code",
   "execution_count": 5,
   "id": "466ebf4e",
   "metadata": {},
   "outputs": [],
   "source": [
    "# Loading the first data frame\n",
    "\n",
    "# Choose path and file\n",
    "PC_disc = 'D'\n",
    "#dataPath = f'{PC_disc}:\\Connectomics-Data\\FlyWire\\Excels\\drive-data-sets\\submission_nature'\n",
    "dataPath = f'{PC_disc}:\\FlyWire-Data\\FlyWire-Authorship'\n",
    "date = '20240115'\n",
    "fileName = f'Segment IDs in publication_{date}.xlsx'\n",
    "\n",
    "filePath = os.path.join(dataPath,fileName)\n",
    "\n",
    "#Loading file as DataFrame\n",
    "df = pd.read_excel(filePath)\n",
    "\n",
    "\n",
    "#Dropping the fisrt row ('asdf' was added as a walk-around to set that column values as type str)\n",
    "if df[\"seg_id\"][0] == 'asdf': \n",
    "    df = df.iloc[1: , :]\n",
    "    df.reset_index(inplace=True,drop=True)\n",
    "    \n",
    "#Dropping dupllicates\n",
    "segment_publication_df = df.drop_duplicates(subset=[\"seg_id\"], keep='first')\n",
    "\n"
   ]
  },
  {
   "cell_type": "code",
   "execution_count": 9,
   "id": "df428491",
   "metadata": {
    "scrolled": true
   },
   "outputs": [],
   "source": [
    "# Loading the other dataframe\n",
    "\n",
    "# Choose path and file\n",
    "PC_disc = 'D'\n",
    "#dataPath = f'{PC_disc}:\\Connectomics-Data\\FlyWire\\Excels\\drive-data-sets\\submission_nature'\n",
    "dataPath = f'{PC_disc}:\\FlyWire-Data\\FlyWire-Authorship'\n",
    "date = '20240115'\n",
    "fileName = f'Multi-neuron-changelog-{date}.xlsx'\n",
    "filePath = os.path.join(dataPath,fileName)\n",
    "\n",
    "#Loading file as DataFrame\n",
    "df = pd.read_excel(filePath)\n",
    "\n",
    "\n",
    "#Dropping the fisrt row ('asdf' was added as a walk-around to set that column values as type str)\n",
    "if df[\"segment_ID\"][0] == 'asdf': \n",
    "    df = df.iloc[1: , :]\n",
    "    df.reset_index(inplace=True,drop=True)\n",
    "    \n",
    "change_log_df = df.copy()\n",
    "#change_log_df['segment_ID'] = change_log_df['segment_ID'].str.strip(\"'\")"
   ]
  },
  {
   "cell_type": "code",
   "execution_count": 10,
   "id": "970ea641",
   "metadata": {},
   "outputs": [
    {
     "data": {
      "text/html": [
       "<div>\n",
       "<style scoped>\n",
       "    .dataframe tbody tr th:only-of-type {\n",
       "        vertical-align: middle;\n",
       "    }\n",
       "\n",
       "    .dataframe tbody tr th {\n",
       "        vertical-align: top;\n",
       "    }\n",
       "\n",
       "    .dataframe thead th {\n",
       "        text-align: right;\n",
       "    }\n",
       "</style>\n",
       "<table border=\"1\" class=\"dataframe\">\n",
       "  <thead>\n",
       "    <tr style=\"text-align: right;\">\n",
       "      <th></th>\n",
       "      <th>symbol</th>\n",
       "      <th>hemisphere</th>\n",
       "      <th>seg_id</th>\n",
       "      <th>optic_lobe_id</th>\n",
       "      <th>backbone proofread (Y/N)</th>\n",
       "    </tr>\n",
       "  </thead>\n",
       "  <tbody>\n",
       "    <tr>\n",
       "      <th>0</th>\n",
       "      <td>Tm9</td>\n",
       "      <td>R</td>\n",
       "      <td>720575940632916783</td>\n",
       "      <td>R1</td>\n",
       "      <td>Y</td>\n",
       "    </tr>\n",
       "    <tr>\n",
       "      <th>1</th>\n",
       "      <td>Tm9</td>\n",
       "      <td>R</td>\n",
       "      <td>720575940628906795</td>\n",
       "      <td>R2</td>\n",
       "      <td>Y</td>\n",
       "    </tr>\n",
       "    <tr>\n",
       "      <th>2</th>\n",
       "      <td>Tm9</td>\n",
       "      <td>R</td>\n",
       "      <td>720575940639049038</td>\n",
       "      <td>R3</td>\n",
       "      <td>Y</td>\n",
       "    </tr>\n",
       "    <tr>\n",
       "      <th>3</th>\n",
       "      <td>Tm9</td>\n",
       "      <td>R</td>\n",
       "      <td>720575940641658676</td>\n",
       "      <td>R4</td>\n",
       "      <td>Y</td>\n",
       "    </tr>\n",
       "    <tr>\n",
       "      <th>4</th>\n",
       "      <td>Tm9</td>\n",
       "      <td>R</td>\n",
       "      <td>720575940638132058</td>\n",
       "      <td>R5</td>\n",
       "      <td>Y</td>\n",
       "    </tr>\n",
       "    <tr>\n",
       "      <th>...</th>\n",
       "      <td>...</td>\n",
       "      <td>...</td>\n",
       "      <td>...</td>\n",
       "      <td>...</td>\n",
       "      <td>...</td>\n",
       "    </tr>\n",
       "    <tr>\n",
       "      <th>5183</th>\n",
       "      <td>TmY17</td>\n",
       "      <td>R</td>\n",
       "      <td>720575940633505934</td>\n",
       "      <td>TmY17-R152</td>\n",
       "      <td>Y</td>\n",
       "    </tr>\n",
       "    <tr>\n",
       "      <th>5184</th>\n",
       "      <td>TmY17</td>\n",
       "      <td>R</td>\n",
       "      <td>720575940651270902</td>\n",
       "      <td>TmY17-R153</td>\n",
       "      <td>Y</td>\n",
       "    </tr>\n",
       "    <tr>\n",
       "      <th>5185</th>\n",
       "      <td>TmY17</td>\n",
       "      <td>R</td>\n",
       "      <td>720575940625696637</td>\n",
       "      <td>TmY17-R154</td>\n",
       "      <td>Y</td>\n",
       "    </tr>\n",
       "    <tr>\n",
       "      <th>5186</th>\n",
       "      <td>TmY17</td>\n",
       "      <td>R</td>\n",
       "      <td>720575940625313428</td>\n",
       "      <td>TmY17-R155</td>\n",
       "      <td>Y</td>\n",
       "    </tr>\n",
       "    <tr>\n",
       "      <th>5187</th>\n",
       "      <td>TmY17</td>\n",
       "      <td>R</td>\n",
       "      <td>720575940613612394</td>\n",
       "      <td>TmY17-R156</td>\n",
       "      <td>Y</td>\n",
       "    </tr>\n",
       "  </tbody>\n",
       "</table>\n",
       "<p>5178 rows × 5 columns</p>\n",
       "</div>"
      ],
      "text/plain": [
       "     symbol hemisphere              seg_id optic_lobe_id  \\\n",
       "0       Tm9          R  720575940632916783            R1   \n",
       "1       Tm9          R  720575940628906795            R2   \n",
       "2       Tm9          R  720575940639049038            R3   \n",
       "3       Tm9          R  720575940641658676            R4   \n",
       "4       Tm9          R  720575940638132058            R5   \n",
       "...     ...        ...                 ...           ...   \n",
       "5183  TmY17          R  720575940633505934    TmY17-R152   \n",
       "5184  TmY17          R  720575940651270902    TmY17-R153   \n",
       "5185  TmY17          R  720575940625696637    TmY17-R154   \n",
       "5186  TmY17          R  720575940625313428    TmY17-R155   \n",
       "5187  TmY17          R  720575940613612394    TmY17-R156   \n",
       "\n",
       "     backbone proofread (Y/N)  \n",
       "0                           Y  \n",
       "1                           Y  \n",
       "2                           Y  \n",
       "3                           Y  \n",
       "4                           Y  \n",
       "...                       ...  \n",
       "5183                        Y  \n",
       "5184                        Y  \n",
       "5185                        Y  \n",
       "5186                        Y  \n",
       "5187                        Y  \n",
       "\n",
       "[5178 rows x 5 columns]"
      ]
     },
     "execution_count": 10,
     "metadata": {},
     "output_type": "execute_result"
    }
   ],
   "source": [
    "segment_publication_df"
   ]
  },
  {
   "cell_type": "code",
   "execution_count": 11,
   "id": "96ca1098",
   "metadata": {},
   "outputs": [],
   "source": [
    "# Adding tte ID column from the fisrt table to the second\n",
    "\n",
    "# Merge the data frames based on the common column \"Updated_seg_ids\"\n",
    "change_log_final = change_log_df.copy()\n",
    "merged_df = pd.merge(change_log_final, segment_publication_df, left_on='segment_ID', right_on='seg_id', how='left')\n",
    "\n",
    "# Add a new column \"neuron type\" to change_log_df using information from the \"symbol\" column\n",
    "change_log_final['neuron type'] = merged_df['symbol']"
   ]
  },
  {
   "cell_type": "code",
   "execution_count": 12,
   "id": "7c417d74",
   "metadata": {},
   "outputs": [
    {
     "data": {
      "text/html": [
       "<div>\n",
       "<style scoped>\n",
       "    .dataframe tbody tr th:only-of-type {\n",
       "        vertical-align: middle;\n",
       "    }\n",
       "\n",
       "    .dataframe tbody tr th {\n",
       "        vertical-align: top;\n",
       "    }\n",
       "\n",
       "    .dataframe thead th {\n",
       "        text-align: right;\n",
       "    }\n",
       "</style>\n",
       "<table border=\"1\" class=\"dataframe\">\n",
       "  <thead>\n",
       "    <tr style=\"text-align: right;\">\n",
       "      <th></th>\n",
       "      <th>segment_ID</th>\n",
       "      <th>total_edits</th>\n",
       "      <th>user_name</th>\n",
       "      <th>user_id</th>\n",
       "      <th>number_of_edits</th>\n",
       "      <th>percent_of_total</th>\n",
       "      <th>user_name.1</th>\n",
       "      <th>user_id.1</th>\n",
       "      <th>number_of_edits.1</th>\n",
       "      <th>percent_of_total.1</th>\n",
       "      <th>...</th>\n",
       "      <th>percent_of_total.9</th>\n",
       "      <th>user_name.10</th>\n",
       "      <th>user_id.10</th>\n",
       "      <th>number_of_edits.10</th>\n",
       "      <th>percent_of_total.10</th>\n",
       "      <th>user_name.11</th>\n",
       "      <th>user_id.11</th>\n",
       "      <th>number_of_edits.11</th>\n",
       "      <th>percent_of_total.11</th>\n",
       "      <th>neuron type</th>\n",
       "    </tr>\n",
       "  </thead>\n",
       "  <tbody>\n",
       "    <tr>\n",
       "      <th>0</th>\n",
       "      <td>720575940603557920</td>\n",
       "      <td>1</td>\n",
       "      <td>Dustin Garner</td>\n",
       "      <td>100.0</td>\n",
       "      <td>1.0</td>\n",
       "      <td>100.00</td>\n",
       "      <td>NaN</td>\n",
       "      <td>NaN</td>\n",
       "      <td>NaN</td>\n",
       "      <td>NaN</td>\n",
       "      <td>...</td>\n",
       "      <td>NaN</td>\n",
       "      <td>NaN</td>\n",
       "      <td>NaN</td>\n",
       "      <td>NaN</td>\n",
       "      <td>NaN</td>\n",
       "      <td>NaN</td>\n",
       "      <td>NaN</td>\n",
       "      <td>NaN</td>\n",
       "      <td>NaN</td>\n",
       "      <td>Tm9</td>\n",
       "    </tr>\n",
       "    <tr>\n",
       "      <th>1</th>\n",
       "      <td>720575940622667784</td>\n",
       "      <td>3</td>\n",
       "      <td>J. Anthony Ocho</td>\n",
       "      <td>1323.0</td>\n",
       "      <td>2.0</td>\n",
       "      <td>66.67</td>\n",
       "      <td>Anjali Pandey</td>\n",
       "      <td>1153.0</td>\n",
       "      <td>1.0</td>\n",
       "      <td>33.33</td>\n",
       "      <td>...</td>\n",
       "      <td>NaN</td>\n",
       "      <td>NaN</td>\n",
       "      <td>NaN</td>\n",
       "      <td>NaN</td>\n",
       "      <td>NaN</td>\n",
       "      <td>NaN</td>\n",
       "      <td>NaN</td>\n",
       "      <td>NaN</td>\n",
       "      <td>NaN</td>\n",
       "      <td>Tm9</td>\n",
       "    </tr>\n",
       "    <tr>\n",
       "      <th>2</th>\n",
       "      <td>720575940627031570</td>\n",
       "      <td>0</td>\n",
       "      <td>NaN</td>\n",
       "      <td>NaN</td>\n",
       "      <td>NaN</td>\n",
       "      <td>NaN</td>\n",
       "      <td>NaN</td>\n",
       "      <td>NaN</td>\n",
       "      <td>NaN</td>\n",
       "      <td>NaN</td>\n",
       "      <td>...</td>\n",
       "      <td>NaN</td>\n",
       "      <td>NaN</td>\n",
       "      <td>NaN</td>\n",
       "      <td>NaN</td>\n",
       "      <td>NaN</td>\n",
       "      <td>NaN</td>\n",
       "      <td>NaN</td>\n",
       "      <td>NaN</td>\n",
       "      <td>NaN</td>\n",
       "      <td>Tm9</td>\n",
       "    </tr>\n",
       "    <tr>\n",
       "      <th>3</th>\n",
       "      <td>720575940627067919</td>\n",
       "      <td>0</td>\n",
       "      <td>NaN</td>\n",
       "      <td>NaN</td>\n",
       "      <td>NaN</td>\n",
       "      <td>NaN</td>\n",
       "      <td>NaN</td>\n",
       "      <td>NaN</td>\n",
       "      <td>NaN</td>\n",
       "      <td>NaN</td>\n",
       "      <td>...</td>\n",
       "      <td>NaN</td>\n",
       "      <td>NaN</td>\n",
       "      <td>NaN</td>\n",
       "      <td>NaN</td>\n",
       "      <td>NaN</td>\n",
       "      <td>NaN</td>\n",
       "      <td>NaN</td>\n",
       "      <td>NaN</td>\n",
       "      <td>NaN</td>\n",
       "      <td>Tm9</td>\n",
       "    </tr>\n",
       "    <tr>\n",
       "      <th>4</th>\n",
       "      <td>720575940627086863</td>\n",
       "      <td>0</td>\n",
       "      <td>NaN</td>\n",
       "      <td>NaN</td>\n",
       "      <td>NaN</td>\n",
       "      <td>NaN</td>\n",
       "      <td>NaN</td>\n",
       "      <td>NaN</td>\n",
       "      <td>NaN</td>\n",
       "      <td>NaN</td>\n",
       "      <td>...</td>\n",
       "      <td>NaN</td>\n",
       "      <td>NaN</td>\n",
       "      <td>NaN</td>\n",
       "      <td>NaN</td>\n",
       "      <td>NaN</td>\n",
       "      <td>NaN</td>\n",
       "      <td>NaN</td>\n",
       "      <td>NaN</td>\n",
       "      <td>NaN</td>\n",
       "      <td>Tm9</td>\n",
       "    </tr>\n",
       "    <tr>\n",
       "      <th>...</th>\n",
       "      <td>...</td>\n",
       "      <td>...</td>\n",
       "      <td>...</td>\n",
       "      <td>...</td>\n",
       "      <td>...</td>\n",
       "      <td>...</td>\n",
       "      <td>...</td>\n",
       "      <td>...</td>\n",
       "      <td>...</td>\n",
       "      <td>...</td>\n",
       "      <td>...</td>\n",
       "      <td>...</td>\n",
       "      <td>...</td>\n",
       "      <td>...</td>\n",
       "      <td>...</td>\n",
       "      <td>...</td>\n",
       "      <td>...</td>\n",
       "      <td>...</td>\n",
       "      <td>...</td>\n",
       "      <td>...</td>\n",
       "      <td>...</td>\n",
       "    </tr>\n",
       "    <tr>\n",
       "      <th>5180</th>\n",
       "      <td>720575940620166592</td>\n",
       "      <td>8</td>\n",
       "      <td>Kendrick Joules Vinson</td>\n",
       "      <td>1932.0</td>\n",
       "      <td>5.0</td>\n",
       "      <td>62.50</td>\n",
       "      <td>Gerit Linneweber</td>\n",
       "      <td>129.0</td>\n",
       "      <td>3.0</td>\n",
       "      <td>37.50</td>\n",
       "      <td>...</td>\n",
       "      <td>NaN</td>\n",
       "      <td>NaN</td>\n",
       "      <td>NaN</td>\n",
       "      <td>NaN</td>\n",
       "      <td>NaN</td>\n",
       "      <td>NaN</td>\n",
       "      <td>NaN</td>\n",
       "      <td>NaN</td>\n",
       "      <td>NaN</td>\n",
       "      <td>TmY17</td>\n",
       "    </tr>\n",
       "    <tr>\n",
       "      <th>5181</th>\n",
       "      <td>720575940623665151</td>\n",
       "      <td>3</td>\n",
       "      <td>Michelle Pantujan</td>\n",
       "      <td>1325.0</td>\n",
       "      <td>1.0</td>\n",
       "      <td>33.33</td>\n",
       "      <td>remer tancontian</td>\n",
       "      <td>1928.0</td>\n",
       "      <td>1.0</td>\n",
       "      <td>33.33</td>\n",
       "      <td>...</td>\n",
       "      <td>NaN</td>\n",
       "      <td>NaN</td>\n",
       "      <td>NaN</td>\n",
       "      <td>NaN</td>\n",
       "      <td>NaN</td>\n",
       "      <td>NaN</td>\n",
       "      <td>NaN</td>\n",
       "      <td>NaN</td>\n",
       "      <td>NaN</td>\n",
       "      <td>TmY17</td>\n",
       "    </tr>\n",
       "    <tr>\n",
       "      <th>5182</th>\n",
       "      <td>720575940623772612</td>\n",
       "      <td>2</td>\n",
       "      <td>Philip</td>\n",
       "      <td>2765.0</td>\n",
       "      <td>2.0</td>\n",
       "      <td>100.00</td>\n",
       "      <td>NaN</td>\n",
       "      <td>NaN</td>\n",
       "      <td>NaN</td>\n",
       "      <td>NaN</td>\n",
       "      <td>...</td>\n",
       "      <td>NaN</td>\n",
       "      <td>NaN</td>\n",
       "      <td>NaN</td>\n",
       "      <td>NaN</td>\n",
       "      <td>NaN</td>\n",
       "      <td>NaN</td>\n",
       "      <td>NaN</td>\n",
       "      <td>NaN</td>\n",
       "      <td>NaN</td>\n",
       "      <td>TmY17</td>\n",
       "    </tr>\n",
       "    <tr>\n",
       "      <th>5183</th>\n",
       "      <td>720575940632894419</td>\n",
       "      <td>25</td>\n",
       "      <td>Shaina Mae Monungolh</td>\n",
       "      <td>1926.0</td>\n",
       "      <td>12.0</td>\n",
       "      <td>48.00</td>\n",
       "      <td>Rashmita Rana</td>\n",
       "      <td>1417.0</td>\n",
       "      <td>7.0</td>\n",
       "      <td>28.00</td>\n",
       "      <td>...</td>\n",
       "      <td>NaN</td>\n",
       "      <td>NaN</td>\n",
       "      <td>NaN</td>\n",
       "      <td>NaN</td>\n",
       "      <td>NaN</td>\n",
       "      <td>NaN</td>\n",
       "      <td>NaN</td>\n",
       "      <td>NaN</td>\n",
       "      <td>NaN</td>\n",
       "      <td>TmY17</td>\n",
       "    </tr>\n",
       "    <tr>\n",
       "      <th>5184</th>\n",
       "      <td>720575940644461000</td>\n",
       "      <td>10</td>\n",
       "      <td>Kendrick Joules Vinson</td>\n",
       "      <td>1932.0</td>\n",
       "      <td>5.0</td>\n",
       "      <td>50.00</td>\n",
       "      <td>Darrel Jay Akiatan</td>\n",
       "      <td>1930.0</td>\n",
       "      <td>4.0</td>\n",
       "      <td>40.00</td>\n",
       "      <td>...</td>\n",
       "      <td>NaN</td>\n",
       "      <td>NaN</td>\n",
       "      <td>NaN</td>\n",
       "      <td>NaN</td>\n",
       "      <td>NaN</td>\n",
       "      <td>NaN</td>\n",
       "      <td>NaN</td>\n",
       "      <td>NaN</td>\n",
       "      <td>NaN</td>\n",
       "      <td>TmY17</td>\n",
       "    </tr>\n",
       "  </tbody>\n",
       "</table>\n",
       "<p>5185 rows × 51 columns</p>\n",
       "</div>"
      ],
      "text/plain": [
       "              segment_ID  total_edits               user_name  user_id  \\\n",
       "0     720575940603557920            1           Dustin Garner    100.0   \n",
       "1     720575940622667784            3         J. Anthony Ocho   1323.0   \n",
       "2     720575940627031570            0                     NaN      NaN   \n",
       "3     720575940627067919            0                     NaN      NaN   \n",
       "4     720575940627086863            0                     NaN      NaN   \n",
       "...                  ...          ...                     ...      ...   \n",
       "5180  720575940620166592            8  Kendrick Joules Vinson   1932.0   \n",
       "5181  720575940623665151            3       Michelle Pantujan   1325.0   \n",
       "5182  720575940623772612            2                  Philip   2765.0   \n",
       "5183  720575940632894419           25    Shaina Mae Monungolh   1926.0   \n",
       "5184  720575940644461000           10  Kendrick Joules Vinson   1932.0   \n",
       "\n",
       "      number_of_edits  percent_of_total         user_name.1  user_id.1  \\\n",
       "0                 1.0            100.00                 NaN        NaN   \n",
       "1                 2.0             66.67       Anjali Pandey     1153.0   \n",
       "2                 NaN               NaN                 NaN        NaN   \n",
       "3                 NaN               NaN                 NaN        NaN   \n",
       "4                 NaN               NaN                 NaN        NaN   \n",
       "...               ...               ...                 ...        ...   \n",
       "5180              5.0             62.50    Gerit Linneweber      129.0   \n",
       "5181              1.0             33.33    remer tancontian     1928.0   \n",
       "5182              2.0            100.00                 NaN        NaN   \n",
       "5183             12.0             48.00       Rashmita Rana     1417.0   \n",
       "5184              5.0             50.00  Darrel Jay Akiatan     1930.0   \n",
       "\n",
       "      number_of_edits.1  percent_of_total.1  ... percent_of_total.9  \\\n",
       "0                   NaN                 NaN  ...                NaN   \n",
       "1                   1.0               33.33  ...                NaN   \n",
       "2                   NaN                 NaN  ...                NaN   \n",
       "3                   NaN                 NaN  ...                NaN   \n",
       "4                   NaN                 NaN  ...                NaN   \n",
       "...                 ...                 ...  ...                ...   \n",
       "5180                3.0               37.50  ...                NaN   \n",
       "5181                1.0               33.33  ...                NaN   \n",
       "5182                NaN                 NaN  ...                NaN   \n",
       "5183                7.0               28.00  ...                NaN   \n",
       "5184                4.0               40.00  ...                NaN   \n",
       "\n",
       "      user_name.10  user_id.10  number_of_edits.10 percent_of_total.10  \\\n",
       "0              NaN         NaN                 NaN                 NaN   \n",
       "1              NaN         NaN                 NaN                 NaN   \n",
       "2              NaN         NaN                 NaN                 NaN   \n",
       "3              NaN         NaN                 NaN                 NaN   \n",
       "4              NaN         NaN                 NaN                 NaN   \n",
       "...            ...         ...                 ...                 ...   \n",
       "5180           NaN         NaN                 NaN                 NaN   \n",
       "5181           NaN         NaN                 NaN                 NaN   \n",
       "5182           NaN         NaN                 NaN                 NaN   \n",
       "5183           NaN         NaN                 NaN                 NaN   \n",
       "5184           NaN         NaN                 NaN                 NaN   \n",
       "\n",
       "      user_name.11  user_id.11  number_of_edits.11 percent_of_total.11  \\\n",
       "0              NaN         NaN                 NaN                 NaN   \n",
       "1              NaN         NaN                 NaN                 NaN   \n",
       "2              NaN         NaN                 NaN                 NaN   \n",
       "3              NaN         NaN                 NaN                 NaN   \n",
       "4              NaN         NaN                 NaN                 NaN   \n",
       "...            ...         ...                 ...                 ...   \n",
       "5180           NaN         NaN                 NaN                 NaN   \n",
       "5181           NaN         NaN                 NaN                 NaN   \n",
       "5182           NaN         NaN                 NaN                 NaN   \n",
       "5183           NaN         NaN                 NaN                 NaN   \n",
       "5184           NaN         NaN                 NaN                 NaN   \n",
       "\n",
       "      neuron type  \n",
       "0             Tm9  \n",
       "1             Tm9  \n",
       "2             Tm9  \n",
       "3             Tm9  \n",
       "4             Tm9  \n",
       "...           ...  \n",
       "5180        TmY17  \n",
       "5181        TmY17  \n",
       "5182        TmY17  \n",
       "5183        TmY17  \n",
       "5184        TmY17  \n",
       "\n",
       "[5185 rows x 51 columns]"
      ]
     },
     "execution_count": 12,
     "metadata": {},
     "output_type": "execute_result"
    }
   ],
   "source": [
    "change_log_final"
   ]
  },
  {
   "cell_type": "code",
   "execution_count": 13,
   "id": "b7871287",
   "metadata": {},
   "outputs": [],
   "source": [
    "#Saving in a new file\n",
    "\n",
    "import datetime\n",
    "x = datetime.datetime.now()\n",
    "date_str = x.strftime(\"%d\") + x.strftime(\"%b\") + x.strftime(\"%Y\")\n",
    "file_name = f'change_log_final_{date_str}.xlsx'\n",
    "savePath = os.path.join(dataPath, file_name)\n",
    "change_log_final.to_excel(savePath, sheet_name='User-Lab summary')"
   ]
  },
  {
   "cell_type": "code",
   "execution_count": null,
   "id": "7c997ad3",
   "metadata": {},
   "outputs": [],
   "source": []
  }
 ],
 "metadata": {
  "kernelspec": {
   "display_name": "Python 3 (ipykernel)",
   "language": "python",
   "name": "python3"
  },
  "language_info": {
   "codemirror_mode": {
    "name": "ipython",
    "version": 3
   },
   "file_extension": ".py",
   "mimetype": "text/x-python",
   "name": "python",
   "nbconvert_exporter": "python",
   "pygments_lexer": "ipython3",
   "version": "3.7.4"
  }
 },
 "nbformat": 4,
 "nbformat_minor": 5
}
