{
 "cells": [
  {
   "cell_type": "markdown",
   "id": "2fbbfb0d",
   "metadata": {},
   "source": [
    "# Updating a proofreading table or a list id file"
   ]
  },
  {
   "cell_type": "markdown",
   "id": "5355cfd2",
   "metadata": {},
   "source": [
    "This notebook contains functions and example scripts to update a proofreading table or lists of ids stored in an excel or txt file"
   ]
  },
  {
   "cell_type": "markdown",
   "id": "b6ccbf1d",
   "metadata": {},
   "source": [
    "Content per section:\n",
    "<br>A) Updating IDs and presynaptic counts\n",
    "<br>B) Updating main postsynaptic neurons database (table)\n",
    "<br>B2) Updating all postsynaptic neurons databases (loop)\n",
    "<br>C) Updating a list of IDs from a txt file\n",
    "<br>D) Updating a list of IDs from any excel file\n",
    "<br>E) Making a list of unique values"
   ]
  },
  {
   "cell_type": "code",
   "execution_count": 1,
   "id": "7e090bbe",
   "metadata": {},
   "outputs": [
    {
     "name": "stderr",
     "output_type": "stream",
     "text": [
      "C:\\Users\\smolina\\Anaconda3\\envs\\EM\\lib\\site-packages\\blessed\\terminal.py:186: UserWarning: Failed to setupterm(kind='xterm-color'): Could not find terminal xterm-color\n",
      "  warnings.warn(msg)\n"
     ]
    }
   ],
   "source": [
    "import os\n",
    "import pandas as pd\n",
    "import numpy as np\n",
    "import fafbseg\n",
    "import math\n",
    "import itertools\n",
    "from fafbseg import flywire\n",
    "from caveclient import CAVEclient\n",
    "from helpers.synapse_queries import combine_xyz, separate_xyz, synapse_count, filter_points, calculate_distance\n",
    "client = CAVEclient('flywire_fafb_production')"
   ]
  },
  {
   "cell_type": "markdown",
   "id": "fed0ec97",
   "metadata": {},
   "source": [
    "## A) Updating IDs and presynaptic counts"
   ]
  },
  {
   "cell_type": "markdown",
   "id": "73f4beeb",
   "metadata": {},
   "source": [
    "### 1. Loading Tm9 input neuron table"
   ]
  },
  {
   "cell_type": "code",
   "execution_count": 9,
   "id": "15183aa8",
   "metadata": {},
   "outputs": [],
   "source": [
    "# Choose path and file\n",
    "PC_disc = 'D'\n",
    "dataPath = f'{PC_disc}:\\Connectomics-Data\\FlyWire\\Excels\\drive-data-sets'\n",
    "fileName = f'Tm9_neurons_input_count_R_700_20231110.xlsx'\n",
    "filePath = os.path.join(dataPath,fileName)"
   ]
  },
  {
   "cell_type": "code",
   "execution_count": 10,
   "id": "079d3f98",
   "metadata": {},
   "outputs": [
    {
     "data": {
      "text/html": [
       "<div>\n",
       "<style scoped>\n",
       "    .dataframe tbody tr th:only-of-type {\n",
       "        vertical-align: middle;\n",
       "    }\n",
       "\n",
       "    .dataframe tbody tr th {\n",
       "        vertical-align: top;\n",
       "    }\n",
       "\n",
       "    .dataframe thead th {\n",
       "        text-align: right;\n",
       "    }\n",
       "</style>\n",
       "<table border=\"1\" class=\"dataframe\">\n",
       "  <thead>\n",
       "    <tr style=\"text-align: right;\">\n",
       "      <th></th>\n",
       "      <th>presynaptic_ID</th>\n",
       "      <th>counts</th>\n",
       "      <th>count %</th>\n",
       "      <th>postsynaptic_ID</th>\n",
       "      <th>symbol</th>\n",
       "      <th>guess</th>\n",
       "      <th>lab</th>\n",
       "      <th>author</th>\n",
       "      <th>name</th>\n",
       "      <th>FlyWire proofread (Y/N)</th>\n",
       "      <th>...</th>\n",
       "      <th>Updated_counts</th>\n",
       "      <th>duplicates</th>\n",
       "      <th>notes</th>\n",
       "      <th>Working on</th>\n",
       "      <th>optic_lobe_id</th>\n",
       "      <th>column_id</th>\n",
       "      <th>patch_id</th>\n",
       "      <th>hemisphere</th>\n",
       "      <th>Updated_postsynaptic_ID</th>\n",
       "      <th>dorso-ventral</th>\n",
       "    </tr>\n",
       "  </thead>\n",
       "  <tbody>\n",
       "    <tr>\n",
       "      <th>0</th>\n",
       "      <td>asdf</td>\n",
       "      <td>NaN</td>\n",
       "      <td>NaN</td>\n",
       "      <td>asdf</td>\n",
       "      <td>NaN</td>\n",
       "      <td>NaN</td>\n",
       "      <td>NaN</td>\n",
       "      <td>NaN</td>\n",
       "      <td>NaN</td>\n",
       "      <td>NaN</td>\n",
       "      <td>...</td>\n",
       "      <td>NaN</td>\n",
       "      <td>NaN</td>\n",
       "      <td>NaN</td>\n",
       "      <td>NaN</td>\n",
       "      <td>NaN</td>\n",
       "      <td>NaN</td>\n",
       "      <td>NaN</td>\n",
       "      <td>NaN</td>\n",
       "      <td>NaN</td>\n",
       "      <td>NaN</td>\n",
       "    </tr>\n",
       "    <tr>\n",
       "      <th>1</th>\n",
       "      <td>720575940612487630</td>\n",
       "      <td>36.0</td>\n",
       "      <td>NaN</td>\n",
       "      <td>720575940633269971</td>\n",
       "      <td>L3</td>\n",
       "      <td>NaN</td>\n",
       "      <td>NaN</td>\n",
       "      <td>96</td>\n",
       "      <td>NaN</td>\n",
       "      <td>NaN</td>\n",
       "      <td>...</td>\n",
       "      <td>30.0</td>\n",
       "      <td>1.0</td>\n",
       "      <td>NaN</td>\n",
       "      <td>NaN</td>\n",
       "      <td>R32</td>\n",
       "      <td>NaN</td>\n",
       "      <td>NaN</td>\n",
       "      <td>R</td>\n",
       "      <td>NaN</td>\n",
       "      <td>V</td>\n",
       "    </tr>\n",
       "    <tr>\n",
       "      <th>2</th>\n",
       "      <td>720575940612413026</td>\n",
       "      <td>25.0</td>\n",
       "      <td>NaN</td>\n",
       "      <td>720575940633269971</td>\n",
       "      <td>CT1</td>\n",
       "      <td>NaN</td>\n",
       "      <td>NaN</td>\n",
       "      <td>95</td>\n",
       "      <td>NaN</td>\n",
       "      <td>NaN</td>\n",
       "      <td>...</td>\n",
       "      <td>21.0</td>\n",
       "      <td>1.0</td>\n",
       "      <td>NaN</td>\n",
       "      <td>NaN</td>\n",
       "      <td>R32</td>\n",
       "      <td>NaN</td>\n",
       "      <td>NaN</td>\n",
       "      <td>R</td>\n",
       "      <td>NaN</td>\n",
       "      <td>V</td>\n",
       "    </tr>\n",
       "    <tr>\n",
       "      <th>3</th>\n",
       "      <td>720575940654872737</td>\n",
       "      <td>13.0</td>\n",
       "      <td>NaN</td>\n",
       "      <td>720575940633269971</td>\n",
       "      <td>Mi4</td>\n",
       "      <td>NaN</td>\n",
       "      <td>NaN</td>\n",
       "      <td>392</td>\n",
       "      <td>NaN</td>\n",
       "      <td>NaN</td>\n",
       "      <td>...</td>\n",
       "      <td>10.0</td>\n",
       "      <td>1.0</td>\n",
       "      <td>NaN</td>\n",
       "      <td>NaN</td>\n",
       "      <td>R32</td>\n",
       "      <td>NaN</td>\n",
       "      <td>NaN</td>\n",
       "      <td>R</td>\n",
       "      <td>NaN</td>\n",
       "      <td>V</td>\n",
       "    </tr>\n",
       "    <tr>\n",
       "      <th>4</th>\n",
       "      <td>720575940626330969</td>\n",
       "      <td>13.0</td>\n",
       "      <td>NaN</td>\n",
       "      <td>720575940633269971</td>\n",
       "      <td>Tm16</td>\n",
       "      <td>NaN</td>\n",
       "      <td>NaN</td>\n",
       "      <td>392</td>\n",
       "      <td>NaN</td>\n",
       "      <td>NaN</td>\n",
       "      <td>...</td>\n",
       "      <td>11.0</td>\n",
       "      <td>1.0</td>\n",
       "      <td>NaN</td>\n",
       "      <td>NaN</td>\n",
       "      <td>R32</td>\n",
       "      <td>NaN</td>\n",
       "      <td>NaN</td>\n",
       "      <td>R</td>\n",
       "      <td>NaN</td>\n",
       "      <td>V</td>\n",
       "    </tr>\n",
       "  </tbody>\n",
       "</table>\n",
       "<p>5 rows × 30 columns</p>\n",
       "</div>"
      ],
      "text/plain": [
       "       presynaptic_ID  counts  count %     postsynaptic_ID symbol guess  lab  \\\n",
       "0                asdf     NaN      NaN                asdf    NaN   NaN  NaN   \n",
       "1  720575940612487630    36.0      NaN  720575940633269971     L3   NaN  NaN   \n",
       "2  720575940612413026    25.0      NaN  720575940633269971    CT1   NaN  NaN   \n",
       "3  720575940654872737    13.0      NaN  720575940633269971    Mi4   NaN  NaN   \n",
       "4  720575940626330969    13.0      NaN  720575940633269971   Tm16   NaN  NaN   \n",
       "\n",
       "  author name FlyWire proofread (Y/N)  ... Updated_counts duplicates notes  \\\n",
       "0    NaN  NaN                     NaN  ...            NaN        NaN   NaN   \n",
       "1     96  NaN                     NaN  ...           30.0        1.0   NaN   \n",
       "2     95  NaN                     NaN  ...           21.0        1.0   NaN   \n",
       "3    392  NaN                     NaN  ...           10.0        1.0   NaN   \n",
       "4    392  NaN                     NaN  ...           11.0        1.0   NaN   \n",
       "\n",
       "  Working on optic_lobe_id column_id patch_id  hemisphere  \\\n",
       "0        NaN           NaN       NaN      NaN         NaN   \n",
       "1        NaN           R32       NaN      NaN           R   \n",
       "2        NaN           R32       NaN      NaN           R   \n",
       "3        NaN           R32       NaN      NaN           R   \n",
       "4        NaN           R32       NaN      NaN           R   \n",
       "\n",
       "  Updated_postsynaptic_ID dorso-ventral  \n",
       "0                     NaN           NaN  \n",
       "1                     NaN             V  \n",
       "2                     NaN             V  \n",
       "3                     NaN             V  \n",
       "4                     NaN             V  \n",
       "\n",
       "[5 rows x 30 columns]"
      ]
     },
     "execution_count": 10,
     "metadata": {},
     "output_type": "execute_result"
    }
   ],
   "source": [
    "#Loading file as DataFrame\n",
    "df = pd.read_excel(filePath)\n",
    "df.head()"
   ]
  },
  {
   "cell_type": "code",
   "execution_count": 11,
   "id": "9179bf72",
   "metadata": {
    "scrolled": true
   },
   "outputs": [],
   "source": [
    "#Dropping the fisrt row ('asdf' was added as a walk-around to set that column values as type str)\n",
    "if df[\"postsynaptic_ID\"][0] == 'asdf': \n",
    "    df = df.iloc[1: , :]\n",
    "    df.reset_index(inplace=True,drop=True)\n",
    "\n",
    "#df = df[df['counts'] >= 3].copy() # Removing rows based on absolute count filter\n",
    "    \n",
    "#Getting the lists of IDs to update\n",
    "segmentIDs = df[\"seg_id\"].copy()\n",
    "pre_IDs = df[\"presynaptic_ID\"].copy()\n",
    "post_IDs = df[\"postsynaptic_ID\"].copy()\n"
   ]
  },
  {
   "cell_type": "code",
   "execution_count": 12,
   "id": "a4d06e45",
   "metadata": {},
   "outputs": [],
   "source": [
    "#Replacing the 'INPUTS PROOFREAD' labelled row of the lists for the previous postsynaptic cell ID\n",
    "for i, id in enumerate(pre_IDs):\n",
    "    if id == 'INPUTS PROOFREAD':\n",
    "        segmentIDs[i] = post_IDs[i-1] # The previous postsynaptic cell ID\n",
    "        pre_IDs[i] = post_IDs[i-1]\n",
    "        post_IDs[i] = post_IDs[i-1]"
   ]
  },
  {
   "cell_type": "markdown",
   "id": "1e66906b",
   "metadata": {},
   "source": [
    "### 2. Updating IDs considering our excel file extructure (fast and new version)"
   ]
  },
  {
   "cell_type": "code",
   "execution_count": 13,
   "id": "6a205648",
   "metadata": {},
   "outputs": [
    {
     "name": "stdout",
     "output_type": "stream",
     "text": [
      "Total rounds to perform: 231\n"
     ]
    },
    {
     "data": {
      "application/vnd.jupyter.widget-view+json": {
       "model_id": "",
       "version_major": 2,
       "version_minor": 0
      },
      "text/plain": [
       "Updating:   0%|          | 0/100 [00:00<?, ?it/s]"
      ]
     },
     "metadata": {},
     "output_type": "display_data"
    },
    {
     "data": {
      "application/vnd.jupyter.widget-view+json": {
       "model_id": "",
       "version_major": 2,
       "version_minor": 0
      },
      "text/plain": [
       "Updating:   0%|          | 0/100 [00:00<?, ?it/s]"
      ]
     },
     "metadata": {},
     "output_type": "display_data"
    },
    {
     "data": {
      "application/vnd.jupyter.widget-view+json": {
       "model_id": "",
       "version_major": 2,
       "version_minor": 0
      },
      "text/plain": [
       "Updating:   0%|          | 0/100 [00:00<?, ?it/s]"
      ]
     },
     "metadata": {},
     "output_type": "display_data"
    },
    {
     "data": {
      "application/vnd.jupyter.widget-view+json": {
       "model_id": "",
       "version_major": 2,
       "version_minor": 0
      },
      "text/plain": [
       "Updating:   0%|          | 0/100 [00:00<?, ?it/s]"
      ]
     },
     "metadata": {},
     "output_type": "display_data"
    },
    {
     "data": {
      "application/vnd.jupyter.widget-view+json": {
       "model_id": "",
       "version_major": 2,
       "version_minor": 0
      },
      "text/plain": [
       "Updating:   0%|          | 0/100 [00:00<?, ?it/s]"
      ]
     },
     "metadata": {},
     "output_type": "display_data"
    },
    {
     "data": {
      "application/vnd.jupyter.widget-view+json": {
       "model_id": "",
       "version_major": 2,
       "version_minor": 0
      },
      "text/plain": [
       "Updating:   0%|          | 0/100 [00:00<?, ?it/s]"
      ]
     },
     "metadata": {},
     "output_type": "display_data"
    },
    {
     "data": {
      "application/vnd.jupyter.widget-view+json": {
       "model_id": "",
       "version_major": 2,
       "version_minor": 0
      },
      "text/plain": [
       "Updating:   0%|          | 0/100 [00:00<?, ?it/s]"
      ]
     },
     "metadata": {},
     "output_type": "display_data"
    },
    {
     "data": {
      "application/vnd.jupyter.widget-view+json": {
       "model_id": "",
       "version_major": 2,
       "version_minor": 0
      },
      "text/plain": [
       "Updating:   0%|          | 0/100 [00:00<?, ?it/s]"
      ]
     },
     "metadata": {},
     "output_type": "display_data"
    },
    {
     "data": {
      "application/vnd.jupyter.widget-view+json": {
       "model_id": "",
       "version_major": 2,
       "version_minor": 0
      },
      "text/plain": [
       "Updating:   0%|          | 0/100 [00:00<?, ?it/s]"
      ]
     },
     "metadata": {},
     "output_type": "display_data"
    },
    {
     "data": {
      "application/vnd.jupyter.widget-view+json": {
       "model_id": "",
       "version_major": 2,
       "version_minor": 0
      },
      "text/plain": [
       "Updating:   0%|          | 0/100 [00:00<?, ?it/s]"
      ]
     },
     "metadata": {},
     "output_type": "display_data"
    },
    {
     "name": "stdout",
     "output_type": "stream",
     "text": [
      "5\n"
     ]
    },
    {
     "data": {
      "application/vnd.jupyter.widget-view+json": {
       "model_id": "",
       "version_major": 2,
       "version_minor": 0
      },
      "text/plain": [
       "Updating:   0%|          | 0/100 [00:00<?, ?it/s]"
      ]
     },
     "metadata": {},
     "output_type": "display_data"
    },
    {
     "data": {
      "application/vnd.jupyter.widget-view+json": {
       "model_id": "",
       "version_major": 2,
       "version_minor": 0
      },
      "text/plain": [
       "Updating:   0%|          | 0/100 [00:00<?, ?it/s]"
      ]
     },
     "metadata": {},
     "output_type": "display_data"
    },
    {
     "data": {
      "application/vnd.jupyter.widget-view+json": {
       "model_id": "",
       "version_major": 2,
       "version_minor": 0
      },
      "text/plain": [
       "Updating:   0%|          | 0/100 [00:00<?, ?it/s]"
      ]
     },
     "metadata": {},
     "output_type": "display_data"
    },
    {
     "data": {
      "application/vnd.jupyter.widget-view+json": {
       "model_id": "",
       "version_major": 2,
       "version_minor": 0
      },
      "text/plain": [
       "Updating:   0%|          | 0/100 [00:00<?, ?it/s]"
      ]
     },
     "metadata": {},
     "output_type": "display_data"
    },
    {
     "data": {
      "application/vnd.jupyter.widget-view+json": {
       "model_id": "",
       "version_major": 2,
       "version_minor": 0
      },
      "text/plain": [
       "Updating:   0%|          | 0/100 [00:00<?, ?it/s]"
      ]
     },
     "metadata": {},
     "output_type": "display_data"
    },
    {
     "data": {
      "application/vnd.jupyter.widget-view+json": {
       "model_id": "",
       "version_major": 2,
       "version_minor": 0
      },
      "text/plain": [
       "Updating:   0%|          | 0/100 [00:00<?, ?it/s]"
      ]
     },
     "metadata": {},
     "output_type": "display_data"
    },
    {
     "data": {
      "application/vnd.jupyter.widget-view+json": {
       "model_id": "",
       "version_major": 2,
       "version_minor": 0
      },
      "text/plain": [
       "Updating:   0%|          | 0/100 [00:00<?, ?it/s]"
      ]
     },
     "metadata": {},
     "output_type": "display_data"
    },
    {
     "data": {
      "application/vnd.jupyter.widget-view+json": {
       "model_id": "",
       "version_major": 2,
       "version_minor": 0
      },
      "text/plain": [
       "Updating:   0%|          | 0/100 [00:00<?, ?it/s]"
      ]
     },
     "metadata": {},
     "output_type": "display_data"
    },
    {
     "data": {
      "application/vnd.jupyter.widget-view+json": {
       "model_id": "",
       "version_major": 2,
       "version_minor": 0
      },
      "text/plain": [
       "Updating:   0%|          | 0/100 [00:00<?, ?it/s]"
      ]
     },
     "metadata": {},
     "output_type": "display_data"
    },
    {
     "data": {
      "application/vnd.jupyter.widget-view+json": {
       "model_id": "",
       "version_major": 2,
       "version_minor": 0
      },
      "text/plain": [
       "Updating:   0%|          | 0/100 [00:00<?, ?it/s]"
      ]
     },
     "metadata": {},
     "output_type": "display_data"
    },
    {
     "name": "stdout",
     "output_type": "stream",
     "text": [
      "10\n"
     ]
    },
    {
     "data": {
      "application/vnd.jupyter.widget-view+json": {
       "model_id": "",
       "version_major": 2,
       "version_minor": 0
      },
      "text/plain": [
       "Updating:   0%|          | 0/100 [00:00<?, ?it/s]"
      ]
     },
     "metadata": {},
     "output_type": "display_data"
    },
    {
     "data": {
      "application/vnd.jupyter.widget-view+json": {
       "model_id": "",
       "version_major": 2,
       "version_minor": 0
      },
      "text/plain": [
       "Updating:   0%|          | 0/100 [00:00<?, ?it/s]"
      ]
     },
     "metadata": {},
     "output_type": "display_data"
    },
    {
     "data": {
      "application/vnd.jupyter.widget-view+json": {
       "model_id": "",
       "version_major": 2,
       "version_minor": 0
      },
      "text/plain": [
       "Updating:   0%|          | 0/100 [00:00<?, ?it/s]"
      ]
     },
     "metadata": {},
     "output_type": "display_data"
    },
    {
     "data": {
      "application/vnd.jupyter.widget-view+json": {
       "model_id": "",
       "version_major": 2,
       "version_minor": 0
      },
      "text/plain": [
       "Updating:   0%|          | 0/100 [00:00<?, ?it/s]"
      ]
     },
     "metadata": {},
     "output_type": "display_data"
    },
    {
     "data": {
      "application/vnd.jupyter.widget-view+json": {
       "model_id": "",
       "version_major": 2,
       "version_minor": 0
      },
      "text/plain": [
       "Updating:   0%|          | 0/100 [00:00<?, ?it/s]"
      ]
     },
     "metadata": {},
     "output_type": "display_data"
    },
    {
     "data": {
      "application/vnd.jupyter.widget-view+json": {
       "model_id": "",
       "version_major": 2,
       "version_minor": 0
      },
      "text/plain": [
       "Updating:   0%|          | 0/100 [00:00<?, ?it/s]"
      ]
     },
     "metadata": {},
     "output_type": "display_data"
    },
    {
     "data": {
      "application/vnd.jupyter.widget-view+json": {
       "model_id": "",
       "version_major": 2,
       "version_minor": 0
      },
      "text/plain": [
       "Updating:   0%|          | 0/100 [00:00<?, ?it/s]"
      ]
     },
     "metadata": {},
     "output_type": "display_data"
    },
    {
     "data": {
      "application/vnd.jupyter.widget-view+json": {
       "model_id": "",
       "version_major": 2,
       "version_minor": 0
      },
      "text/plain": [
       "Updating:   0%|          | 0/100 [00:00<?, ?it/s]"
      ]
     },
     "metadata": {},
     "output_type": "display_data"
    },
    {
     "data": {
      "application/vnd.jupyter.widget-view+json": {
       "model_id": "",
       "version_major": 2,
       "version_minor": 0
      },
      "text/plain": [
       "Updating:   0%|          | 0/100 [00:00<?, ?it/s]"
      ]
     },
     "metadata": {},
     "output_type": "display_data"
    },
    {
     "data": {
      "application/vnd.jupyter.widget-view+json": {
       "model_id": "",
       "version_major": 2,
       "version_minor": 0
      },
      "text/plain": [
       "Updating:   0%|          | 0/100 [00:00<?, ?it/s]"
      ]
     },
     "metadata": {},
     "output_type": "display_data"
    },
    {
     "name": "stdout",
     "output_type": "stream",
     "text": [
      "15\n"
     ]
    },
    {
     "data": {
      "application/vnd.jupyter.widget-view+json": {
       "model_id": "",
       "version_major": 2,
       "version_minor": 0
      },
      "text/plain": [
       "Updating:   0%|          | 0/100 [00:00<?, ?it/s]"
      ]
     },
     "metadata": {},
     "output_type": "display_data"
    },
    {
     "data": {
      "application/vnd.jupyter.widget-view+json": {
       "model_id": "",
       "version_major": 2,
       "version_minor": 0
      },
      "text/plain": [
       "Updating:   0%|          | 0/100 [00:00<?, ?it/s]"
      ]
     },
     "metadata": {},
     "output_type": "display_data"
    },
    {
     "data": {
      "application/vnd.jupyter.widget-view+json": {
       "model_id": "",
       "version_major": 2,
       "version_minor": 0
      },
      "text/plain": [
       "Updating:   0%|          | 0/100 [00:00<?, ?it/s]"
      ]
     },
     "metadata": {},
     "output_type": "display_data"
    },
    {
     "data": {
      "application/vnd.jupyter.widget-view+json": {
       "model_id": "",
       "version_major": 2,
       "version_minor": 0
      },
      "text/plain": [
       "Updating:   0%|          | 0/100 [00:00<?, ?it/s]"
      ]
     },
     "metadata": {},
     "output_type": "display_data"
    },
    {
     "data": {
      "application/vnd.jupyter.widget-view+json": {
       "model_id": "",
       "version_major": 2,
       "version_minor": 0
      },
      "text/plain": [
       "Updating:   0%|          | 0/100 [00:00<?, ?it/s]"
      ]
     },
     "metadata": {},
     "output_type": "display_data"
    },
    {
     "data": {
      "application/vnd.jupyter.widget-view+json": {
       "model_id": "",
       "version_major": 2,
       "version_minor": 0
      },
      "text/plain": [
       "Updating:   0%|          | 0/100 [00:00<?, ?it/s]"
      ]
     },
     "metadata": {},
     "output_type": "display_data"
    },
    {
     "data": {
      "application/vnd.jupyter.widget-view+json": {
       "model_id": "",
       "version_major": 2,
       "version_minor": 0
      },
      "text/plain": [
       "Updating:   0%|          | 0/100 [00:00<?, ?it/s]"
      ]
     },
     "metadata": {},
     "output_type": "display_data"
    },
    {
     "data": {
      "application/vnd.jupyter.widget-view+json": {
       "model_id": "",
       "version_major": 2,
       "version_minor": 0
      },
      "text/plain": [
       "Updating:   0%|          | 0/100 [00:00<?, ?it/s]"
      ]
     },
     "metadata": {},
     "output_type": "display_data"
    },
    {
     "data": {
      "application/vnd.jupyter.widget-view+json": {
       "model_id": "",
       "version_major": 2,
       "version_minor": 0
      },
      "text/plain": [
       "Updating:   0%|          | 0/100 [00:00<?, ?it/s]"
      ]
     },
     "metadata": {},
     "output_type": "display_data"
    },
    {
     "data": {
      "application/vnd.jupyter.widget-view+json": {
       "model_id": "",
       "version_major": 2,
       "version_minor": 0
      },
      "text/plain": [
       "Updating:   0%|          | 0/100 [00:00<?, ?it/s]"
      ]
     },
     "metadata": {},
     "output_type": "display_data"
    },
    {
     "name": "stdout",
     "output_type": "stream",
     "text": [
      "20\n"
     ]
    },
    {
     "data": {
      "application/vnd.jupyter.widget-view+json": {
       "model_id": "",
       "version_major": 2,
       "version_minor": 0
      },
      "text/plain": [
       "Updating:   0%|          | 0/100 [00:00<?, ?it/s]"
      ]
     },
     "metadata": {},
     "output_type": "display_data"
    },
    {
     "data": {
      "application/vnd.jupyter.widget-view+json": {
       "model_id": "",
       "version_major": 2,
       "version_minor": 0
      },
      "text/plain": [
       "Updating:   0%|          | 0/100 [00:00<?, ?it/s]"
      ]
     },
     "metadata": {},
     "output_type": "display_data"
    },
    {
     "data": {
      "application/vnd.jupyter.widget-view+json": {
       "model_id": "",
       "version_major": 2,
       "version_minor": 0
      },
      "text/plain": [
       "Updating:   0%|          | 0/100 [00:00<?, ?it/s]"
      ]
     },
     "metadata": {},
     "output_type": "display_data"
    },
    {
     "data": {
      "application/vnd.jupyter.widget-view+json": {
       "model_id": "",
       "version_major": 2,
       "version_minor": 0
      },
      "text/plain": [
       "Updating:   0%|          | 0/100 [00:00<?, ?it/s]"
      ]
     },
     "metadata": {},
     "output_type": "display_data"
    },
    {
     "data": {
      "application/vnd.jupyter.widget-view+json": {
       "model_id": "",
       "version_major": 2,
       "version_minor": 0
      },
      "text/plain": [
       "Updating:   0%|          | 0/100 [00:00<?, ?it/s]"
      ]
     },
     "metadata": {},
     "output_type": "display_data"
    },
    {
     "data": {
      "application/vnd.jupyter.widget-view+json": {
       "model_id": "",
       "version_major": 2,
       "version_minor": 0
      },
      "text/plain": [
       "Updating:   0%|          | 0/100 [00:00<?, ?it/s]"
      ]
     },
     "metadata": {},
     "output_type": "display_data"
    },
    {
     "data": {
      "application/vnd.jupyter.widget-view+json": {
       "model_id": "",
       "version_major": 2,
       "version_minor": 0
      },
      "text/plain": [
       "Updating:   0%|          | 0/100 [00:00<?, ?it/s]"
      ]
     },
     "metadata": {},
     "output_type": "display_data"
    },
    {
     "data": {
      "application/vnd.jupyter.widget-view+json": {
       "model_id": "",
       "version_major": 2,
       "version_minor": 0
      },
      "text/plain": [
       "Updating:   0%|          | 0/100 [00:00<?, ?it/s]"
      ]
     },
     "metadata": {},
     "output_type": "display_data"
    },
    {
     "data": {
      "application/vnd.jupyter.widget-view+json": {
       "model_id": "",
       "version_major": 2,
       "version_minor": 0
      },
      "text/plain": [
       "Updating:   0%|          | 0/100 [00:00<?, ?it/s]"
      ]
     },
     "metadata": {},
     "output_type": "display_data"
    },
    {
     "data": {
      "application/vnd.jupyter.widget-view+json": {
       "model_id": "",
       "version_major": 2,
       "version_minor": 0
      },
      "text/plain": [
       "Updating:   0%|          | 0/100 [00:00<?, ?it/s]"
      ]
     },
     "metadata": {},
     "output_type": "display_data"
    },
    {
     "name": "stdout",
     "output_type": "stream",
     "text": [
      "25\n"
     ]
    },
    {
     "data": {
      "application/vnd.jupyter.widget-view+json": {
       "model_id": "",
       "version_major": 2,
       "version_minor": 0
      },
      "text/plain": [
       "Updating:   0%|          | 0/100 [00:00<?, ?it/s]"
      ]
     },
     "metadata": {},
     "output_type": "display_data"
    },
    {
     "data": {
      "application/vnd.jupyter.widget-view+json": {
       "model_id": "",
       "version_major": 2,
       "version_minor": 0
      },
      "text/plain": [
       "Updating:   0%|          | 0/100 [00:00<?, ?it/s]"
      ]
     },
     "metadata": {},
     "output_type": "display_data"
    },
    {
     "data": {
      "application/vnd.jupyter.widget-view+json": {
       "model_id": "",
       "version_major": 2,
       "version_minor": 0
      },
      "text/plain": [
       "Updating:   0%|          | 0/100 [00:00<?, ?it/s]"
      ]
     },
     "metadata": {},
     "output_type": "display_data"
    },
    {
     "data": {
      "application/vnd.jupyter.widget-view+json": {
       "model_id": "",
       "version_major": 2,
       "version_minor": 0
      },
      "text/plain": [
       "Updating:   0%|          | 0/100 [00:00<?, ?it/s]"
      ]
     },
     "metadata": {},
     "output_type": "display_data"
    },
    {
     "data": {
      "application/vnd.jupyter.widget-view+json": {
       "model_id": "",
       "version_major": 2,
       "version_minor": 0
      },
      "text/plain": [
       "Updating:   0%|          | 0/100 [00:00<?, ?it/s]"
      ]
     },
     "metadata": {},
     "output_type": "display_data"
    },
    {
     "data": {
      "application/vnd.jupyter.widget-view+json": {
       "model_id": "",
       "version_major": 2,
       "version_minor": 0
      },
      "text/plain": [
       "Updating:   0%|          | 0/100 [00:00<?, ?it/s]"
      ]
     },
     "metadata": {},
     "output_type": "display_data"
    },
    {
     "data": {
      "application/vnd.jupyter.widget-view+json": {
       "model_id": "",
       "version_major": 2,
       "version_minor": 0
      },
      "text/plain": [
       "Updating:   0%|          | 0/100 [00:00<?, ?it/s]"
      ]
     },
     "metadata": {},
     "output_type": "display_data"
    },
    {
     "data": {
      "application/vnd.jupyter.widget-view+json": {
       "model_id": "",
       "version_major": 2,
       "version_minor": 0
      },
      "text/plain": [
       "Updating:   0%|          | 0/100 [00:00<?, ?it/s]"
      ]
     },
     "metadata": {},
     "output_type": "display_data"
    },
    {
     "data": {
      "application/vnd.jupyter.widget-view+json": {
       "model_id": "",
       "version_major": 2,
       "version_minor": 0
      },
      "text/plain": [
       "Updating:   0%|          | 0/100 [00:00<?, ?it/s]"
      ]
     },
     "metadata": {},
     "output_type": "display_data"
    },
    {
     "data": {
      "application/vnd.jupyter.widget-view+json": {
       "model_id": "",
       "version_major": 2,
       "version_minor": 0
      },
      "text/plain": [
       "Updating:   0%|          | 0/100 [00:00<?, ?it/s]"
      ]
     },
     "metadata": {},
     "output_type": "display_data"
    },
    {
     "name": "stdout",
     "output_type": "stream",
     "text": [
      "30\n"
     ]
    },
    {
     "data": {
      "application/vnd.jupyter.widget-view+json": {
       "model_id": "",
       "version_major": 2,
       "version_minor": 0
      },
      "text/plain": [
       "Updating:   0%|          | 0/100 [00:00<?, ?it/s]"
      ]
     },
     "metadata": {},
     "output_type": "display_data"
    },
    {
     "data": {
      "application/vnd.jupyter.widget-view+json": {
       "model_id": "",
       "version_major": 2,
       "version_minor": 0
      },
      "text/plain": [
       "Updating:   0%|          | 0/100 [00:00<?, ?it/s]"
      ]
     },
     "metadata": {},
     "output_type": "display_data"
    },
    {
     "data": {
      "application/vnd.jupyter.widget-view+json": {
       "model_id": "",
       "version_major": 2,
       "version_minor": 0
      },
      "text/plain": [
       "Updating:   0%|          | 0/100 [00:00<?, ?it/s]"
      ]
     },
     "metadata": {},
     "output_type": "display_data"
    },
    {
     "data": {
      "application/vnd.jupyter.widget-view+json": {
       "model_id": "",
       "version_major": 2,
       "version_minor": 0
      },
      "text/plain": [
       "Updating:   0%|          | 0/100 [00:00<?, ?it/s]"
      ]
     },
     "metadata": {},
     "output_type": "display_data"
    },
    {
     "data": {
      "application/vnd.jupyter.widget-view+json": {
       "model_id": "",
       "version_major": 2,
       "version_minor": 0
      },
      "text/plain": [
       "Updating:   0%|          | 0/100 [00:00<?, ?it/s]"
      ]
     },
     "metadata": {},
     "output_type": "display_data"
    },
    {
     "data": {
      "application/vnd.jupyter.widget-view+json": {
       "model_id": "",
       "version_major": 2,
       "version_minor": 0
      },
      "text/plain": [
       "Updating:   0%|          | 0/100 [00:00<?, ?it/s]"
      ]
     },
     "metadata": {},
     "output_type": "display_data"
    },
    {
     "data": {
      "application/vnd.jupyter.widget-view+json": {
       "model_id": "",
       "version_major": 2,
       "version_minor": 0
      },
      "text/plain": [
       "Updating:   0%|          | 0/100 [00:00<?, ?it/s]"
      ]
     },
     "metadata": {},
     "output_type": "display_data"
    },
    {
     "data": {
      "application/vnd.jupyter.widget-view+json": {
       "model_id": "",
       "version_major": 2,
       "version_minor": 0
      },
      "text/plain": [
       "Updating:   0%|          | 0/100 [00:00<?, ?it/s]"
      ]
     },
     "metadata": {},
     "output_type": "display_data"
    },
    {
     "data": {
      "application/vnd.jupyter.widget-view+json": {
       "model_id": "",
       "version_major": 2,
       "version_minor": 0
      },
      "text/plain": [
       "Updating:   0%|          | 0/100 [00:00<?, ?it/s]"
      ]
     },
     "metadata": {},
     "output_type": "display_data"
    },
    {
     "data": {
      "application/vnd.jupyter.widget-view+json": {
       "model_id": "",
       "version_major": 2,
       "version_minor": 0
      },
      "text/plain": [
       "Updating:   0%|          | 0/100 [00:00<?, ?it/s]"
      ]
     },
     "metadata": {},
     "output_type": "display_data"
    },
    {
     "name": "stdout",
     "output_type": "stream",
     "text": [
      "35\n"
     ]
    },
    {
     "data": {
      "application/vnd.jupyter.widget-view+json": {
       "model_id": "",
       "version_major": 2,
       "version_minor": 0
      },
      "text/plain": [
       "Updating:   0%|          | 0/100 [00:00<?, ?it/s]"
      ]
     },
     "metadata": {},
     "output_type": "display_data"
    },
    {
     "data": {
      "application/vnd.jupyter.widget-view+json": {
       "model_id": "",
       "version_major": 2,
       "version_minor": 0
      },
      "text/plain": [
       "Updating:   0%|          | 0/100 [00:00<?, ?it/s]"
      ]
     },
     "metadata": {},
     "output_type": "display_data"
    },
    {
     "data": {
      "application/vnd.jupyter.widget-view+json": {
       "model_id": "",
       "version_major": 2,
       "version_minor": 0
      },
      "text/plain": [
       "Updating:   0%|          | 0/100 [00:00<?, ?it/s]"
      ]
     },
     "metadata": {},
     "output_type": "display_data"
    },
    {
     "data": {
      "application/vnd.jupyter.widget-view+json": {
       "model_id": "",
       "version_major": 2,
       "version_minor": 0
      },
      "text/plain": [
       "Updating:   0%|          | 0/100 [00:00<?, ?it/s]"
      ]
     },
     "metadata": {},
     "output_type": "display_data"
    },
    {
     "data": {
      "application/vnd.jupyter.widget-view+json": {
       "model_id": "",
       "version_major": 2,
       "version_minor": 0
      },
      "text/plain": [
       "Updating:   0%|          | 0/100 [00:00<?, ?it/s]"
      ]
     },
     "metadata": {},
     "output_type": "display_data"
    },
    {
     "data": {
      "application/vnd.jupyter.widget-view+json": {
       "model_id": "",
       "version_major": 2,
       "version_minor": 0
      },
      "text/plain": [
       "Updating:   0%|          | 0/100 [00:00<?, ?it/s]"
      ]
     },
     "metadata": {},
     "output_type": "display_data"
    },
    {
     "data": {
      "application/vnd.jupyter.widget-view+json": {
       "model_id": "",
       "version_major": 2,
       "version_minor": 0
      },
      "text/plain": [
       "Updating:   0%|          | 0/100 [00:00<?, ?it/s]"
      ]
     },
     "metadata": {},
     "output_type": "display_data"
    },
    {
     "data": {
      "application/vnd.jupyter.widget-view+json": {
       "model_id": "",
       "version_major": 2,
       "version_minor": 0
      },
      "text/plain": [
       "Updating:   0%|          | 0/100 [00:00<?, ?it/s]"
      ]
     },
     "metadata": {},
     "output_type": "display_data"
    },
    {
     "data": {
      "application/vnd.jupyter.widget-view+json": {
       "model_id": "",
       "version_major": 2,
       "version_minor": 0
      },
      "text/plain": [
       "Updating:   0%|          | 0/100 [00:00<?, ?it/s]"
      ]
     },
     "metadata": {},
     "output_type": "display_data"
    },
    {
     "data": {
      "application/vnd.jupyter.widget-view+json": {
       "model_id": "",
       "version_major": 2,
       "version_minor": 0
      },
      "text/plain": [
       "Updating:   0%|          | 0/100 [00:00<?, ?it/s]"
      ]
     },
     "metadata": {},
     "output_type": "display_data"
    },
    {
     "name": "stdout",
     "output_type": "stream",
     "text": [
      "40\n"
     ]
    },
    {
     "data": {
      "application/vnd.jupyter.widget-view+json": {
       "model_id": "",
       "version_major": 2,
       "version_minor": 0
      },
      "text/plain": [
       "Updating:   0%|          | 0/100 [00:00<?, ?it/s]"
      ]
     },
     "metadata": {},
     "output_type": "display_data"
    },
    {
     "data": {
      "application/vnd.jupyter.widget-view+json": {
       "model_id": "",
       "version_major": 2,
       "version_minor": 0
      },
      "text/plain": [
       "Updating:   0%|          | 0/100 [00:00<?, ?it/s]"
      ]
     },
     "metadata": {},
     "output_type": "display_data"
    },
    {
     "data": {
      "application/vnd.jupyter.widget-view+json": {
       "model_id": "",
       "version_major": 2,
       "version_minor": 0
      },
      "text/plain": [
       "Updating:   0%|          | 0/100 [00:00<?, ?it/s]"
      ]
     },
     "metadata": {},
     "output_type": "display_data"
    },
    {
     "data": {
      "application/vnd.jupyter.widget-view+json": {
       "model_id": "",
       "version_major": 2,
       "version_minor": 0
      },
      "text/plain": [
       "Updating:   0%|          | 0/100 [00:00<?, ?it/s]"
      ]
     },
     "metadata": {},
     "output_type": "display_data"
    },
    {
     "data": {
      "application/vnd.jupyter.widget-view+json": {
       "model_id": "",
       "version_major": 2,
       "version_minor": 0
      },
      "text/plain": [
       "Updating:   0%|          | 0/100 [00:00<?, ?it/s]"
      ]
     },
     "metadata": {},
     "output_type": "display_data"
    },
    {
     "data": {
      "application/vnd.jupyter.widget-view+json": {
       "model_id": "",
       "version_major": 2,
       "version_minor": 0
      },
      "text/plain": [
       "Updating:   0%|          | 0/100 [00:00<?, ?it/s]"
      ]
     },
     "metadata": {},
     "output_type": "display_data"
    },
    {
     "data": {
      "application/vnd.jupyter.widget-view+json": {
       "model_id": "",
       "version_major": 2,
       "version_minor": 0
      },
      "text/plain": [
       "Updating:   0%|          | 0/100 [00:00<?, ?it/s]"
      ]
     },
     "metadata": {},
     "output_type": "display_data"
    },
    {
     "data": {
      "application/vnd.jupyter.widget-view+json": {
       "model_id": "",
       "version_major": 2,
       "version_minor": 0
      },
      "text/plain": [
       "Updating:   0%|          | 0/100 [00:00<?, ?it/s]"
      ]
     },
     "metadata": {},
     "output_type": "display_data"
    },
    {
     "data": {
      "application/vnd.jupyter.widget-view+json": {
       "model_id": "",
       "version_major": 2,
       "version_minor": 0
      },
      "text/plain": [
       "Updating:   0%|          | 0/100 [00:00<?, ?it/s]"
      ]
     },
     "metadata": {},
     "output_type": "display_data"
    },
    {
     "data": {
      "application/vnd.jupyter.widget-view+json": {
       "model_id": "",
       "version_major": 2,
       "version_minor": 0
      },
      "text/plain": [
       "Updating:   0%|          | 0/100 [00:00<?, ?it/s]"
      ]
     },
     "metadata": {},
     "output_type": "display_data"
    },
    {
     "name": "stdout",
     "output_type": "stream",
     "text": [
      "45\n"
     ]
    },
    {
     "data": {
      "application/vnd.jupyter.widget-view+json": {
       "model_id": "",
       "version_major": 2,
       "version_minor": 0
      },
      "text/plain": [
       "Updating:   0%|          | 0/100 [00:00<?, ?it/s]"
      ]
     },
     "metadata": {},
     "output_type": "display_data"
    },
    {
     "data": {
      "application/vnd.jupyter.widget-view+json": {
       "model_id": "",
       "version_major": 2,
       "version_minor": 0
      },
      "text/plain": [
       "Updating:   0%|          | 0/100 [00:00<?, ?it/s]"
      ]
     },
     "metadata": {},
     "output_type": "display_data"
    },
    {
     "data": {
      "application/vnd.jupyter.widget-view+json": {
       "model_id": "",
       "version_major": 2,
       "version_minor": 0
      },
      "text/plain": [
       "Updating:   0%|          | 0/100 [00:00<?, ?it/s]"
      ]
     },
     "metadata": {},
     "output_type": "display_data"
    },
    {
     "data": {
      "application/vnd.jupyter.widget-view+json": {
       "model_id": "",
       "version_major": 2,
       "version_minor": 0
      },
      "text/plain": [
       "Updating:   0%|          | 0/100 [00:00<?, ?it/s]"
      ]
     },
     "metadata": {},
     "output_type": "display_data"
    },
    {
     "data": {
      "application/vnd.jupyter.widget-view+json": {
       "model_id": "",
       "version_major": 2,
       "version_minor": 0
      },
      "text/plain": [
       "Updating:   0%|          | 0/100 [00:00<?, ?it/s]"
      ]
     },
     "metadata": {},
     "output_type": "display_data"
    },
    {
     "data": {
      "application/vnd.jupyter.widget-view+json": {
       "model_id": "",
       "version_major": 2,
       "version_minor": 0
      },
      "text/plain": [
       "Updating:   0%|          | 0/100 [00:00<?, ?it/s]"
      ]
     },
     "metadata": {},
     "output_type": "display_data"
    },
    {
     "data": {
      "application/vnd.jupyter.widget-view+json": {
       "model_id": "",
       "version_major": 2,
       "version_minor": 0
      },
      "text/plain": [
       "Updating:   0%|          | 0/100 [00:00<?, ?it/s]"
      ]
     },
     "metadata": {},
     "output_type": "display_data"
    },
    {
     "data": {
      "application/vnd.jupyter.widget-view+json": {
       "model_id": "",
       "version_major": 2,
       "version_minor": 0
      },
      "text/plain": [
       "Updating:   0%|          | 0/100 [00:00<?, ?it/s]"
      ]
     },
     "metadata": {},
     "output_type": "display_data"
    },
    {
     "data": {
      "application/vnd.jupyter.widget-view+json": {
       "model_id": "",
       "version_major": 2,
       "version_minor": 0
      },
      "text/plain": [
       "Updating:   0%|          | 0/100 [00:00<?, ?it/s]"
      ]
     },
     "metadata": {},
     "output_type": "display_data"
    },
    {
     "data": {
      "application/vnd.jupyter.widget-view+json": {
       "model_id": "",
       "version_major": 2,
       "version_minor": 0
      },
      "text/plain": [
       "Updating:   0%|          | 0/100 [00:00<?, ?it/s]"
      ]
     },
     "metadata": {},
     "output_type": "display_data"
    },
    {
     "name": "stdout",
     "output_type": "stream",
     "text": [
      "50\n"
     ]
    },
    {
     "data": {
      "application/vnd.jupyter.widget-view+json": {
       "model_id": "",
       "version_major": 2,
       "version_minor": 0
      },
      "text/plain": [
       "Updating:   0%|          | 0/100 [00:00<?, ?it/s]"
      ]
     },
     "metadata": {},
     "output_type": "display_data"
    },
    {
     "data": {
      "application/vnd.jupyter.widget-view+json": {
       "model_id": "",
       "version_major": 2,
       "version_minor": 0
      },
      "text/plain": [
       "Updating:   0%|          | 0/100 [00:00<?, ?it/s]"
      ]
     },
     "metadata": {},
     "output_type": "display_data"
    },
    {
     "data": {
      "application/vnd.jupyter.widget-view+json": {
       "model_id": "",
       "version_major": 2,
       "version_minor": 0
      },
      "text/plain": [
       "Updating:   0%|          | 0/100 [00:00<?, ?it/s]"
      ]
     },
     "metadata": {},
     "output_type": "display_data"
    },
    {
     "data": {
      "application/vnd.jupyter.widget-view+json": {
       "model_id": "",
       "version_major": 2,
       "version_minor": 0
      },
      "text/plain": [
       "Updating:   0%|          | 0/100 [00:00<?, ?it/s]"
      ]
     },
     "metadata": {},
     "output_type": "display_data"
    },
    {
     "data": {
      "application/vnd.jupyter.widget-view+json": {
       "model_id": "",
       "version_major": 2,
       "version_minor": 0
      },
      "text/plain": [
       "Updating:   0%|          | 0/100 [00:00<?, ?it/s]"
      ]
     },
     "metadata": {},
     "output_type": "display_data"
    },
    {
     "data": {
      "application/vnd.jupyter.widget-view+json": {
       "model_id": "",
       "version_major": 2,
       "version_minor": 0
      },
      "text/plain": [
       "Updating:   0%|          | 0/100 [00:00<?, ?it/s]"
      ]
     },
     "metadata": {},
     "output_type": "display_data"
    },
    {
     "data": {
      "application/vnd.jupyter.widget-view+json": {
       "model_id": "",
       "version_major": 2,
       "version_minor": 0
      },
      "text/plain": [
       "Updating:   0%|          | 0/100 [00:00<?, ?it/s]"
      ]
     },
     "metadata": {},
     "output_type": "display_data"
    },
    {
     "data": {
      "application/vnd.jupyter.widget-view+json": {
       "model_id": "",
       "version_major": 2,
       "version_minor": 0
      },
      "text/plain": [
       "Updating:   0%|          | 0/100 [00:00<?, ?it/s]"
      ]
     },
     "metadata": {},
     "output_type": "display_data"
    },
    {
     "data": {
      "application/vnd.jupyter.widget-view+json": {
       "model_id": "",
       "version_major": 2,
       "version_minor": 0
      },
      "text/plain": [
       "Updating:   0%|          | 0/100 [00:00<?, ?it/s]"
      ]
     },
     "metadata": {},
     "output_type": "display_data"
    },
    {
     "data": {
      "application/vnd.jupyter.widget-view+json": {
       "model_id": "",
       "version_major": 2,
       "version_minor": 0
      },
      "text/plain": [
       "Updating:   0%|          | 0/100 [00:00<?, ?it/s]"
      ]
     },
     "metadata": {},
     "output_type": "display_data"
    },
    {
     "name": "stdout",
     "output_type": "stream",
     "text": [
      "55\n"
     ]
    },
    {
     "data": {
      "application/vnd.jupyter.widget-view+json": {
       "model_id": "",
       "version_major": 2,
       "version_minor": 0
      },
      "text/plain": [
       "Updating:   0%|          | 0/100 [00:00<?, ?it/s]"
      ]
     },
     "metadata": {},
     "output_type": "display_data"
    },
    {
     "data": {
      "application/vnd.jupyter.widget-view+json": {
       "model_id": "",
       "version_major": 2,
       "version_minor": 0
      },
      "text/plain": [
       "Updating:   0%|          | 0/100 [00:00<?, ?it/s]"
      ]
     },
     "metadata": {},
     "output_type": "display_data"
    },
    {
     "data": {
      "application/vnd.jupyter.widget-view+json": {
       "model_id": "",
       "version_major": 2,
       "version_minor": 0
      },
      "text/plain": [
       "Updating:   0%|          | 0/100 [00:00<?, ?it/s]"
      ]
     },
     "metadata": {},
     "output_type": "display_data"
    },
    {
     "data": {
      "application/vnd.jupyter.widget-view+json": {
       "model_id": "",
       "version_major": 2,
       "version_minor": 0
      },
      "text/plain": [
       "Updating:   0%|          | 0/100 [00:00<?, ?it/s]"
      ]
     },
     "metadata": {},
     "output_type": "display_data"
    },
    {
     "data": {
      "application/vnd.jupyter.widget-view+json": {
       "model_id": "",
       "version_major": 2,
       "version_minor": 0
      },
      "text/plain": [
       "Updating:   0%|          | 0/100 [00:00<?, ?it/s]"
      ]
     },
     "metadata": {},
     "output_type": "display_data"
    },
    {
     "data": {
      "application/vnd.jupyter.widget-view+json": {
       "model_id": "",
       "version_major": 2,
       "version_minor": 0
      },
      "text/plain": [
       "Updating:   0%|          | 0/100 [00:00<?, ?it/s]"
      ]
     },
     "metadata": {},
     "output_type": "display_data"
    },
    {
     "data": {
      "application/vnd.jupyter.widget-view+json": {
       "model_id": "",
       "version_major": 2,
       "version_minor": 0
      },
      "text/plain": [
       "Updating:   0%|          | 0/100 [00:00<?, ?it/s]"
      ]
     },
     "metadata": {},
     "output_type": "display_data"
    },
    {
     "data": {
      "application/vnd.jupyter.widget-view+json": {
       "model_id": "",
       "version_major": 2,
       "version_minor": 0
      },
      "text/plain": [
       "Updating:   0%|          | 0/100 [00:00<?, ?it/s]"
      ]
     },
     "metadata": {},
     "output_type": "display_data"
    },
    {
     "data": {
      "application/vnd.jupyter.widget-view+json": {
       "model_id": "",
       "version_major": 2,
       "version_minor": 0
      },
      "text/plain": [
       "Updating:   0%|          | 0/100 [00:00<?, ?it/s]"
      ]
     },
     "metadata": {},
     "output_type": "display_data"
    },
    {
     "data": {
      "application/vnd.jupyter.widget-view+json": {
       "model_id": "",
       "version_major": 2,
       "version_minor": 0
      },
      "text/plain": [
       "Updating:   0%|          | 0/100 [00:00<?, ?it/s]"
      ]
     },
     "metadata": {},
     "output_type": "display_data"
    },
    {
     "name": "stdout",
     "output_type": "stream",
     "text": [
      "60\n"
     ]
    },
    {
     "data": {
      "application/vnd.jupyter.widget-view+json": {
       "model_id": "",
       "version_major": 2,
       "version_minor": 0
      },
      "text/plain": [
       "Updating:   0%|          | 0/100 [00:00<?, ?it/s]"
      ]
     },
     "metadata": {},
     "output_type": "display_data"
    },
    {
     "data": {
      "application/vnd.jupyter.widget-view+json": {
       "model_id": "",
       "version_major": 2,
       "version_minor": 0
      },
      "text/plain": [
       "Updating:   0%|          | 0/100 [00:00<?, ?it/s]"
      ]
     },
     "metadata": {},
     "output_type": "display_data"
    },
    {
     "data": {
      "application/vnd.jupyter.widget-view+json": {
       "model_id": "",
       "version_major": 2,
       "version_minor": 0
      },
      "text/plain": [
       "Updating:   0%|          | 0/100 [00:00<?, ?it/s]"
      ]
     },
     "metadata": {},
     "output_type": "display_data"
    },
    {
     "data": {
      "application/vnd.jupyter.widget-view+json": {
       "model_id": "",
       "version_major": 2,
       "version_minor": 0
      },
      "text/plain": [
       "Updating:   0%|          | 0/100 [00:00<?, ?it/s]"
      ]
     },
     "metadata": {},
     "output_type": "display_data"
    },
    {
     "data": {
      "application/vnd.jupyter.widget-view+json": {
       "model_id": "",
       "version_major": 2,
       "version_minor": 0
      },
      "text/plain": [
       "Updating:   0%|          | 0/100 [00:00<?, ?it/s]"
      ]
     },
     "metadata": {},
     "output_type": "display_data"
    },
    {
     "data": {
      "application/vnd.jupyter.widget-view+json": {
       "model_id": "",
       "version_major": 2,
       "version_minor": 0
      },
      "text/plain": [
       "Updating:   0%|          | 0/100 [00:00<?, ?it/s]"
      ]
     },
     "metadata": {},
     "output_type": "display_data"
    },
    {
     "data": {
      "application/vnd.jupyter.widget-view+json": {
       "model_id": "",
       "version_major": 2,
       "version_minor": 0
      },
      "text/plain": [
       "Updating:   0%|          | 0/100 [00:00<?, ?it/s]"
      ]
     },
     "metadata": {},
     "output_type": "display_data"
    },
    {
     "data": {
      "application/vnd.jupyter.widget-view+json": {
       "model_id": "",
       "version_major": 2,
       "version_minor": 0
      },
      "text/plain": [
       "Updating:   0%|          | 0/100 [00:00<?, ?it/s]"
      ]
     },
     "metadata": {},
     "output_type": "display_data"
    },
    {
     "data": {
      "application/vnd.jupyter.widget-view+json": {
       "model_id": "",
       "version_major": 2,
       "version_minor": 0
      },
      "text/plain": [
       "Updating:   0%|          | 0/100 [00:00<?, ?it/s]"
      ]
     },
     "metadata": {},
     "output_type": "display_data"
    },
    {
     "data": {
      "application/vnd.jupyter.widget-view+json": {
       "model_id": "",
       "version_major": 2,
       "version_minor": 0
      },
      "text/plain": [
       "Updating:   0%|          | 0/100 [00:00<?, ?it/s]"
      ]
     },
     "metadata": {},
     "output_type": "display_data"
    },
    {
     "name": "stdout",
     "output_type": "stream",
     "text": [
      "65\n"
     ]
    },
    {
     "data": {
      "application/vnd.jupyter.widget-view+json": {
       "model_id": "",
       "version_major": 2,
       "version_minor": 0
      },
      "text/plain": [
       "Updating:   0%|          | 0/100 [00:00<?, ?it/s]"
      ]
     },
     "metadata": {},
     "output_type": "display_data"
    },
    {
     "data": {
      "application/vnd.jupyter.widget-view+json": {
       "model_id": "",
       "version_major": 2,
       "version_minor": 0
      },
      "text/plain": [
       "Updating:   0%|          | 0/100 [00:00<?, ?it/s]"
      ]
     },
     "metadata": {},
     "output_type": "display_data"
    },
    {
     "data": {
      "application/vnd.jupyter.widget-view+json": {
       "model_id": "",
       "version_major": 2,
       "version_minor": 0
      },
      "text/plain": [
       "Updating:   0%|          | 0/100 [00:00<?, ?it/s]"
      ]
     },
     "metadata": {},
     "output_type": "display_data"
    },
    {
     "data": {
      "application/vnd.jupyter.widget-view+json": {
       "model_id": "",
       "version_major": 2,
       "version_minor": 0
      },
      "text/plain": [
       "Updating:   0%|          | 0/100 [00:00<?, ?it/s]"
      ]
     },
     "metadata": {},
     "output_type": "display_data"
    },
    {
     "data": {
      "application/vnd.jupyter.widget-view+json": {
       "model_id": "",
       "version_major": 2,
       "version_minor": 0
      },
      "text/plain": [
       "Updating:   0%|          | 0/100 [00:00<?, ?it/s]"
      ]
     },
     "metadata": {},
     "output_type": "display_data"
    },
    {
     "data": {
      "application/vnd.jupyter.widget-view+json": {
       "model_id": "",
       "version_major": 2,
       "version_minor": 0
      },
      "text/plain": [
       "Updating:   0%|          | 0/100 [00:00<?, ?it/s]"
      ]
     },
     "metadata": {},
     "output_type": "display_data"
    },
    {
     "data": {
      "application/vnd.jupyter.widget-view+json": {
       "model_id": "",
       "version_major": 2,
       "version_minor": 0
      },
      "text/plain": [
       "Updating:   0%|          | 0/100 [00:00<?, ?it/s]"
      ]
     },
     "metadata": {},
     "output_type": "display_data"
    },
    {
     "data": {
      "application/vnd.jupyter.widget-view+json": {
       "model_id": "",
       "version_major": 2,
       "version_minor": 0
      },
      "text/plain": [
       "Updating:   0%|          | 0/100 [00:00<?, ?it/s]"
      ]
     },
     "metadata": {},
     "output_type": "display_data"
    },
    {
     "data": {
      "application/vnd.jupyter.widget-view+json": {
       "model_id": "",
       "version_major": 2,
       "version_minor": 0
      },
      "text/plain": [
       "Updating:   0%|          | 0/100 [00:00<?, ?it/s]"
      ]
     },
     "metadata": {},
     "output_type": "display_data"
    },
    {
     "data": {
      "application/vnd.jupyter.widget-view+json": {
       "model_id": "",
       "version_major": 2,
       "version_minor": 0
      },
      "text/plain": [
       "Updating:   0%|          | 0/100 [00:00<?, ?it/s]"
      ]
     },
     "metadata": {},
     "output_type": "display_data"
    },
    {
     "name": "stdout",
     "output_type": "stream",
     "text": [
      "70\n"
     ]
    },
    {
     "data": {
      "application/vnd.jupyter.widget-view+json": {
       "model_id": "",
       "version_major": 2,
       "version_minor": 0
      },
      "text/plain": [
       "Updating:   0%|          | 0/100 [00:00<?, ?it/s]"
      ]
     },
     "metadata": {},
     "output_type": "display_data"
    },
    {
     "data": {
      "application/vnd.jupyter.widget-view+json": {
       "model_id": "",
       "version_major": 2,
       "version_minor": 0
      },
      "text/plain": [
       "Updating:   0%|          | 0/100 [00:00<?, ?it/s]"
      ]
     },
     "metadata": {},
     "output_type": "display_data"
    },
    {
     "data": {
      "application/vnd.jupyter.widget-view+json": {
       "model_id": "",
       "version_major": 2,
       "version_minor": 0
      },
      "text/plain": [
       "Updating:   0%|          | 0/100 [00:00<?, ?it/s]"
      ]
     },
     "metadata": {},
     "output_type": "display_data"
    },
    {
     "data": {
      "application/vnd.jupyter.widget-view+json": {
       "model_id": "",
       "version_major": 2,
       "version_minor": 0
      },
      "text/plain": [
       "Updating:   0%|          | 0/100 [00:00<?, ?it/s]"
      ]
     },
     "metadata": {},
     "output_type": "display_data"
    },
    {
     "data": {
      "application/vnd.jupyter.widget-view+json": {
       "model_id": "",
       "version_major": 2,
       "version_minor": 0
      },
      "text/plain": [
       "Updating:   0%|          | 0/100 [00:00<?, ?it/s]"
      ]
     },
     "metadata": {},
     "output_type": "display_data"
    },
    {
     "data": {
      "application/vnd.jupyter.widget-view+json": {
       "model_id": "",
       "version_major": 2,
       "version_minor": 0
      },
      "text/plain": [
       "Updating:   0%|          | 0/100 [00:00<?, ?it/s]"
      ]
     },
     "metadata": {},
     "output_type": "display_data"
    },
    {
     "data": {
      "application/vnd.jupyter.widget-view+json": {
       "model_id": "",
       "version_major": 2,
       "version_minor": 0
      },
      "text/plain": [
       "Updating:   0%|          | 0/100 [00:00<?, ?it/s]"
      ]
     },
     "metadata": {},
     "output_type": "display_data"
    },
    {
     "data": {
      "application/vnd.jupyter.widget-view+json": {
       "model_id": "",
       "version_major": 2,
       "version_minor": 0
      },
      "text/plain": [
       "Updating:   0%|          | 0/100 [00:00<?, ?it/s]"
      ]
     },
     "metadata": {},
     "output_type": "display_data"
    },
    {
     "data": {
      "application/vnd.jupyter.widget-view+json": {
       "model_id": "",
       "version_major": 2,
       "version_minor": 0
      },
      "text/plain": [
       "Updating:   0%|          | 0/100 [00:00<?, ?it/s]"
      ]
     },
     "metadata": {},
     "output_type": "display_data"
    },
    {
     "data": {
      "application/vnd.jupyter.widget-view+json": {
       "model_id": "",
       "version_major": 2,
       "version_minor": 0
      },
      "text/plain": [
       "Updating:   0%|          | 0/100 [00:00<?, ?it/s]"
      ]
     },
     "metadata": {},
     "output_type": "display_data"
    },
    {
     "name": "stdout",
     "output_type": "stream",
     "text": [
      "75\n"
     ]
    },
    {
     "data": {
      "application/vnd.jupyter.widget-view+json": {
       "model_id": "",
       "version_major": 2,
       "version_minor": 0
      },
      "text/plain": [
       "Updating:   0%|          | 0/100 [00:00<?, ?it/s]"
      ]
     },
     "metadata": {},
     "output_type": "display_data"
    },
    {
     "data": {
      "application/vnd.jupyter.widget-view+json": {
       "model_id": "",
       "version_major": 2,
       "version_minor": 0
      },
      "text/plain": [
       "Updating:   0%|          | 0/100 [00:00<?, ?it/s]"
      ]
     },
     "metadata": {},
     "output_type": "display_data"
    },
    {
     "data": {
      "application/vnd.jupyter.widget-view+json": {
       "model_id": "",
       "version_major": 2,
       "version_minor": 0
      },
      "text/plain": [
       "Updating:   0%|          | 0/100 [00:00<?, ?it/s]"
      ]
     },
     "metadata": {},
     "output_type": "display_data"
    },
    {
     "data": {
      "application/vnd.jupyter.widget-view+json": {
       "model_id": "",
       "version_major": 2,
       "version_minor": 0
      },
      "text/plain": [
       "Updating:   0%|          | 0/100 [00:00<?, ?it/s]"
      ]
     },
     "metadata": {},
     "output_type": "display_data"
    },
    {
     "data": {
      "application/vnd.jupyter.widget-view+json": {
       "model_id": "",
       "version_major": 2,
       "version_minor": 0
      },
      "text/plain": [
       "Updating:   0%|          | 0/100 [00:00<?, ?it/s]"
      ]
     },
     "metadata": {},
     "output_type": "display_data"
    },
    {
     "data": {
      "application/vnd.jupyter.widget-view+json": {
       "model_id": "",
       "version_major": 2,
       "version_minor": 0
      },
      "text/plain": [
       "Updating:   0%|          | 0/100 [00:00<?, ?it/s]"
      ]
     },
     "metadata": {},
     "output_type": "display_data"
    },
    {
     "data": {
      "application/vnd.jupyter.widget-view+json": {
       "model_id": "",
       "version_major": 2,
       "version_minor": 0
      },
      "text/plain": [
       "Updating:   0%|          | 0/100 [00:00<?, ?it/s]"
      ]
     },
     "metadata": {},
     "output_type": "display_data"
    },
    {
     "data": {
      "application/vnd.jupyter.widget-view+json": {
       "model_id": "",
       "version_major": 2,
       "version_minor": 0
      },
      "text/plain": [
       "Updating:   0%|          | 0/100 [00:00<?, ?it/s]"
      ]
     },
     "metadata": {},
     "output_type": "display_data"
    },
    {
     "data": {
      "application/vnd.jupyter.widget-view+json": {
       "model_id": "",
       "version_major": 2,
       "version_minor": 0
      },
      "text/plain": [
       "Updating:   0%|          | 0/100 [00:00<?, ?it/s]"
      ]
     },
     "metadata": {},
     "output_type": "display_data"
    },
    {
     "data": {
      "application/vnd.jupyter.widget-view+json": {
       "model_id": "",
       "version_major": 2,
       "version_minor": 0
      },
      "text/plain": [
       "Updating:   0%|          | 0/100 [00:00<?, ?it/s]"
      ]
     },
     "metadata": {},
     "output_type": "display_data"
    },
    {
     "name": "stdout",
     "output_type": "stream",
     "text": [
      "80\n"
     ]
    },
    {
     "data": {
      "application/vnd.jupyter.widget-view+json": {
       "model_id": "",
       "version_major": 2,
       "version_minor": 0
      },
      "text/plain": [
       "Updating:   0%|          | 0/100 [00:00<?, ?it/s]"
      ]
     },
     "metadata": {},
     "output_type": "display_data"
    },
    {
     "data": {
      "application/vnd.jupyter.widget-view+json": {
       "model_id": "",
       "version_major": 2,
       "version_minor": 0
      },
      "text/plain": [
       "Updating:   0%|          | 0/100 [00:00<?, ?it/s]"
      ]
     },
     "metadata": {},
     "output_type": "display_data"
    },
    {
     "data": {
      "application/vnd.jupyter.widget-view+json": {
       "model_id": "",
       "version_major": 2,
       "version_minor": 0
      },
      "text/plain": [
       "Updating:   0%|          | 0/100 [00:00<?, ?it/s]"
      ]
     },
     "metadata": {},
     "output_type": "display_data"
    },
    {
     "data": {
      "application/vnd.jupyter.widget-view+json": {
       "model_id": "",
       "version_major": 2,
       "version_minor": 0
      },
      "text/plain": [
       "Updating:   0%|          | 0/100 [00:00<?, ?it/s]"
      ]
     },
     "metadata": {},
     "output_type": "display_data"
    },
    {
     "data": {
      "application/vnd.jupyter.widget-view+json": {
       "model_id": "",
       "version_major": 2,
       "version_minor": 0
      },
      "text/plain": [
       "Updating:   0%|          | 0/100 [00:00<?, ?it/s]"
      ]
     },
     "metadata": {},
     "output_type": "display_data"
    },
    {
     "data": {
      "application/vnd.jupyter.widget-view+json": {
       "model_id": "",
       "version_major": 2,
       "version_minor": 0
      },
      "text/plain": [
       "Updating:   0%|          | 0/100 [00:00<?, ?it/s]"
      ]
     },
     "metadata": {},
     "output_type": "display_data"
    },
    {
     "data": {
      "application/vnd.jupyter.widget-view+json": {
       "model_id": "",
       "version_major": 2,
       "version_minor": 0
      },
      "text/plain": [
       "Updating:   0%|          | 0/100 [00:00<?, ?it/s]"
      ]
     },
     "metadata": {},
     "output_type": "display_data"
    },
    {
     "data": {
      "application/vnd.jupyter.widget-view+json": {
       "model_id": "",
       "version_major": 2,
       "version_minor": 0
      },
      "text/plain": [
       "Updating:   0%|          | 0/100 [00:00<?, ?it/s]"
      ]
     },
     "metadata": {},
     "output_type": "display_data"
    },
    {
     "data": {
      "application/vnd.jupyter.widget-view+json": {
       "model_id": "",
       "version_major": 2,
       "version_minor": 0
      },
      "text/plain": [
       "Updating:   0%|          | 0/100 [00:00<?, ?it/s]"
      ]
     },
     "metadata": {},
     "output_type": "display_data"
    },
    {
     "data": {
      "application/vnd.jupyter.widget-view+json": {
       "model_id": "",
       "version_major": 2,
       "version_minor": 0
      },
      "text/plain": [
       "Updating:   0%|          | 0/100 [00:00<?, ?it/s]"
      ]
     },
     "metadata": {},
     "output_type": "display_data"
    },
    {
     "name": "stdout",
     "output_type": "stream",
     "text": [
      "85\n"
     ]
    },
    {
     "data": {
      "application/vnd.jupyter.widget-view+json": {
       "model_id": "",
       "version_major": 2,
       "version_minor": 0
      },
      "text/plain": [
       "Updating:   0%|          | 0/100 [00:00<?, ?it/s]"
      ]
     },
     "metadata": {},
     "output_type": "display_data"
    },
    {
     "data": {
      "application/vnd.jupyter.widget-view+json": {
       "model_id": "",
       "version_major": 2,
       "version_minor": 0
      },
      "text/plain": [
       "Updating:   0%|          | 0/100 [00:00<?, ?it/s]"
      ]
     },
     "metadata": {},
     "output_type": "display_data"
    },
    {
     "data": {
      "application/vnd.jupyter.widget-view+json": {
       "model_id": "",
       "version_major": 2,
       "version_minor": 0
      },
      "text/plain": [
       "Updating:   0%|          | 0/100 [00:00<?, ?it/s]"
      ]
     },
     "metadata": {},
     "output_type": "display_data"
    },
    {
     "data": {
      "application/vnd.jupyter.widget-view+json": {
       "model_id": "",
       "version_major": 2,
       "version_minor": 0
      },
      "text/plain": [
       "Updating:   0%|          | 0/100 [00:00<?, ?it/s]"
      ]
     },
     "metadata": {},
     "output_type": "display_data"
    },
    {
     "data": {
      "application/vnd.jupyter.widget-view+json": {
       "model_id": "",
       "version_major": 2,
       "version_minor": 0
      },
      "text/plain": [
       "Updating:   0%|          | 0/100 [00:00<?, ?it/s]"
      ]
     },
     "metadata": {},
     "output_type": "display_data"
    },
    {
     "data": {
      "application/vnd.jupyter.widget-view+json": {
       "model_id": "",
       "version_major": 2,
       "version_minor": 0
      },
      "text/plain": [
       "Updating:   0%|          | 0/100 [00:00<?, ?it/s]"
      ]
     },
     "metadata": {},
     "output_type": "display_data"
    },
    {
     "data": {
      "application/vnd.jupyter.widget-view+json": {
       "model_id": "",
       "version_major": 2,
       "version_minor": 0
      },
      "text/plain": [
       "Updating:   0%|          | 0/100 [00:00<?, ?it/s]"
      ]
     },
     "metadata": {},
     "output_type": "display_data"
    },
    {
     "data": {
      "application/vnd.jupyter.widget-view+json": {
       "model_id": "",
       "version_major": 2,
       "version_minor": 0
      },
      "text/plain": [
       "Updating:   0%|          | 0/100 [00:00<?, ?it/s]"
      ]
     },
     "metadata": {},
     "output_type": "display_data"
    },
    {
     "data": {
      "application/vnd.jupyter.widget-view+json": {
       "model_id": "",
       "version_major": 2,
       "version_minor": 0
      },
      "text/plain": [
       "Updating:   0%|          | 0/100 [00:00<?, ?it/s]"
      ]
     },
     "metadata": {},
     "output_type": "display_data"
    },
    {
     "data": {
      "application/vnd.jupyter.widget-view+json": {
       "model_id": "",
       "version_major": 2,
       "version_minor": 0
      },
      "text/plain": [
       "Updating:   0%|          | 0/100 [00:00<?, ?it/s]"
      ]
     },
     "metadata": {},
     "output_type": "display_data"
    },
    {
     "name": "stdout",
     "output_type": "stream",
     "text": [
      "90\n"
     ]
    },
    {
     "data": {
      "application/vnd.jupyter.widget-view+json": {
       "model_id": "",
       "version_major": 2,
       "version_minor": 0
      },
      "text/plain": [
       "Updating:   0%|          | 0/100 [00:00<?, ?it/s]"
      ]
     },
     "metadata": {},
     "output_type": "display_data"
    },
    {
     "data": {
      "application/vnd.jupyter.widget-view+json": {
       "model_id": "",
       "version_major": 2,
       "version_minor": 0
      },
      "text/plain": [
       "Updating:   0%|          | 0/100 [00:00<?, ?it/s]"
      ]
     },
     "metadata": {},
     "output_type": "display_data"
    },
    {
     "data": {
      "application/vnd.jupyter.widget-view+json": {
       "model_id": "",
       "version_major": 2,
       "version_minor": 0
      },
      "text/plain": [
       "Updating:   0%|          | 0/100 [00:00<?, ?it/s]"
      ]
     },
     "metadata": {},
     "output_type": "display_data"
    },
    {
     "data": {
      "application/vnd.jupyter.widget-view+json": {
       "model_id": "",
       "version_major": 2,
       "version_minor": 0
      },
      "text/plain": [
       "Updating:   0%|          | 0/100 [00:00<?, ?it/s]"
      ]
     },
     "metadata": {},
     "output_type": "display_data"
    },
    {
     "data": {
      "application/vnd.jupyter.widget-view+json": {
       "model_id": "",
       "version_major": 2,
       "version_minor": 0
      },
      "text/plain": [
       "Updating:   0%|          | 0/100 [00:00<?, ?it/s]"
      ]
     },
     "metadata": {},
     "output_type": "display_data"
    },
    {
     "data": {
      "application/vnd.jupyter.widget-view+json": {
       "model_id": "",
       "version_major": 2,
       "version_minor": 0
      },
      "text/plain": [
       "Updating:   0%|          | 0/100 [00:00<?, ?it/s]"
      ]
     },
     "metadata": {},
     "output_type": "display_data"
    },
    {
     "data": {
      "application/vnd.jupyter.widget-view+json": {
       "model_id": "",
       "version_major": 2,
       "version_minor": 0
      },
      "text/plain": [
       "Updating:   0%|          | 0/100 [00:00<?, ?it/s]"
      ]
     },
     "metadata": {},
     "output_type": "display_data"
    },
    {
     "data": {
      "application/vnd.jupyter.widget-view+json": {
       "model_id": "",
       "version_major": 2,
       "version_minor": 0
      },
      "text/plain": [
       "Updating:   0%|          | 0/100 [00:00<?, ?it/s]"
      ]
     },
     "metadata": {},
     "output_type": "display_data"
    },
    {
     "data": {
      "application/vnd.jupyter.widget-view+json": {
       "model_id": "",
       "version_major": 2,
       "version_minor": 0
      },
      "text/plain": [
       "Updating:   0%|          | 0/100 [00:00<?, ?it/s]"
      ]
     },
     "metadata": {},
     "output_type": "display_data"
    },
    {
     "data": {
      "application/vnd.jupyter.widget-view+json": {
       "model_id": "",
       "version_major": 2,
       "version_minor": 0
      },
      "text/plain": [
       "Updating:   0%|          | 0/100 [00:00<?, ?it/s]"
      ]
     },
     "metadata": {},
     "output_type": "display_data"
    },
    {
     "name": "stdout",
     "output_type": "stream",
     "text": [
      "95\n"
     ]
    },
    {
     "data": {
      "application/vnd.jupyter.widget-view+json": {
       "model_id": "",
       "version_major": 2,
       "version_minor": 0
      },
      "text/plain": [
       "Updating:   0%|          | 0/100 [00:00<?, ?it/s]"
      ]
     },
     "metadata": {},
     "output_type": "display_data"
    },
    {
     "data": {
      "application/vnd.jupyter.widget-view+json": {
       "model_id": "",
       "version_major": 2,
       "version_minor": 0
      },
      "text/plain": [
       "Updating:   0%|          | 0/100 [00:00<?, ?it/s]"
      ]
     },
     "metadata": {},
     "output_type": "display_data"
    },
    {
     "data": {
      "application/vnd.jupyter.widget-view+json": {
       "model_id": "",
       "version_major": 2,
       "version_minor": 0
      },
      "text/plain": [
       "Updating:   0%|          | 0/100 [00:00<?, ?it/s]"
      ]
     },
     "metadata": {},
     "output_type": "display_data"
    },
    {
     "data": {
      "application/vnd.jupyter.widget-view+json": {
       "model_id": "",
       "version_major": 2,
       "version_minor": 0
      },
      "text/plain": [
       "Updating:   0%|          | 0/100 [00:00<?, ?it/s]"
      ]
     },
     "metadata": {},
     "output_type": "display_data"
    },
    {
     "data": {
      "application/vnd.jupyter.widget-view+json": {
       "model_id": "",
       "version_major": 2,
       "version_minor": 0
      },
      "text/plain": [
       "Updating:   0%|          | 0/100 [00:00<?, ?it/s]"
      ]
     },
     "metadata": {},
     "output_type": "display_data"
    },
    {
     "data": {
      "application/vnd.jupyter.widget-view+json": {
       "model_id": "",
       "version_major": 2,
       "version_minor": 0
      },
      "text/plain": [
       "Updating:   0%|          | 0/100 [00:00<?, ?it/s]"
      ]
     },
     "metadata": {},
     "output_type": "display_data"
    },
    {
     "data": {
      "application/vnd.jupyter.widget-view+json": {
       "model_id": "",
       "version_major": 2,
       "version_minor": 0
      },
      "text/plain": [
       "Updating:   0%|          | 0/100 [00:00<?, ?it/s]"
      ]
     },
     "metadata": {},
     "output_type": "display_data"
    },
    {
     "data": {
      "application/vnd.jupyter.widget-view+json": {
       "model_id": "",
       "version_major": 2,
       "version_minor": 0
      },
      "text/plain": [
       "Updating:   0%|          | 0/100 [00:00<?, ?it/s]"
      ]
     },
     "metadata": {},
     "output_type": "display_data"
    },
    {
     "data": {
      "application/vnd.jupyter.widget-view+json": {
       "model_id": "",
       "version_major": 2,
       "version_minor": 0
      },
      "text/plain": [
       "Updating:   0%|          | 0/100 [00:00<?, ?it/s]"
      ]
     },
     "metadata": {},
     "output_type": "display_data"
    },
    {
     "data": {
      "application/vnd.jupyter.widget-view+json": {
       "model_id": "",
       "version_major": 2,
       "version_minor": 0
      },
      "text/plain": [
       "Updating:   0%|          | 0/100 [00:00<?, ?it/s]"
      ]
     },
     "metadata": {},
     "output_type": "display_data"
    },
    {
     "name": "stdout",
     "output_type": "stream",
     "text": [
      "100\n"
     ]
    },
    {
     "data": {
      "application/vnd.jupyter.widget-view+json": {
       "model_id": "",
       "version_major": 2,
       "version_minor": 0
      },
      "text/plain": [
       "Updating:   0%|          | 0/100 [00:00<?, ?it/s]"
      ]
     },
     "metadata": {},
     "output_type": "display_data"
    },
    {
     "data": {
      "application/vnd.jupyter.widget-view+json": {
       "model_id": "",
       "version_major": 2,
       "version_minor": 0
      },
      "text/plain": [
       "Updating:   0%|          | 0/100 [00:00<?, ?it/s]"
      ]
     },
     "metadata": {},
     "output_type": "display_data"
    },
    {
     "data": {
      "application/vnd.jupyter.widget-view+json": {
       "model_id": "",
       "version_major": 2,
       "version_minor": 0
      },
      "text/plain": [
       "Updating:   0%|          | 0/100 [00:00<?, ?it/s]"
      ]
     },
     "metadata": {},
     "output_type": "display_data"
    },
    {
     "data": {
      "application/vnd.jupyter.widget-view+json": {
       "model_id": "",
       "version_major": 2,
       "version_minor": 0
      },
      "text/plain": [
       "Updating:   0%|          | 0/100 [00:00<?, ?it/s]"
      ]
     },
     "metadata": {},
     "output_type": "display_data"
    },
    {
     "data": {
      "application/vnd.jupyter.widget-view+json": {
       "model_id": "",
       "version_major": 2,
       "version_minor": 0
      },
      "text/plain": [
       "Updating:   0%|          | 0/100 [00:00<?, ?it/s]"
      ]
     },
     "metadata": {},
     "output_type": "display_data"
    },
    {
     "data": {
      "application/vnd.jupyter.widget-view+json": {
       "model_id": "",
       "version_major": 2,
       "version_minor": 0
      },
      "text/plain": [
       "Updating:   0%|          | 0/100 [00:00<?, ?it/s]"
      ]
     },
     "metadata": {},
     "output_type": "display_data"
    },
    {
     "data": {
      "application/vnd.jupyter.widget-view+json": {
       "model_id": "",
       "version_major": 2,
       "version_minor": 0
      },
      "text/plain": [
       "Updating:   0%|          | 0/100 [00:00<?, ?it/s]"
      ]
     },
     "metadata": {},
     "output_type": "display_data"
    },
    {
     "data": {
      "application/vnd.jupyter.widget-view+json": {
       "model_id": "",
       "version_major": 2,
       "version_minor": 0
      },
      "text/plain": [
       "Updating:   0%|          | 0/100 [00:00<?, ?it/s]"
      ]
     },
     "metadata": {},
     "output_type": "display_data"
    },
    {
     "data": {
      "application/vnd.jupyter.widget-view+json": {
       "model_id": "",
       "version_major": 2,
       "version_minor": 0
      },
      "text/plain": [
       "Updating:   0%|          | 0/100 [00:00<?, ?it/s]"
      ]
     },
     "metadata": {},
     "output_type": "display_data"
    },
    {
     "data": {
      "application/vnd.jupyter.widget-view+json": {
       "model_id": "",
       "version_major": 2,
       "version_minor": 0
      },
      "text/plain": [
       "Updating:   0%|          | 0/100 [00:00<?, ?it/s]"
      ]
     },
     "metadata": {},
     "output_type": "display_data"
    },
    {
     "name": "stdout",
     "output_type": "stream",
     "text": [
      "105\n"
     ]
    },
    {
     "data": {
      "application/vnd.jupyter.widget-view+json": {
       "model_id": "",
       "version_major": 2,
       "version_minor": 0
      },
      "text/plain": [
       "Updating:   0%|          | 0/100 [00:00<?, ?it/s]"
      ]
     },
     "metadata": {},
     "output_type": "display_data"
    },
    {
     "data": {
      "application/vnd.jupyter.widget-view+json": {
       "model_id": "",
       "version_major": 2,
       "version_minor": 0
      },
      "text/plain": [
       "Updating:   0%|          | 0/100 [00:00<?, ?it/s]"
      ]
     },
     "metadata": {},
     "output_type": "display_data"
    },
    {
     "data": {
      "application/vnd.jupyter.widget-view+json": {
       "model_id": "",
       "version_major": 2,
       "version_minor": 0
      },
      "text/plain": [
       "Updating:   0%|          | 0/100 [00:00<?, ?it/s]"
      ]
     },
     "metadata": {},
     "output_type": "display_data"
    },
    {
     "data": {
      "application/vnd.jupyter.widget-view+json": {
       "model_id": "",
       "version_major": 2,
       "version_minor": 0
      },
      "text/plain": [
       "Updating:   0%|          | 0/100 [00:00<?, ?it/s]"
      ]
     },
     "metadata": {},
     "output_type": "display_data"
    },
    {
     "data": {
      "application/vnd.jupyter.widget-view+json": {
       "model_id": "",
       "version_major": 2,
       "version_minor": 0
      },
      "text/plain": [
       "Updating:   0%|          | 0/100 [00:00<?, ?it/s]"
      ]
     },
     "metadata": {},
     "output_type": "display_data"
    },
    {
     "data": {
      "application/vnd.jupyter.widget-view+json": {
       "model_id": "",
       "version_major": 2,
       "version_minor": 0
      },
      "text/plain": [
       "Updating:   0%|          | 0/100 [00:00<?, ?it/s]"
      ]
     },
     "metadata": {},
     "output_type": "display_data"
    },
    {
     "data": {
      "application/vnd.jupyter.widget-view+json": {
       "model_id": "",
       "version_major": 2,
       "version_minor": 0
      },
      "text/plain": [
       "Updating:   0%|          | 0/100 [00:00<?, ?it/s]"
      ]
     },
     "metadata": {},
     "output_type": "display_data"
    },
    {
     "data": {
      "application/vnd.jupyter.widget-view+json": {
       "model_id": "",
       "version_major": 2,
       "version_minor": 0
      },
      "text/plain": [
       "Updating:   0%|          | 0/100 [00:00<?, ?it/s]"
      ]
     },
     "metadata": {},
     "output_type": "display_data"
    },
    {
     "data": {
      "application/vnd.jupyter.widget-view+json": {
       "model_id": "",
       "version_major": 2,
       "version_minor": 0
      },
      "text/plain": [
       "Updating:   0%|          | 0/100 [00:00<?, ?it/s]"
      ]
     },
     "metadata": {},
     "output_type": "display_data"
    },
    {
     "data": {
      "application/vnd.jupyter.widget-view+json": {
       "model_id": "",
       "version_major": 2,
       "version_minor": 0
      },
      "text/plain": [
       "Updating:   0%|          | 0/100 [00:00<?, ?it/s]"
      ]
     },
     "metadata": {},
     "output_type": "display_data"
    },
    {
     "name": "stdout",
     "output_type": "stream",
     "text": [
      "110\n"
     ]
    },
    {
     "data": {
      "application/vnd.jupyter.widget-view+json": {
       "model_id": "",
       "version_major": 2,
       "version_minor": 0
      },
      "text/plain": [
       "Updating:   0%|          | 0/100 [00:00<?, ?it/s]"
      ]
     },
     "metadata": {},
     "output_type": "display_data"
    },
    {
     "data": {
      "application/vnd.jupyter.widget-view+json": {
       "model_id": "",
       "version_major": 2,
       "version_minor": 0
      },
      "text/plain": [
       "Updating:   0%|          | 0/100 [00:00<?, ?it/s]"
      ]
     },
     "metadata": {},
     "output_type": "display_data"
    },
    {
     "data": {
      "application/vnd.jupyter.widget-view+json": {
       "model_id": "",
       "version_major": 2,
       "version_minor": 0
      },
      "text/plain": [
       "Updating:   0%|          | 0/100 [00:00<?, ?it/s]"
      ]
     },
     "metadata": {},
     "output_type": "display_data"
    },
    {
     "data": {
      "application/vnd.jupyter.widget-view+json": {
       "model_id": "",
       "version_major": 2,
       "version_minor": 0
      },
      "text/plain": [
       "Updating:   0%|          | 0/100 [00:00<?, ?it/s]"
      ]
     },
     "metadata": {},
     "output_type": "display_data"
    },
    {
     "data": {
      "application/vnd.jupyter.widget-view+json": {
       "model_id": "",
       "version_major": 2,
       "version_minor": 0
      },
      "text/plain": [
       "Updating:   0%|          | 0/100 [00:00<?, ?it/s]"
      ]
     },
     "metadata": {},
     "output_type": "display_data"
    },
    {
     "data": {
      "application/vnd.jupyter.widget-view+json": {
       "model_id": "",
       "version_major": 2,
       "version_minor": 0
      },
      "text/plain": [
       "Updating:   0%|          | 0/100 [00:00<?, ?it/s]"
      ]
     },
     "metadata": {},
     "output_type": "display_data"
    },
    {
     "data": {
      "application/vnd.jupyter.widget-view+json": {
       "model_id": "",
       "version_major": 2,
       "version_minor": 0
      },
      "text/plain": [
       "Updating:   0%|          | 0/100 [00:00<?, ?it/s]"
      ]
     },
     "metadata": {},
     "output_type": "display_data"
    },
    {
     "data": {
      "application/vnd.jupyter.widget-view+json": {
       "model_id": "",
       "version_major": 2,
       "version_minor": 0
      },
      "text/plain": [
       "Updating:   0%|          | 0/100 [00:00<?, ?it/s]"
      ]
     },
     "metadata": {},
     "output_type": "display_data"
    },
    {
     "data": {
      "application/vnd.jupyter.widget-view+json": {
       "model_id": "",
       "version_major": 2,
       "version_minor": 0
      },
      "text/plain": [
       "Updating:   0%|          | 0/100 [00:00<?, ?it/s]"
      ]
     },
     "metadata": {},
     "output_type": "display_data"
    },
    {
     "data": {
      "application/vnd.jupyter.widget-view+json": {
       "model_id": "",
       "version_major": 2,
       "version_minor": 0
      },
      "text/plain": [
       "Updating:   0%|          | 0/100 [00:00<?, ?it/s]"
      ]
     },
     "metadata": {},
     "output_type": "display_data"
    },
    {
     "name": "stdout",
     "output_type": "stream",
     "text": [
      "115\n"
     ]
    },
    {
     "data": {
      "application/vnd.jupyter.widget-view+json": {
       "model_id": "",
       "version_major": 2,
       "version_minor": 0
      },
      "text/plain": [
       "Updating:   0%|          | 0/100 [00:00<?, ?it/s]"
      ]
     },
     "metadata": {},
     "output_type": "display_data"
    },
    {
     "data": {
      "application/vnd.jupyter.widget-view+json": {
       "model_id": "",
       "version_major": 2,
       "version_minor": 0
      },
      "text/plain": [
       "Updating:   0%|          | 0/100 [00:00<?, ?it/s]"
      ]
     },
     "metadata": {},
     "output_type": "display_data"
    },
    {
     "data": {
      "application/vnd.jupyter.widget-view+json": {
       "model_id": "",
       "version_major": 2,
       "version_minor": 0
      },
      "text/plain": [
       "Updating:   0%|          | 0/100 [00:00<?, ?it/s]"
      ]
     },
     "metadata": {},
     "output_type": "display_data"
    },
    {
     "data": {
      "application/vnd.jupyter.widget-view+json": {
       "model_id": "",
       "version_major": 2,
       "version_minor": 0
      },
      "text/plain": [
       "Updating:   0%|          | 0/100 [00:00<?, ?it/s]"
      ]
     },
     "metadata": {},
     "output_type": "display_data"
    },
    {
     "data": {
      "application/vnd.jupyter.widget-view+json": {
       "model_id": "",
       "version_major": 2,
       "version_minor": 0
      },
      "text/plain": [
       "Updating:   0%|          | 0/100 [00:00<?, ?it/s]"
      ]
     },
     "metadata": {},
     "output_type": "display_data"
    },
    {
     "data": {
      "application/vnd.jupyter.widget-view+json": {
       "model_id": "",
       "version_major": 2,
       "version_minor": 0
      },
      "text/plain": [
       "Updating:   0%|          | 0/100 [00:00<?, ?it/s]"
      ]
     },
     "metadata": {},
     "output_type": "display_data"
    },
    {
     "data": {
      "application/vnd.jupyter.widget-view+json": {
       "model_id": "",
       "version_major": 2,
       "version_minor": 0
      },
      "text/plain": [
       "Updating:   0%|          | 0/100 [00:00<?, ?it/s]"
      ]
     },
     "metadata": {},
     "output_type": "display_data"
    },
    {
     "data": {
      "application/vnd.jupyter.widget-view+json": {
       "model_id": "",
       "version_major": 2,
       "version_minor": 0
      },
      "text/plain": [
       "Updating:   0%|          | 0/100 [00:00<?, ?it/s]"
      ]
     },
     "metadata": {},
     "output_type": "display_data"
    },
    {
     "data": {
      "application/vnd.jupyter.widget-view+json": {
       "model_id": "",
       "version_major": 2,
       "version_minor": 0
      },
      "text/plain": [
       "Updating:   0%|          | 0/100 [00:00<?, ?it/s]"
      ]
     },
     "metadata": {},
     "output_type": "display_data"
    },
    {
     "data": {
      "application/vnd.jupyter.widget-view+json": {
       "model_id": "",
       "version_major": 2,
       "version_minor": 0
      },
      "text/plain": [
       "Updating:   0%|          | 0/100 [00:00<?, ?it/s]"
      ]
     },
     "metadata": {},
     "output_type": "display_data"
    },
    {
     "name": "stdout",
     "output_type": "stream",
     "text": [
      "120\n"
     ]
    },
    {
     "data": {
      "application/vnd.jupyter.widget-view+json": {
       "model_id": "",
       "version_major": 2,
       "version_minor": 0
      },
      "text/plain": [
       "Updating:   0%|          | 0/100 [00:00<?, ?it/s]"
      ]
     },
     "metadata": {},
     "output_type": "display_data"
    },
    {
     "data": {
      "application/vnd.jupyter.widget-view+json": {
       "model_id": "",
       "version_major": 2,
       "version_minor": 0
      },
      "text/plain": [
       "Updating:   0%|          | 0/100 [00:00<?, ?it/s]"
      ]
     },
     "metadata": {},
     "output_type": "display_data"
    },
    {
     "data": {
      "application/vnd.jupyter.widget-view+json": {
       "model_id": "",
       "version_major": 2,
       "version_minor": 0
      },
      "text/plain": [
       "Updating:   0%|          | 0/100 [00:00<?, ?it/s]"
      ]
     },
     "metadata": {},
     "output_type": "display_data"
    },
    {
     "data": {
      "application/vnd.jupyter.widget-view+json": {
       "model_id": "",
       "version_major": 2,
       "version_minor": 0
      },
      "text/plain": [
       "Updating:   0%|          | 0/100 [00:00<?, ?it/s]"
      ]
     },
     "metadata": {},
     "output_type": "display_data"
    },
    {
     "data": {
      "application/vnd.jupyter.widget-view+json": {
       "model_id": "",
       "version_major": 2,
       "version_minor": 0
      },
      "text/plain": [
       "Updating:   0%|          | 0/100 [00:00<?, ?it/s]"
      ]
     },
     "metadata": {},
     "output_type": "display_data"
    },
    {
     "data": {
      "application/vnd.jupyter.widget-view+json": {
       "model_id": "",
       "version_major": 2,
       "version_minor": 0
      },
      "text/plain": [
       "Updating:   0%|          | 0/100 [00:00<?, ?it/s]"
      ]
     },
     "metadata": {},
     "output_type": "display_data"
    },
    {
     "data": {
      "application/vnd.jupyter.widget-view+json": {
       "model_id": "",
       "version_major": 2,
       "version_minor": 0
      },
      "text/plain": [
       "Updating:   0%|          | 0/100 [00:00<?, ?it/s]"
      ]
     },
     "metadata": {},
     "output_type": "display_data"
    },
    {
     "data": {
      "application/vnd.jupyter.widget-view+json": {
       "model_id": "",
       "version_major": 2,
       "version_minor": 0
      },
      "text/plain": [
       "Updating:   0%|          | 0/100 [00:00<?, ?it/s]"
      ]
     },
     "metadata": {},
     "output_type": "display_data"
    },
    {
     "data": {
      "application/vnd.jupyter.widget-view+json": {
       "model_id": "",
       "version_major": 2,
       "version_minor": 0
      },
      "text/plain": [
       "Updating:   0%|          | 0/100 [00:00<?, ?it/s]"
      ]
     },
     "metadata": {},
     "output_type": "display_data"
    },
    {
     "data": {
      "application/vnd.jupyter.widget-view+json": {
       "model_id": "",
       "version_major": 2,
       "version_minor": 0
      },
      "text/plain": [
       "Updating:   0%|          | 0/100 [00:00<?, ?it/s]"
      ]
     },
     "metadata": {},
     "output_type": "display_data"
    },
    {
     "name": "stdout",
     "output_type": "stream",
     "text": [
      "125\n"
     ]
    },
    {
     "data": {
      "application/vnd.jupyter.widget-view+json": {
       "model_id": "",
       "version_major": 2,
       "version_minor": 0
      },
      "text/plain": [
       "Updating:   0%|          | 0/100 [00:00<?, ?it/s]"
      ]
     },
     "metadata": {},
     "output_type": "display_data"
    },
    {
     "data": {
      "application/vnd.jupyter.widget-view+json": {
       "model_id": "",
       "version_major": 2,
       "version_minor": 0
      },
      "text/plain": [
       "Updating:   0%|          | 0/100 [00:00<?, ?it/s]"
      ]
     },
     "metadata": {},
     "output_type": "display_data"
    },
    {
     "data": {
      "application/vnd.jupyter.widget-view+json": {
       "model_id": "",
       "version_major": 2,
       "version_minor": 0
      },
      "text/plain": [
       "Updating:   0%|          | 0/100 [00:00<?, ?it/s]"
      ]
     },
     "metadata": {},
     "output_type": "display_data"
    },
    {
     "data": {
      "application/vnd.jupyter.widget-view+json": {
       "model_id": "",
       "version_major": 2,
       "version_minor": 0
      },
      "text/plain": [
       "Updating:   0%|          | 0/100 [00:00<?, ?it/s]"
      ]
     },
     "metadata": {},
     "output_type": "display_data"
    },
    {
     "data": {
      "application/vnd.jupyter.widget-view+json": {
       "model_id": "",
       "version_major": 2,
       "version_minor": 0
      },
      "text/plain": [
       "Updating:   0%|          | 0/100 [00:00<?, ?it/s]"
      ]
     },
     "metadata": {},
     "output_type": "display_data"
    },
    {
     "data": {
      "application/vnd.jupyter.widget-view+json": {
       "model_id": "",
       "version_major": 2,
       "version_minor": 0
      },
      "text/plain": [
       "Updating:   0%|          | 0/100 [00:00<?, ?it/s]"
      ]
     },
     "metadata": {},
     "output_type": "display_data"
    },
    {
     "data": {
      "application/vnd.jupyter.widget-view+json": {
       "model_id": "",
       "version_major": 2,
       "version_minor": 0
      },
      "text/plain": [
       "Updating:   0%|          | 0/100 [00:00<?, ?it/s]"
      ]
     },
     "metadata": {},
     "output_type": "display_data"
    },
    {
     "data": {
      "application/vnd.jupyter.widget-view+json": {
       "model_id": "",
       "version_major": 2,
       "version_minor": 0
      },
      "text/plain": [
       "Updating:   0%|          | 0/100 [00:00<?, ?it/s]"
      ]
     },
     "metadata": {},
     "output_type": "display_data"
    },
    {
     "data": {
      "application/vnd.jupyter.widget-view+json": {
       "model_id": "",
       "version_major": 2,
       "version_minor": 0
      },
      "text/plain": [
       "Updating:   0%|          | 0/100 [00:00<?, ?it/s]"
      ]
     },
     "metadata": {},
     "output_type": "display_data"
    },
    {
     "data": {
      "application/vnd.jupyter.widget-view+json": {
       "model_id": "",
       "version_major": 2,
       "version_minor": 0
      },
      "text/plain": [
       "Updating:   0%|          | 0/100 [00:00<?, ?it/s]"
      ]
     },
     "metadata": {},
     "output_type": "display_data"
    },
    {
     "name": "stdout",
     "output_type": "stream",
     "text": [
      "130\n"
     ]
    },
    {
     "data": {
      "application/vnd.jupyter.widget-view+json": {
       "model_id": "",
       "version_major": 2,
       "version_minor": 0
      },
      "text/plain": [
       "Updating:   0%|          | 0/100 [00:00<?, ?it/s]"
      ]
     },
     "metadata": {},
     "output_type": "display_data"
    },
    {
     "data": {
      "application/vnd.jupyter.widget-view+json": {
       "model_id": "",
       "version_major": 2,
       "version_minor": 0
      },
      "text/plain": [
       "Updating:   0%|          | 0/100 [00:00<?, ?it/s]"
      ]
     },
     "metadata": {},
     "output_type": "display_data"
    },
    {
     "data": {
      "application/vnd.jupyter.widget-view+json": {
       "model_id": "",
       "version_major": 2,
       "version_minor": 0
      },
      "text/plain": [
       "Updating:   0%|          | 0/100 [00:00<?, ?it/s]"
      ]
     },
     "metadata": {},
     "output_type": "display_data"
    },
    {
     "data": {
      "application/vnd.jupyter.widget-view+json": {
       "model_id": "",
       "version_major": 2,
       "version_minor": 0
      },
      "text/plain": [
       "Updating:   0%|          | 0/100 [00:00<?, ?it/s]"
      ]
     },
     "metadata": {},
     "output_type": "display_data"
    },
    {
     "data": {
      "application/vnd.jupyter.widget-view+json": {
       "model_id": "",
       "version_major": 2,
       "version_minor": 0
      },
      "text/plain": [
       "Updating:   0%|          | 0/100 [00:00<?, ?it/s]"
      ]
     },
     "metadata": {},
     "output_type": "display_data"
    },
    {
     "data": {
      "application/vnd.jupyter.widget-view+json": {
       "model_id": "",
       "version_major": 2,
       "version_minor": 0
      },
      "text/plain": [
       "Updating:   0%|          | 0/100 [00:00<?, ?it/s]"
      ]
     },
     "metadata": {},
     "output_type": "display_data"
    },
    {
     "data": {
      "application/vnd.jupyter.widget-view+json": {
       "model_id": "",
       "version_major": 2,
       "version_minor": 0
      },
      "text/plain": [
       "Updating:   0%|          | 0/100 [00:00<?, ?it/s]"
      ]
     },
     "metadata": {},
     "output_type": "display_data"
    },
    {
     "data": {
      "application/vnd.jupyter.widget-view+json": {
       "model_id": "",
       "version_major": 2,
       "version_minor": 0
      },
      "text/plain": [
       "Updating:   0%|          | 0/100 [00:00<?, ?it/s]"
      ]
     },
     "metadata": {},
     "output_type": "display_data"
    },
    {
     "data": {
      "application/vnd.jupyter.widget-view+json": {
       "model_id": "",
       "version_major": 2,
       "version_minor": 0
      },
      "text/plain": [
       "Updating:   0%|          | 0/100 [00:00<?, ?it/s]"
      ]
     },
     "metadata": {},
     "output_type": "display_data"
    },
    {
     "data": {
      "application/vnd.jupyter.widget-view+json": {
       "model_id": "",
       "version_major": 2,
       "version_minor": 0
      },
      "text/plain": [
       "Updating:   0%|          | 0/100 [00:00<?, ?it/s]"
      ]
     },
     "metadata": {},
     "output_type": "display_data"
    },
    {
     "name": "stdout",
     "output_type": "stream",
     "text": [
      "135\n"
     ]
    },
    {
     "data": {
      "application/vnd.jupyter.widget-view+json": {
       "model_id": "",
       "version_major": 2,
       "version_minor": 0
      },
      "text/plain": [
       "Updating:   0%|          | 0/100 [00:00<?, ?it/s]"
      ]
     },
     "metadata": {},
     "output_type": "display_data"
    },
    {
     "data": {
      "application/vnd.jupyter.widget-view+json": {
       "model_id": "",
       "version_major": 2,
       "version_minor": 0
      },
      "text/plain": [
       "Updating:   0%|          | 0/100 [00:00<?, ?it/s]"
      ]
     },
     "metadata": {},
     "output_type": "display_data"
    },
    {
     "data": {
      "application/vnd.jupyter.widget-view+json": {
       "model_id": "",
       "version_major": 2,
       "version_minor": 0
      },
      "text/plain": [
       "Updating:   0%|          | 0/100 [00:00<?, ?it/s]"
      ]
     },
     "metadata": {},
     "output_type": "display_data"
    },
    {
     "data": {
      "application/vnd.jupyter.widget-view+json": {
       "model_id": "",
       "version_major": 2,
       "version_minor": 0
      },
      "text/plain": [
       "Updating:   0%|          | 0/100 [00:00<?, ?it/s]"
      ]
     },
     "metadata": {},
     "output_type": "display_data"
    },
    {
     "data": {
      "application/vnd.jupyter.widget-view+json": {
       "model_id": "",
       "version_major": 2,
       "version_minor": 0
      },
      "text/plain": [
       "Updating:   0%|          | 0/100 [00:00<?, ?it/s]"
      ]
     },
     "metadata": {},
     "output_type": "display_data"
    },
    {
     "data": {
      "application/vnd.jupyter.widget-view+json": {
       "model_id": "",
       "version_major": 2,
       "version_minor": 0
      },
      "text/plain": [
       "Updating:   0%|          | 0/100 [00:00<?, ?it/s]"
      ]
     },
     "metadata": {},
     "output_type": "display_data"
    },
    {
     "data": {
      "application/vnd.jupyter.widget-view+json": {
       "model_id": "",
       "version_major": 2,
       "version_minor": 0
      },
      "text/plain": [
       "Updating:   0%|          | 0/100 [00:00<?, ?it/s]"
      ]
     },
     "metadata": {},
     "output_type": "display_data"
    },
    {
     "data": {
      "application/vnd.jupyter.widget-view+json": {
       "model_id": "",
       "version_major": 2,
       "version_minor": 0
      },
      "text/plain": [
       "Updating:   0%|          | 0/100 [00:00<?, ?it/s]"
      ]
     },
     "metadata": {},
     "output_type": "display_data"
    },
    {
     "data": {
      "application/vnd.jupyter.widget-view+json": {
       "model_id": "",
       "version_major": 2,
       "version_minor": 0
      },
      "text/plain": [
       "Updating:   0%|          | 0/100 [00:00<?, ?it/s]"
      ]
     },
     "metadata": {},
     "output_type": "display_data"
    },
    {
     "data": {
      "application/vnd.jupyter.widget-view+json": {
       "model_id": "",
       "version_major": 2,
       "version_minor": 0
      },
      "text/plain": [
       "Updating:   0%|          | 0/100 [00:00<?, ?it/s]"
      ]
     },
     "metadata": {},
     "output_type": "display_data"
    },
    {
     "name": "stdout",
     "output_type": "stream",
     "text": [
      "140\n"
     ]
    },
    {
     "data": {
      "application/vnd.jupyter.widget-view+json": {
       "model_id": "",
       "version_major": 2,
       "version_minor": 0
      },
      "text/plain": [
       "Updating:   0%|          | 0/100 [00:00<?, ?it/s]"
      ]
     },
     "metadata": {},
     "output_type": "display_data"
    },
    {
     "data": {
      "application/vnd.jupyter.widget-view+json": {
       "model_id": "",
       "version_major": 2,
       "version_minor": 0
      },
      "text/plain": [
       "Updating:   0%|          | 0/100 [00:00<?, ?it/s]"
      ]
     },
     "metadata": {},
     "output_type": "display_data"
    },
    {
     "data": {
      "application/vnd.jupyter.widget-view+json": {
       "model_id": "",
       "version_major": 2,
       "version_minor": 0
      },
      "text/plain": [
       "Updating:   0%|          | 0/100 [00:00<?, ?it/s]"
      ]
     },
     "metadata": {},
     "output_type": "display_data"
    },
    {
     "data": {
      "application/vnd.jupyter.widget-view+json": {
       "model_id": "",
       "version_major": 2,
       "version_minor": 0
      },
      "text/plain": [
       "Updating:   0%|          | 0/100 [00:00<?, ?it/s]"
      ]
     },
     "metadata": {},
     "output_type": "display_data"
    },
    {
     "data": {
      "application/vnd.jupyter.widget-view+json": {
       "model_id": "",
       "version_major": 2,
       "version_minor": 0
      },
      "text/plain": [
       "Updating:   0%|          | 0/100 [00:00<?, ?it/s]"
      ]
     },
     "metadata": {},
     "output_type": "display_data"
    },
    {
     "data": {
      "application/vnd.jupyter.widget-view+json": {
       "model_id": "",
       "version_major": 2,
       "version_minor": 0
      },
      "text/plain": [
       "Updating:   0%|          | 0/100 [00:00<?, ?it/s]"
      ]
     },
     "metadata": {},
     "output_type": "display_data"
    },
    {
     "data": {
      "application/vnd.jupyter.widget-view+json": {
       "model_id": "",
       "version_major": 2,
       "version_minor": 0
      },
      "text/plain": [
       "Updating:   0%|          | 0/100 [00:00<?, ?it/s]"
      ]
     },
     "metadata": {},
     "output_type": "display_data"
    },
    {
     "data": {
      "application/vnd.jupyter.widget-view+json": {
       "model_id": "",
       "version_major": 2,
       "version_minor": 0
      },
      "text/plain": [
       "Updating:   0%|          | 0/100 [00:00<?, ?it/s]"
      ]
     },
     "metadata": {},
     "output_type": "display_data"
    },
    {
     "data": {
      "application/vnd.jupyter.widget-view+json": {
       "model_id": "",
       "version_major": 2,
       "version_minor": 0
      },
      "text/plain": [
       "Updating:   0%|          | 0/100 [00:00<?, ?it/s]"
      ]
     },
     "metadata": {},
     "output_type": "display_data"
    },
    {
     "data": {
      "application/vnd.jupyter.widget-view+json": {
       "model_id": "",
       "version_major": 2,
       "version_minor": 0
      },
      "text/plain": [
       "Updating:   0%|          | 0/100 [00:00<?, ?it/s]"
      ]
     },
     "metadata": {},
     "output_type": "display_data"
    },
    {
     "name": "stdout",
     "output_type": "stream",
     "text": [
      "145\n"
     ]
    },
    {
     "data": {
      "application/vnd.jupyter.widget-view+json": {
       "model_id": "",
       "version_major": 2,
       "version_minor": 0
      },
      "text/plain": [
       "Updating:   0%|          | 0/100 [00:00<?, ?it/s]"
      ]
     },
     "metadata": {},
     "output_type": "display_data"
    },
    {
     "data": {
      "application/vnd.jupyter.widget-view+json": {
       "model_id": "",
       "version_major": 2,
       "version_minor": 0
      },
      "text/plain": [
       "Updating:   0%|          | 0/100 [00:00<?, ?it/s]"
      ]
     },
     "metadata": {},
     "output_type": "display_data"
    },
    {
     "data": {
      "application/vnd.jupyter.widget-view+json": {
       "model_id": "",
       "version_major": 2,
       "version_minor": 0
      },
      "text/plain": [
       "Updating:   0%|          | 0/100 [00:00<?, ?it/s]"
      ]
     },
     "metadata": {},
     "output_type": "display_data"
    },
    {
     "data": {
      "application/vnd.jupyter.widget-view+json": {
       "model_id": "",
       "version_major": 2,
       "version_minor": 0
      },
      "text/plain": [
       "Updating:   0%|          | 0/100 [00:00<?, ?it/s]"
      ]
     },
     "metadata": {},
     "output_type": "display_data"
    },
    {
     "data": {
      "application/vnd.jupyter.widget-view+json": {
       "model_id": "",
       "version_major": 2,
       "version_minor": 0
      },
      "text/plain": [
       "Updating:   0%|          | 0/100 [00:00<?, ?it/s]"
      ]
     },
     "metadata": {},
     "output_type": "display_data"
    },
    {
     "data": {
      "application/vnd.jupyter.widget-view+json": {
       "model_id": "",
       "version_major": 2,
       "version_minor": 0
      },
      "text/plain": [
       "Updating:   0%|          | 0/100 [00:00<?, ?it/s]"
      ]
     },
     "metadata": {},
     "output_type": "display_data"
    },
    {
     "data": {
      "application/vnd.jupyter.widget-view+json": {
       "model_id": "",
       "version_major": 2,
       "version_minor": 0
      },
      "text/plain": [
       "Updating:   0%|          | 0/100 [00:00<?, ?it/s]"
      ]
     },
     "metadata": {},
     "output_type": "display_data"
    },
    {
     "data": {
      "application/vnd.jupyter.widget-view+json": {
       "model_id": "",
       "version_major": 2,
       "version_minor": 0
      },
      "text/plain": [
       "Updating:   0%|          | 0/100 [00:00<?, ?it/s]"
      ]
     },
     "metadata": {},
     "output_type": "display_data"
    },
    {
     "data": {
      "application/vnd.jupyter.widget-view+json": {
       "model_id": "",
       "version_major": 2,
       "version_minor": 0
      },
      "text/plain": [
       "Updating:   0%|          | 0/100 [00:00<?, ?it/s]"
      ]
     },
     "metadata": {},
     "output_type": "display_data"
    },
    {
     "data": {
      "application/vnd.jupyter.widget-view+json": {
       "model_id": "",
       "version_major": 2,
       "version_minor": 0
      },
      "text/plain": [
       "Updating:   0%|          | 0/100 [00:00<?, ?it/s]"
      ]
     },
     "metadata": {},
     "output_type": "display_data"
    },
    {
     "name": "stdout",
     "output_type": "stream",
     "text": [
      "150\n"
     ]
    },
    {
     "data": {
      "application/vnd.jupyter.widget-view+json": {
       "model_id": "",
       "version_major": 2,
       "version_minor": 0
      },
      "text/plain": [
       "Updating:   0%|          | 0/100 [00:00<?, ?it/s]"
      ]
     },
     "metadata": {},
     "output_type": "display_data"
    },
    {
     "data": {
      "application/vnd.jupyter.widget-view+json": {
       "model_id": "",
       "version_major": 2,
       "version_minor": 0
      },
      "text/plain": [
       "Updating:   0%|          | 0/100 [00:00<?, ?it/s]"
      ]
     },
     "metadata": {},
     "output_type": "display_data"
    },
    {
     "data": {
      "application/vnd.jupyter.widget-view+json": {
       "model_id": "",
       "version_major": 2,
       "version_minor": 0
      },
      "text/plain": [
       "Updating:   0%|          | 0/100 [00:00<?, ?it/s]"
      ]
     },
     "metadata": {},
     "output_type": "display_data"
    },
    {
     "data": {
      "application/vnd.jupyter.widget-view+json": {
       "model_id": "",
       "version_major": 2,
       "version_minor": 0
      },
      "text/plain": [
       "Updating:   0%|          | 0/100 [00:00<?, ?it/s]"
      ]
     },
     "metadata": {},
     "output_type": "display_data"
    },
    {
     "data": {
      "application/vnd.jupyter.widget-view+json": {
       "model_id": "",
       "version_major": 2,
       "version_minor": 0
      },
      "text/plain": [
       "Updating:   0%|          | 0/100 [00:00<?, ?it/s]"
      ]
     },
     "metadata": {},
     "output_type": "display_data"
    },
    {
     "data": {
      "application/vnd.jupyter.widget-view+json": {
       "model_id": "",
       "version_major": 2,
       "version_minor": 0
      },
      "text/plain": [
       "Updating:   0%|          | 0/100 [00:00<?, ?it/s]"
      ]
     },
     "metadata": {},
     "output_type": "display_data"
    },
    {
     "data": {
      "application/vnd.jupyter.widget-view+json": {
       "model_id": "",
       "version_major": 2,
       "version_minor": 0
      },
      "text/plain": [
       "Updating:   0%|          | 0/100 [00:00<?, ?it/s]"
      ]
     },
     "metadata": {},
     "output_type": "display_data"
    },
    {
     "data": {
      "application/vnd.jupyter.widget-view+json": {
       "model_id": "",
       "version_major": 2,
       "version_minor": 0
      },
      "text/plain": [
       "Updating:   0%|          | 0/100 [00:00<?, ?it/s]"
      ]
     },
     "metadata": {},
     "output_type": "display_data"
    },
    {
     "data": {
      "application/vnd.jupyter.widget-view+json": {
       "model_id": "",
       "version_major": 2,
       "version_minor": 0
      },
      "text/plain": [
       "Updating:   0%|          | 0/100 [00:00<?, ?it/s]"
      ]
     },
     "metadata": {},
     "output_type": "display_data"
    },
    {
     "data": {
      "application/vnd.jupyter.widget-view+json": {
       "model_id": "",
       "version_major": 2,
       "version_minor": 0
      },
      "text/plain": [
       "Updating:   0%|          | 0/100 [00:00<?, ?it/s]"
      ]
     },
     "metadata": {},
     "output_type": "display_data"
    },
    {
     "name": "stdout",
     "output_type": "stream",
     "text": [
      "155\n"
     ]
    },
    {
     "data": {
      "application/vnd.jupyter.widget-view+json": {
       "model_id": "",
       "version_major": 2,
       "version_minor": 0
      },
      "text/plain": [
       "Updating:   0%|          | 0/100 [00:00<?, ?it/s]"
      ]
     },
     "metadata": {},
     "output_type": "display_data"
    },
    {
     "data": {
      "application/vnd.jupyter.widget-view+json": {
       "model_id": "",
       "version_major": 2,
       "version_minor": 0
      },
      "text/plain": [
       "Updating:   0%|          | 0/100 [00:00<?, ?it/s]"
      ]
     },
     "metadata": {},
     "output_type": "display_data"
    },
    {
     "data": {
      "application/vnd.jupyter.widget-view+json": {
       "model_id": "",
       "version_major": 2,
       "version_minor": 0
      },
      "text/plain": [
       "Updating:   0%|          | 0/100 [00:00<?, ?it/s]"
      ]
     },
     "metadata": {},
     "output_type": "display_data"
    },
    {
     "data": {
      "application/vnd.jupyter.widget-view+json": {
       "model_id": "",
       "version_major": 2,
       "version_minor": 0
      },
      "text/plain": [
       "Updating:   0%|          | 0/100 [00:00<?, ?it/s]"
      ]
     },
     "metadata": {},
     "output_type": "display_data"
    },
    {
     "data": {
      "application/vnd.jupyter.widget-view+json": {
       "model_id": "",
       "version_major": 2,
       "version_minor": 0
      },
      "text/plain": [
       "Updating:   0%|          | 0/100 [00:00<?, ?it/s]"
      ]
     },
     "metadata": {},
     "output_type": "display_data"
    },
    {
     "data": {
      "application/vnd.jupyter.widget-view+json": {
       "model_id": "",
       "version_major": 2,
       "version_minor": 0
      },
      "text/plain": [
       "Updating:   0%|          | 0/100 [00:00<?, ?it/s]"
      ]
     },
     "metadata": {},
     "output_type": "display_data"
    },
    {
     "data": {
      "application/vnd.jupyter.widget-view+json": {
       "model_id": "",
       "version_major": 2,
       "version_minor": 0
      },
      "text/plain": [
       "Updating:   0%|          | 0/100 [00:00<?, ?it/s]"
      ]
     },
     "metadata": {},
     "output_type": "display_data"
    },
    {
     "data": {
      "application/vnd.jupyter.widget-view+json": {
       "model_id": "",
       "version_major": 2,
       "version_minor": 0
      },
      "text/plain": [
       "Updating:   0%|          | 0/100 [00:00<?, ?it/s]"
      ]
     },
     "metadata": {},
     "output_type": "display_data"
    },
    {
     "data": {
      "application/vnd.jupyter.widget-view+json": {
       "model_id": "",
       "version_major": 2,
       "version_minor": 0
      },
      "text/plain": [
       "Updating:   0%|          | 0/100 [00:00<?, ?it/s]"
      ]
     },
     "metadata": {},
     "output_type": "display_data"
    },
    {
     "data": {
      "application/vnd.jupyter.widget-view+json": {
       "model_id": "",
       "version_major": 2,
       "version_minor": 0
      },
      "text/plain": [
       "Updating:   0%|          | 0/100 [00:00<?, ?it/s]"
      ]
     },
     "metadata": {},
     "output_type": "display_data"
    },
    {
     "name": "stdout",
     "output_type": "stream",
     "text": [
      "160\n"
     ]
    },
    {
     "data": {
      "application/vnd.jupyter.widget-view+json": {
       "model_id": "",
       "version_major": 2,
       "version_minor": 0
      },
      "text/plain": [
       "Updating:   0%|          | 0/100 [00:00<?, ?it/s]"
      ]
     },
     "metadata": {},
     "output_type": "display_data"
    },
    {
     "data": {
      "application/vnd.jupyter.widget-view+json": {
       "model_id": "",
       "version_major": 2,
       "version_minor": 0
      },
      "text/plain": [
       "Updating:   0%|          | 0/100 [00:00<?, ?it/s]"
      ]
     },
     "metadata": {},
     "output_type": "display_data"
    },
    {
     "data": {
      "application/vnd.jupyter.widget-view+json": {
       "model_id": "",
       "version_major": 2,
       "version_minor": 0
      },
      "text/plain": [
       "Updating:   0%|          | 0/100 [00:00<?, ?it/s]"
      ]
     },
     "metadata": {},
     "output_type": "display_data"
    },
    {
     "data": {
      "application/vnd.jupyter.widget-view+json": {
       "model_id": "",
       "version_major": 2,
       "version_minor": 0
      },
      "text/plain": [
       "Updating:   0%|          | 0/100 [00:00<?, ?it/s]"
      ]
     },
     "metadata": {},
     "output_type": "display_data"
    },
    {
     "data": {
      "application/vnd.jupyter.widget-view+json": {
       "model_id": "",
       "version_major": 2,
       "version_minor": 0
      },
      "text/plain": [
       "Updating:   0%|          | 0/100 [00:00<?, ?it/s]"
      ]
     },
     "metadata": {},
     "output_type": "display_data"
    },
    {
     "data": {
      "application/vnd.jupyter.widget-view+json": {
       "model_id": "",
       "version_major": 2,
       "version_minor": 0
      },
      "text/plain": [
       "Updating:   0%|          | 0/100 [00:00<?, ?it/s]"
      ]
     },
     "metadata": {},
     "output_type": "display_data"
    },
    {
     "data": {
      "application/vnd.jupyter.widget-view+json": {
       "model_id": "",
       "version_major": 2,
       "version_minor": 0
      },
      "text/plain": [
       "Updating:   0%|          | 0/100 [00:00<?, ?it/s]"
      ]
     },
     "metadata": {},
     "output_type": "display_data"
    },
    {
     "data": {
      "application/vnd.jupyter.widget-view+json": {
       "model_id": "",
       "version_major": 2,
       "version_minor": 0
      },
      "text/plain": [
       "Updating:   0%|          | 0/100 [00:00<?, ?it/s]"
      ]
     },
     "metadata": {},
     "output_type": "display_data"
    },
    {
     "data": {
      "application/vnd.jupyter.widget-view+json": {
       "model_id": "",
       "version_major": 2,
       "version_minor": 0
      },
      "text/plain": [
       "Updating:   0%|          | 0/100 [00:00<?, ?it/s]"
      ]
     },
     "metadata": {},
     "output_type": "display_data"
    },
    {
     "data": {
      "application/vnd.jupyter.widget-view+json": {
       "model_id": "",
       "version_major": 2,
       "version_minor": 0
      },
      "text/plain": [
       "Updating:   0%|          | 0/100 [00:00<?, ?it/s]"
      ]
     },
     "metadata": {},
     "output_type": "display_data"
    },
    {
     "name": "stdout",
     "output_type": "stream",
     "text": [
      "165\n"
     ]
    },
    {
     "data": {
      "application/vnd.jupyter.widget-view+json": {
       "model_id": "",
       "version_major": 2,
       "version_minor": 0
      },
      "text/plain": [
       "Updating:   0%|          | 0/100 [00:00<?, ?it/s]"
      ]
     },
     "metadata": {},
     "output_type": "display_data"
    },
    {
     "data": {
      "application/vnd.jupyter.widget-view+json": {
       "model_id": "",
       "version_major": 2,
       "version_minor": 0
      },
      "text/plain": [
       "Updating:   0%|          | 0/100 [00:00<?, ?it/s]"
      ]
     },
     "metadata": {},
     "output_type": "display_data"
    },
    {
     "data": {
      "application/vnd.jupyter.widget-view+json": {
       "model_id": "",
       "version_major": 2,
       "version_minor": 0
      },
      "text/plain": [
       "Updating:   0%|          | 0/100 [00:00<?, ?it/s]"
      ]
     },
     "metadata": {},
     "output_type": "display_data"
    },
    {
     "data": {
      "application/vnd.jupyter.widget-view+json": {
       "model_id": "",
       "version_major": 2,
       "version_minor": 0
      },
      "text/plain": [
       "Updating:   0%|          | 0/100 [00:00<?, ?it/s]"
      ]
     },
     "metadata": {},
     "output_type": "display_data"
    },
    {
     "data": {
      "application/vnd.jupyter.widget-view+json": {
       "model_id": "",
       "version_major": 2,
       "version_minor": 0
      },
      "text/plain": [
       "Updating:   0%|          | 0/100 [00:00<?, ?it/s]"
      ]
     },
     "metadata": {},
     "output_type": "display_data"
    },
    {
     "data": {
      "application/vnd.jupyter.widget-view+json": {
       "model_id": "",
       "version_major": 2,
       "version_minor": 0
      },
      "text/plain": [
       "Updating:   0%|          | 0/100 [00:00<?, ?it/s]"
      ]
     },
     "metadata": {},
     "output_type": "display_data"
    },
    {
     "data": {
      "application/vnd.jupyter.widget-view+json": {
       "model_id": "",
       "version_major": 2,
       "version_minor": 0
      },
      "text/plain": [
       "Updating:   0%|          | 0/100 [00:00<?, ?it/s]"
      ]
     },
     "metadata": {},
     "output_type": "display_data"
    },
    {
     "data": {
      "application/vnd.jupyter.widget-view+json": {
       "model_id": "",
       "version_major": 2,
       "version_minor": 0
      },
      "text/plain": [
       "Updating:   0%|          | 0/100 [00:00<?, ?it/s]"
      ]
     },
     "metadata": {},
     "output_type": "display_data"
    },
    {
     "data": {
      "application/vnd.jupyter.widget-view+json": {
       "model_id": "",
       "version_major": 2,
       "version_minor": 0
      },
      "text/plain": [
       "Updating:   0%|          | 0/100 [00:00<?, ?it/s]"
      ]
     },
     "metadata": {},
     "output_type": "display_data"
    },
    {
     "data": {
      "application/vnd.jupyter.widget-view+json": {
       "model_id": "",
       "version_major": 2,
       "version_minor": 0
      },
      "text/plain": [
       "Updating:   0%|          | 0/100 [00:00<?, ?it/s]"
      ]
     },
     "metadata": {},
     "output_type": "display_data"
    },
    {
     "name": "stdout",
     "output_type": "stream",
     "text": [
      "170\n"
     ]
    },
    {
     "data": {
      "application/vnd.jupyter.widget-view+json": {
       "model_id": "",
       "version_major": 2,
       "version_minor": 0
      },
      "text/plain": [
       "Updating:   0%|          | 0/100 [00:00<?, ?it/s]"
      ]
     },
     "metadata": {},
     "output_type": "display_data"
    },
    {
     "data": {
      "application/vnd.jupyter.widget-view+json": {
       "model_id": "",
       "version_major": 2,
       "version_minor": 0
      },
      "text/plain": [
       "Updating:   0%|          | 0/100 [00:00<?, ?it/s]"
      ]
     },
     "metadata": {},
     "output_type": "display_data"
    },
    {
     "data": {
      "application/vnd.jupyter.widget-view+json": {
       "model_id": "",
       "version_major": 2,
       "version_minor": 0
      },
      "text/plain": [
       "Updating:   0%|          | 0/100 [00:00<?, ?it/s]"
      ]
     },
     "metadata": {},
     "output_type": "display_data"
    },
    {
     "data": {
      "application/vnd.jupyter.widget-view+json": {
       "model_id": "",
       "version_major": 2,
       "version_minor": 0
      },
      "text/plain": [
       "Updating:   0%|          | 0/100 [00:00<?, ?it/s]"
      ]
     },
     "metadata": {},
     "output_type": "display_data"
    },
    {
     "data": {
      "application/vnd.jupyter.widget-view+json": {
       "model_id": "",
       "version_major": 2,
       "version_minor": 0
      },
      "text/plain": [
       "Updating:   0%|          | 0/100 [00:00<?, ?it/s]"
      ]
     },
     "metadata": {},
     "output_type": "display_data"
    },
    {
     "data": {
      "application/vnd.jupyter.widget-view+json": {
       "model_id": "",
       "version_major": 2,
       "version_minor": 0
      },
      "text/plain": [
       "Updating:   0%|          | 0/100 [00:00<?, ?it/s]"
      ]
     },
     "metadata": {},
     "output_type": "display_data"
    },
    {
     "data": {
      "application/vnd.jupyter.widget-view+json": {
       "model_id": "",
       "version_major": 2,
       "version_minor": 0
      },
      "text/plain": [
       "Updating:   0%|          | 0/100 [00:00<?, ?it/s]"
      ]
     },
     "metadata": {},
     "output_type": "display_data"
    },
    {
     "data": {
      "application/vnd.jupyter.widget-view+json": {
       "model_id": "",
       "version_major": 2,
       "version_minor": 0
      },
      "text/plain": [
       "Updating:   0%|          | 0/100 [00:00<?, ?it/s]"
      ]
     },
     "metadata": {},
     "output_type": "display_data"
    },
    {
     "data": {
      "application/vnd.jupyter.widget-view+json": {
       "model_id": "",
       "version_major": 2,
       "version_minor": 0
      },
      "text/plain": [
       "Updating:   0%|          | 0/100 [00:00<?, ?it/s]"
      ]
     },
     "metadata": {},
     "output_type": "display_data"
    },
    {
     "data": {
      "application/vnd.jupyter.widget-view+json": {
       "model_id": "",
       "version_major": 2,
       "version_minor": 0
      },
      "text/plain": [
       "Updating:   0%|          | 0/100 [00:00<?, ?it/s]"
      ]
     },
     "metadata": {},
     "output_type": "display_data"
    },
    {
     "name": "stdout",
     "output_type": "stream",
     "text": [
      "175\n"
     ]
    },
    {
     "data": {
      "application/vnd.jupyter.widget-view+json": {
       "model_id": "",
       "version_major": 2,
       "version_minor": 0
      },
      "text/plain": [
       "Updating:   0%|          | 0/100 [00:00<?, ?it/s]"
      ]
     },
     "metadata": {},
     "output_type": "display_data"
    },
    {
     "data": {
      "application/vnd.jupyter.widget-view+json": {
       "model_id": "",
       "version_major": 2,
       "version_minor": 0
      },
      "text/plain": [
       "Updating:   0%|          | 0/100 [00:00<?, ?it/s]"
      ]
     },
     "metadata": {},
     "output_type": "display_data"
    },
    {
     "data": {
      "application/vnd.jupyter.widget-view+json": {
       "model_id": "",
       "version_major": 2,
       "version_minor": 0
      },
      "text/plain": [
       "Updating:   0%|          | 0/100 [00:00<?, ?it/s]"
      ]
     },
     "metadata": {},
     "output_type": "display_data"
    },
    {
     "data": {
      "application/vnd.jupyter.widget-view+json": {
       "model_id": "",
       "version_major": 2,
       "version_minor": 0
      },
      "text/plain": [
       "Updating:   0%|          | 0/100 [00:00<?, ?it/s]"
      ]
     },
     "metadata": {},
     "output_type": "display_data"
    },
    {
     "data": {
      "application/vnd.jupyter.widget-view+json": {
       "model_id": "",
       "version_major": 2,
       "version_minor": 0
      },
      "text/plain": [
       "Updating:   0%|          | 0/100 [00:00<?, ?it/s]"
      ]
     },
     "metadata": {},
     "output_type": "display_data"
    },
    {
     "data": {
      "application/vnd.jupyter.widget-view+json": {
       "model_id": "",
       "version_major": 2,
       "version_minor": 0
      },
      "text/plain": [
       "Updating:   0%|          | 0/100 [00:00<?, ?it/s]"
      ]
     },
     "metadata": {},
     "output_type": "display_data"
    },
    {
     "data": {
      "application/vnd.jupyter.widget-view+json": {
       "model_id": "",
       "version_major": 2,
       "version_minor": 0
      },
      "text/plain": [
       "Updating:   0%|          | 0/100 [00:00<?, ?it/s]"
      ]
     },
     "metadata": {},
     "output_type": "display_data"
    },
    {
     "data": {
      "application/vnd.jupyter.widget-view+json": {
       "model_id": "",
       "version_major": 2,
       "version_minor": 0
      },
      "text/plain": [
       "Updating:   0%|          | 0/100 [00:00<?, ?it/s]"
      ]
     },
     "metadata": {},
     "output_type": "display_data"
    },
    {
     "data": {
      "application/vnd.jupyter.widget-view+json": {
       "model_id": "",
       "version_major": 2,
       "version_minor": 0
      },
      "text/plain": [
       "Updating:   0%|          | 0/100 [00:00<?, ?it/s]"
      ]
     },
     "metadata": {},
     "output_type": "display_data"
    },
    {
     "data": {
      "application/vnd.jupyter.widget-view+json": {
       "model_id": "",
       "version_major": 2,
       "version_minor": 0
      },
      "text/plain": [
       "Updating:   0%|          | 0/100 [00:00<?, ?it/s]"
      ]
     },
     "metadata": {},
     "output_type": "display_data"
    },
    {
     "name": "stdout",
     "output_type": "stream",
     "text": [
      "180\n"
     ]
    },
    {
     "data": {
      "application/vnd.jupyter.widget-view+json": {
       "model_id": "",
       "version_major": 2,
       "version_minor": 0
      },
      "text/plain": [
       "Updating:   0%|          | 0/100 [00:00<?, ?it/s]"
      ]
     },
     "metadata": {},
     "output_type": "display_data"
    },
    {
     "data": {
      "application/vnd.jupyter.widget-view+json": {
       "model_id": "",
       "version_major": 2,
       "version_minor": 0
      },
      "text/plain": [
       "Updating:   0%|          | 0/100 [00:00<?, ?it/s]"
      ]
     },
     "metadata": {},
     "output_type": "display_data"
    },
    {
     "data": {
      "application/vnd.jupyter.widget-view+json": {
       "model_id": "",
       "version_major": 2,
       "version_minor": 0
      },
      "text/plain": [
       "Updating:   0%|          | 0/100 [00:00<?, ?it/s]"
      ]
     },
     "metadata": {},
     "output_type": "display_data"
    },
    {
     "data": {
      "application/vnd.jupyter.widget-view+json": {
       "model_id": "",
       "version_major": 2,
       "version_minor": 0
      },
      "text/plain": [
       "Updating:   0%|          | 0/100 [00:00<?, ?it/s]"
      ]
     },
     "metadata": {},
     "output_type": "display_data"
    },
    {
     "data": {
      "application/vnd.jupyter.widget-view+json": {
       "model_id": "",
       "version_major": 2,
       "version_minor": 0
      },
      "text/plain": [
       "Updating:   0%|          | 0/100 [00:00<?, ?it/s]"
      ]
     },
     "metadata": {},
     "output_type": "display_data"
    },
    {
     "data": {
      "application/vnd.jupyter.widget-view+json": {
       "model_id": "",
       "version_major": 2,
       "version_minor": 0
      },
      "text/plain": [
       "Updating:   0%|          | 0/100 [00:00<?, ?it/s]"
      ]
     },
     "metadata": {},
     "output_type": "display_data"
    },
    {
     "data": {
      "application/vnd.jupyter.widget-view+json": {
       "model_id": "",
       "version_major": 2,
       "version_minor": 0
      },
      "text/plain": [
       "Updating:   0%|          | 0/100 [00:00<?, ?it/s]"
      ]
     },
     "metadata": {},
     "output_type": "display_data"
    },
    {
     "data": {
      "application/vnd.jupyter.widget-view+json": {
       "model_id": "",
       "version_major": 2,
       "version_minor": 0
      },
      "text/plain": [
       "Updating:   0%|          | 0/100 [00:00<?, ?it/s]"
      ]
     },
     "metadata": {},
     "output_type": "display_data"
    },
    {
     "data": {
      "application/vnd.jupyter.widget-view+json": {
       "model_id": "",
       "version_major": 2,
       "version_minor": 0
      },
      "text/plain": [
       "Updating:   0%|          | 0/100 [00:00<?, ?it/s]"
      ]
     },
     "metadata": {},
     "output_type": "display_data"
    },
    {
     "data": {
      "application/vnd.jupyter.widget-view+json": {
       "model_id": "",
       "version_major": 2,
       "version_minor": 0
      },
      "text/plain": [
       "Updating:   0%|          | 0/100 [00:00<?, ?it/s]"
      ]
     },
     "metadata": {},
     "output_type": "display_data"
    },
    {
     "name": "stdout",
     "output_type": "stream",
     "text": [
      "185\n"
     ]
    },
    {
     "data": {
      "application/vnd.jupyter.widget-view+json": {
       "model_id": "",
       "version_major": 2,
       "version_minor": 0
      },
      "text/plain": [
       "Updating:   0%|          | 0/100 [00:00<?, ?it/s]"
      ]
     },
     "metadata": {},
     "output_type": "display_data"
    },
    {
     "data": {
      "application/vnd.jupyter.widget-view+json": {
       "model_id": "",
       "version_major": 2,
       "version_minor": 0
      },
      "text/plain": [
       "Updating:   0%|          | 0/100 [00:00<?, ?it/s]"
      ]
     },
     "metadata": {},
     "output_type": "display_data"
    },
    {
     "data": {
      "application/vnd.jupyter.widget-view+json": {
       "model_id": "",
       "version_major": 2,
       "version_minor": 0
      },
      "text/plain": [
       "Updating:   0%|          | 0/100 [00:00<?, ?it/s]"
      ]
     },
     "metadata": {},
     "output_type": "display_data"
    },
    {
     "data": {
      "application/vnd.jupyter.widget-view+json": {
       "model_id": "",
       "version_major": 2,
       "version_minor": 0
      },
      "text/plain": [
       "Updating:   0%|          | 0/100 [00:00<?, ?it/s]"
      ]
     },
     "metadata": {},
     "output_type": "display_data"
    },
    {
     "data": {
      "application/vnd.jupyter.widget-view+json": {
       "model_id": "",
       "version_major": 2,
       "version_minor": 0
      },
      "text/plain": [
       "Updating:   0%|          | 0/100 [00:00<?, ?it/s]"
      ]
     },
     "metadata": {},
     "output_type": "display_data"
    },
    {
     "data": {
      "application/vnd.jupyter.widget-view+json": {
       "model_id": "",
       "version_major": 2,
       "version_minor": 0
      },
      "text/plain": [
       "Updating:   0%|          | 0/100 [00:00<?, ?it/s]"
      ]
     },
     "metadata": {},
     "output_type": "display_data"
    },
    {
     "data": {
      "application/vnd.jupyter.widget-view+json": {
       "model_id": "",
       "version_major": 2,
       "version_minor": 0
      },
      "text/plain": [
       "Updating:   0%|          | 0/100 [00:00<?, ?it/s]"
      ]
     },
     "metadata": {},
     "output_type": "display_data"
    },
    {
     "data": {
      "application/vnd.jupyter.widget-view+json": {
       "model_id": "",
       "version_major": 2,
       "version_minor": 0
      },
      "text/plain": [
       "Updating:   0%|          | 0/100 [00:00<?, ?it/s]"
      ]
     },
     "metadata": {},
     "output_type": "display_data"
    },
    {
     "data": {
      "application/vnd.jupyter.widget-view+json": {
       "model_id": "",
       "version_major": 2,
       "version_minor": 0
      },
      "text/plain": [
       "Updating:   0%|          | 0/100 [00:00<?, ?it/s]"
      ]
     },
     "metadata": {},
     "output_type": "display_data"
    },
    {
     "data": {
      "application/vnd.jupyter.widget-view+json": {
       "model_id": "",
       "version_major": 2,
       "version_minor": 0
      },
      "text/plain": [
       "Updating:   0%|          | 0/100 [00:00<?, ?it/s]"
      ]
     },
     "metadata": {},
     "output_type": "display_data"
    },
    {
     "name": "stdout",
     "output_type": "stream",
     "text": [
      "190\n"
     ]
    },
    {
     "data": {
      "application/vnd.jupyter.widget-view+json": {
       "model_id": "",
       "version_major": 2,
       "version_minor": 0
      },
      "text/plain": [
       "Updating:   0%|          | 0/100 [00:00<?, ?it/s]"
      ]
     },
     "metadata": {},
     "output_type": "display_data"
    },
    {
     "data": {
      "application/vnd.jupyter.widget-view+json": {
       "model_id": "",
       "version_major": 2,
       "version_minor": 0
      },
      "text/plain": [
       "Updating:   0%|          | 0/100 [00:00<?, ?it/s]"
      ]
     },
     "metadata": {},
     "output_type": "display_data"
    },
    {
     "data": {
      "application/vnd.jupyter.widget-view+json": {
       "model_id": "",
       "version_major": 2,
       "version_minor": 0
      },
      "text/plain": [
       "Updating:   0%|          | 0/100 [00:00<?, ?it/s]"
      ]
     },
     "metadata": {},
     "output_type": "display_data"
    },
    {
     "data": {
      "application/vnd.jupyter.widget-view+json": {
       "model_id": "",
       "version_major": 2,
       "version_minor": 0
      },
      "text/plain": [
       "Updating:   0%|          | 0/100 [00:00<?, ?it/s]"
      ]
     },
     "metadata": {},
     "output_type": "display_data"
    },
    {
     "data": {
      "application/vnd.jupyter.widget-view+json": {
       "model_id": "",
       "version_major": 2,
       "version_minor": 0
      },
      "text/plain": [
       "Updating:   0%|          | 0/100 [00:00<?, ?it/s]"
      ]
     },
     "metadata": {},
     "output_type": "display_data"
    },
    {
     "data": {
      "application/vnd.jupyter.widget-view+json": {
       "model_id": "",
       "version_major": 2,
       "version_minor": 0
      },
      "text/plain": [
       "Updating:   0%|          | 0/100 [00:00<?, ?it/s]"
      ]
     },
     "metadata": {},
     "output_type": "display_data"
    },
    {
     "data": {
      "application/vnd.jupyter.widget-view+json": {
       "model_id": "",
       "version_major": 2,
       "version_minor": 0
      },
      "text/plain": [
       "Updating:   0%|          | 0/100 [00:00<?, ?it/s]"
      ]
     },
     "metadata": {},
     "output_type": "display_data"
    },
    {
     "data": {
      "application/vnd.jupyter.widget-view+json": {
       "model_id": "",
       "version_major": 2,
       "version_minor": 0
      },
      "text/plain": [
       "Updating:   0%|          | 0/100 [00:00<?, ?it/s]"
      ]
     },
     "metadata": {},
     "output_type": "display_data"
    },
    {
     "data": {
      "application/vnd.jupyter.widget-view+json": {
       "model_id": "",
       "version_major": 2,
       "version_minor": 0
      },
      "text/plain": [
       "Updating:   0%|          | 0/100 [00:00<?, ?it/s]"
      ]
     },
     "metadata": {},
     "output_type": "display_data"
    },
    {
     "data": {
      "application/vnd.jupyter.widget-view+json": {
       "model_id": "",
       "version_major": 2,
       "version_minor": 0
      },
      "text/plain": [
       "Updating:   0%|          | 0/100 [00:00<?, ?it/s]"
      ]
     },
     "metadata": {},
     "output_type": "display_data"
    },
    {
     "name": "stdout",
     "output_type": "stream",
     "text": [
      "195\n"
     ]
    },
    {
     "data": {
      "application/vnd.jupyter.widget-view+json": {
       "model_id": "",
       "version_major": 2,
       "version_minor": 0
      },
      "text/plain": [
       "Updating:   0%|          | 0/100 [00:00<?, ?it/s]"
      ]
     },
     "metadata": {},
     "output_type": "display_data"
    },
    {
     "data": {
      "application/vnd.jupyter.widget-view+json": {
       "model_id": "",
       "version_major": 2,
       "version_minor": 0
      },
      "text/plain": [
       "Updating:   0%|          | 0/100 [00:00<?, ?it/s]"
      ]
     },
     "metadata": {},
     "output_type": "display_data"
    },
    {
     "data": {
      "application/vnd.jupyter.widget-view+json": {
       "model_id": "",
       "version_major": 2,
       "version_minor": 0
      },
      "text/plain": [
       "Updating:   0%|          | 0/100 [00:00<?, ?it/s]"
      ]
     },
     "metadata": {},
     "output_type": "display_data"
    },
    {
     "data": {
      "application/vnd.jupyter.widget-view+json": {
       "model_id": "",
       "version_major": 2,
       "version_minor": 0
      },
      "text/plain": [
       "Updating:   0%|          | 0/100 [00:00<?, ?it/s]"
      ]
     },
     "metadata": {},
     "output_type": "display_data"
    },
    {
     "data": {
      "application/vnd.jupyter.widget-view+json": {
       "model_id": "",
       "version_major": 2,
       "version_minor": 0
      },
      "text/plain": [
       "Updating:   0%|          | 0/100 [00:00<?, ?it/s]"
      ]
     },
     "metadata": {},
     "output_type": "display_data"
    },
    {
     "data": {
      "application/vnd.jupyter.widget-view+json": {
       "model_id": "",
       "version_major": 2,
       "version_minor": 0
      },
      "text/plain": [
       "Updating:   0%|          | 0/100 [00:00<?, ?it/s]"
      ]
     },
     "metadata": {},
     "output_type": "display_data"
    },
    {
     "data": {
      "application/vnd.jupyter.widget-view+json": {
       "model_id": "",
       "version_major": 2,
       "version_minor": 0
      },
      "text/plain": [
       "Updating:   0%|          | 0/100 [00:00<?, ?it/s]"
      ]
     },
     "metadata": {},
     "output_type": "display_data"
    },
    {
     "data": {
      "application/vnd.jupyter.widget-view+json": {
       "model_id": "",
       "version_major": 2,
       "version_minor": 0
      },
      "text/plain": [
       "Updating:   0%|          | 0/100 [00:00<?, ?it/s]"
      ]
     },
     "metadata": {},
     "output_type": "display_data"
    },
    {
     "data": {
      "application/vnd.jupyter.widget-view+json": {
       "model_id": "",
       "version_major": 2,
       "version_minor": 0
      },
      "text/plain": [
       "Updating:   0%|          | 0/100 [00:00<?, ?it/s]"
      ]
     },
     "metadata": {},
     "output_type": "display_data"
    },
    {
     "data": {
      "application/vnd.jupyter.widget-view+json": {
       "model_id": "",
       "version_major": 2,
       "version_minor": 0
      },
      "text/plain": [
       "Updating:   0%|          | 0/100 [00:00<?, ?it/s]"
      ]
     },
     "metadata": {},
     "output_type": "display_data"
    },
    {
     "name": "stdout",
     "output_type": "stream",
     "text": [
      "200\n"
     ]
    },
    {
     "data": {
      "application/vnd.jupyter.widget-view+json": {
       "model_id": "",
       "version_major": 2,
       "version_minor": 0
      },
      "text/plain": [
       "Updating:   0%|          | 0/100 [00:00<?, ?it/s]"
      ]
     },
     "metadata": {},
     "output_type": "display_data"
    },
    {
     "data": {
      "application/vnd.jupyter.widget-view+json": {
       "model_id": "",
       "version_major": 2,
       "version_minor": 0
      },
      "text/plain": [
       "Updating:   0%|          | 0/100 [00:00<?, ?it/s]"
      ]
     },
     "metadata": {},
     "output_type": "display_data"
    },
    {
     "data": {
      "application/vnd.jupyter.widget-view+json": {
       "model_id": "",
       "version_major": 2,
       "version_minor": 0
      },
      "text/plain": [
       "Updating:   0%|          | 0/100 [00:00<?, ?it/s]"
      ]
     },
     "metadata": {},
     "output_type": "display_data"
    },
    {
     "data": {
      "application/vnd.jupyter.widget-view+json": {
       "model_id": "",
       "version_major": 2,
       "version_minor": 0
      },
      "text/plain": [
       "Updating:   0%|          | 0/100 [00:00<?, ?it/s]"
      ]
     },
     "metadata": {},
     "output_type": "display_data"
    },
    {
     "data": {
      "application/vnd.jupyter.widget-view+json": {
       "model_id": "",
       "version_major": 2,
       "version_minor": 0
      },
      "text/plain": [
       "Updating:   0%|          | 0/100 [00:00<?, ?it/s]"
      ]
     },
     "metadata": {},
     "output_type": "display_data"
    },
    {
     "data": {
      "application/vnd.jupyter.widget-view+json": {
       "model_id": "",
       "version_major": 2,
       "version_minor": 0
      },
      "text/plain": [
       "Updating:   0%|          | 0/100 [00:00<?, ?it/s]"
      ]
     },
     "metadata": {},
     "output_type": "display_data"
    },
    {
     "data": {
      "application/vnd.jupyter.widget-view+json": {
       "model_id": "",
       "version_major": 2,
       "version_minor": 0
      },
      "text/plain": [
       "Updating:   0%|          | 0/100 [00:00<?, ?it/s]"
      ]
     },
     "metadata": {},
     "output_type": "display_data"
    },
    {
     "data": {
      "application/vnd.jupyter.widget-view+json": {
       "model_id": "",
       "version_major": 2,
       "version_minor": 0
      },
      "text/plain": [
       "Updating:   0%|          | 0/100 [00:00<?, ?it/s]"
      ]
     },
     "metadata": {},
     "output_type": "display_data"
    },
    {
     "data": {
      "application/vnd.jupyter.widget-view+json": {
       "model_id": "",
       "version_major": 2,
       "version_minor": 0
      },
      "text/plain": [
       "Updating:   0%|          | 0/100 [00:00<?, ?it/s]"
      ]
     },
     "metadata": {},
     "output_type": "display_data"
    },
    {
     "data": {
      "application/vnd.jupyter.widget-view+json": {
       "model_id": "",
       "version_major": 2,
       "version_minor": 0
      },
      "text/plain": [
       "Updating:   0%|          | 0/100 [00:00<?, ?it/s]"
      ]
     },
     "metadata": {},
     "output_type": "display_data"
    },
    {
     "name": "stdout",
     "output_type": "stream",
     "text": [
      "205\n"
     ]
    },
    {
     "data": {
      "application/vnd.jupyter.widget-view+json": {
       "model_id": "",
       "version_major": 2,
       "version_minor": 0
      },
      "text/plain": [
       "Updating:   0%|          | 0/100 [00:00<?, ?it/s]"
      ]
     },
     "metadata": {},
     "output_type": "display_data"
    },
    {
     "data": {
      "application/vnd.jupyter.widget-view+json": {
       "model_id": "",
       "version_major": 2,
       "version_minor": 0
      },
      "text/plain": [
       "Updating:   0%|          | 0/100 [00:00<?, ?it/s]"
      ]
     },
     "metadata": {},
     "output_type": "display_data"
    },
    {
     "data": {
      "application/vnd.jupyter.widget-view+json": {
       "model_id": "",
       "version_major": 2,
       "version_minor": 0
      },
      "text/plain": [
       "Updating:   0%|          | 0/100 [00:00<?, ?it/s]"
      ]
     },
     "metadata": {},
     "output_type": "display_data"
    },
    {
     "data": {
      "application/vnd.jupyter.widget-view+json": {
       "model_id": "",
       "version_major": 2,
       "version_minor": 0
      },
      "text/plain": [
       "Updating:   0%|          | 0/100 [00:00<?, ?it/s]"
      ]
     },
     "metadata": {},
     "output_type": "display_data"
    },
    {
     "data": {
      "application/vnd.jupyter.widget-view+json": {
       "model_id": "",
       "version_major": 2,
       "version_minor": 0
      },
      "text/plain": [
       "Updating:   0%|          | 0/100 [00:00<?, ?it/s]"
      ]
     },
     "metadata": {},
     "output_type": "display_data"
    },
    {
     "data": {
      "application/vnd.jupyter.widget-view+json": {
       "model_id": "",
       "version_major": 2,
       "version_minor": 0
      },
      "text/plain": [
       "Updating:   0%|          | 0/100 [00:00<?, ?it/s]"
      ]
     },
     "metadata": {},
     "output_type": "display_data"
    },
    {
     "data": {
      "application/vnd.jupyter.widget-view+json": {
       "model_id": "",
       "version_major": 2,
       "version_minor": 0
      },
      "text/plain": [
       "Updating:   0%|          | 0/100 [00:00<?, ?it/s]"
      ]
     },
     "metadata": {},
     "output_type": "display_data"
    },
    {
     "data": {
      "application/vnd.jupyter.widget-view+json": {
       "model_id": "",
       "version_major": 2,
       "version_minor": 0
      },
      "text/plain": [
       "Updating:   0%|          | 0/100 [00:00<?, ?it/s]"
      ]
     },
     "metadata": {},
     "output_type": "display_data"
    },
    {
     "data": {
      "application/vnd.jupyter.widget-view+json": {
       "model_id": "",
       "version_major": 2,
       "version_minor": 0
      },
      "text/plain": [
       "Updating:   0%|          | 0/100 [00:00<?, ?it/s]"
      ]
     },
     "metadata": {},
     "output_type": "display_data"
    },
    {
     "data": {
      "application/vnd.jupyter.widget-view+json": {
       "model_id": "",
       "version_major": 2,
       "version_minor": 0
      },
      "text/plain": [
       "Updating:   0%|          | 0/100 [00:00<?, ?it/s]"
      ]
     },
     "metadata": {},
     "output_type": "display_data"
    },
    {
     "name": "stdout",
     "output_type": "stream",
     "text": [
      "210\n"
     ]
    },
    {
     "data": {
      "application/vnd.jupyter.widget-view+json": {
       "model_id": "",
       "version_major": 2,
       "version_minor": 0
      },
      "text/plain": [
       "Updating:   0%|          | 0/100 [00:00<?, ?it/s]"
      ]
     },
     "metadata": {},
     "output_type": "display_data"
    },
    {
     "data": {
      "application/vnd.jupyter.widget-view+json": {
       "model_id": "",
       "version_major": 2,
       "version_minor": 0
      },
      "text/plain": [
       "Updating:   0%|          | 0/100 [00:00<?, ?it/s]"
      ]
     },
     "metadata": {},
     "output_type": "display_data"
    },
    {
     "data": {
      "application/vnd.jupyter.widget-view+json": {
       "model_id": "",
       "version_major": 2,
       "version_minor": 0
      },
      "text/plain": [
       "Updating:   0%|          | 0/100 [00:00<?, ?it/s]"
      ]
     },
     "metadata": {},
     "output_type": "display_data"
    },
    {
     "data": {
      "application/vnd.jupyter.widget-view+json": {
       "model_id": "",
       "version_major": 2,
       "version_minor": 0
      },
      "text/plain": [
       "Updating:   0%|          | 0/100 [00:00<?, ?it/s]"
      ]
     },
     "metadata": {},
     "output_type": "display_data"
    },
    {
     "data": {
      "application/vnd.jupyter.widget-view+json": {
       "model_id": "",
       "version_major": 2,
       "version_minor": 0
      },
      "text/plain": [
       "Updating:   0%|          | 0/100 [00:00<?, ?it/s]"
      ]
     },
     "metadata": {},
     "output_type": "display_data"
    },
    {
     "data": {
      "application/vnd.jupyter.widget-view+json": {
       "model_id": "",
       "version_major": 2,
       "version_minor": 0
      },
      "text/plain": [
       "Updating:   0%|          | 0/100 [00:00<?, ?it/s]"
      ]
     },
     "metadata": {},
     "output_type": "display_data"
    },
    {
     "data": {
      "application/vnd.jupyter.widget-view+json": {
       "model_id": "",
       "version_major": 2,
       "version_minor": 0
      },
      "text/plain": [
       "Updating:   0%|          | 0/100 [00:00<?, ?it/s]"
      ]
     },
     "metadata": {},
     "output_type": "display_data"
    },
    {
     "data": {
      "application/vnd.jupyter.widget-view+json": {
       "model_id": "",
       "version_major": 2,
       "version_minor": 0
      },
      "text/plain": [
       "Updating:   0%|          | 0/100 [00:00<?, ?it/s]"
      ]
     },
     "metadata": {},
     "output_type": "display_data"
    },
    {
     "data": {
      "application/vnd.jupyter.widget-view+json": {
       "model_id": "",
       "version_major": 2,
       "version_minor": 0
      },
      "text/plain": [
       "Updating:   0%|          | 0/100 [00:00<?, ?it/s]"
      ]
     },
     "metadata": {},
     "output_type": "display_data"
    },
    {
     "data": {
      "application/vnd.jupyter.widget-view+json": {
       "model_id": "",
       "version_major": 2,
       "version_minor": 0
      },
      "text/plain": [
       "Updating:   0%|          | 0/100 [00:00<?, ?it/s]"
      ]
     },
     "metadata": {},
     "output_type": "display_data"
    },
    {
     "name": "stdout",
     "output_type": "stream",
     "text": [
      "215\n"
     ]
    },
    {
     "data": {
      "application/vnd.jupyter.widget-view+json": {
       "model_id": "",
       "version_major": 2,
       "version_minor": 0
      },
      "text/plain": [
       "Updating:   0%|          | 0/100 [00:00<?, ?it/s]"
      ]
     },
     "metadata": {},
     "output_type": "display_data"
    },
    {
     "data": {
      "application/vnd.jupyter.widget-view+json": {
       "model_id": "",
       "version_major": 2,
       "version_minor": 0
      },
      "text/plain": [
       "Updating:   0%|          | 0/100 [00:00<?, ?it/s]"
      ]
     },
     "metadata": {},
     "output_type": "display_data"
    },
    {
     "data": {
      "application/vnd.jupyter.widget-view+json": {
       "model_id": "",
       "version_major": 2,
       "version_minor": 0
      },
      "text/plain": [
       "Updating:   0%|          | 0/100 [00:00<?, ?it/s]"
      ]
     },
     "metadata": {},
     "output_type": "display_data"
    },
    {
     "data": {
      "application/vnd.jupyter.widget-view+json": {
       "model_id": "",
       "version_major": 2,
       "version_minor": 0
      },
      "text/plain": [
       "Updating:   0%|          | 0/100 [00:00<?, ?it/s]"
      ]
     },
     "metadata": {},
     "output_type": "display_data"
    },
    {
     "data": {
      "application/vnd.jupyter.widget-view+json": {
       "model_id": "",
       "version_major": 2,
       "version_minor": 0
      },
      "text/plain": [
       "Updating:   0%|          | 0/100 [00:00<?, ?it/s]"
      ]
     },
     "metadata": {},
     "output_type": "display_data"
    },
    {
     "data": {
      "application/vnd.jupyter.widget-view+json": {
       "model_id": "",
       "version_major": 2,
       "version_minor": 0
      },
      "text/plain": [
       "Updating:   0%|          | 0/100 [00:00<?, ?it/s]"
      ]
     },
     "metadata": {},
     "output_type": "display_data"
    },
    {
     "data": {
      "application/vnd.jupyter.widget-view+json": {
       "model_id": "",
       "version_major": 2,
       "version_minor": 0
      },
      "text/plain": [
       "Updating:   0%|          | 0/100 [00:00<?, ?it/s]"
      ]
     },
     "metadata": {},
     "output_type": "display_data"
    },
    {
     "data": {
      "application/vnd.jupyter.widget-view+json": {
       "model_id": "",
       "version_major": 2,
       "version_minor": 0
      },
      "text/plain": [
       "Updating:   0%|          | 0/100 [00:00<?, ?it/s]"
      ]
     },
     "metadata": {},
     "output_type": "display_data"
    },
    {
     "data": {
      "application/vnd.jupyter.widget-view+json": {
       "model_id": "",
       "version_major": 2,
       "version_minor": 0
      },
      "text/plain": [
       "Updating:   0%|          | 0/100 [00:00<?, ?it/s]"
      ]
     },
     "metadata": {},
     "output_type": "display_data"
    },
    {
     "data": {
      "application/vnd.jupyter.widget-view+json": {
       "model_id": "",
       "version_major": 2,
       "version_minor": 0
      },
      "text/plain": [
       "Updating:   0%|          | 0/100 [00:00<?, ?it/s]"
      ]
     },
     "metadata": {},
     "output_type": "display_data"
    },
    {
     "name": "stdout",
     "output_type": "stream",
     "text": [
      "220\n"
     ]
    },
    {
     "data": {
      "application/vnd.jupyter.widget-view+json": {
       "model_id": "",
       "version_major": 2,
       "version_minor": 0
      },
      "text/plain": [
       "Updating:   0%|          | 0/100 [00:00<?, ?it/s]"
      ]
     },
     "metadata": {},
     "output_type": "display_data"
    },
    {
     "data": {
      "application/vnd.jupyter.widget-view+json": {
       "model_id": "",
       "version_major": 2,
       "version_minor": 0
      },
      "text/plain": [
       "Updating:   0%|          | 0/100 [00:00<?, ?it/s]"
      ]
     },
     "metadata": {},
     "output_type": "display_data"
    },
    {
     "data": {
      "application/vnd.jupyter.widget-view+json": {
       "model_id": "",
       "version_major": 2,
       "version_minor": 0
      },
      "text/plain": [
       "Updating:   0%|          | 0/100 [00:00<?, ?it/s]"
      ]
     },
     "metadata": {},
     "output_type": "display_data"
    },
    {
     "data": {
      "application/vnd.jupyter.widget-view+json": {
       "model_id": "",
       "version_major": 2,
       "version_minor": 0
      },
      "text/plain": [
       "Updating:   0%|          | 0/100 [00:00<?, ?it/s]"
      ]
     },
     "metadata": {},
     "output_type": "display_data"
    },
    {
     "data": {
      "application/vnd.jupyter.widget-view+json": {
       "model_id": "",
       "version_major": 2,
       "version_minor": 0
      },
      "text/plain": [
       "Updating:   0%|          | 0/100 [00:00<?, ?it/s]"
      ]
     },
     "metadata": {},
     "output_type": "display_data"
    },
    {
     "data": {
      "application/vnd.jupyter.widget-view+json": {
       "model_id": "",
       "version_major": 2,
       "version_minor": 0
      },
      "text/plain": [
       "Updating:   0%|          | 0/100 [00:00<?, ?it/s]"
      ]
     },
     "metadata": {},
     "output_type": "display_data"
    },
    {
     "data": {
      "application/vnd.jupyter.widget-view+json": {
       "model_id": "",
       "version_major": 2,
       "version_minor": 0
      },
      "text/plain": [
       "Updating:   0%|          | 0/100 [00:00<?, ?it/s]"
      ]
     },
     "metadata": {},
     "output_type": "display_data"
    },
    {
     "data": {
      "application/vnd.jupyter.widget-view+json": {
       "model_id": "",
       "version_major": 2,
       "version_minor": 0
      },
      "text/plain": [
       "Updating:   0%|          | 0/100 [00:00<?, ?it/s]"
      ]
     },
     "metadata": {},
     "output_type": "display_data"
    },
    {
     "data": {
      "application/vnd.jupyter.widget-view+json": {
       "model_id": "",
       "version_major": 2,
       "version_minor": 0
      },
      "text/plain": [
       "Updating:   0%|          | 0/100 [00:00<?, ?it/s]"
      ]
     },
     "metadata": {},
     "output_type": "display_data"
    },
    {
     "data": {
      "application/vnd.jupyter.widget-view+json": {
       "model_id": "",
       "version_major": 2,
       "version_minor": 0
      },
      "text/plain": [
       "Updating:   0%|          | 0/100 [00:00<?, ?it/s]"
      ]
     },
     "metadata": {},
     "output_type": "display_data"
    },
    {
     "name": "stdout",
     "output_type": "stream",
     "text": [
      "225\n"
     ]
    },
    {
     "data": {
      "application/vnd.jupyter.widget-view+json": {
       "model_id": "",
       "version_major": 2,
       "version_minor": 0
      },
      "text/plain": [
       "Updating:   0%|          | 0/100 [00:00<?, ?it/s]"
      ]
     },
     "metadata": {},
     "output_type": "display_data"
    },
    {
     "data": {
      "application/vnd.jupyter.widget-view+json": {
       "model_id": "",
       "version_major": 2,
       "version_minor": 0
      },
      "text/plain": [
       "Updating:   0%|          | 0/100 [00:00<?, ?it/s]"
      ]
     },
     "metadata": {},
     "output_type": "display_data"
    },
    {
     "data": {
      "application/vnd.jupyter.widget-view+json": {
       "model_id": "",
       "version_major": 2,
       "version_minor": 0
      },
      "text/plain": [
       "Updating:   0%|          | 0/100 [00:00<?, ?it/s]"
      ]
     },
     "metadata": {},
     "output_type": "display_data"
    },
    {
     "data": {
      "application/vnd.jupyter.widget-view+json": {
       "model_id": "",
       "version_major": 2,
       "version_minor": 0
      },
      "text/plain": [
       "Updating:   0%|          | 0/100 [00:00<?, ?it/s]"
      ]
     },
     "metadata": {},
     "output_type": "display_data"
    },
    {
     "data": {
      "application/vnd.jupyter.widget-view+json": {
       "model_id": "",
       "version_major": 2,
       "version_minor": 0
      },
      "text/plain": [
       "Updating:   0%|          | 0/100 [00:00<?, ?it/s]"
      ]
     },
     "metadata": {},
     "output_type": "display_data"
    },
    {
     "data": {
      "application/vnd.jupyter.widget-view+json": {
       "model_id": "",
       "version_major": 2,
       "version_minor": 0
      },
      "text/plain": [
       "Updating:   0%|          | 0/100 [00:00<?, ?it/s]"
      ]
     },
     "metadata": {},
     "output_type": "display_data"
    },
    {
     "data": {
      "application/vnd.jupyter.widget-view+json": {
       "model_id": "",
       "version_major": 2,
       "version_minor": 0
      },
      "text/plain": [
       "Updating:   0%|          | 0/100 [00:00<?, ?it/s]"
      ]
     },
     "metadata": {},
     "output_type": "display_data"
    },
    {
     "data": {
      "application/vnd.jupyter.widget-view+json": {
       "model_id": "",
       "version_major": 2,
       "version_minor": 0
      },
      "text/plain": [
       "Updating:   0%|          | 0/100 [00:00<?, ?it/s]"
      ]
     },
     "metadata": {},
     "output_type": "display_data"
    },
    {
     "data": {
      "application/vnd.jupyter.widget-view+json": {
       "model_id": "",
       "version_major": 2,
       "version_minor": 0
      },
      "text/plain": [
       "Updating:   0%|          | 0/100 [00:00<?, ?it/s]"
      ]
     },
     "metadata": {},
     "output_type": "display_data"
    },
    {
     "data": {
      "application/vnd.jupyter.widget-view+json": {
       "model_id": "",
       "version_major": 2,
       "version_minor": 0
      },
      "text/plain": [
       "Updating:   0%|          | 0/100 [00:00<?, ?it/s]"
      ]
     },
     "metadata": {},
     "output_type": "display_data"
    },
    {
     "name": "stdout",
     "output_type": "stream",
     "text": [
      "230\n"
     ]
    },
    {
     "data": {
      "application/vnd.jupyter.widget-view+json": {
       "model_id": "",
       "version_major": 2,
       "version_minor": 0
      },
      "text/plain": [
       "Updating:   0%|          | 0/96 [00:00<?, ?it/s]"
      ]
     },
     "metadata": {},
     "output_type": "display_data"
    },
    {
     "data": {
      "application/vnd.jupyter.widget-view+json": {
       "model_id": "",
       "version_major": 2,
       "version_minor": 0
      },
      "text/plain": [
       "Updating:   0%|          | 0/96 [00:00<?, ?it/s]"
      ]
     },
     "metadata": {},
     "output_type": "display_data"
    }
   ],
   "source": [
    "#Updating segments (trying to update in loops to not collapse the server)\n",
    "\n",
    "confidence_of_update_pre = []\n",
    "confidence_of_update_post = []\n",
    "updated_presynaptic_ID_column = []\n",
    "updated_postsynaptic_ID_column = []\n",
    "pre_ID_i = 0\n",
    "post_ID_i = 0\n",
    "rounds_of = 100\n",
    "curr_round = 0\n",
    "print(f'Total rounds to perform: {math.ceil((len(pre_IDs)/rounds_of))}')\n",
    "\n",
    "for i in range(0,math.ceil((len(pre_IDs)/rounds_of))):\n",
    "    curr_round += 1\n",
    "    \n",
    "    #pre_IDs\n",
    "    curr_pre_IDs = pre_IDs[pre_ID_i:pre_ID_i+rounds_of]\n",
    "    temp_segmentIDs_df = flywire.update_ids(curr_pre_IDs.tolist(), stop_layer=2, supervoxels=None, timestamp=None, dataset='production', progress=True)\n",
    "    updated_presynaptic_ID_column.append(temp_segmentIDs_df[\"new_id\"].tolist())\n",
    "    confidence_of_update_pre.append(temp_segmentIDs_df[\"confidence\"].tolist())\n",
    "    pre_ID_i +=rounds_of\n",
    "    \n",
    "    #post_IDs\n",
    "    curr_post_IDs = post_IDs[post_ID_i:post_ID_i+rounds_of]\n",
    "    temp_segmentIDs_df = flywire.update_ids(curr_post_IDs.tolist(), stop_layer=2, supervoxels=None, timestamp=None, dataset='production', progress=True)\n",
    "    updated_postsynaptic_ID_column.append(temp_segmentIDs_df[\"new_id\"].tolist())\n",
    "    confidence_of_update_post.append(temp_segmentIDs_df[\"confidence\"].tolist())\n",
    "    post_ID_i +=rounds_of\n",
    "    \n",
    "    if curr_round%5 == 0: #printing current round every 5 rounds\n",
    "        print(curr_round)\n",
    "\n",
    "updated_presynaptic_ID_column = list(itertools.chain.from_iterable(updated_presynaptic_ID_column))\n",
    "updated_postsynaptic_ID_column = list(itertools.chain.from_iterable(updated_postsynaptic_ID_column))\n",
    "confidence_of_update_pre = list(itertools.chain.from_iterable(confidence_of_update_pre))\n",
    "confidence_of_update_post = list(itertools.chain.from_iterable(confidence_of_update_post))"
   ]
  },
  {
   "cell_type": "markdown",
   "id": "de911614",
   "metadata": {},
   "source": [
    "### 2. Updating IDs considering our excel file extructure (old and slow version) - DO NOT USE -"
   ]
  },
  {
   "cell_type": "markdown",
   "id": "02d2643e",
   "metadata": {},
   "source": [
    "Updating segments will be slow since we do it in a loop. Please just run this part if you really consider that the IDs in which your are mostly interested in need an update"
   ]
  },
  {
   "cell_type": "code",
   "execution_count": null,
   "id": "f25de4ea",
   "metadata": {
    "scrolled": false
   },
   "outputs": [],
   "source": [
    "#Updating segments \n",
    "updated_presynaptic_ID_column = []\n",
    "confidence_of_update = []\n",
    "count = 1\n",
    "for id in pre_IDs:\n",
    "    count =+ 1\n",
    "    if id == 'INPUTS PROOFREAD':\n",
    "        updated_presynaptic_ID_column.append('INPUTS PROOFREAD')\n",
    "        confidence_of_update.append('INPUTS PROOFREAD')\n",
    "    else:\n",
    "        temp_segmentIDs_df = flywire.update_ids(id, stop_layer=2, supervoxels=None, timestamp=None, dataset='production', progress=True)\n",
    "        updated_presynaptic_ID_column.append(str(temp_segmentIDs_df[\"new_id\"][0]))\n",
    "        confidence_of_update.append(temp_segmentIDs_df[\"confidence\"][0])\n",
    "    print(f'row: {count} {updated_presynaptic_ID_column[-1]}')\n",
    "    "
   ]
  },
  {
   "cell_type": "markdown",
   "id": "75ab5d14",
   "metadata": {},
   "source": [
    "### 2.1 Adding important columns for next steps"
   ]
  },
  {
   "cell_type": "code",
   "execution_count": 34,
   "id": "f4bef476",
   "metadata": {},
   "outputs": [],
   "source": [
    "### Setting important columns to str\n",
    "df[\"presynaptic_ID\"] = df[\"presynaptic_ID\"].astype(str)\n",
    "df[\"postsynaptic_ID\"] = df[\"postsynaptic_ID\"].astype(str)\n",
    "df[\"seg_id\"] = df[\"seg_id\"].astype(str)"
   ]
  },
  {
   "cell_type": "code",
   "execution_count": 35,
   "id": "7988dece",
   "metadata": {},
   "outputs": [],
   "source": [
    "### Updating the dataframe\n",
    "# Adding the new url column to the data frame\n",
    "df[\"Updated_presynaptic_ID\"] = updated_presynaptic_ID_column\n",
    "df[\"Updated_presynaptic_ID\"] = df[\"Updated_presynaptic_ID\"].astype(str) \n",
    "df[\"Updated_postsynaptic_ID\"] = updated_postsynaptic_ID_column\n",
    "df[\"Updated_postsynaptic_ID\"] = df[\"Updated_postsynaptic_ID\"].astype(str) \n",
    "df[\"Update_confidence_pre\"] = confidence_of_update_pre\n",
    "df[\"Update_confidence_post\"] = confidence_of_update_post"
   ]
  },
  {
   "cell_type": "code",
   "execution_count": 16,
   "id": "1d8341a7",
   "metadata": {},
   "outputs": [
    {
     "data": {
      "text/plain": [
       "23096"
      ]
     },
     "execution_count": 16,
     "metadata": {},
     "output_type": "execute_result"
    }
   ],
   "source": [
    "len(confidence_of_update_pre)"
   ]
  },
  {
   "cell_type": "markdown",
   "id": "297c7d69",
   "metadata": {},
   "source": [
    "### 3. Updating counts between pre- and post synaptic partners"
   ]
  },
  {
   "cell_type": "markdown",
   "id": "b0c64456",
   "metadata": {},
   "source": [
    "Strategy to save time:\n",
    "1. (Step1) Create a dictionary with postsynaptic neuron's IDs as KEYS and their a input-neuron dataframe as VALUES , and then (step2) create a loop across presynaptic IDs to get the exact counting from the input-neuron-dataframe of postsynaptic neurons, loading the correct input-neuron-dataframe from the dictionary each time.\n",
    "\n",
    "    Or, all in one single step: start a loop across unique postsynaptic IDs (be careful that the order is in the same as in the excel file, print them), get the input-neuron dataframe per each one in each round of the loop, and add a second loop across presynaptic IDs to get the exact counting.\n",
    "    \n",
    "\n",
    "2. Save the new countings in order of production in the same dataframe, as well as a column showing duplicated rows"
   ]
  },
  {
   "cell_type": "code",
   "execution_count": 17,
   "id": "48e63cdf",
   "metadata": {},
   "outputs": [
    {
     "name": "stdout",
     "output_type": "stream",
     "text": [
      "Getting inputs from: 720575940633269971\n",
      "Getting inputs from: 720575940625889155\n",
      "Getting inputs from: 720575940623587939\n",
      "Getting inputs from: 720575940630186571\n",
      "Getting inputs from: 720575940630668871\n",
      "Getting inputs from: 720575940642642996\n",
      "Getting inputs from: 720575940633362131\n",
      "Getting inputs from: 720575940626579087\n",
      "Getting inputs from: 720575940629511874\n",
      "Getting inputs from: 720575940615761570\n",
      "Getting inputs from: 720575940609798386\n",
      "Getting inputs from: 720575940637612429\n",
      "Getting inputs from: 720575940608295433\n",
      "Getting inputs from: 720575940619784545\n",
      "Getting inputs from: 720575940659650945\n",
      "Getting inputs from: 720575940626985482\n",
      "Getting inputs from: 720575940619169752\n",
      "Getting inputs from: 720575940610056654\n",
      "Getting inputs from: 720575940632064331\n",
      "Getting inputs from: 720575940629750844\n",
      "Getting inputs from: 720575940621766365\n",
      "Getting inputs from: 720575940631685587\n",
      "Getting inputs from: 720575940621604822\n",
      "Getting inputs from: 720575940637446990\n",
      "Getting inputs from: 720575940615404812\n",
      "Getting inputs from: 720575940642871604\n",
      "Getting inputs from: 720575940634430456\n",
      "Getting inputs from: 720575940625769418\n",
      "Getting inputs from: 720575940614954143\n",
      "Getting inputs from: 720575940614557708\n",
      "Getting inputs from: 720575940617429131\n",
      "Getting inputs from: 720575940631324985\n",
      "Getting inputs from: 720575940630105964\n",
      "Getting inputs from: 720575940640432848\n",
      "Getting inputs from: 720575940620680277\n",
      "Getting inputs from: 720575940639044942\n",
      "Getting inputs from: 720575940612404502\n",
      "Getting inputs from: 720575940644367396\n",
      "Getting inputs from: 720575940623302035\n",
      "Getting inputs from: 720575940625199900\n",
      "Getting inputs from: 720575940627182327\n",
      "Getting inputs from: 720575940608822281\n",
      "Getting inputs from: 720575940620204422\n",
      "Getting inputs from: 720575940616591755\n",
      "Getting inputs from: 720575940645555252\n",
      "Getting inputs from: 720575940608983235\n",
      "Getting inputs from: 720575940638358643\n",
      "Getting inputs from: 720575940640913037\n",
      "Getting inputs from: 720575940640563315\n",
      "Getting inputs from: 720575940622202582\n",
      "Getting inputs from: 720575940637255821\n",
      "Getting inputs from: 720575940620189934\n",
      "Getting inputs from: 720575940632213646\n",
      "Getting inputs from: 720575940621683494\n",
      "Getting inputs from: 720575940616410909\n",
      "Getting inputs from: 720575940640152448\n",
      "Getting inputs from: 720575940619699068\n",
      "Getting inputs from: 720575940622199688\n",
      "Getting inputs from: 720575940632804453\n",
      "Getting inputs from: 720575940626513173\n",
      "Getting inputs from: 720575940614368175\n",
      "Getting inputs from: 720575940627112748\n",
      "Getting inputs from: 720575940641658676\n",
      "Getting inputs from: 720575940638320256\n",
      "Getting inputs from: 720575940612630130\n",
      "Getting inputs from: 720575940616789734\n",
      "Getting inputs from: 720575940639049038\n",
      "Getting inputs from: 720575940627273487\n",
      "Getting inputs from: 720575940627174415\n",
      "Getting inputs from: 720575940610175381\n",
      "Getting inputs from: 720575940628551680\n",
      "Getting inputs from: 720575940612896682\n",
      "Getting inputs from: 720575940640435152\n",
      "Getting inputs from: 720575940637550221\n",
      "Getting inputs from: 720575940635858544\n",
      "Getting inputs from: 720575940620204678\n",
      "Getting inputs from: 720575940620030633\n",
      "Getting inputs from: 720575940645592628\n",
      "Getting inputs from: 720575940633285739\n",
      "Getting inputs from: 720575940639136600\n",
      "Getting inputs from: 720575940624434320\n",
      "Getting inputs from: 720575940627471887\n",
      "Getting inputs from: 720575940628906795\n",
      "Getting inputs from: 720575940616225209\n",
      "Getting inputs from: 720575940638132058\n",
      "Getting inputs from: 720575940623305107\n",
      "Getting inputs from: 720575940631777676\n",
      "Getting inputs from: 720575940622941181\n",
      "Getting inputs from: 720575940628004358\n",
      "Getting inputs from: 720575940632916783\n",
      "Getting inputs from: 720575940627095340\n",
      "Getting inputs from: 720575940622198652\n",
      "Getting inputs from: 720575940627331599\n",
      "Getting inputs from: 720575940637762879\n",
      "Getting inputs from: 720575940633004755\n",
      "Getting inputs from: 720575940645816099\n",
      "Getting inputs from: 720575940623407556\n",
      "Getting inputs from: 720575940618326875\n",
      "Getting inputs from: 720575940627031570\n",
      "Getting inputs from: 720575940633726364\n",
      "Getting inputs from: 720575940604494694\n",
      "Getting inputs from: 720575940619897680\n",
      "Getting inputs from: 720575940625753744\n",
      "Getting inputs from: 720575940632157711\n",
      "Getting inputs from: 720575940637834867\n",
      "Getting inputs from: 720575940622375382\n",
      "Getting inputs from: 720575940604080318\n",
      "Getting inputs from: 720575940642842676\n",
      "Getting inputs from: 720575940608295726\n",
      "Getting inputs from: 720575940610735970\n",
      "Getting inputs from: 720575940645323630\n",
      "Getting inputs from: 720575940626393858\n",
      "Getting inputs from: 720575940622667784\n",
      "Getting inputs from: 720575940613479074\n",
      "Getting inputs from: 720575940642371981\n",
      "Getting inputs from: 720575940618650166\n",
      "Getting inputs from: 720575940632968860\n",
      "Getting inputs from: 720575940603557920\n",
      "Getting inputs from: 720575940628769040\n",
      "Getting inputs from: 720575940626856496\n",
      "Getting inputs from: 720575940623784940\n",
      "Getting inputs from: 720575940638027965\n",
      "Getting inputs from: 720575940623853565\n",
      "Getting inputs from: 720575940625428286\n",
      "Getting inputs from: 720575940624511940\n",
      "Getting inputs from: 720575940631675693\n",
      "Getting inputs from: 720575940628791568\n",
      "Getting inputs from: 720575940631502035\n",
      "Getting inputs from: 720575940618093888\n",
      "Getting inputs from: 720575940626196456\n",
      "Getting inputs from: 720575940616149209\n",
      "Getting inputs from: 720575940619301766\n",
      "Getting inputs from: 720575940627067919\n",
      "Getting inputs from: 720575940614678431\n",
      "Getting inputs from: 720575940620358253\n",
      "Getting inputs from: 720575940619409232\n",
      "Getting inputs from: 720575940642273677\n",
      "Getting inputs from: 720575940627086863\n",
      "Getting inputs from: 720575940605034161\n",
      "Getting inputs from: 720575940621711128\n",
      "Getting inputs from: 720575940618985432\n",
      "Getting inputs from: 720575940638538804\n",
      "Getting inputs from: 720575940642834740\n",
      "Getting inputs from: 720575940627250532\n",
      "Getting inputs from: 720575940610445922\n",
      "Getting inputs from: 720575940633880415\n",
      "Getting inputs from: 720575940618076902\n",
      "Getting inputs from: 720575940611754850\n",
      "Getting inputs from: 720575940643763656\n",
      "Getting inputs from: 720575940614207903\n",
      "Getting inputs from: 720575940614667462\n",
      "Getting inputs from: 720575940614527594\n",
      "Getting inputs from: 720575940626254892\n",
      "Getting inputs from: 720575940622466584\n",
      "Getting inputs from: 720575940605480369\n",
      "Getting inputs from: 720575940616954297\n",
      "Getting inputs from: 720575940606093490\n",
      "Getting inputs from: 720575940637942837\n",
      "Getting inputs from: 720575940637631333\n",
      "Getting inputs from: 720575940628552091\n",
      "Getting inputs from: 720575940624919994\n",
      "Getting inputs from: 720575940616301497\n",
      "Getting inputs from: 720575940616682530\n",
      "Getting inputs from: 720575940618334001\n",
      "Getting inputs from: 720575940612782899\n",
      "Getting inputs from: 720575940625529381\n",
      "Getting inputs from: 720575940623629035\n",
      "Getting inputs from: 720575940641625741\n",
      "Getting inputs from: 720575940629883077\n",
      "Getting inputs from: 720575940623866556\n",
      "Getting inputs from: 720575940626010652\n",
      "Getting inputs from: 720575940641374861\n",
      "Getting inputs from: 720575940617570358\n",
      "Getting inputs from: 720575940622600644\n",
      "Getting inputs from: 720575940615785834\n",
      "Getting inputs from: 720575940622129832\n",
      "Getting inputs from: 720575940614212754\n",
      "Getting inputs from: 720575940624613680\n",
      "Getting inputs from: 720575940605128550\n",
      "Getting inputs from: 720575940621687073\n",
      "Getting inputs from: 720575940608058889\n",
      "Getting inputs from: 720575940619959472\n",
      "Getting inputs from: 720575940630930259\n",
      "Getting inputs from: 720575940622927541\n",
      "Getting inputs from: 720575940659599233\n",
      "Getting inputs from: 720575940626912556\n",
      "Getting inputs from: 720575940600084489\n",
      "Getting inputs from: 720575940609437653\n",
      "Getting inputs from: 720575940638698842\n",
      "Getting inputs from: 720575940642701876\n",
      "Getting inputs from: 720575940630811723\n",
      "Getting inputs from: 720575940625355853\n",
      "Getting inputs from: 720575940608117699\n",
      "Getting inputs from: 720575940629148145\n",
      "Getting inputs from: 720575940619730590\n",
      "Getting inputs from: 720575940612487405\n",
      "Getting inputs from: 720575940611758834\n",
      "Getting inputs from: 720575940616575500\n",
      "Getting inputs from: 720575940618439478\n",
      "Getting inputs from: 720575940614270189\n",
      "Getting inputs from: 720575940608800451\n",
      "Getting inputs from: 720575940612399986\n",
      "Getting inputs from: 720575940625006855\n",
      "Getting inputs from: 720575940615974854\n",
      "Getting inputs from: 720575940632747801\n"
     ]
    },
    {
     "name": "stdout",
     "output_type": "stream",
     "text": [
      "Getting inputs from: 720575940618727760\n",
      "Getting inputs from: 720575940625942372\n",
      "Getting inputs from: 720575940626674988\n",
      "Getting inputs from: 720575940638900352\n",
      "Getting inputs from: 720575940630942551\n",
      "Getting inputs from: 720575940606996354\n",
      "Getting inputs from: 720575940627756304\n",
      "Getting inputs from: 720575940632200007\n",
      "Getting inputs from: 720575940620757231\n",
      "Getting inputs from: 720575940626614202\n",
      "Getting inputs from: 720575940627687496\n",
      "Getting inputs from: 720575940622953485\n",
      "Getting inputs from: 720575940608677641\n",
      "Getting inputs from: 720575940638118975\n",
      "Getting inputs from: 720575940628821520\n",
      "Getting inputs from: 720575940625523856\n",
      "Getting inputs from: 720575940628857387\n",
      "Getting inputs from: 720575940621211584\n",
      "Getting inputs from: 720575940604810208\n",
      "Getting inputs from: 720575940631934039\n",
      "Getting inputs from: 720575940607291314\n",
      "Getting inputs from: 720575940634723735\n",
      "Getting inputs from: 720575940617991764\n",
      "Getting inputs from: 720575940639383349\n",
      "Getting inputs from: 720575940614768179\n",
      "Getting inputs from: 720575940620570715\n",
      "Getting inputs from: 720575940611501154\n",
      "Getting inputs from: 720575940622139844\n",
      "Getting inputs from: 720575940631177231\n",
      "Getting inputs from: 720575940615018146\n",
      "Getting inputs from: 720575940634532247\n",
      "Getting inputs from: 720575940610014674\n",
      "Getting inputs from: 720575940621012929\n",
      "Getting inputs from: 720575940609254851\n",
      "Getting inputs from: 720575940636491877\n",
      "Getting inputs from: 720575940629989635\n",
      "Getting inputs from: 720575940618082077\n",
      "Getting inputs from: 720575940610797010\n",
      "Getting inputs from: 720575940631381975\n",
      "Getting inputs from: 720575940618287064\n",
      "Getting inputs from: 720575940620577518\n",
      "Getting inputs from: 720575940618268061\n",
      "Getting inputs from: 720575940620017573\n",
      "Getting inputs from: 720575940629309339\n",
      "Getting inputs from: 720575940638766720\n",
      "Getting inputs from: 720575940620002068\n",
      "Getting inputs from: 720575940626564964\n",
      "Getting inputs from: 720575940621899269\n",
      "Getting inputs from: 720575940610726776\n",
      "Getting inputs from: 720575940622505332\n",
      "Getting inputs from: 720575940615463327\n",
      "Getting inputs from: 720575940655683489\n",
      "Getting inputs from: 720575940617143611\n",
      "Getting inputs from: 720575940627600271\n",
      "Getting inputs from: 720575940629831806\n",
      "Getting inputs from: 720575940620285861\n",
      "Getting inputs from: 720575940623070051\n",
      "Getting inputs from: 720575940626804825\n",
      "Getting inputs from: 720575940627807877\n",
      "Getting inputs from: 720575940620433345\n",
      "Getting inputs from: 720575940604668094\n",
      "Getting inputs from: 720575940620556225\n",
      "Getting inputs from: 720575940631014487\n",
      "Getting inputs from: 720575940634679191\n",
      "Getting inputs from: 720575940638769990\n",
      "Getting inputs from: 720575940626223716\n",
      "Getting inputs from: 720575940636288887\n",
      "Getting inputs from: 720575940639142589\n",
      "Getting inputs from: 720575940621682017\n",
      "Getting inputs from: 720575940609853963\n",
      "Getting inputs from: 720575940635762842\n",
      "Getting inputs from: 720575940635391480\n",
      "Getting inputs from: 720575940616384742\n",
      "Getting inputs from: 720575940630679670\n",
      "Getting inputs from: 720575940625959610\n",
      "Getting inputs from: 720575940631997752\n",
      "Getting inputs from: 720575940630925686\n",
      "Getting inputs from: 720575940629846784\n",
      "Getting inputs from: 720575940626578965\n",
      "Getting inputs from: 720575940619812555\n",
      "Getting inputs from: 720575940617315033\n",
      "Getting inputs from: 720575940622056572\n",
      "Getting inputs from: 720575940647564932\n",
      "Getting inputs from: 720575940653151649\n",
      "Getting inputs from: 720575940636607716\n",
      "Getting inputs from: 720575940605017260\n",
      "Getting inputs from: 720575940615494303\n",
      "Getting inputs from: 720575940613374873\n",
      "Getting inputs from: 720575940606796489\n",
      "Getting inputs from: 720575940627458618\n",
      "Getting inputs from: 720575940625756208\n",
      "Getting inputs from: 720575940605444966\n",
      "Getting inputs from: 720575940617597597\n",
      "Getting inputs from: 720575940660103553\n",
      "Getting inputs from: 720575940604872416\n",
      "Getting inputs from: 720575940630425564\n",
      "Getting inputs from: 720575940628945640\n",
      "Getting inputs from: 720575940620016464\n",
      "Getting inputs from: 720575940619813217\n",
      "Getting inputs from: 720575940629083215\n",
      "Getting inputs from: 720575940634202780\n",
      "Getting inputs from: 720575940622104745\n",
      "Getting inputs from: 720575940623580659\n",
      "Getting inputs from: 720575940620955201\n",
      "Getting inputs from: 720575940612908054\n",
      "Getting inputs from: 720575940624636647\n",
      "Getting inputs from: 720575940625266616\n",
      "Getting inputs from: 720575940624063669\n",
      "Getting inputs from: 720575940621810949\n",
      "Getting inputs from: 720575940629860664\n",
      "Getting inputs from: 720575940627084332\n",
      "Getting inputs from: 720575940614848658\n",
      "Getting inputs from: 720575940628279292\n",
      "Getting inputs from: 720575940638607167\n",
      "Getting inputs from: 720575940632810797\n",
      "Getting inputs from: 720575940631729987\n",
      "Getting inputs from: 720575940623180799\n",
      "Getting inputs from: 720575940625164076\n",
      "Getting inputs from: 720575940624565296\n",
      "Getting inputs from: 720575940620229467\n",
      "Getting inputs from: 720575940626258874\n",
      "Getting inputs from: 720575940629424254\n",
      "Getting inputs from: 720575940615972294\n",
      "Getting inputs from: 720575940636791386\n",
      "Getting inputs from: 720575940626549020\n",
      "Getting inputs from: 720575940632532536\n",
      "Getting inputs from: 720575940620425808\n",
      "Getting inputs from: 720575940630497986\n",
      "Getting inputs from: 720575940614873775\n",
      "Getting inputs from: 720575940622028528\n",
      "Getting inputs from: 720575940617507001\n",
      "Getting inputs from: 720575940623320873\n",
      "Getting inputs from: 720575940635525215\n",
      "Getting inputs from: 720575940630702188\n",
      "Getting inputs from: 720575940625950245\n",
      "Getting inputs from: 720575940626292226\n",
      "Getting inputs from: 720575940614705319\n",
      "Getting inputs from: 720575940611645486\n",
      "Getting inputs from: 720575940633908194\n",
      "Getting inputs from: 720575940623115213\n",
      "Getting inputs from: 720575940630779919\n",
      "Getting inputs from: 720575940623573292\n",
      "Getting inputs from: 720575940623166669\n",
      "Getting inputs from: 720575940626345772\n",
      "Getting inputs from: 720575940630537078\n",
      "Getting inputs from: 720575940617414585\n",
      "Getting inputs from: 720575940616417653\n",
      "Getting inputs from: 720575940623045512\n",
      "Getting inputs from: 720575940623444723\n",
      "Getting inputs from: 720575940634071659\n",
      "Getting inputs from: 720575940631087311\n",
      "Getting inputs from: 720575940610477688\n",
      "Getting inputs from: 720575940628564042\n",
      "Getting inputs from: 720575940635924190\n",
      "Getting inputs from: 720575940633538771\n",
      "Getting inputs from: 720575940625762708\n",
      "Getting inputs from: 720575940629612158\n",
      "Getting inputs from: 720575940624240580\n",
      "Getting inputs from: 720575940608543580\n",
      "Getting inputs from: 720575940617251387\n",
      "Getting inputs from: 720575940635034719\n",
      "Getting inputs from: 720575940614703522\n",
      "Getting inputs from: 720575940627990020\n",
      "Getting inputs from: 720575940640252800\n",
      "Getting inputs from: 720575940618170653\n",
      "Getting inputs from: 720575940627787780\n",
      "Getting inputs from: 720575940617618971\n",
      "Getting inputs from: 720575940623897066\n",
      "Getting inputs from: 720575940635394972\n",
      "Getting inputs from: 720575940624548332\n",
      "Getting inputs from: 720575940630862799\n",
      "Getting inputs from: 720575940620083280\n",
      "Getting inputs from: 720575940632870701\n",
      "Getting inputs from: 720575940625797936\n",
      "Getting inputs from: 720575940639766606\n",
      "Getting inputs from: 720575940621776664\n",
      "Getting inputs from: 720575940619989383\n",
      "Getting inputs from: 720575940632645401\n",
      "Getting inputs from: 720575940617634772\n",
      "Getting inputs from: 720575940636669582\n",
      "Getting inputs from: 720575940638409700\n",
      "Getting inputs from: 720575940605776672\n",
      "Getting inputs from: 720575940623442824\n",
      "Getting inputs from: 720575940624161975\n",
      "Getting inputs from: 720575940605783584\n",
      "Getting inputs from: 720575940628445425\n",
      "Getting inputs from: 720575940609274563\n",
      "Getting inputs from: 720575940612125914\n",
      "Getting inputs from: 720575940626098725\n",
      "Getting inputs from: 720575940617040245\n",
      "Getting inputs from: 720575940635000767\n",
      "Getting inputs from: 720575940626344510\n",
      "Getting inputs from: 720575940625477507\n",
      "Getting inputs from: 720575940614972839\n",
      "Getting inputs from: 720575940635266411\n",
      "Getting inputs from: 720575940608683017\n",
      "Getting inputs from: 720575940625142525\n",
      "Getting inputs from: 720575940623588109\n",
      "Getting inputs from: 720575940618294557\n",
      "Getting inputs from: 720575940624154355\n",
      "Getting inputs from: 720575940644891927\n",
      "Getting inputs from: 720575940611600298\n",
      "Getting inputs from: 720575940645130775\n",
      "Getting inputs from: 720575940622773375\n",
      "Getting inputs from: 720575940605922993\n"
     ]
    },
    {
     "name": "stdout",
     "output_type": "stream",
     "text": [
      "Getting inputs from: 720575940609255875\n",
      "Getting inputs from: 720575940632565075\n",
      "Getting inputs from: 720575940638584372\n",
      "Getting inputs from: 720575940627658259\n",
      "Getting inputs from: 720575940617195579\n",
      "Getting inputs from: 720575940643866528\n",
      "Getting inputs from: 720575940612881381\n",
      "Getting inputs from: 720575940615234015\n",
      "Getting inputs from: 720575940621336173\n",
      "Getting inputs from: 720575940630982711\n",
      "Getting inputs from: 720575940634666847\n",
      "Getting inputs from: 720575940622223273\n",
      "Getting inputs from: 720575940617488541\n",
      "Getting inputs from: 720575940615329602\n",
      "Getting inputs from: 720575940618883032\n",
      "Getting inputs from: 720575940615440543\n",
      "Getting inputs from: 720575940626245676\n",
      "Getting inputs from: 720575940626434348\n",
      "Getting inputs from: 720575940622030106\n",
      "Getting inputs from: 720575940631049291\n",
      "Getting inputs from: 720575940647336068\n",
      "Getting inputs from: 720575940642562267\n",
      "Getting inputs from: 720575940620597586\n",
      "Getting inputs from: 720575940635068441\n",
      "Getting inputs from: 720575940635061695\n",
      "Getting inputs from: 720575940602880736\n",
      "Getting inputs from: 720575940620627538\n",
      "Getting inputs from: 720575940607121794\n",
      "Getting inputs from: 720575940628133864\n",
      "Getting inputs from: 720575940613618216\n",
      "Getting inputs from: 720575940622388458\n",
      "Getting inputs from: 720575940633455052\n",
      "Getting inputs from: 720575940631817539\n",
      "Getting inputs from: 720575940639565475\n",
      "Getting inputs from: 720575940622001833\n",
      "Getting inputs from: 720575940626001296\n",
      "Getting inputs from: 720575940627175671\n",
      "Getting inputs from: 720575940637504653\n",
      "Getting inputs from: 720575940624344516\n",
      "Getting inputs from: 720575940608690443\n",
      "Getting inputs from: 720575940617451409\n",
      "Getting inputs from: 720575940626884652\n",
      "Getting inputs from: 720575940629010947\n",
      "Getting inputs from: 720575940613052330\n",
      "Getting inputs from: 720575940646534254\n",
      "Getting inputs from: 720575940622440150\n",
      "Getting inputs from: 720575940629892663\n",
      "Getting inputs from: 720575940615680874\n",
      "Getting inputs from: 720575940617141004 (updated)\n",
      "Getting inputs from: 720575940618034747\n",
      "Getting inputs from: 720575940620814356\n",
      "Getting inputs from: 720575940626242348\n",
      "Getting inputs from: 720575940635847578\n",
      "Getting inputs from: 720575940629624817 (updated)\n",
      "Getting inputs from: 720575940621218324\n",
      "Getting inputs from: 720575940617452774\n",
      "Getting inputs from: 720575940636902767\n",
      "Getting inputs from: 720575940612645234\n",
      "Getting inputs from: 720575940609958411\n",
      "Getting inputs from: 720575940629799362\n",
      "Getting inputs from: 720575940606095550\n",
      "Getting inputs from: 720575940624401546\n",
      "Getting inputs from: 720575940617293451\n",
      "Getting inputs from: 720575940635495264\n",
      "Getting inputs from: 720575940627291578\n",
      "Getting inputs from: 720575940627175012\n",
      "Getting inputs from: 720575940618614969 (updated)\n",
      "Getting inputs from: 720575940613338341\n",
      "Getting inputs from: 720575940639232575\n",
      "Getting inputs from: 720575940612259221\n",
      "Getting inputs from: 720575940621167495\n",
      "Getting inputs from: 720575940623610492 (updated)\n",
      "Getting inputs from: 720575940624394634\n",
      "Getting inputs from: 720575940630755706\n",
      "Getting inputs from: 720575940631182592\n",
      "Getting inputs from: 720575940622273206\n",
      "Getting inputs from: 720575940612052578\n",
      "Getting inputs from: 720575940644842656 (updated)\n",
      "Getting inputs from: 720575940614575341\n",
      "Getting inputs from: 720575940633050303\n",
      "Getting inputs from: 720575940605191340\n",
      "Getting inputs from: 720575940608057353\n",
      "Getting inputs from: 720575940608856533\n",
      "Getting inputs from: 720575940613140442 (updated)\n",
      "Getting inputs from: 720575940609620747\n",
      "Getting inputs from: 720575940609981123\n",
      "Getting inputs from: 720575940610254275\n",
      "Getting inputs from: 720575940610307886\n",
      "Getting inputs from: 720575940610760312\n",
      "Getting inputs from: 720575940610985058\n",
      "Getting inputs from: 720575940611350882\n",
      "Getting inputs from: 720575940611805845\n",
      "Getting inputs from: 720575940612048753\n",
      "Getting inputs from: 720575940612198835\n",
      "Getting inputs from: 720575940612371941\n",
      "Getting inputs from: 720575940612424470\n",
      "Getting inputs from: 720575940612551141\n",
      "Getting inputs from: 720575940612556401\n",
      "Getting inputs from: 720575940612563891\n",
      "Getting inputs from: 720575940636348011 (updated)\n",
      "Getting inputs from: 720575940612646826\n",
      "Getting inputs from: 720575940612657522\n",
      "Getting inputs from: 720575940612911283\n",
      "Getting inputs from: 720575940613033907\n",
      "Getting inputs from: 720575940613445101\n",
      "Getting inputs from: 720575940613881775\n",
      "Getting inputs from: 720575940614110673\n",
      "Getting inputs from: 720575940632783673\n",
      "Getting inputs from: 720575940614233263\n",
      "Getting inputs from: 720575940614323106\n",
      "Getting inputs from: 720575940614599318\n",
      "Getting inputs from: 720575940614704290\n",
      "Getting inputs from: 720575940629904939 (updated)\n",
      "Getting inputs from: 720575940615223199\n",
      "Getting inputs from: 720575940615655730\n",
      "Getting inputs from: 720575940615681804\n",
      "Getting inputs from: 720575940615901115\n",
      "Getting inputs from: 720575940616025542\n",
      "Getting inputs from: 720575940616030770\n",
      "Getting inputs from: 720575940616141785\n",
      "Getting inputs from: 720575940616191572\n",
      "Getting inputs from: 720575940616246228\n",
      "Getting inputs from: 720575940607889609 (updated)\n",
      "Getting inputs from: 720575940616487099\n",
      "Getting inputs from: 720575940616595515\n",
      "Getting inputs from: 720575940616813142\n",
      "Getting inputs from: 720575940616958347\n",
      "Getting inputs from: 720575940617372673\n",
      "Getting inputs from: 720575940617561017\n",
      "Getting inputs from: 720575940617614809\n",
      "Getting inputs from: 720575940617727645\n",
      "Getting inputs from: 720575940617854420\n",
      "Getting inputs from: 720575940617906589\n",
      "Getting inputs from: 720575940617931604\n",
      "Getting inputs from: 720575940618377029\n",
      "Getting inputs from: 720575940618481733\n",
      "Getting inputs from: 720575940618549061\n",
      "Getting inputs from: 720575940618568768\n",
      "Getting inputs from: 720575940618601729\n",
      "Getting inputs from: 720575940618689950\n",
      "Getting inputs from: 720575940625679596 (updated)\n",
      "Getting inputs from: 720575940619677166\n",
      "Getting inputs from: 720575940619717872\n",
      "Getting inputs from: 720575940619815559\n",
      "Getting inputs from: 720575940619831499\n",
      "Getting inputs from: 720575940619852397\n",
      "Getting inputs from: 720575940620053707\n",
      "Getting inputs from: 720575940620413376\n",
      "Getting inputs from: 720575940620452544\n",
      "Getting inputs from: 720575940620470187\n",
      "Getting inputs from: 720575940620517312\n",
      "Getting inputs from: 720575940620550491\n",
      "Getting inputs from: 720575940620641300\n",
      "Getting inputs from: 720575940620810406\n",
      "Getting inputs from: 720575940635145241 (updated)\n",
      "Getting inputs from: 720575940620974171\n",
      "Getting inputs from: 720575940621069812\n",
      "Getting inputs from: 720575940621332406\n",
      "Getting inputs from: 720575940621398237\n",
      "Getting inputs from: 720575940621678463\n",
      "Getting inputs from: 720575940621858943\n",
      "Getting inputs from: 720575940621952392\n",
      "Getting inputs from: 720575940622375894\n",
      "Getting inputs from: 720575940622621990\n",
      "Getting inputs from: 720575940622802695\n",
      "Getting inputs from: 720575940623045133\n",
      "Getting inputs from: 720575940623069208\n",
      "Getting inputs from: 720575940623176233\n",
      "Getting inputs from: 720575940623245053\n",
      "Getting inputs from: 720575940623285005\n",
      "Getting inputs from: 720575940623338474\n",
      "Getting inputs from: 720575940623472068\n",
      "Getting inputs from: 720575940623610867\n",
      "Getting inputs from: 720575940613268915 (updated)\n",
      "Getting inputs from: 720575940623771061\n",
      "Getting inputs from: 720575940623803114\n",
      "Getting inputs from: 720575940624013749\n",
      "Getting inputs from: 720575940624226795\n",
      "Getting inputs from: 720575940624348100\n",
      "Getting inputs from: 720575940624407740\n",
      "Getting inputs from: 720575940624427498\n",
      "Getting inputs from: 720575940624447015\n",
      "Getting inputs from: 720575940624500372\n",
      "Getting inputs from: 720575940624735207\n",
      "Getting inputs from: 720575940624783335\n",
      "Getting inputs from: 720575940624791596\n",
      "Getting inputs from: 720575940624794888\n",
      "Getting inputs from: 720575940625188042\n",
      "Getting inputs from: 720575940625298064\n",
      "Getting inputs from: 720575940625443315\n",
      "Getting inputs from: 720575940625520442\n",
      "Getting inputs from: 720575940625529232\n",
      "Getting inputs from: 720575940625903678\n",
      "Getting inputs from: 720575940626039315\n",
      "Getting inputs from: 720575940626113061\n",
      "Getting inputs from: 720575940626440492\n",
      "Getting inputs from: 720575940626521820\n",
      "Getting inputs from: 720575940626710799\n",
      "Getting inputs from: 720575940626923070\n",
      "Getting inputs from: 720575940627187849\n",
      "Getting inputs from: 720575940627300485\n",
      "Getting inputs from: 720575940627300618\n"
     ]
    },
    {
     "name": "stdout",
     "output_type": "stream",
     "text": [
      "Getting inputs from: 720575940627335557\n",
      "Getting inputs from: 720575940627342408\n",
      "Getting inputs from: 720575940627513105\n",
      "Getting inputs from: 720575940628430065\n",
      "Getting inputs from: 720575940628703079\n",
      "Getting inputs from: 720575940628713732\n",
      "Getting inputs from: 720575940628721307\n",
      "Getting inputs from: 720575940628793329\n",
      "Getting inputs from: 720575940612989297 (updated)\n",
      "Getting inputs from: 720575940629591930\n",
      "Getting inputs from: 720575940629678718\n",
      "Getting inputs from: 720575940629851514\n",
      "Getting inputs from: 720575940629856471\n",
      "Getting inputs from: 720575940629865015\n",
      "Getting inputs from: 720575940630041615\n",
      "Getting inputs from: 720575940630086188\n",
      "Getting inputs from: 720575940630130176\n",
      "Getting inputs from: 720575940630241239\n",
      "Getting inputs from: 720575940630386679\n",
      "Getting inputs from: 720575940630474307\n",
      "Getting inputs from: 720575940630610852\n",
      "Getting inputs from: 720575940630638073\n",
      "Getting inputs from: 720575940630712151\n",
      "Getting inputs from: 720575940630818422\n",
      "Getting inputs from: 720575940630963275\n",
      "Getting inputs from: 720575940631225943\n",
      "Getting inputs from: 720575940631531562\n",
      "Getting inputs from: 720575940631873863\n",
      "Getting inputs from: 720575940626401869 (updated)\n",
      "Getting inputs from: 720575940631940712\n",
      "Getting inputs from: 720575940632014673\n",
      "Getting inputs from: 720575940632118668\n",
      "Getting inputs from: 720575940632133516\n",
      "Getting inputs from: 720575940632179783\n",
      "Getting inputs from: 720575940632250439\n",
      "Getting inputs from: 720575940632526244\n",
      "Getting inputs from: 720575940632685516\n",
      "Getting inputs from: 720575940632920621\n",
      "Getting inputs from: 720575940633243949\n",
      "Getting inputs from: 720575940633303648\n",
      "Getting inputs from: 720575940633810367\n",
      "Getting inputs from: 720575940633825505\n",
      "Getting inputs from: 720575940634424056\n",
      "Getting inputs from: 720575940634615959\n",
      "Getting inputs from: 720575940634783898\n",
      "Getting inputs from: 720575940635098266\n",
      "Getting inputs from: 720575940635672500\n",
      "Getting inputs from: 720575940635742063\n",
      "Getting inputs from: 720575940636694117\n",
      "Getting inputs from: 720575940637127053\n",
      "Getting inputs from: 720575940637324870\n",
      "Getting inputs from: 720575940637539806\n",
      "Getting inputs from: 720575940637867241\n",
      "Getting inputs from: 720575940637894110\n",
      "Getting inputs from: 720575940638007642\n",
      "Getting inputs from: 720575940631295020 (updated)\n",
      "Getting inputs from: 720575940638249791\n",
      "Getting inputs from: 720575940638314330\n",
      "Getting inputs from: 720575940632411410 (updated)\n",
      "Getting inputs from: 720575940638641478\n",
      "Getting inputs from: 720575940638752838\n",
      "Getting inputs from: 720575940638773062\n",
      "Getting inputs from: 720575940639382131\n",
      "Getting inputs from: 720575940639690301\n",
      "Getting inputs from: 720575940639951182\n",
      "Getting inputs from: 720575940639983192\n",
      "Getting inputs from: 720575940640311971\n",
      "Getting inputs from: 720575940640543603\n",
      "Getting inputs from: 720575940640670928\n",
      "Getting inputs from: 720575940640967413\n",
      "Getting inputs from: 720575940641389275\n",
      "Getting inputs from: 720575940641730549\n",
      "Getting inputs from: 720575940643778208\n",
      "Getting inputs from: 720575940643781320\n",
      "Getting inputs from: 720575940645275939\n",
      "Getting inputs from: 720575940645463406\n",
      "Getting inputs from: 720575940646290228\n",
      "Getting inputs from: 720575940646763316\n",
      "Getting inputs from: 720575940646766883\n",
      "Getting inputs from: 720575940647437108\n",
      "Getting inputs from: 720575940648050553\n",
      "Getting inputs from: 720575940649782393\n",
      "Getting inputs from: 720575940650176889\n",
      "Getting inputs from: 720575940652191990\n",
      "Getting inputs from: 720575940609936139 (updated)\n",
      "Getting inputs from: 720575940652963830\n",
      "Getting inputs from: 720575940659627137\n",
      "Getting inputs from: 720575940659658113\n"
     ]
    }
   ],
   "source": [
    "#Implementing the \"single step\" option\n",
    "\n",
    "unique_post_IDs = df[df['presynaptic_ID'] != 'INPUTS PROOFREAD']['postsynaptic_ID'].unique()\n",
    "new_count_ls =  [] # For storing the new counts\n",
    "copy_count_ls = [] # For storing the copy counts \n",
    "for post_id in unique_post_IDs: # loop across postsynaptic ids.\n",
    "    if flywire.is_latest_root([post_id])[0]:\n",
    "        curr_id = post_id\n",
    "        print(f'Getting inputs from: {curr_id}')\n",
    "    else:\n",
    "        updated_ID_df = flywire.update_ids(post_id, stop_layer=2, supervoxels=None, timestamp=None, dataset='production', progress=True)\n",
    "        curr_id = updated_ID_df[\"new_id\"][0]\n",
    "        print(f'Getting inputs from: {curr_id} (updated)')\n",
    "    \n",
    "    curr_df = df[df['postsynaptic_ID'] == post_id].copy()\n",
    "    curr_neurons_inputs = flywire.synapses.fetch_synapses(curr_id, pre=False, post=True, attach=True, \n",
    "                                             min_score=50, clean=True, transmitters=False, \n",
    "                                             neuropils=True, batch_size=30, \n",
    "                                             dataset='production', progress=True,mat= \"live\")\n",
    "    \n",
    "    if curr_neurons_inputs.empty: #Adding this to fix isues with retrieveing data\n",
    "        #Adding NaNs\n",
    "        empty_list = [None]* len(df[df['postsynaptic_ID'] == post_id])\n",
    "        new_count_ls = new_count_ls + empty_list\n",
    "        copy_count_ls = copy_count_ls + empty_list\n",
    "    \n",
    "    else: \n",
    "        \n",
    "        #Filtering redundant / duplicated counts (threshold = 100 nm)\n",
    "        combine_xyz(curr_neurons_inputs)\n",
    "        points = curr_neurons_inputs['pre_pt_position'].tolist()\n",
    "        points_no_duplicates = filter_points(points, threshold_distance = 100)\n",
    "        curr_neurons_inputs_no_duplicates = curr_neurons_inputs[curr_neurons_inputs['pre_pt_position'].apply(lambda x: x in points_no_duplicates)].copy()\n",
    "\n",
    "        pre_id_copies_dict = {} # For checking ID duplicates, triplicates, etc\n",
    "        for i,pre_id in enumerate(curr_df[\"Updated_presynaptic_ID\"]): # loop across presynaptic ids\n",
    "            #Counting copies\n",
    "            if pre_id in pre_id_copies_dict.keys():\n",
    "                pre_id_copies_dict[pre_id]+= 1 # duplicates, triplicates ...\n",
    "            else:\n",
    "                pre_id_copies_dict[pre_id] = 1 # initial count\n",
    "\n",
    "            c = len(curr_neurons_inputs_no_duplicates[curr_neurons_inputs_no_duplicates['pre_pt_root_id'] == int(pre_id)])\n",
    "            new_count_ls.append(c) # count between specific pre and post\n",
    "            copy_count_ls.append(pre_id_copies_dict[pre_id])\n",
    "            #print(f'Counts with {pre_id}: {c}, confidence {curr_df[\"Update_confidence\"].tolist()[i]}, copy {pre_id_copies_dict[pre_id]}')\n",
    "\n",
    "        #In old files with this rows acting as separators\n",
    "        #new_count_ls.append('INPUTS PROOFREAD')\n",
    "        #copy_count_ls.append('INPUTS PROOFREAD')\n",
    "        \n"
   ]
  },
  {
   "cell_type": "code",
   "execution_count": 36,
   "id": "5b769853",
   "metadata": {},
   "outputs": [
    {
     "data": {
      "text/html": [
       "<div>\n",
       "<style scoped>\n",
       "    .dataframe tbody tr th:only-of-type {\n",
       "        vertical-align: middle;\n",
       "    }\n",
       "\n",
       "    .dataframe tbody tr th {\n",
       "        vertical-align: top;\n",
       "    }\n",
       "\n",
       "    .dataframe thead th {\n",
       "        text-align: right;\n",
       "    }\n",
       "</style>\n",
       "<table border=\"1\" class=\"dataframe\">\n",
       "  <thead>\n",
       "    <tr style=\"text-align: right;\">\n",
       "      <th></th>\n",
       "      <th>presynaptic_ID</th>\n",
       "      <th>counts</th>\n",
       "      <th>count %</th>\n",
       "      <th>postsynaptic_ID</th>\n",
       "      <th>symbol</th>\n",
       "      <th>guess</th>\n",
       "      <th>lab</th>\n",
       "      <th>author</th>\n",
       "      <th>name</th>\n",
       "      <th>FlyWire proofread (Y/N)</th>\n",
       "      <th>...</th>\n",
       "      <th>notes</th>\n",
       "      <th>Working on</th>\n",
       "      <th>optic_lobe_id</th>\n",
       "      <th>column_id</th>\n",
       "      <th>patch_id</th>\n",
       "      <th>hemisphere</th>\n",
       "      <th>Updated_postsynaptic_ID</th>\n",
       "      <th>dorso-ventral</th>\n",
       "      <th>Update_confidence_pre</th>\n",
       "      <th>Update_confidence_post</th>\n",
       "    </tr>\n",
       "  </thead>\n",
       "  <tbody>\n",
       "    <tr>\n",
       "      <th>0</th>\n",
       "      <td>720575940612487630</td>\n",
       "      <td>36.0</td>\n",
       "      <td>NaN</td>\n",
       "      <td>720575940633269971</td>\n",
       "      <td>L3</td>\n",
       "      <td>NaN</td>\n",
       "      <td>NaN</td>\n",
       "      <td>96</td>\n",
       "      <td>NaN</td>\n",
       "      <td>NaN</td>\n",
       "      <td>...</td>\n",
       "      <td>NaN</td>\n",
       "      <td>NaN</td>\n",
       "      <td>R32</td>\n",
       "      <td>NaN</td>\n",
       "      <td>NaN</td>\n",
       "      <td>R</td>\n",
       "      <td>720575940633269971</td>\n",
       "      <td>V</td>\n",
       "      <td>1.0</td>\n",
       "      <td>1.0</td>\n",
       "    </tr>\n",
       "    <tr>\n",
       "      <th>1</th>\n",
       "      <td>720575940612413026</td>\n",
       "      <td>25.0</td>\n",
       "      <td>NaN</td>\n",
       "      <td>720575940633269971</td>\n",
       "      <td>CT1</td>\n",
       "      <td>NaN</td>\n",
       "      <td>NaN</td>\n",
       "      <td>95</td>\n",
       "      <td>NaN</td>\n",
       "      <td>NaN</td>\n",
       "      <td>...</td>\n",
       "      <td>NaN</td>\n",
       "      <td>NaN</td>\n",
       "      <td>R32</td>\n",
       "      <td>NaN</td>\n",
       "      <td>NaN</td>\n",
       "      <td>R</td>\n",
       "      <td>720575940633269971</td>\n",
       "      <td>V</td>\n",
       "      <td>1.0</td>\n",
       "      <td>1.0</td>\n",
       "    </tr>\n",
       "    <tr>\n",
       "      <th>2</th>\n",
       "      <td>720575940654872737</td>\n",
       "      <td>13.0</td>\n",
       "      <td>NaN</td>\n",
       "      <td>720575940633269971</td>\n",
       "      <td>Mi4</td>\n",
       "      <td>NaN</td>\n",
       "      <td>NaN</td>\n",
       "      <td>392</td>\n",
       "      <td>NaN</td>\n",
       "      <td>NaN</td>\n",
       "      <td>...</td>\n",
       "      <td>NaN</td>\n",
       "      <td>NaN</td>\n",
       "      <td>R32</td>\n",
       "      <td>NaN</td>\n",
       "      <td>NaN</td>\n",
       "      <td>R</td>\n",
       "      <td>720575940633269971</td>\n",
       "      <td>V</td>\n",
       "      <td>1.0</td>\n",
       "      <td>1.0</td>\n",
       "    </tr>\n",
       "    <tr>\n",
       "      <th>3</th>\n",
       "      <td>720575940626330969</td>\n",
       "      <td>13.0</td>\n",
       "      <td>NaN</td>\n",
       "      <td>720575940633269971</td>\n",
       "      <td>Tm16</td>\n",
       "      <td>NaN</td>\n",
       "      <td>NaN</td>\n",
       "      <td>392</td>\n",
       "      <td>NaN</td>\n",
       "      <td>NaN</td>\n",
       "      <td>...</td>\n",
       "      <td>NaN</td>\n",
       "      <td>NaN</td>\n",
       "      <td>R32</td>\n",
       "      <td>NaN</td>\n",
       "      <td>NaN</td>\n",
       "      <td>R</td>\n",
       "      <td>720575940633269971</td>\n",
       "      <td>V</td>\n",
       "      <td>1.0</td>\n",
       "      <td>1.0</td>\n",
       "    </tr>\n",
       "    <tr>\n",
       "      <th>4</th>\n",
       "      <td>720575940626044942</td>\n",
       "      <td>7.0</td>\n",
       "      <td>NaN</td>\n",
       "      <td>720575940633269971</td>\n",
       "      <td>OA-AL2b2</td>\n",
       "      <td>OA-AL2b2-R1</td>\n",
       "      <td>NaN</td>\n",
       "      <td>1062</td>\n",
       "      <td>NaN</td>\n",
       "      <td>NaN</td>\n",
       "      <td>...</td>\n",
       "      <td>NaN</td>\n",
       "      <td>NaN</td>\n",
       "      <td>R32</td>\n",
       "      <td>NaN</td>\n",
       "      <td>NaN</td>\n",
       "      <td>R</td>\n",
       "      <td>720575940633269971</td>\n",
       "      <td>V</td>\n",
       "      <td>1.0</td>\n",
       "      <td>1.0</td>\n",
       "    </tr>\n",
       "  </tbody>\n",
       "</table>\n",
       "<p>5 rows × 32 columns</p>\n",
       "</div>"
      ],
      "text/plain": [
       "       presynaptic_ID  counts  count %     postsynaptic_ID    symbol  \\\n",
       "0  720575940612487630    36.0      NaN  720575940633269971        L3   \n",
       "1  720575940612413026    25.0      NaN  720575940633269971       CT1   \n",
       "2  720575940654872737    13.0      NaN  720575940633269971       Mi4   \n",
       "3  720575940626330969    13.0      NaN  720575940633269971      Tm16   \n",
       "4  720575940626044942     7.0      NaN  720575940633269971  OA-AL2b2   \n",
       "\n",
       "         guess  lab author name FlyWire proofread (Y/N)  ... notes Working on  \\\n",
       "0          NaN  NaN     96  NaN                     NaN  ...   NaN        NaN   \n",
       "1          NaN  NaN     95  NaN                     NaN  ...   NaN        NaN   \n",
       "2          NaN  NaN    392  NaN                     NaN  ...   NaN        NaN   \n",
       "3          NaN  NaN    392  NaN                     NaN  ...   NaN        NaN   \n",
       "4  OA-AL2b2-R1  NaN   1062  NaN                     NaN  ...   NaN        NaN   \n",
       "\n",
       "  optic_lobe_id column_id patch_id hemisphere Updated_postsynaptic_ID  \\\n",
       "0           R32       NaN      NaN          R      720575940633269971   \n",
       "1           R32       NaN      NaN          R      720575940633269971   \n",
       "2           R32       NaN      NaN          R      720575940633269971   \n",
       "3           R32       NaN      NaN          R      720575940633269971   \n",
       "4           R32       NaN      NaN          R      720575940633269971   \n",
       "\n",
       "   dorso-ventral Update_confidence_pre Update_confidence_post  \n",
       "0              V                   1.0                    1.0  \n",
       "1              V                   1.0                    1.0  \n",
       "2              V                   1.0                    1.0  \n",
       "3              V                   1.0                    1.0  \n",
       "4              V                   1.0                    1.0  \n",
       "\n",
       "[5 rows x 32 columns]"
      ]
     },
     "execution_count": 36,
     "metadata": {},
     "output_type": "execute_result"
    }
   ],
   "source": [
    "# Adding new columns to the main dataframe\n",
    "df[\"Updated_counts\"] = new_count_ls\n",
    "df[\"duplicates\"] =  copy_count_ls\n",
    "df.head()"
   ]
  },
  {
   "cell_type": "markdown",
   "id": "f1db6679",
   "metadata": {},
   "source": [
    "### 4. Saving back to the excell file"
   ]
  },
  {
   "cell_type": "code",
   "execution_count": 37,
   "id": "895a22bd",
   "metadata": {},
   "outputs": [],
   "source": [
    "# Creating string for the date\n",
    "import datetime\n",
    "x = datetime.datetime.now()\n",
    "date_str = x.strftime(\"%d\") + x.strftime(\"%b\") + x.strftime(\"%Y\")\n",
    "\n",
    "# Writting in an existing excel file\n",
    "from openpyxl import load_workbook\n",
    "book = load_workbook(filePath)\n",
    "writer = pd.ExcelWriter(filePath, engine = 'openpyxl')\n",
    "writer.book = book\n",
    "\n",
    "df.to_excel(writer, sheet_name='Updated_dataframe_'+date_str)\n",
    "writer.save()\n",
    "writer.close()"
   ]
  },
  {
   "cell_type": "markdown",
   "id": "a2b26163",
   "metadata": {},
   "source": [
    "### 3. Or, saving in a new excel file"
   ]
  },
  {
   "cell_type": "code",
   "execution_count": 38,
   "id": "55348263",
   "metadata": {},
   "outputs": [],
   "source": [
    "#Saving in a new file\n",
    "\n",
    "import datetime\n",
    "x = datetime.datetime.now()\n",
    "date_str = x.strftime(\"%d\") + x.strftime(\"%b\") + x.strftime(\"%Y\")\n",
    "\n",
    "file_name = f'Tm9_neurons_input_count_segments_update_{date_str}.xlsx'\n",
    "savePath = os.path.join(dataPath, file_name)\n",
    "df.to_excel(savePath, sheet_name='Segments update')"
   ]
  },
  {
   "cell_type": "code",
   "execution_count": 39,
   "id": "86ac870a",
   "metadata": {},
   "outputs": [
    {
     "data": {
      "text/plain": [
       "'D:\\\\Connectomics-Data\\\\FlyWire\\\\Excels\\\\drive-data-sets\\\\Tm9_neurons_input_count_segments_update_13Nov2023.xlsx'"
      ]
     },
     "execution_count": 39,
     "metadata": {},
     "output_type": "execute_result"
    }
   ],
   "source": [
    "savePath"
   ]
  },
  {
   "cell_type": "markdown",
   "id": "ce5b1975",
   "metadata": {},
   "source": [
    "### Faster update (code in progress...)"
   ]
  },
  {
   "cell_type": "code",
   "execution_count": null,
   "id": "3b4efa92",
   "metadata": {},
   "outputs": [],
   "source": [
    "#Updating segments (FAST)\n",
    "#Do all segments as once, but filter out columns with 'INPUTS PROOFREAD' first\n",
    "filtered_df = df[df[\"presynaptic_ID\"] =! 'INPUTS PROOFREAD'].copy()\n",
    "segmentIDs = filtered_df[\"seg_id\"]\n",
    "pre_IDs = filtered_df[\"presynaptic_ID\"]\n",
    "post_IDs = filtered_df[\"postsynaptic_ID\"]\n",
    "\n",
    "new_segmentIDs_df = flywire.update_ids(segmentIDs, stop_layer=2, supervoxels=None, timestamp=None, dataset='production', progress=True)\n",
    "new_segmentIDs = new_segmentIDs_df[\"new_id\"].tolist()\n"
   ]
  },
  {
   "cell_type": "code",
   "execution_count": null,
   "id": "4f447f75",
   "metadata": {},
   "outputs": [],
   "source": [
    "### Updating the dataframe\n",
    "# Adding the new url column to the data frame\n",
    "filtered_df[\"Updated_seg_id\"] = new_segmentIDs\n",
    "filtered_df[\"Updated_seg_id\"] = filtered_df[\"Updated_seg_id\"].astype(str) "
   ]
  },
  {
   "cell_type": "code",
   "execution_count": null,
   "id": "3c3414d1",
   "metadata": {},
   "outputs": [],
   "source": [
    "# Code not finished...."
   ]
  },
  {
   "cell_type": "code",
   "execution_count": null,
   "id": "350af226",
   "metadata": {},
   "outputs": [],
   "source": []
  },
  {
   "cell_type": "markdown",
   "id": "f33a2028",
   "metadata": {},
   "source": [
    "# B) Updating main postsynaptic neurons database"
   ]
  },
  {
   "cell_type": "markdown",
   "id": "6d77f535",
   "metadata": {},
   "source": [
    "### 1. Loading postsynaptic neuron dataframe"
   ]
  },
  {
   "cell_type": "code",
   "execution_count": 3,
   "id": "9371beb3",
   "metadata": {},
   "outputs": [],
   "source": [
    "# Choose path and file\n",
    "PC_disc = 'D'\n",
    "dataPath = f'{PC_disc}:\\Connectomics-Data\\FlyWire\\Excels\\drive-data-sets\\database'\n",
    "fileName = f'Tm9 proofreadings.xlsx'\n",
    "filePath = os.path.join(dataPath,fileName)"
   ]
  },
  {
   "cell_type": "code",
   "execution_count": 4,
   "id": "cc1b0994",
   "metadata": {
    "scrolled": false
   },
   "outputs": [
    {
     "data": {
      "text/html": [
       "<div>\n",
       "<style scoped>\n",
       "    .dataframe tbody tr th:only-of-type {\n",
       "        vertical-align: middle;\n",
       "    }\n",
       "\n",
       "    .dataframe tbody tr th {\n",
       "        vertical-align: top;\n",
       "    }\n",
       "\n",
       "    .dataframe thead th {\n",
       "        text-align: right;\n",
       "    }\n",
       "</style>\n",
       "<table border=\"1\" class=\"dataframe\">\n",
       "  <thead>\n",
       "    <tr style=\"text-align: right;\">\n",
       "      <th></th>\n",
       "      <th>XYZ-ME</th>\n",
       "      <th>symbol</th>\n",
       "      <th>XYZ-LO</th>\n",
       "      <th>quality comment</th>\n",
       "      <th>Mi4-connected</th>\n",
       "      <th>rim_area (Y/N)</th>\n",
       "      <th>hemisphere</th>\n",
       "      <th>lab</th>\n",
       "      <th>author</th>\n",
       "      <th>name</th>\n",
       "      <th>...</th>\n",
       "      <th>optic_lobe_id</th>\n",
       "      <th>patch_id</th>\n",
       "      <th>column_id</th>\n",
       "      <th>backbone proofread (Y/N)</th>\n",
       "      <th>twigs proofread (Y/N)</th>\n",
       "      <th>inputs_proofread (Y/N)</th>\n",
       "      <th>dark_neurons (Y/N)</th>\n",
       "      <th>healthy_L3 (Y/N)</th>\n",
       "      <th>detached_lamina (Y/N)</th>\n",
       "      <th>dorso-ventral</th>\n",
       "    </tr>\n",
       "  </thead>\n",
       "  <tbody>\n",
       "    <tr>\n",
       "      <th>0</th>\n",
       "      <td>63464.0,83140.0,5499.0</td>\n",
       "      <td>Tm9</td>\n",
       "      <td>82124.0,73675.0,5135.0</td>\n",
       "      <td>nan</td>\n",
       "      <td>nan</td>\n",
       "      <td>?</td>\n",
       "      <td>L</td>\n",
       "      <td>Marion Silies</td>\n",
       "      <td>Sebastian Molina-Obando</td>\n",
       "      <td>Tm9, Tm9_R, transmedullary neuron Tm9, FBbt_00...</td>\n",
       "      <td>...</td>\n",
       "      <td>L1</td>\n",
       "      <td>V</td>\n",
       "      <td>V1</td>\n",
       "      <td>Y</td>\n",
       "      <td>N</td>\n",
       "      <td>N</td>\n",
       "      <td>nan</td>\n",
       "      <td>N</td>\n",
       "      <td>?</td>\n",
       "      <td>V</td>\n",
       "    </tr>\n",
       "    <tr>\n",
       "      <th>1</th>\n",
       "      <td>67273.0,85576.0,5497.0</td>\n",
       "      <td>Tm9</td>\n",
       "      <td>84894.0,75635.0,5033.0</td>\n",
       "      <td>nan</td>\n",
       "      <td>nan</td>\n",
       "      <td>?</td>\n",
       "      <td>L</td>\n",
       "      <td>Marion Silies</td>\n",
       "      <td>Jonas Chojetzki</td>\n",
       "      <td>Tm9, Tm9_R, transmedullary neuron Tm9, FBbt_00...</td>\n",
       "      <td>...</td>\n",
       "      <td>L2</td>\n",
       "      <td>V</td>\n",
       "      <td>V2</td>\n",
       "      <td>Y</td>\n",
       "      <td>Y</td>\n",
       "      <td>Y</td>\n",
       "      <td>?</td>\n",
       "      <td>Y</td>\n",
       "      <td>Y</td>\n",
       "      <td>V</td>\n",
       "    </tr>\n",
       "    <tr>\n",
       "      <th>2</th>\n",
       "      <td>70063.0,88589.0,5760.0</td>\n",
       "      <td>Tm9</td>\n",
       "      <td>86449.0,78034.0,4816.0</td>\n",
       "      <td>nan</td>\n",
       "      <td>nan</td>\n",
       "      <td>?</td>\n",
       "      <td>L</td>\n",
       "      <td>Marion Silies</td>\n",
       "      <td>Sebastian Molina-Obando</td>\n",
       "      <td>Tm9, Tm9_R, transmedullary neuron Tm9, FBbt_00...</td>\n",
       "      <td>...</td>\n",
       "      <td>L3</td>\n",
       "      <td>V</td>\n",
       "      <td>V3</td>\n",
       "      <td>Y</td>\n",
       "      <td>Y</td>\n",
       "      <td>Y</td>\n",
       "      <td>Y</td>\n",
       "      <td>N</td>\n",
       "      <td>Y</td>\n",
       "      <td>V</td>\n",
       "    </tr>\n",
       "    <tr>\n",
       "      <th>3</th>\n",
       "      <td>65296.0,86194.0,6202.0</td>\n",
       "      <td>Tm9</td>\n",
       "      <td>81554.0,74784.0,4819.0</td>\n",
       "      <td>nan</td>\n",
       "      <td>nan</td>\n",
       "      <td>?</td>\n",
       "      <td>L</td>\n",
       "      <td>Marion Silies</td>\n",
       "      <td>Sebastian Molina-Obando</td>\n",
       "      <td>Tm9, Tm9_R, transmedullary neuron Tm9, FBbt_00...</td>\n",
       "      <td>...</td>\n",
       "      <td>L4</td>\n",
       "      <td>V</td>\n",
       "      <td>V4</td>\n",
       "      <td>N</td>\n",
       "      <td>N</td>\n",
       "      <td>N</td>\n",
       "      <td>nan</td>\n",
       "      <td>N</td>\n",
       "      <td>?</td>\n",
       "      <td>V</td>\n",
       "    </tr>\n",
       "    <tr>\n",
       "      <th>4</th>\n",
       "      <td>69273.0,86122.0,4826.0</td>\n",
       "      <td>Tm9</td>\n",
       "      <td>88273.0,76603.0,5126.0</td>\n",
       "      <td>nan</td>\n",
       "      <td>nan</td>\n",
       "      <td>?</td>\n",
       "      <td>L</td>\n",
       "      <td>Marion Silies</td>\n",
       "      <td>Sebastian Molina-Obando</td>\n",
       "      <td>Tm9, Tm9_R, transmedullary neuron Tm9, FBbt_00...</td>\n",
       "      <td>...</td>\n",
       "      <td>L5</td>\n",
       "      <td>V</td>\n",
       "      <td>V5</td>\n",
       "      <td>Y</td>\n",
       "      <td>N</td>\n",
       "      <td>N</td>\n",
       "      <td>nan</td>\n",
       "      <td>N</td>\n",
       "      <td>?</td>\n",
       "      <td>V</td>\n",
       "    </tr>\n",
       "  </tbody>\n",
       "</table>\n",
       "<p>5 rows × 25 columns</p>\n",
       "</div>"
      ],
      "text/plain": [
       "                   XYZ-ME symbol                  XYZ-LO quality comment  \\\n",
       "0  63464.0,83140.0,5499.0    Tm9  82124.0,73675.0,5135.0             nan   \n",
       "1  67273.0,85576.0,5497.0    Tm9  84894.0,75635.0,5033.0             nan   \n",
       "2  70063.0,88589.0,5760.0    Tm9  86449.0,78034.0,4816.0             nan   \n",
       "3  65296.0,86194.0,6202.0    Tm9  81554.0,74784.0,4819.0             nan   \n",
       "4  69273.0,86122.0,4826.0    Tm9  88273.0,76603.0,5126.0             nan   \n",
       "\n",
       "  Mi4-connected rim_area (Y/N) hemisphere            lab  \\\n",
       "0           nan              ?          L  Marion Silies   \n",
       "1           nan              ?          L  Marion Silies   \n",
       "2           nan              ?          L  Marion Silies   \n",
       "3           nan              ?          L  Marion Silies   \n",
       "4           nan              ?          L  Marion Silies   \n",
       "\n",
       "                    author                                               name  \\\n",
       "0  Sebastian Molina-Obando  Tm9, Tm9_R, transmedullary neuron Tm9, FBbt_00...   \n",
       "1          Jonas Chojetzki  Tm9, Tm9_R, transmedullary neuron Tm9, FBbt_00...   \n",
       "2  Sebastian Molina-Obando  Tm9, Tm9_R, transmedullary neuron Tm9, FBbt_00...   \n",
       "3  Sebastian Molina-Obando  Tm9, Tm9_R, transmedullary neuron Tm9, FBbt_00...   \n",
       "4  Sebastian Molina-Obando  Tm9, Tm9_R, transmedullary neuron Tm9, FBbt_00...   \n",
       "\n",
       "   ... optic_lobe_id patch_id column_id backbone proofread (Y/N)  \\\n",
       "0  ...            L1        V        V1                        Y   \n",
       "1  ...            L2        V        V2                        Y   \n",
       "2  ...            L3        V        V3                        Y   \n",
       "3  ...            L4        V        V4                        N   \n",
       "4  ...            L5        V        V5                        Y   \n",
       "\n",
       "  twigs proofread (Y/N) inputs_proofread (Y/N) dark_neurons (Y/N)  \\\n",
       "0                     N                      N                nan   \n",
       "1                     Y                      Y                  ?   \n",
       "2                     Y                      Y                  Y   \n",
       "3                     N                      N                nan   \n",
       "4                     N                      N                nan   \n",
       "\n",
       "  healthy_L3 (Y/N) detached_lamina (Y/N) dorso-ventral  \n",
       "0                N                     ?             V  \n",
       "1                Y                     Y             V  \n",
       "2                N                     Y             V  \n",
       "3                N                     ?             V  \n",
       "4                N                     ?             V  \n",
       "\n",
       "[5 rows x 25 columns]"
      ]
     },
     "metadata": {},
     "output_type": "display_data"
    }
   ],
   "source": [
    "#Loading file as DataFrame\n",
    "df = pd.read_excel(filePath)\n",
    "if df[\"seg_id\"][0] == 'asdf': #Dropping the fisrt row ('asdf' was added as a walk-around to set that column values as type str)\n",
    "    df = df.iloc[1: , :]\n",
    "    df.reset_index(inplace=True,drop=True)\n",
    "df = df.astype(str)\n",
    "display(df.head())\n",
    "segmentIDs = df[\"Updated_seg_id\"].tolist()"
   ]
  },
  {
   "cell_type": "code",
   "execution_count": 5,
   "id": "86065a65",
   "metadata": {},
   "outputs": [
    {
     "name": "stdout",
     "output_type": "stream",
     "text": [
      "['720575940631867211', '720575940629938298', '720575940619904728', '720575940626539592', '720575940616954181']\n"
     ]
    }
   ],
   "source": [
    "print(segmentIDs[0:5])"
   ]
  },
  {
   "cell_type": "markdown",
   "id": "fd61e9ba",
   "metadata": {},
   "source": [
    "### 2. Update with CAVE (not preferred)"
   ]
  },
  {
   "cell_type": "code",
   "execution_count": null,
   "id": "39d7f936",
   "metadata": {},
   "outputs": [],
   "source": [
    "#Update IDs witth chunkedgraph module of CAVE\n",
    "\n",
    "# For \"segmentsIDs\"\n",
    "#Empty spaces are type float and will be filled with \"0\"\n",
    "segmentsIDs_int = list(map(lambda x: 0 if type(x) == float else int(x),segmentIDs)) # From str to int\n",
    "#to create a np.zeros array is important for the next step\n",
    "new_segmentsIDs_int = list(map(lambda x: np.zeros(1) if x == 0 else client.chunkedgraph.get_latest_roots(x),segmentsIDs_int))\n",
    "#Updated IDs leading to more than one ID a single ID will be kept inside [] brakets.\n",
    "new_segmentsIDs_str = list(map(lambda x: str(x[0]) if x.size == 1 else x,new_segmentsIDs_int)) # From int to str"
   ]
  },
  {
   "cell_type": "code",
   "execution_count": null,
   "id": "2527c493",
   "metadata": {},
   "outputs": [],
   "source": [
    "# For \"pre_IDs\"\n",
    "#Empty spaces are type float and will be filled with \"0\"\n",
    "pre_IDs_int = list(map(lambda x: 0 if type(x) == float or x == 'INPUTS PROOFREAD'  else int(x),pre_IDs)) # From str to int\n",
    "#to create a np.zeros array is important for the next step\n",
    "new_pre_IDs_int = list(map(lambda x: np.zeros(1) if x == 0 else client.chunkedgraph.get_latest_roots(x),pre_IDs_int))\n",
    "#Updated IDs leading to more than one ID a single ID will be kept inside [] brakets.\n",
    "new_pre_IDs_str = list(map(lambda x: str(x[0]) if x.size == 1 else x,new_pre_IDs_int)) # From int to str"
   ]
  },
  {
   "cell_type": "code",
   "execution_count": null,
   "id": "eb41c2e9",
   "metadata": {},
   "outputs": [],
   "source": [
    "# For \"post_IDs\"\n",
    "#Empty spaces are type float and will be filled with \"0\"\n",
    "post_IDs_int = list(map(lambda x: 0 if type(x) == float else int(x),post_IDs)) # From str to int\n",
    "#to create a np.zeros array is important for the next step\n",
    "new_post_IDs_int = list(map(lambda x: np.zeros(1) if x == 0 else client.chunkedgraph.get_latest_roots(x),post_IDs_int))\n",
    "#Updated IDs leading to more than one ID a single ID will be kept inside [] brakets.\n",
    "new_post_IDs_str = list(map(lambda x: str(x[0]) if x.size == 1 else x,new_post_IDs_int)) # From int to str"
   ]
  },
  {
   "cell_type": "code",
   "execution_count": null,
   "id": "5bbf4756",
   "metadata": {},
   "outputs": [],
   "source": [
    "### Seleting the right pre_ID if the update gaves more than one\n",
    "#Getting the correct pre_IDs than contact each post_ID\n",
    "\n",
    "from functools import reduce\n",
    "\n",
    "correct_IDs = {}\n",
    "curr_post_ID = 'Start'\n",
    "for idx,pre_IDs in  enumerate(new_pre_IDs_str):\n",
    "        \n",
    "    #If there are multiple IDs in an array\n",
    "    if type(pre_IDs) != str and type(pre_IDs) == np.ndarray:\n",
    "        #Creatting synapses dataframe only once per each post_ID\n",
    "        if curr_post_ID != new_post_IDs_str[idx]:\n",
    "            synapses = flywire.synapses.fetch_synapses(new_post_IDs_str[idx], pre=False, post=True, attach=True,\n",
    "                                          min_score=50, clean=True, transmitters=False,\n",
    "                                          neuropils=True, batch_size=30,\n",
    "                                          dataset='production', progress=True,mat=\"live\")\n",
    "            #Update post_ID\n",
    "            print(f\"Looking at post_ID: {new_post_IDs_str[idx]}\") \n",
    "            curr_post_ID = new_post_IDs_str[idx]\n",
    "            \n",
    "        #Proof connectivity to the respective post_ID for each of them\n",
    "        for ID in pre_IDs:\n",
    "            if synapses[synapses['pre'] == ID].empty:\n",
    "                continue\n",
    "            else: # Only add the pre_ID (and its index) which has valid synapses with the post_IDs\n",
    "                if idx in correct_IDs.keys(): # If there is already a valid ID, add other valid IDs \n",
    "                    curr_value =correct_IDs[idx]\n",
    "                    new_value = curr_value+\"_\"+str(ID)\n",
    "                    correct_IDs[idx] =new_value\n",
    "                else:\n",
    "                    correct_IDs[idx]=str(ID)\n",
    "\n",
    "# Fixing the updated pre_IDs_str_list\n",
    "for key, value in correct_IDs.items():\n",
    "    new_pre_IDs_str[key] = value\n",
    "    \n"
   ]
  },
  {
   "cell_type": "code",
   "execution_count": null,
   "id": "ae0d9c03",
   "metadata": {},
   "outputs": [],
   "source": [
    "### Updating the dataframe\n",
    "# Adding the new url column to the data frame\n",
    "df[\"Updated_pre_IDs\"] = new_pre_IDs_str\n",
    "df[\"Updated_post_IDs\"] = new_post_IDs_str"
   ]
  },
  {
   "cell_type": "markdown",
   "id": "df911c6d",
   "metadata": {},
   "source": [
    "### 2. Update with FAFB (predered)"
   ]
  },
  {
   "cell_type": "code",
   "execution_count": 6,
   "id": "94d797c3",
   "metadata": {},
   "outputs": [
    {
     "data": {
      "application/vnd.jupyter.widget-view+json": {
       "model_id": "",
       "version_major": 2,
       "version_minor": 0
      },
      "text/plain": [
       "Updating:   0%|          | 0/1481 [00:00<?, ?it/s]"
      ]
     },
     "metadata": {},
     "output_type": "display_data"
    }
   ],
   "source": [
    "# Updating the segmentIDs\n",
    "new_segmentIDs_df = flywire.update_ids(segmentIDs, stop_layer=2, supervoxels=None, timestamp=None, dataset='production', progress=True)"
   ]
  },
  {
   "cell_type": "code",
   "execution_count": 7,
   "id": "435ee322",
   "metadata": {},
   "outputs": [
    {
     "data": {
      "text/plain": [
       "array([1.  , 0.97, 0.95, 0.99, 0.75, 0.89])"
      ]
     },
     "execution_count": 7,
     "metadata": {},
     "output_type": "execute_result"
    }
   ],
   "source": [
    "new_segmentIDs_df[\"confidence\"].unique()"
   ]
  },
  {
   "cell_type": "code",
   "execution_count": 8,
   "id": "eb93b20e",
   "metadata": {},
   "outputs": [
    {
     "data": {
      "text/html": [
       "<div>\n",
       "<style scoped>\n",
       "    .dataframe tbody tr th:only-of-type {\n",
       "        vertical-align: middle;\n",
       "    }\n",
       "\n",
       "    .dataframe tbody tr th {\n",
       "        vertical-align: top;\n",
       "    }\n",
       "\n",
       "    .dataframe thead th {\n",
       "        text-align: right;\n",
       "    }\n",
       "</style>\n",
       "<table border=\"1\" class=\"dataframe\">\n",
       "  <thead>\n",
       "    <tr style=\"text-align: right;\">\n",
       "      <th></th>\n",
       "      <th>XYZ-ME</th>\n",
       "      <th>symbol</th>\n",
       "      <th>XYZ-LO</th>\n",
       "      <th>quality comment</th>\n",
       "      <th>Mi4-connected</th>\n",
       "      <th>rim_area (Y/N)</th>\n",
       "      <th>hemisphere</th>\n",
       "      <th>lab</th>\n",
       "      <th>author</th>\n",
       "      <th>name</th>\n",
       "      <th>...</th>\n",
       "      <th>optic_lobe_id</th>\n",
       "      <th>patch_id</th>\n",
       "      <th>column_id</th>\n",
       "      <th>backbone proofread (Y/N)</th>\n",
       "      <th>twigs proofread (Y/N)</th>\n",
       "      <th>inputs_proofread (Y/N)</th>\n",
       "      <th>dark_neurons (Y/N)</th>\n",
       "      <th>healthy_L3 (Y/N)</th>\n",
       "      <th>detached_lamina (Y/N)</th>\n",
       "      <th>dorso-ventral</th>\n",
       "    </tr>\n",
       "  </thead>\n",
       "  <tbody>\n",
       "    <tr>\n",
       "      <th>0</th>\n",
       "      <td>63464.0,83140.0,5499.0</td>\n",
       "      <td>Tm9</td>\n",
       "      <td>82124.0,73675.0,5135.0</td>\n",
       "      <td>nan</td>\n",
       "      <td>nan</td>\n",
       "      <td>?</td>\n",
       "      <td>L</td>\n",
       "      <td>Marion Silies</td>\n",
       "      <td>Sebastian Molina-Obando</td>\n",
       "      <td>Tm9, Tm9_R, transmedullary neuron Tm9, FBbt_00...</td>\n",
       "      <td>...</td>\n",
       "      <td>L1</td>\n",
       "      <td>V</td>\n",
       "      <td>V1</td>\n",
       "      <td>Y</td>\n",
       "      <td>N</td>\n",
       "      <td>N</td>\n",
       "      <td>nan</td>\n",
       "      <td>N</td>\n",
       "      <td>?</td>\n",
       "      <td>V</td>\n",
       "    </tr>\n",
       "    <tr>\n",
       "      <th>1</th>\n",
       "      <td>67273.0,85576.0,5497.0</td>\n",
       "      <td>Tm9</td>\n",
       "      <td>84894.0,75635.0,5033.0</td>\n",
       "      <td>nan</td>\n",
       "      <td>nan</td>\n",
       "      <td>?</td>\n",
       "      <td>L</td>\n",
       "      <td>Marion Silies</td>\n",
       "      <td>Jonas Chojetzki</td>\n",
       "      <td>Tm9, Tm9_R, transmedullary neuron Tm9, FBbt_00...</td>\n",
       "      <td>...</td>\n",
       "      <td>L2</td>\n",
       "      <td>V</td>\n",
       "      <td>V2</td>\n",
       "      <td>Y</td>\n",
       "      <td>Y</td>\n",
       "      <td>Y</td>\n",
       "      <td>?</td>\n",
       "      <td>Y</td>\n",
       "      <td>Y</td>\n",
       "      <td>V</td>\n",
       "    </tr>\n",
       "    <tr>\n",
       "      <th>2</th>\n",
       "      <td>70063.0,88589.0,5760.0</td>\n",
       "      <td>Tm9</td>\n",
       "      <td>86449.0,78034.0,4816.0</td>\n",
       "      <td>nan</td>\n",
       "      <td>nan</td>\n",
       "      <td>?</td>\n",
       "      <td>L</td>\n",
       "      <td>Marion Silies</td>\n",
       "      <td>Sebastian Molina-Obando</td>\n",
       "      <td>Tm9, Tm9_R, transmedullary neuron Tm9, FBbt_00...</td>\n",
       "      <td>...</td>\n",
       "      <td>L3</td>\n",
       "      <td>V</td>\n",
       "      <td>V3</td>\n",
       "      <td>Y</td>\n",
       "      <td>Y</td>\n",
       "      <td>Y</td>\n",
       "      <td>Y</td>\n",
       "      <td>N</td>\n",
       "      <td>Y</td>\n",
       "      <td>V</td>\n",
       "    </tr>\n",
       "    <tr>\n",
       "      <th>3</th>\n",
       "      <td>65296.0,86194.0,6202.0</td>\n",
       "      <td>Tm9</td>\n",
       "      <td>81554.0,74784.0,4819.0</td>\n",
       "      <td>nan</td>\n",
       "      <td>nan</td>\n",
       "      <td>?</td>\n",
       "      <td>L</td>\n",
       "      <td>Marion Silies</td>\n",
       "      <td>Sebastian Molina-Obando</td>\n",
       "      <td>Tm9, Tm9_R, transmedullary neuron Tm9, FBbt_00...</td>\n",
       "      <td>...</td>\n",
       "      <td>L4</td>\n",
       "      <td>V</td>\n",
       "      <td>V4</td>\n",
       "      <td>N</td>\n",
       "      <td>N</td>\n",
       "      <td>N</td>\n",
       "      <td>nan</td>\n",
       "      <td>N</td>\n",
       "      <td>?</td>\n",
       "      <td>V</td>\n",
       "    </tr>\n",
       "    <tr>\n",
       "      <th>4</th>\n",
       "      <td>69273.0,86122.0,4826.0</td>\n",
       "      <td>Tm9</td>\n",
       "      <td>88273.0,76603.0,5126.0</td>\n",
       "      <td>nan</td>\n",
       "      <td>nan</td>\n",
       "      <td>?</td>\n",
       "      <td>L</td>\n",
       "      <td>Marion Silies</td>\n",
       "      <td>Sebastian Molina-Obando</td>\n",
       "      <td>Tm9, Tm9_R, transmedullary neuron Tm9, FBbt_00...</td>\n",
       "      <td>...</td>\n",
       "      <td>L5</td>\n",
       "      <td>V</td>\n",
       "      <td>V5</td>\n",
       "      <td>Y</td>\n",
       "      <td>N</td>\n",
       "      <td>N</td>\n",
       "      <td>nan</td>\n",
       "      <td>N</td>\n",
       "      <td>?</td>\n",
       "      <td>V</td>\n",
       "    </tr>\n",
       "  </tbody>\n",
       "</table>\n",
       "<p>5 rows × 25 columns</p>\n",
       "</div>"
      ],
      "text/plain": [
       "                   XYZ-ME symbol                  XYZ-LO quality comment  \\\n",
       "0  63464.0,83140.0,5499.0    Tm9  82124.0,73675.0,5135.0             nan   \n",
       "1  67273.0,85576.0,5497.0    Tm9  84894.0,75635.0,5033.0             nan   \n",
       "2  70063.0,88589.0,5760.0    Tm9  86449.0,78034.0,4816.0             nan   \n",
       "3  65296.0,86194.0,6202.0    Tm9  81554.0,74784.0,4819.0             nan   \n",
       "4  69273.0,86122.0,4826.0    Tm9  88273.0,76603.0,5126.0             nan   \n",
       "\n",
       "  Mi4-connected rim_area (Y/N) hemisphere            lab  \\\n",
       "0           nan              ?          L  Marion Silies   \n",
       "1           nan              ?          L  Marion Silies   \n",
       "2           nan              ?          L  Marion Silies   \n",
       "3           nan              ?          L  Marion Silies   \n",
       "4           nan              ?          L  Marion Silies   \n",
       "\n",
       "                    author                                               name  \\\n",
       "0  Sebastian Molina-Obando  Tm9, Tm9_R, transmedullary neuron Tm9, FBbt_00...   \n",
       "1          Jonas Chojetzki  Tm9, Tm9_R, transmedullary neuron Tm9, FBbt_00...   \n",
       "2  Sebastian Molina-Obando  Tm9, Tm9_R, transmedullary neuron Tm9, FBbt_00...   \n",
       "3  Sebastian Molina-Obando  Tm9, Tm9_R, transmedullary neuron Tm9, FBbt_00...   \n",
       "4  Sebastian Molina-Obando  Tm9, Tm9_R, transmedullary neuron Tm9, FBbt_00...   \n",
       "\n",
       "   ... optic_lobe_id patch_id column_id backbone proofread (Y/N)  \\\n",
       "0  ...            L1        V        V1                        Y   \n",
       "1  ...            L2        V        V2                        Y   \n",
       "2  ...            L3        V        V3                        Y   \n",
       "3  ...            L4        V        V4                        N   \n",
       "4  ...            L5        V        V5                        Y   \n",
       "\n",
       "  twigs proofread (Y/N) inputs_proofread (Y/N) dark_neurons (Y/N)  \\\n",
       "0                     N                      N                nan   \n",
       "1                     Y                      Y                  ?   \n",
       "2                     Y                      Y                  Y   \n",
       "3                     N                      N                nan   \n",
       "4                     N                      N                nan   \n",
       "\n",
       "  healthy_L3 (Y/N) detached_lamina (Y/N) dorso-ventral  \n",
       "0                N                     ?             V  \n",
       "1                Y                     Y             V  \n",
       "2                N                     Y             V  \n",
       "3                N                     ?             V  \n",
       "4                N                     ?             V  \n",
       "\n",
       "[5 rows x 25 columns]"
      ]
     },
     "execution_count": 8,
     "metadata": {},
     "output_type": "execute_result"
    }
   ],
   "source": [
    "### Updating the dataframe\n",
    "# Adding the new column to the data frame\n",
    "df[\"Update_confidence\"] = new_segmentIDs_df[\"confidence\"].astype(str).tolist()\n",
    "df[\"Updated_seg_id\"] = new_segmentIDs_df[\"new_id\"].astype(str).tolist()\n",
    "df.head()"
   ]
  },
  {
   "cell_type": "code",
   "execution_count": 9,
   "id": "5b6b295d",
   "metadata": {},
   "outputs": [
    {
     "data": {
      "text/html": [
       "<div>\n",
       "<style scoped>\n",
       "    .dataframe tbody tr th:only-of-type {\n",
       "        vertical-align: middle;\n",
       "    }\n",
       "\n",
       "    .dataframe tbody tr th {\n",
       "        vertical-align: top;\n",
       "    }\n",
       "\n",
       "    .dataframe thead th {\n",
       "        text-align: right;\n",
       "    }\n",
       "</style>\n",
       "<table border=\"1\" class=\"dataframe\">\n",
       "  <thead>\n",
       "    <tr style=\"text-align: right;\">\n",
       "      <th></th>\n",
       "      <th>XYZ-ME</th>\n",
       "      <th>symbol</th>\n",
       "      <th>XYZ-LO</th>\n",
       "      <th>quality comment</th>\n",
       "      <th>Mi4-connected</th>\n",
       "      <th>rim_area (Y/N)</th>\n",
       "      <th>hemisphere</th>\n",
       "      <th>lab</th>\n",
       "      <th>author</th>\n",
       "      <th>name</th>\n",
       "      <th>...</th>\n",
       "      <th>optic_lobe_id</th>\n",
       "      <th>patch_id</th>\n",
       "      <th>column_id</th>\n",
       "      <th>backbone proofread (Y/N)</th>\n",
       "      <th>twigs proofread (Y/N)</th>\n",
       "      <th>inputs_proofread (Y/N)</th>\n",
       "      <th>dark_neurons (Y/N)</th>\n",
       "      <th>healthy_L3 (Y/N)</th>\n",
       "      <th>detached_lamina (Y/N)</th>\n",
       "      <th>dorso-ventral</th>\n",
       "    </tr>\n",
       "  </thead>\n",
       "  <tbody>\n",
       "  </tbody>\n",
       "</table>\n",
       "<p>0 rows × 25 columns</p>\n",
       "</div>"
      ],
      "text/plain": [
       "Empty DataFrame\n",
       "Columns: [XYZ-ME, symbol, XYZ-LO, quality comment, Mi4-connected, rim_area (Y/N), hemisphere, lab, author, name, seg_id, identified_in, Updated_seg_id, Update_confidence, lab authorship (Y/N), optic_lobe_id, patch_id, column_id, backbone proofread (Y/N), twigs proofread (Y/N), inputs_proofread (Y/N), dark_neurons (Y/N), healthy_L3 (Y/N), detached_lamina (Y/N), dorso-ventral]\n",
       "Index: []\n",
       "\n",
       "[0 rows x 25 columns]"
      ]
     },
     "execution_count": 9,
     "metadata": {},
     "output_type": "execute_result"
    }
   ],
   "source": [
    "#Checking duplicates in ids\n",
    "df[df[\"Updated_seg_id\"].duplicated() == True]"
   ]
  },
  {
   "cell_type": "code",
   "execution_count": 10,
   "id": "1029b2a8",
   "metadata": {},
   "outputs": [
    {
     "data": {
      "text/html": [
       "<div>\n",
       "<style scoped>\n",
       "    .dataframe tbody tr th:only-of-type {\n",
       "        vertical-align: middle;\n",
       "    }\n",
       "\n",
       "    .dataframe tbody tr th {\n",
       "        vertical-align: top;\n",
       "    }\n",
       "\n",
       "    .dataframe thead th {\n",
       "        text-align: right;\n",
       "    }\n",
       "</style>\n",
       "<table border=\"1\" class=\"dataframe\">\n",
       "  <thead>\n",
       "    <tr style=\"text-align: right;\">\n",
       "      <th></th>\n",
       "      <th>XYZ-ME</th>\n",
       "      <th>symbol</th>\n",
       "      <th>XYZ-LO</th>\n",
       "      <th>quality comment</th>\n",
       "      <th>Mi4-connected</th>\n",
       "      <th>rim_area (Y/N)</th>\n",
       "      <th>hemisphere</th>\n",
       "      <th>lab</th>\n",
       "      <th>author</th>\n",
       "      <th>name</th>\n",
       "      <th>...</th>\n",
       "      <th>optic_lobe_id</th>\n",
       "      <th>patch_id</th>\n",
       "      <th>column_id</th>\n",
       "      <th>backbone proofread (Y/N)</th>\n",
       "      <th>twigs proofread (Y/N)</th>\n",
       "      <th>inputs_proofread (Y/N)</th>\n",
       "      <th>dark_neurons (Y/N)</th>\n",
       "      <th>healthy_L3 (Y/N)</th>\n",
       "      <th>detached_lamina (Y/N)</th>\n",
       "      <th>dorso-ventral</th>\n",
       "    </tr>\n",
       "  </thead>\n",
       "  <tbody>\n",
       "    <tr>\n",
       "      <th>37</th>\n",
       "      <td>54698.0,57524.0,5800.0</td>\n",
       "      <td>Tm9</td>\n",
       "      <td>75082.0,56266.0,5383.0</td>\n",
       "      <td>nan</td>\n",
       "      <td>nan</td>\n",
       "      <td>?</td>\n",
       "      <td>L</td>\n",
       "      <td>Marion Silies</td>\n",
       "      <td>Sebastian Molina-Obando</td>\n",
       "      <td>Tm9, Tm9_R, transmedullary neuron Tm9, FBbt_00...</td>\n",
       "      <td>...</td>\n",
       "      <td>L38</td>\n",
       "      <td>D</td>\n",
       "      <td>D11</td>\n",
       "      <td>Y</td>\n",
       "      <td>N</td>\n",
       "      <td>N</td>\n",
       "      <td>nan</td>\n",
       "      <td>Y</td>\n",
       "      <td>N</td>\n",
       "      <td>D</td>\n",
       "    </tr>\n",
       "    <tr>\n",
       "      <th>308</th>\n",
       "      <td>63273.0,85176.0,6032.0</td>\n",
       "      <td>Tm9</td>\n",
       "      <td>81113.0,74569.0,4947.0</td>\n",
       "      <td>nan</td>\n",
       "      <td>nan</td>\n",
       "      <td>?</td>\n",
       "      <td>L</td>\n",
       "      <td>Borst Lab</td>\n",
       "      <td>Amalia Braun</td>\n",
       "      <td>Tm9, Tm9_R, transmedullary neuron Tm9, FBbt_00...</td>\n",
       "      <td>...</td>\n",
       "      <td>L309</td>\n",
       "      <td>nan</td>\n",
       "      <td>nan</td>\n",
       "      <td>N</td>\n",
       "      <td>N</td>\n",
       "      <td>N</td>\n",
       "      <td>nan</td>\n",
       "      <td>N</td>\n",
       "      <td>?</td>\n",
       "      <td>V</td>\n",
       "    </tr>\n",
       "    <tr>\n",
       "      <th>497</th>\n",
       "      <td>75858.0,64623.0,3445.0</td>\n",
       "      <td>Tm9</td>\n",
       "      <td>90216.0,63152.0,6096.0</td>\n",
       "      <td>nan</td>\n",
       "      <td>nan</td>\n",
       "      <td>?</td>\n",
       "      <td>L</td>\n",
       "      <td>Marion Silies</td>\n",
       "      <td>Jonas Chojetzki</td>\n",
       "      <td>Tm9, Tm9_R, transmedullary neuron Tm9, FBbt_00...</td>\n",
       "      <td>...</td>\n",
       "      <td>L498</td>\n",
       "      <td>nan</td>\n",
       "      <td>nan</td>\n",
       "      <td>Y</td>\n",
       "      <td>N</td>\n",
       "      <td>N</td>\n",
       "      <td>nan</td>\n",
       "      <td>N</td>\n",
       "      <td>?</td>\n",
       "      <td>V</td>\n",
       "    </tr>\n",
       "    <tr>\n",
       "      <th>538</th>\n",
       "      <td>75954.0,86210.0,4327.0</td>\n",
       "      <td>Tm9</td>\n",
       "      <td>92845.0,77280.0,5202.0</td>\n",
       "      <td>nan</td>\n",
       "      <td>nan</td>\n",
       "      <td>?</td>\n",
       "      <td>L</td>\n",
       "      <td>Axel Borst Lab</td>\n",
       "      <td>Amalia Braun</td>\n",
       "      <td>Tm9, Tm9_R, transmedullary neuron Tm9, FBbt_00...</td>\n",
       "      <td>...</td>\n",
       "      <td>L539</td>\n",
       "      <td>nan</td>\n",
       "      <td>nan</td>\n",
       "      <td>Y</td>\n",
       "      <td>N</td>\n",
       "      <td>N</td>\n",
       "      <td>nan</td>\n",
       "      <td>N</td>\n",
       "      <td>?</td>\n",
       "      <td>V</td>\n",
       "    </tr>\n",
       "    <tr>\n",
       "      <th>623</th>\n",
       "      <td>54845.0,66831.0,5547.0</td>\n",
       "      <td>Tm9</td>\n",
       "      <td>76772.0,62359.0,5406.0</td>\n",
       "      <td>nan</td>\n",
       "      <td>nan</td>\n",
       "      <td>?</td>\n",
       "      <td>L</td>\n",
       "      <td>Marion Silies</td>\n",
       "      <td>Lena Lörsch</td>\n",
       "      <td>Tm9, Tm9_R, transmedullary neuron Tm9, FBbt_00...</td>\n",
       "      <td>...</td>\n",
       "      <td>L624</td>\n",
       "      <td>nan</td>\n",
       "      <td>nan</td>\n",
       "      <td>Y</td>\n",
       "      <td>N</td>\n",
       "      <td>Y</td>\n",
       "      <td>nan</td>\n",
       "      <td>Y</td>\n",
       "      <td>N</td>\n",
       "      <td>D</td>\n",
       "    </tr>\n",
       "    <tr>\n",
       "      <th>1252</th>\n",
       "      <td>192857.0,95078.0,4876.0</td>\n",
       "      <td>Tm9</td>\n",
       "      <td>173998.0,83272.0,3753.0</td>\n",
       "      <td>strange dendrite</td>\n",
       "      <td>nan</td>\n",
       "      <td>Y</td>\n",
       "      <td>R</td>\n",
       "      <td>Eyewire</td>\n",
       "      <td>Krzysztof Kruk</td>\n",
       "      <td>Tm9; Transmedullary neuron 9; FBbt_00003797</td>\n",
       "      <td>...</td>\n",
       "      <td>R562</td>\n",
       "      <td>nan</td>\n",
       "      <td>nan</td>\n",
       "      <td>N</td>\n",
       "      <td>N</td>\n",
       "      <td>N</td>\n",
       "      <td>nan</td>\n",
       "      <td>Y</td>\n",
       "      <td>N</td>\n",
       "      <td>V</td>\n",
       "    </tr>\n",
       "    <tr>\n",
       "      <th>1386</th>\n",
       "      <td>180784.0,96416.0,4089.0</td>\n",
       "      <td>Tm9</td>\n",
       "      <td>166805.0,85596.0,4004.0</td>\n",
       "      <td>strange dendrite</td>\n",
       "      <td>nan</td>\n",
       "      <td>Y</td>\n",
       "      <td>R</td>\n",
       "      <td>nan</td>\n",
       "      <td>nan</td>\n",
       "      <td>nan</td>\n",
       "      <td>...</td>\n",
       "      <td>R696</td>\n",
       "      <td>nan</td>\n",
       "      <td>nan</td>\n",
       "      <td>N</td>\n",
       "      <td>N</td>\n",
       "      <td>N</td>\n",
       "      <td>nan</td>\n",
       "      <td>?</td>\n",
       "      <td>N</td>\n",
       "      <td>nan</td>\n",
       "    </tr>\n",
       "  </tbody>\n",
       "</table>\n",
       "<p>7 rows × 25 columns</p>\n",
       "</div>"
      ],
      "text/plain": [
       "                       XYZ-ME symbol                   XYZ-LO  \\\n",
       "37     54698.0,57524.0,5800.0    Tm9   75082.0,56266.0,5383.0   \n",
       "308    63273.0,85176.0,6032.0    Tm9   81113.0,74569.0,4947.0   \n",
       "497    75858.0,64623.0,3445.0    Tm9   90216.0,63152.0,6096.0   \n",
       "538    75954.0,86210.0,4327.0    Tm9   92845.0,77280.0,5202.0   \n",
       "623    54845.0,66831.0,5547.0    Tm9   76772.0,62359.0,5406.0   \n",
       "1252  192857.0,95078.0,4876.0    Tm9  173998.0,83272.0,3753.0   \n",
       "1386  180784.0,96416.0,4089.0    Tm9  166805.0,85596.0,4004.0   \n",
       "\n",
       "       quality comment Mi4-connected rim_area (Y/N) hemisphere  \\\n",
       "37                 nan           nan              ?          L   \n",
       "308                nan           nan              ?          L   \n",
       "497                nan           nan              ?          L   \n",
       "538                nan           nan              ?          L   \n",
       "623                nan           nan              ?          L   \n",
       "1252  strange dendrite           nan              Y          R   \n",
       "1386  strange dendrite           nan              Y          R   \n",
       "\n",
       "                 lab                   author  \\\n",
       "37     Marion Silies  Sebastian Molina-Obando   \n",
       "308        Borst Lab             Amalia Braun   \n",
       "497    Marion Silies          Jonas Chojetzki   \n",
       "538   Axel Borst Lab             Amalia Braun   \n",
       "623    Marion Silies              Lena Lörsch   \n",
       "1252         Eyewire           Krzysztof Kruk   \n",
       "1386             nan                      nan   \n",
       "\n",
       "                                                   name  ... optic_lobe_id  \\\n",
       "37    Tm9, Tm9_R, transmedullary neuron Tm9, FBbt_00...  ...           L38   \n",
       "308   Tm9, Tm9_R, transmedullary neuron Tm9, FBbt_00...  ...          L309   \n",
       "497   Tm9, Tm9_R, transmedullary neuron Tm9, FBbt_00...  ...          L498   \n",
       "538   Tm9, Tm9_R, transmedullary neuron Tm9, FBbt_00...  ...          L539   \n",
       "623   Tm9, Tm9_R, transmedullary neuron Tm9, FBbt_00...  ...          L624   \n",
       "1252        Tm9; Transmedullary neuron 9; FBbt_00003797  ...          R562   \n",
       "1386                                                nan  ...          R696   \n",
       "\n",
       "     patch_id column_id backbone proofread (Y/N) twigs proofread (Y/N)  \\\n",
       "37          D       D11                        Y                     N   \n",
       "308       nan       nan                        N                     N   \n",
       "497       nan       nan                        Y                     N   \n",
       "538       nan       nan                        Y                     N   \n",
       "623       nan       nan                        Y                     N   \n",
       "1252      nan       nan                        N                     N   \n",
       "1386      nan       nan                        N                     N   \n",
       "\n",
       "     inputs_proofread (Y/N) dark_neurons (Y/N) healthy_L3 (Y/N)  \\\n",
       "37                        N                nan                Y   \n",
       "308                       N                nan                N   \n",
       "497                       N                nan                N   \n",
       "538                       N                nan                N   \n",
       "623                       Y                nan                Y   \n",
       "1252                      N                nan                Y   \n",
       "1386                      N                nan                ?   \n",
       "\n",
       "     detached_lamina (Y/N) dorso-ventral  \n",
       "37                       N             D  \n",
       "308                      ?             V  \n",
       "497                      ?             V  \n",
       "538                      ?             V  \n",
       "623                      N             D  \n",
       "1252                     N             V  \n",
       "1386                     N           nan  \n",
       "\n",
       "[7 rows x 25 columns]"
      ]
     },
     "execution_count": 10,
     "metadata": {},
     "output_type": "execute_result"
    }
   ],
   "source": [
    "#Checking updated ids\n",
    "df[df[\"Update_confidence\"].astype(float) < 1.]"
   ]
  },
  {
   "cell_type": "markdown",
   "id": "271c1dff",
   "metadata": {},
   "source": [
    "### 3. If wished: Reorder rows based on condition"
   ]
  },
  {
   "cell_type": "code",
   "execution_count": null,
   "id": "618c5223",
   "metadata": {},
   "outputs": [],
   "source": [
    "sorted_df = df.sort_values(by = 'cluster_id').copy()"
   ]
  },
  {
   "cell_type": "code",
   "execution_count": 39,
   "id": "c37a7fe5",
   "metadata": {},
   "outputs": [],
   "source": [
    "sorted_df = df.copy()"
   ]
  },
  {
   "cell_type": "code",
   "execution_count": 57,
   "id": "140c3852",
   "metadata": {
    "scrolled": true
   },
   "outputs": [
    {
     "data": {
      "text/plain": [
       "0       720575940631867211\n",
       "1       720575940629938298\n",
       "2       720575940619904728\n",
       "3       720575940626539592\n",
       "4       720575940616954181\n",
       "               ...        \n",
       "1370    720575940602880736\n",
       "1371    720575940612861462\n",
       "1372    720575940620517312\n",
       "1373    720575940615223199\n",
       "1374    720575940619077686\n",
       "Name: seg_id, Length: 1375, dtype: int64"
      ]
     },
     "execution_count": 57,
     "metadata": {},
     "output_type": "execute_result"
    }
   ],
   "source": [
    "df[\"seg_id\"]"
   ]
  },
  {
   "cell_type": "markdown",
   "id": "c187aae5",
   "metadata": {},
   "source": [
    "### 3. If wished: Add specific column status based on another file"
   ]
  },
  {
   "cell_type": "markdown",
   "id": "8d6f604b",
   "metadata": {},
   "source": [
    "### 3.1 Based on a txt with list of ids"
   ]
  },
  {
   "cell_type": "code",
   "execution_count": 13,
   "id": "2272e4af",
   "metadata": {},
   "outputs": [
    {
     "data": {
      "text/html": [
       "<div>\n",
       "<style scoped>\n",
       "    .dataframe tbody tr th:only-of-type {\n",
       "        vertical-align: middle;\n",
       "    }\n",
       "\n",
       "    .dataframe tbody tr th {\n",
       "        vertical-align: top;\n",
       "    }\n",
       "\n",
       "    .dataframe thead th {\n",
       "        text-align: right;\n",
       "    }\n",
       "</style>\n",
       "<table border=\"1\" class=\"dataframe\">\n",
       "  <thead>\n",
       "    <tr style=\"text-align: right;\">\n",
       "      <th></th>\n",
       "      <th>XYZ-ME</th>\n",
       "      <th>symbol</th>\n",
       "      <th>XYZ-LO</th>\n",
       "      <th>quality comment</th>\n",
       "      <th>Mi4-connected</th>\n",
       "      <th>rim_area (Y/N)</th>\n",
       "      <th>hemisphere</th>\n",
       "      <th>lab</th>\n",
       "      <th>author</th>\n",
       "      <th>name</th>\n",
       "      <th>...</th>\n",
       "      <th>column_id</th>\n",
       "      <th>backbone proofread (Y/N)</th>\n",
       "      <th>twigs proofread (Y/N)</th>\n",
       "      <th>inputs_proofread (Y/N)</th>\n",
       "      <th>dark_neurons (Y/N)</th>\n",
       "      <th>healthy_L3 (Y/N)</th>\n",
       "      <th>detached_lamina (Y/N)</th>\n",
       "      <th>dorso-ventral</th>\n",
       "      <th>rim_area (Y/N))_updated</th>\n",
       "      <th>rim_area (Y/N)_updated</th>\n",
       "    </tr>\n",
       "  </thead>\n",
       "  <tbody>\n",
       "    <tr>\n",
       "      <th>0</th>\n",
       "      <td>63464.0,83140.0,5499.0</td>\n",
       "      <td>Tm9</td>\n",
       "      <td>82124.0,73675.0,5135.0</td>\n",
       "      <td>nan</td>\n",
       "      <td>nan</td>\n",
       "      <td>?</td>\n",
       "      <td>L</td>\n",
       "      <td>Marion Silies</td>\n",
       "      <td>Sebastian Molina-Obando</td>\n",
       "      <td>Tm9, Tm9_R, transmedullary neuron Tm9, FBbt_00...</td>\n",
       "      <td>...</td>\n",
       "      <td>V1</td>\n",
       "      <td>Y</td>\n",
       "      <td>N</td>\n",
       "      <td>N</td>\n",
       "      <td>nan</td>\n",
       "      <td>N</td>\n",
       "      <td>?</td>\n",
       "      <td>V</td>\n",
       "      <td>N</td>\n",
       "      <td>N</td>\n",
       "    </tr>\n",
       "    <tr>\n",
       "      <th>1</th>\n",
       "      <td>67273.0,85576.0,5497.0</td>\n",
       "      <td>Tm9</td>\n",
       "      <td>84894.0,75635.0,5033.0</td>\n",
       "      <td>nan</td>\n",
       "      <td>nan</td>\n",
       "      <td>?</td>\n",
       "      <td>L</td>\n",
       "      <td>Marion Silies</td>\n",
       "      <td>Jonas Chojetzki</td>\n",
       "      <td>Tm9, Tm9_R, transmedullary neuron Tm9, FBbt_00...</td>\n",
       "      <td>...</td>\n",
       "      <td>V2</td>\n",
       "      <td>Y</td>\n",
       "      <td>Y</td>\n",
       "      <td>Y</td>\n",
       "      <td>?</td>\n",
       "      <td>Y</td>\n",
       "      <td>Y</td>\n",
       "      <td>V</td>\n",
       "      <td>N</td>\n",
       "      <td>N</td>\n",
       "    </tr>\n",
       "    <tr>\n",
       "      <th>2</th>\n",
       "      <td>70063.0,88589.0,5760.0</td>\n",
       "      <td>Tm9</td>\n",
       "      <td>86449.0,78034.0,4816.0</td>\n",
       "      <td>nan</td>\n",
       "      <td>nan</td>\n",
       "      <td>?</td>\n",
       "      <td>L</td>\n",
       "      <td>Marion Silies</td>\n",
       "      <td>Sebastian Molina-Obando</td>\n",
       "      <td>Tm9, Tm9_R, transmedullary neuron Tm9, FBbt_00...</td>\n",
       "      <td>...</td>\n",
       "      <td>V3</td>\n",
       "      <td>Y</td>\n",
       "      <td>Y</td>\n",
       "      <td>Y</td>\n",
       "      <td>Y</td>\n",
       "      <td>N</td>\n",
       "      <td>Y</td>\n",
       "      <td>V</td>\n",
       "      <td>N</td>\n",
       "      <td>N</td>\n",
       "    </tr>\n",
       "    <tr>\n",
       "      <th>3</th>\n",
       "      <td>65296.0,86194.0,6202.0</td>\n",
       "      <td>Tm9</td>\n",
       "      <td>81554.0,74784.0,4819.0</td>\n",
       "      <td>nan</td>\n",
       "      <td>nan</td>\n",
       "      <td>?</td>\n",
       "      <td>L</td>\n",
       "      <td>Marion Silies</td>\n",
       "      <td>Sebastian Molina-Obando</td>\n",
       "      <td>Tm9, Tm9_R, transmedullary neuron Tm9, FBbt_00...</td>\n",
       "      <td>...</td>\n",
       "      <td>V4</td>\n",
       "      <td>N</td>\n",
       "      <td>N</td>\n",
       "      <td>N</td>\n",
       "      <td>nan</td>\n",
       "      <td>N</td>\n",
       "      <td>?</td>\n",
       "      <td>V</td>\n",
       "      <td>N</td>\n",
       "      <td>N</td>\n",
       "    </tr>\n",
       "    <tr>\n",
       "      <th>4</th>\n",
       "      <td>69273.0,86122.0,4826.0</td>\n",
       "      <td>Tm9</td>\n",
       "      <td>88273.0,76603.0,5126.0</td>\n",
       "      <td>nan</td>\n",
       "      <td>nan</td>\n",
       "      <td>?</td>\n",
       "      <td>L</td>\n",
       "      <td>Marion Silies</td>\n",
       "      <td>Sebastian Molina-Obando</td>\n",
       "      <td>Tm9, Tm9_R, transmedullary neuron Tm9, FBbt_00...</td>\n",
       "      <td>...</td>\n",
       "      <td>V5</td>\n",
       "      <td>Y</td>\n",
       "      <td>N</td>\n",
       "      <td>N</td>\n",
       "      <td>nan</td>\n",
       "      <td>N</td>\n",
       "      <td>?</td>\n",
       "      <td>V</td>\n",
       "      <td>N</td>\n",
       "      <td>N</td>\n",
       "    </tr>\n",
       "  </tbody>\n",
       "</table>\n",
       "<p>5 rows × 27 columns</p>\n",
       "</div>"
      ],
      "text/plain": [
       "                   XYZ-ME symbol                  XYZ-LO quality comment  \\\n",
       "0  63464.0,83140.0,5499.0    Tm9  82124.0,73675.0,5135.0             nan   \n",
       "1  67273.0,85576.0,5497.0    Tm9  84894.0,75635.0,5033.0             nan   \n",
       "2  70063.0,88589.0,5760.0    Tm9  86449.0,78034.0,4816.0             nan   \n",
       "3  65296.0,86194.0,6202.0    Tm9  81554.0,74784.0,4819.0             nan   \n",
       "4  69273.0,86122.0,4826.0    Tm9  88273.0,76603.0,5126.0             nan   \n",
       "\n",
       "  Mi4-connected rim_area (Y/N) hemisphere            lab  \\\n",
       "0           nan              ?          L  Marion Silies   \n",
       "1           nan              ?          L  Marion Silies   \n",
       "2           nan              ?          L  Marion Silies   \n",
       "3           nan              ?          L  Marion Silies   \n",
       "4           nan              ?          L  Marion Silies   \n",
       "\n",
       "                    author                                               name  \\\n",
       "0  Sebastian Molina-Obando  Tm9, Tm9_R, transmedullary neuron Tm9, FBbt_00...   \n",
       "1          Jonas Chojetzki  Tm9, Tm9_R, transmedullary neuron Tm9, FBbt_00...   \n",
       "2  Sebastian Molina-Obando  Tm9, Tm9_R, transmedullary neuron Tm9, FBbt_00...   \n",
       "3  Sebastian Molina-Obando  Tm9, Tm9_R, transmedullary neuron Tm9, FBbt_00...   \n",
       "4  Sebastian Molina-Obando  Tm9, Tm9_R, transmedullary neuron Tm9, FBbt_00...   \n",
       "\n",
       "   ... column_id backbone proofread (Y/N) twigs proofread (Y/N)  \\\n",
       "0  ...        V1                        Y                     N   \n",
       "1  ...        V2                        Y                     Y   \n",
       "2  ...        V3                        Y                     Y   \n",
       "3  ...        V4                        N                     N   \n",
       "4  ...        V5                        Y                     N   \n",
       "\n",
       "  inputs_proofread (Y/N) dark_neurons (Y/N) healthy_L3 (Y/N)  \\\n",
       "0                      N                nan                N   \n",
       "1                      Y                  ?                Y   \n",
       "2                      Y                  Y                N   \n",
       "3                      N                nan                N   \n",
       "4                      N                nan                N   \n",
       "\n",
       "  detached_lamina (Y/N) dorso-ventral rim_area (Y/N))_updated  \\\n",
       "0                     ?             V                       N   \n",
       "1                     Y             V                       N   \n",
       "2                     Y             V                       N   \n",
       "3                     ?             V                       N   \n",
       "4                     ?             V                       N   \n",
       "\n",
       "  rim_area (Y/N)_updated  \n",
       "0                      N  \n",
       "1                      N  \n",
       "2                      N  \n",
       "3                      N  \n",
       "4                      N  \n",
       "\n",
       "[5 rows x 27 columns]"
      ]
     },
     "execution_count": 13,
     "metadata": {},
     "output_type": "execute_result"
    }
   ],
   "source": [
    "# Selecting column for the update and file from which the info comes\n",
    "column_to_update = 'rim_area (Y/N)' # 'inputs_proofread (Y/N)', detached_lamina (Y/N), 'healthy_L3 (Y/N)', 'rim_area (Y/N)'\n",
    "\n",
    "update_file_path = r'D:\\Connectomics-Data\\FlyWire\\Txts\\cell_type_proofread'\n",
    "update_file_with = 'root_ids_Tm9_outer_rim_20231018.txt' # list of ids\n",
    "\n",
    "update_filePath =os.path.join(update_file_path,update_file_with)\n",
    "\n",
    "# extractring info from the specific file\n",
    "update_file_with_df = pd.read_csv(update_filePath)\n",
    "update_file_with_ids_list = update_file_with_df.columns.tolist()\n",
    "\n",
    "# Updating the list \n",
    "df[f'{column_to_update}_updated'] = np.where(df['seg_id'].isin(update_file_with_ids_list), \"Y\", \"N\")\n",
    "df.head()"
   ]
  },
  {
   "cell_type": "code",
   "execution_count": null,
   "id": "29227a00",
   "metadata": {},
   "outputs": [],
   "source": []
  },
  {
   "cell_type": "markdown",
   "id": "f4cf9e85",
   "metadata": {},
   "source": [
    "### 3.2 Or, Based on excel files with ids in a column and extra information in other columns"
   ]
  },
  {
   "cell_type": "code",
   "execution_count": 41,
   "id": "21744074",
   "metadata": {},
   "outputs": [
    {
     "data": {
      "text/html": [
       "<div>\n",
       "<style scoped>\n",
       "    .dataframe tbody tr th:only-of-type {\n",
       "        vertical-align: middle;\n",
       "    }\n",
       "\n",
       "    .dataframe tbody tr th {\n",
       "        vertical-align: top;\n",
       "    }\n",
       "\n",
       "    .dataframe thead th {\n",
       "        text-align: right;\n",
       "    }\n",
       "</style>\n",
       "<table border=\"1\" class=\"dataframe\">\n",
       "  <thead>\n",
       "    <tr style=\"text-align: right;\">\n",
       "      <th></th>\n",
       "      <th>XYZ-ME</th>\n",
       "      <th>XYZ-LO</th>\n",
       "      <th>Updated_seg_id</th>\n",
       "      <th>seg_id</th>\n",
       "    </tr>\n",
       "  </thead>\n",
       "  <tbody>\n",
       "    <tr>\n",
       "      <th>0</th>\n",
       "      <td>63464.0,83140.0,5499.0</td>\n",
       "      <td>82124.0,73675.0,5135.0</td>\n",
       "      <td>720575940631867211</td>\n",
       "      <td>720575940631867211</td>\n",
       "    </tr>\n",
       "    <tr>\n",
       "      <th>1</th>\n",
       "      <td>67273.0,85576.0,5497.0</td>\n",
       "      <td>84894.0,75635.0,5033.0</td>\n",
       "      <td>720575940629938298</td>\n",
       "      <td>720575940629938298</td>\n",
       "    </tr>\n",
       "    <tr>\n",
       "      <th>2</th>\n",
       "      <td>70063.0,88589.0,5760.0</td>\n",
       "      <td>86449.0,78034.0,4816.0</td>\n",
       "      <td>720575940619904728</td>\n",
       "      <td>720575940619904728</td>\n",
       "    </tr>\n",
       "    <tr>\n",
       "      <th>3</th>\n",
       "      <td>65296.0,86194.0,6202.0</td>\n",
       "      <td>81554.0,74784.0,4819.0</td>\n",
       "      <td>720575940626539592</td>\n",
       "      <td>720575940626539592</td>\n",
       "    </tr>\n",
       "    <tr>\n",
       "      <th>4</th>\n",
       "      <td>69273.0,86122.0,4826.0</td>\n",
       "      <td>88273.0,76603.0,5126.0</td>\n",
       "      <td>720575940616954181</td>\n",
       "      <td>720575940616954181</td>\n",
       "    </tr>\n",
       "  </tbody>\n",
       "</table>\n",
       "</div>"
      ],
      "text/plain": [
       "                   XYZ-ME                  XYZ-LO      Updated_seg_id  \\\n",
       "0  63464.0,83140.0,5499.0  82124.0,73675.0,5135.0  720575940631867211   \n",
       "1  67273.0,85576.0,5497.0  84894.0,75635.0,5033.0  720575940629938298   \n",
       "2  70063.0,88589.0,5760.0  86449.0,78034.0,4816.0  720575940619904728   \n",
       "3  65296.0,86194.0,6202.0  81554.0,74784.0,4819.0  720575940626539592   \n",
       "4  69273.0,86122.0,4826.0  88273.0,76603.0,5126.0  720575940616954181   \n",
       "\n",
       "               seg_id  \n",
       "0  720575940631867211  \n",
       "1  720575940629938298  \n",
       "2  720575940619904728  \n",
       "3  720575940626539592  \n",
       "4  720575940616954181  "
      ]
     },
     "execution_count": 41,
     "metadata": {},
     "output_type": "execute_result"
    }
   ],
   "source": [
    "# Selecting column for the update and file from which the info comes\n",
    "#For XYZ columns\n",
    "update_file_path = r'E:\\Connectomics-Data\\FlyWire\\Excels'\n",
    "update_file_with = f'XYZ_df_{date}.xlsx'\n",
    "update_filePath =os.path.join(update_file_path,update_file_with)\n",
    "\n",
    "# extractring info from the specific file\n",
    "update_file_with_df = pd.read_excel(update_filePath)\n",
    "update_file_with_df.head()\n"
   ]
  },
  {
   "cell_type": "code",
   "execution_count": 42,
   "id": "c45b9b1c",
   "metadata": {},
   "outputs": [],
   "source": [
    "#Transfering info from one dataframe to another based on a reference column (here seg_id)\n",
    "def update_dataframe_single_column(source_df, target_df, reference_column):\n",
    "    # Create a dictionary mapping from the reference column to the source DataFrame\n",
    "    reference_dict = source_df.groupby(reference_column).first().reset_index().to_dict(orient='records')\n",
    "    reference_dict = {row[reference_column]: row for row in reference_dict}\n",
    "\n",
    "    # Update the target DataFrame based on the reference column\n",
    "    for i, row in target_df.iterrows():\n",
    "        ref = row[reference_column]\n",
    "        if ref in reference_dict:\n",
    "            source_row = reference_dict[ref]\n",
    "            target_df.loc[i] = source_row\n",
    "\n",
    "    return target_df"
   ]
  },
  {
   "cell_type": "code",
   "execution_count": 43,
   "id": "1f03a6dd",
   "metadata": {},
   "outputs": [
    {
     "data": {
      "text/html": [
       "<div>\n",
       "<style scoped>\n",
       "    .dataframe tbody tr th:only-of-type {\n",
       "        vertical-align: middle;\n",
       "    }\n",
       "\n",
       "    .dataframe tbody tr th {\n",
       "        vertical-align: top;\n",
       "    }\n",
       "\n",
       "    .dataframe thead th {\n",
       "        text-align: right;\n",
       "    }\n",
       "</style>\n",
       "<table border=\"1\" class=\"dataframe\">\n",
       "  <thead>\n",
       "    <tr style=\"text-align: right;\">\n",
       "      <th></th>\n",
       "      <th>XYZ-ME</th>\n",
       "      <th>XYZ-LO</th>\n",
       "      <th>seg_id</th>\n",
       "    </tr>\n",
       "  </thead>\n",
       "  <tbody>\n",
       "    <tr>\n",
       "      <th>0</th>\n",
       "      <td>63464.0,83140.0,5499.0</td>\n",
       "      <td>82124.0,73675.0,5135.0</td>\n",
       "      <td>720575940631867211</td>\n",
       "    </tr>\n",
       "    <tr>\n",
       "      <th>1</th>\n",
       "      <td>67273.0,85576.0,5497.0</td>\n",
       "      <td>84894.0,75635.0,5033.0</td>\n",
       "      <td>720575940629938298</td>\n",
       "    </tr>\n",
       "    <tr>\n",
       "      <th>2</th>\n",
       "      <td>70063.0,88589.0,5760.0</td>\n",
       "      <td>86449.0,78034.0,4816.0</td>\n",
       "      <td>720575940619904728</td>\n",
       "    </tr>\n",
       "    <tr>\n",
       "      <th>3</th>\n",
       "      <td>65296.0,86194.0,6202.0</td>\n",
       "      <td>81554.0,74784.0,4819.0</td>\n",
       "      <td>720575940626539592</td>\n",
       "    </tr>\n",
       "    <tr>\n",
       "      <th>4</th>\n",
       "      <td>69273.0,86122.0,4826.0</td>\n",
       "      <td>88273.0,76603.0,5126.0</td>\n",
       "      <td>720575940616954181</td>\n",
       "    </tr>\n",
       "  </tbody>\n",
       "</table>\n",
       "</div>"
      ],
      "text/plain": [
       "                   XYZ-ME                  XYZ-LO              seg_id\n",
       "0  63464.0,83140.0,5499.0  82124.0,73675.0,5135.0  720575940631867211\n",
       "1  67273.0,85576.0,5497.0  84894.0,75635.0,5033.0  720575940629938298\n",
       "2  70063.0,88589.0,5760.0  86449.0,78034.0,4816.0  720575940619904728\n",
       "3  65296.0,86194.0,6202.0  81554.0,74784.0,4819.0  720575940626539592\n",
       "4  69273.0,86122.0,4826.0  88273.0,76603.0,5126.0  720575940616954181"
      ]
     },
     "execution_count": 43,
     "metadata": {},
     "output_type": "execute_result"
    }
   ],
   "source": [
    "# Function inputs\n",
    "source_cols = ['XYZ-ME', 'XYZ-LO','seg_id']\n",
    "target_cols = ['XYZ-ME', 'XYZ-LO','seg_id']\n",
    "reference_column = 'seg_id'\n",
    "\n",
    "# Selecting dataframes and resetting index\n",
    "source_df = update_file_with_df[source_cols].copy()\n",
    "source_df.reset_index(inplace = True, drop = True)\n",
    "target_df = df[target_cols].copy()\n",
    "target_df.reset_index(inplace = True, drop = True)\n",
    "\n",
    "\n",
    "source_df = source_df.astype(str)\n",
    "target_df = target_df.astype(str)\n",
    "\n",
    "# Running the function and compleating the dataset\n",
    "result_df = update_dataframe_single_column(source_df, target_df,reference_column)\n",
    "result_df.head()"
   ]
  },
  {
   "cell_type": "code",
   "execution_count": 44,
   "id": "ff1b5f30",
   "metadata": {},
   "outputs": [],
   "source": [
    "# Creating string for the date\n",
    "import datetime\n",
    "x = datetime.datetime.now()\n",
    "date_str = x.strftime(\"%d\") + x.strftime(\"%b\") + x.strftime(\"%Y\")\n",
    "\n",
    "# Writting in an existing excel file\n",
    "from openpyxl import load_workbook\n",
    "book = load_workbook(filePath)\n",
    "writer = pd.ExcelWriter(filePath, engine = 'openpyxl')\n",
    "writer.book = book\n",
    "\n",
    "result_df = result_df.astype(str)\n",
    "result_df.to_excel(writer, sheet_name='Updated_table_'+date_str) #sorted_df\n",
    "writer.save()\n",
    "writer.close()"
   ]
  },
  {
   "cell_type": "markdown",
   "id": "739fef16",
   "metadata": {},
   "source": [
    "### 3. If wished: Add the center of mass of postsynaptic sites"
   ]
  },
  {
   "cell_type": "code",
   "execution_count": 15,
   "id": "d0981b30",
   "metadata": {},
   "outputs": [],
   "source": [
    "#Function\n",
    "def find_center_point(points, threshold):\n",
    "    if isinstance(points, list):\n",
    "        points = np.array(points)\n",
    "\n",
    "    # Calculate the distances between each point and all other points\n",
    "    distances = np.linalg.norm(points[:, np.newaxis] - points, axis=2)\n",
    "\n",
    "    # Calculate the average distance for each point\n",
    "    avg_distances = np.mean(distances, axis=1)\n",
    "\n",
    "    # Find the indices of points within the threshold distance\n",
    "    valid_indices = np.where(avg_distances < threshold)[0]\n",
    "\n",
    "    # Check if there are any valid points\n",
    "    if len(valid_indices) > 0:\n",
    "        # Calculate the geometric center of valid points\n",
    "        center_point = np.mean(points[valid_indices], axis=0)\n",
    "        #Rounding\n",
    "        center_point = np.round(center_point, decimals=1)\n",
    "        \n",
    "        # Find the closest point to the center\n",
    "        closest_point_index = np.argmin(np.linalg.norm(points[valid_indices] - center_point, axis=1))\n",
    "        closest_point = points[valid_indices][closest_point_index]\n",
    "    else:\n",
    "        center_point = np.array([0,0,0])\n",
    "        closest_point = np.array([0,0,0])\n",
    "\n",
    "    return center_point.tolist(), closest_point.tolist()"
   ]
  },
  {
   "cell_type": "code",
   "execution_count": 16,
   "id": "ae449638",
   "metadata": {},
   "outputs": [],
   "source": [
    "def combine_xyz(df):\n",
    "    \"\"\"\n",
    "    Combines separated x, y and z column into one, changes units and adds new column names for\n",
    "    generating a neuroglancer link with function nglui.statebuilder.helpers.make_synapse_neuroglancer_link\n",
    "\n",
    "    Args:\n",
    "        pandas data frame containing x,y and z as columns of the same length\n",
    "\n",
    "    Returns:\n",
    "        same pandas data frame containing a new column with [x/4,y/4,z/40] lists\n",
    "    \"\"\"\n",
    "    # Generating the single column\n",
    "\n",
    "    post_pt_position = []\n",
    "    for x,y,z in zip(df['post_x'].tolist(),df['post_y'].tolist(),df['post_z'].tolist()):\n",
    "        temp_ls = [x/4,y/4,z/40]\n",
    "        post_pt_position.append(temp_ls)\n",
    "\n",
    "    pre_pt_position = []\n",
    "    for x,y,z in zip(df['pre_x'].tolist(),df['pre_y'].tolist(),df['pre_z'].tolist()):\n",
    "        temp_ls = [x/4,y/4,z/40]\n",
    "        pre_pt_position.append(temp_ls)\n",
    "\n",
    "    #Adding new columns and names\n",
    "    df['post_pt_position'] = post_pt_position\n",
    "    df['pre_pt_position'] = pre_pt_position\n",
    "    #Changing column names\n",
    "    df.rename(columns={'pre': 'pre_pt_root_id', 'post': 'post_pt_root_id'}, inplace=True)"
   ]
  },
  {
   "cell_type": "code",
   "execution_count": 17,
   "id": "9273ee11",
   "metadata": {},
   "outputs": [],
   "source": [
    "#Loading postsynaptic coordinated for each neuron in a specific neuropile and getting the center point\n",
    "#The loop can take quite a lot of time depending on the ammount of ids!\n",
    "\n",
    "\n",
    "#Looping for several rounds of X (e.g, 100)\n",
    "rounds_of = 100\n",
    "loop_number = 1 # Must start at \"1\" if not run before\n",
    "start_point = (rounds_of*loop_number) - rounds_of\n",
    " \n",
    "#Shortening the df to priorize id:\n",
    "\n",
    "#short_df = df[(df['detached_lamina (Y/N)'] == 'N') &(df['inputs_proofread (Y/N)'] == 'Y')].copy()\n",
    "short_df = df[df['XYZ-ME'] == 'nan'].copy()"
   ]
  },
  {
   "cell_type": "code",
   "execution_count": 18,
   "id": "e8e6bde7",
   "metadata": {},
   "outputs": [
    {
     "data": {
      "text/plain": [
       "24"
      ]
     },
     "execution_count": 18,
     "metadata": {},
     "output_type": "execute_result"
    }
   ],
   "source": [
    "len(short_df)"
   ]
  },
  {
   "cell_type": "code",
   "execution_count": 19,
   "id": "95279bc9",
   "metadata": {},
   "outputs": [
    {
     "data": {
      "text/plain": [
       "0"
      ]
     },
     "execution_count": 19,
     "metadata": {},
     "output_type": "execute_result"
    }
   ],
   "source": [
    "round(len(short_df)/rounds_of)"
   ]
  },
  {
   "cell_type": "code",
   "execution_count": 21,
   "id": "43baa13c",
   "metadata": {},
   "outputs": [
    {
     "name": "stdout",
     "output_type": "stream",
     "text": [
      "Loop #: 1\n",
      "currently at: 720575940627437443\n",
      "currently at: 720575940631341100\n",
      "currently at: 720575940628746664\n",
      "currently at: 720575940638219120\n",
      "currently at: 720575940619127124\n",
      "currently at: 720575940638124265\n",
      "currently at: 720575940634654945\n",
      "currently at: 720575940632399119\n",
      "currently at: 720575940619126868\n",
      "currently at: 720575940614403043\n",
      "currently at: 720575940618919837\n",
      "currently at: 720575940619127892\n",
      "currently at: 720575940638187120\n",
      "currently at: 720575940615083048\n",
      "currently at: 720575940629702699\n",
      "currently at: 720575940623843085\n",
      "currently at: 720575940616973836\n",
      "currently at: 720575940615231697\n",
      "currently at: 720575940619128148\n",
      "currently at: 720575940627221239\n",
      "currently at: 720575940628377363\n",
      "currently at: 720575940628837909\n",
      "currently at: 720575940623214583\n",
      "currently at: 720575940629697502\n"
     ]
    }
   ],
   "source": [
    "# Looping across chosen rows\n",
    "\n",
    "import datetime\n",
    "x = datetime.datetime.now()\n",
    "date_str = x.strftime(\"%d\") + x.strftime(\"%b\") + x.strftime(\"%Y\")\n",
    "\n",
    "for i in range(loop_number, round(len(short_df)/rounds_of)+2):\n",
    "    print(f'Loop #: {loop_number}')\n",
    "    curr_df = short_df[start_point:start_point+rounds_of].copy()\n",
    "    curr_df.reset_index(inplace=True,drop=True)\n",
    "\n",
    "    XYZ_ME = []\n",
    "    XYZ_LO = []\n",
    "    for seg_id in curr_df[\"Updated_seg_id\"]:\n",
    "\n",
    "        #Print\n",
    "        print(f'currently at: {seg_id}')\n",
    "        # Getting coordinates of synaptic contacts\n",
    "        neurons_inputs = flywire.synapses.fetch_synapses(seg_id, pre=False, post=True, attach=True, \n",
    "                                                     min_score=50, clean=True, transmitters=False, \n",
    "                                                     neuropils=True, batch_size=30, \n",
    "                                                     dataset='production', progress=True,mat= \"live\")\n",
    "        combine_xyz(neurons_inputs)\n",
    "        threshold = 5000\n",
    "\n",
    "        try:\n",
    "            #Find the center point with medulla coordinates\n",
    "            neurons_inputs_ME = neurons_inputs[neurons_inputs['neuropil'].str.contains('ME')].copy()\n",
    "            points = neurons_inputs_ME['post_pt_position'].tolist()\n",
    "            center_point, closest_point = find_center_point(points, threshold)\n",
    "            XYZ_ME.append(closest_point)\n",
    "        except: # to catch some point clouds that have no ME \n",
    "            XYZ_ME.append([0,0,0])\n",
    "            \n",
    "        try:\n",
    "            #Find the center point with lobula coordinates\n",
    "            neurons_inputs_LO = neurons_inputs[neurons_inputs['neuropil'].str.contains('LO')].copy()\n",
    "            points = neurons_inputs_LO['post_pt_position'].tolist()\n",
    "            center_point, closest_point = find_center_point(points, threshold)\n",
    "            XYZ_LO.append(closest_point)\n",
    "        except: # to catch some point clouds that have no LO labels\n",
    "            XYZ_LO.append([0,0,0])\n",
    "            \n",
    "\n",
    "    XYZ_LO_strings = [','.join(map(str, sublist)) for sublist in XYZ_LO]\n",
    "    XYZ_ME_strings = [','.join(map(str, sublist)) for sublist in XYZ_ME]\n",
    "\n",
    "    #saving\n",
    "    XYZ_df = pd.DataFrame(XYZ_ME_strings, columns=['XYZ-ME'])\n",
    "    XYZ_df['XYZ-LO'] = XYZ_LO_strings\n",
    "    XYZ_df['Updated_seg_id'] =  curr_df['Updated_seg_id']\n",
    "    XYZ_df['seg_id'] =  curr_df['seg_id']\n",
    "    XYZ_df.to_excel(f'D:\\Connectomics-Data\\FlyWire\\Excels\\drive-data-sets\\XYZ_df_{loop_number}_{date_str}.xlsx', index=False)\n",
    "    start_point += rounds_of\n",
    "    loop_number += 1\n"
   ]
  },
  {
   "cell_type": "code",
   "execution_count": null,
   "id": "eab095e8",
   "metadata": {},
   "outputs": [],
   "source": [
    "\n",
    "## Testing function with some manually inserted dots\n",
    "import numpy as np\n",
    "import matplotlib.pyplot as plt\n",
    "\n",
    "# Example XYZ coordinates\n",
    "points = [\n",
    "    [66659, 85714, 5406],\n",
    "    [66885, 85749, 5367],\n",
    "    [67124, 86454, 5390],\n",
    "    [67664, 86251, 5434],\n",
    "    [67273, 85576, 5497],\n",
    "    [66399, 85482, 5428],\n",
    "    [66803, 85360, 5477],\n",
    "    [66505, 85552, 5413],\n",
    "    [66772, 85838, 5450],\n",
    "    [66496, 85540, 5402],\n",
    "    [72452, 82402, 5694],\n",
    "    [75373, 80809, 5808]\n",
    "]\n",
    "\n",
    "points = neurons_inputs_LO['post_pt_position'].tolist()\n",
    "\n",
    "# Convert the points to a NumPy array\n",
    "points = np.array(points)\n",
    "\n",
    "# Set the threshold distance to exclude outliers\n",
    "threshold = 5000\n",
    "\n",
    "# Find the center point\n",
    "center_point, closest_point  = find_center_point(points, threshold)\n",
    "\n",
    "if center_point is not None:\n",
    "    print(\"Center Point:\", center_point)\n",
    "else:\n",
    "    print(\"No valid points within the threshold.\")\n",
    "\n",
    "# Plotting the points and center point\n",
    "fig = plt.figure()\n",
    "ax = fig.add_subplot(111, projection='3d')\n",
    "\n",
    "# Scatter plot for the points\n",
    "ax.scatter(points[:, 0], points[:, 1], points[:, 2], c='y', label='Points')\n",
    "\n",
    "# Scatter plot for the center point\n",
    "if center_point is not None:\n",
    "    ax.scatter(center_point[0], center_point[1], center_point[2], c='r', marker='x', label='Center Point')\n",
    "    ax.scatter(closest_point [0], closest_point [1], closest_point [2], c='b', marker='x', label='closest_point')\n",
    "\n",
    "ax.set_xlabel('X')\n",
    "ax.set_ylabel('Y')\n",
    "ax.set_zlabel('Z')\n",
    "ax.legend()\n",
    "\n",
    "plt.show()"
   ]
  },
  {
   "cell_type": "markdown",
   "id": "2491c222",
   "metadata": {},
   "source": [
    "### 4. Saving back to excel file"
   ]
  },
  {
   "cell_type": "code",
   "execution_count": 23,
   "id": "c2c3d919",
   "metadata": {},
   "outputs": [],
   "source": [
    "\n",
    "# Creating string for the date\n",
    "import datetime\n",
    "x = datetime.datetime.now()\n",
    "date_str = x.strftime(\"%d\") + x.strftime(\"%b\") + x.strftime(\"%Y\")\n",
    "\n",
    "# Writting in an existing excel file\n",
    "from openpyxl import load_workbook\n",
    "book = load_workbook(filePath)\n",
    "writer = pd.ExcelWriter(filePath, engine = 'openpyxl')\n",
    "writer.book = book\n",
    "\n",
    "df.to_excel(writer, sheet_name='Updated_table_'+date_str) #sorted_df\n",
    "writer.save()\n",
    "writer.close()"
   ]
  },
  {
   "cell_type": "markdown",
   "id": "c1b23f79",
   "metadata": {},
   "source": [
    "# B2) Updating all postsynaptic neurons databases (loop)"
   ]
  },
  {
   "cell_type": "markdown",
   "id": "eccc2480",
   "metadata": {},
   "source": [
    "### 1. Loading data bases of interest in a loop "
   ]
  },
  {
   "cell_type": "code",
   "execution_count": null,
   "id": "ab634b91",
   "metadata": {},
   "outputs": [],
   "source": [
    "# Data paths\n",
    "# Choose path and file\n",
    "PC_disc = 'E'\n",
    "dataPath = f'{PC_disc}:\\Connectomics-Data\\FlyWire\\Excels\\drive-data-sets\\database'\n",
    "\n",
    "fileName_ls = glob(dataPath +\"\\\\\"+ \"*.xlsx\")\n",
    "\n",
    "\n",
    "#Creating the database in a loop\n",
    "df_ls = []\n",
    "for fileName in fileName_ls:\n",
    "    print(f'Importing: {fileName}')\n",
    "    filePath = os.path.join(dataPath,fileName)\n",
    "    df = pd.read_excel(filePath)\n",
    "    #Dropping the fisrt row ('asdf' was added as a walk-around to set that column values as type str)\n",
    "    if df[\"seg_id\"][0] == 'asdf': \n",
    "        df = df.iloc[1: , :]\n",
    "        df.reset_index(inplace=True,drop=True)\n",
    "    df_ls.append(df)"
   ]
  },
  {
   "cell_type": "code",
   "execution_count": null,
   "id": "d15c266c",
   "metadata": {},
   "outputs": [],
   "source": []
  },
  {
   "cell_type": "markdown",
   "id": "b2d7f6e1",
   "metadata": {},
   "source": [
    "# C) Updating of list of IDs from a txt file / or a plain excell file\n"
   ]
  },
  {
   "cell_type": "markdown",
   "id": "f15d87d5",
   "metadata": {},
   "source": [
    "### 1. Loading the data from a txt file"
   ]
  },
  {
   "cell_type": "code",
   "execution_count": 95,
   "id": "fccc343d",
   "metadata": {
    "scrolled": true
   },
   "outputs": [
    {
     "name": "stdout",
     "output_type": "stream",
     "text": [
      "['720575940615263298', '720575940622343548', '720575940603498357', '720575940604436720', '720575940604679664', '720575940605181152', '720575940610345426', '720575940612549490', '720575940613289443', '720575940615524806', '720575940615758130', '720575940618657403', '720575940619944363', '720575940620553069', '720575940620894630', '720575940621380566', '720575940622232402', '720575940624804178', '720575940626277434', '720575940627024069', '720575940627230750', '720575940627756968', '720575940628559403', '720575940628864247', '720575940630444396', '720575940631561784', '720575940631830083', '720575940632861267', '720575940633071827', '720575940633665049', '720575940635931243', '720575940636022903', '720575940640632528', '720575940646143267', '720575940647837572', '720575940649653113', '720575940600934665', '720575940603356896', '720575940603556981', '720575940603842476', '720575940604567486', '720575940604637045', '720575940604652512', '720575940604699825', '720575940604738737', '720575940604902921', '720575940604946720', '720575940605241516', '720575940605446590', '720575940605528166', '720575940605674417', '720575940606014898', '720575940606071217', '720575940606236337', '720575940606315966', '720575940606319206', '720575940606569417', '720575940606642121', '720575940606786761', '720575940606934473', '720575940606942130', '720575940606991817', '720575940607047810', '720575940607063730', '720575940607662037', '720575940607961283', '720575940608253379', '720575940608708309', '720575940608792026', '720575940608846019', '720575940608999363', '720575940609078723', '720575940609340885', '720575940609352387', '720575940609652548', '720575940609899844', '720575940610360900', '720575940610364228', '720575940610481528', '720575940610492484', '720575940610532501', '720575940610562424', '720575940610579064', '720575940610585976', '720575940610637266', '720575940610690709', '720575940610735458', '720575940610793365', '720575940610814328', '720575940610861717', '720575940610863150', '720575940610876258', '720575940611049678', '720575940611121506', '720575940611180005', '720575940611540174', '720575940611805589', '720575940611903962', '720575940611938856', '720575940612023794', '720575940612047331', '720575940612065522', '720575940612066802', '720575940612082090', '720575940612105690', '720575940612234725', '720575940612365464', '720575940612391661', '720575940612401381', '720575940612508851', '720575940612561381', '720575940612617881', '720575940612648818', '720575940612696854', '720575940612702515', '720575940612719090', '720575940612796330', '720575940612847018', '720575940612879795', '720575940612993650', '720575940613113511', '720575940613218046', '720575940613462579', '720575940613534614', '720575940613551510', '720575940613665432', '720575940613670963', '720575940613711279', '720575940613810483', '720575940613905514', '720575940613965231', '720575940613975091', '720575940613984943', '720575940614030559', '720575940614118142', '720575940614245329', '720575940614248866', '720575940614269351', '720575940614273022', '720575940614299047', '720575940614358695', '720575940614514444', '720575940614623430', '720575940614687026', '720575940614929002', '720575940614947039', '720575940615132738', '720575940615339743', '720575940615363295', '720575940615419442', '720575940615481019', '720575940615489858', '720575940615643442', '720575940615686486', '720575940615688770', '720575940615782962', '720575940615798923', '720575940615809211', '720575940615822651', '720575940615918348', '720575940616008350', '720575940616149435', '720575940616173755', '720575940616236446', '720575940616297689', '720575940616303774', '720575940616306078', '720575940616368667', '720575940616369013', '720575940616402873', '720575940616420438', '720575940616424209', '720575940616439330', '720575940616594037', '720575940616649145', '720575940616658549', '720575940616664833', '720575940616677154', '720575940616680587', '720575940616686225', '720575940616695579', '720575940616851515', '720575940616934203', '720575940616946805', '720575940616947573', '720575940617092957', '720575940617148219', '720575940617306324', '720575940617361206', '720575940617378833', '720575940617488641', '720575940617488852', '720575940617495867', '720575940617557649', '720575940617615078', '720575940617721172', '720575940617783809', '720575940617888157', '720575940617890132', '720575940617899677', '720575940617904541', '720575940617936197', '720575940617955073', '720575940617971217', '720575940618008645', '720575940618096411', '720575940618183569', '720575940618251333', '720575940618432413', '720575940618475422', '720575940618703941', '720575940618704453', '720575940618714235', '720575940618720926', '720575940618727291', '720575940618979402', '720575940619043413', '720575940619166029', '720575940619181739', '720575940619184461', '720575940619295983', '720575940619353211', '720575940619376331', '720575940619410737', '720575940619436709', '720575940619453611', '720575940619454379', '720575940619565003', '720575940619671125', '720575940619676269', '720575940619723911', '720575940619763849', '720575940619792202', '720575940619810982', '720575940619849069', '720575940619883073', '720575940619966087', '720575940619972998', '720575940619984469', '720575940620066580', '720575940620069712', '720575940620178256', '720575940620222811', '720575940620235867', '720575940620255471', '720575940620313873', '720575940620316865', '720575940620332308', '720575940620348144', '720575940620369323', '720575940620371371', '720575940620390337', '720575940620431013', '720575940620464832', '720575940620480134', '720575940620518917', '720575940620568966', '720575940620593323', '720575940620637935', '720575940620671367', '720575940620700143', '720575940620704773', '720575940620718575', '720575940620736704', '720575940620746849', '720575940620747553', '720575940620782318', '720575940620786624', '720575940620843644', '720575940620855206', '720575940620857453', '720575940620903856', '720575940620958959', '720575940620961718', '720575940620980390', '720575940620992773', '720575940621004148', '720575940621041005', '720575940621060278', '720575940621114188', '720575940621130356', '720575940621194501', '720575940621210795', '720575940621236918', '720575940621271974', '720575940621272230', '720575940621299677', '720575940621317814', '720575940621339574', '720575940621344169', '720575940621347964', '720575940621351151', '720575940621352112', '720575940621380890', '720575940621478738', '720575940621480575', '720575940621494256', '720575940621520736', '720575940621600892', '720575940621609989', '720575940621654305', '720575940621730584', '720575940621776645', '720575940621792606', '720575940621833096', '720575940621945880', '720575940622079434', '720575940622086614', '720575940622089181', '720575940622108442', '720575940622149887', '720575940622189436', '720575940622196001', '720575940622200090', '720575940622218620', '720575940622228997', '720575940622234662', '720575940622246090', '720575940622318174', '720575940622364492', '720575940622380509', '720575940622468940', '720575940622479228', '720575940622498184', '720575940622504191', '720575940622527446', '720575940622588893', '720575940622725756', '720575940622739981', '720575940622776200', '720575940622821133', '720575940622826493', '720575940622838525', '720575940622877453', '720575940622882045', '720575940622908941', '720575940622910744', '720575940622929688', '720575940622935832', '720575940622943314', '720575940622951571', '720575940622964957', '720575940622987400', '720575940623021897', '720575940623022005', '720575940623034308', '720575940623052326', '720575940623087498', '720575940623096004', '720575940623148936', '720575940623191757', '720575940623229737', '720575940623235622', '720575940623237011', '720575940623261162', '720575940623274760', '720575940623289187', '720575940623322918', '720575940623329279', '720575940623345043', '720575940623345077', '720575940623374591', '720575940623382506', '720575940623383788', '720575940623469034', '720575940623481226', '720575940623541898', '720575940623722510', '720575940623788012', '720575940623830857', '720575940623855367', '720575940623949031', '720575940623949565', '720575940623999157', '720575940624033831', '720575940624067145', '720575940624109547', '720575940624172220', '720575940624187389', '720575940624203534', '720575940624279444', '720575940624320951', '720575940624334333', '720575940624463764', '720575940624492617', '720575940624529703', '720575940624619022', '720575940624630252', '720575940624648124', '720575940624673003', '720575940624683838', '720575940624694823', '720575940624704491', '720575940624854798', '720575940624858126', '720575940624883495', '720575940624925228', '720575940624945456', '720575940625020820', '720575940625066483', '720575940625075749', '720575940625123879', '720575940625137934', '720575940625219768', '720575940625235331', '720575940625277740', '720575940625284396', '720575940625310029', '720575940625396238', '720575940625439560', '720575940625460199', '720575940625529362', '720575940625612848', '720575940625668878', '720575940625890878', '720575940625923203', '720575940625926448', '720575940625947692', '720575940625952258', '720575940625956140', '720575940625956652', '720575940625986441', '720575940625995274', '720575940626011706', '720575940626019465', '720575940626053936', '720575940626080356', '720575940626206352', '720575940626219564', '720575940626235180', '720575940626305554', '720575940626358361', '720575940626358617', '720575940626429637', '720575940626449098', '720575940626505226', '720575940626507036', '720575940626554713', '720575940626565178', '720575940626580879', '720575940626581672', '720575940626592664', '720575940626659224', '720575940626662686', '720575940626676057', '720575940626680506', '720575940626694599', '720575940626771528', '720575940626794250', '720575940626869804', '720575940626972505', '720575940627023047', '720575940627094346', '720575940627111250', '720575940627116042', '720575940627157745', '720575940627188241', '720575940627211353', '720575940627263400', '720575940627343997', '720575940627396881', '720575940627399445', '720575940627414184', '720575940627423759', '720575940627427496', '720575940627435791', '720575940627443728', '720575940627464274', '720575940627471633', '720575940627473683', '720575940627476742', '720575940627479326', '720575940627511528', '720575940627541400', '720575940627579529', '720575940627582525', '720575940627595012', '720575940627671061', '720575940627698947', '720575940627702012', '720575940627709672', '720575940627717288', '720575940627747144', '720575940627766268', '720575940627776143', '720575940627828241', '720575940627930011', '720575940627932232', '720575940627988123', '720575940627995962', '720575940628017482', '720575940628033788', '720575940628082025', '720575940628110332', '720575940628121874', '720575940628126449', '720575940628135698', '720575940628142086', '720575940628236999', '720575940628310546', '720575940628377618', '720575940628523207', '720575940628549754', '720575940628620535', '720575940628621047', '720575940628630889', '720575940628676651', '720575940628698115', '720575940628802320', '720575940628816683', '720575940628835015', '720575940628929079', '720575940628942183', '720575940628943810', '720575940628997531', '720575940629163536', '720575940629254594', '720575940629315995', '720575940629334427', '720575940629380222', '720575940629457786', '720575940629508347', '720575940629551990', '720575940629598846', '720575940629600812', '720575940629624407', '720575940629671294', '720575940629672318', '720575940629707628', '720575940629766759', '720575940629775311', '720575940629826007', '720575940629885696', '720575940629933561', '720575940630020171', '720575940630026770', '720575940630029131', '720575940630070007', '720575940630086906', '720575940630108204', '720575940630149207', '720575940630185342', '720575940630265339', '720575940630269500', '720575940630298615', '720575940630331095', '720575940630343030', '720575940630368343', '720575940630427510', '720575940630444652', '720575940630454263', '720575940630465910', '720575940630469699', '720575940630469881', '720575940630511557', '720575940630526009', '720575940630566113', '720575940630588111', '720575940630645356', '720575940630713081', '720575940630738775', '720575940630768146', '720575940630774376', '720575940630778981', '720575940630809400', '720575940630855127', '720575940630901900', '720575940630911596', '720575940630936284', '720575940630968773', '720575940631010578', '720575940631012370', '720575940631027397', '720575940631031855', '720575940631107359', '720575940631111978', '720575940631215353', '720575940631244306', '720575940631251543', '720575940631444299', '720575940631481012', '720575940631656877', '720575940631680312', '720575940631687471', '720575940631732536', '720575940631846324', '720575940631860522', '720575940631879480', '720575940631887464', '720575940631897362', '720575940631937460', '720575940632009007', '720575940632009908', '720575940632049804', '720575940632057425', '720575940632072722', '720575940632220719', '720575940632222381', '720575940632237649', '720575940632299212', '720575940632313764', '720575940632353453', '720575940632393529', '720575940632394916', '720575940632402892', '720575940632413544', '720575940632429416', '720575940632442828', '720575940632576654', '720575940632613262', '720575940632623943', '720575940632674605', '720575940632810285', '720575940632816813', '720575940632818910', '720575940632920030', '720575940632922067', '720575940632922835', '720575940633170207', '720575940633590117', '720575940633643490', '720575940633644174', '720575940633683086', '720575940633696666', '720575940633805267', '720575940633875808', '720575940633973529', '720575940634093675', '720575940634195819', '720575940634237791', '720575940634279160', '720575940634357343', '720575940634358196', '720575940634388064', '720575940634480023', '720575940634538135', '720575940634542191', '720575940634573408', '720575940634716570', '720575940634788703', '720575940634825567', '720575940634862490', '720575940634947167', '720575940634957931', '720575940635180695', '720575940635186839', '720575940635193195', '720575940635214181', '720575940635252109', '720575940635252877', '720575940635341210', '720575940635373919', '720575940635537037', '720575940635560895', '720575940635562347', '720575940635789620', '720575940635790644', '720575940635824751', '720575940635888180', '720575940635913071', '720575940636042607', '720575940636091822', '720575940636141943', '720575940636153486', '720575940636307823', '720575940636650382', '720575940636768090', '720575940636780772', '720575940636817806', '720575940636936282', '720575940636945264', '720575940637060238', '720575940637247845', '720575940637257869', '720575940637373918', '720575940637380062', '720575940637405150', '720575940637442630', '720575940637466846', '720575940637625434', '720575940637790298', '720575940637818857', '720575940637836634', '720575940637837658', '720575940637841897', '720575940637934682', '720575940638006244', '720575940638025550', '720575940638039268', '720575940638043876', '720575940638064061', '720575940638107956', '720575940638119613', '720575940638125646', '720575940638179561', '720575940638252358', '720575940638352755', '720575940638404148', '720575940638480755', '720575940638498877', '720575940638526948', '720575940638559295', '720575940638575549', '720575940638631238', '720575940638632538', '720575940638660678', '720575940638695220', '720575940638766918', '720575940639038798', '720575940639110222', '720575940639144125', '720575940639224381', '720575940639230067', '720575940639363491', '720575940639408243', '720575940639508387', '720575940639522163', '720575940639523187', '720575940639659648', '720575940639681341', '720575940639683443', '720575940639708531', '720575940639754830', '720575940639814051', '720575940639846645', '720575940639917171', '720575940640240373', '720575940640275920', '720575940640313763', '720575940640961269', '720575940640995573', '720575940641259995', '720575940641399259', '720575940641440397', '720575940641537677', '720575940641548685', '720575940641610804', '720575940641672333', '720575940641994741', '720575940642372493', '720575940643411912', '720575940643696420', '720575940643737367', '720575940644426184', '720575940644663831', '720575940645280023', '720575940645570926', '720575940645627927', '720575940646146083', '720575940646180228', '720575940646506019', '720575940646594356', '720575940646760739', '720575940646769187', '720575940646791715', '720575940646791971', '720575940646795299', '720575940646818868', '720575940647120419', '720575940647285812', '720575940647286068', '720575940647288628', '720575940647797892', '720575940647824004', '720575940647839108', '720575940649531513', '720575940649890425', '720575940652151798', '720575940652343030', '720575940652673526', '720575940654702753', '720575940658882945', '720575940659863937', '720575940659978625', '720575940660191617', '720575940660286337', '720575940660346497', ' 720575940615263298']\n"
     ]
    }
   ],
   "source": [
    "# Choose path and file\n",
    "dataPath = r'D:\\Connectomics-Data\\FlyWire\\Txts\\cell_type_proofread'\n",
    "fileDate = '20231106'\n",
    "fileName = f'root_ids_T4d_R_{fileDate}.txt'\n",
    "#fileName = f'temp.txt'\n",
    "filePath = os.path.join(dataPath,fileName)\n",
    "ids_df = pd.read_csv(filePath, sep = \",\")\n",
    "curr_ID_ls = ids_df.columns.tolist()\n",
    "curr_ID_ls = [s for s in curr_ID_ls if \".1\" not in s]\n",
    "print(curr_ID_ls)"
   ]
  },
  {
   "cell_type": "code",
   "execution_count": null,
   "id": "483942e3",
   "metadata": {},
   "outputs": [],
   "source": []
  },
  {
   "cell_type": "code",
   "execution_count": 96,
   "id": "0942b39b",
   "metadata": {},
   "outputs": [
    {
     "data": {
      "application/vnd.jupyter.widget-view+json": {
       "model_id": "",
       "version_major": 2,
       "version_minor": 0
      },
      "text/plain": [
       "Updating:   0%|          | 0/778 [00:00<?, ?it/s]"
      ]
     },
     "metadata": {},
     "output_type": "display_data"
    }
   ],
   "source": [
    "#Updating the IDs via Fafbseg\n",
    "updated_ID_df = fafbseg.flywire.update_ids(curr_ID_ls, stop_layer=2, supervoxels=None, timestamp=None, dataset='production', progress=True)"
   ]
  },
  {
   "cell_type": "code",
   "execution_count": 97,
   "id": "c1f4b228",
   "metadata": {},
   "outputs": [
    {
     "data": {
      "text/html": [
       "<div>\n",
       "<style scoped>\n",
       "    .dataframe tbody tr th:only-of-type {\n",
       "        vertical-align: middle;\n",
       "    }\n",
       "\n",
       "    .dataframe tbody tr th {\n",
       "        vertical-align: top;\n",
       "    }\n",
       "\n",
       "    .dataframe thead th {\n",
       "        text-align: right;\n",
       "    }\n",
       "</style>\n",
       "<table border=\"1\" class=\"dataframe\">\n",
       "  <thead>\n",
       "    <tr style=\"text-align: right;\">\n",
       "      <th></th>\n",
       "      <th>old_id</th>\n",
       "      <th>new_id</th>\n",
       "      <th>confidence</th>\n",
       "      <th>changed</th>\n",
       "    </tr>\n",
       "  </thead>\n",
       "  <tbody>\n",
       "    <tr>\n",
       "      <th>415</th>\n",
       "      <td>720575940625923203</td>\n",
       "      <td>720575940629758825</td>\n",
       "      <td>0.56</td>\n",
       "      <td>True</td>\n",
       "    </tr>\n",
       "    <tr>\n",
       "      <th>474</th>\n",
       "      <td>720575940627579529</td>\n",
       "      <td>720575940636603640</td>\n",
       "      <td>0.79</td>\n",
       "      <td>True</td>\n",
       "    </tr>\n",
       "  </tbody>\n",
       "</table>\n",
       "</div>"
      ],
      "text/plain": [
       "                 old_id              new_id  confidence  changed\n",
       "415  720575940625923203  720575940629758825        0.56     True\n",
       "474  720575940627579529  720575940636603640        0.79     True"
      ]
     },
     "execution_count": 97,
     "metadata": {},
     "output_type": "execute_result"
    }
   ],
   "source": [
    "updated_ID_df[updated_ID_df['confidence'] < 0.8]#['new_id'].tolist()"
   ]
  },
  {
   "cell_type": "code",
   "execution_count": 98,
   "id": "d2e048d6",
   "metadata": {
    "scrolled": true
   },
   "outputs": [
    {
     "data": {
      "text/plain": [
       "777"
      ]
     },
     "execution_count": 98,
     "metadata": {},
     "output_type": "execute_result"
    }
   ],
   "source": [
    "len(updated_ID_df['new_id'].tolist())\n",
    "len(updated_ID_df['new_id'].unique().tolist())\n"
   ]
  },
  {
   "cell_type": "markdown",
   "id": "2aabf6eb",
   "metadata": {},
   "source": [
    "### 2. Saving data in txt file"
   ]
  },
  {
   "cell_type": "code",
   "execution_count": 99,
   "id": "fed5ca97",
   "metadata": {},
   "outputs": [],
   "source": [
    "#Saving the data\n",
    "updated_fileName = f'Updated_{fileName}'\n",
    "updated_filePath = os.path.join(dataPath,updated_fileName)\n",
    "\n",
    "id_list = list(set(updated_ID_df['new_id'].unique().tolist()))\n",
    "with open(updated_filePath , \"w\") as output:\n",
    "    output.write(str(id_list))\n"
   ]
  },
  {
   "cell_type": "markdown",
   "id": "bf1c24d2",
   "metadata": {},
   "source": [
    "### 1. Or, loading the data from an excell file"
   ]
  },
  {
   "cell_type": "code",
   "execution_count": 3,
   "id": "425def5a",
   "metadata": {},
   "outputs": [
    {
     "data": {
      "text/html": [
       "<div>\n",
       "<style scoped>\n",
       "    .dataframe tbody tr th:only-of-type {\n",
       "        vertical-align: middle;\n",
       "    }\n",
       "\n",
       "    .dataframe tbody tr th {\n",
       "        vertical-align: top;\n",
       "    }\n",
       "\n",
       "    .dataframe thead th {\n",
       "        text-align: right;\n",
       "    }\n",
       "</style>\n",
       "<table border=\"1\" class=\"dataframe\">\n",
       "  <thead>\n",
       "    <tr style=\"text-align: right;\">\n",
       "      <th></th>\n",
       "      <th>XYZ-ME</th>\n",
       "      <th>symbol</th>\n",
       "      <th>XYZ-LO</th>\n",
       "      <th>quality comment</th>\n",
       "      <th>rim_area (Y/N)</th>\n",
       "      <th>hemisphere</th>\n",
       "      <th>lab</th>\n",
       "      <th>author</th>\n",
       "      <th>name</th>\n",
       "      <th>seg_id</th>\n",
       "      <th>...</th>\n",
       "      <th>optic_lobe_id</th>\n",
       "      <th>patch_id</th>\n",
       "      <th>column_id</th>\n",
       "      <th>backbone proofread (Y/N)</th>\n",
       "      <th>twigs proofread (Y/N)</th>\n",
       "      <th>inputs_proofread (Y/N)</th>\n",
       "      <th>dark_neurons (Y/N)</th>\n",
       "      <th>bad_quality_rim (Y/N)</th>\n",
       "      <th>healthy_L3 (Y/N)</th>\n",
       "      <th>detached_lamina (Y/N)</th>\n",
       "    </tr>\n",
       "  </thead>\n",
       "  <tbody>\n",
       "    <tr>\n",
       "      <th>0</th>\n",
       "      <td>NaN</td>\n",
       "      <td>TmY10</td>\n",
       "      <td>NaN</td>\n",
       "      <td>NaN</td>\n",
       "      <td>NaN</td>\n",
       "      <td>R</td>\n",
       "      <td>NaN</td>\n",
       "      <td>NaN</td>\n",
       "      <td>NaN</td>\n",
       "      <td>720575940627147322</td>\n",
       "      <td>...</td>\n",
       "      <td>NaN</td>\n",
       "      <td>NaN</td>\n",
       "      <td>NaN</td>\n",
       "      <td>NaN</td>\n",
       "      <td>NaN</td>\n",
       "      <td>NaN</td>\n",
       "      <td>NaN</td>\n",
       "      <td>NaN</td>\n",
       "      <td>NaN</td>\n",
       "      <td>NaN</td>\n",
       "    </tr>\n",
       "    <tr>\n",
       "      <th>1</th>\n",
       "      <td>NaN</td>\n",
       "      <td>TmY10</td>\n",
       "      <td>NaN</td>\n",
       "      <td>NaN</td>\n",
       "      <td>NaN</td>\n",
       "      <td>R</td>\n",
       "      <td>NaN</td>\n",
       "      <td>NaN</td>\n",
       "      <td>NaN</td>\n",
       "      <td>720575940625575973</td>\n",
       "      <td>...</td>\n",
       "      <td>NaN</td>\n",
       "      <td>NaN</td>\n",
       "      <td>NaN</td>\n",
       "      <td>NaN</td>\n",
       "      <td>NaN</td>\n",
       "      <td>NaN</td>\n",
       "      <td>NaN</td>\n",
       "      <td>NaN</td>\n",
       "      <td>NaN</td>\n",
       "      <td>NaN</td>\n",
       "    </tr>\n",
       "    <tr>\n",
       "      <th>2</th>\n",
       "      <td>NaN</td>\n",
       "      <td>TmY10</td>\n",
       "      <td>NaN</td>\n",
       "      <td>NaN</td>\n",
       "      <td>NaN</td>\n",
       "      <td>R</td>\n",
       "      <td>NaN</td>\n",
       "      <td>NaN</td>\n",
       "      <td>NaN</td>\n",
       "      <td>720575940635959159</td>\n",
       "      <td>...</td>\n",
       "      <td>NaN</td>\n",
       "      <td>NaN</td>\n",
       "      <td>NaN</td>\n",
       "      <td>NaN</td>\n",
       "      <td>NaN</td>\n",
       "      <td>NaN</td>\n",
       "      <td>NaN</td>\n",
       "      <td>NaN</td>\n",
       "      <td>NaN</td>\n",
       "      <td>NaN</td>\n",
       "    </tr>\n",
       "    <tr>\n",
       "      <th>3</th>\n",
       "      <td>NaN</td>\n",
       "      <td>TmY10</td>\n",
       "      <td>NaN</td>\n",
       "      <td>NaN</td>\n",
       "      <td>NaN</td>\n",
       "      <td>R</td>\n",
       "      <td>NaN</td>\n",
       "      <td>NaN</td>\n",
       "      <td>NaN</td>\n",
       "      <td>720575940628843536</td>\n",
       "      <td>...</td>\n",
       "      <td>NaN</td>\n",
       "      <td>NaN</td>\n",
       "      <td>NaN</td>\n",
       "      <td>NaN</td>\n",
       "      <td>NaN</td>\n",
       "      <td>NaN</td>\n",
       "      <td>NaN</td>\n",
       "      <td>NaN</td>\n",
       "      <td>NaN</td>\n",
       "      <td>NaN</td>\n",
       "    </tr>\n",
       "    <tr>\n",
       "      <th>4</th>\n",
       "      <td>NaN</td>\n",
       "      <td>TmY10</td>\n",
       "      <td>NaN</td>\n",
       "      <td>NaN</td>\n",
       "      <td>NaN</td>\n",
       "      <td>R</td>\n",
       "      <td>NaN</td>\n",
       "      <td>NaN</td>\n",
       "      <td>NaN</td>\n",
       "      <td>720575940617736616</td>\n",
       "      <td>...</td>\n",
       "      <td>NaN</td>\n",
       "      <td>NaN</td>\n",
       "      <td>NaN</td>\n",
       "      <td>NaN</td>\n",
       "      <td>NaN</td>\n",
       "      <td>NaN</td>\n",
       "      <td>NaN</td>\n",
       "      <td>NaN</td>\n",
       "      <td>NaN</td>\n",
       "      <td>NaN</td>\n",
       "    </tr>\n",
       "  </tbody>\n",
       "</table>\n",
       "<p>5 rows × 24 columns</p>\n",
       "</div>"
      ],
      "text/plain": [
       "   XYZ-ME symbol  XYZ-LO  quality comment  rim_area (Y/N) hemisphere  lab  \\\n",
       "0     NaN  TmY10     NaN              NaN             NaN          R  NaN   \n",
       "1     NaN  TmY10     NaN              NaN             NaN          R  NaN   \n",
       "2     NaN  TmY10     NaN              NaN             NaN          R  NaN   \n",
       "3     NaN  TmY10     NaN              NaN             NaN          R  NaN   \n",
       "4     NaN  TmY10     NaN              NaN             NaN          R  NaN   \n",
       "\n",
       "   author  name              seg_id  ...  optic_lobe_id  patch_id  column_id  \\\n",
       "0     NaN   NaN  720575940627147322  ...            NaN       NaN        NaN   \n",
       "1     NaN   NaN  720575940625575973  ...            NaN       NaN        NaN   \n",
       "2     NaN   NaN  720575940635959159  ...            NaN       NaN        NaN   \n",
       "3     NaN   NaN  720575940628843536  ...            NaN       NaN        NaN   \n",
       "4     NaN   NaN  720575940617736616  ...            NaN       NaN        NaN   \n",
       "\n",
       "   backbone proofread (Y/N)  twigs proofread (Y/N)  inputs_proofread (Y/N)  \\\n",
       "0                       NaN                    NaN                     NaN   \n",
       "1                       NaN                    NaN                     NaN   \n",
       "2                       NaN                    NaN                     NaN   \n",
       "3                       NaN                    NaN                     NaN   \n",
       "4                       NaN                    NaN                     NaN   \n",
       "\n",
       "   dark_neurons (Y/N)  bad_quality_rim (Y/N)  healthy_L3 (Y/N)  \\\n",
       "0                 NaN                    NaN               NaN   \n",
       "1                 NaN                    NaN               NaN   \n",
       "2                 NaN                    NaN               NaN   \n",
       "3                 NaN                    NaN               NaN   \n",
       "4                 NaN                    NaN               NaN   \n",
       "\n",
       "   detached_lamina (Y/N)  \n",
       "0                    NaN  \n",
       "1                    NaN  \n",
       "2                    NaN  \n",
       "3                    NaN  \n",
       "4                    NaN  \n",
       "\n",
       "[5 rows x 24 columns]"
      ]
     },
     "metadata": {},
     "output_type": "display_data"
    }
   ],
   "source": [
    "# Choose path and file\n",
    "PC_disc = 'D'\n",
    "dataPath = f'{PC_disc}:\\Connectomics-Data\\FlyWire\\Excels\\drive-data-sets\\database'\n",
    "date = '20231017'\n",
    "fileName = f'TmY10 proofreadings_{date}.xlsx'\n",
    "filePath = os.path.join(dataPath,fileName)\n",
    "\n",
    "#Loading file as DataFrame\n",
    "df = pd.read_excel(filePath)\n",
    "\n",
    "\n",
    "#Dropping the fisrt row ('asdf' was added as a walk-around to set that column values as type str)\n",
    "if df[\"seg_id\"][0] == 'asdf': \n",
    "    df = df.iloc[1: , :]\n",
    "    df.reset_index(inplace=True,drop=True)\n",
    "\n",
    "#Dropping dupllicates\n",
    "result_df = df.drop_duplicates(subset=[\"seg_id\"], keep='first').copy()\n",
    "\n",
    "#Quick look on the dataframe\n",
    "display(result_df.head())\n",
    "    \n",
    "#Getting the lists of IDs to update\n",
    "curr_ID_ls = result_df[\"seg_id\"].tolist()"
   ]
  },
  {
   "cell_type": "code",
   "execution_count": 6,
   "id": "1f4d0dc2",
   "metadata": {},
   "outputs": [
    {
     "data": {
      "application/vnd.jupyter.widget-view+json": {
       "model_id": "",
       "version_major": 2,
       "version_minor": 0
      },
      "text/plain": [
       "Updating:   0%|          | 0/255 [00:00<?, ?it/s]"
      ]
     },
     "metadata": {},
     "output_type": "display_data"
    }
   ],
   "source": [
    "#Updating all IDs at once\n",
    "updated_ID_df = fafbseg.flywire.update_ids(curr_ID_ls, stop_layer=2, supervoxels=None, timestamp=None, dataset='production', progress=True)"
   ]
  },
  {
   "cell_type": "code",
   "execution_count": null,
   "id": "536c231b",
   "metadata": {
    "scrolled": true
   },
   "outputs": [],
   "source": [
    "# Or, Updating the IDs via Fafbseg in a for loop\n",
    "\n",
    "_start = 0\n",
    "_steps = 100\n",
    "_last = _steps\n",
    "_rounds =  round(len(curr_ID_ls)/ _steps) +1\n",
    "\n",
    "print(f'Rounds to perform: {_rounds}')\n",
    "updated_ID_df = pd.DataFrame()\n",
    "for i in range(0,_rounds):\n",
    "    #print(f'Round {i}')\n",
    "    curr_ID_df = fafbseg.flywire.update_ids(curr_ID_ls[_start:_last], stop_layer=2, supervoxels=None, timestamp=None, dataset='production', progress=True)\n",
    "    updated_ID_df = pd.concat([updated_ID_df,curr_ID_df])\n",
    "    _start = _start + _steps\n",
    "    _last = _last + _steps\n"
   ]
  },
  {
   "cell_type": "code",
   "execution_count": 7,
   "id": "26f7b233",
   "metadata": {},
   "outputs": [],
   "source": [
    "result_df.reset_index(drop=True, inplace=True)\n",
    "result_df['Updated_seg_ids'] = updated_ID_df['new_id'].astype(str).tolist()\n",
    "result_df['Updated_confidence'] = updated_ID_df['confidence'].astype(str).tolist()"
   ]
  },
  {
   "cell_type": "code",
   "execution_count": 8,
   "id": "ed2d4eff",
   "metadata": {},
   "outputs": [
    {
     "data": {
      "text/html": [
       "<div>\n",
       "<style scoped>\n",
       "    .dataframe tbody tr th:only-of-type {\n",
       "        vertical-align: middle;\n",
       "    }\n",
       "\n",
       "    .dataframe tbody tr th {\n",
       "        vertical-align: top;\n",
       "    }\n",
       "\n",
       "    .dataframe thead th {\n",
       "        text-align: right;\n",
       "    }\n",
       "</style>\n",
       "<table border=\"1\" class=\"dataframe\">\n",
       "  <thead>\n",
       "    <tr style=\"text-align: right;\">\n",
       "      <th></th>\n",
       "      <th>XYZ-ME</th>\n",
       "      <th>symbol</th>\n",
       "      <th>XYZ-LO</th>\n",
       "      <th>quality comment</th>\n",
       "      <th>rim_area (Y/N)</th>\n",
       "      <th>hemisphere</th>\n",
       "      <th>lab</th>\n",
       "      <th>author</th>\n",
       "      <th>name</th>\n",
       "      <th>seg_id</th>\n",
       "      <th>...</th>\n",
       "      <th>column_id</th>\n",
       "      <th>backbone proofread (Y/N)</th>\n",
       "      <th>twigs proofread (Y/N)</th>\n",
       "      <th>inputs_proofread (Y/N)</th>\n",
       "      <th>dark_neurons (Y/N)</th>\n",
       "      <th>bad_quality_rim (Y/N)</th>\n",
       "      <th>healthy_L3 (Y/N)</th>\n",
       "      <th>detached_lamina (Y/N)</th>\n",
       "      <th>Updated_seg_ids</th>\n",
       "      <th>Updated_confidence</th>\n",
       "    </tr>\n",
       "  </thead>\n",
       "  <tbody>\n",
       "    <tr>\n",
       "      <th>250</th>\n",
       "      <td>NaN</td>\n",
       "      <td>TmY10</td>\n",
       "      <td>NaN</td>\n",
       "      <td>NaN</td>\n",
       "      <td>NaN</td>\n",
       "      <td>R</td>\n",
       "      <td>NaN</td>\n",
       "      <td>NaN</td>\n",
       "      <td>NaN</td>\n",
       "      <td>720575940644680648</td>\n",
       "      <td>...</td>\n",
       "      <td>NaN</td>\n",
       "      <td>NaN</td>\n",
       "      <td>NaN</td>\n",
       "      <td>NaN</td>\n",
       "      <td>NaN</td>\n",
       "      <td>NaN</td>\n",
       "      <td>NaN</td>\n",
       "      <td>NaN</td>\n",
       "      <td>720575940619580224</td>\n",
       "      <td>1.0</td>\n",
       "    </tr>\n",
       "    <tr>\n",
       "      <th>251</th>\n",
       "      <td>NaN</td>\n",
       "      <td>TmY10</td>\n",
       "      <td>NaN</td>\n",
       "      <td>NaN</td>\n",
       "      <td>NaN</td>\n",
       "      <td>R</td>\n",
       "      <td>NaN</td>\n",
       "      <td>NaN</td>\n",
       "      <td>NaN</td>\n",
       "      <td>720575940610758008</td>\n",
       "      <td>...</td>\n",
       "      <td>NaN</td>\n",
       "      <td>NaN</td>\n",
       "      <td>NaN</td>\n",
       "      <td>NaN</td>\n",
       "      <td>NaN</td>\n",
       "      <td>NaN</td>\n",
       "      <td>NaN</td>\n",
       "      <td>NaN</td>\n",
       "      <td>720575940610758008</td>\n",
       "      <td>1.0</td>\n",
       "    </tr>\n",
       "    <tr>\n",
       "      <th>252</th>\n",
       "      <td>NaN</td>\n",
       "      <td>TmY10</td>\n",
       "      <td>NaN</td>\n",
       "      <td>NaN</td>\n",
       "      <td>NaN</td>\n",
       "      <td>R</td>\n",
       "      <td>NaN</td>\n",
       "      <td>NaN</td>\n",
       "      <td>NaN</td>\n",
       "      <td>720575940620862384</td>\n",
       "      <td>...</td>\n",
       "      <td>NaN</td>\n",
       "      <td>NaN</td>\n",
       "      <td>NaN</td>\n",
       "      <td>NaN</td>\n",
       "      <td>NaN</td>\n",
       "      <td>NaN</td>\n",
       "      <td>NaN</td>\n",
       "      <td>NaN</td>\n",
       "      <td>720575940622944773</td>\n",
       "      <td>0.99</td>\n",
       "    </tr>\n",
       "    <tr>\n",
       "      <th>253</th>\n",
       "      <td>NaN</td>\n",
       "      <td>TmY10</td>\n",
       "      <td>NaN</td>\n",
       "      <td>NaN</td>\n",
       "      <td>NaN</td>\n",
       "      <td>R</td>\n",
       "      <td>NaN</td>\n",
       "      <td>NaN</td>\n",
       "      <td>NaN</td>\n",
       "      <td>720575940620744225</td>\n",
       "      <td>...</td>\n",
       "      <td>NaN</td>\n",
       "      <td>NaN</td>\n",
       "      <td>NaN</td>\n",
       "      <td>NaN</td>\n",
       "      <td>NaN</td>\n",
       "      <td>NaN</td>\n",
       "      <td>NaN</td>\n",
       "      <td>NaN</td>\n",
       "      <td>720575940640094542</td>\n",
       "      <td>0.95</td>\n",
       "    </tr>\n",
       "    <tr>\n",
       "      <th>254</th>\n",
       "      <td>NaN</td>\n",
       "      <td>TmY10</td>\n",
       "      <td>NaN</td>\n",
       "      <td>NaN</td>\n",
       "      <td>NaN</td>\n",
       "      <td>R</td>\n",
       "      <td>NaN</td>\n",
       "      <td>NaN</td>\n",
       "      <td>NaN</td>\n",
       "      <td>720575940614468094</td>\n",
       "      <td>...</td>\n",
       "      <td>NaN</td>\n",
       "      <td>NaN</td>\n",
       "      <td>NaN</td>\n",
       "      <td>NaN</td>\n",
       "      <td>NaN</td>\n",
       "      <td>NaN</td>\n",
       "      <td>NaN</td>\n",
       "      <td>NaN</td>\n",
       "      <td>720575940614468094</td>\n",
       "      <td>1.0</td>\n",
       "    </tr>\n",
       "  </tbody>\n",
       "</table>\n",
       "<p>5 rows × 26 columns</p>\n",
       "</div>"
      ],
      "text/plain": [
       "     XYZ-ME symbol  XYZ-LO  quality comment  rim_area (Y/N) hemisphere  lab  \\\n",
       "250     NaN  TmY10     NaN              NaN             NaN          R  NaN   \n",
       "251     NaN  TmY10     NaN              NaN             NaN          R  NaN   \n",
       "252     NaN  TmY10     NaN              NaN             NaN          R  NaN   \n",
       "253     NaN  TmY10     NaN              NaN             NaN          R  NaN   \n",
       "254     NaN  TmY10     NaN              NaN             NaN          R  NaN   \n",
       "\n",
       "     author  name              seg_id  ...  column_id  \\\n",
       "250     NaN   NaN  720575940644680648  ...        NaN   \n",
       "251     NaN   NaN  720575940610758008  ...        NaN   \n",
       "252     NaN   NaN  720575940620862384  ...        NaN   \n",
       "253     NaN   NaN  720575940620744225  ...        NaN   \n",
       "254     NaN   NaN  720575940614468094  ...        NaN   \n",
       "\n",
       "     backbone proofread (Y/N)  twigs proofread (Y/N)  inputs_proofread (Y/N)  \\\n",
       "250                       NaN                    NaN                     NaN   \n",
       "251                       NaN                    NaN                     NaN   \n",
       "252                       NaN                    NaN                     NaN   \n",
       "253                       NaN                    NaN                     NaN   \n",
       "254                       NaN                    NaN                     NaN   \n",
       "\n",
       "     dark_neurons (Y/N)  bad_quality_rim (Y/N)  healthy_L3 (Y/N)  \\\n",
       "250                 NaN                    NaN               NaN   \n",
       "251                 NaN                    NaN               NaN   \n",
       "252                 NaN                    NaN               NaN   \n",
       "253                 NaN                    NaN               NaN   \n",
       "254                 NaN                    NaN               NaN   \n",
       "\n",
       "     detached_lamina (Y/N)     Updated_seg_ids  Updated_confidence  \n",
       "250                    NaN  720575940619580224                 1.0  \n",
       "251                    NaN  720575940610758008                 1.0  \n",
       "252                    NaN  720575940622944773                0.99  \n",
       "253                    NaN  720575940640094542                0.95  \n",
       "254                    NaN  720575940614468094                 1.0  \n",
       "\n",
       "[5 rows x 26 columns]"
      ]
     },
     "execution_count": 8,
     "metadata": {},
     "output_type": "execute_result"
    }
   ],
   "source": [
    "result_df.tail()"
   ]
  },
  {
   "cell_type": "code",
   "execution_count": 9,
   "id": "df81568e",
   "metadata": {
    "scrolled": true
   },
   "outputs": [
    {
     "data": {
      "text/html": [
       "<div>\n",
       "<style scoped>\n",
       "    .dataframe tbody tr th:only-of-type {\n",
       "        vertical-align: middle;\n",
       "    }\n",
       "\n",
       "    .dataframe tbody tr th {\n",
       "        vertical-align: top;\n",
       "    }\n",
       "\n",
       "    .dataframe thead th {\n",
       "        text-align: right;\n",
       "    }\n",
       "</style>\n",
       "<table border=\"1\" class=\"dataframe\">\n",
       "  <thead>\n",
       "    <tr style=\"text-align: right;\">\n",
       "      <th></th>\n",
       "      <th>old_id</th>\n",
       "      <th>new_id</th>\n",
       "      <th>confidence</th>\n",
       "      <th>changed</th>\n",
       "    </tr>\n",
       "  </thead>\n",
       "  <tbody>\n",
       "    <tr>\n",
       "      <th>0</th>\n",
       "      <td>720575940627147322</td>\n",
       "      <td>720575940611088452</td>\n",
       "      <td>1.0</td>\n",
       "      <td>True</td>\n",
       "    </tr>\n",
       "    <tr>\n",
       "      <th>1</th>\n",
       "      <td>720575940625575973</td>\n",
       "      <td>720575940626398797</td>\n",
       "      <td>1.0</td>\n",
       "      <td>True</td>\n",
       "    </tr>\n",
       "    <tr>\n",
       "      <th>2</th>\n",
       "      <td>720575940635959159</td>\n",
       "      <td>720575940635959159</td>\n",
       "      <td>1.0</td>\n",
       "      <td>False</td>\n",
       "    </tr>\n",
       "    <tr>\n",
       "      <th>3</th>\n",
       "      <td>720575940628843536</td>\n",
       "      <td>720575940634349523</td>\n",
       "      <td>1.0</td>\n",
       "      <td>True</td>\n",
       "    </tr>\n",
       "    <tr>\n",
       "      <th>4</th>\n",
       "      <td>720575940617736616</td>\n",
       "      <td>720575940620728536</td>\n",
       "      <td>1.0</td>\n",
       "      <td>True</td>\n",
       "    </tr>\n",
       "  </tbody>\n",
       "</table>\n",
       "</div>"
      ],
      "text/plain": [
       "               old_id              new_id  confidence  changed\n",
       "0  720575940627147322  720575940611088452         1.0     True\n",
       "1  720575940625575973  720575940626398797         1.0     True\n",
       "2  720575940635959159  720575940635959159         1.0    False\n",
       "3  720575940628843536  720575940634349523         1.0     True\n",
       "4  720575940617736616  720575940620728536         1.0     True"
      ]
     },
     "metadata": {},
     "output_type": "display_data"
    },
    {
     "name": "stdout",
     "output_type": "stream",
     "text": [
      "Update confidences: \n",
      "{0.99, 1.0, 0.6, 0.96, 0.86, 0.82, 0.95, 0.9, 0.94, 0.88, 0.98, 0.81, 0.92, 0.97, 0.87, 0.89}\n"
     ]
    }
   ],
   "source": [
    "display(updated_ID_df.head())\n",
    "print('Update confidences: ')\n",
    "print(set(updated_ID_df['confidence'].tolist()))"
   ]
  },
  {
   "cell_type": "code",
   "execution_count": 10,
   "id": "5503cb3e",
   "metadata": {},
   "outputs": [
    {
     "data": {
      "text/html": [
       "<div>\n",
       "<style scoped>\n",
       "    .dataframe tbody tr th:only-of-type {\n",
       "        vertical-align: middle;\n",
       "    }\n",
       "\n",
       "    .dataframe tbody tr th {\n",
       "        vertical-align: top;\n",
       "    }\n",
       "\n",
       "    .dataframe thead th {\n",
       "        text-align: right;\n",
       "    }\n",
       "</style>\n",
       "<table border=\"1\" class=\"dataframe\">\n",
       "  <thead>\n",
       "    <tr style=\"text-align: right;\">\n",
       "      <th></th>\n",
       "      <th>old_id</th>\n",
       "      <th>new_id</th>\n",
       "      <th>confidence</th>\n",
       "      <th>changed</th>\n",
       "    </tr>\n",
       "  </thead>\n",
       "  <tbody>\n",
       "    <tr>\n",
       "      <th>15</th>\n",
       "      <td>720575940621734109</td>\n",
       "      <td>720575940626398285</td>\n",
       "      <td>0.99</td>\n",
       "      <td>True</td>\n",
       "    </tr>\n",
       "    <tr>\n",
       "      <th>17</th>\n",
       "      <td>720575940631809611</td>\n",
       "      <td>720575940615126447</td>\n",
       "      <td>0.86</td>\n",
       "      <td>True</td>\n",
       "    </tr>\n",
       "    <tr>\n",
       "      <th>37</th>\n",
       "      <td>720575940612241066</td>\n",
       "      <td>720575940613605273</td>\n",
       "      <td>0.96</td>\n",
       "      <td>True</td>\n",
       "    </tr>\n",
       "    <tr>\n",
       "      <th>44</th>\n",
       "      <td>720575940630558838</td>\n",
       "      <td>720575940623180321</td>\n",
       "      <td>0.96</td>\n",
       "      <td>True</td>\n",
       "    </tr>\n",
       "    <tr>\n",
       "      <th>45</th>\n",
       "      <td>720575940630513408</td>\n",
       "      <td>720575940610294211</td>\n",
       "      <td>0.60</td>\n",
       "      <td>True</td>\n",
       "    </tr>\n",
       "    <tr>\n",
       "      <th>55</th>\n",
       "      <td>720575940611821410</td>\n",
       "      <td>720575940624345641</td>\n",
       "      <td>0.82</td>\n",
       "      <td>True</td>\n",
       "    </tr>\n",
       "    <tr>\n",
       "      <th>65</th>\n",
       "      <td>720575940633890017</td>\n",
       "      <td>720575940626397773</td>\n",
       "      <td>0.60</td>\n",
       "      <td>True</td>\n",
       "    </tr>\n",
       "    <tr>\n",
       "      <th>74</th>\n",
       "      <td>720575940617878299</td>\n",
       "      <td>720575940621661062</td>\n",
       "      <td>0.95</td>\n",
       "      <td>True</td>\n",
       "    </tr>\n",
       "    <tr>\n",
       "      <th>75</th>\n",
       "      <td>720575940620452261</td>\n",
       "      <td>720575940628938472</td>\n",
       "      <td>0.95</td>\n",
       "      <td>True</td>\n",
       "    </tr>\n",
       "    <tr>\n",
       "      <th>79</th>\n",
       "      <td>720575940619668904</td>\n",
       "      <td>720575940640337205</td>\n",
       "      <td>0.90</td>\n",
       "      <td>True</td>\n",
       "    </tr>\n",
       "    <tr>\n",
       "      <th>81</th>\n",
       "      <td>720575940624810220</td>\n",
       "      <td>720575940612504782</td>\n",
       "      <td>0.99</td>\n",
       "      <td>True</td>\n",
       "    </tr>\n",
       "    <tr>\n",
       "      <th>86</th>\n",
       "      <td>720575940620279643</td>\n",
       "      <td>720575940623464918</td>\n",
       "      <td>0.99</td>\n",
       "      <td>True</td>\n",
       "    </tr>\n",
       "    <tr>\n",
       "      <th>93</th>\n",
       "      <td>720575940604946633</td>\n",
       "      <td>720575940621795822</td>\n",
       "      <td>0.94</td>\n",
       "      <td>True</td>\n",
       "    </tr>\n",
       "    <tr>\n",
       "      <th>101</th>\n",
       "      <td>720575940616425797</td>\n",
       "      <td>720575940621080711</td>\n",
       "      <td>0.88</td>\n",
       "      <td>True</td>\n",
       "    </tr>\n",
       "    <tr>\n",
       "      <th>109</th>\n",
       "      <td>720575940618468637</td>\n",
       "      <td>720575940610500547</td>\n",
       "      <td>0.97</td>\n",
       "      <td>True</td>\n",
       "    </tr>\n",
       "    <tr>\n",
       "      <th>115</th>\n",
       "      <td>720575940613146861</td>\n",
       "      <td>720575940630586238</td>\n",
       "      <td>0.86</td>\n",
       "      <td>True</td>\n",
       "    </tr>\n",
       "    <tr>\n",
       "      <th>117</th>\n",
       "      <td>720575940620164657</td>\n",
       "      <td>720575940623463382</td>\n",
       "      <td>0.97</td>\n",
       "      <td>True</td>\n",
       "    </tr>\n",
       "    <tr>\n",
       "      <th>126</th>\n",
       "      <td>720575940619190577</td>\n",
       "      <td>720575940628658692</td>\n",
       "      <td>0.99</td>\n",
       "      <td>True</td>\n",
       "    </tr>\n",
       "    <tr>\n",
       "      <th>128</th>\n",
       "      <td>720575940633880462</td>\n",
       "      <td>720575940612980629</td>\n",
       "      <td>0.98</td>\n",
       "      <td>True</td>\n",
       "    </tr>\n",
       "    <tr>\n",
       "      <th>130</th>\n",
       "      <td>720575940632453224</td>\n",
       "      <td>720575940628682383</td>\n",
       "      <td>0.86</td>\n",
       "      <td>True</td>\n",
       "    </tr>\n",
       "    <tr>\n",
       "      <th>133</th>\n",
       "      <td>720575940639680445</td>\n",
       "      <td>720575940627519746</td>\n",
       "      <td>0.99</td>\n",
       "      <td>True</td>\n",
       "    </tr>\n",
       "    <tr>\n",
       "      <th>146</th>\n",
       "      <td>720575940633883031</td>\n",
       "      <td>720575940615125423</td>\n",
       "      <td>0.89</td>\n",
       "      <td>True</td>\n",
       "    </tr>\n",
       "    <tr>\n",
       "      <th>147</th>\n",
       "      <td>720575940613988077</td>\n",
       "      <td>720575940628389970</td>\n",
       "      <td>0.97</td>\n",
       "      <td>True</td>\n",
       "    </tr>\n",
       "    <tr>\n",
       "      <th>155</th>\n",
       "      <td>720575940624863997</td>\n",
       "      <td>720575940623464918</td>\n",
       "      <td>0.99</td>\n",
       "      <td>True</td>\n",
       "    </tr>\n",
       "    <tr>\n",
       "      <th>163</th>\n",
       "      <td>720575940629695223</td>\n",
       "      <td>720575940620724952</td>\n",
       "      <td>0.97</td>\n",
       "      <td>True</td>\n",
       "    </tr>\n",
       "    <tr>\n",
       "      <th>176</th>\n",
       "      <td>720575940628061061</td>\n",
       "      <td>720575940628937960</td>\n",
       "      <td>0.98</td>\n",
       "      <td>True</td>\n",
       "    </tr>\n",
       "    <tr>\n",
       "      <th>182</th>\n",
       "      <td>720575940629590654</td>\n",
       "      <td>720575940613148378</td>\n",
       "      <td>0.81</td>\n",
       "      <td>True</td>\n",
       "    </tr>\n",
       "    <tr>\n",
       "      <th>183</th>\n",
       "      <td>720575940648559748</td>\n",
       "      <td>720575940621795822</td>\n",
       "      <td>0.99</td>\n",
       "      <td>True</td>\n",
       "    </tr>\n",
       "    <tr>\n",
       "      <th>193</th>\n",
       "      <td>720575940618239673</td>\n",
       "      <td>720575940628389970</td>\n",
       "      <td>0.98</td>\n",
       "      <td>True</td>\n",
       "    </tr>\n",
       "    <tr>\n",
       "      <th>197</th>\n",
       "      <td>720575940619718449</td>\n",
       "      <td>720575940628633621</td>\n",
       "      <td>0.92</td>\n",
       "      <td>True</td>\n",
       "    </tr>\n",
       "    <tr>\n",
       "      <th>203</th>\n",
       "      <td>720575940617829588</td>\n",
       "      <td>720575940634352851</td>\n",
       "      <td>0.99</td>\n",
       "      <td>True</td>\n",
       "    </tr>\n",
       "    <tr>\n",
       "      <th>205</th>\n",
       "      <td>720575940620840277</td>\n",
       "      <td>720575940625169661</td>\n",
       "      <td>0.97</td>\n",
       "      <td>True</td>\n",
       "    </tr>\n",
       "    <tr>\n",
       "      <th>207</th>\n",
       "      <td>720575940635451022</td>\n",
       "      <td>720575940628937960</td>\n",
       "      <td>0.97</td>\n",
       "      <td>True</td>\n",
       "    </tr>\n",
       "    <tr>\n",
       "      <th>208</th>\n",
       "      <td>720575940630272572</td>\n",
       "      <td>720575940621932909</td>\n",
       "      <td>0.97</td>\n",
       "      <td>True</td>\n",
       "    </tr>\n",
       "    <tr>\n",
       "      <th>213</th>\n",
       "      <td>720575940633277335</td>\n",
       "      <td>720575940621655942</td>\n",
       "      <td>0.99</td>\n",
       "      <td>True</td>\n",
       "    </tr>\n",
       "    <tr>\n",
       "      <th>223</th>\n",
       "      <td>720575940624042760</td>\n",
       "      <td>720575940622007905</td>\n",
       "      <td>0.89</td>\n",
       "      <td>True</td>\n",
       "    </tr>\n",
       "    <tr>\n",
       "      <th>224</th>\n",
       "      <td>720575940615119569</td>\n",
       "      <td>720575940624345641</td>\n",
       "      <td>0.87</td>\n",
       "      <td>True</td>\n",
       "    </tr>\n",
       "    <tr>\n",
       "      <th>227</th>\n",
       "      <td>720575940645307415</td>\n",
       "      <td>720575940632606777</td>\n",
       "      <td>0.97</td>\n",
       "      <td>True</td>\n",
       "    </tr>\n",
       "    <tr>\n",
       "      <th>229</th>\n",
       "      <td>720575940626370704</td>\n",
       "      <td>720575940611069764</td>\n",
       "      <td>0.95</td>\n",
       "      <td>True</td>\n",
       "    </tr>\n",
       "    <tr>\n",
       "      <th>236</th>\n",
       "      <td>720575940628319431</td>\n",
       "      <td>720575940622822388</td>\n",
       "      <td>0.97</td>\n",
       "      <td>True</td>\n",
       "    </tr>\n",
       "    <tr>\n",
       "      <th>241</th>\n",
       "      <td>720575940620337317</td>\n",
       "      <td>720575940640266037</td>\n",
       "      <td>0.98</td>\n",
       "      <td>True</td>\n",
       "    </tr>\n",
       "    <tr>\n",
       "      <th>249</th>\n",
       "      <td>720575940623956265</td>\n",
       "      <td>720575940629041916</td>\n",
       "      <td>0.92</td>\n",
       "      <td>True</td>\n",
       "    </tr>\n",
       "    <tr>\n",
       "      <th>252</th>\n",
       "      <td>720575940620862384</td>\n",
       "      <td>720575940622944773</td>\n",
       "      <td>0.99</td>\n",
       "      <td>True</td>\n",
       "    </tr>\n",
       "    <tr>\n",
       "      <th>253</th>\n",
       "      <td>720575940620744225</td>\n",
       "      <td>720575940640094542</td>\n",
       "      <td>0.95</td>\n",
       "      <td>True</td>\n",
       "    </tr>\n",
       "  </tbody>\n",
       "</table>\n",
       "</div>"
      ],
      "text/plain": [
       "                 old_id              new_id  confidence  changed\n",
       "15   720575940621734109  720575940626398285        0.99     True\n",
       "17   720575940631809611  720575940615126447        0.86     True\n",
       "37   720575940612241066  720575940613605273        0.96     True\n",
       "44   720575940630558838  720575940623180321        0.96     True\n",
       "45   720575940630513408  720575940610294211        0.60     True\n",
       "55   720575940611821410  720575940624345641        0.82     True\n",
       "65   720575940633890017  720575940626397773        0.60     True\n",
       "74   720575940617878299  720575940621661062        0.95     True\n",
       "75   720575940620452261  720575940628938472        0.95     True\n",
       "79   720575940619668904  720575940640337205        0.90     True\n",
       "81   720575940624810220  720575940612504782        0.99     True\n",
       "86   720575940620279643  720575940623464918        0.99     True\n",
       "93   720575940604946633  720575940621795822        0.94     True\n",
       "101  720575940616425797  720575940621080711        0.88     True\n",
       "109  720575940618468637  720575940610500547        0.97     True\n",
       "115  720575940613146861  720575940630586238        0.86     True\n",
       "117  720575940620164657  720575940623463382        0.97     True\n",
       "126  720575940619190577  720575940628658692        0.99     True\n",
       "128  720575940633880462  720575940612980629        0.98     True\n",
       "130  720575940632453224  720575940628682383        0.86     True\n",
       "133  720575940639680445  720575940627519746        0.99     True\n",
       "146  720575940633883031  720575940615125423        0.89     True\n",
       "147  720575940613988077  720575940628389970        0.97     True\n",
       "155  720575940624863997  720575940623464918        0.99     True\n",
       "163  720575940629695223  720575940620724952        0.97     True\n",
       "176  720575940628061061  720575940628937960        0.98     True\n",
       "182  720575940629590654  720575940613148378        0.81     True\n",
       "183  720575940648559748  720575940621795822        0.99     True\n",
       "193  720575940618239673  720575940628389970        0.98     True\n",
       "197  720575940619718449  720575940628633621        0.92     True\n",
       "203  720575940617829588  720575940634352851        0.99     True\n",
       "205  720575940620840277  720575940625169661        0.97     True\n",
       "207  720575940635451022  720575940628937960        0.97     True\n",
       "208  720575940630272572  720575940621932909        0.97     True\n",
       "213  720575940633277335  720575940621655942        0.99     True\n",
       "223  720575940624042760  720575940622007905        0.89     True\n",
       "224  720575940615119569  720575940624345641        0.87     True\n",
       "227  720575940645307415  720575940632606777        0.97     True\n",
       "229  720575940626370704  720575940611069764        0.95     True\n",
       "236  720575940628319431  720575940622822388        0.97     True\n",
       "241  720575940620337317  720575940640266037        0.98     True\n",
       "249  720575940623956265  720575940629041916        0.92     True\n",
       "252  720575940620862384  720575940622944773        0.99     True\n",
       "253  720575940620744225  720575940640094542        0.95     True"
      ]
     },
     "execution_count": 10,
     "metadata": {},
     "output_type": "execute_result"
    }
   ],
   "source": [
    "updated_ID_df[updated_ID_df['confidence'] < 1]"
   ]
  },
  {
   "cell_type": "code",
   "execution_count": null,
   "id": "70cf7e9f",
   "metadata": {
    "scrolled": true
   },
   "outputs": [],
   "source": []
  },
  {
   "cell_type": "code",
   "execution_count": null,
   "id": "c2366821",
   "metadata": {
    "scrolled": false
   },
   "outputs": [],
   "source": []
  },
  {
   "cell_type": "markdown",
   "id": "70954653",
   "metadata": {},
   "source": []
  },
  {
   "cell_type": "markdown",
   "id": "bdb7a7b1",
   "metadata": {},
   "source": [
    "### 2. Saving back in the excel file"
   ]
  },
  {
   "cell_type": "code",
   "execution_count": 13,
   "id": "2903e8ed",
   "metadata": {},
   "outputs": [],
   "source": [
    "# Creating string for the date\n",
    "import datetime\n",
    "x = datetime.datetime.now()\n",
    "date_str = x.strftime(\"%d\") + x.strftime(\"%b\") + x.strftime(\"%Y\")\n",
    "\n",
    "# Writting in an existing excel file\n",
    "from openpyxl import load_workbook\n",
    "book = load_workbook(filePath)\n",
    "writer = pd.ExcelWriter(filePath, engine = 'openpyxl')\n",
    "writer.book = book\n",
    "\n",
    "result_df.to_excel(writer, sheet_name='Updated_table_'+date_str) #sorted_df\n",
    "writer.save()\n",
    "writer.close()"
   ]
  },
  {
   "cell_type": "code",
   "execution_count": 102,
   "id": "c89aaa46",
   "metadata": {},
   "outputs": [
    {
     "data": {
      "text/html": [
       "<div>\n",
       "<style scoped>\n",
       "    .dataframe tbody tr th:only-of-type {\n",
       "        vertical-align: middle;\n",
       "    }\n",
       "\n",
       "    .dataframe tbody tr th {\n",
       "        vertical-align: top;\n",
       "    }\n",
       "\n",
       "    .dataframe thead th {\n",
       "        text-align: right;\n",
       "    }\n",
       "</style>\n",
       "<table border=\"1\" class=\"dataframe\">\n",
       "  <thead>\n",
       "    <tr style=\"text-align: right;\">\n",
       "      <th></th>\n",
       "      <th>old_id</th>\n",
       "      <th>new_id</th>\n",
       "      <th>confidence</th>\n",
       "      <th>changed</th>\n",
       "    </tr>\n",
       "  </thead>\n",
       "  <tbody>\n",
       "  </tbody>\n",
       "</table>\n",
       "</div>"
      ],
      "text/plain": [
       "Empty DataFrame\n",
       "Columns: [old_id, new_id, confidence, changed]\n",
       "Index: []"
      ]
     },
     "execution_count": 102,
     "metadata": {},
     "output_type": "execute_result"
    }
   ],
   "source": [
    "updated_ID_df[updated_ID_df['new_id'] == 720575940613560342]"
   ]
  },
  {
   "cell_type": "code",
   "execution_count": null,
   "id": "e1e4c8ad",
   "metadata": {},
   "outputs": [],
   "source": []
  },
  {
   "cell_type": "markdown",
   "id": "54539894",
   "metadata": {},
   "source": [
    "### E) Making a list of unique values"
   ]
  },
  {
   "cell_type": "code",
   "execution_count": 8,
   "id": "f288081f",
   "metadata": {},
   "outputs": [],
   "source": [
    "PC_disc = 'D'\n",
    "dataPath =  f'{PC_disc}:\\Connectomics-Data\\FlyWire\\Txts'\n",
    "\n",
    "#File one\n",
    "fileName_1 = f'temp.txt'\n",
    "filePath = os.path.join(dataPath,fileName_1)\n",
    "df_1 = pd.read_csv(filePath, delimiter = \"\\t\",header=None)\n",
    "list1 = list(set(df_1[0].tolist()))\n",
    "\n",
    "# Saving function\n",
    "def save_list_to_file(file_path, input_list):\n",
    "    df = pd.DataFrame(input_list, columns=['Items'])\n",
    "    df.to_csv(file_path, header=False, index=False)\n",
    "    \n",
    "    \n",
    "PC_disc = 'D'\n",
    "\n",
    "file_path_1 = os.path.join(dataPath,f'Unique_{fileName_1}')\n",
    "save_list_to_file(file_path_1, list1)"
   ]
  },
  {
   "cell_type": "code",
   "execution_count": null,
   "id": "21af2052",
   "metadata": {},
   "outputs": [],
   "source": []
  },
  {
   "cell_type": "code",
   "execution_count": null,
   "id": "3468b71d",
   "metadata": {},
   "outputs": [],
   "source": []
  }
 ],
 "metadata": {
  "kernelspec": {
   "display_name": "Python 3",
   "language": "python",
   "name": "python3"
  },
  "language_info": {
   "codemirror_mode": {
    "name": "ipython",
    "version": 3
   },
   "file_extension": ".py",
   "mimetype": "text/x-python",
   "name": "python",
   "nbconvert_exporter": "python",
   "pygments_lexer": "ipython3",
   "version": "3.7.4"
  }
 },
 "nbformat": 4,
 "nbformat_minor": 5
}
