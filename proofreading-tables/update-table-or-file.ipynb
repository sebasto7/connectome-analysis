{
 "cells": [
  {
   "cell_type": "markdown",
   "id": "2fbbfb0d",
   "metadata": {},
   "source": [
    "# Updating a proofreading table or a list id file"
   ]
  },
  {
   "cell_type": "markdown",
   "id": "5355cfd2",
   "metadata": {},
   "source": [
    "This notebook contains functions and example scripts to update a proofreading table or lists of ids stored in an excel or txt file"
   ]
  },
  {
   "cell_type": "markdown",
   "id": "b6ccbf1d",
   "metadata": {},
   "source": [
    "Content per section:\n",
    "<br>A) Updating IDs and presynaptic counts\n",
    "<br>B) Updating main postsynaptic neurons database (table)\n",
    "<br>C) Updating a list of IDs from a txt file\n",
    "<br>D) Updating a list of IDs from any excel file"
   ]
  },
  {
   "cell_type": "code",
   "execution_count": 25,
   "id": "7e090bbe",
   "metadata": {},
   "outputs": [],
   "source": [
    "import os\n",
    "import pandas as pd\n",
    "import numpy as np\n",
    "import fafbseg\n",
    "import math\n",
    "import itertools\n",
    "from fafbseg import flywire\n",
    "from caveclient import CAVEclient\n",
    "from helpers.synapse_queries import combine_xyz, separate_xyz, synapse_count, filter_points, calculate_distance\n",
    "client = CAVEclient('flywire_fafb_production')"
   ]
  },
  {
   "cell_type": "markdown",
   "id": "fed0ec97",
   "metadata": {},
   "source": [
    "## A) Updating IDs and presynaptic counts"
   ]
  },
  {
   "cell_type": "markdown",
   "id": "73f4beeb",
   "metadata": {},
   "source": [
    "### 1. Loading Tm9 input neuron table"
   ]
  },
  {
   "cell_type": "code",
   "execution_count": 31,
   "id": "15183aa8",
   "metadata": {},
   "outputs": [],
   "source": [
    "# Choose path and file\n",
    "PC_disc = 'D'\n",
    "dataPath = f'{PC_disc}:\\Connectomics-Data\\FlyWire\\Excels\\drive-data-sets'\n",
    "fileName = f'Tm9_neurons_input_count_R_491_20231024.xlsx'\n",
    "filePath = os.path.join(dataPath,fileName)"
   ]
  },
  {
   "cell_type": "code",
   "execution_count": 32,
   "id": "079d3f98",
   "metadata": {},
   "outputs": [
    {
     "data": {
      "text/html": [
       "<div>\n",
       "<style scoped>\n",
       "    .dataframe tbody tr th:only-of-type {\n",
       "        vertical-align: middle;\n",
       "    }\n",
       "\n",
       "    .dataframe tbody tr th {\n",
       "        vertical-align: top;\n",
       "    }\n",
       "\n",
       "    .dataframe thead th {\n",
       "        text-align: right;\n",
       "    }\n",
       "</style>\n",
       "<table border=\"1\" class=\"dataframe\">\n",
       "  <thead>\n",
       "    <tr style=\"text-align: right;\">\n",
       "      <th></th>\n",
       "      <th>presynaptic_ID</th>\n",
       "      <th>counts</th>\n",
       "      <th>count %</th>\n",
       "      <th>postsynaptic_ID</th>\n",
       "      <th>symbol</th>\n",
       "      <th>guess</th>\n",
       "      <th>lab</th>\n",
       "      <th>author</th>\n",
       "      <th>name</th>\n",
       "      <th>FlyWire proofread (Y/N)</th>\n",
       "      <th>...</th>\n",
       "      <th>Updated_counts</th>\n",
       "      <th>duplicates</th>\n",
       "      <th>notes</th>\n",
       "      <th>Working on</th>\n",
       "      <th>optic_lobe_id</th>\n",
       "      <th>column_id</th>\n",
       "      <th>patch_id</th>\n",
       "      <th>hemisphere</th>\n",
       "      <th>Updated_postsynaptic_ID</th>\n",
       "      <th>dorso-ventral</th>\n",
       "    </tr>\n",
       "  </thead>\n",
       "  <tbody>\n",
       "    <tr>\n",
       "      <th>0</th>\n",
       "      <td>asdf</td>\n",
       "      <td>NaN</td>\n",
       "      <td>NaN</td>\n",
       "      <td>asdf</td>\n",
       "      <td>NaN</td>\n",
       "      <td>NaN</td>\n",
       "      <td>NaN</td>\n",
       "      <td>NaN</td>\n",
       "      <td>NaN</td>\n",
       "      <td>NaN</td>\n",
       "      <td>...</td>\n",
       "      <td>NaN</td>\n",
       "      <td>NaN</td>\n",
       "      <td>NaN</td>\n",
       "      <td>NaN</td>\n",
       "      <td>NaN</td>\n",
       "      <td>NaN</td>\n",
       "      <td>NaN</td>\n",
       "      <td>NaN</td>\n",
       "      <td>NaN</td>\n",
       "      <td>NaN</td>\n",
       "    </tr>\n",
       "    <tr>\n",
       "      <th>1</th>\n",
       "      <td>720575940612487630</td>\n",
       "      <td>36.0</td>\n",
       "      <td>NaN</td>\n",
       "      <td>720575940633269971</td>\n",
       "      <td>L3</td>\n",
       "      <td>NaN</td>\n",
       "      <td>NaN</td>\n",
       "      <td>96</td>\n",
       "      <td>NaN</td>\n",
       "      <td>NaN</td>\n",
       "      <td>...</td>\n",
       "      <td>NaN</td>\n",
       "      <td>NaN</td>\n",
       "      <td>NaN</td>\n",
       "      <td>NaN</td>\n",
       "      <td>R32</td>\n",
       "      <td>NaN</td>\n",
       "      <td>NaN</td>\n",
       "      <td>R</td>\n",
       "      <td>NaN</td>\n",
       "      <td>V</td>\n",
       "    </tr>\n",
       "    <tr>\n",
       "      <th>2</th>\n",
       "      <td>720575940628842517</td>\n",
       "      <td>25.0</td>\n",
       "      <td>NaN</td>\n",
       "      <td>720575940633269971</td>\n",
       "      <td>CT1</td>\n",
       "      <td>NaN</td>\n",
       "      <td>NaN</td>\n",
       "      <td>95</td>\n",
       "      <td>NaN</td>\n",
       "      <td>NaN</td>\n",
       "      <td>...</td>\n",
       "      <td>NaN</td>\n",
       "      <td>NaN</td>\n",
       "      <td>NaN</td>\n",
       "      <td>NaN</td>\n",
       "      <td>R32</td>\n",
       "      <td>NaN</td>\n",
       "      <td>NaN</td>\n",
       "      <td>R</td>\n",
       "      <td>NaN</td>\n",
       "      <td>V</td>\n",
       "    </tr>\n",
       "    <tr>\n",
       "      <th>3</th>\n",
       "      <td>720575940654872737</td>\n",
       "      <td>13.0</td>\n",
       "      <td>NaN</td>\n",
       "      <td>720575940633269971</td>\n",
       "      <td>Mi4</td>\n",
       "      <td>NaN</td>\n",
       "      <td>NaN</td>\n",
       "      <td>392</td>\n",
       "      <td>NaN</td>\n",
       "      <td>NaN</td>\n",
       "      <td>...</td>\n",
       "      <td>NaN</td>\n",
       "      <td>NaN</td>\n",
       "      <td>NaN</td>\n",
       "      <td>NaN</td>\n",
       "      <td>R32</td>\n",
       "      <td>NaN</td>\n",
       "      <td>NaN</td>\n",
       "      <td>R</td>\n",
       "      <td>NaN</td>\n",
       "      <td>V</td>\n",
       "    </tr>\n",
       "    <tr>\n",
       "      <th>4</th>\n",
       "      <td>720575940626330969</td>\n",
       "      <td>13.0</td>\n",
       "      <td>NaN</td>\n",
       "      <td>720575940633269971</td>\n",
       "      <td>Tm16</td>\n",
       "      <td>NaN</td>\n",
       "      <td>NaN</td>\n",
       "      <td>392</td>\n",
       "      <td>NaN</td>\n",
       "      <td>NaN</td>\n",
       "      <td>...</td>\n",
       "      <td>NaN</td>\n",
       "      <td>NaN</td>\n",
       "      <td>NaN</td>\n",
       "      <td>NaN</td>\n",
       "      <td>R32</td>\n",
       "      <td>NaN</td>\n",
       "      <td>NaN</td>\n",
       "      <td>R</td>\n",
       "      <td>NaN</td>\n",
       "      <td>V</td>\n",
       "    </tr>\n",
       "  </tbody>\n",
       "</table>\n",
       "<p>5 rows × 30 columns</p>\n",
       "</div>"
      ],
      "text/plain": [
       "       presynaptic_ID  counts  count %     postsynaptic_ID symbol guess  lab  \\\n",
       "0                asdf     NaN      NaN                asdf    NaN   NaN  NaN   \n",
       "1  720575940612487630    36.0      NaN  720575940633269971     L3   NaN  NaN   \n",
       "2  720575940628842517    25.0      NaN  720575940633269971    CT1   NaN  NaN   \n",
       "3  720575940654872737    13.0      NaN  720575940633269971    Mi4   NaN  NaN   \n",
       "4  720575940626330969    13.0      NaN  720575940633269971   Tm16   NaN  NaN   \n",
       "\n",
       "  author name  FlyWire proofread (Y/N)  ...  Updated_counts  duplicates  \\\n",
       "0    NaN  NaN                      NaN  ...             NaN         NaN   \n",
       "1     96  NaN                      NaN  ...             NaN         NaN   \n",
       "2     95  NaN                      NaN  ...             NaN         NaN   \n",
       "3    392  NaN                      NaN  ...             NaN         NaN   \n",
       "4    392  NaN                      NaN  ...             NaN         NaN   \n",
       "\n",
       "   notes  Working on optic_lobe_id  column_id  patch_id  hemisphere  \\\n",
       "0    NaN         NaN           NaN        NaN       NaN         NaN   \n",
       "1    NaN         NaN           R32        NaN       NaN           R   \n",
       "2    NaN         NaN           R32        NaN       NaN           R   \n",
       "3    NaN         NaN           R32        NaN       NaN           R   \n",
       "4    NaN         NaN           R32        NaN       NaN           R   \n",
       "\n",
       "   Updated_postsynaptic_ID  dorso-ventral  \n",
       "0                      NaN            NaN  \n",
       "1                      NaN              V  \n",
       "2                      NaN              V  \n",
       "3                      NaN              V  \n",
       "4                      NaN              V  \n",
       "\n",
       "[5 rows x 30 columns]"
      ]
     },
     "execution_count": 32,
     "metadata": {},
     "output_type": "execute_result"
    }
   ],
   "source": [
    "#Loading file as DataFrame\n",
    "df = pd.read_excel(filePath)\n",
    "df.head()"
   ]
  },
  {
   "cell_type": "code",
   "execution_count": 33,
   "id": "9179bf72",
   "metadata": {
    "scrolled": true
   },
   "outputs": [],
   "source": [
    "#Dropping the fisrt row ('asdf' was added as a walk-around to set that column values as type str)\n",
    "if df[\"postsynaptic_ID\"][0] == 'asdf': \n",
    "    df = df.iloc[1: , :]\n",
    "    df.reset_index(inplace=True,drop=True)\n",
    "\n",
    "#df = df[df['counts'] >= 3].copy() # Removing rows based on absolute count filter\n",
    "    \n",
    "#Getting the lists of IDs to update\n",
    "segmentIDs = df[\"seg_id\"].copy()\n",
    "pre_IDs = df[\"presynaptic_ID\"].copy()\n",
    "post_IDs = df[\"postsynaptic_ID\"].copy()\n"
   ]
  },
  {
   "cell_type": "code",
   "execution_count": 34,
   "id": "a4d06e45",
   "metadata": {},
   "outputs": [],
   "source": [
    "#Replacing the 'INPUTS PROOFREAD' labelled row of the lists for the previous postsynaptic cell ID\n",
    "for i, id in enumerate(pre_IDs):\n",
    "    if id == 'INPUTS PROOFREAD':\n",
    "        segmentIDs[i] = post_IDs[i-1] # The previous postsynaptic cell ID\n",
    "        pre_IDs[i] = post_IDs[i-1]\n",
    "        post_IDs[i] = post_IDs[i-1]"
   ]
  },
  {
   "cell_type": "markdown",
   "id": "1e66906b",
   "metadata": {},
   "source": [
    "### 2. Updating IDs considering our excel file extructure (fast and new version)"
   ]
  },
  {
   "cell_type": "code",
   "execution_count": 35,
   "id": "6a205648",
   "metadata": {},
   "outputs": [
    {
     "name": "stdout",
     "output_type": "stream",
     "text": [
      "Total rounds to perform: 164\n"
     ]
    },
    {
     "data": {
      "application/vnd.jupyter.widget-view+json": {
       "model_id": "",
       "version_major": 2,
       "version_minor": 0
      },
      "text/plain": [
       "Updating:   0%|          | 0/100 [00:00<?, ?it/s]"
      ]
     },
     "metadata": {},
     "output_type": "display_data"
    },
    {
     "data": {
      "application/vnd.jupyter.widget-view+json": {
       "model_id": "",
       "version_major": 2,
       "version_minor": 0
      },
      "text/plain": [
       "Updating:   0%|          | 0/100 [00:00<?, ?it/s]"
      ]
     },
     "metadata": {},
     "output_type": "display_data"
    },
    {
     "data": {
      "application/vnd.jupyter.widget-view+json": {
       "model_id": "",
       "version_major": 2,
       "version_minor": 0
      },
      "text/plain": [
       "Updating:   0%|          | 0/100 [00:00<?, ?it/s]"
      ]
     },
     "metadata": {},
     "output_type": "display_data"
    },
    {
     "data": {
      "application/vnd.jupyter.widget-view+json": {
       "model_id": "",
       "version_major": 2,
       "version_minor": 0
      },
      "text/plain": [
       "Updating:   0%|          | 0/100 [00:00<?, ?it/s]"
      ]
     },
     "metadata": {},
     "output_type": "display_data"
    },
    {
     "data": {
      "application/vnd.jupyter.widget-view+json": {
       "model_id": "",
       "version_major": 2,
       "version_minor": 0
      },
      "text/plain": [
       "Updating:   0%|          | 0/100 [00:00<?, ?it/s]"
      ]
     },
     "metadata": {},
     "output_type": "display_data"
    },
    {
     "name": "stdout",
     "output_type": "stream",
     "text": [
      "5\n"
     ]
    },
    {
     "data": {
      "application/vnd.jupyter.widget-view+json": {
       "model_id": "",
       "version_major": 2,
       "version_minor": 0
      },
      "text/plain": [
       "Updating:   0%|          | 0/100 [00:00<?, ?it/s]"
      ]
     },
     "metadata": {},
     "output_type": "display_data"
    },
    {
     "data": {
      "application/vnd.jupyter.widget-view+json": {
       "model_id": "",
       "version_major": 2,
       "version_minor": 0
      },
      "text/plain": [
       "Updating:   0%|          | 0/100 [00:00<?, ?it/s]"
      ]
     },
     "metadata": {},
     "output_type": "display_data"
    },
    {
     "data": {
      "application/vnd.jupyter.widget-view+json": {
       "model_id": "",
       "version_major": 2,
       "version_minor": 0
      },
      "text/plain": [
       "Updating:   0%|          | 0/100 [00:00<?, ?it/s]"
      ]
     },
     "metadata": {},
     "output_type": "display_data"
    },
    {
     "data": {
      "application/vnd.jupyter.widget-view+json": {
       "model_id": "",
       "version_major": 2,
       "version_minor": 0
      },
      "text/plain": [
       "Updating:   0%|          | 0/100 [00:00<?, ?it/s]"
      ]
     },
     "metadata": {},
     "output_type": "display_data"
    },
    {
     "data": {
      "application/vnd.jupyter.widget-view+json": {
       "model_id": "",
       "version_major": 2,
       "version_minor": 0
      },
      "text/plain": [
       "Updating:   0%|          | 0/100 [00:00<?, ?it/s]"
      ]
     },
     "metadata": {},
     "output_type": "display_data"
    },
    {
     "name": "stdout",
     "output_type": "stream",
     "text": [
      "10\n"
     ]
    },
    {
     "data": {
      "application/vnd.jupyter.widget-view+json": {
       "model_id": "",
       "version_major": 2,
       "version_minor": 0
      },
      "text/plain": [
       "Updating:   0%|          | 0/100 [00:00<?, ?it/s]"
      ]
     },
     "metadata": {},
     "output_type": "display_data"
    },
    {
     "data": {
      "application/vnd.jupyter.widget-view+json": {
       "model_id": "",
       "version_major": 2,
       "version_minor": 0
      },
      "text/plain": [
       "Updating:   0%|          | 0/100 [00:00<?, ?it/s]"
      ]
     },
     "metadata": {},
     "output_type": "display_data"
    },
    {
     "data": {
      "application/vnd.jupyter.widget-view+json": {
       "model_id": "",
       "version_major": 2,
       "version_minor": 0
      },
      "text/plain": [
       "Updating:   0%|          | 0/100 [00:00<?, ?it/s]"
      ]
     },
     "metadata": {},
     "output_type": "display_data"
    },
    {
     "data": {
      "application/vnd.jupyter.widget-view+json": {
       "model_id": "",
       "version_major": 2,
       "version_minor": 0
      },
      "text/plain": [
       "Updating:   0%|          | 0/100 [00:00<?, ?it/s]"
      ]
     },
     "metadata": {},
     "output_type": "display_data"
    },
    {
     "data": {
      "application/vnd.jupyter.widget-view+json": {
       "model_id": "",
       "version_major": 2,
       "version_minor": 0
      },
      "text/plain": [
       "Updating:   0%|          | 0/100 [00:00<?, ?it/s]"
      ]
     },
     "metadata": {},
     "output_type": "display_data"
    },
    {
     "name": "stdout",
     "output_type": "stream",
     "text": [
      "15\n"
     ]
    },
    {
     "data": {
      "application/vnd.jupyter.widget-view+json": {
       "model_id": "",
       "version_major": 2,
       "version_minor": 0
      },
      "text/plain": [
       "Updating:   0%|          | 0/100 [00:00<?, ?it/s]"
      ]
     },
     "metadata": {},
     "output_type": "display_data"
    },
    {
     "data": {
      "application/vnd.jupyter.widget-view+json": {
       "model_id": "",
       "version_major": 2,
       "version_minor": 0
      },
      "text/plain": [
       "Updating:   0%|          | 0/100 [00:00<?, ?it/s]"
      ]
     },
     "metadata": {},
     "output_type": "display_data"
    },
    {
     "data": {
      "application/vnd.jupyter.widget-view+json": {
       "model_id": "",
       "version_major": 2,
       "version_minor": 0
      },
      "text/plain": [
       "Updating:   0%|          | 0/100 [00:00<?, ?it/s]"
      ]
     },
     "metadata": {},
     "output_type": "display_data"
    },
    {
     "data": {
      "application/vnd.jupyter.widget-view+json": {
       "model_id": "",
       "version_major": 2,
       "version_minor": 0
      },
      "text/plain": [
       "Updating:   0%|          | 0/100 [00:00<?, ?it/s]"
      ]
     },
     "metadata": {},
     "output_type": "display_data"
    },
    {
     "data": {
      "application/vnd.jupyter.widget-view+json": {
       "model_id": "",
       "version_major": 2,
       "version_minor": 0
      },
      "text/plain": [
       "Updating:   0%|          | 0/100 [00:00<?, ?it/s]"
      ]
     },
     "metadata": {},
     "output_type": "display_data"
    },
    {
     "name": "stdout",
     "output_type": "stream",
     "text": [
      "20\n"
     ]
    },
    {
     "data": {
      "application/vnd.jupyter.widget-view+json": {
       "model_id": "",
       "version_major": 2,
       "version_minor": 0
      },
      "text/plain": [
       "Updating:   0%|          | 0/100 [00:00<?, ?it/s]"
      ]
     },
     "metadata": {},
     "output_type": "display_data"
    },
    {
     "data": {
      "application/vnd.jupyter.widget-view+json": {
       "model_id": "",
       "version_major": 2,
       "version_minor": 0
      },
      "text/plain": [
       "Updating:   0%|          | 0/100 [00:00<?, ?it/s]"
      ]
     },
     "metadata": {},
     "output_type": "display_data"
    },
    {
     "data": {
      "application/vnd.jupyter.widget-view+json": {
       "model_id": "",
       "version_major": 2,
       "version_minor": 0
      },
      "text/plain": [
       "Updating:   0%|          | 0/100 [00:00<?, ?it/s]"
      ]
     },
     "metadata": {},
     "output_type": "display_data"
    },
    {
     "data": {
      "application/vnd.jupyter.widget-view+json": {
       "model_id": "",
       "version_major": 2,
       "version_minor": 0
      },
      "text/plain": [
       "Updating:   0%|          | 0/100 [00:00<?, ?it/s]"
      ]
     },
     "metadata": {},
     "output_type": "display_data"
    },
    {
     "data": {
      "application/vnd.jupyter.widget-view+json": {
       "model_id": "",
       "version_major": 2,
       "version_minor": 0
      },
      "text/plain": [
       "Updating:   0%|          | 0/100 [00:00<?, ?it/s]"
      ]
     },
     "metadata": {},
     "output_type": "display_data"
    },
    {
     "name": "stdout",
     "output_type": "stream",
     "text": [
      "25\n"
     ]
    },
    {
     "data": {
      "application/vnd.jupyter.widget-view+json": {
       "model_id": "",
       "version_major": 2,
       "version_minor": 0
      },
      "text/plain": [
       "Updating:   0%|          | 0/100 [00:00<?, ?it/s]"
      ]
     },
     "metadata": {},
     "output_type": "display_data"
    },
    {
     "data": {
      "application/vnd.jupyter.widget-view+json": {
       "model_id": "",
       "version_major": 2,
       "version_minor": 0
      },
      "text/plain": [
       "Updating:   0%|          | 0/100 [00:00<?, ?it/s]"
      ]
     },
     "metadata": {},
     "output_type": "display_data"
    },
    {
     "data": {
      "application/vnd.jupyter.widget-view+json": {
       "model_id": "",
       "version_major": 2,
       "version_minor": 0
      },
      "text/plain": [
       "Updating:   0%|          | 0/100 [00:00<?, ?it/s]"
      ]
     },
     "metadata": {},
     "output_type": "display_data"
    },
    {
     "data": {
      "application/vnd.jupyter.widget-view+json": {
       "model_id": "",
       "version_major": 2,
       "version_minor": 0
      },
      "text/plain": [
       "Updating:   0%|          | 0/100 [00:00<?, ?it/s]"
      ]
     },
     "metadata": {},
     "output_type": "display_data"
    },
    {
     "data": {
      "application/vnd.jupyter.widget-view+json": {
       "model_id": "",
       "version_major": 2,
       "version_minor": 0
      },
      "text/plain": [
       "Updating:   0%|          | 0/100 [00:00<?, ?it/s]"
      ]
     },
     "metadata": {},
     "output_type": "display_data"
    },
    {
     "name": "stdout",
     "output_type": "stream",
     "text": [
      "30\n"
     ]
    },
    {
     "data": {
      "application/vnd.jupyter.widget-view+json": {
       "model_id": "",
       "version_major": 2,
       "version_minor": 0
      },
      "text/plain": [
       "Updating:   0%|          | 0/100 [00:00<?, ?it/s]"
      ]
     },
     "metadata": {},
     "output_type": "display_data"
    },
    {
     "data": {
      "application/vnd.jupyter.widget-view+json": {
       "model_id": "",
       "version_major": 2,
       "version_minor": 0
      },
      "text/plain": [
       "Updating:   0%|          | 0/100 [00:00<?, ?it/s]"
      ]
     },
     "metadata": {},
     "output_type": "display_data"
    },
    {
     "data": {
      "application/vnd.jupyter.widget-view+json": {
       "model_id": "",
       "version_major": 2,
       "version_minor": 0
      },
      "text/plain": [
       "Updating:   0%|          | 0/100 [00:00<?, ?it/s]"
      ]
     },
     "metadata": {},
     "output_type": "display_data"
    },
    {
     "data": {
      "application/vnd.jupyter.widget-view+json": {
       "model_id": "",
       "version_major": 2,
       "version_minor": 0
      },
      "text/plain": [
       "Updating:   0%|          | 0/100 [00:00<?, ?it/s]"
      ]
     },
     "metadata": {},
     "output_type": "display_data"
    },
    {
     "data": {
      "application/vnd.jupyter.widget-view+json": {
       "model_id": "",
       "version_major": 2,
       "version_minor": 0
      },
      "text/plain": [
       "Updating:   0%|          | 0/100 [00:00<?, ?it/s]"
      ]
     },
     "metadata": {},
     "output_type": "display_data"
    },
    {
     "name": "stdout",
     "output_type": "stream",
     "text": [
      "35\n"
     ]
    },
    {
     "data": {
      "application/vnd.jupyter.widget-view+json": {
       "model_id": "",
       "version_major": 2,
       "version_minor": 0
      },
      "text/plain": [
       "Updating:   0%|          | 0/100 [00:00<?, ?it/s]"
      ]
     },
     "metadata": {},
     "output_type": "display_data"
    },
    {
     "data": {
      "application/vnd.jupyter.widget-view+json": {
       "model_id": "",
       "version_major": 2,
       "version_minor": 0
      },
      "text/plain": [
       "Updating:   0%|          | 0/100 [00:00<?, ?it/s]"
      ]
     },
     "metadata": {},
     "output_type": "display_data"
    },
    {
     "data": {
      "application/vnd.jupyter.widget-view+json": {
       "model_id": "",
       "version_major": 2,
       "version_minor": 0
      },
      "text/plain": [
       "Updating:   0%|          | 0/100 [00:00<?, ?it/s]"
      ]
     },
     "metadata": {},
     "output_type": "display_data"
    },
    {
     "data": {
      "application/vnd.jupyter.widget-view+json": {
       "model_id": "",
       "version_major": 2,
       "version_minor": 0
      },
      "text/plain": [
       "Updating:   0%|          | 0/100 [00:00<?, ?it/s]"
      ]
     },
     "metadata": {},
     "output_type": "display_data"
    },
    {
     "data": {
      "application/vnd.jupyter.widget-view+json": {
       "model_id": "",
       "version_major": 2,
       "version_minor": 0
      },
      "text/plain": [
       "Updating:   0%|          | 0/100 [00:00<?, ?it/s]"
      ]
     },
     "metadata": {},
     "output_type": "display_data"
    },
    {
     "name": "stdout",
     "output_type": "stream",
     "text": [
      "40\n"
     ]
    },
    {
     "data": {
      "application/vnd.jupyter.widget-view+json": {
       "model_id": "",
       "version_major": 2,
       "version_minor": 0
      },
      "text/plain": [
       "Updating:   0%|          | 0/100 [00:00<?, ?it/s]"
      ]
     },
     "metadata": {},
     "output_type": "display_data"
    },
    {
     "data": {
      "application/vnd.jupyter.widget-view+json": {
       "model_id": "",
       "version_major": 2,
       "version_minor": 0
      },
      "text/plain": [
       "Updating:   0%|          | 0/100 [00:00<?, ?it/s]"
      ]
     },
     "metadata": {},
     "output_type": "display_data"
    },
    {
     "data": {
      "application/vnd.jupyter.widget-view+json": {
       "model_id": "",
       "version_major": 2,
       "version_minor": 0
      },
      "text/plain": [
       "Updating:   0%|          | 0/100 [00:00<?, ?it/s]"
      ]
     },
     "metadata": {},
     "output_type": "display_data"
    },
    {
     "data": {
      "application/vnd.jupyter.widget-view+json": {
       "model_id": "",
       "version_major": 2,
       "version_minor": 0
      },
      "text/plain": [
       "Updating:   0%|          | 0/100 [00:00<?, ?it/s]"
      ]
     },
     "metadata": {},
     "output_type": "display_data"
    },
    {
     "data": {
      "application/vnd.jupyter.widget-view+json": {
       "model_id": "",
       "version_major": 2,
       "version_minor": 0
      },
      "text/plain": [
       "Updating:   0%|          | 0/100 [00:00<?, ?it/s]"
      ]
     },
     "metadata": {},
     "output_type": "display_data"
    },
    {
     "name": "stdout",
     "output_type": "stream",
     "text": [
      "45\n"
     ]
    },
    {
     "data": {
      "application/vnd.jupyter.widget-view+json": {
       "model_id": "",
       "version_major": 2,
       "version_minor": 0
      },
      "text/plain": [
       "Updating:   0%|          | 0/100 [00:00<?, ?it/s]"
      ]
     },
     "metadata": {},
     "output_type": "display_data"
    },
    {
     "data": {
      "application/vnd.jupyter.widget-view+json": {
       "model_id": "",
       "version_major": 2,
       "version_minor": 0
      },
      "text/plain": [
       "Updating:   0%|          | 0/100 [00:00<?, ?it/s]"
      ]
     },
     "metadata": {},
     "output_type": "display_data"
    },
    {
     "data": {
      "application/vnd.jupyter.widget-view+json": {
       "model_id": "",
       "version_major": 2,
       "version_minor": 0
      },
      "text/plain": [
       "Updating:   0%|          | 0/100 [00:00<?, ?it/s]"
      ]
     },
     "metadata": {},
     "output_type": "display_data"
    },
    {
     "data": {
      "application/vnd.jupyter.widget-view+json": {
       "model_id": "",
       "version_major": 2,
       "version_minor": 0
      },
      "text/plain": [
       "Updating:   0%|          | 0/100 [00:00<?, ?it/s]"
      ]
     },
     "metadata": {},
     "output_type": "display_data"
    },
    {
     "data": {
      "application/vnd.jupyter.widget-view+json": {
       "model_id": "",
       "version_major": 2,
       "version_minor": 0
      },
      "text/plain": [
       "Updating:   0%|          | 0/100 [00:00<?, ?it/s]"
      ]
     },
     "metadata": {},
     "output_type": "display_data"
    },
    {
     "name": "stdout",
     "output_type": "stream",
     "text": [
      "50\n"
     ]
    },
    {
     "data": {
      "application/vnd.jupyter.widget-view+json": {
       "model_id": "",
       "version_major": 2,
       "version_minor": 0
      },
      "text/plain": [
       "Updating:   0%|          | 0/100 [00:00<?, ?it/s]"
      ]
     },
     "metadata": {},
     "output_type": "display_data"
    },
    {
     "data": {
      "application/vnd.jupyter.widget-view+json": {
       "model_id": "",
       "version_major": 2,
       "version_minor": 0
      },
      "text/plain": [
       "Updating:   0%|          | 0/100 [00:00<?, ?it/s]"
      ]
     },
     "metadata": {},
     "output_type": "display_data"
    },
    {
     "data": {
      "application/vnd.jupyter.widget-view+json": {
       "model_id": "",
       "version_major": 2,
       "version_minor": 0
      },
      "text/plain": [
       "Updating:   0%|          | 0/100 [00:00<?, ?it/s]"
      ]
     },
     "metadata": {},
     "output_type": "display_data"
    },
    {
     "data": {
      "application/vnd.jupyter.widget-view+json": {
       "model_id": "",
       "version_major": 2,
       "version_minor": 0
      },
      "text/plain": [
       "Updating:   0%|          | 0/100 [00:00<?, ?it/s]"
      ]
     },
     "metadata": {},
     "output_type": "display_data"
    },
    {
     "data": {
      "application/vnd.jupyter.widget-view+json": {
       "model_id": "",
       "version_major": 2,
       "version_minor": 0
      },
      "text/plain": [
       "Updating:   0%|          | 0/100 [00:00<?, ?it/s]"
      ]
     },
     "metadata": {},
     "output_type": "display_data"
    },
    {
     "name": "stdout",
     "output_type": "stream",
     "text": [
      "55\n"
     ]
    },
    {
     "data": {
      "application/vnd.jupyter.widget-view+json": {
       "model_id": "",
       "version_major": 2,
       "version_minor": 0
      },
      "text/plain": [
       "Updating:   0%|          | 0/100 [00:00<?, ?it/s]"
      ]
     },
     "metadata": {},
     "output_type": "display_data"
    },
    {
     "data": {
      "application/vnd.jupyter.widget-view+json": {
       "model_id": "",
       "version_major": 2,
       "version_minor": 0
      },
      "text/plain": [
       "Updating:   0%|          | 0/100 [00:00<?, ?it/s]"
      ]
     },
     "metadata": {},
     "output_type": "display_data"
    },
    {
     "data": {
      "application/vnd.jupyter.widget-view+json": {
       "model_id": "",
       "version_major": 2,
       "version_minor": 0
      },
      "text/plain": [
       "Updating:   0%|          | 0/100 [00:00<?, ?it/s]"
      ]
     },
     "metadata": {},
     "output_type": "display_data"
    },
    {
     "data": {
      "application/vnd.jupyter.widget-view+json": {
       "model_id": "",
       "version_major": 2,
       "version_minor": 0
      },
      "text/plain": [
       "Updating:   0%|          | 0/100 [00:00<?, ?it/s]"
      ]
     },
     "metadata": {},
     "output_type": "display_data"
    },
    {
     "data": {
      "application/vnd.jupyter.widget-view+json": {
       "model_id": "",
       "version_major": 2,
       "version_minor": 0
      },
      "text/plain": [
       "Updating:   0%|          | 0/100 [00:00<?, ?it/s]"
      ]
     },
     "metadata": {},
     "output_type": "display_data"
    },
    {
     "name": "stdout",
     "output_type": "stream",
     "text": [
      "60\n"
     ]
    },
    {
     "data": {
      "application/vnd.jupyter.widget-view+json": {
       "model_id": "",
       "version_major": 2,
       "version_minor": 0
      },
      "text/plain": [
       "Updating:   0%|          | 0/100 [00:00<?, ?it/s]"
      ]
     },
     "metadata": {},
     "output_type": "display_data"
    },
    {
     "data": {
      "application/vnd.jupyter.widget-view+json": {
       "model_id": "",
       "version_major": 2,
       "version_minor": 0
      },
      "text/plain": [
       "Updating:   0%|          | 0/100 [00:00<?, ?it/s]"
      ]
     },
     "metadata": {},
     "output_type": "display_data"
    },
    {
     "data": {
      "application/vnd.jupyter.widget-view+json": {
       "model_id": "",
       "version_major": 2,
       "version_minor": 0
      },
      "text/plain": [
       "Updating:   0%|          | 0/100 [00:00<?, ?it/s]"
      ]
     },
     "metadata": {},
     "output_type": "display_data"
    },
    {
     "data": {
      "application/vnd.jupyter.widget-view+json": {
       "model_id": "",
       "version_major": 2,
       "version_minor": 0
      },
      "text/plain": [
       "Updating:   0%|          | 0/100 [00:00<?, ?it/s]"
      ]
     },
     "metadata": {},
     "output_type": "display_data"
    },
    {
     "data": {
      "application/vnd.jupyter.widget-view+json": {
       "model_id": "",
       "version_major": 2,
       "version_minor": 0
      },
      "text/plain": [
       "Updating:   0%|          | 0/100 [00:00<?, ?it/s]"
      ]
     },
     "metadata": {},
     "output_type": "display_data"
    },
    {
     "name": "stdout",
     "output_type": "stream",
     "text": [
      "65\n"
     ]
    },
    {
     "data": {
      "application/vnd.jupyter.widget-view+json": {
       "model_id": "",
       "version_major": 2,
       "version_minor": 0
      },
      "text/plain": [
       "Updating:   0%|          | 0/100 [00:00<?, ?it/s]"
      ]
     },
     "metadata": {},
     "output_type": "display_data"
    },
    {
     "data": {
      "application/vnd.jupyter.widget-view+json": {
       "model_id": "",
       "version_major": 2,
       "version_minor": 0
      },
      "text/plain": [
       "Updating:   0%|          | 0/100 [00:00<?, ?it/s]"
      ]
     },
     "metadata": {},
     "output_type": "display_data"
    },
    {
     "data": {
      "application/vnd.jupyter.widget-view+json": {
       "model_id": "",
       "version_major": 2,
       "version_minor": 0
      },
      "text/plain": [
       "Updating:   0%|          | 0/100 [00:00<?, ?it/s]"
      ]
     },
     "metadata": {},
     "output_type": "display_data"
    },
    {
     "data": {
      "application/vnd.jupyter.widget-view+json": {
       "model_id": "",
       "version_major": 2,
       "version_minor": 0
      },
      "text/plain": [
       "Updating:   0%|          | 0/100 [00:00<?, ?it/s]"
      ]
     },
     "metadata": {},
     "output_type": "display_data"
    },
    {
     "data": {
      "application/vnd.jupyter.widget-view+json": {
       "model_id": "",
       "version_major": 2,
       "version_minor": 0
      },
      "text/plain": [
       "Updating:   0%|          | 0/100 [00:00<?, ?it/s]"
      ]
     },
     "metadata": {},
     "output_type": "display_data"
    },
    {
     "name": "stdout",
     "output_type": "stream",
     "text": [
      "70\n"
     ]
    },
    {
     "data": {
      "application/vnd.jupyter.widget-view+json": {
       "model_id": "",
       "version_major": 2,
       "version_minor": 0
      },
      "text/plain": [
       "Updating:   0%|          | 0/100 [00:00<?, ?it/s]"
      ]
     },
     "metadata": {},
     "output_type": "display_data"
    },
    {
     "data": {
      "application/vnd.jupyter.widget-view+json": {
       "model_id": "",
       "version_major": 2,
       "version_minor": 0
      },
      "text/plain": [
       "Updating:   0%|          | 0/100 [00:00<?, ?it/s]"
      ]
     },
     "metadata": {},
     "output_type": "display_data"
    },
    {
     "data": {
      "application/vnd.jupyter.widget-view+json": {
       "model_id": "",
       "version_major": 2,
       "version_minor": 0
      },
      "text/plain": [
       "Updating:   0%|          | 0/100 [00:00<?, ?it/s]"
      ]
     },
     "metadata": {},
     "output_type": "display_data"
    },
    {
     "data": {
      "application/vnd.jupyter.widget-view+json": {
       "model_id": "",
       "version_major": 2,
       "version_minor": 0
      },
      "text/plain": [
       "Updating:   0%|          | 0/100 [00:00<?, ?it/s]"
      ]
     },
     "metadata": {},
     "output_type": "display_data"
    },
    {
     "data": {
      "application/vnd.jupyter.widget-view+json": {
       "model_id": "",
       "version_major": 2,
       "version_minor": 0
      },
      "text/plain": [
       "Updating:   0%|          | 0/100 [00:00<?, ?it/s]"
      ]
     },
     "metadata": {},
     "output_type": "display_data"
    },
    {
     "name": "stdout",
     "output_type": "stream",
     "text": [
      "75\n"
     ]
    },
    {
     "data": {
      "application/vnd.jupyter.widget-view+json": {
       "model_id": "",
       "version_major": 2,
       "version_minor": 0
      },
      "text/plain": [
       "Updating:   0%|          | 0/100 [00:00<?, ?it/s]"
      ]
     },
     "metadata": {},
     "output_type": "display_data"
    },
    {
     "data": {
      "application/vnd.jupyter.widget-view+json": {
       "model_id": "",
       "version_major": 2,
       "version_minor": 0
      },
      "text/plain": [
       "Updating:   0%|          | 0/100 [00:00<?, ?it/s]"
      ]
     },
     "metadata": {},
     "output_type": "display_data"
    },
    {
     "data": {
      "application/vnd.jupyter.widget-view+json": {
       "model_id": "",
       "version_major": 2,
       "version_minor": 0
      },
      "text/plain": [
       "Updating:   0%|          | 0/100 [00:00<?, ?it/s]"
      ]
     },
     "metadata": {},
     "output_type": "display_data"
    },
    {
     "data": {
      "application/vnd.jupyter.widget-view+json": {
       "model_id": "",
       "version_major": 2,
       "version_minor": 0
      },
      "text/plain": [
       "Updating:   0%|          | 0/100 [00:00<?, ?it/s]"
      ]
     },
     "metadata": {},
     "output_type": "display_data"
    },
    {
     "data": {
      "application/vnd.jupyter.widget-view+json": {
       "model_id": "",
       "version_major": 2,
       "version_minor": 0
      },
      "text/plain": [
       "Updating:   0%|          | 0/100 [00:00<?, ?it/s]"
      ]
     },
     "metadata": {},
     "output_type": "display_data"
    },
    {
     "name": "stdout",
     "output_type": "stream",
     "text": [
      "80\n"
     ]
    },
    {
     "data": {
      "application/vnd.jupyter.widget-view+json": {
       "model_id": "",
       "version_major": 2,
       "version_minor": 0
      },
      "text/plain": [
       "Updating:   0%|          | 0/100 [00:00<?, ?it/s]"
      ]
     },
     "metadata": {},
     "output_type": "display_data"
    },
    {
     "data": {
      "application/vnd.jupyter.widget-view+json": {
       "model_id": "",
       "version_major": 2,
       "version_minor": 0
      },
      "text/plain": [
       "Updating:   0%|          | 0/100 [00:00<?, ?it/s]"
      ]
     },
     "metadata": {},
     "output_type": "display_data"
    },
    {
     "data": {
      "application/vnd.jupyter.widget-view+json": {
       "model_id": "",
       "version_major": 2,
       "version_minor": 0
      },
      "text/plain": [
       "Updating:   0%|          | 0/100 [00:00<?, ?it/s]"
      ]
     },
     "metadata": {},
     "output_type": "display_data"
    },
    {
     "data": {
      "application/vnd.jupyter.widget-view+json": {
       "model_id": "",
       "version_major": 2,
       "version_minor": 0
      },
      "text/plain": [
       "Updating:   0%|          | 0/100 [00:00<?, ?it/s]"
      ]
     },
     "metadata": {},
     "output_type": "display_data"
    },
    {
     "data": {
      "application/vnd.jupyter.widget-view+json": {
       "model_id": "",
       "version_major": 2,
       "version_minor": 0
      },
      "text/plain": [
       "Updating:   0%|          | 0/100 [00:00<?, ?it/s]"
      ]
     },
     "metadata": {},
     "output_type": "display_data"
    },
    {
     "name": "stdout",
     "output_type": "stream",
     "text": [
      "85\n"
     ]
    },
    {
     "data": {
      "application/vnd.jupyter.widget-view+json": {
       "model_id": "",
       "version_major": 2,
       "version_minor": 0
      },
      "text/plain": [
       "Updating:   0%|          | 0/100 [00:00<?, ?it/s]"
      ]
     },
     "metadata": {},
     "output_type": "display_data"
    },
    {
     "data": {
      "application/vnd.jupyter.widget-view+json": {
       "model_id": "",
       "version_major": 2,
       "version_minor": 0
      },
      "text/plain": [
       "Updating:   0%|          | 0/100 [00:00<?, ?it/s]"
      ]
     },
     "metadata": {},
     "output_type": "display_data"
    },
    {
     "data": {
      "application/vnd.jupyter.widget-view+json": {
       "model_id": "",
       "version_major": 2,
       "version_minor": 0
      },
      "text/plain": [
       "Updating:   0%|          | 0/100 [00:00<?, ?it/s]"
      ]
     },
     "metadata": {},
     "output_type": "display_data"
    },
    {
     "data": {
      "application/vnd.jupyter.widget-view+json": {
       "model_id": "",
       "version_major": 2,
       "version_minor": 0
      },
      "text/plain": [
       "Updating:   0%|          | 0/100 [00:00<?, ?it/s]"
      ]
     },
     "metadata": {},
     "output_type": "display_data"
    },
    {
     "data": {
      "application/vnd.jupyter.widget-view+json": {
       "model_id": "",
       "version_major": 2,
       "version_minor": 0
      },
      "text/plain": [
       "Updating:   0%|          | 0/100 [00:00<?, ?it/s]"
      ]
     },
     "metadata": {},
     "output_type": "display_data"
    },
    {
     "name": "stdout",
     "output_type": "stream",
     "text": [
      "90\n"
     ]
    },
    {
     "data": {
      "application/vnd.jupyter.widget-view+json": {
       "model_id": "",
       "version_major": 2,
       "version_minor": 0
      },
      "text/plain": [
       "Updating:   0%|          | 0/100 [00:00<?, ?it/s]"
      ]
     },
     "metadata": {},
     "output_type": "display_data"
    },
    {
     "data": {
      "application/vnd.jupyter.widget-view+json": {
       "model_id": "",
       "version_major": 2,
       "version_minor": 0
      },
      "text/plain": [
       "Updating:   0%|          | 0/100 [00:00<?, ?it/s]"
      ]
     },
     "metadata": {},
     "output_type": "display_data"
    },
    {
     "data": {
      "application/vnd.jupyter.widget-view+json": {
       "model_id": "",
       "version_major": 2,
       "version_minor": 0
      },
      "text/plain": [
       "Updating:   0%|          | 0/100 [00:00<?, ?it/s]"
      ]
     },
     "metadata": {},
     "output_type": "display_data"
    },
    {
     "data": {
      "application/vnd.jupyter.widget-view+json": {
       "model_id": "",
       "version_major": 2,
       "version_minor": 0
      },
      "text/plain": [
       "Updating:   0%|          | 0/100 [00:00<?, ?it/s]"
      ]
     },
     "metadata": {},
     "output_type": "display_data"
    },
    {
     "data": {
      "application/vnd.jupyter.widget-view+json": {
       "model_id": "",
       "version_major": 2,
       "version_minor": 0
      },
      "text/plain": [
       "Updating:   0%|          | 0/100 [00:00<?, ?it/s]"
      ]
     },
     "metadata": {},
     "output_type": "display_data"
    },
    {
     "name": "stdout",
     "output_type": "stream",
     "text": [
      "95\n"
     ]
    },
    {
     "data": {
      "application/vnd.jupyter.widget-view+json": {
       "model_id": "",
       "version_major": 2,
       "version_minor": 0
      },
      "text/plain": [
       "Updating:   0%|          | 0/100 [00:00<?, ?it/s]"
      ]
     },
     "metadata": {},
     "output_type": "display_data"
    },
    {
     "data": {
      "application/vnd.jupyter.widget-view+json": {
       "model_id": "",
       "version_major": 2,
       "version_minor": 0
      },
      "text/plain": [
       "Updating:   0%|          | 0/100 [00:00<?, ?it/s]"
      ]
     },
     "metadata": {},
     "output_type": "display_data"
    },
    {
     "data": {
      "application/vnd.jupyter.widget-view+json": {
       "model_id": "",
       "version_major": 2,
       "version_minor": 0
      },
      "text/plain": [
       "Updating:   0%|          | 0/100 [00:00<?, ?it/s]"
      ]
     },
     "metadata": {},
     "output_type": "display_data"
    },
    {
     "data": {
      "application/vnd.jupyter.widget-view+json": {
       "model_id": "",
       "version_major": 2,
       "version_minor": 0
      },
      "text/plain": [
       "Updating:   0%|          | 0/100 [00:00<?, ?it/s]"
      ]
     },
     "metadata": {},
     "output_type": "display_data"
    },
    {
     "data": {
      "application/vnd.jupyter.widget-view+json": {
       "model_id": "",
       "version_major": 2,
       "version_minor": 0
      },
      "text/plain": [
       "Updating:   0%|          | 0/100 [00:00<?, ?it/s]"
      ]
     },
     "metadata": {},
     "output_type": "display_data"
    },
    {
     "name": "stdout",
     "output_type": "stream",
     "text": [
      "100\n"
     ]
    },
    {
     "data": {
      "application/vnd.jupyter.widget-view+json": {
       "model_id": "",
       "version_major": 2,
       "version_minor": 0
      },
      "text/plain": [
       "Updating:   0%|          | 0/100 [00:00<?, ?it/s]"
      ]
     },
     "metadata": {},
     "output_type": "display_data"
    },
    {
     "data": {
      "application/vnd.jupyter.widget-view+json": {
       "model_id": "",
       "version_major": 2,
       "version_minor": 0
      },
      "text/plain": [
       "Updating:   0%|          | 0/100 [00:00<?, ?it/s]"
      ]
     },
     "metadata": {},
     "output_type": "display_data"
    },
    {
     "data": {
      "application/vnd.jupyter.widget-view+json": {
       "model_id": "",
       "version_major": 2,
       "version_minor": 0
      },
      "text/plain": [
       "Updating:   0%|          | 0/100 [00:00<?, ?it/s]"
      ]
     },
     "metadata": {},
     "output_type": "display_data"
    },
    {
     "data": {
      "application/vnd.jupyter.widget-view+json": {
       "model_id": "",
       "version_major": 2,
       "version_minor": 0
      },
      "text/plain": [
       "Updating:   0%|          | 0/100 [00:00<?, ?it/s]"
      ]
     },
     "metadata": {},
     "output_type": "display_data"
    },
    {
     "data": {
      "application/vnd.jupyter.widget-view+json": {
       "model_id": "",
       "version_major": 2,
       "version_minor": 0
      },
      "text/plain": [
       "Updating:   0%|          | 0/100 [00:00<?, ?it/s]"
      ]
     },
     "metadata": {},
     "output_type": "display_data"
    },
    {
     "name": "stdout",
     "output_type": "stream",
     "text": [
      "105\n"
     ]
    },
    {
     "data": {
      "application/vnd.jupyter.widget-view+json": {
       "model_id": "",
       "version_major": 2,
       "version_minor": 0
      },
      "text/plain": [
       "Updating:   0%|          | 0/100 [00:00<?, ?it/s]"
      ]
     },
     "metadata": {},
     "output_type": "display_data"
    },
    {
     "data": {
      "application/vnd.jupyter.widget-view+json": {
       "model_id": "",
       "version_major": 2,
       "version_minor": 0
      },
      "text/plain": [
       "Updating:   0%|          | 0/100 [00:00<?, ?it/s]"
      ]
     },
     "metadata": {},
     "output_type": "display_data"
    },
    {
     "data": {
      "application/vnd.jupyter.widget-view+json": {
       "model_id": "",
       "version_major": 2,
       "version_minor": 0
      },
      "text/plain": [
       "Updating:   0%|          | 0/100 [00:00<?, ?it/s]"
      ]
     },
     "metadata": {},
     "output_type": "display_data"
    },
    {
     "data": {
      "application/vnd.jupyter.widget-view+json": {
       "model_id": "",
       "version_major": 2,
       "version_minor": 0
      },
      "text/plain": [
       "Updating:   0%|          | 0/100 [00:00<?, ?it/s]"
      ]
     },
     "metadata": {},
     "output_type": "display_data"
    },
    {
     "data": {
      "application/vnd.jupyter.widget-view+json": {
       "model_id": "",
       "version_major": 2,
       "version_minor": 0
      },
      "text/plain": [
       "Updating:   0%|          | 0/100 [00:00<?, ?it/s]"
      ]
     },
     "metadata": {},
     "output_type": "display_data"
    },
    {
     "name": "stdout",
     "output_type": "stream",
     "text": [
      "110\n"
     ]
    },
    {
     "data": {
      "application/vnd.jupyter.widget-view+json": {
       "model_id": "",
       "version_major": 2,
       "version_minor": 0
      },
      "text/plain": [
       "Updating:   0%|          | 0/100 [00:00<?, ?it/s]"
      ]
     },
     "metadata": {},
     "output_type": "display_data"
    },
    {
     "data": {
      "application/vnd.jupyter.widget-view+json": {
       "model_id": "",
       "version_major": 2,
       "version_minor": 0
      },
      "text/plain": [
       "Updating:   0%|          | 0/100 [00:00<?, ?it/s]"
      ]
     },
     "metadata": {},
     "output_type": "display_data"
    },
    {
     "data": {
      "application/vnd.jupyter.widget-view+json": {
       "model_id": "",
       "version_major": 2,
       "version_minor": 0
      },
      "text/plain": [
       "Updating:   0%|          | 0/100 [00:00<?, ?it/s]"
      ]
     },
     "metadata": {},
     "output_type": "display_data"
    },
    {
     "data": {
      "application/vnd.jupyter.widget-view+json": {
       "model_id": "",
       "version_major": 2,
       "version_minor": 0
      },
      "text/plain": [
       "Updating:   0%|          | 0/100 [00:00<?, ?it/s]"
      ]
     },
     "metadata": {},
     "output_type": "display_data"
    },
    {
     "data": {
      "application/vnd.jupyter.widget-view+json": {
       "model_id": "",
       "version_major": 2,
       "version_minor": 0
      },
      "text/plain": [
       "Updating:   0%|          | 0/100 [00:00<?, ?it/s]"
      ]
     },
     "metadata": {},
     "output_type": "display_data"
    },
    {
     "name": "stdout",
     "output_type": "stream",
     "text": [
      "115\n"
     ]
    },
    {
     "data": {
      "application/vnd.jupyter.widget-view+json": {
       "model_id": "",
       "version_major": 2,
       "version_minor": 0
      },
      "text/plain": [
       "Updating:   0%|          | 0/100 [00:00<?, ?it/s]"
      ]
     },
     "metadata": {},
     "output_type": "display_data"
    },
    {
     "data": {
      "application/vnd.jupyter.widget-view+json": {
       "model_id": "",
       "version_major": 2,
       "version_minor": 0
      },
      "text/plain": [
       "Updating:   0%|          | 0/100 [00:00<?, ?it/s]"
      ]
     },
     "metadata": {},
     "output_type": "display_data"
    },
    {
     "data": {
      "application/vnd.jupyter.widget-view+json": {
       "model_id": "",
       "version_major": 2,
       "version_minor": 0
      },
      "text/plain": [
       "Updating:   0%|          | 0/100 [00:00<?, ?it/s]"
      ]
     },
     "metadata": {},
     "output_type": "display_data"
    },
    {
     "data": {
      "application/vnd.jupyter.widget-view+json": {
       "model_id": "",
       "version_major": 2,
       "version_minor": 0
      },
      "text/plain": [
       "Updating:   0%|          | 0/100 [00:00<?, ?it/s]"
      ]
     },
     "metadata": {},
     "output_type": "display_data"
    },
    {
     "data": {
      "application/vnd.jupyter.widget-view+json": {
       "model_id": "",
       "version_major": 2,
       "version_minor": 0
      },
      "text/plain": [
       "Updating:   0%|          | 0/100 [00:00<?, ?it/s]"
      ]
     },
     "metadata": {},
     "output_type": "display_data"
    },
    {
     "name": "stdout",
     "output_type": "stream",
     "text": [
      "120\n"
     ]
    },
    {
     "data": {
      "application/vnd.jupyter.widget-view+json": {
       "model_id": "",
       "version_major": 2,
       "version_minor": 0
      },
      "text/plain": [
       "Updating:   0%|          | 0/100 [00:00<?, ?it/s]"
      ]
     },
     "metadata": {},
     "output_type": "display_data"
    },
    {
     "data": {
      "application/vnd.jupyter.widget-view+json": {
       "model_id": "",
       "version_major": 2,
       "version_minor": 0
      },
      "text/plain": [
       "Updating:   0%|          | 0/100 [00:00<?, ?it/s]"
      ]
     },
     "metadata": {},
     "output_type": "display_data"
    },
    {
     "data": {
      "application/vnd.jupyter.widget-view+json": {
       "model_id": "",
       "version_major": 2,
       "version_minor": 0
      },
      "text/plain": [
       "Updating:   0%|          | 0/100 [00:00<?, ?it/s]"
      ]
     },
     "metadata": {},
     "output_type": "display_data"
    },
    {
     "data": {
      "application/vnd.jupyter.widget-view+json": {
       "model_id": "",
       "version_major": 2,
       "version_minor": 0
      },
      "text/plain": [
       "Updating:   0%|          | 0/100 [00:00<?, ?it/s]"
      ]
     },
     "metadata": {},
     "output_type": "display_data"
    },
    {
     "data": {
      "application/vnd.jupyter.widget-view+json": {
       "model_id": "",
       "version_major": 2,
       "version_minor": 0
      },
      "text/plain": [
       "Updating:   0%|          | 0/100 [00:00<?, ?it/s]"
      ]
     },
     "metadata": {},
     "output_type": "display_data"
    },
    {
     "name": "stdout",
     "output_type": "stream",
     "text": [
      "125\n"
     ]
    },
    {
     "data": {
      "application/vnd.jupyter.widget-view+json": {
       "model_id": "",
       "version_major": 2,
       "version_minor": 0
      },
      "text/plain": [
       "Updating:   0%|          | 0/100 [00:00<?, ?it/s]"
      ]
     },
     "metadata": {},
     "output_type": "display_data"
    },
    {
     "data": {
      "application/vnd.jupyter.widget-view+json": {
       "model_id": "",
       "version_major": 2,
       "version_minor": 0
      },
      "text/plain": [
       "Updating:   0%|          | 0/100 [00:00<?, ?it/s]"
      ]
     },
     "metadata": {},
     "output_type": "display_data"
    },
    {
     "data": {
      "application/vnd.jupyter.widget-view+json": {
       "model_id": "",
       "version_major": 2,
       "version_minor": 0
      },
      "text/plain": [
       "Updating:   0%|          | 0/100 [00:00<?, ?it/s]"
      ]
     },
     "metadata": {},
     "output_type": "display_data"
    },
    {
     "data": {
      "application/vnd.jupyter.widget-view+json": {
       "model_id": "",
       "version_major": 2,
       "version_minor": 0
      },
      "text/plain": [
       "Updating:   0%|          | 0/100 [00:00<?, ?it/s]"
      ]
     },
     "metadata": {},
     "output_type": "display_data"
    },
    {
     "data": {
      "application/vnd.jupyter.widget-view+json": {
       "model_id": "",
       "version_major": 2,
       "version_minor": 0
      },
      "text/plain": [
       "Updating:   0%|          | 0/100 [00:00<?, ?it/s]"
      ]
     },
     "metadata": {},
     "output_type": "display_data"
    },
    {
     "name": "stdout",
     "output_type": "stream",
     "text": [
      "130\n"
     ]
    },
    {
     "data": {
      "application/vnd.jupyter.widget-view+json": {
       "model_id": "",
       "version_major": 2,
       "version_minor": 0
      },
      "text/plain": [
       "Updating:   0%|          | 0/100 [00:00<?, ?it/s]"
      ]
     },
     "metadata": {},
     "output_type": "display_data"
    },
    {
     "data": {
      "application/vnd.jupyter.widget-view+json": {
       "model_id": "",
       "version_major": 2,
       "version_minor": 0
      },
      "text/plain": [
       "Updating:   0%|          | 0/100 [00:00<?, ?it/s]"
      ]
     },
     "metadata": {},
     "output_type": "display_data"
    },
    {
     "data": {
      "application/vnd.jupyter.widget-view+json": {
       "model_id": "",
       "version_major": 2,
       "version_minor": 0
      },
      "text/plain": [
       "Updating:   0%|          | 0/100 [00:00<?, ?it/s]"
      ]
     },
     "metadata": {},
     "output_type": "display_data"
    },
    {
     "data": {
      "application/vnd.jupyter.widget-view+json": {
       "model_id": "",
       "version_major": 2,
       "version_minor": 0
      },
      "text/plain": [
       "Updating:   0%|          | 0/100 [00:00<?, ?it/s]"
      ]
     },
     "metadata": {},
     "output_type": "display_data"
    },
    {
     "data": {
      "application/vnd.jupyter.widget-view+json": {
       "model_id": "",
       "version_major": 2,
       "version_minor": 0
      },
      "text/plain": [
       "Updating:   0%|          | 0/100 [00:00<?, ?it/s]"
      ]
     },
     "metadata": {},
     "output_type": "display_data"
    },
    {
     "name": "stdout",
     "output_type": "stream",
     "text": [
      "135\n"
     ]
    },
    {
     "data": {
      "application/vnd.jupyter.widget-view+json": {
       "model_id": "",
       "version_major": 2,
       "version_minor": 0
      },
      "text/plain": [
       "Updating:   0%|          | 0/100 [00:00<?, ?it/s]"
      ]
     },
     "metadata": {},
     "output_type": "display_data"
    },
    {
     "data": {
      "application/vnd.jupyter.widget-view+json": {
       "model_id": "",
       "version_major": 2,
       "version_minor": 0
      },
      "text/plain": [
       "Updating:   0%|          | 0/100 [00:00<?, ?it/s]"
      ]
     },
     "metadata": {},
     "output_type": "display_data"
    },
    {
     "data": {
      "application/vnd.jupyter.widget-view+json": {
       "model_id": "",
       "version_major": 2,
       "version_minor": 0
      },
      "text/plain": [
       "Updating:   0%|          | 0/100 [00:00<?, ?it/s]"
      ]
     },
     "metadata": {},
     "output_type": "display_data"
    },
    {
     "data": {
      "application/vnd.jupyter.widget-view+json": {
       "model_id": "",
       "version_major": 2,
       "version_minor": 0
      },
      "text/plain": [
       "Updating:   0%|          | 0/100 [00:00<?, ?it/s]"
      ]
     },
     "metadata": {},
     "output_type": "display_data"
    },
    {
     "data": {
      "application/vnd.jupyter.widget-view+json": {
       "model_id": "",
       "version_major": 2,
       "version_minor": 0
      },
      "text/plain": [
       "Updating:   0%|          | 0/100 [00:00<?, ?it/s]"
      ]
     },
     "metadata": {},
     "output_type": "display_data"
    },
    {
     "name": "stdout",
     "output_type": "stream",
     "text": [
      "140\n"
     ]
    },
    {
     "data": {
      "application/vnd.jupyter.widget-view+json": {
       "model_id": "",
       "version_major": 2,
       "version_minor": 0
      },
      "text/plain": [
       "Updating:   0%|          | 0/100 [00:00<?, ?it/s]"
      ]
     },
     "metadata": {},
     "output_type": "display_data"
    },
    {
     "data": {
      "application/vnd.jupyter.widget-view+json": {
       "model_id": "",
       "version_major": 2,
       "version_minor": 0
      },
      "text/plain": [
       "Updating:   0%|          | 0/100 [00:00<?, ?it/s]"
      ]
     },
     "metadata": {},
     "output_type": "display_data"
    },
    {
     "data": {
      "application/vnd.jupyter.widget-view+json": {
       "model_id": "",
       "version_major": 2,
       "version_minor": 0
      },
      "text/plain": [
       "Updating:   0%|          | 0/100 [00:00<?, ?it/s]"
      ]
     },
     "metadata": {},
     "output_type": "display_data"
    },
    {
     "data": {
      "application/vnd.jupyter.widget-view+json": {
       "model_id": "",
       "version_major": 2,
       "version_minor": 0
      },
      "text/plain": [
       "Updating:   0%|          | 0/100 [00:00<?, ?it/s]"
      ]
     },
     "metadata": {},
     "output_type": "display_data"
    },
    {
     "data": {
      "application/vnd.jupyter.widget-view+json": {
       "model_id": "",
       "version_major": 2,
       "version_minor": 0
      },
      "text/plain": [
       "Updating:   0%|          | 0/100 [00:00<?, ?it/s]"
      ]
     },
     "metadata": {},
     "output_type": "display_data"
    },
    {
     "name": "stdout",
     "output_type": "stream",
     "text": [
      "145\n"
     ]
    },
    {
     "data": {
      "application/vnd.jupyter.widget-view+json": {
       "model_id": "",
       "version_major": 2,
       "version_minor": 0
      },
      "text/plain": [
       "Updating:   0%|          | 0/100 [00:00<?, ?it/s]"
      ]
     },
     "metadata": {},
     "output_type": "display_data"
    },
    {
     "data": {
      "application/vnd.jupyter.widget-view+json": {
       "model_id": "",
       "version_major": 2,
       "version_minor": 0
      },
      "text/plain": [
       "Updating:   0%|          | 0/100 [00:00<?, ?it/s]"
      ]
     },
     "metadata": {},
     "output_type": "display_data"
    },
    {
     "data": {
      "application/vnd.jupyter.widget-view+json": {
       "model_id": "",
       "version_major": 2,
       "version_minor": 0
      },
      "text/plain": [
       "Updating:   0%|          | 0/100 [00:00<?, ?it/s]"
      ]
     },
     "metadata": {},
     "output_type": "display_data"
    },
    {
     "data": {
      "application/vnd.jupyter.widget-view+json": {
       "model_id": "",
       "version_major": 2,
       "version_minor": 0
      },
      "text/plain": [
       "Updating:   0%|          | 0/100 [00:00<?, ?it/s]"
      ]
     },
     "metadata": {},
     "output_type": "display_data"
    },
    {
     "data": {
      "application/vnd.jupyter.widget-view+json": {
       "model_id": "",
       "version_major": 2,
       "version_minor": 0
      },
      "text/plain": [
       "Updating:   0%|          | 0/100 [00:00<?, ?it/s]"
      ]
     },
     "metadata": {},
     "output_type": "display_data"
    },
    {
     "name": "stdout",
     "output_type": "stream",
     "text": [
      "150\n"
     ]
    },
    {
     "data": {
      "application/vnd.jupyter.widget-view+json": {
       "model_id": "",
       "version_major": 2,
       "version_minor": 0
      },
      "text/plain": [
       "Updating:   0%|          | 0/100 [00:00<?, ?it/s]"
      ]
     },
     "metadata": {},
     "output_type": "display_data"
    },
    {
     "data": {
      "application/vnd.jupyter.widget-view+json": {
       "model_id": "",
       "version_major": 2,
       "version_minor": 0
      },
      "text/plain": [
       "Updating:   0%|          | 0/100 [00:00<?, ?it/s]"
      ]
     },
     "metadata": {},
     "output_type": "display_data"
    },
    {
     "data": {
      "application/vnd.jupyter.widget-view+json": {
       "model_id": "",
       "version_major": 2,
       "version_minor": 0
      },
      "text/plain": [
       "Updating:   0%|          | 0/100 [00:00<?, ?it/s]"
      ]
     },
     "metadata": {},
     "output_type": "display_data"
    },
    {
     "data": {
      "application/vnd.jupyter.widget-view+json": {
       "model_id": "",
       "version_major": 2,
       "version_minor": 0
      },
      "text/plain": [
       "Updating:   0%|          | 0/100 [00:00<?, ?it/s]"
      ]
     },
     "metadata": {},
     "output_type": "display_data"
    },
    {
     "data": {
      "application/vnd.jupyter.widget-view+json": {
       "model_id": "",
       "version_major": 2,
       "version_minor": 0
      },
      "text/plain": [
       "Updating:   0%|          | 0/100 [00:00<?, ?it/s]"
      ]
     },
     "metadata": {},
     "output_type": "display_data"
    },
    {
     "name": "stdout",
     "output_type": "stream",
     "text": [
      "155\n"
     ]
    },
    {
     "data": {
      "application/vnd.jupyter.widget-view+json": {
       "model_id": "",
       "version_major": 2,
       "version_minor": 0
      },
      "text/plain": [
       "Updating:   0%|          | 0/100 [00:00<?, ?it/s]"
      ]
     },
     "metadata": {},
     "output_type": "display_data"
    },
    {
     "data": {
      "application/vnd.jupyter.widget-view+json": {
       "model_id": "",
       "version_major": 2,
       "version_minor": 0
      },
      "text/plain": [
       "Updating:   0%|          | 0/100 [00:00<?, ?it/s]"
      ]
     },
     "metadata": {},
     "output_type": "display_data"
    },
    {
     "data": {
      "application/vnd.jupyter.widget-view+json": {
       "model_id": "",
       "version_major": 2,
       "version_minor": 0
      },
      "text/plain": [
       "Updating:   0%|          | 0/100 [00:00<?, ?it/s]"
      ]
     },
     "metadata": {},
     "output_type": "display_data"
    },
    {
     "data": {
      "application/vnd.jupyter.widget-view+json": {
       "model_id": "",
       "version_major": 2,
       "version_minor": 0
      },
      "text/plain": [
       "Updating:   0%|          | 0/100 [00:00<?, ?it/s]"
      ]
     },
     "metadata": {},
     "output_type": "display_data"
    },
    {
     "data": {
      "application/vnd.jupyter.widget-view+json": {
       "model_id": "",
       "version_major": 2,
       "version_minor": 0
      },
      "text/plain": [
       "Updating:   0%|          | 0/100 [00:00<?, ?it/s]"
      ]
     },
     "metadata": {},
     "output_type": "display_data"
    },
    {
     "name": "stdout",
     "output_type": "stream",
     "text": [
      "160\n"
     ]
    },
    {
     "data": {
      "application/vnd.jupyter.widget-view+json": {
       "model_id": "",
       "version_major": 2,
       "version_minor": 0
      },
      "text/plain": [
       "Updating:   0%|          | 0/100 [00:00<?, ?it/s]"
      ]
     },
     "metadata": {},
     "output_type": "display_data"
    },
    {
     "data": {
      "application/vnd.jupyter.widget-view+json": {
       "model_id": "",
       "version_major": 2,
       "version_minor": 0
      },
      "text/plain": [
       "Updating:   0%|          | 0/100 [00:00<?, ?it/s]"
      ]
     },
     "metadata": {},
     "output_type": "display_data"
    },
    {
     "data": {
      "application/vnd.jupyter.widget-view+json": {
       "model_id": "",
       "version_major": 2,
       "version_minor": 0
      },
      "text/plain": [
       "Updating:   0%|          | 0/100 [00:00<?, ?it/s]"
      ]
     },
     "metadata": {},
     "output_type": "display_data"
    },
    {
     "data": {
      "application/vnd.jupyter.widget-view+json": {
       "model_id": "",
       "version_major": 2,
       "version_minor": 0
      },
      "text/plain": [
       "Updating:   0%|          | 0/61 [00:00<?, ?it/s]"
      ]
     },
     "metadata": {},
     "output_type": "display_data"
    }
   ],
   "source": [
    "#Updating segments (trying to update in loops to not collapse the server)\n",
    "\n",
    "confidence_of_update = []\n",
    "updated_presynaptic_ID_column = []\n",
    "pre_ID_i = 0\n",
    "rounds_of = 100\n",
    "curr_round = 0\n",
    "print(f'Total rounds to perform: {math.ceil((len(pre_IDs)/rounds_of))}')\n",
    "\n",
    "for i in range(0,math.ceil((len(pre_IDs)/rounds_of))):\n",
    "    curr_round += 1\n",
    "    curr_pre_IDs = pre_IDs[pre_ID_i:pre_ID_i+rounds_of]\n",
    "    temp_segmentIDs_df = flywire.update_ids(curr_pre_IDs.tolist(), stop_layer=2, supervoxels=None, timestamp=None, dataset='production', progress=True)\n",
    "    updated_presynaptic_ID_column.append(temp_segmentIDs_df[\"new_id\"].tolist())\n",
    "    confidence_of_update.append(temp_segmentIDs_df[\"confidence\"].tolist())\n",
    "    pre_ID_i +=rounds_of\n",
    "    if curr_round%5 == 0: #printing current round every 5 rounds\n",
    "        print(curr_round)\n",
    "\n",
    "updated_presynaptic_ID_column = list(itertools.chain.from_iterable(updated_presynaptic_ID_column))\n",
    "confidence_of_update = list(itertools.chain.from_iterable(confidence_of_update))"
   ]
  },
  {
   "cell_type": "markdown",
   "id": "de911614",
   "metadata": {},
   "source": [
    "### 2. Updating IDs considering our excel file extructure (old and slow version) - DO NOT USE -"
   ]
  },
  {
   "cell_type": "markdown",
   "id": "02d2643e",
   "metadata": {},
   "source": [
    "Updating segments will be slow since we do it in a loop. Please just run this part if you really consider that the IDs in which your are mostly interested in need an update"
   ]
  },
  {
   "cell_type": "code",
   "execution_count": null,
   "id": "f25de4ea",
   "metadata": {
    "scrolled": false
   },
   "outputs": [],
   "source": [
    "#Updating segments \n",
    "updated_presynaptic_ID_column = []\n",
    "confidence_of_update = []\n",
    "count = 1\n",
    "for id in pre_IDs:\n",
    "    count =+ 1\n",
    "    if id == 'INPUTS PROOFREAD':\n",
    "        updated_presynaptic_ID_column.append('INPUTS PROOFREAD')\n",
    "        confidence_of_update.append('INPUTS PROOFREAD')\n",
    "    else:\n",
    "        temp_segmentIDs_df = flywire.update_ids(id, stop_layer=2, supervoxels=None, timestamp=None, dataset='production', progress=True)\n",
    "        updated_presynaptic_ID_column.append(str(temp_segmentIDs_df[\"new_id\"][0]))\n",
    "        confidence_of_update.append(temp_segmentIDs_df[\"confidence\"][0])\n",
    "    print(f'row: {count} {updated_presynaptic_ID_column[-1]}')\n",
    "    "
   ]
  },
  {
   "cell_type": "markdown",
   "id": "75ab5d14",
   "metadata": {},
   "source": [
    "### 2.1 Adding important columns for next steps"
   ]
  },
  {
   "cell_type": "code",
   "execution_count": 36,
   "id": "f4bef476",
   "metadata": {},
   "outputs": [],
   "source": [
    "### Setting important columns to str\n",
    "df[\"presynaptic_ID\"] = df[\"presynaptic_ID\"].astype(str)\n",
    "df[\"postsynaptic_ID\"] = df[\"postsynaptic_ID\"].astype(str)\n",
    "df[\"seg_id\"] = df[\"seg_id\"].astype(str)"
   ]
  },
  {
   "cell_type": "code",
   "execution_count": 37,
   "id": "7988dece",
   "metadata": {},
   "outputs": [],
   "source": [
    "### Updating the dataframe\n",
    "# Adding the new url column to the data frame\n",
    "df[\"Updated_presynaptic_ID\"] = updated_presynaptic_ID_column\n",
    "df[\"Updated_presynaptic_ID\"] = df[\"Updated_presynaptic_ID\"].astype(str) \n",
    "df[\"Update_confidence\"] = confidence_of_update"
   ]
  },
  {
   "cell_type": "code",
   "execution_count": 38,
   "id": "1d8341a7",
   "metadata": {},
   "outputs": [
    {
     "data": {
      "text/plain": [
       "16361"
      ]
     },
     "execution_count": 38,
     "metadata": {},
     "output_type": "execute_result"
    }
   ],
   "source": [
    "len(confidence_of_update)"
   ]
  },
  {
   "cell_type": "markdown",
   "id": "297c7d69",
   "metadata": {},
   "source": [
    "### 3. Updating counts between pre- and post synaptic partners"
   ]
  },
  {
   "cell_type": "markdown",
   "id": "b0c64456",
   "metadata": {},
   "source": [
    "Strategy to save time:\n",
    "1. (Step1) Create a dictionary with postsynaptic neuron's IDs as KEYS and their a input-neuron dataframe as VALUES , and then (step2) create a loop across presynaptic IDs to get the exact counting from the input-neuron-dataframe of postsynaptic neurons, loading the correct input-neuron-dataframe from the dictionary each time.\n",
    "\n",
    "    Or, all in one single step: start a loop across unique postsynaptic IDs (be careful that the order is in the same as in the excel file, print them), get the input-neuron dataframe per each one in each round of the loop, and add a second loop across presynaptic IDs to get the exact counting.\n",
    "    \n",
    "\n",
    "2. Save the new countings in order of production in the same dataframe, as well as a column showing duplicated rows"
   ]
  },
  {
   "cell_type": "code",
   "execution_count": 39,
   "id": "48e63cdf",
   "metadata": {},
   "outputs": [
    {
     "name": "stdout",
     "output_type": "stream",
     "text": [
      "Getting inputs from: 720575940633269971\n",
      "Getting inputs from: 720575940625889155\n",
      "Getting inputs from: 720575940623587939\n",
      "Getting inputs from: 720575940630186571\n",
      "Getting inputs from: 720575940630668871\n",
      "Getting inputs from: 720575940642642996\n",
      "Getting inputs from: 720575940633362131\n",
      "Getting inputs from: 720575940626579087\n",
      "Getting inputs from: 720575940629511874\n",
      "Getting inputs from: 720575940615761570\n",
      "Getting inputs from: 720575940609798386\n",
      "Getting inputs from: 720575940637612429\n",
      "Getting inputs from: 720575940608295433\n",
      "Getting inputs from: 720575940619784545\n",
      "Getting inputs from: 720575940659650945\n",
      "Getting inputs from: 720575940626985482\n",
      "Getting inputs from: 720575940619169752\n",
      "Getting inputs from: 720575940610056654\n",
      "Getting inputs from: 720575940632064331\n",
      "Getting inputs from: 720575940629750844\n",
      "Getting inputs from: 720575940621766365\n",
      "Getting inputs from: 720575940631685587\n",
      "Getting inputs from: 720575940621604822\n",
      "Getting inputs from: 720575940637446990\n",
      "Getting inputs from: 720575940615404812\n",
      "Getting inputs from: 720575940642871604\n",
      "Getting inputs from: 720575940634430456\n",
      "Getting inputs from: 720575940625769418\n",
      "Getting inputs from: 720575940614954143\n",
      "Getting inputs from: 720575940614557708\n",
      "Getting inputs from: 720575940617429131\n",
      "Getting inputs from: 720575940631324985\n",
      "Getting inputs from: 720575940630105964\n",
      "Getting inputs from: 720575940640432848\n",
      "Getting inputs from: 720575940620680277\n",
      "Getting inputs from: 720575940639044942\n",
      "Getting inputs from: 720575940612404502\n",
      "Getting inputs from: 720575940644367396\n",
      "Getting inputs from: 720575940623302035\n",
      "Getting inputs from: 720575940625199900\n",
      "Getting inputs from: 720575940627182327\n",
      "Getting inputs from: 720575940608822281\n",
      "Getting inputs from: 720575940620204422\n",
      "Getting inputs from: 720575940616591755\n",
      "Getting inputs from: 720575940645555252\n",
      "Getting inputs from: 720575940608983235\n",
      "Getting inputs from: 720575940638358643\n",
      "Getting inputs from: 720575940640913037\n",
      "Getting inputs from: 720575940640563315\n",
      "Getting inputs from: 720575940622202582\n",
      "Getting inputs from: 720575940637255821\n",
      "Getting inputs from: 720575940620189934\n",
      "Getting inputs from: 720575940632213646\n",
      "Getting inputs from: 720575940621683494\n",
      "Getting inputs from: 720575940616410909\n",
      "Getting inputs from: 720575940640152448\n",
      "Getting inputs from: 720575940619699068\n",
      "Getting inputs from: 720575940622199688\n",
      "Getting inputs from: 720575940632804453\n",
      "Getting inputs from: 720575940626513173\n",
      "Getting inputs from: 720575940614368175\n",
      "Getting inputs from: 720575940627112748\n",
      "Getting inputs from: 720575940641658676\n",
      "Getting inputs from: 720575940638320256\n",
      "Getting inputs from: 720575940612630130\n",
      "Getting inputs from: 720575940616789734\n",
      "Getting inputs from: 720575940639049038\n",
      "Getting inputs from: 720575940627273487\n",
      "Getting inputs from: 720575940627174415\n",
      "Getting inputs from: 720575940610175381\n",
      "Getting inputs from: 720575940628551680\n",
      "Getting inputs from: 720575940612896682\n",
      "Getting inputs from: 720575940640435152\n",
      "Getting inputs from: 720575940637550221\n",
      "Getting inputs from: 720575940635858544\n",
      "Getting inputs from: 720575940620204678\n",
      "Getting inputs from: 720575940620030633\n",
      "Getting inputs from: 720575940645592628\n",
      "Getting inputs from: 720575940633285739\n",
      "Getting inputs from: 720575940639136600\n",
      "Getting inputs from: 720575940624434320\n",
      "Getting inputs from: 720575940627471887\n",
      "Getting inputs from: 720575940628906795\n",
      "Getting inputs from: 720575940616225209\n",
      "Getting inputs from: 720575940638132058\n",
      "Getting inputs from: 720575940623305107\n",
      "Getting inputs from: 720575940631777676\n",
      "Getting inputs from: 720575940622941181\n",
      "Getting inputs from: 720575940628004358\n",
      "Getting inputs from: 720575940632916783\n",
      "Getting inputs from: 720575940627095340\n",
      "Getting inputs from: 720575940622198652\n",
      "Getting inputs from: 720575940627331599\n",
      "Getting inputs from: 720575940637762879\n",
      "Getting inputs from: 720575940633004755\n",
      "Getting inputs from: 720575940645816099\n",
      "Getting inputs from: 720575940623407556\n",
      "Getting inputs from: 720575940618326875\n",
      "Getting inputs from: 720575940627031570\n",
      "Getting inputs from: 720575940633726364\n",
      "Getting inputs from: 720575940604494694\n",
      "Getting inputs from: 720575940619897680\n",
      "Getting inputs from: 720575940625753744\n",
      "Getting inputs from: 720575940632157711\n",
      "Getting inputs from: 720575940637834867\n",
      "Getting inputs from: 720575940622375382\n",
      "Getting inputs from: 720575940604080318\n",
      "Getting inputs from: 720575940642842676\n",
      "Getting inputs from: 720575940608295726\n",
      "Getting inputs from: 720575940610735970\n",
      "Getting inputs from: 720575940645323630\n",
      "Getting inputs from: 720575940626393858\n",
      "Getting inputs from: 720575940622667784\n",
      "Getting inputs from: 720575940613479074\n",
      "Getting inputs from: 720575940642371981\n",
      "Getting inputs from: 720575940618650166\n",
      "Getting inputs from: 720575940632968860\n",
      "Getting inputs from: 720575940603557920\n",
      "Getting inputs from: 720575940628769040\n",
      "Getting inputs from: 720575940626856496\n",
      "Getting inputs from: 720575940623784940\n",
      "Getting inputs from: 720575940638027965\n",
      "Getting inputs from: 720575940623853565\n",
      "Getting inputs from: 720575940625428286\n",
      "Getting inputs from: 720575940624511940\n",
      "Getting inputs from: 720575940631675693\n",
      "Getting inputs from: 720575940628791568\n",
      "Getting inputs from: 720575940631502035\n",
      "Getting inputs from: 720575940618093888\n",
      "Getting inputs from: 720575940626196456\n",
      "Getting inputs from: 720575940616149209\n",
      "Getting inputs from: 720575940619301766\n",
      "Getting inputs from: 720575940627067919\n",
      "Getting inputs from: 720575940614678431\n",
      "Getting inputs from: 720575940620358253\n",
      "Getting inputs from: 720575940619409232\n",
      "Getting inputs from: 720575940642273677\n",
      "Getting inputs from: 720575940627086863\n",
      "Getting inputs from: 720575940605034161\n",
      "Getting inputs from: 720575940621711128\n",
      "Getting inputs from: 720575940618985432\n",
      "Getting inputs from: 720575940638538804\n",
      "Getting inputs from: 720575940642834740\n",
      "Getting inputs from: 720575940627250532\n",
      "Getting inputs from: 720575940610445922\n",
      "Getting inputs from: 720575940633880415\n",
      "Getting inputs from: 720575940618076902\n",
      "Getting inputs from: 720575940611754850\n",
      "Getting inputs from: 720575940643763656\n",
      "Getting inputs from: 720575940614207903\n",
      "Getting inputs from: 720575940614667462\n",
      "Getting inputs from: 720575940614527594\n",
      "Getting inputs from: 720575940626254892\n",
      "Getting inputs from: 720575940622466584\n",
      "Getting inputs from: 720575940605480369\n",
      "Getting inputs from: 720575940616954297\n",
      "Getting inputs from: 720575940606093490\n",
      "Getting inputs from: 720575940637942837\n",
      "Getting inputs from: 720575940637631333\n",
      "Getting inputs from: 720575940628552091\n",
      "Getting inputs from: 720575940624919994\n",
      "Getting inputs from: 720575940616301497\n",
      "Getting inputs from: 720575940616682530\n",
      "Getting inputs from: 720575940618334001\n",
      "Getting inputs from: 720575940612782899\n",
      "Getting inputs from: 720575940625529381\n",
      "Getting inputs from: 720575940623629035\n",
      "Getting inputs from: 720575940641625741\n",
      "Getting inputs from: 720575940629883077\n",
      "Getting inputs from: 720575940623866556\n",
      "Getting inputs from: 720575940626010652\n",
      "Getting inputs from: 720575940641374861\n",
      "Getting inputs from: 720575940617570358\n",
      "Getting inputs from: 720575940622600644\n",
      "Getting inputs from: 720575940615785834\n",
      "Getting inputs from: 720575940622129832\n",
      "Getting inputs from: 720575940614212754\n",
      "Getting inputs from: 720575940624613680\n",
      "Getting inputs from: 720575940605128550\n",
      "Getting inputs from: 720575940621687073\n",
      "Getting inputs from: 720575940608058889\n",
      "Getting inputs from: 720575940619959472\n",
      "Getting inputs from: 720575940630930259\n",
      "Getting inputs from: 720575940622927541\n",
      "Getting inputs from: 720575940659599233\n",
      "Getting inputs from: 720575940626912556\n",
      "Getting inputs from: 720575940600084489\n",
      "Getting inputs from: 720575940609437653\n",
      "Getting inputs from: 720575940638698842\n",
      "Getting inputs from: 720575940642701876\n",
      "Getting inputs from: 720575940630811723\n",
      "Getting inputs from: 720575940625355853\n",
      "Getting inputs from: 720575940608117699\n",
      "Getting inputs from: 720575940629148145\n",
      "Getting inputs from: 720575940619730590\n",
      "Getting inputs from: 720575940612487405\n",
      "Getting inputs from: 720575940611758834\n",
      "Getting inputs from: 720575940616575500\n",
      "Getting inputs from: 720575940618439478\n",
      "Getting inputs from: 720575940614270189\n",
      "Getting inputs from: 720575940608800451\n",
      "Getting inputs from: 720575940612399986\n",
      "Getting inputs from: 720575940625006855\n",
      "Getting inputs from: 720575940615974854\n",
      "Getting inputs from: 720575940632747801\n"
     ]
    },
    {
     "name": "stdout",
     "output_type": "stream",
     "text": [
      "Getting inputs from: 720575940618727760\n",
      "Getting inputs from: 720575940625942372\n",
      "Getting inputs from: 720575940626674988\n",
      "Getting inputs from: 720575940638900352\n",
      "Getting inputs from: 720575940630942551\n",
      "Getting inputs from: 720575940606996354\n",
      "Getting inputs from: 720575940627756304\n",
      "Getting inputs from: 720575940632200007\n",
      "Getting inputs from: 720575940620757231\n",
      "Getting inputs from: 720575940626614202\n",
      "Getting inputs from: 720575940627687496\n",
      "Getting inputs from: 720575940622953485\n",
      "Getting inputs from: 720575940608677641\n",
      "Getting inputs from: 720575940638118975\n",
      "Getting inputs from: 720575940628821520\n",
      "Getting inputs from: 720575940625523856\n",
      "Getting inputs from: 720575940628857387\n",
      "Getting inputs from: 720575940621211584\n",
      "Getting inputs from: 720575940604810208\n",
      "Getting inputs from: 720575940631934039\n",
      "Getting inputs from: 720575940607291314\n",
      "Getting inputs from: 720575940634723735\n",
      "Getting inputs from: 720575940617991764\n",
      "Getting inputs from: 720575940639383349\n",
      "Getting inputs from: 720575940614768179\n",
      "Getting inputs from: 720575940620570715\n",
      "Getting inputs from: 720575940611501154\n",
      "Getting inputs from: 720575940622139844\n",
      "Getting inputs from: 720575940631177231\n",
      "Getting inputs from: 720575940615018146\n",
      "Getting inputs from: 720575940634532247\n",
      "Getting inputs from: 720575940610014674\n",
      "Getting inputs from: 720575940621012929\n",
      "Getting inputs from: 720575940609254851\n",
      "Getting inputs from: 720575940636491877\n",
      "Getting inputs from: 720575940629989635\n",
      "Getting inputs from: 720575940618082077\n",
      "Getting inputs from: 720575940610797010\n",
      "Getting inputs from: 720575940631381975\n",
      "Getting inputs from: 720575940618287064\n",
      "Getting inputs from: 720575940620577518\n",
      "Getting inputs from: 720575940618268061\n",
      "Getting inputs from: 720575940620017573\n",
      "Getting inputs from: 720575940629309339\n",
      "Getting inputs from: 720575940638766720\n",
      "Getting inputs from: 720575940620002068\n",
      "Getting inputs from: 720575940626564964\n",
      "Getting inputs from: 720575940621899269\n",
      "Getting inputs from: 720575940610726776\n",
      "Getting inputs from: 720575940622505332\n",
      "Getting inputs from: 720575940615463327\n",
      "Getting inputs from: 720575940655683489\n",
      "Getting inputs from: 720575940617143611\n",
      "Getting inputs from: 720575940627600271\n",
      "Getting inputs from: 720575940629831806\n",
      "Getting inputs from: 720575940620285861\n",
      "Getting inputs from: 720575940623070051\n",
      "Getting inputs from: 720575940626804825\n",
      "Getting inputs from: 720575940627807877\n",
      "Getting inputs from: 720575940620433345\n",
      "Getting inputs from: 720575940604668094\n",
      "Getting inputs from: 720575940620556225\n",
      "Getting inputs from: 720575940631014487\n",
      "Getting inputs from: 720575940634679191\n",
      "Getting inputs from: 720575940638769990\n",
      "Getting inputs from: 720575940626223716\n",
      "Getting inputs from: 720575940636288887\n",
      "Getting inputs from: 720575940639142589\n",
      "Getting inputs from: 720575940621682017\n",
      "Getting inputs from: 720575940609853963\n",
      "Getting inputs from: 720575940635762842\n",
      "Getting inputs from: 720575940635391480\n",
      "Getting inputs from: 720575940616384742\n",
      "Getting inputs from: 720575940630679670\n",
      "Getting inputs from: 720575940625959610\n",
      "Getting inputs from: 720575940631997752\n",
      "Getting inputs from: 720575940630925686\n",
      "Getting inputs from: 720575940629846784\n",
      "Getting inputs from: 720575940626578965\n",
      "Getting inputs from: 720575940619812555\n",
      "Getting inputs from: 720575940617315033\n",
      "Getting inputs from: 720575940622056572\n",
      "Getting inputs from: 720575940647564932\n",
      "Getting inputs from: 720575940653151649\n",
      "Getting inputs from: 720575940636607716\n",
      "Getting inputs from: 720575940605017260\n",
      "Getting inputs from: 720575940615494303\n",
      "Getting inputs from: 720575940613374873\n",
      "Getting inputs from: 720575940606796489\n",
      "Getting inputs from: 720575940627458618\n",
      "Getting inputs from: 720575940625756208\n",
      "Getting inputs from: 720575940605444966\n",
      "Getting inputs from: 720575940617597597\n",
      "Getting inputs from: 720575940660103553\n",
      "Getting inputs from: 720575940604872416\n",
      "Getting inputs from: 720575940630425564\n",
      "Getting inputs from: 720575940628945640\n",
      "Getting inputs from: 720575940620016464\n",
      "Getting inputs from: 720575940619813217\n",
      "Getting inputs from: 720575940629083215\n",
      "Getting inputs from: 720575940634202780\n",
      "Getting inputs from: 720575940622104745\n",
      "Getting inputs from: 720575940623580659\n",
      "Getting inputs from: 720575940620955201\n",
      "Getting inputs from: 720575940612908054\n",
      "Getting inputs from: 720575940624636647\n",
      "Getting inputs from: 720575940625266616\n",
      "Getting inputs from: 720575940624063669\n",
      "Getting inputs from: 720575940621810949\n",
      "Getting inputs from: 720575940629860664\n",
      "Getting inputs from: 720575940627084332\n",
      "Getting inputs from: 720575940614848658\n",
      "Getting inputs from: 720575940628279292\n",
      "Getting inputs from: 720575940638607167\n",
      "Getting inputs from: 720575940632810797\n",
      "Getting inputs from: 720575940631729987\n",
      "Getting inputs from: 720575940623180799\n",
      "Getting inputs from: 720575940625164076\n",
      "Getting inputs from: 720575940624565296\n",
      "Getting inputs from: 720575940620229467\n",
      "Getting inputs from: 720575940626258874\n",
      "Getting inputs from: 720575940629424254\n",
      "Getting inputs from: 720575940615972294\n",
      "Getting inputs from: 720575940636791386\n",
      "Getting inputs from: 720575940626549020\n",
      "Getting inputs from: 720575940632532536\n",
      "Getting inputs from: 720575940620425808\n",
      "Getting inputs from: 720575940630497986\n",
      "Getting inputs from: 720575940614873775\n",
      "Getting inputs from: 720575940622028528\n",
      "Getting inputs from: 720575940617507001\n",
      "Getting inputs from: 720575940623320873\n",
      "Getting inputs from: 720575940635525215\n",
      "Getting inputs from: 720575940630702188\n",
      "Getting inputs from: 720575940625950245\n",
      "Getting inputs from: 720575940626292226\n",
      "Getting inputs from: 720575940614705319\n",
      "Getting inputs from: 720575940611645486\n",
      "Getting inputs from: 720575940633908194\n",
      "Getting inputs from: 720575940623115213\n",
      "Getting inputs from: 720575940630779919\n",
      "Getting inputs from: 720575940623573292\n",
      "Getting inputs from: 720575940623166669\n",
      "Getting inputs from: 720575940626345772\n",
      "Getting inputs from: 720575940630537078\n",
      "Getting inputs from: 720575940617414585\n",
      "Getting inputs from: 720575940616417653\n",
      "Getting inputs from: 720575940623045512\n",
      "Getting inputs from: 720575940623444723\n",
      "Getting inputs from: 720575940634071659\n",
      "Getting inputs from: 720575940631087311\n",
      "Getting inputs from: 720575940610477688\n",
      "Getting inputs from: 720575940628564042\n",
      "Getting inputs from: 720575940635924190\n",
      "Getting inputs from: 720575940633538771\n",
      "Getting inputs from: 720575940625762708\n",
      "Getting inputs from: 720575940629612158\n",
      "Getting inputs from: 720575940624240580\n",
      "Getting inputs from: 720575940608543580\n",
      "Getting inputs from: 720575940617251387\n",
      "Getting inputs from: 720575940635034719\n",
      "Getting inputs from: 720575940614703522\n",
      "Getting inputs from: 720575940627990020\n",
      "Getting inputs from: 720575940640252800\n",
      "Getting inputs from: 720575940618170653\n",
      "Getting inputs from: 720575940627787780\n",
      "Getting inputs from: 720575940617618971\n",
      "Getting inputs from: 720575940623897066\n",
      "Getting inputs from: 720575940635394972\n",
      "Getting inputs from: 720575940624548332\n",
      "Getting inputs from: 720575940630862799\n",
      "Getting inputs from: 720575940620083280\n",
      "Getting inputs from: 720575940632870701\n",
      "Getting inputs from: 720575940625797936\n",
      "Getting inputs from: 720575940639766606\n",
      "Getting inputs from: 720575940621776664\n",
      "Getting inputs from: 720575940619989383\n",
      "Getting inputs from: 720575940632645401\n",
      "Getting inputs from: 720575940617634772\n",
      "Getting inputs from: 720575940636669582\n",
      "Getting inputs from: 720575940638409700\n",
      "Getting inputs from: 720575940605776672\n",
      "Getting inputs from: 720575940623442824\n",
      "Getting inputs from: 720575940624161975\n",
      "Getting inputs from: 720575940605783584\n",
      "Getting inputs from: 720575940628445425\n",
      "Getting inputs from: 720575940609274563\n",
      "Getting inputs from: 720575940612125914\n",
      "Getting inputs from: 720575940626098725\n",
      "Getting inputs from: 720575940617040245\n",
      "Getting inputs from: 720575940635000767\n",
      "Getting inputs from: 720575940626344510\n",
      "Getting inputs from: 720575940625477507\n",
      "Getting inputs from: 720575940614972839\n",
      "Getting inputs from: 720575940635266411\n",
      "Getting inputs from: 720575940608683017\n",
      "Getting inputs from: 720575940625142525\n",
      "Getting inputs from: 720575940623588109\n",
      "Getting inputs from: 720575940618294557\n",
      "Getting inputs from: 720575940624154355\n",
      "Getting inputs from: 720575940644891927\n",
      "Getting inputs from: 720575940611600298\n",
      "Getting inputs from: 720575940645130775\n",
      "Getting inputs from: 720575940622773375\n",
      "Getting inputs from: 720575940605922993\n"
     ]
    },
    {
     "name": "stdout",
     "output_type": "stream",
     "text": [
      "Getting inputs from: 720575940609255875\n",
      "Getting inputs from: 720575940632565075\n",
      "Getting inputs from: 720575940638584372\n",
      "Getting inputs from: 720575940627658259\n",
      "Getting inputs from: 720575940617195579\n",
      "Getting inputs from: 720575940643866528\n",
      "Getting inputs from: 720575940612881381\n",
      "Getting inputs from: 720575940615234015\n",
      "Getting inputs from: 720575940621336173\n",
      "Getting inputs from: 720575940630982711\n",
      "Getting inputs from: 720575940634666847\n",
      "Getting inputs from: 720575940622223273\n",
      "Getting inputs from: 720575940617488541\n",
      "Getting inputs from: 720575940615329602\n",
      "Getting inputs from: 720575940618883032\n",
      "Getting inputs from: 720575940615440543\n",
      "Getting inputs from: 720575940626245676\n",
      "Getting inputs from: 720575940626434348\n",
      "Getting inputs from: 720575940622030106\n",
      "Getting inputs from: 720575940631049291\n",
      "Getting inputs from: 720575940647336068\n",
      "Getting inputs from: 720575940642562267\n",
      "Getting inputs from: 720575940620597586\n",
      "Getting inputs from: 720575940635068441\n",
      "Getting inputs from: 720575940635061695\n",
      "Getting inputs from: 720575940602880736\n",
      "Getting inputs from: 720575940620627538\n",
      "Getting inputs from: 720575940607121794\n",
      "Getting inputs from: 720575940628133864\n",
      "Getting inputs from: 720575940613618216\n",
      "Getting inputs from: 720575940622388458\n",
      "Getting inputs from: 720575940633455052\n",
      "Getting inputs from: 720575940631817539\n",
      "Getting inputs from: 720575940639565475\n",
      "Getting inputs from: 720575940622001833\n",
      "Getting inputs from: 720575940626001296\n",
      "Getting inputs from: 720575940627175671\n",
      "Getting inputs from: 720575940637504653\n",
      "Getting inputs from: 720575940624344516\n",
      "Getting inputs from: 720575940608690443\n",
      "Getting inputs from: 720575940617451409\n",
      "Getting inputs from: 720575940626884652\n",
      "Getting inputs from: 720575940629010947\n",
      "Getting inputs from: 720575940613052330\n",
      "Getting inputs from: 720575940646534254\n",
      "Getting inputs from: 720575940622440150\n",
      "Getting inputs from: 720575940629892663\n",
      "Getting inputs from: 720575940615680874\n",
      "Getting inputs from: 720575940632023567\n",
      "Getting inputs from: 720575940618034747\n",
      "Getting inputs from: 720575940620814356\n",
      "Getting inputs from: 720575940626242348\n",
      "Getting inputs from: 720575940635847578\n",
      "Getting inputs from: 720575940631542646\n",
      "Getting inputs from: 720575940621218324\n",
      "Getting inputs from: 720575940617452774\n",
      "Getting inputs from: 720575940636902767\n",
      "Getting inputs from: 720575940612645234\n",
      "Getting inputs from: 720575940609958411\n",
      "Getting inputs from: 720575940629799362\n",
      "Getting inputs from: 720575940606095550\n",
      "Getting inputs from: 720575940624401546\n",
      "Getting inputs from: 720575940617293451\n",
      "Getting inputs from: 720575940635495264\n",
      "Getting inputs from: 720575940627291578\n",
      "Getting inputs from: 720575940627175012\n",
      "Getting inputs from: 720575940639208169\n",
      "Getting inputs from: 720575940613338341\n",
      "Getting inputs from: 720575940639232575\n",
      "Getting inputs from: 720575940612259221\n",
      "Getting inputs from: 720575940621167495\n",
      "Getting inputs from: 720575940617737814 (updated)\n",
      "Getting inputs from: 720575940624394634\n",
      "Getting inputs from: 720575940630755706\n",
      "Getting inputs from: 720575940631182592\n",
      "Getting inputs from: 720575940622273206\n",
      "Getting inputs from: 720575940612052578\n",
      "Getting inputs from: 720575940629161724\n",
      "Getting inputs from: 720575940614575341\n",
      "Getting inputs from: 720575940633050303\n"
     ]
    }
   ],
   "source": [
    "#Implementing the \"single step\" option\n",
    "\n",
    "unique_post_IDs = df[df['presynaptic_ID'] != 'INPUTS PROOFREAD']['postsynaptic_ID'].unique()\n",
    "new_count_ls =  [] # For storing the new counts\n",
    "copy_count_ls = [] # For storing the copy counts \n",
    "for post_id in unique_post_IDs: # loop across postsynaptic ids.\n",
    "    if flywire.is_latest_root([post_id])[0]:\n",
    "        curr_id = post_id\n",
    "        print(f'Getting inputs from: {curr_id}')\n",
    "    else:\n",
    "        updated_ID_df = flywire.update_ids(post_id, stop_layer=2, supervoxels=None, timestamp=None, dataset='production', progress=True)\n",
    "        curr_id = updated_ID_df[\"new_id\"][0]\n",
    "        print(f'Getting inputs from: {curr_id} (updated)')\n",
    "    \n",
    "    curr_df = df[df['postsynaptic_ID'] == post_id].copy()\n",
    "    curr_neurons_inputs = flywire.synapses.fetch_synapses(curr_id, pre=False, post=True, attach=True, \n",
    "                                             min_score=50, clean=True, transmitters=False, \n",
    "                                             neuropils=True, batch_size=30, \n",
    "                                             dataset='production', progress=True,mat= \"live\")\n",
    "    \n",
    "    if curr_neurons_inputs.empty: #Adding this to fix isues with retrieveing data\n",
    "        #Adding NaNs\n",
    "        empty_list = [None]* len(df[df['postsynaptic_ID'] == post_id])\n",
    "        new_count_ls = new_count_ls + empty_list\n",
    "        copy_count_ls = copy_count_ls + empty_list\n",
    "    \n",
    "    else: \n",
    "        \n",
    "        #Filtering redundant / duplicated counts (threshold = 100 nm)\n",
    "        combine_xyz(curr_neurons_inputs)\n",
    "        points = curr_neurons_inputs['pre_pt_position'].tolist()\n",
    "        points_no_duplicates = filter_points(points, threshold_distance = 100)\n",
    "        curr_neurons_inputs_no_duplicates = curr_neurons_inputs[curr_neurons_inputs['pre_pt_position'].apply(lambda x: x in points_no_duplicates)].copy()\n",
    "\n",
    "        pre_id_copies_dict = {} # For checking ID duplicates, triplicates, etc\n",
    "        for i,pre_id in enumerate(curr_df[\"Updated_presynaptic_ID\"]): # loop across presynaptic ids\n",
    "            #Counting copies\n",
    "            if pre_id in pre_id_copies_dict.keys():\n",
    "                pre_id_copies_dict[pre_id]+= 1 # duplicates, triplicates ...\n",
    "            else:\n",
    "                pre_id_copies_dict[pre_id] = 1 # initial count\n",
    "\n",
    "            c = len(curr_neurons_inputs_no_duplicates[curr_neurons_inputs_no_duplicates['pre_pt_root_id'] == int(pre_id)])\n",
    "            new_count_ls.append(c) # count between specific pre and post\n",
    "            copy_count_ls.append(pre_id_copies_dict[pre_id])\n",
    "            #print(f'Counts with {pre_id}: {c}, confidence {curr_df[\"Update_confidence\"].tolist()[i]}, copy {pre_id_copies_dict[pre_id]}')\n",
    "\n",
    "        #In old files with this rows acting as separators\n",
    "        #new_count_ls.append('INPUTS PROOFREAD')\n",
    "        #copy_count_ls.append('INPUTS PROOFREAD')\n",
    "        \n"
   ]
  },
  {
   "cell_type": "code",
   "execution_count": 41,
   "id": "5b769853",
   "metadata": {},
   "outputs": [
    {
     "data": {
      "text/html": [
       "<div>\n",
       "<style scoped>\n",
       "    .dataframe tbody tr th:only-of-type {\n",
       "        vertical-align: middle;\n",
       "    }\n",
       "\n",
       "    .dataframe tbody tr th {\n",
       "        vertical-align: top;\n",
       "    }\n",
       "\n",
       "    .dataframe thead th {\n",
       "        text-align: right;\n",
       "    }\n",
       "</style>\n",
       "<table border=\"1\" class=\"dataframe\">\n",
       "  <thead>\n",
       "    <tr style=\"text-align: right;\">\n",
       "      <th></th>\n",
       "      <th>presynaptic_ID</th>\n",
       "      <th>counts</th>\n",
       "      <th>count %</th>\n",
       "      <th>postsynaptic_ID</th>\n",
       "      <th>symbol</th>\n",
       "      <th>guess</th>\n",
       "      <th>lab</th>\n",
       "      <th>author</th>\n",
       "      <th>name</th>\n",
       "      <th>FlyWire proofread (Y/N)</th>\n",
       "      <th>...</th>\n",
       "      <th>Updated_counts</th>\n",
       "      <th>duplicates</th>\n",
       "      <th>notes</th>\n",
       "      <th>Working on</th>\n",
       "      <th>optic_lobe_id</th>\n",
       "      <th>column_id</th>\n",
       "      <th>patch_id</th>\n",
       "      <th>hemisphere</th>\n",
       "      <th>Updated_postsynaptic_ID</th>\n",
       "      <th>dorso-ventral</th>\n",
       "    </tr>\n",
       "  </thead>\n",
       "  <tbody>\n",
       "    <tr>\n",
       "      <th>0</th>\n",
       "      <td>720575940612487630</td>\n",
       "      <td>36.0</td>\n",
       "      <td>NaN</td>\n",
       "      <td>720575940633269971</td>\n",
       "      <td>L3</td>\n",
       "      <td>NaN</td>\n",
       "      <td>NaN</td>\n",
       "      <td>96</td>\n",
       "      <td>NaN</td>\n",
       "      <td>NaN</td>\n",
       "      <td>...</td>\n",
       "      <td>30.0</td>\n",
       "      <td>1.0</td>\n",
       "      <td>NaN</td>\n",
       "      <td>NaN</td>\n",
       "      <td>R32</td>\n",
       "      <td>NaN</td>\n",
       "      <td>NaN</td>\n",
       "      <td>R</td>\n",
       "      <td>NaN</td>\n",
       "      <td>V</td>\n",
       "    </tr>\n",
       "    <tr>\n",
       "      <th>1</th>\n",
       "      <td>720575940628842517</td>\n",
       "      <td>25.0</td>\n",
       "      <td>NaN</td>\n",
       "      <td>720575940633269971</td>\n",
       "      <td>CT1</td>\n",
       "      <td>NaN</td>\n",
       "      <td>NaN</td>\n",
       "      <td>95</td>\n",
       "      <td>NaN</td>\n",
       "      <td>NaN</td>\n",
       "      <td>...</td>\n",
       "      <td>21.0</td>\n",
       "      <td>1.0</td>\n",
       "      <td>NaN</td>\n",
       "      <td>NaN</td>\n",
       "      <td>R32</td>\n",
       "      <td>NaN</td>\n",
       "      <td>NaN</td>\n",
       "      <td>R</td>\n",
       "      <td>NaN</td>\n",
       "      <td>V</td>\n",
       "    </tr>\n",
       "    <tr>\n",
       "      <th>2</th>\n",
       "      <td>720575940654872737</td>\n",
       "      <td>13.0</td>\n",
       "      <td>NaN</td>\n",
       "      <td>720575940633269971</td>\n",
       "      <td>Mi4</td>\n",
       "      <td>NaN</td>\n",
       "      <td>NaN</td>\n",
       "      <td>392</td>\n",
       "      <td>NaN</td>\n",
       "      <td>NaN</td>\n",
       "      <td>...</td>\n",
       "      <td>10.0</td>\n",
       "      <td>1.0</td>\n",
       "      <td>NaN</td>\n",
       "      <td>NaN</td>\n",
       "      <td>R32</td>\n",
       "      <td>NaN</td>\n",
       "      <td>NaN</td>\n",
       "      <td>R</td>\n",
       "      <td>NaN</td>\n",
       "      <td>V</td>\n",
       "    </tr>\n",
       "    <tr>\n",
       "      <th>3</th>\n",
       "      <td>720575940626330969</td>\n",
       "      <td>13.0</td>\n",
       "      <td>NaN</td>\n",
       "      <td>720575940633269971</td>\n",
       "      <td>Tm16</td>\n",
       "      <td>NaN</td>\n",
       "      <td>NaN</td>\n",
       "      <td>392</td>\n",
       "      <td>NaN</td>\n",
       "      <td>NaN</td>\n",
       "      <td>...</td>\n",
       "      <td>11.0</td>\n",
       "      <td>1.0</td>\n",
       "      <td>NaN</td>\n",
       "      <td>NaN</td>\n",
       "      <td>R32</td>\n",
       "      <td>NaN</td>\n",
       "      <td>NaN</td>\n",
       "      <td>R</td>\n",
       "      <td>NaN</td>\n",
       "      <td>V</td>\n",
       "    </tr>\n",
       "    <tr>\n",
       "      <th>4</th>\n",
       "      <td>720575940626044942</td>\n",
       "      <td>7.0</td>\n",
       "      <td>NaN</td>\n",
       "      <td>720575940633269971</td>\n",
       "      <td>OA-AL2b2</td>\n",
       "      <td>OA-AL2b2-R1</td>\n",
       "      <td>NaN</td>\n",
       "      <td>1062</td>\n",
       "      <td>NaN</td>\n",
       "      <td>NaN</td>\n",
       "      <td>...</td>\n",
       "      <td>6.0</td>\n",
       "      <td>1.0</td>\n",
       "      <td>NaN</td>\n",
       "      <td>NaN</td>\n",
       "      <td>R32</td>\n",
       "      <td>NaN</td>\n",
       "      <td>NaN</td>\n",
       "      <td>R</td>\n",
       "      <td>NaN</td>\n",
       "      <td>V</td>\n",
       "    </tr>\n",
       "  </tbody>\n",
       "</table>\n",
       "<p>5 rows × 30 columns</p>\n",
       "</div>"
      ],
      "text/plain": [
       "       presynaptic_ID  counts  count %     postsynaptic_ID    symbol  \\\n",
       "0  720575940612487630    36.0      NaN  720575940633269971        L3   \n",
       "1  720575940628842517    25.0      NaN  720575940633269971       CT1   \n",
       "2  720575940654872737    13.0      NaN  720575940633269971       Mi4   \n",
       "3  720575940626330969    13.0      NaN  720575940633269971      Tm16   \n",
       "4  720575940626044942     7.0      NaN  720575940633269971  OA-AL2b2   \n",
       "\n",
       "         guess  lab author name  FlyWire proofread (Y/N)  ...  Updated_counts  \\\n",
       "0          NaN  NaN     96  NaN                      NaN  ...            30.0   \n",
       "1          NaN  NaN     95  NaN                      NaN  ...            21.0   \n",
       "2          NaN  NaN    392  NaN                      NaN  ...            10.0   \n",
       "3          NaN  NaN    392  NaN                      NaN  ...            11.0   \n",
       "4  OA-AL2b2-R1  NaN   1062  NaN                      NaN  ...             6.0   \n",
       "\n",
       "   duplicates  notes  Working on optic_lobe_id  column_id  patch_id  \\\n",
       "0         1.0    NaN         NaN           R32        NaN       NaN   \n",
       "1         1.0    NaN         NaN           R32        NaN       NaN   \n",
       "2         1.0    NaN         NaN           R32        NaN       NaN   \n",
       "3         1.0    NaN         NaN           R32        NaN       NaN   \n",
       "4         1.0    NaN         NaN           R32        NaN       NaN   \n",
       "\n",
       "   hemisphere Updated_postsynaptic_ID  dorso-ventral  \n",
       "0           R                     NaN              V  \n",
       "1           R                     NaN              V  \n",
       "2           R                     NaN              V  \n",
       "3           R                     NaN              V  \n",
       "4           R                     NaN              V  \n",
       "\n",
       "[5 rows x 30 columns]"
      ]
     },
     "execution_count": 41,
     "metadata": {},
     "output_type": "execute_result"
    }
   ],
   "source": [
    "# Adding new columns to the main dataframe\n",
    "df[\"Updated_counts\"] = new_count_ls\n",
    "df[\"duplicates\"] =  copy_count_ls\n",
    "df.head()"
   ]
  },
  {
   "cell_type": "markdown",
   "id": "f1db6679",
   "metadata": {},
   "source": [
    "### 4. Saving back to the excell file"
   ]
  },
  {
   "cell_type": "code",
   "execution_count": 42,
   "id": "895a22bd",
   "metadata": {},
   "outputs": [],
   "source": [
    "# Creating string for the date\n",
    "import datetime\n",
    "x = datetime.datetime.now()\n",
    "date_str = x.strftime(\"%d\") + x.strftime(\"%b\") + x.strftime(\"%Y\")\n",
    "\n",
    "# Writting in an existing excel file\n",
    "from openpyxl import load_workbook\n",
    "book = load_workbook(filePath)\n",
    "writer = pd.ExcelWriter(filePath, engine = 'openpyxl')\n",
    "writer.book = book\n",
    "\n",
    "df.to_excel(writer, sheet_name='Updated_dataframe_'+date_str)\n",
    "writer.save()\n",
    "writer.close()"
   ]
  },
  {
   "cell_type": "markdown",
   "id": "a2b26163",
   "metadata": {},
   "source": [
    "### 3. Or, saving in a new excel file"
   ]
  },
  {
   "cell_type": "code",
   "execution_count": 43,
   "id": "55348263",
   "metadata": {},
   "outputs": [],
   "source": [
    "#Saving in a new file\n",
    "\n",
    "import datetime\n",
    "x = datetime.datetime.now()\n",
    "date_str = x.strftime(\"%d\") + x.strftime(\"%b\") + x.strftime(\"%Y\")\n",
    "\n",
    "file_name = f'Tm9_neurons_input_count_segments_update_{date_str}.xlsx'\n",
    "savePath = os.path.join(dataPath, file_name)\n",
    "df.to_excel(savePath, sheet_name='Segments update')"
   ]
  },
  {
   "cell_type": "markdown",
   "id": "ce5b1975",
   "metadata": {},
   "source": [
    "### Faster update (code in progress...)"
   ]
  },
  {
   "cell_type": "code",
   "execution_count": null,
   "id": "3b4efa92",
   "metadata": {},
   "outputs": [],
   "source": [
    "#Updating segments (FAST)\n",
    "#Do all segments as once, but filter out columns with 'INPUTS PROOFREAD' first\n",
    "filtered_df = df[df[\"presynaptic_ID\"] =! 'INPUTS PROOFREAD'].copy()\n",
    "segmentIDs = filtered_df[\"seg_id\"]\n",
    "pre_IDs = filtered_df[\"presynaptic_ID\"]\n",
    "post_IDs = filtered_df[\"postsynaptic_ID\"]\n",
    "\n",
    "new_segmentIDs_df = flywire.update_ids(segmentIDs, stop_layer=2, supervoxels=None, timestamp=None, dataset='production', progress=True)\n",
    "new_segmentIDs = new_segmentIDs_df[\"new_id\"].tolist()\n"
   ]
  },
  {
   "cell_type": "code",
   "execution_count": null,
   "id": "4f447f75",
   "metadata": {},
   "outputs": [],
   "source": [
    "### Updating the dataframe\n",
    "# Adding the new url column to the data frame\n",
    "filtered_df[\"Updated_seg_id\"] = new_segmentIDs\n",
    "filtered_df[\"Updated_seg_id\"] = filtered_df[\"Updated_seg_id\"].astype(str) "
   ]
  },
  {
   "cell_type": "code",
   "execution_count": null,
   "id": "3c3414d1",
   "metadata": {},
   "outputs": [],
   "source": [
    "# Code not finished...."
   ]
  },
  {
   "cell_type": "code",
   "execution_count": null,
   "id": "350af226",
   "metadata": {},
   "outputs": [],
   "source": []
  },
  {
   "cell_type": "markdown",
   "id": "f33a2028",
   "metadata": {},
   "source": [
    "# B) Updating main postsynaptic neurons database"
   ]
  },
  {
   "cell_type": "markdown",
   "id": "6d77f535",
   "metadata": {},
   "source": [
    "### 1. Loading postsynaptic neuron dataframe"
   ]
  },
  {
   "cell_type": "code",
   "execution_count": 3,
   "id": "9371beb3",
   "metadata": {},
   "outputs": [],
   "source": [
    "# Choose path and file\n",
    "PC_disc = 'D'\n",
    "dataPath = f'{PC_disc}:\\Connectomics-Data\\FlyWire\\Excels\\drive-data-sets\\database'\n",
    "fileName = f'Tm9 proofreadings.xlsx'\n",
    "filePath = os.path.join(dataPath,fileName)"
   ]
  },
  {
   "cell_type": "code",
   "execution_count": 4,
   "id": "cc1b0994",
   "metadata": {
    "scrolled": false
   },
   "outputs": [
    {
     "data": {
      "text/html": [
       "<div>\n",
       "<style scoped>\n",
       "    .dataframe tbody tr th:only-of-type {\n",
       "        vertical-align: middle;\n",
       "    }\n",
       "\n",
       "    .dataframe tbody tr th {\n",
       "        vertical-align: top;\n",
       "    }\n",
       "\n",
       "    .dataframe thead th {\n",
       "        text-align: right;\n",
       "    }\n",
       "</style>\n",
       "<table border=\"1\" class=\"dataframe\">\n",
       "  <thead>\n",
       "    <tr style=\"text-align: right;\">\n",
       "      <th></th>\n",
       "      <th>XYZ-ME</th>\n",
       "      <th>symbol</th>\n",
       "      <th>XYZ-LO</th>\n",
       "      <th>quality comment</th>\n",
       "      <th>Mi4-connected</th>\n",
       "      <th>rim_area (Y/N)</th>\n",
       "      <th>hemisphere</th>\n",
       "      <th>lab</th>\n",
       "      <th>author</th>\n",
       "      <th>name</th>\n",
       "      <th>...</th>\n",
       "      <th>optic_lobe_id</th>\n",
       "      <th>patch_id</th>\n",
       "      <th>column_id</th>\n",
       "      <th>backbone proofread (Y/N)</th>\n",
       "      <th>twigs proofread (Y/N)</th>\n",
       "      <th>inputs_proofread (Y/N)</th>\n",
       "      <th>dark_neurons (Y/N)</th>\n",
       "      <th>healthy_L3 (Y/N)</th>\n",
       "      <th>detached_lamina (Y/N)</th>\n",
       "      <th>dorso-ventral</th>\n",
       "    </tr>\n",
       "  </thead>\n",
       "  <tbody>\n",
       "    <tr>\n",
       "      <th>0</th>\n",
       "      <td>63464.0,83140.0,5499.0</td>\n",
       "      <td>Tm9</td>\n",
       "      <td>82124.0,73675.0,5135.0</td>\n",
       "      <td>nan</td>\n",
       "      <td>nan</td>\n",
       "      <td>?</td>\n",
       "      <td>L</td>\n",
       "      <td>Marion Silies</td>\n",
       "      <td>Sebastian Molina-Obando</td>\n",
       "      <td>Tm9, Tm9_R, transmedullary neuron Tm9, FBbt_00...</td>\n",
       "      <td>...</td>\n",
       "      <td>L1</td>\n",
       "      <td>V</td>\n",
       "      <td>V1</td>\n",
       "      <td>Y</td>\n",
       "      <td>N</td>\n",
       "      <td>N</td>\n",
       "      <td>nan</td>\n",
       "      <td>N</td>\n",
       "      <td>?</td>\n",
       "      <td>V</td>\n",
       "    </tr>\n",
       "    <tr>\n",
       "      <th>1</th>\n",
       "      <td>67273.0,85576.0,5497.0</td>\n",
       "      <td>Tm9</td>\n",
       "      <td>84894.0,75635.0,5033.0</td>\n",
       "      <td>nan</td>\n",
       "      <td>nan</td>\n",
       "      <td>?</td>\n",
       "      <td>L</td>\n",
       "      <td>Marion Silies</td>\n",
       "      <td>Jonas Chojetzki</td>\n",
       "      <td>Tm9, Tm9_R, transmedullary neuron Tm9, FBbt_00...</td>\n",
       "      <td>...</td>\n",
       "      <td>L2</td>\n",
       "      <td>V</td>\n",
       "      <td>V2</td>\n",
       "      <td>Y</td>\n",
       "      <td>Y</td>\n",
       "      <td>Y</td>\n",
       "      <td>?</td>\n",
       "      <td>Y</td>\n",
       "      <td>Y</td>\n",
       "      <td>V</td>\n",
       "    </tr>\n",
       "    <tr>\n",
       "      <th>2</th>\n",
       "      <td>70063.0,88589.0,5760.0</td>\n",
       "      <td>Tm9</td>\n",
       "      <td>86449.0,78034.0,4816.0</td>\n",
       "      <td>nan</td>\n",
       "      <td>nan</td>\n",
       "      <td>?</td>\n",
       "      <td>L</td>\n",
       "      <td>Marion Silies</td>\n",
       "      <td>Sebastian Molina-Obando</td>\n",
       "      <td>Tm9, Tm9_R, transmedullary neuron Tm9, FBbt_00...</td>\n",
       "      <td>...</td>\n",
       "      <td>L3</td>\n",
       "      <td>V</td>\n",
       "      <td>V3</td>\n",
       "      <td>Y</td>\n",
       "      <td>Y</td>\n",
       "      <td>Y</td>\n",
       "      <td>Y</td>\n",
       "      <td>N</td>\n",
       "      <td>Y</td>\n",
       "      <td>V</td>\n",
       "    </tr>\n",
       "    <tr>\n",
       "      <th>3</th>\n",
       "      <td>65296.0,86194.0,6202.0</td>\n",
       "      <td>Tm9</td>\n",
       "      <td>81554.0,74784.0,4819.0</td>\n",
       "      <td>nan</td>\n",
       "      <td>nan</td>\n",
       "      <td>?</td>\n",
       "      <td>L</td>\n",
       "      <td>Marion Silies</td>\n",
       "      <td>Sebastian Molina-Obando</td>\n",
       "      <td>Tm9, Tm9_R, transmedullary neuron Tm9, FBbt_00...</td>\n",
       "      <td>...</td>\n",
       "      <td>L4</td>\n",
       "      <td>V</td>\n",
       "      <td>V4</td>\n",
       "      <td>N</td>\n",
       "      <td>N</td>\n",
       "      <td>N</td>\n",
       "      <td>nan</td>\n",
       "      <td>N</td>\n",
       "      <td>?</td>\n",
       "      <td>V</td>\n",
       "    </tr>\n",
       "    <tr>\n",
       "      <th>4</th>\n",
       "      <td>69273.0,86122.0,4826.0</td>\n",
       "      <td>Tm9</td>\n",
       "      <td>88273.0,76603.0,5126.0</td>\n",
       "      <td>nan</td>\n",
       "      <td>nan</td>\n",
       "      <td>?</td>\n",
       "      <td>L</td>\n",
       "      <td>Marion Silies</td>\n",
       "      <td>Sebastian Molina-Obando</td>\n",
       "      <td>Tm9, Tm9_R, transmedullary neuron Tm9, FBbt_00...</td>\n",
       "      <td>...</td>\n",
       "      <td>L5</td>\n",
       "      <td>V</td>\n",
       "      <td>V5</td>\n",
       "      <td>Y</td>\n",
       "      <td>N</td>\n",
       "      <td>N</td>\n",
       "      <td>nan</td>\n",
       "      <td>N</td>\n",
       "      <td>?</td>\n",
       "      <td>V</td>\n",
       "    </tr>\n",
       "  </tbody>\n",
       "</table>\n",
       "<p>5 rows × 25 columns</p>\n",
       "</div>"
      ],
      "text/plain": [
       "                   XYZ-ME symbol                  XYZ-LO quality comment  \\\n",
       "0  63464.0,83140.0,5499.0    Tm9  82124.0,73675.0,5135.0             nan   \n",
       "1  67273.0,85576.0,5497.0    Tm9  84894.0,75635.0,5033.0             nan   \n",
       "2  70063.0,88589.0,5760.0    Tm9  86449.0,78034.0,4816.0             nan   \n",
       "3  65296.0,86194.0,6202.0    Tm9  81554.0,74784.0,4819.0             nan   \n",
       "4  69273.0,86122.0,4826.0    Tm9  88273.0,76603.0,5126.0             nan   \n",
       "\n",
       "  Mi4-connected rim_area (Y/N) hemisphere            lab  \\\n",
       "0           nan              ?          L  Marion Silies   \n",
       "1           nan              ?          L  Marion Silies   \n",
       "2           nan              ?          L  Marion Silies   \n",
       "3           nan              ?          L  Marion Silies   \n",
       "4           nan              ?          L  Marion Silies   \n",
       "\n",
       "                    author                                               name  \\\n",
       "0  Sebastian Molina-Obando  Tm9, Tm9_R, transmedullary neuron Tm9, FBbt_00...   \n",
       "1          Jonas Chojetzki  Tm9, Tm9_R, transmedullary neuron Tm9, FBbt_00...   \n",
       "2  Sebastian Molina-Obando  Tm9, Tm9_R, transmedullary neuron Tm9, FBbt_00...   \n",
       "3  Sebastian Molina-Obando  Tm9, Tm9_R, transmedullary neuron Tm9, FBbt_00...   \n",
       "4  Sebastian Molina-Obando  Tm9, Tm9_R, transmedullary neuron Tm9, FBbt_00...   \n",
       "\n",
       "   ... optic_lobe_id patch_id column_id backbone proofread (Y/N)  \\\n",
       "0  ...            L1        V        V1                        Y   \n",
       "1  ...            L2        V        V2                        Y   \n",
       "2  ...            L3        V        V3                        Y   \n",
       "3  ...            L4        V        V4                        N   \n",
       "4  ...            L5        V        V5                        Y   \n",
       "\n",
       "  twigs proofread (Y/N) inputs_proofread (Y/N) dark_neurons (Y/N)  \\\n",
       "0                     N                      N                nan   \n",
       "1                     Y                      Y                  ?   \n",
       "2                     Y                      Y                  Y   \n",
       "3                     N                      N                nan   \n",
       "4                     N                      N                nan   \n",
       "\n",
       "  healthy_L3 (Y/N) detached_lamina (Y/N) dorso-ventral  \n",
       "0                N                     ?             V  \n",
       "1                Y                     Y             V  \n",
       "2                N                     Y             V  \n",
       "3                N                     ?             V  \n",
       "4                N                     ?             V  \n",
       "\n",
       "[5 rows x 25 columns]"
      ]
     },
     "metadata": {},
     "output_type": "display_data"
    }
   ],
   "source": [
    "#Loading file as DataFrame\n",
    "df = pd.read_excel(filePath)\n",
    "if df[\"seg_id\"][0] == 'asdf': #Dropping the fisrt row ('asdf' was added as a walk-around to set that column values as type str)\n",
    "    df = df.iloc[1: , :]\n",
    "    df.reset_index(inplace=True,drop=True)\n",
    "df = df.astype(str)\n",
    "display(df.head())\n",
    "segmentIDs = df[\"Updated_seg_id\"].tolist()"
   ]
  },
  {
   "cell_type": "code",
   "execution_count": 5,
   "id": "86065a65",
   "metadata": {},
   "outputs": [
    {
     "name": "stdout",
     "output_type": "stream",
     "text": [
      "['720575940631867211', '720575940629938298', '720575940619904728', '720575940626539592', '720575940616954181']\n"
     ]
    }
   ],
   "source": [
    "print(segmentIDs[0:5])"
   ]
  },
  {
   "cell_type": "markdown",
   "id": "fd61e9ba",
   "metadata": {},
   "source": [
    "### 2. Update with CAVE (not preferred)"
   ]
  },
  {
   "cell_type": "code",
   "execution_count": null,
   "id": "39d7f936",
   "metadata": {},
   "outputs": [],
   "source": [
    "#Update IDs witth chunkedgraph module of CAVE\n",
    "\n",
    "# For \"segmentsIDs\"\n",
    "#Empty spaces are type float and will be filled with \"0\"\n",
    "segmentsIDs_int = list(map(lambda x: 0 if type(x) == float else int(x),segmentIDs)) # From str to int\n",
    "#to create a np.zeros array is important for the next step\n",
    "new_segmentsIDs_int = list(map(lambda x: np.zeros(1) if x == 0 else client.chunkedgraph.get_latest_roots(x),segmentsIDs_int))\n",
    "#Updated IDs leading to more than one ID a single ID will be kept inside [] brakets.\n",
    "new_segmentsIDs_str = list(map(lambda x: str(x[0]) if x.size == 1 else x,new_segmentsIDs_int)) # From int to str"
   ]
  },
  {
   "cell_type": "code",
   "execution_count": null,
   "id": "2527c493",
   "metadata": {},
   "outputs": [],
   "source": [
    "# For \"pre_IDs\"\n",
    "#Empty spaces are type float and will be filled with \"0\"\n",
    "pre_IDs_int = list(map(lambda x: 0 if type(x) == float or x == 'INPUTS PROOFREAD'  else int(x),pre_IDs)) # From str to int\n",
    "#to create a np.zeros array is important for the next step\n",
    "new_pre_IDs_int = list(map(lambda x: np.zeros(1) if x == 0 else client.chunkedgraph.get_latest_roots(x),pre_IDs_int))\n",
    "#Updated IDs leading to more than one ID a single ID will be kept inside [] brakets.\n",
    "new_pre_IDs_str = list(map(lambda x: str(x[0]) if x.size == 1 else x,new_pre_IDs_int)) # From int to str"
   ]
  },
  {
   "cell_type": "code",
   "execution_count": null,
   "id": "eb41c2e9",
   "metadata": {},
   "outputs": [],
   "source": [
    "# For \"post_IDs\"\n",
    "#Empty spaces are type float and will be filled with \"0\"\n",
    "post_IDs_int = list(map(lambda x: 0 if type(x) == float else int(x),post_IDs)) # From str to int\n",
    "#to create a np.zeros array is important for the next step\n",
    "new_post_IDs_int = list(map(lambda x: np.zeros(1) if x == 0 else client.chunkedgraph.get_latest_roots(x),post_IDs_int))\n",
    "#Updated IDs leading to more than one ID a single ID will be kept inside [] brakets.\n",
    "new_post_IDs_str = list(map(lambda x: str(x[0]) if x.size == 1 else x,new_post_IDs_int)) # From int to str"
   ]
  },
  {
   "cell_type": "code",
   "execution_count": null,
   "id": "5bbf4756",
   "metadata": {},
   "outputs": [],
   "source": [
    "### Seleting the right pre_ID if the update gaves more than one\n",
    "#Getting the correct pre_IDs than contact each post_ID\n",
    "\n",
    "from functools import reduce\n",
    "\n",
    "correct_IDs = {}\n",
    "curr_post_ID = 'Start'\n",
    "for idx,pre_IDs in  enumerate(new_pre_IDs_str):\n",
    "        \n",
    "    #If there are multiple IDs in an array\n",
    "    if type(pre_IDs) != str and type(pre_IDs) == np.ndarray:\n",
    "        #Creatting synapses dataframe only once per each post_ID\n",
    "        if curr_post_ID != new_post_IDs_str[idx]:\n",
    "            synapses = flywire.synapses.fetch_synapses(new_post_IDs_str[idx], pre=False, post=True, attach=True,\n",
    "                                          min_score=50, clean=True, transmitters=False,\n",
    "                                          neuropils=True, batch_size=30,\n",
    "                                          dataset='production', progress=True,mat=\"live\")\n",
    "            #Update post_ID\n",
    "            print(f\"Looking at post_ID: {new_post_IDs_str[idx]}\") \n",
    "            curr_post_ID = new_post_IDs_str[idx]\n",
    "            \n",
    "        #Proof connectivity to the respective post_ID for each of them\n",
    "        for ID in pre_IDs:\n",
    "            if synapses[synapses['pre'] == ID].empty:\n",
    "                continue\n",
    "            else: # Only add the pre_ID (and its index) which has valid synapses with the post_IDs\n",
    "                if idx in correct_IDs.keys(): # If there is already a valid ID, add other valid IDs \n",
    "                    curr_value =correct_IDs[idx]\n",
    "                    new_value = curr_value+\"_\"+str(ID)\n",
    "                    correct_IDs[idx] =new_value\n",
    "                else:\n",
    "                    correct_IDs[idx]=str(ID)\n",
    "\n",
    "# Fixing the updated pre_IDs_str_list\n",
    "for key, value in correct_IDs.items():\n",
    "    new_pre_IDs_str[key] = value\n",
    "    \n"
   ]
  },
  {
   "cell_type": "code",
   "execution_count": null,
   "id": "ae0d9c03",
   "metadata": {},
   "outputs": [],
   "source": [
    "### Updating the dataframe\n",
    "# Adding the new url column to the data frame\n",
    "df[\"Updated_pre_IDs\"] = new_pre_IDs_str\n",
    "df[\"Updated_post_IDs\"] = new_post_IDs_str"
   ]
  },
  {
   "cell_type": "markdown",
   "id": "df911c6d",
   "metadata": {},
   "source": [
    "### 2. Update with FAFB (predered)"
   ]
  },
  {
   "cell_type": "code",
   "execution_count": 6,
   "id": "94d797c3",
   "metadata": {},
   "outputs": [
    {
     "data": {
      "application/vnd.jupyter.widget-view+json": {
       "model_id": "",
       "version_major": 2,
       "version_minor": 0
      },
      "text/plain": [
       "Updating:   0%|          | 0/1481 [00:00<?, ?it/s]"
      ]
     },
     "metadata": {},
     "output_type": "display_data"
    }
   ],
   "source": [
    "# Updating the segmentIDs\n",
    "new_segmentIDs_df = flywire.update_ids(segmentIDs, stop_layer=2, supervoxels=None, timestamp=None, dataset='production', progress=True)"
   ]
  },
  {
   "cell_type": "code",
   "execution_count": 7,
   "id": "435ee322",
   "metadata": {},
   "outputs": [
    {
     "data": {
      "text/plain": [
       "array([1.  , 0.97, 0.95, 0.99, 0.75, 0.89])"
      ]
     },
     "execution_count": 7,
     "metadata": {},
     "output_type": "execute_result"
    }
   ],
   "source": [
    "new_segmentIDs_df[\"confidence\"].unique()"
   ]
  },
  {
   "cell_type": "code",
   "execution_count": 8,
   "id": "eb93b20e",
   "metadata": {},
   "outputs": [
    {
     "data": {
      "text/html": [
       "<div>\n",
       "<style scoped>\n",
       "    .dataframe tbody tr th:only-of-type {\n",
       "        vertical-align: middle;\n",
       "    }\n",
       "\n",
       "    .dataframe tbody tr th {\n",
       "        vertical-align: top;\n",
       "    }\n",
       "\n",
       "    .dataframe thead th {\n",
       "        text-align: right;\n",
       "    }\n",
       "</style>\n",
       "<table border=\"1\" class=\"dataframe\">\n",
       "  <thead>\n",
       "    <tr style=\"text-align: right;\">\n",
       "      <th></th>\n",
       "      <th>XYZ-ME</th>\n",
       "      <th>symbol</th>\n",
       "      <th>XYZ-LO</th>\n",
       "      <th>quality comment</th>\n",
       "      <th>Mi4-connected</th>\n",
       "      <th>rim_area (Y/N)</th>\n",
       "      <th>hemisphere</th>\n",
       "      <th>lab</th>\n",
       "      <th>author</th>\n",
       "      <th>name</th>\n",
       "      <th>...</th>\n",
       "      <th>optic_lobe_id</th>\n",
       "      <th>patch_id</th>\n",
       "      <th>column_id</th>\n",
       "      <th>backbone proofread (Y/N)</th>\n",
       "      <th>twigs proofread (Y/N)</th>\n",
       "      <th>inputs_proofread (Y/N)</th>\n",
       "      <th>dark_neurons (Y/N)</th>\n",
       "      <th>healthy_L3 (Y/N)</th>\n",
       "      <th>detached_lamina (Y/N)</th>\n",
       "      <th>dorso-ventral</th>\n",
       "    </tr>\n",
       "  </thead>\n",
       "  <tbody>\n",
       "    <tr>\n",
       "      <th>0</th>\n",
       "      <td>63464.0,83140.0,5499.0</td>\n",
       "      <td>Tm9</td>\n",
       "      <td>82124.0,73675.0,5135.0</td>\n",
       "      <td>nan</td>\n",
       "      <td>nan</td>\n",
       "      <td>?</td>\n",
       "      <td>L</td>\n",
       "      <td>Marion Silies</td>\n",
       "      <td>Sebastian Molina-Obando</td>\n",
       "      <td>Tm9, Tm9_R, transmedullary neuron Tm9, FBbt_00...</td>\n",
       "      <td>...</td>\n",
       "      <td>L1</td>\n",
       "      <td>V</td>\n",
       "      <td>V1</td>\n",
       "      <td>Y</td>\n",
       "      <td>N</td>\n",
       "      <td>N</td>\n",
       "      <td>nan</td>\n",
       "      <td>N</td>\n",
       "      <td>?</td>\n",
       "      <td>V</td>\n",
       "    </tr>\n",
       "    <tr>\n",
       "      <th>1</th>\n",
       "      <td>67273.0,85576.0,5497.0</td>\n",
       "      <td>Tm9</td>\n",
       "      <td>84894.0,75635.0,5033.0</td>\n",
       "      <td>nan</td>\n",
       "      <td>nan</td>\n",
       "      <td>?</td>\n",
       "      <td>L</td>\n",
       "      <td>Marion Silies</td>\n",
       "      <td>Jonas Chojetzki</td>\n",
       "      <td>Tm9, Tm9_R, transmedullary neuron Tm9, FBbt_00...</td>\n",
       "      <td>...</td>\n",
       "      <td>L2</td>\n",
       "      <td>V</td>\n",
       "      <td>V2</td>\n",
       "      <td>Y</td>\n",
       "      <td>Y</td>\n",
       "      <td>Y</td>\n",
       "      <td>?</td>\n",
       "      <td>Y</td>\n",
       "      <td>Y</td>\n",
       "      <td>V</td>\n",
       "    </tr>\n",
       "    <tr>\n",
       "      <th>2</th>\n",
       "      <td>70063.0,88589.0,5760.0</td>\n",
       "      <td>Tm9</td>\n",
       "      <td>86449.0,78034.0,4816.0</td>\n",
       "      <td>nan</td>\n",
       "      <td>nan</td>\n",
       "      <td>?</td>\n",
       "      <td>L</td>\n",
       "      <td>Marion Silies</td>\n",
       "      <td>Sebastian Molina-Obando</td>\n",
       "      <td>Tm9, Tm9_R, transmedullary neuron Tm9, FBbt_00...</td>\n",
       "      <td>...</td>\n",
       "      <td>L3</td>\n",
       "      <td>V</td>\n",
       "      <td>V3</td>\n",
       "      <td>Y</td>\n",
       "      <td>Y</td>\n",
       "      <td>Y</td>\n",
       "      <td>Y</td>\n",
       "      <td>N</td>\n",
       "      <td>Y</td>\n",
       "      <td>V</td>\n",
       "    </tr>\n",
       "    <tr>\n",
       "      <th>3</th>\n",
       "      <td>65296.0,86194.0,6202.0</td>\n",
       "      <td>Tm9</td>\n",
       "      <td>81554.0,74784.0,4819.0</td>\n",
       "      <td>nan</td>\n",
       "      <td>nan</td>\n",
       "      <td>?</td>\n",
       "      <td>L</td>\n",
       "      <td>Marion Silies</td>\n",
       "      <td>Sebastian Molina-Obando</td>\n",
       "      <td>Tm9, Tm9_R, transmedullary neuron Tm9, FBbt_00...</td>\n",
       "      <td>...</td>\n",
       "      <td>L4</td>\n",
       "      <td>V</td>\n",
       "      <td>V4</td>\n",
       "      <td>N</td>\n",
       "      <td>N</td>\n",
       "      <td>N</td>\n",
       "      <td>nan</td>\n",
       "      <td>N</td>\n",
       "      <td>?</td>\n",
       "      <td>V</td>\n",
       "    </tr>\n",
       "    <tr>\n",
       "      <th>4</th>\n",
       "      <td>69273.0,86122.0,4826.0</td>\n",
       "      <td>Tm9</td>\n",
       "      <td>88273.0,76603.0,5126.0</td>\n",
       "      <td>nan</td>\n",
       "      <td>nan</td>\n",
       "      <td>?</td>\n",
       "      <td>L</td>\n",
       "      <td>Marion Silies</td>\n",
       "      <td>Sebastian Molina-Obando</td>\n",
       "      <td>Tm9, Tm9_R, transmedullary neuron Tm9, FBbt_00...</td>\n",
       "      <td>...</td>\n",
       "      <td>L5</td>\n",
       "      <td>V</td>\n",
       "      <td>V5</td>\n",
       "      <td>Y</td>\n",
       "      <td>N</td>\n",
       "      <td>N</td>\n",
       "      <td>nan</td>\n",
       "      <td>N</td>\n",
       "      <td>?</td>\n",
       "      <td>V</td>\n",
       "    </tr>\n",
       "  </tbody>\n",
       "</table>\n",
       "<p>5 rows × 25 columns</p>\n",
       "</div>"
      ],
      "text/plain": [
       "                   XYZ-ME symbol                  XYZ-LO quality comment  \\\n",
       "0  63464.0,83140.0,5499.0    Tm9  82124.0,73675.0,5135.0             nan   \n",
       "1  67273.0,85576.0,5497.0    Tm9  84894.0,75635.0,5033.0             nan   \n",
       "2  70063.0,88589.0,5760.0    Tm9  86449.0,78034.0,4816.0             nan   \n",
       "3  65296.0,86194.0,6202.0    Tm9  81554.0,74784.0,4819.0             nan   \n",
       "4  69273.0,86122.0,4826.0    Tm9  88273.0,76603.0,5126.0             nan   \n",
       "\n",
       "  Mi4-connected rim_area (Y/N) hemisphere            lab  \\\n",
       "0           nan              ?          L  Marion Silies   \n",
       "1           nan              ?          L  Marion Silies   \n",
       "2           nan              ?          L  Marion Silies   \n",
       "3           nan              ?          L  Marion Silies   \n",
       "4           nan              ?          L  Marion Silies   \n",
       "\n",
       "                    author                                               name  \\\n",
       "0  Sebastian Molina-Obando  Tm9, Tm9_R, transmedullary neuron Tm9, FBbt_00...   \n",
       "1          Jonas Chojetzki  Tm9, Tm9_R, transmedullary neuron Tm9, FBbt_00...   \n",
       "2  Sebastian Molina-Obando  Tm9, Tm9_R, transmedullary neuron Tm9, FBbt_00...   \n",
       "3  Sebastian Molina-Obando  Tm9, Tm9_R, transmedullary neuron Tm9, FBbt_00...   \n",
       "4  Sebastian Molina-Obando  Tm9, Tm9_R, transmedullary neuron Tm9, FBbt_00...   \n",
       "\n",
       "   ... optic_lobe_id patch_id column_id backbone proofread (Y/N)  \\\n",
       "0  ...            L1        V        V1                        Y   \n",
       "1  ...            L2        V        V2                        Y   \n",
       "2  ...            L3        V        V3                        Y   \n",
       "3  ...            L4        V        V4                        N   \n",
       "4  ...            L5        V        V5                        Y   \n",
       "\n",
       "  twigs proofread (Y/N) inputs_proofread (Y/N) dark_neurons (Y/N)  \\\n",
       "0                     N                      N                nan   \n",
       "1                     Y                      Y                  ?   \n",
       "2                     Y                      Y                  Y   \n",
       "3                     N                      N                nan   \n",
       "4                     N                      N                nan   \n",
       "\n",
       "  healthy_L3 (Y/N) detached_lamina (Y/N) dorso-ventral  \n",
       "0                N                     ?             V  \n",
       "1                Y                     Y             V  \n",
       "2                N                     Y             V  \n",
       "3                N                     ?             V  \n",
       "4                N                     ?             V  \n",
       "\n",
       "[5 rows x 25 columns]"
      ]
     },
     "execution_count": 8,
     "metadata": {},
     "output_type": "execute_result"
    }
   ],
   "source": [
    "### Updating the dataframe\n",
    "# Adding the new column to the data frame\n",
    "df[\"Update_confidence\"] = new_segmentIDs_df[\"confidence\"].astype(str).tolist()\n",
    "df[\"Updated_seg_id\"] = new_segmentIDs_df[\"new_id\"].astype(str).tolist()\n",
    "df.head()"
   ]
  },
  {
   "cell_type": "code",
   "execution_count": 9,
   "id": "5b6b295d",
   "metadata": {},
   "outputs": [
    {
     "data": {
      "text/html": [
       "<div>\n",
       "<style scoped>\n",
       "    .dataframe tbody tr th:only-of-type {\n",
       "        vertical-align: middle;\n",
       "    }\n",
       "\n",
       "    .dataframe tbody tr th {\n",
       "        vertical-align: top;\n",
       "    }\n",
       "\n",
       "    .dataframe thead th {\n",
       "        text-align: right;\n",
       "    }\n",
       "</style>\n",
       "<table border=\"1\" class=\"dataframe\">\n",
       "  <thead>\n",
       "    <tr style=\"text-align: right;\">\n",
       "      <th></th>\n",
       "      <th>XYZ-ME</th>\n",
       "      <th>symbol</th>\n",
       "      <th>XYZ-LO</th>\n",
       "      <th>quality comment</th>\n",
       "      <th>Mi4-connected</th>\n",
       "      <th>rim_area (Y/N)</th>\n",
       "      <th>hemisphere</th>\n",
       "      <th>lab</th>\n",
       "      <th>author</th>\n",
       "      <th>name</th>\n",
       "      <th>...</th>\n",
       "      <th>optic_lobe_id</th>\n",
       "      <th>patch_id</th>\n",
       "      <th>column_id</th>\n",
       "      <th>backbone proofread (Y/N)</th>\n",
       "      <th>twigs proofread (Y/N)</th>\n",
       "      <th>inputs_proofread (Y/N)</th>\n",
       "      <th>dark_neurons (Y/N)</th>\n",
       "      <th>healthy_L3 (Y/N)</th>\n",
       "      <th>detached_lamina (Y/N)</th>\n",
       "      <th>dorso-ventral</th>\n",
       "    </tr>\n",
       "  </thead>\n",
       "  <tbody>\n",
       "  </tbody>\n",
       "</table>\n",
       "<p>0 rows × 25 columns</p>\n",
       "</div>"
      ],
      "text/plain": [
       "Empty DataFrame\n",
       "Columns: [XYZ-ME, symbol, XYZ-LO, quality comment, Mi4-connected, rim_area (Y/N), hemisphere, lab, author, name, seg_id, identified_in, Updated_seg_id, Update_confidence, lab authorship (Y/N), optic_lobe_id, patch_id, column_id, backbone proofread (Y/N), twigs proofread (Y/N), inputs_proofread (Y/N), dark_neurons (Y/N), healthy_L3 (Y/N), detached_lamina (Y/N), dorso-ventral]\n",
       "Index: []\n",
       "\n",
       "[0 rows x 25 columns]"
      ]
     },
     "execution_count": 9,
     "metadata": {},
     "output_type": "execute_result"
    }
   ],
   "source": [
    "#Checking duplicates in ids\n",
    "df[df[\"Updated_seg_id\"].duplicated() == True]"
   ]
  },
  {
   "cell_type": "code",
   "execution_count": 10,
   "id": "1029b2a8",
   "metadata": {},
   "outputs": [
    {
     "data": {
      "text/html": [
       "<div>\n",
       "<style scoped>\n",
       "    .dataframe tbody tr th:only-of-type {\n",
       "        vertical-align: middle;\n",
       "    }\n",
       "\n",
       "    .dataframe tbody tr th {\n",
       "        vertical-align: top;\n",
       "    }\n",
       "\n",
       "    .dataframe thead th {\n",
       "        text-align: right;\n",
       "    }\n",
       "</style>\n",
       "<table border=\"1\" class=\"dataframe\">\n",
       "  <thead>\n",
       "    <tr style=\"text-align: right;\">\n",
       "      <th></th>\n",
       "      <th>XYZ-ME</th>\n",
       "      <th>symbol</th>\n",
       "      <th>XYZ-LO</th>\n",
       "      <th>quality comment</th>\n",
       "      <th>Mi4-connected</th>\n",
       "      <th>rim_area (Y/N)</th>\n",
       "      <th>hemisphere</th>\n",
       "      <th>lab</th>\n",
       "      <th>author</th>\n",
       "      <th>name</th>\n",
       "      <th>...</th>\n",
       "      <th>optic_lobe_id</th>\n",
       "      <th>patch_id</th>\n",
       "      <th>column_id</th>\n",
       "      <th>backbone proofread (Y/N)</th>\n",
       "      <th>twigs proofread (Y/N)</th>\n",
       "      <th>inputs_proofread (Y/N)</th>\n",
       "      <th>dark_neurons (Y/N)</th>\n",
       "      <th>healthy_L3 (Y/N)</th>\n",
       "      <th>detached_lamina (Y/N)</th>\n",
       "      <th>dorso-ventral</th>\n",
       "    </tr>\n",
       "  </thead>\n",
       "  <tbody>\n",
       "    <tr>\n",
       "      <th>37</th>\n",
       "      <td>54698.0,57524.0,5800.0</td>\n",
       "      <td>Tm9</td>\n",
       "      <td>75082.0,56266.0,5383.0</td>\n",
       "      <td>nan</td>\n",
       "      <td>nan</td>\n",
       "      <td>?</td>\n",
       "      <td>L</td>\n",
       "      <td>Marion Silies</td>\n",
       "      <td>Sebastian Molina-Obando</td>\n",
       "      <td>Tm9, Tm9_R, transmedullary neuron Tm9, FBbt_00...</td>\n",
       "      <td>...</td>\n",
       "      <td>L38</td>\n",
       "      <td>D</td>\n",
       "      <td>D11</td>\n",
       "      <td>Y</td>\n",
       "      <td>N</td>\n",
       "      <td>N</td>\n",
       "      <td>nan</td>\n",
       "      <td>Y</td>\n",
       "      <td>N</td>\n",
       "      <td>D</td>\n",
       "    </tr>\n",
       "    <tr>\n",
       "      <th>308</th>\n",
       "      <td>63273.0,85176.0,6032.0</td>\n",
       "      <td>Tm9</td>\n",
       "      <td>81113.0,74569.0,4947.0</td>\n",
       "      <td>nan</td>\n",
       "      <td>nan</td>\n",
       "      <td>?</td>\n",
       "      <td>L</td>\n",
       "      <td>Borst Lab</td>\n",
       "      <td>Amalia Braun</td>\n",
       "      <td>Tm9, Tm9_R, transmedullary neuron Tm9, FBbt_00...</td>\n",
       "      <td>...</td>\n",
       "      <td>L309</td>\n",
       "      <td>nan</td>\n",
       "      <td>nan</td>\n",
       "      <td>N</td>\n",
       "      <td>N</td>\n",
       "      <td>N</td>\n",
       "      <td>nan</td>\n",
       "      <td>N</td>\n",
       "      <td>?</td>\n",
       "      <td>V</td>\n",
       "    </tr>\n",
       "    <tr>\n",
       "      <th>497</th>\n",
       "      <td>75858.0,64623.0,3445.0</td>\n",
       "      <td>Tm9</td>\n",
       "      <td>90216.0,63152.0,6096.0</td>\n",
       "      <td>nan</td>\n",
       "      <td>nan</td>\n",
       "      <td>?</td>\n",
       "      <td>L</td>\n",
       "      <td>Marion Silies</td>\n",
       "      <td>Jonas Chojetzki</td>\n",
       "      <td>Tm9, Tm9_R, transmedullary neuron Tm9, FBbt_00...</td>\n",
       "      <td>...</td>\n",
       "      <td>L498</td>\n",
       "      <td>nan</td>\n",
       "      <td>nan</td>\n",
       "      <td>Y</td>\n",
       "      <td>N</td>\n",
       "      <td>N</td>\n",
       "      <td>nan</td>\n",
       "      <td>N</td>\n",
       "      <td>?</td>\n",
       "      <td>V</td>\n",
       "    </tr>\n",
       "    <tr>\n",
       "      <th>538</th>\n",
       "      <td>75954.0,86210.0,4327.0</td>\n",
       "      <td>Tm9</td>\n",
       "      <td>92845.0,77280.0,5202.0</td>\n",
       "      <td>nan</td>\n",
       "      <td>nan</td>\n",
       "      <td>?</td>\n",
       "      <td>L</td>\n",
       "      <td>Axel Borst Lab</td>\n",
       "      <td>Amalia Braun</td>\n",
       "      <td>Tm9, Tm9_R, transmedullary neuron Tm9, FBbt_00...</td>\n",
       "      <td>...</td>\n",
       "      <td>L539</td>\n",
       "      <td>nan</td>\n",
       "      <td>nan</td>\n",
       "      <td>Y</td>\n",
       "      <td>N</td>\n",
       "      <td>N</td>\n",
       "      <td>nan</td>\n",
       "      <td>N</td>\n",
       "      <td>?</td>\n",
       "      <td>V</td>\n",
       "    </tr>\n",
       "    <tr>\n",
       "      <th>623</th>\n",
       "      <td>54845.0,66831.0,5547.0</td>\n",
       "      <td>Tm9</td>\n",
       "      <td>76772.0,62359.0,5406.0</td>\n",
       "      <td>nan</td>\n",
       "      <td>nan</td>\n",
       "      <td>?</td>\n",
       "      <td>L</td>\n",
       "      <td>Marion Silies</td>\n",
       "      <td>Lena Lörsch</td>\n",
       "      <td>Tm9, Tm9_R, transmedullary neuron Tm9, FBbt_00...</td>\n",
       "      <td>...</td>\n",
       "      <td>L624</td>\n",
       "      <td>nan</td>\n",
       "      <td>nan</td>\n",
       "      <td>Y</td>\n",
       "      <td>N</td>\n",
       "      <td>Y</td>\n",
       "      <td>nan</td>\n",
       "      <td>Y</td>\n",
       "      <td>N</td>\n",
       "      <td>D</td>\n",
       "    </tr>\n",
       "    <tr>\n",
       "      <th>1252</th>\n",
       "      <td>192857.0,95078.0,4876.0</td>\n",
       "      <td>Tm9</td>\n",
       "      <td>173998.0,83272.0,3753.0</td>\n",
       "      <td>strange dendrite</td>\n",
       "      <td>nan</td>\n",
       "      <td>Y</td>\n",
       "      <td>R</td>\n",
       "      <td>Eyewire</td>\n",
       "      <td>Krzysztof Kruk</td>\n",
       "      <td>Tm9; Transmedullary neuron 9; FBbt_00003797</td>\n",
       "      <td>...</td>\n",
       "      <td>R562</td>\n",
       "      <td>nan</td>\n",
       "      <td>nan</td>\n",
       "      <td>N</td>\n",
       "      <td>N</td>\n",
       "      <td>N</td>\n",
       "      <td>nan</td>\n",
       "      <td>Y</td>\n",
       "      <td>N</td>\n",
       "      <td>V</td>\n",
       "    </tr>\n",
       "    <tr>\n",
       "      <th>1386</th>\n",
       "      <td>180784.0,96416.0,4089.0</td>\n",
       "      <td>Tm9</td>\n",
       "      <td>166805.0,85596.0,4004.0</td>\n",
       "      <td>strange dendrite</td>\n",
       "      <td>nan</td>\n",
       "      <td>Y</td>\n",
       "      <td>R</td>\n",
       "      <td>nan</td>\n",
       "      <td>nan</td>\n",
       "      <td>nan</td>\n",
       "      <td>...</td>\n",
       "      <td>R696</td>\n",
       "      <td>nan</td>\n",
       "      <td>nan</td>\n",
       "      <td>N</td>\n",
       "      <td>N</td>\n",
       "      <td>N</td>\n",
       "      <td>nan</td>\n",
       "      <td>?</td>\n",
       "      <td>N</td>\n",
       "      <td>nan</td>\n",
       "    </tr>\n",
       "  </tbody>\n",
       "</table>\n",
       "<p>7 rows × 25 columns</p>\n",
       "</div>"
      ],
      "text/plain": [
       "                       XYZ-ME symbol                   XYZ-LO  \\\n",
       "37     54698.0,57524.0,5800.0    Tm9   75082.0,56266.0,5383.0   \n",
       "308    63273.0,85176.0,6032.0    Tm9   81113.0,74569.0,4947.0   \n",
       "497    75858.0,64623.0,3445.0    Tm9   90216.0,63152.0,6096.0   \n",
       "538    75954.0,86210.0,4327.0    Tm9   92845.0,77280.0,5202.0   \n",
       "623    54845.0,66831.0,5547.0    Tm9   76772.0,62359.0,5406.0   \n",
       "1252  192857.0,95078.0,4876.0    Tm9  173998.0,83272.0,3753.0   \n",
       "1386  180784.0,96416.0,4089.0    Tm9  166805.0,85596.0,4004.0   \n",
       "\n",
       "       quality comment Mi4-connected rim_area (Y/N) hemisphere  \\\n",
       "37                 nan           nan              ?          L   \n",
       "308                nan           nan              ?          L   \n",
       "497                nan           nan              ?          L   \n",
       "538                nan           nan              ?          L   \n",
       "623                nan           nan              ?          L   \n",
       "1252  strange dendrite           nan              Y          R   \n",
       "1386  strange dendrite           nan              Y          R   \n",
       "\n",
       "                 lab                   author  \\\n",
       "37     Marion Silies  Sebastian Molina-Obando   \n",
       "308        Borst Lab             Amalia Braun   \n",
       "497    Marion Silies          Jonas Chojetzki   \n",
       "538   Axel Borst Lab             Amalia Braun   \n",
       "623    Marion Silies              Lena Lörsch   \n",
       "1252         Eyewire           Krzysztof Kruk   \n",
       "1386             nan                      nan   \n",
       "\n",
       "                                                   name  ... optic_lobe_id  \\\n",
       "37    Tm9, Tm9_R, transmedullary neuron Tm9, FBbt_00...  ...           L38   \n",
       "308   Tm9, Tm9_R, transmedullary neuron Tm9, FBbt_00...  ...          L309   \n",
       "497   Tm9, Tm9_R, transmedullary neuron Tm9, FBbt_00...  ...          L498   \n",
       "538   Tm9, Tm9_R, transmedullary neuron Tm9, FBbt_00...  ...          L539   \n",
       "623   Tm9, Tm9_R, transmedullary neuron Tm9, FBbt_00...  ...          L624   \n",
       "1252        Tm9; Transmedullary neuron 9; FBbt_00003797  ...          R562   \n",
       "1386                                                nan  ...          R696   \n",
       "\n",
       "     patch_id column_id backbone proofread (Y/N) twigs proofread (Y/N)  \\\n",
       "37          D       D11                        Y                     N   \n",
       "308       nan       nan                        N                     N   \n",
       "497       nan       nan                        Y                     N   \n",
       "538       nan       nan                        Y                     N   \n",
       "623       nan       nan                        Y                     N   \n",
       "1252      nan       nan                        N                     N   \n",
       "1386      nan       nan                        N                     N   \n",
       "\n",
       "     inputs_proofread (Y/N) dark_neurons (Y/N) healthy_L3 (Y/N)  \\\n",
       "37                        N                nan                Y   \n",
       "308                       N                nan                N   \n",
       "497                       N                nan                N   \n",
       "538                       N                nan                N   \n",
       "623                       Y                nan                Y   \n",
       "1252                      N                nan                Y   \n",
       "1386                      N                nan                ?   \n",
       "\n",
       "     detached_lamina (Y/N) dorso-ventral  \n",
       "37                       N             D  \n",
       "308                      ?             V  \n",
       "497                      ?             V  \n",
       "538                      ?             V  \n",
       "623                      N             D  \n",
       "1252                     N             V  \n",
       "1386                     N           nan  \n",
       "\n",
       "[7 rows x 25 columns]"
      ]
     },
     "execution_count": 10,
     "metadata": {},
     "output_type": "execute_result"
    }
   ],
   "source": [
    "#Checking updated ids\n",
    "df[df[\"Update_confidence\"].astype(float) < 1.]"
   ]
  },
  {
   "cell_type": "markdown",
   "id": "271c1dff",
   "metadata": {},
   "source": [
    "### 3. If wished: Reorder rows based on condition"
   ]
  },
  {
   "cell_type": "code",
   "execution_count": null,
   "id": "618c5223",
   "metadata": {},
   "outputs": [],
   "source": [
    "sorted_df = df.sort_values(by = 'cluster_id').copy()"
   ]
  },
  {
   "cell_type": "code",
   "execution_count": 39,
   "id": "c37a7fe5",
   "metadata": {},
   "outputs": [],
   "source": [
    "sorted_df = df.copy()"
   ]
  },
  {
   "cell_type": "code",
   "execution_count": 57,
   "id": "140c3852",
   "metadata": {
    "scrolled": true
   },
   "outputs": [
    {
     "data": {
      "text/plain": [
       "0       720575940631867211\n",
       "1       720575940629938298\n",
       "2       720575940619904728\n",
       "3       720575940626539592\n",
       "4       720575940616954181\n",
       "               ...        \n",
       "1370    720575940602880736\n",
       "1371    720575940612861462\n",
       "1372    720575940620517312\n",
       "1373    720575940615223199\n",
       "1374    720575940619077686\n",
       "Name: seg_id, Length: 1375, dtype: int64"
      ]
     },
     "execution_count": 57,
     "metadata": {},
     "output_type": "execute_result"
    }
   ],
   "source": [
    "df[\"seg_id\"]"
   ]
  },
  {
   "cell_type": "markdown",
   "id": "c187aae5",
   "metadata": {},
   "source": [
    "### 3. If wished: Add specific column status based on another file"
   ]
  },
  {
   "cell_type": "markdown",
   "id": "8d6f604b",
   "metadata": {},
   "source": [
    "### 3.1 Based on a txt with list of ids"
   ]
  },
  {
   "cell_type": "code",
   "execution_count": 13,
   "id": "2272e4af",
   "metadata": {},
   "outputs": [
    {
     "data": {
      "text/html": [
       "<div>\n",
       "<style scoped>\n",
       "    .dataframe tbody tr th:only-of-type {\n",
       "        vertical-align: middle;\n",
       "    }\n",
       "\n",
       "    .dataframe tbody tr th {\n",
       "        vertical-align: top;\n",
       "    }\n",
       "\n",
       "    .dataframe thead th {\n",
       "        text-align: right;\n",
       "    }\n",
       "</style>\n",
       "<table border=\"1\" class=\"dataframe\">\n",
       "  <thead>\n",
       "    <tr style=\"text-align: right;\">\n",
       "      <th></th>\n",
       "      <th>XYZ-ME</th>\n",
       "      <th>symbol</th>\n",
       "      <th>XYZ-LO</th>\n",
       "      <th>quality comment</th>\n",
       "      <th>Mi4-connected</th>\n",
       "      <th>rim_area (Y/N)</th>\n",
       "      <th>hemisphere</th>\n",
       "      <th>lab</th>\n",
       "      <th>author</th>\n",
       "      <th>name</th>\n",
       "      <th>...</th>\n",
       "      <th>column_id</th>\n",
       "      <th>backbone proofread (Y/N)</th>\n",
       "      <th>twigs proofread (Y/N)</th>\n",
       "      <th>inputs_proofread (Y/N)</th>\n",
       "      <th>dark_neurons (Y/N)</th>\n",
       "      <th>healthy_L3 (Y/N)</th>\n",
       "      <th>detached_lamina (Y/N)</th>\n",
       "      <th>dorso-ventral</th>\n",
       "      <th>rim_area (Y/N))_updated</th>\n",
       "      <th>rim_area (Y/N)_updated</th>\n",
       "    </tr>\n",
       "  </thead>\n",
       "  <tbody>\n",
       "    <tr>\n",
       "      <th>0</th>\n",
       "      <td>63464.0,83140.0,5499.0</td>\n",
       "      <td>Tm9</td>\n",
       "      <td>82124.0,73675.0,5135.0</td>\n",
       "      <td>nan</td>\n",
       "      <td>nan</td>\n",
       "      <td>?</td>\n",
       "      <td>L</td>\n",
       "      <td>Marion Silies</td>\n",
       "      <td>Sebastian Molina-Obando</td>\n",
       "      <td>Tm9, Tm9_R, transmedullary neuron Tm9, FBbt_00...</td>\n",
       "      <td>...</td>\n",
       "      <td>V1</td>\n",
       "      <td>Y</td>\n",
       "      <td>N</td>\n",
       "      <td>N</td>\n",
       "      <td>nan</td>\n",
       "      <td>N</td>\n",
       "      <td>?</td>\n",
       "      <td>V</td>\n",
       "      <td>N</td>\n",
       "      <td>N</td>\n",
       "    </tr>\n",
       "    <tr>\n",
       "      <th>1</th>\n",
       "      <td>67273.0,85576.0,5497.0</td>\n",
       "      <td>Tm9</td>\n",
       "      <td>84894.0,75635.0,5033.0</td>\n",
       "      <td>nan</td>\n",
       "      <td>nan</td>\n",
       "      <td>?</td>\n",
       "      <td>L</td>\n",
       "      <td>Marion Silies</td>\n",
       "      <td>Jonas Chojetzki</td>\n",
       "      <td>Tm9, Tm9_R, transmedullary neuron Tm9, FBbt_00...</td>\n",
       "      <td>...</td>\n",
       "      <td>V2</td>\n",
       "      <td>Y</td>\n",
       "      <td>Y</td>\n",
       "      <td>Y</td>\n",
       "      <td>?</td>\n",
       "      <td>Y</td>\n",
       "      <td>Y</td>\n",
       "      <td>V</td>\n",
       "      <td>N</td>\n",
       "      <td>N</td>\n",
       "    </tr>\n",
       "    <tr>\n",
       "      <th>2</th>\n",
       "      <td>70063.0,88589.0,5760.0</td>\n",
       "      <td>Tm9</td>\n",
       "      <td>86449.0,78034.0,4816.0</td>\n",
       "      <td>nan</td>\n",
       "      <td>nan</td>\n",
       "      <td>?</td>\n",
       "      <td>L</td>\n",
       "      <td>Marion Silies</td>\n",
       "      <td>Sebastian Molina-Obando</td>\n",
       "      <td>Tm9, Tm9_R, transmedullary neuron Tm9, FBbt_00...</td>\n",
       "      <td>...</td>\n",
       "      <td>V3</td>\n",
       "      <td>Y</td>\n",
       "      <td>Y</td>\n",
       "      <td>Y</td>\n",
       "      <td>Y</td>\n",
       "      <td>N</td>\n",
       "      <td>Y</td>\n",
       "      <td>V</td>\n",
       "      <td>N</td>\n",
       "      <td>N</td>\n",
       "    </tr>\n",
       "    <tr>\n",
       "      <th>3</th>\n",
       "      <td>65296.0,86194.0,6202.0</td>\n",
       "      <td>Tm9</td>\n",
       "      <td>81554.0,74784.0,4819.0</td>\n",
       "      <td>nan</td>\n",
       "      <td>nan</td>\n",
       "      <td>?</td>\n",
       "      <td>L</td>\n",
       "      <td>Marion Silies</td>\n",
       "      <td>Sebastian Molina-Obando</td>\n",
       "      <td>Tm9, Tm9_R, transmedullary neuron Tm9, FBbt_00...</td>\n",
       "      <td>...</td>\n",
       "      <td>V4</td>\n",
       "      <td>N</td>\n",
       "      <td>N</td>\n",
       "      <td>N</td>\n",
       "      <td>nan</td>\n",
       "      <td>N</td>\n",
       "      <td>?</td>\n",
       "      <td>V</td>\n",
       "      <td>N</td>\n",
       "      <td>N</td>\n",
       "    </tr>\n",
       "    <tr>\n",
       "      <th>4</th>\n",
       "      <td>69273.0,86122.0,4826.0</td>\n",
       "      <td>Tm9</td>\n",
       "      <td>88273.0,76603.0,5126.0</td>\n",
       "      <td>nan</td>\n",
       "      <td>nan</td>\n",
       "      <td>?</td>\n",
       "      <td>L</td>\n",
       "      <td>Marion Silies</td>\n",
       "      <td>Sebastian Molina-Obando</td>\n",
       "      <td>Tm9, Tm9_R, transmedullary neuron Tm9, FBbt_00...</td>\n",
       "      <td>...</td>\n",
       "      <td>V5</td>\n",
       "      <td>Y</td>\n",
       "      <td>N</td>\n",
       "      <td>N</td>\n",
       "      <td>nan</td>\n",
       "      <td>N</td>\n",
       "      <td>?</td>\n",
       "      <td>V</td>\n",
       "      <td>N</td>\n",
       "      <td>N</td>\n",
       "    </tr>\n",
       "  </tbody>\n",
       "</table>\n",
       "<p>5 rows × 27 columns</p>\n",
       "</div>"
      ],
      "text/plain": [
       "                   XYZ-ME symbol                  XYZ-LO quality comment  \\\n",
       "0  63464.0,83140.0,5499.0    Tm9  82124.0,73675.0,5135.0             nan   \n",
       "1  67273.0,85576.0,5497.0    Tm9  84894.0,75635.0,5033.0             nan   \n",
       "2  70063.0,88589.0,5760.0    Tm9  86449.0,78034.0,4816.0             nan   \n",
       "3  65296.0,86194.0,6202.0    Tm9  81554.0,74784.0,4819.0             nan   \n",
       "4  69273.0,86122.0,4826.0    Tm9  88273.0,76603.0,5126.0             nan   \n",
       "\n",
       "  Mi4-connected rim_area (Y/N) hemisphere            lab  \\\n",
       "0           nan              ?          L  Marion Silies   \n",
       "1           nan              ?          L  Marion Silies   \n",
       "2           nan              ?          L  Marion Silies   \n",
       "3           nan              ?          L  Marion Silies   \n",
       "4           nan              ?          L  Marion Silies   \n",
       "\n",
       "                    author                                               name  \\\n",
       "0  Sebastian Molina-Obando  Tm9, Tm9_R, transmedullary neuron Tm9, FBbt_00...   \n",
       "1          Jonas Chojetzki  Tm9, Tm9_R, transmedullary neuron Tm9, FBbt_00...   \n",
       "2  Sebastian Molina-Obando  Tm9, Tm9_R, transmedullary neuron Tm9, FBbt_00...   \n",
       "3  Sebastian Molina-Obando  Tm9, Tm9_R, transmedullary neuron Tm9, FBbt_00...   \n",
       "4  Sebastian Molina-Obando  Tm9, Tm9_R, transmedullary neuron Tm9, FBbt_00...   \n",
       "\n",
       "   ... column_id backbone proofread (Y/N) twigs proofread (Y/N)  \\\n",
       "0  ...        V1                        Y                     N   \n",
       "1  ...        V2                        Y                     Y   \n",
       "2  ...        V3                        Y                     Y   \n",
       "3  ...        V4                        N                     N   \n",
       "4  ...        V5                        Y                     N   \n",
       "\n",
       "  inputs_proofread (Y/N) dark_neurons (Y/N) healthy_L3 (Y/N)  \\\n",
       "0                      N                nan                N   \n",
       "1                      Y                  ?                Y   \n",
       "2                      Y                  Y                N   \n",
       "3                      N                nan                N   \n",
       "4                      N                nan                N   \n",
       "\n",
       "  detached_lamina (Y/N) dorso-ventral rim_area (Y/N))_updated  \\\n",
       "0                     ?             V                       N   \n",
       "1                     Y             V                       N   \n",
       "2                     Y             V                       N   \n",
       "3                     ?             V                       N   \n",
       "4                     ?             V                       N   \n",
       "\n",
       "  rim_area (Y/N)_updated  \n",
       "0                      N  \n",
       "1                      N  \n",
       "2                      N  \n",
       "3                      N  \n",
       "4                      N  \n",
       "\n",
       "[5 rows x 27 columns]"
      ]
     },
     "execution_count": 13,
     "metadata": {},
     "output_type": "execute_result"
    }
   ],
   "source": [
    "# Selecting column for the update and file from which the info comes\n",
    "column_to_update = 'rim_area (Y/N)' # 'inputs_proofread (Y/N)', detached_lamina (Y/N), 'healthy_L3 (Y/N)', 'rim_area (Y/N)'\n",
    "\n",
    "update_file_path = r'D:\\Connectomics-Data\\FlyWire\\Txts\\cell_type_proofread'\n",
    "update_file_with = 'root_ids_Tm9_outer_rim_20231018.txt' # list of ids\n",
    "\n",
    "update_filePath =os.path.join(update_file_path,update_file_with)\n",
    "\n",
    "# extractring info from the specific file\n",
    "update_file_with_df = pd.read_csv(update_filePath)\n",
    "update_file_with_ids_list = update_file_with_df.columns.tolist()\n",
    "\n",
    "# Updating the list \n",
    "df[f'{column_to_update}_updated'] = np.where(df['seg_id'].isin(update_file_with_ids_list), \"Y\", \"N\")\n",
    "df.head()"
   ]
  },
  {
   "cell_type": "code",
   "execution_count": null,
   "id": "29227a00",
   "metadata": {},
   "outputs": [],
   "source": []
  },
  {
   "cell_type": "markdown",
   "id": "f4cf9e85",
   "metadata": {},
   "source": [
    "### 3.2 Or, Based on excel files with ids in a column and extra information in other columns"
   ]
  },
  {
   "cell_type": "code",
   "execution_count": 41,
   "id": "21744074",
   "metadata": {},
   "outputs": [
    {
     "data": {
      "text/html": [
       "<div>\n",
       "<style scoped>\n",
       "    .dataframe tbody tr th:only-of-type {\n",
       "        vertical-align: middle;\n",
       "    }\n",
       "\n",
       "    .dataframe tbody tr th {\n",
       "        vertical-align: top;\n",
       "    }\n",
       "\n",
       "    .dataframe thead th {\n",
       "        text-align: right;\n",
       "    }\n",
       "</style>\n",
       "<table border=\"1\" class=\"dataframe\">\n",
       "  <thead>\n",
       "    <tr style=\"text-align: right;\">\n",
       "      <th></th>\n",
       "      <th>XYZ-ME</th>\n",
       "      <th>XYZ-LO</th>\n",
       "      <th>Updated_seg_id</th>\n",
       "      <th>seg_id</th>\n",
       "    </tr>\n",
       "  </thead>\n",
       "  <tbody>\n",
       "    <tr>\n",
       "      <th>0</th>\n",
       "      <td>63464.0,83140.0,5499.0</td>\n",
       "      <td>82124.0,73675.0,5135.0</td>\n",
       "      <td>720575940631867211</td>\n",
       "      <td>720575940631867211</td>\n",
       "    </tr>\n",
       "    <tr>\n",
       "      <th>1</th>\n",
       "      <td>67273.0,85576.0,5497.0</td>\n",
       "      <td>84894.0,75635.0,5033.0</td>\n",
       "      <td>720575940629938298</td>\n",
       "      <td>720575940629938298</td>\n",
       "    </tr>\n",
       "    <tr>\n",
       "      <th>2</th>\n",
       "      <td>70063.0,88589.0,5760.0</td>\n",
       "      <td>86449.0,78034.0,4816.0</td>\n",
       "      <td>720575940619904728</td>\n",
       "      <td>720575940619904728</td>\n",
       "    </tr>\n",
       "    <tr>\n",
       "      <th>3</th>\n",
       "      <td>65296.0,86194.0,6202.0</td>\n",
       "      <td>81554.0,74784.0,4819.0</td>\n",
       "      <td>720575940626539592</td>\n",
       "      <td>720575940626539592</td>\n",
       "    </tr>\n",
       "    <tr>\n",
       "      <th>4</th>\n",
       "      <td>69273.0,86122.0,4826.0</td>\n",
       "      <td>88273.0,76603.0,5126.0</td>\n",
       "      <td>720575940616954181</td>\n",
       "      <td>720575940616954181</td>\n",
       "    </tr>\n",
       "  </tbody>\n",
       "</table>\n",
       "</div>"
      ],
      "text/plain": [
       "                   XYZ-ME                  XYZ-LO      Updated_seg_id  \\\n",
       "0  63464.0,83140.0,5499.0  82124.0,73675.0,5135.0  720575940631867211   \n",
       "1  67273.0,85576.0,5497.0  84894.0,75635.0,5033.0  720575940629938298   \n",
       "2  70063.0,88589.0,5760.0  86449.0,78034.0,4816.0  720575940619904728   \n",
       "3  65296.0,86194.0,6202.0  81554.0,74784.0,4819.0  720575940626539592   \n",
       "4  69273.0,86122.0,4826.0  88273.0,76603.0,5126.0  720575940616954181   \n",
       "\n",
       "               seg_id  \n",
       "0  720575940631867211  \n",
       "1  720575940629938298  \n",
       "2  720575940619904728  \n",
       "3  720575940626539592  \n",
       "4  720575940616954181  "
      ]
     },
     "execution_count": 41,
     "metadata": {},
     "output_type": "execute_result"
    }
   ],
   "source": [
    "# Selecting column for the update and file from which the info comes\n",
    "#For XYZ columns\n",
    "update_file_path = r'E:\\Connectomics-Data\\FlyWire\\Excels'\n",
    "update_file_with = f'XYZ_df_{date}.xlsx'\n",
    "update_filePath =os.path.join(update_file_path,update_file_with)\n",
    "\n",
    "# extractring info from the specific file\n",
    "update_file_with_df = pd.read_excel(update_filePath)\n",
    "update_file_with_df.head()\n"
   ]
  },
  {
   "cell_type": "code",
   "execution_count": 42,
   "id": "c45b9b1c",
   "metadata": {},
   "outputs": [],
   "source": [
    "#Transfering info from one dataframe to another based on a reference column (here seg_id)\n",
    "def update_dataframe_single_column(source_df, target_df, reference_column):\n",
    "    # Create a dictionary mapping from the reference column to the source DataFrame\n",
    "    reference_dict = source_df.groupby(reference_column).first().reset_index().to_dict(orient='records')\n",
    "    reference_dict = {row[reference_column]: row for row in reference_dict}\n",
    "\n",
    "    # Update the target DataFrame based on the reference column\n",
    "    for i, row in target_df.iterrows():\n",
    "        ref = row[reference_column]\n",
    "        if ref in reference_dict:\n",
    "            source_row = reference_dict[ref]\n",
    "            target_df.loc[i] = source_row\n",
    "\n",
    "    return target_df"
   ]
  },
  {
   "cell_type": "code",
   "execution_count": 43,
   "id": "1f03a6dd",
   "metadata": {},
   "outputs": [
    {
     "data": {
      "text/html": [
       "<div>\n",
       "<style scoped>\n",
       "    .dataframe tbody tr th:only-of-type {\n",
       "        vertical-align: middle;\n",
       "    }\n",
       "\n",
       "    .dataframe tbody tr th {\n",
       "        vertical-align: top;\n",
       "    }\n",
       "\n",
       "    .dataframe thead th {\n",
       "        text-align: right;\n",
       "    }\n",
       "</style>\n",
       "<table border=\"1\" class=\"dataframe\">\n",
       "  <thead>\n",
       "    <tr style=\"text-align: right;\">\n",
       "      <th></th>\n",
       "      <th>XYZ-ME</th>\n",
       "      <th>XYZ-LO</th>\n",
       "      <th>seg_id</th>\n",
       "    </tr>\n",
       "  </thead>\n",
       "  <tbody>\n",
       "    <tr>\n",
       "      <th>0</th>\n",
       "      <td>63464.0,83140.0,5499.0</td>\n",
       "      <td>82124.0,73675.0,5135.0</td>\n",
       "      <td>720575940631867211</td>\n",
       "    </tr>\n",
       "    <tr>\n",
       "      <th>1</th>\n",
       "      <td>67273.0,85576.0,5497.0</td>\n",
       "      <td>84894.0,75635.0,5033.0</td>\n",
       "      <td>720575940629938298</td>\n",
       "    </tr>\n",
       "    <tr>\n",
       "      <th>2</th>\n",
       "      <td>70063.0,88589.0,5760.0</td>\n",
       "      <td>86449.0,78034.0,4816.0</td>\n",
       "      <td>720575940619904728</td>\n",
       "    </tr>\n",
       "    <tr>\n",
       "      <th>3</th>\n",
       "      <td>65296.0,86194.0,6202.0</td>\n",
       "      <td>81554.0,74784.0,4819.0</td>\n",
       "      <td>720575940626539592</td>\n",
       "    </tr>\n",
       "    <tr>\n",
       "      <th>4</th>\n",
       "      <td>69273.0,86122.0,4826.0</td>\n",
       "      <td>88273.0,76603.0,5126.0</td>\n",
       "      <td>720575940616954181</td>\n",
       "    </tr>\n",
       "  </tbody>\n",
       "</table>\n",
       "</div>"
      ],
      "text/plain": [
       "                   XYZ-ME                  XYZ-LO              seg_id\n",
       "0  63464.0,83140.0,5499.0  82124.0,73675.0,5135.0  720575940631867211\n",
       "1  67273.0,85576.0,5497.0  84894.0,75635.0,5033.0  720575940629938298\n",
       "2  70063.0,88589.0,5760.0  86449.0,78034.0,4816.0  720575940619904728\n",
       "3  65296.0,86194.0,6202.0  81554.0,74784.0,4819.0  720575940626539592\n",
       "4  69273.0,86122.0,4826.0  88273.0,76603.0,5126.0  720575940616954181"
      ]
     },
     "execution_count": 43,
     "metadata": {},
     "output_type": "execute_result"
    }
   ],
   "source": [
    "# Function inputs\n",
    "source_cols = ['XYZ-ME', 'XYZ-LO','seg_id']\n",
    "target_cols = ['XYZ-ME', 'XYZ-LO','seg_id']\n",
    "reference_column = 'seg_id'\n",
    "\n",
    "# Selecting dataframes and resetting index\n",
    "source_df = update_file_with_df[source_cols].copy()\n",
    "source_df.reset_index(inplace = True, drop = True)\n",
    "target_df = df[target_cols].copy()\n",
    "target_df.reset_index(inplace = True, drop = True)\n",
    "\n",
    "\n",
    "source_df = source_df.astype(str)\n",
    "target_df = target_df.astype(str)\n",
    "\n",
    "# Running the function and compleating the dataset\n",
    "result_df = update_dataframe_single_column(source_df, target_df,reference_column)\n",
    "result_df.head()"
   ]
  },
  {
   "cell_type": "code",
   "execution_count": 44,
   "id": "ff1b5f30",
   "metadata": {},
   "outputs": [],
   "source": [
    "# Creating string for the date\n",
    "import datetime\n",
    "x = datetime.datetime.now()\n",
    "date_str = x.strftime(\"%d\") + x.strftime(\"%b\") + x.strftime(\"%Y\")\n",
    "\n",
    "# Writting in an existing excel file\n",
    "from openpyxl import load_workbook\n",
    "book = load_workbook(filePath)\n",
    "writer = pd.ExcelWriter(filePath, engine = 'openpyxl')\n",
    "writer.book = book\n",
    "\n",
    "result_df = result_df.astype(str)\n",
    "result_df.to_excel(writer, sheet_name='Updated_table_'+date_str) #sorted_df\n",
    "writer.save()\n",
    "writer.close()"
   ]
  },
  {
   "cell_type": "markdown",
   "id": "739fef16",
   "metadata": {},
   "source": [
    "### 3. If wished: Add the center of mass of postsynaptic sites"
   ]
  },
  {
   "cell_type": "code",
   "execution_count": 15,
   "id": "d0981b30",
   "metadata": {},
   "outputs": [],
   "source": [
    "#Function\n",
    "def find_center_point(points, threshold):\n",
    "    if isinstance(points, list):\n",
    "        points = np.array(points)\n",
    "\n",
    "    # Calculate the distances between each point and all other points\n",
    "    distances = np.linalg.norm(points[:, np.newaxis] - points, axis=2)\n",
    "\n",
    "    # Calculate the average distance for each point\n",
    "    avg_distances = np.mean(distances, axis=1)\n",
    "\n",
    "    # Find the indices of points within the threshold distance\n",
    "    valid_indices = np.where(avg_distances < threshold)[0]\n",
    "\n",
    "    # Check if there are any valid points\n",
    "    if len(valid_indices) > 0:\n",
    "        # Calculate the geometric center of valid points\n",
    "        center_point = np.mean(points[valid_indices], axis=0)\n",
    "        #Rounding\n",
    "        center_point = np.round(center_point, decimals=1)\n",
    "        \n",
    "        # Find the closest point to the center\n",
    "        closest_point_index = np.argmin(np.linalg.norm(points[valid_indices] - center_point, axis=1))\n",
    "        closest_point = points[valid_indices][closest_point_index]\n",
    "    else:\n",
    "        center_point = np.array([0,0,0])\n",
    "        closest_point = np.array([0,0,0])\n",
    "\n",
    "    return center_point.tolist(), closest_point.tolist()"
   ]
  },
  {
   "cell_type": "code",
   "execution_count": 16,
   "id": "ae449638",
   "metadata": {},
   "outputs": [],
   "source": [
    "def combine_xyz(df):\n",
    "    \"\"\"\n",
    "    Combines separated x, y and z column into one, changes units and adds new column names for\n",
    "    generating a neuroglancer link with function nglui.statebuilder.helpers.make_synapse_neuroglancer_link\n",
    "\n",
    "    Args:\n",
    "        pandas data frame containing x,y and z as columns of the same length\n",
    "\n",
    "    Returns:\n",
    "        same pandas data frame containing a new column with [x/4,y/4,z/40] lists\n",
    "    \"\"\"\n",
    "    # Generating the single column\n",
    "\n",
    "    post_pt_position = []\n",
    "    for x,y,z in zip(df['post_x'].tolist(),df['post_y'].tolist(),df['post_z'].tolist()):\n",
    "        temp_ls = [x/4,y/4,z/40]\n",
    "        post_pt_position.append(temp_ls)\n",
    "\n",
    "    pre_pt_position = []\n",
    "    for x,y,z in zip(df['pre_x'].tolist(),df['pre_y'].tolist(),df['pre_z'].tolist()):\n",
    "        temp_ls = [x/4,y/4,z/40]\n",
    "        pre_pt_position.append(temp_ls)\n",
    "\n",
    "    #Adding new columns and names\n",
    "    df['post_pt_position'] = post_pt_position\n",
    "    df['pre_pt_position'] = pre_pt_position\n",
    "    #Changing column names\n",
    "    df.rename(columns={'pre': 'pre_pt_root_id', 'post': 'post_pt_root_id'}, inplace=True)"
   ]
  },
  {
   "cell_type": "code",
   "execution_count": 17,
   "id": "9273ee11",
   "metadata": {},
   "outputs": [],
   "source": [
    "#Loading postsynaptic coordinated for each neuron in a specific neuropile and getting the center point\n",
    "#The loop can take quite a lot of time depending on the ammount of ids!\n",
    "\n",
    "\n",
    "#Looping for several rounds of X (e.g, 100)\n",
    "rounds_of = 100\n",
    "loop_number = 1 # Must start at \"1\" if not run before\n",
    "start_point = (rounds_of*loop_number) - rounds_of\n",
    " \n",
    "#Shortening the df to priorize id:\n",
    "\n",
    "#short_df = df[(df['detached_lamina (Y/N)'] == 'N') &(df['inputs_proofread (Y/N)'] == 'Y')].copy()\n",
    "short_df = df[df['XYZ-ME'] == 'nan'].copy()"
   ]
  },
  {
   "cell_type": "code",
   "execution_count": 18,
   "id": "e8e6bde7",
   "metadata": {},
   "outputs": [
    {
     "data": {
      "text/plain": [
       "24"
      ]
     },
     "execution_count": 18,
     "metadata": {},
     "output_type": "execute_result"
    }
   ],
   "source": [
    "len(short_df)"
   ]
  },
  {
   "cell_type": "code",
   "execution_count": 19,
   "id": "95279bc9",
   "metadata": {},
   "outputs": [
    {
     "data": {
      "text/plain": [
       "0"
      ]
     },
     "execution_count": 19,
     "metadata": {},
     "output_type": "execute_result"
    }
   ],
   "source": [
    "round(len(short_df)/rounds_of)"
   ]
  },
  {
   "cell_type": "code",
   "execution_count": 21,
   "id": "43baa13c",
   "metadata": {},
   "outputs": [
    {
     "name": "stdout",
     "output_type": "stream",
     "text": [
      "Loop #: 1\n",
      "currently at: 720575940627437443\n",
      "currently at: 720575940631341100\n",
      "currently at: 720575940628746664\n",
      "currently at: 720575940638219120\n",
      "currently at: 720575940619127124\n",
      "currently at: 720575940638124265\n",
      "currently at: 720575940634654945\n",
      "currently at: 720575940632399119\n",
      "currently at: 720575940619126868\n",
      "currently at: 720575940614403043\n",
      "currently at: 720575940618919837\n",
      "currently at: 720575940619127892\n",
      "currently at: 720575940638187120\n",
      "currently at: 720575940615083048\n",
      "currently at: 720575940629702699\n",
      "currently at: 720575940623843085\n",
      "currently at: 720575940616973836\n",
      "currently at: 720575940615231697\n",
      "currently at: 720575940619128148\n",
      "currently at: 720575940627221239\n",
      "currently at: 720575940628377363\n",
      "currently at: 720575940628837909\n",
      "currently at: 720575940623214583\n",
      "currently at: 720575940629697502\n"
     ]
    }
   ],
   "source": [
    "# Looping across chosen rows\n",
    "\n",
    "import datetime\n",
    "x = datetime.datetime.now()\n",
    "date_str = x.strftime(\"%d\") + x.strftime(\"%b\") + x.strftime(\"%Y\")\n",
    "\n",
    "for i in range(loop_number, round(len(short_df)/rounds_of)+2):\n",
    "    print(f'Loop #: {loop_number}')\n",
    "    curr_df = short_df[start_point:start_point+rounds_of].copy()\n",
    "    curr_df.reset_index(inplace=True,drop=True)\n",
    "\n",
    "    XYZ_ME = []\n",
    "    XYZ_LO = []\n",
    "    for seg_id in curr_df[\"Updated_seg_id\"]:\n",
    "\n",
    "        #Print\n",
    "        print(f'currently at: {seg_id}')\n",
    "        # Getting coordinates of synaptic contacts\n",
    "        neurons_inputs = flywire.synapses.fetch_synapses(seg_id, pre=False, post=True, attach=True, \n",
    "                                                     min_score=50, clean=True, transmitters=False, \n",
    "                                                     neuropils=True, batch_size=30, \n",
    "                                                     dataset='production', progress=True,mat= \"live\")\n",
    "        combine_xyz(neurons_inputs)\n",
    "        threshold = 5000\n",
    "\n",
    "        try:\n",
    "            #Find the center point with medulla coordinates\n",
    "            neurons_inputs_ME = neurons_inputs[neurons_inputs['neuropil'].str.contains('ME')].copy()\n",
    "            points = neurons_inputs_ME['post_pt_position'].tolist()\n",
    "            center_point, closest_point = find_center_point(points, threshold)\n",
    "            XYZ_ME.append(closest_point)\n",
    "        except: # to catch some point clouds that have no ME \n",
    "            XYZ_ME.append([0,0,0])\n",
    "            \n",
    "        try:\n",
    "            #Find the center point with lobula coordinates\n",
    "            neurons_inputs_LO = neurons_inputs[neurons_inputs['neuropil'].str.contains('LO')].copy()\n",
    "            points = neurons_inputs_LO['post_pt_position'].tolist()\n",
    "            center_point, closest_point = find_center_point(points, threshold)\n",
    "            XYZ_LO.append(closest_point)\n",
    "        except: # to catch some point clouds that have no LO labels\n",
    "            XYZ_LO.append([0,0,0])\n",
    "            \n",
    "\n",
    "    XYZ_LO_strings = [','.join(map(str, sublist)) for sublist in XYZ_LO]\n",
    "    XYZ_ME_strings = [','.join(map(str, sublist)) for sublist in XYZ_ME]\n",
    "\n",
    "    #saving\n",
    "    XYZ_df = pd.DataFrame(XYZ_ME_strings, columns=['XYZ-ME'])\n",
    "    XYZ_df['XYZ-LO'] = XYZ_LO_strings\n",
    "    XYZ_df['Updated_seg_id'] =  curr_df['Updated_seg_id']\n",
    "    XYZ_df['seg_id'] =  curr_df['seg_id']\n",
    "    XYZ_df.to_excel(f'D:\\Connectomics-Data\\FlyWire\\Excels\\drive-data-sets\\XYZ_df_{loop_number}_{date_str}.xlsx', index=False)\n",
    "    start_point += rounds_of\n",
    "    loop_number += 1\n"
   ]
  },
  {
   "cell_type": "code",
   "execution_count": null,
   "id": "eab095e8",
   "metadata": {},
   "outputs": [],
   "source": [
    "\n",
    "## Testing function with some manually inserted dots\n",
    "import numpy as np\n",
    "import matplotlib.pyplot as plt\n",
    "\n",
    "# Example XYZ coordinates\n",
    "points = [\n",
    "    [66659, 85714, 5406],\n",
    "    [66885, 85749, 5367],\n",
    "    [67124, 86454, 5390],\n",
    "    [67664, 86251, 5434],\n",
    "    [67273, 85576, 5497],\n",
    "    [66399, 85482, 5428],\n",
    "    [66803, 85360, 5477],\n",
    "    [66505, 85552, 5413],\n",
    "    [66772, 85838, 5450],\n",
    "    [66496, 85540, 5402],\n",
    "    [72452, 82402, 5694],\n",
    "    [75373, 80809, 5808]\n",
    "]\n",
    "\n",
    "points = neurons_inputs_LO['post_pt_position'].tolist()\n",
    "\n",
    "# Convert the points to a NumPy array\n",
    "points = np.array(points)\n",
    "\n",
    "# Set the threshold distance to exclude outliers\n",
    "threshold = 5000\n",
    "\n",
    "# Find the center point\n",
    "center_point, closest_point  = find_center_point(points, threshold)\n",
    "\n",
    "if center_point is not None:\n",
    "    print(\"Center Point:\", center_point)\n",
    "else:\n",
    "    print(\"No valid points within the threshold.\")\n",
    "\n",
    "# Plotting the points and center point\n",
    "fig = plt.figure()\n",
    "ax = fig.add_subplot(111, projection='3d')\n",
    "\n",
    "# Scatter plot for the points\n",
    "ax.scatter(points[:, 0], points[:, 1], points[:, 2], c='y', label='Points')\n",
    "\n",
    "# Scatter plot for the center point\n",
    "if center_point is not None:\n",
    "    ax.scatter(center_point[0], center_point[1], center_point[2], c='r', marker='x', label='Center Point')\n",
    "    ax.scatter(closest_point [0], closest_point [1], closest_point [2], c='b', marker='x', label='closest_point')\n",
    "\n",
    "ax.set_xlabel('X')\n",
    "ax.set_ylabel('Y')\n",
    "ax.set_zlabel('Z')\n",
    "ax.legend()\n",
    "\n",
    "plt.show()"
   ]
  },
  {
   "cell_type": "markdown",
   "id": "2491c222",
   "metadata": {},
   "source": [
    "### 4. Saving back to excel file"
   ]
  },
  {
   "cell_type": "code",
   "execution_count": 23,
   "id": "c2c3d919",
   "metadata": {},
   "outputs": [],
   "source": [
    "\n",
    "# Creating string for the date\n",
    "import datetime\n",
    "x = datetime.datetime.now()\n",
    "date_str = x.strftime(\"%d\") + x.strftime(\"%b\") + x.strftime(\"%Y\")\n",
    "\n",
    "# Writting in an existing excel file\n",
    "from openpyxl import load_workbook\n",
    "book = load_workbook(filePath)\n",
    "writer = pd.ExcelWriter(filePath, engine = 'openpyxl')\n",
    "writer.book = book\n",
    "\n",
    "df.to_excel(writer, sheet_name='Updated_table_'+date_str) #sorted_df\n",
    "writer.save()\n",
    "writer.close()"
   ]
  },
  {
   "cell_type": "markdown",
   "id": "b2d7f6e1",
   "metadata": {},
   "source": [
    "# C) Updating of list of IDs from a txt file / or a plain excell file\n"
   ]
  },
  {
   "cell_type": "markdown",
   "id": "f15d87d5",
   "metadata": {},
   "source": [
    "### 1. Loading the data from a txt file"
   ]
  },
  {
   "cell_type": "code",
   "execution_count": 19,
   "id": "fccc343d",
   "metadata": {},
   "outputs": [
    {
     "name": "stdout",
     "output_type": "stream",
     "text": [
      "['720575940605979424', '720575940609569237', '720575940612006350', '720575940618051001', '720575940618588075', '720575940619160405', '720575940619505243', '720575940619640280', '720575940620650155', '720575940621086452', '720575940621216577', '720575940626427024', '720575940626640539', '720575940627721295', '720575940627764105', '720575940628252871', '720575940628402760', '720575940628781111', '720575940630084986', '720575940630311954', '720575940630683961', '720575940635666356', '720575940637730394', '720575940645114647', '720575940645352471', '720575940603809452', '720575940603915436', '720575940604529580', '720575940604711392', '720575940604721376', '720575940604837344', '720575940604892640', '720575940605026784', '720575940605225900', '720575940605293698', '720575940605454025', '720575940605678270', '720575940605952433', '720575940606290121', '720575940606337969', '720575940606502066', '720575940606553289', '720575940606790834', '720575940606839218', '720575940606855177', '720575940606915714', '720575940607223218', '720575940607244489', '720575940607258891', '720575940607332226', '720575940607638108', '720575940607670229', '720575940608403651', '720575940608616149', '720575940608683100', '720575940608686684', '720575940608816067', '720575940609069251', '720575940609096971', '720575940609098965', '720575940609160713', '720575940609233163', '720575940609239305', '720575940609355054', '720575940609570168', '720575940609706820', '720575940609719509', '720575940610029870', '720575940610212420', '720575940610480248', '720575940610538030', '720575940610675064', '720575940610718869', '720575940610911864', '720575940610914258', '720575940610937646', '720575940611244714', '720575940611363426', '720575940611481954', '720575940611588194', '720575940611658482', '720575940611892885', '720575940611999385', '720575940612116337', '720575940612366061', '720575940612417429', '720575940612420338', '720575940612553957', '720575940612566954', '720575940612575717', '720575940612621590', '720575940612630642', '720575940612635122', '720575940612643034', '720575940612654632', '720575940612663722', '720575940612673498', '720575940612743410', '720575940612761598', '720575940612810905', '720575940612825241', '720575940612832749', '720575940612846643', '720575940612957747', '720575940612986902', '720575940613072754', '720575940613131890', '720575940613215697', '720575940613277165', '720575940613389795', '720575940613436182', '720575940613475537', '720575940613740072', '720575940613799395', '720575940613884847', '720575940613919784', '720575940613985576', '720575940614048749', '720575940614082867', '720575940614166690', '720575940614208977', '720575940614274302', '720575940614301905', '720575940614318754', '720575940614345110', '720575940614361263', '720575940614416815', '720575940614424062', '720575940614556822', '720575940614557351', '720575940614563734', '720575940614609617', '720575940614615362', '720575940614653950', '720575940614826130', '720575940614844562', '720575940614844603', '720575940614876583', '720575940614973115', '720575940614976443', '720575940615005590', '720575940615096231', '720575940615359638', '720575940615403231', '720575940615514262', '720575940615567682', '720575940615820703', '720575940615857631', '720575940616031903', '720575940616063093', '720575940616067378', '720575940616143922', '720575940616161241', '720575940616167837', '720575940616270619', '720575940616334011', '720575940616338619', '720575940616382258', '720575940616399666', '720575940616401337', '720575940616472507', '720575940616706354', '720575940616903451', '720575940616918785', '720575940616937589', '720575940616970713', '720575940616970838', '720575940617051348', '720575940617051682', '720575940617055062', '720575940617207645', '720575940617259893', '720575940617269846', '720575940617276372', '720575940617283217', '720575940617283899', '720575940617332258', '720575940617399809', '720575940617411933', '720575940617448029', '720575940617525204', '720575940617577019', '720575940617594146', '720575940617604564', '720575940617605593', '720575940617618388', '720575940617727389', '720575940617743389', '720575940617745620', '720575940617762973', '720575940617790491', '720575940617823355', '720575940617842459', '720575940617857025', '720575940617859677', '720575940617875869', '720575940617951316', '720575940618016925', '720575940618025629', '720575940618044187', '720575940618071325', '720575940618077725', '720575940618201371', '720575940618242102', '720575940618345217', '720575940618350808', '720575940618381515', '720575940618417477', '720575940618446912', '720575940618512197', '720575940618517662', '720575940618528203', '720575940618547649', '720575940618557248', '720575940618645589', '720575940618681920', '720575940618718288', '720575940618858294', '720575940618881694', '720575940618936645', '720575940618985630', '720575940619006366', '720575940619037972', '720575940619060638', '720575940619114004', '720575940619184192', '720575940619234496', '720575940619432920', '720575940619505902', '720575940619526198', '720575940619604534', '720575940619659093', '720575940619661141', '720575940619690968', '720575940619717717', '720575940619729648', '720575940619737453', '720575940619748517', '720575940619781729', '720575940619782054', '720575940619823153', '720575940619859915', '720575940619873377', '720575940619880395', '720575940619921232', '720575940619966902', '720575940620011467', '720575940620011736', '720575940620037205', '720575940620047124', '720575940620139467', '720575940620153536', '720575940620156551', '720575940620191508', '720575940620226580', '720575940620250759', '720575940620305334', '720575940620306452', '720575940620312779', '720575940620386031', '720575940620404389', '720575940620414912', '720575940620496331', '720575940620526245', '720575940620581766', '720575940620705886', '720575940620814575', '720575940620834286', '720575940620847526', '720575940620849078', '720575940620854766', '720575940620866657', '720575940620875373', '720575940620876453', '720575940621064052', '720575940621119414', '720575940621135621', '720575940621137318', '720575940621189473', '720575940621197132', '720575940621213936', '720575940621217670', '720575940621253708', '720575940621255521', '720575940621330414', '720575940621333231', '720575940621373616', '720575940621382638', '720575940621385654', '720575940621386264', '720575940621401438', '720575940621437249', '720575940621522598', '720575940621536609', '720575940621554181', '720575940621615220', '720575940621711365', '720575940621724276', '720575940621725587', '720575940621766388', '720575940621819980', '720575940621849699', '720575940621908506', '720575940621953797', '720575940622058480', '720575940622066721', '720575940622072959', '720575940622073093', '720575940622092253', '720575940622124070', '720575940622139076', '720575940622181756', '720575940622191393', '720575940622199748', '720575940622335114', '720575940622360188', '720575940622429168', '720575940622430284', '720575940622431564', '720575940622478836', '720575940622508876', '720575940622509556', '720575940622596777', '720575940622631351', '720575940622740999', '720575940622883220', '720575940622900265', '720575940622928739', '720575940622947401', '720575940622996504', '720575940623115363', '720575940623207688', '720575940623234317', '720575940623271562', '720575940623276938', '720575940623309960', '720575940623332232', '720575940623354348', '720575940623368547', '720575940623393930', '720575940623401962', '720575940623491476', '720575940623495364', '720575940623505348', '720575940623508627', '720575940623510221', '720575940623573687', '720575940623692326', '720575940623788031', '720575940623801343', '720575940623972791', '720575940624008373', '720575940624019637', '720575940624033318', '720575940624058119', '720575940624066539', '720575940624084116', '720575940624084203', '720575940624101158', '720575940624151492', '720575940624243639', '720575940624291657', '720575940624301287', '720575940624309256', '720575940624338215', '720575940624354121', '720575940624362424', '720575940624362749', '720575940624400823', '720575940624412651', '720575940624418045', '720575940624422141', '720575940624443912', '720575940624446647', '720575940624453268', '720575940624498869', '720575940624623804', '720575940624643336', '720575940624697748', '720575940624715244', '720575940624762004', '720575940624837671', '720575940624840179', '720575940624883388', '720575940624924600', '720575940624932282', '720575940624936974', '720575940625044716', '720575940625144624', '720575940625177628', '720575940625241580', '720575940625267640', '720575940625311124', '720575940625379854', '720575940625388365', '720575940625426981', '720575940625444697', '720575940625450940', '720575940625456461', '720575940625461735', '720575940625577060', '720575940625606328', '720575940625621808', '720575940625769264', '720575940625823162', '720575940625838128', '720575940625838885', '720575940625879433', '720575940625882768', '720575940625916965', '720575940625931045', '720575940625934896', '720575940625947173', '720575940625961509', '720575940625963085', '720575940625994515', '720575940626043180', '720575940626099493', '720575940626138314', '720575940626174553', '720575940626185104', '720575940626195006', '720575940626208714', '720575940626223934', '720575940626237584', '720575940626250384', '720575940626271674', '720575940626280344', '720575940626329893', '720575940626395394', '720575940626487677', '720575940626487829', '720575940626553231', '720575940626735209', '720575940626783687', '720575940626877061', '720575940626891522', '720575940626898072', '720575940626901593', '720575940626973053', '720575940626976664', '720575940626981962', '720575940627024536', '720575940627146042', '720575940627147066', '720575940627158545', '720575940627262553', '720575940627287890', '720575940627312773', '720575940627315845', '720575940627320914', '720575940627321118', '720575940627359802', '720575940627397223', '720575940627401353', '720575940627404053', '720575940627464734', '720575940627522898', '720575940627526140', '720575940627539755', '720575940627565650', '720575940627567620', '720575940627591503', '720575940627594236', '720575940627635837', '720575940627671177', '720575940627703046', '720575940627754492', '720575940627762965', '720575940627777297', '720575940627781019', '720575940627793482', '720575940627882773', '720575940627894088', '720575940627901864', '720575940627974406', '720575940627986821', '720575940628020303', '720575940628038376', '720575940628096232', '720575940628098728', '720575940628145064', '720575940628206023', '720575940628225847', '720575940628230659', '720575940628275528', '720575940628320811', '720575940628335432', '720575940628392859', '720575940628398441', '720575940628487440', '720575940628492806', '720575940628504828', '720575940628540904', '720575940628586737', '720575940628596739', '720575940628598633', '720575940628621052', '720575940628661803', '720575940628690179', '720575940628696838', '720575940628729360', '720575940628809259', '720575940628813571', '720575940628824835', '720575940628903723', '720575940628965873', '720575940628973130', '720575940629059287', '720575940629062555', '720575940629074170', '720575940629093737', '720575940629314754', '720575940629339756', '720575940629431314', '720575940629465047', '720575940629510903', '720575940629600335', '720575940629611002', '720575940629650519', '720575940629662311', '720575940629743738', '720575940629780224', '720575940629794616', '720575940629819845', '720575940629820571', '720575940629837671', '720575940629897015', '720575940629966380', '720575940629976594', '720575940630142658', '720575940630150394', '720575940630159916', '720575940630184234', '720575940630196480', '720575940630236375', '720575940630250711', '720575940630255324', '720575940630281527', '720575940630310999', '720575940630371287', '720575940630379562', '720575940630391162', '720575940630584313', '720575940630669568', '720575940630687483', '720575940630741468', '720575940630761979', '720575940630764283', '720575940630807503', '720575940630821676', '720575940630833093', '720575940630834280', '720575940630869315', '720575940630876984', '720575940630881420', '720575940630936151', '720575940630948695', '720575940631147215', '720575940631169551', '720575940631213563', '720575940631236347', '720575940631254156', '720575940631298245', '720575940631305676', '720575940631375435', '720575940631389241', '720575940631404239', '720575940631475287', '720575940631505739', '720575940631558483', '720575940631567045', '720575940631573037', '720575940631575338', '720575940631580613', '720575940631595660', '720575940631624515', '720575940631645836', '720575940631734840', '720575940631741507', '720575940631751215', '720575940631783747', '720575940631801642', '720575940631849576', '720575940631939395', '720575940631956051', '720575940632049423', '720575940632059192', '720575940632080170', '720575940632146828', '720575940632258786', '720575940632269639', '720575940632326370', '720575940632344936', '720575940632358030', '720575940632389432', '720575940632389480', '720575940632411556', '720575940632478291', '720575940632611399', '720575940632704047', '720575940632737567', '720575940632786124', '720575940632791087', '720575940632934308', '720575940633053357', '720575940633225676', '720575940633247652', '720575940633288032', '720575940633332947', '720575940633490830', '720575940633491342', '720575940633593057', '720575940633598689', '720575940633612205', '720575940633878623', '720575940633888910', '720575940633905038', '720575940633916814', '720575940634015630', '720575940634177250', '720575940634286818', '720575940634678112', '720575940634794138', '720575940634809696', '720575940634848151', '720575940634990746', '720575940634997695', '720575940635070911', '720575940635181978', '720575940635204759', '720575940635237271', '720575940635308479', '720575940635371662', '720575940635380079', '720575940635490495', '720575940635528184', '720575940635554296', '720575940635582399', '720575940635598443', '720575940635715252', '720575940635961336', '720575940636024687', '720575940636043127', '720575940636278903', '720575940636554462', '720575940636556004', '720575940636564622', '720575940636616334', '720575940636685198', '720575940636723118', '720575940636748462', '720575940636783790', '720575940636804442', '720575940637016206', '720575940637035918', '720575940637072240', '720575940637124464', '720575940637800245', '720575940637830709', '720575940637937385', '720575940638007898', '720575940638029284', '720575940638073919', '720575940638083038', '720575940638137151', '720575940638175977', '720575940638199615', '720575940638210613', '720575940638362813', '720575940638449380', '720575940638491224', '720575940638637894', '720575940638654271', '720575940638687814', '720575940638774086', '720575940638811982', '720575940638864829', '720575940639135165', '720575940639183549', '720575940639205464', '720575940639237173', '720575940639385397', '720575940639409998', '720575940639470013', '720575940639472984', '720575940639571875', '720575940639779005', '720575940639931709', '720575940640275773', '720575940640318883', '720575940640395891', '720575940640755408', '720575940641254452', '720575940641298640', '720575940641548251', '720575940641742581', '720575940642040309', '720575940642182619', '720575940642264461', '720575940642663584', '720575940643245335', '720575940643505312', '720575940643561582', '720575940643576736', '720575940643897760', '720575940644104352', '720575940644287524', '720575940644330912', '720575940644356296', '720575940644576804', '720575940644697124', '720575940645266542', '720575940645548852', '720575940645581166', '720575940646263860', '720575940646696227', '720575940646790532', '720575940646811444', '720575940646844451', '720575940646888500', '720575940647352884', '720575940647457412', '720575940647759748', '720575940649191289', '720575940649752441', '720575940649804153', '720575940649888377', '720575940650017401', '720575940652519926', '720575940653550753', '720575940660114305', '720575940660273537']\n"
     ]
    }
   ],
   "source": [
    "# Choose path and file\n",
    "dataPath = r'C:\\Users\\smolina\\Connectomics-Data\\FlyWire\\Txts\\cell_type_proofread'\n",
    "fileDate = '20230906'\n",
    "fileName = f'root_ids_marker_olr_type_Tm20_{fileDate}.txt'\n",
    "#fileName = f'temp.txt'\n",
    "filePath = os.path.join(dataPath,fileName)\n",
    "ids_df = pd.read_csv(filePath, sep = \",\")\n",
    "curr_ID_ls = ids_df.columns.tolist()\n",
    "print(curr_ID_ls)"
   ]
  },
  {
   "cell_type": "code",
   "execution_count": 20,
   "id": "0942b39b",
   "metadata": {},
   "outputs": [
    {
     "data": {
      "application/vnd.jupyter.widget-view+json": {
       "model_id": "",
       "version_major": 2,
       "version_minor": 0
      },
      "text/plain": [
       "Updating:   0%|          | 0/733 [00:00<?, ?it/s]"
      ]
     },
     "metadata": {},
     "output_type": "display_data"
    }
   ],
   "source": [
    "#Updating the IDs via Fafbseg\n",
    "updated_ID_df = fafbseg.flywire.update_ids(curr_ID_ls, stop_layer=2, supervoxels=None, timestamp=None, dataset='production', progress=True)"
   ]
  },
  {
   "cell_type": "code",
   "execution_count": 21,
   "id": "c1f4b228",
   "metadata": {},
   "outputs": [
    {
     "data": {
      "text/html": [
       "<div>\n",
       "<style scoped>\n",
       "    .dataframe tbody tr th:only-of-type {\n",
       "        vertical-align: middle;\n",
       "    }\n",
       "\n",
       "    .dataframe tbody tr th {\n",
       "        vertical-align: top;\n",
       "    }\n",
       "\n",
       "    .dataframe thead th {\n",
       "        text-align: right;\n",
       "    }\n",
       "</style>\n",
       "<table border=\"1\" class=\"dataframe\">\n",
       "  <thead>\n",
       "    <tr style=\"text-align: right;\">\n",
       "      <th></th>\n",
       "      <th>old_id</th>\n",
       "      <th>new_id</th>\n",
       "      <th>confidence</th>\n",
       "      <th>changed</th>\n",
       "    </tr>\n",
       "  </thead>\n",
       "  <tbody>\n",
       "    <tr>\n",
       "      <th>0</th>\n",
       "      <td>720575940605979424</td>\n",
       "      <td>720575940624947207</td>\n",
       "      <td>0.82</td>\n",
       "      <td>True</td>\n",
       "    </tr>\n",
       "    <tr>\n",
       "      <th>2</th>\n",
       "      <td>720575940612006350</td>\n",
       "      <td>720575940613508325</td>\n",
       "      <td>0.47</td>\n",
       "      <td>True</td>\n",
       "    </tr>\n",
       "    <tr>\n",
       "      <th>11</th>\n",
       "      <td>720575940626427024</td>\n",
       "      <td>720575940621601926</td>\n",
       "      <td>0.76</td>\n",
       "      <td>True</td>\n",
       "    </tr>\n",
       "    <tr>\n",
       "      <th>15</th>\n",
       "      <td>720575940628252871</td>\n",
       "      <td>720575940619043156</td>\n",
       "      <td>0.99</td>\n",
       "      <td>True</td>\n",
       "    </tr>\n",
       "    <tr>\n",
       "      <th>47</th>\n",
       "      <td>720575940607244489</td>\n",
       "      <td>720575940631332060</td>\n",
       "      <td>0.99</td>\n",
       "      <td>True</td>\n",
       "    </tr>\n",
       "    <tr>\n",
       "      <th>50</th>\n",
       "      <td>720575940607638108</td>\n",
       "      <td>720575940606851761</td>\n",
       "      <td>0.70</td>\n",
       "      <td>True</td>\n",
       "    </tr>\n",
       "    <tr>\n",
       "      <th>60</th>\n",
       "      <td>720575940609160713</td>\n",
       "      <td>720575940615644066</td>\n",
       "      <td>0.83</td>\n",
       "      <td>True</td>\n",
       "    </tr>\n",
       "    <tr>\n",
       "      <th>68</th>\n",
       "      <td>720575940610212420</td>\n",
       "      <td>720575940633727059</td>\n",
       "      <td>0.93</td>\n",
       "      <td>True</td>\n",
       "    </tr>\n",
       "    <tr>\n",
       "      <th>70</th>\n",
       "      <td>720575940610538030</td>\n",
       "      <td>720575940637859246</td>\n",
       "      <td>0.83</td>\n",
       "      <td>True</td>\n",
       "    </tr>\n",
       "    <tr>\n",
       "      <th>89</th>\n",
       "      <td>720575940612575717</td>\n",
       "      <td>720575940623832781</td>\n",
       "      <td>0.99</td>\n",
       "      <td>True</td>\n",
       "    </tr>\n",
       "    <tr>\n",
       "      <th>131</th>\n",
       "      <td>720575940614609617</td>\n",
       "      <td>720575940656115105</td>\n",
       "      <td>0.96</td>\n",
       "      <td>True</td>\n",
       "    </tr>\n",
       "    <tr>\n",
       "      <th>139</th>\n",
       "      <td>720575940614976443</td>\n",
       "      <td>720575940622382964</td>\n",
       "      <td>0.95</td>\n",
       "      <td>True</td>\n",
       "    </tr>\n",
       "    <tr>\n",
       "      <th>142</th>\n",
       "      <td>720575940615359638</td>\n",
       "      <td>720575940622021552</td>\n",
       "      <td>0.92</td>\n",
       "      <td>True</td>\n",
       "    </tr>\n",
       "    <tr>\n",
       "      <th>144</th>\n",
       "      <td>720575940615514262</td>\n",
       "      <td>720575940619432773</td>\n",
       "      <td>0.99</td>\n",
       "      <td>True</td>\n",
       "    </tr>\n",
       "    <tr>\n",
       "      <th>159</th>\n",
       "      <td>720575940616401337</td>\n",
       "      <td>720575940625798076</td>\n",
       "      <td>0.83</td>\n",
       "      <td>True</td>\n",
       "    </tr>\n",
       "    <tr>\n",
       "      <th>161</th>\n",
       "      <td>720575940616706354</td>\n",
       "      <td>720575940616565958</td>\n",
       "      <td>0.88</td>\n",
       "      <td>True</td>\n",
       "    </tr>\n",
       "    <tr>\n",
       "      <th>184</th>\n",
       "      <td>720575940617605593</td>\n",
       "      <td>720575940632915503</td>\n",
       "      <td>0.99</td>\n",
       "      <td>True</td>\n",
       "    </tr>\n",
       "    <tr>\n",
       "      <th>187</th>\n",
       "      <td>720575940617743389</td>\n",
       "      <td>720575940624523411</td>\n",
       "      <td>0.59</td>\n",
       "      <td>True</td>\n",
       "    </tr>\n",
       "    <tr>\n",
       "      <th>224</th>\n",
       "      <td>720575940619114004</td>\n",
       "      <td>720575940614987059</td>\n",
       "      <td>0.99</td>\n",
       "      <td>True</td>\n",
       "    </tr>\n",
       "    <tr>\n",
       "      <th>240</th>\n",
       "      <td>720575940619823153</td>\n",
       "      <td>720575940622050726</td>\n",
       "      <td>0.97</td>\n",
       "      <td>True</td>\n",
       "    </tr>\n",
       "    <tr>\n",
       "      <th>267</th>\n",
       "      <td>720575940620834286</td>\n",
       "      <td>720575940615084719</td>\n",
       "      <td>0.79</td>\n",
       "      <td>True</td>\n",
       "    </tr>\n",
       "    <tr>\n",
       "      <th>294</th>\n",
       "      <td>720575940621554181</td>\n",
       "      <td>720575940648459652</td>\n",
       "      <td>0.80</td>\n",
       "      <td>True</td>\n",
       "    </tr>\n",
       "    <tr>\n",
       "      <th>313</th>\n",
       "      <td>720575940622199748</td>\n",
       "      <td>720575940605924320</td>\n",
       "      <td>0.98</td>\n",
       "      <td>True</td>\n",
       "    </tr>\n",
       "    <tr>\n",
       "      <th>328</th>\n",
       "      <td>720575940622947401</td>\n",
       "      <td>720575940609972747</td>\n",
       "      <td>0.94</td>\n",
       "      <td>True</td>\n",
       "    </tr>\n",
       "    <tr>\n",
       "      <th>332</th>\n",
       "      <td>720575940623234317</td>\n",
       "      <td>720575940632501034</td>\n",
       "      <td>0.81</td>\n",
       "      <td>True</td>\n",
       "    </tr>\n",
       "    <tr>\n",
       "      <th>339</th>\n",
       "      <td>720575940623393930</td>\n",
       "      <td>720575940626806672</td>\n",
       "      <td>0.99</td>\n",
       "      <td>True</td>\n",
       "    </tr>\n",
       "    <tr>\n",
       "      <th>346</th>\n",
       "      <td>720575940623573687</td>\n",
       "      <td>720575940615161297</td>\n",
       "      <td>0.93</td>\n",
       "      <td>True</td>\n",
       "    </tr>\n",
       "    <tr>\n",
       "      <th>353</th>\n",
       "      <td>720575940624033318</td>\n",
       "      <td>720575940629766403</td>\n",
       "      <td>0.99</td>\n",
       "      <td>True</td>\n",
       "    </tr>\n",
       "    <tr>\n",
       "      <th>444</th>\n",
       "      <td>720575940627147066</td>\n",
       "      <td>720575940653269238</td>\n",
       "      <td>0.94</td>\n",
       "      <td>True</td>\n",
       "    </tr>\n",
       "    <tr>\n",
       "      <th>466</th>\n",
       "      <td>720575940627703046</td>\n",
       "      <td>720575940630499831</td>\n",
       "      <td>0.94</td>\n",
       "      <td>True</td>\n",
       "    </tr>\n",
       "    <tr>\n",
       "      <th>476</th>\n",
       "      <td>720575940627986821</td>\n",
       "      <td>720575940627502876</td>\n",
       "      <td>0.82</td>\n",
       "      <td>True</td>\n",
       "    </tr>\n",
       "    <tr>\n",
       "      <th>498</th>\n",
       "      <td>720575940628661803</td>\n",
       "      <td>720575940619105053</td>\n",
       "      <td>0.97</td>\n",
       "      <td>True</td>\n",
       "    </tr>\n",
       "    <tr>\n",
       "      <th>505</th>\n",
       "      <td>720575940628903723</td>\n",
       "      <td>720575940619717942</td>\n",
       "      <td>0.99</td>\n",
       "      <td>True</td>\n",
       "    </tr>\n",
       "    <tr>\n",
       "      <th>530</th>\n",
       "      <td>720575940630142658</td>\n",
       "      <td>720575940628725009</td>\n",
       "      <td>0.98</td>\n",
       "      <td>True</td>\n",
       "    </tr>\n",
       "    <tr>\n",
       "      <th>531</th>\n",
       "      <td>720575940630150394</td>\n",
       "      <td>720575940637608846</td>\n",
       "      <td>0.75</td>\n",
       "      <td>True</td>\n",
       "    </tr>\n",
       "    <tr>\n",
       "      <th>601</th>\n",
       "      <td>720575940632737567</td>\n",
       "      <td>720575940620910928</td>\n",
       "      <td>0.91</td>\n",
       "      <td>True</td>\n",
       "    </tr>\n",
       "    <tr>\n",
       "      <th>635</th>\n",
       "      <td>720575940635490495</td>\n",
       "      <td>720575940624702727</td>\n",
       "      <td>0.97</td>\n",
       "      <td>True</td>\n",
       "    </tr>\n",
       "    <tr>\n",
       "      <th>644</th>\n",
       "      <td>720575940636278903</td>\n",
       "      <td>720575940621639339</td>\n",
       "      <td>0.98</td>\n",
       "      <td>True</td>\n",
       "    </tr>\n",
       "    <tr>\n",
       "      <th>656</th>\n",
       "      <td>720575940637072240</td>\n",
       "      <td>720575940616984518</td>\n",
       "      <td>0.98</td>\n",
       "      <td>True</td>\n",
       "    </tr>\n",
       "    <tr>\n",
       "      <th>664</th>\n",
       "      <td>720575940638083038</td>\n",
       "      <td>720575940609623049</td>\n",
       "      <td>0.75</td>\n",
       "      <td>True</td>\n",
       "    </tr>\n",
       "    <tr>\n",
       "      <th>678</th>\n",
       "      <td>720575940639135165</td>\n",
       "      <td>720575940620104059</td>\n",
       "      <td>0.97</td>\n",
       "      <td>True</td>\n",
       "    </tr>\n",
       "    <tr>\n",
       "      <th>690</th>\n",
       "      <td>720575940640318883</td>\n",
       "      <td>720575940624208520</td>\n",
       "      <td>0.95</td>\n",
       "      <td>True</td>\n",
       "    </tr>\n",
       "    <tr>\n",
       "      <th>694</th>\n",
       "      <td>720575940641298640</td>\n",
       "      <td>720575940617320379</td>\n",
       "      <td>0.99</td>\n",
       "      <td>True</td>\n",
       "    </tr>\n",
       "    <tr>\n",
       "      <th>695</th>\n",
       "      <td>720575940641548251</td>\n",
       "      <td>720575940630250087</td>\n",
       "      <td>0.94</td>\n",
       "      <td>True</td>\n",
       "    </tr>\n",
       "    <tr>\n",
       "      <th>731</th>\n",
       "      <td>720575940660114305</td>\n",
       "      <td>720575940622485887</td>\n",
       "      <td>0.98</td>\n",
       "      <td>True</td>\n",
       "    </tr>\n",
       "  </tbody>\n",
       "</table>\n",
       "</div>"
      ],
      "text/plain": [
       "                 old_id              new_id  confidence  changed\n",
       "0    720575940605979424  720575940624947207        0.82     True\n",
       "2    720575940612006350  720575940613508325        0.47     True\n",
       "11   720575940626427024  720575940621601926        0.76     True\n",
       "15   720575940628252871  720575940619043156        0.99     True\n",
       "47   720575940607244489  720575940631332060        0.99     True\n",
       "50   720575940607638108  720575940606851761        0.70     True\n",
       "60   720575940609160713  720575940615644066        0.83     True\n",
       "68   720575940610212420  720575940633727059        0.93     True\n",
       "70   720575940610538030  720575940637859246        0.83     True\n",
       "89   720575940612575717  720575940623832781        0.99     True\n",
       "131  720575940614609617  720575940656115105        0.96     True\n",
       "139  720575940614976443  720575940622382964        0.95     True\n",
       "142  720575940615359638  720575940622021552        0.92     True\n",
       "144  720575940615514262  720575940619432773        0.99     True\n",
       "159  720575940616401337  720575940625798076        0.83     True\n",
       "161  720575940616706354  720575940616565958        0.88     True\n",
       "184  720575940617605593  720575940632915503        0.99     True\n",
       "187  720575940617743389  720575940624523411        0.59     True\n",
       "224  720575940619114004  720575940614987059        0.99     True\n",
       "240  720575940619823153  720575940622050726        0.97     True\n",
       "267  720575940620834286  720575940615084719        0.79     True\n",
       "294  720575940621554181  720575940648459652        0.80     True\n",
       "313  720575940622199748  720575940605924320        0.98     True\n",
       "328  720575940622947401  720575940609972747        0.94     True\n",
       "332  720575940623234317  720575940632501034        0.81     True\n",
       "339  720575940623393930  720575940626806672        0.99     True\n",
       "346  720575940623573687  720575940615161297        0.93     True\n",
       "353  720575940624033318  720575940629766403        0.99     True\n",
       "444  720575940627147066  720575940653269238        0.94     True\n",
       "466  720575940627703046  720575940630499831        0.94     True\n",
       "476  720575940627986821  720575940627502876        0.82     True\n",
       "498  720575940628661803  720575940619105053        0.97     True\n",
       "505  720575940628903723  720575940619717942        0.99     True\n",
       "530  720575940630142658  720575940628725009        0.98     True\n",
       "531  720575940630150394  720575940637608846        0.75     True\n",
       "601  720575940632737567  720575940620910928        0.91     True\n",
       "635  720575940635490495  720575940624702727        0.97     True\n",
       "644  720575940636278903  720575940621639339        0.98     True\n",
       "656  720575940637072240  720575940616984518        0.98     True\n",
       "664  720575940638083038  720575940609623049        0.75     True\n",
       "678  720575940639135165  720575940620104059        0.97     True\n",
       "690  720575940640318883  720575940624208520        0.95     True\n",
       "694  720575940641298640  720575940617320379        0.99     True\n",
       "695  720575940641548251  720575940630250087        0.94     True\n",
       "731  720575940660114305  720575940622485887        0.98     True"
      ]
     },
     "execution_count": 21,
     "metadata": {},
     "output_type": "execute_result"
    }
   ],
   "source": [
    "updated_ID_df[updated_ID_df['confidence'] < 1]"
   ]
  },
  {
   "cell_type": "code",
   "execution_count": 22,
   "id": "d2e048d6",
   "metadata": {
    "scrolled": true
   },
   "outputs": [
    {
     "data": {
      "text/plain": [
       "[720575940624947207,\n",
       " 720575940613508325,\n",
       " 720575940621601926,\n",
       " 720575940619043156,\n",
       " 720575940631332060,\n",
       " 720575940606851761,\n",
       " 720575940615644066,\n",
       " 720575940633727059,\n",
       " 720575940637859246,\n",
       " 720575940623832781,\n",
       " 720575940656115105,\n",
       " 720575940622382964,\n",
       " 720575940622021552,\n",
       " 720575940619432773,\n",
       " 720575940625798076,\n",
       " 720575940616565958,\n",
       " 720575940632915503,\n",
       " 720575940624523411,\n",
       " 720575940614987059,\n",
       " 720575940622050726,\n",
       " 720575940615084719,\n",
       " 720575940648459652,\n",
       " 720575940605924320,\n",
       " 720575940609972747,\n",
       " 720575940632501034,\n",
       " 720575940626806672,\n",
       " 720575940615161297,\n",
       " 720575940629766403,\n",
       " 720575940653269238,\n",
       " 720575940630499831,\n",
       " 720575940627502876,\n",
       " 720575940619105053,\n",
       " 720575940619717942,\n",
       " 720575940628725009,\n",
       " 720575940637608846,\n",
       " 720575940620910928,\n",
       " 720575940624702727,\n",
       " 720575940621639339,\n",
       " 720575940616984518,\n",
       " 720575940609623049,\n",
       " 720575940620104059,\n",
       " 720575940624208520,\n",
       " 720575940617320379,\n",
       " 720575940630250087,\n",
       " 720575940622485887]"
      ]
     },
     "execution_count": 22,
     "metadata": {},
     "output_type": "execute_result"
    }
   ],
   "source": [
    "updated_ID_df[updated_ID_df['confidence'] < 1]['new_id'].tolist()"
   ]
  },
  {
   "cell_type": "markdown",
   "id": "2aabf6eb",
   "metadata": {},
   "source": [
    "### 2. Saving data in txt file"
   ]
  },
  {
   "cell_type": "code",
   "execution_count": 23,
   "id": "fed5ca97",
   "metadata": {},
   "outputs": [],
   "source": [
    "#Saving the data\n",
    "updated_fileName = f'Updated_{fileName}'\n",
    "updated_filePath = os.path.join(dataPath,updated_fileName)\n",
    "\n",
    "id_list = list(set(updated_ID_df['new_id'].tolist()))\n",
    "with open(updated_filePath , \"w\") as output:\n",
    "    output.write(str(id_list))\n"
   ]
  },
  {
   "cell_type": "markdown",
   "id": "bf1c24d2",
   "metadata": {},
   "source": [
    "### 1. Or, loading the data from an excell file"
   ]
  },
  {
   "cell_type": "code",
   "execution_count": 3,
   "id": "425def5a",
   "metadata": {},
   "outputs": [
    {
     "data": {
      "text/html": [
       "<div>\n",
       "<style scoped>\n",
       "    .dataframe tbody tr th:only-of-type {\n",
       "        vertical-align: middle;\n",
       "    }\n",
       "\n",
       "    .dataframe tbody tr th {\n",
       "        vertical-align: top;\n",
       "    }\n",
       "\n",
       "    .dataframe thead th {\n",
       "        text-align: right;\n",
       "    }\n",
       "</style>\n",
       "<table border=\"1\" class=\"dataframe\">\n",
       "  <thead>\n",
       "    <tr style=\"text-align: right;\">\n",
       "      <th></th>\n",
       "      <th>XYZ-ME</th>\n",
       "      <th>symbol</th>\n",
       "      <th>XYZ-LO</th>\n",
       "      <th>quality comment</th>\n",
       "      <th>rim_area (Y/N)</th>\n",
       "      <th>hemisphere</th>\n",
       "      <th>lab</th>\n",
       "      <th>author</th>\n",
       "      <th>name</th>\n",
       "      <th>seg_id</th>\n",
       "      <th>...</th>\n",
       "      <th>optic_lobe_id</th>\n",
       "      <th>patch_id</th>\n",
       "      <th>column_id</th>\n",
       "      <th>backbone proofread (Y/N)</th>\n",
       "      <th>twigs proofread (Y/N)</th>\n",
       "      <th>inputs_proofread (Y/N)</th>\n",
       "      <th>dark_neurons (Y/N)</th>\n",
       "      <th>bad_quality_rim (Y/N)</th>\n",
       "      <th>healthy_L3 (Y/N)</th>\n",
       "      <th>detached_lamina (Y/N)</th>\n",
       "    </tr>\n",
       "  </thead>\n",
       "  <tbody>\n",
       "    <tr>\n",
       "      <th>0</th>\n",
       "      <td>NaN</td>\n",
       "      <td>TmY10</td>\n",
       "      <td>NaN</td>\n",
       "      <td>NaN</td>\n",
       "      <td>NaN</td>\n",
       "      <td>R</td>\n",
       "      <td>NaN</td>\n",
       "      <td>NaN</td>\n",
       "      <td>NaN</td>\n",
       "      <td>720575940627147322</td>\n",
       "      <td>...</td>\n",
       "      <td>NaN</td>\n",
       "      <td>NaN</td>\n",
       "      <td>NaN</td>\n",
       "      <td>NaN</td>\n",
       "      <td>NaN</td>\n",
       "      <td>NaN</td>\n",
       "      <td>NaN</td>\n",
       "      <td>NaN</td>\n",
       "      <td>NaN</td>\n",
       "      <td>NaN</td>\n",
       "    </tr>\n",
       "    <tr>\n",
       "      <th>1</th>\n",
       "      <td>NaN</td>\n",
       "      <td>TmY10</td>\n",
       "      <td>NaN</td>\n",
       "      <td>NaN</td>\n",
       "      <td>NaN</td>\n",
       "      <td>R</td>\n",
       "      <td>NaN</td>\n",
       "      <td>NaN</td>\n",
       "      <td>NaN</td>\n",
       "      <td>720575940625575973</td>\n",
       "      <td>...</td>\n",
       "      <td>NaN</td>\n",
       "      <td>NaN</td>\n",
       "      <td>NaN</td>\n",
       "      <td>NaN</td>\n",
       "      <td>NaN</td>\n",
       "      <td>NaN</td>\n",
       "      <td>NaN</td>\n",
       "      <td>NaN</td>\n",
       "      <td>NaN</td>\n",
       "      <td>NaN</td>\n",
       "    </tr>\n",
       "    <tr>\n",
       "      <th>2</th>\n",
       "      <td>NaN</td>\n",
       "      <td>TmY10</td>\n",
       "      <td>NaN</td>\n",
       "      <td>NaN</td>\n",
       "      <td>NaN</td>\n",
       "      <td>R</td>\n",
       "      <td>NaN</td>\n",
       "      <td>NaN</td>\n",
       "      <td>NaN</td>\n",
       "      <td>720575940635959159</td>\n",
       "      <td>...</td>\n",
       "      <td>NaN</td>\n",
       "      <td>NaN</td>\n",
       "      <td>NaN</td>\n",
       "      <td>NaN</td>\n",
       "      <td>NaN</td>\n",
       "      <td>NaN</td>\n",
       "      <td>NaN</td>\n",
       "      <td>NaN</td>\n",
       "      <td>NaN</td>\n",
       "      <td>NaN</td>\n",
       "    </tr>\n",
       "    <tr>\n",
       "      <th>3</th>\n",
       "      <td>NaN</td>\n",
       "      <td>TmY10</td>\n",
       "      <td>NaN</td>\n",
       "      <td>NaN</td>\n",
       "      <td>NaN</td>\n",
       "      <td>R</td>\n",
       "      <td>NaN</td>\n",
       "      <td>NaN</td>\n",
       "      <td>NaN</td>\n",
       "      <td>720575940628843536</td>\n",
       "      <td>...</td>\n",
       "      <td>NaN</td>\n",
       "      <td>NaN</td>\n",
       "      <td>NaN</td>\n",
       "      <td>NaN</td>\n",
       "      <td>NaN</td>\n",
       "      <td>NaN</td>\n",
       "      <td>NaN</td>\n",
       "      <td>NaN</td>\n",
       "      <td>NaN</td>\n",
       "      <td>NaN</td>\n",
       "    </tr>\n",
       "    <tr>\n",
       "      <th>4</th>\n",
       "      <td>NaN</td>\n",
       "      <td>TmY10</td>\n",
       "      <td>NaN</td>\n",
       "      <td>NaN</td>\n",
       "      <td>NaN</td>\n",
       "      <td>R</td>\n",
       "      <td>NaN</td>\n",
       "      <td>NaN</td>\n",
       "      <td>NaN</td>\n",
       "      <td>720575940617736616</td>\n",
       "      <td>...</td>\n",
       "      <td>NaN</td>\n",
       "      <td>NaN</td>\n",
       "      <td>NaN</td>\n",
       "      <td>NaN</td>\n",
       "      <td>NaN</td>\n",
       "      <td>NaN</td>\n",
       "      <td>NaN</td>\n",
       "      <td>NaN</td>\n",
       "      <td>NaN</td>\n",
       "      <td>NaN</td>\n",
       "    </tr>\n",
       "  </tbody>\n",
       "</table>\n",
       "<p>5 rows × 24 columns</p>\n",
       "</div>"
      ],
      "text/plain": [
       "   XYZ-ME symbol  XYZ-LO  quality comment  rim_area (Y/N) hemisphere  lab  \\\n",
       "0     NaN  TmY10     NaN              NaN             NaN          R  NaN   \n",
       "1     NaN  TmY10     NaN              NaN             NaN          R  NaN   \n",
       "2     NaN  TmY10     NaN              NaN             NaN          R  NaN   \n",
       "3     NaN  TmY10     NaN              NaN             NaN          R  NaN   \n",
       "4     NaN  TmY10     NaN              NaN             NaN          R  NaN   \n",
       "\n",
       "   author  name              seg_id  ...  optic_lobe_id  patch_id  column_id  \\\n",
       "0     NaN   NaN  720575940627147322  ...            NaN       NaN        NaN   \n",
       "1     NaN   NaN  720575940625575973  ...            NaN       NaN        NaN   \n",
       "2     NaN   NaN  720575940635959159  ...            NaN       NaN        NaN   \n",
       "3     NaN   NaN  720575940628843536  ...            NaN       NaN        NaN   \n",
       "4     NaN   NaN  720575940617736616  ...            NaN       NaN        NaN   \n",
       "\n",
       "   backbone proofread (Y/N)  twigs proofread (Y/N)  inputs_proofread (Y/N)  \\\n",
       "0                       NaN                    NaN                     NaN   \n",
       "1                       NaN                    NaN                     NaN   \n",
       "2                       NaN                    NaN                     NaN   \n",
       "3                       NaN                    NaN                     NaN   \n",
       "4                       NaN                    NaN                     NaN   \n",
       "\n",
       "   dark_neurons (Y/N)  bad_quality_rim (Y/N)  healthy_L3 (Y/N)  \\\n",
       "0                 NaN                    NaN               NaN   \n",
       "1                 NaN                    NaN               NaN   \n",
       "2                 NaN                    NaN               NaN   \n",
       "3                 NaN                    NaN               NaN   \n",
       "4                 NaN                    NaN               NaN   \n",
       "\n",
       "   detached_lamina (Y/N)  \n",
       "0                    NaN  \n",
       "1                    NaN  \n",
       "2                    NaN  \n",
       "3                    NaN  \n",
       "4                    NaN  \n",
       "\n",
       "[5 rows x 24 columns]"
      ]
     },
     "metadata": {},
     "output_type": "display_data"
    }
   ],
   "source": [
    "# Choose path and file\n",
    "PC_disc = 'D'\n",
    "dataPath = f'{PC_disc}:\\Connectomics-Data\\FlyWire\\Excels\\drive-data-sets\\database'\n",
    "date = '20231017'\n",
    "fileName = f'TmY10 proofreadings_{date}.xlsx'\n",
    "filePath = os.path.join(dataPath,fileName)\n",
    "\n",
    "#Loading file as DataFrame\n",
    "df = pd.read_excel(filePath)\n",
    "\n",
    "\n",
    "#Dropping the fisrt row ('asdf' was added as a walk-around to set that column values as type str)\n",
    "if df[\"seg_id\"][0] == 'asdf': \n",
    "    df = df.iloc[1: , :]\n",
    "    df.reset_index(inplace=True,drop=True)\n",
    "\n",
    "#Dropping dupllicates\n",
    "result_df = df.drop_duplicates(subset=[\"seg_id\"], keep='first').copy()\n",
    "\n",
    "#Quick look on the dataframe\n",
    "display(result_df.head())\n",
    "    \n",
    "#Getting the lists of IDs to update\n",
    "curr_ID_ls = result_df[\"seg_id\"].tolist()"
   ]
  },
  {
   "cell_type": "code",
   "execution_count": 6,
   "id": "1f4d0dc2",
   "metadata": {},
   "outputs": [
    {
     "data": {
      "application/vnd.jupyter.widget-view+json": {
       "model_id": "",
       "version_major": 2,
       "version_minor": 0
      },
      "text/plain": [
       "Updating:   0%|          | 0/255 [00:00<?, ?it/s]"
      ]
     },
     "metadata": {},
     "output_type": "display_data"
    }
   ],
   "source": [
    "#Updating all IDs at once\n",
    "updated_ID_df = fafbseg.flywire.update_ids(curr_ID_ls, stop_layer=2, supervoxels=None, timestamp=None, dataset='production', progress=True)"
   ]
  },
  {
   "cell_type": "code",
   "execution_count": null,
   "id": "536c231b",
   "metadata": {
    "scrolled": true
   },
   "outputs": [],
   "source": [
    "# Or, Updating the IDs via Fafbseg in a for loop\n",
    "\n",
    "_start = 0\n",
    "_steps = 100\n",
    "_last = _steps\n",
    "_rounds =  round(len(curr_ID_ls)/ _steps) +1\n",
    "\n",
    "print(f'Rounds to perform: {_rounds}')\n",
    "updated_ID_df = pd.DataFrame()\n",
    "for i in range(0,_rounds):\n",
    "    #print(f'Round {i}')\n",
    "    curr_ID_df = fafbseg.flywire.update_ids(curr_ID_ls[_start:_last], stop_layer=2, supervoxels=None, timestamp=None, dataset='production', progress=True)\n",
    "    updated_ID_df = pd.concat([updated_ID_df,curr_ID_df])\n",
    "    _start = _start + _steps\n",
    "    _last = _last + _steps\n"
   ]
  },
  {
   "cell_type": "code",
   "execution_count": 7,
   "id": "26f7b233",
   "metadata": {},
   "outputs": [],
   "source": [
    "result_df.reset_index(drop=True, inplace=True)\n",
    "result_df['Updated_seg_ids'] = updated_ID_df['new_id'].astype(str).tolist()\n",
    "result_df['Updated_confidence'] = updated_ID_df['confidence'].astype(str).tolist()"
   ]
  },
  {
   "cell_type": "code",
   "execution_count": 8,
   "id": "ed2d4eff",
   "metadata": {},
   "outputs": [
    {
     "data": {
      "text/html": [
       "<div>\n",
       "<style scoped>\n",
       "    .dataframe tbody tr th:only-of-type {\n",
       "        vertical-align: middle;\n",
       "    }\n",
       "\n",
       "    .dataframe tbody tr th {\n",
       "        vertical-align: top;\n",
       "    }\n",
       "\n",
       "    .dataframe thead th {\n",
       "        text-align: right;\n",
       "    }\n",
       "</style>\n",
       "<table border=\"1\" class=\"dataframe\">\n",
       "  <thead>\n",
       "    <tr style=\"text-align: right;\">\n",
       "      <th></th>\n",
       "      <th>XYZ-ME</th>\n",
       "      <th>symbol</th>\n",
       "      <th>XYZ-LO</th>\n",
       "      <th>quality comment</th>\n",
       "      <th>rim_area (Y/N)</th>\n",
       "      <th>hemisphere</th>\n",
       "      <th>lab</th>\n",
       "      <th>author</th>\n",
       "      <th>name</th>\n",
       "      <th>seg_id</th>\n",
       "      <th>...</th>\n",
       "      <th>column_id</th>\n",
       "      <th>backbone proofread (Y/N)</th>\n",
       "      <th>twigs proofread (Y/N)</th>\n",
       "      <th>inputs_proofread (Y/N)</th>\n",
       "      <th>dark_neurons (Y/N)</th>\n",
       "      <th>bad_quality_rim (Y/N)</th>\n",
       "      <th>healthy_L3 (Y/N)</th>\n",
       "      <th>detached_lamina (Y/N)</th>\n",
       "      <th>Updated_seg_ids</th>\n",
       "      <th>Updated_confidence</th>\n",
       "    </tr>\n",
       "  </thead>\n",
       "  <tbody>\n",
       "    <tr>\n",
       "      <th>250</th>\n",
       "      <td>NaN</td>\n",
       "      <td>TmY10</td>\n",
       "      <td>NaN</td>\n",
       "      <td>NaN</td>\n",
       "      <td>NaN</td>\n",
       "      <td>R</td>\n",
       "      <td>NaN</td>\n",
       "      <td>NaN</td>\n",
       "      <td>NaN</td>\n",
       "      <td>720575940644680648</td>\n",
       "      <td>...</td>\n",
       "      <td>NaN</td>\n",
       "      <td>NaN</td>\n",
       "      <td>NaN</td>\n",
       "      <td>NaN</td>\n",
       "      <td>NaN</td>\n",
       "      <td>NaN</td>\n",
       "      <td>NaN</td>\n",
       "      <td>NaN</td>\n",
       "      <td>720575940619580224</td>\n",
       "      <td>1.0</td>\n",
       "    </tr>\n",
       "    <tr>\n",
       "      <th>251</th>\n",
       "      <td>NaN</td>\n",
       "      <td>TmY10</td>\n",
       "      <td>NaN</td>\n",
       "      <td>NaN</td>\n",
       "      <td>NaN</td>\n",
       "      <td>R</td>\n",
       "      <td>NaN</td>\n",
       "      <td>NaN</td>\n",
       "      <td>NaN</td>\n",
       "      <td>720575940610758008</td>\n",
       "      <td>...</td>\n",
       "      <td>NaN</td>\n",
       "      <td>NaN</td>\n",
       "      <td>NaN</td>\n",
       "      <td>NaN</td>\n",
       "      <td>NaN</td>\n",
       "      <td>NaN</td>\n",
       "      <td>NaN</td>\n",
       "      <td>NaN</td>\n",
       "      <td>720575940610758008</td>\n",
       "      <td>1.0</td>\n",
       "    </tr>\n",
       "    <tr>\n",
       "      <th>252</th>\n",
       "      <td>NaN</td>\n",
       "      <td>TmY10</td>\n",
       "      <td>NaN</td>\n",
       "      <td>NaN</td>\n",
       "      <td>NaN</td>\n",
       "      <td>R</td>\n",
       "      <td>NaN</td>\n",
       "      <td>NaN</td>\n",
       "      <td>NaN</td>\n",
       "      <td>720575940620862384</td>\n",
       "      <td>...</td>\n",
       "      <td>NaN</td>\n",
       "      <td>NaN</td>\n",
       "      <td>NaN</td>\n",
       "      <td>NaN</td>\n",
       "      <td>NaN</td>\n",
       "      <td>NaN</td>\n",
       "      <td>NaN</td>\n",
       "      <td>NaN</td>\n",
       "      <td>720575940622944773</td>\n",
       "      <td>0.99</td>\n",
       "    </tr>\n",
       "    <tr>\n",
       "      <th>253</th>\n",
       "      <td>NaN</td>\n",
       "      <td>TmY10</td>\n",
       "      <td>NaN</td>\n",
       "      <td>NaN</td>\n",
       "      <td>NaN</td>\n",
       "      <td>R</td>\n",
       "      <td>NaN</td>\n",
       "      <td>NaN</td>\n",
       "      <td>NaN</td>\n",
       "      <td>720575940620744225</td>\n",
       "      <td>...</td>\n",
       "      <td>NaN</td>\n",
       "      <td>NaN</td>\n",
       "      <td>NaN</td>\n",
       "      <td>NaN</td>\n",
       "      <td>NaN</td>\n",
       "      <td>NaN</td>\n",
       "      <td>NaN</td>\n",
       "      <td>NaN</td>\n",
       "      <td>720575940640094542</td>\n",
       "      <td>0.95</td>\n",
       "    </tr>\n",
       "    <tr>\n",
       "      <th>254</th>\n",
       "      <td>NaN</td>\n",
       "      <td>TmY10</td>\n",
       "      <td>NaN</td>\n",
       "      <td>NaN</td>\n",
       "      <td>NaN</td>\n",
       "      <td>R</td>\n",
       "      <td>NaN</td>\n",
       "      <td>NaN</td>\n",
       "      <td>NaN</td>\n",
       "      <td>720575940614468094</td>\n",
       "      <td>...</td>\n",
       "      <td>NaN</td>\n",
       "      <td>NaN</td>\n",
       "      <td>NaN</td>\n",
       "      <td>NaN</td>\n",
       "      <td>NaN</td>\n",
       "      <td>NaN</td>\n",
       "      <td>NaN</td>\n",
       "      <td>NaN</td>\n",
       "      <td>720575940614468094</td>\n",
       "      <td>1.0</td>\n",
       "    </tr>\n",
       "  </tbody>\n",
       "</table>\n",
       "<p>5 rows × 26 columns</p>\n",
       "</div>"
      ],
      "text/plain": [
       "     XYZ-ME symbol  XYZ-LO  quality comment  rim_area (Y/N) hemisphere  lab  \\\n",
       "250     NaN  TmY10     NaN              NaN             NaN          R  NaN   \n",
       "251     NaN  TmY10     NaN              NaN             NaN          R  NaN   \n",
       "252     NaN  TmY10     NaN              NaN             NaN          R  NaN   \n",
       "253     NaN  TmY10     NaN              NaN             NaN          R  NaN   \n",
       "254     NaN  TmY10     NaN              NaN             NaN          R  NaN   \n",
       "\n",
       "     author  name              seg_id  ...  column_id  \\\n",
       "250     NaN   NaN  720575940644680648  ...        NaN   \n",
       "251     NaN   NaN  720575940610758008  ...        NaN   \n",
       "252     NaN   NaN  720575940620862384  ...        NaN   \n",
       "253     NaN   NaN  720575940620744225  ...        NaN   \n",
       "254     NaN   NaN  720575940614468094  ...        NaN   \n",
       "\n",
       "     backbone proofread (Y/N)  twigs proofread (Y/N)  inputs_proofread (Y/N)  \\\n",
       "250                       NaN                    NaN                     NaN   \n",
       "251                       NaN                    NaN                     NaN   \n",
       "252                       NaN                    NaN                     NaN   \n",
       "253                       NaN                    NaN                     NaN   \n",
       "254                       NaN                    NaN                     NaN   \n",
       "\n",
       "     dark_neurons (Y/N)  bad_quality_rim (Y/N)  healthy_L3 (Y/N)  \\\n",
       "250                 NaN                    NaN               NaN   \n",
       "251                 NaN                    NaN               NaN   \n",
       "252                 NaN                    NaN               NaN   \n",
       "253                 NaN                    NaN               NaN   \n",
       "254                 NaN                    NaN               NaN   \n",
       "\n",
       "     detached_lamina (Y/N)     Updated_seg_ids  Updated_confidence  \n",
       "250                    NaN  720575940619580224                 1.0  \n",
       "251                    NaN  720575940610758008                 1.0  \n",
       "252                    NaN  720575940622944773                0.99  \n",
       "253                    NaN  720575940640094542                0.95  \n",
       "254                    NaN  720575940614468094                 1.0  \n",
       "\n",
       "[5 rows x 26 columns]"
      ]
     },
     "execution_count": 8,
     "metadata": {},
     "output_type": "execute_result"
    }
   ],
   "source": [
    "result_df.tail()"
   ]
  },
  {
   "cell_type": "code",
   "execution_count": 9,
   "id": "df81568e",
   "metadata": {
    "scrolled": true
   },
   "outputs": [
    {
     "data": {
      "text/html": [
       "<div>\n",
       "<style scoped>\n",
       "    .dataframe tbody tr th:only-of-type {\n",
       "        vertical-align: middle;\n",
       "    }\n",
       "\n",
       "    .dataframe tbody tr th {\n",
       "        vertical-align: top;\n",
       "    }\n",
       "\n",
       "    .dataframe thead th {\n",
       "        text-align: right;\n",
       "    }\n",
       "</style>\n",
       "<table border=\"1\" class=\"dataframe\">\n",
       "  <thead>\n",
       "    <tr style=\"text-align: right;\">\n",
       "      <th></th>\n",
       "      <th>old_id</th>\n",
       "      <th>new_id</th>\n",
       "      <th>confidence</th>\n",
       "      <th>changed</th>\n",
       "    </tr>\n",
       "  </thead>\n",
       "  <tbody>\n",
       "    <tr>\n",
       "      <th>0</th>\n",
       "      <td>720575940627147322</td>\n",
       "      <td>720575940611088452</td>\n",
       "      <td>1.0</td>\n",
       "      <td>True</td>\n",
       "    </tr>\n",
       "    <tr>\n",
       "      <th>1</th>\n",
       "      <td>720575940625575973</td>\n",
       "      <td>720575940626398797</td>\n",
       "      <td>1.0</td>\n",
       "      <td>True</td>\n",
       "    </tr>\n",
       "    <tr>\n",
       "      <th>2</th>\n",
       "      <td>720575940635959159</td>\n",
       "      <td>720575940635959159</td>\n",
       "      <td>1.0</td>\n",
       "      <td>False</td>\n",
       "    </tr>\n",
       "    <tr>\n",
       "      <th>3</th>\n",
       "      <td>720575940628843536</td>\n",
       "      <td>720575940634349523</td>\n",
       "      <td>1.0</td>\n",
       "      <td>True</td>\n",
       "    </tr>\n",
       "    <tr>\n",
       "      <th>4</th>\n",
       "      <td>720575940617736616</td>\n",
       "      <td>720575940620728536</td>\n",
       "      <td>1.0</td>\n",
       "      <td>True</td>\n",
       "    </tr>\n",
       "  </tbody>\n",
       "</table>\n",
       "</div>"
      ],
      "text/plain": [
       "               old_id              new_id  confidence  changed\n",
       "0  720575940627147322  720575940611088452         1.0     True\n",
       "1  720575940625575973  720575940626398797         1.0     True\n",
       "2  720575940635959159  720575940635959159         1.0    False\n",
       "3  720575940628843536  720575940634349523         1.0     True\n",
       "4  720575940617736616  720575940620728536         1.0     True"
      ]
     },
     "metadata": {},
     "output_type": "display_data"
    },
    {
     "name": "stdout",
     "output_type": "stream",
     "text": [
      "Update confidences: \n",
      "{0.99, 1.0, 0.6, 0.96, 0.86, 0.82, 0.95, 0.9, 0.94, 0.88, 0.98, 0.81, 0.92, 0.97, 0.87, 0.89}\n"
     ]
    }
   ],
   "source": [
    "display(updated_ID_df.head())\n",
    "print('Update confidences: ')\n",
    "print(set(updated_ID_df['confidence'].tolist()))"
   ]
  },
  {
   "cell_type": "code",
   "execution_count": 10,
   "id": "5503cb3e",
   "metadata": {},
   "outputs": [
    {
     "data": {
      "text/html": [
       "<div>\n",
       "<style scoped>\n",
       "    .dataframe tbody tr th:only-of-type {\n",
       "        vertical-align: middle;\n",
       "    }\n",
       "\n",
       "    .dataframe tbody tr th {\n",
       "        vertical-align: top;\n",
       "    }\n",
       "\n",
       "    .dataframe thead th {\n",
       "        text-align: right;\n",
       "    }\n",
       "</style>\n",
       "<table border=\"1\" class=\"dataframe\">\n",
       "  <thead>\n",
       "    <tr style=\"text-align: right;\">\n",
       "      <th></th>\n",
       "      <th>old_id</th>\n",
       "      <th>new_id</th>\n",
       "      <th>confidence</th>\n",
       "      <th>changed</th>\n",
       "    </tr>\n",
       "  </thead>\n",
       "  <tbody>\n",
       "    <tr>\n",
       "      <th>15</th>\n",
       "      <td>720575940621734109</td>\n",
       "      <td>720575940626398285</td>\n",
       "      <td>0.99</td>\n",
       "      <td>True</td>\n",
       "    </tr>\n",
       "    <tr>\n",
       "      <th>17</th>\n",
       "      <td>720575940631809611</td>\n",
       "      <td>720575940615126447</td>\n",
       "      <td>0.86</td>\n",
       "      <td>True</td>\n",
       "    </tr>\n",
       "    <tr>\n",
       "      <th>37</th>\n",
       "      <td>720575940612241066</td>\n",
       "      <td>720575940613605273</td>\n",
       "      <td>0.96</td>\n",
       "      <td>True</td>\n",
       "    </tr>\n",
       "    <tr>\n",
       "      <th>44</th>\n",
       "      <td>720575940630558838</td>\n",
       "      <td>720575940623180321</td>\n",
       "      <td>0.96</td>\n",
       "      <td>True</td>\n",
       "    </tr>\n",
       "    <tr>\n",
       "      <th>45</th>\n",
       "      <td>720575940630513408</td>\n",
       "      <td>720575940610294211</td>\n",
       "      <td>0.60</td>\n",
       "      <td>True</td>\n",
       "    </tr>\n",
       "    <tr>\n",
       "      <th>55</th>\n",
       "      <td>720575940611821410</td>\n",
       "      <td>720575940624345641</td>\n",
       "      <td>0.82</td>\n",
       "      <td>True</td>\n",
       "    </tr>\n",
       "    <tr>\n",
       "      <th>65</th>\n",
       "      <td>720575940633890017</td>\n",
       "      <td>720575940626397773</td>\n",
       "      <td>0.60</td>\n",
       "      <td>True</td>\n",
       "    </tr>\n",
       "    <tr>\n",
       "      <th>74</th>\n",
       "      <td>720575940617878299</td>\n",
       "      <td>720575940621661062</td>\n",
       "      <td>0.95</td>\n",
       "      <td>True</td>\n",
       "    </tr>\n",
       "    <tr>\n",
       "      <th>75</th>\n",
       "      <td>720575940620452261</td>\n",
       "      <td>720575940628938472</td>\n",
       "      <td>0.95</td>\n",
       "      <td>True</td>\n",
       "    </tr>\n",
       "    <tr>\n",
       "      <th>79</th>\n",
       "      <td>720575940619668904</td>\n",
       "      <td>720575940640337205</td>\n",
       "      <td>0.90</td>\n",
       "      <td>True</td>\n",
       "    </tr>\n",
       "    <tr>\n",
       "      <th>81</th>\n",
       "      <td>720575940624810220</td>\n",
       "      <td>720575940612504782</td>\n",
       "      <td>0.99</td>\n",
       "      <td>True</td>\n",
       "    </tr>\n",
       "    <tr>\n",
       "      <th>86</th>\n",
       "      <td>720575940620279643</td>\n",
       "      <td>720575940623464918</td>\n",
       "      <td>0.99</td>\n",
       "      <td>True</td>\n",
       "    </tr>\n",
       "    <tr>\n",
       "      <th>93</th>\n",
       "      <td>720575940604946633</td>\n",
       "      <td>720575940621795822</td>\n",
       "      <td>0.94</td>\n",
       "      <td>True</td>\n",
       "    </tr>\n",
       "    <tr>\n",
       "      <th>101</th>\n",
       "      <td>720575940616425797</td>\n",
       "      <td>720575940621080711</td>\n",
       "      <td>0.88</td>\n",
       "      <td>True</td>\n",
       "    </tr>\n",
       "    <tr>\n",
       "      <th>109</th>\n",
       "      <td>720575940618468637</td>\n",
       "      <td>720575940610500547</td>\n",
       "      <td>0.97</td>\n",
       "      <td>True</td>\n",
       "    </tr>\n",
       "    <tr>\n",
       "      <th>115</th>\n",
       "      <td>720575940613146861</td>\n",
       "      <td>720575940630586238</td>\n",
       "      <td>0.86</td>\n",
       "      <td>True</td>\n",
       "    </tr>\n",
       "    <tr>\n",
       "      <th>117</th>\n",
       "      <td>720575940620164657</td>\n",
       "      <td>720575940623463382</td>\n",
       "      <td>0.97</td>\n",
       "      <td>True</td>\n",
       "    </tr>\n",
       "    <tr>\n",
       "      <th>126</th>\n",
       "      <td>720575940619190577</td>\n",
       "      <td>720575940628658692</td>\n",
       "      <td>0.99</td>\n",
       "      <td>True</td>\n",
       "    </tr>\n",
       "    <tr>\n",
       "      <th>128</th>\n",
       "      <td>720575940633880462</td>\n",
       "      <td>720575940612980629</td>\n",
       "      <td>0.98</td>\n",
       "      <td>True</td>\n",
       "    </tr>\n",
       "    <tr>\n",
       "      <th>130</th>\n",
       "      <td>720575940632453224</td>\n",
       "      <td>720575940628682383</td>\n",
       "      <td>0.86</td>\n",
       "      <td>True</td>\n",
       "    </tr>\n",
       "    <tr>\n",
       "      <th>133</th>\n",
       "      <td>720575940639680445</td>\n",
       "      <td>720575940627519746</td>\n",
       "      <td>0.99</td>\n",
       "      <td>True</td>\n",
       "    </tr>\n",
       "    <tr>\n",
       "      <th>146</th>\n",
       "      <td>720575940633883031</td>\n",
       "      <td>720575940615125423</td>\n",
       "      <td>0.89</td>\n",
       "      <td>True</td>\n",
       "    </tr>\n",
       "    <tr>\n",
       "      <th>147</th>\n",
       "      <td>720575940613988077</td>\n",
       "      <td>720575940628389970</td>\n",
       "      <td>0.97</td>\n",
       "      <td>True</td>\n",
       "    </tr>\n",
       "    <tr>\n",
       "      <th>155</th>\n",
       "      <td>720575940624863997</td>\n",
       "      <td>720575940623464918</td>\n",
       "      <td>0.99</td>\n",
       "      <td>True</td>\n",
       "    </tr>\n",
       "    <tr>\n",
       "      <th>163</th>\n",
       "      <td>720575940629695223</td>\n",
       "      <td>720575940620724952</td>\n",
       "      <td>0.97</td>\n",
       "      <td>True</td>\n",
       "    </tr>\n",
       "    <tr>\n",
       "      <th>176</th>\n",
       "      <td>720575940628061061</td>\n",
       "      <td>720575940628937960</td>\n",
       "      <td>0.98</td>\n",
       "      <td>True</td>\n",
       "    </tr>\n",
       "    <tr>\n",
       "      <th>182</th>\n",
       "      <td>720575940629590654</td>\n",
       "      <td>720575940613148378</td>\n",
       "      <td>0.81</td>\n",
       "      <td>True</td>\n",
       "    </tr>\n",
       "    <tr>\n",
       "      <th>183</th>\n",
       "      <td>720575940648559748</td>\n",
       "      <td>720575940621795822</td>\n",
       "      <td>0.99</td>\n",
       "      <td>True</td>\n",
       "    </tr>\n",
       "    <tr>\n",
       "      <th>193</th>\n",
       "      <td>720575940618239673</td>\n",
       "      <td>720575940628389970</td>\n",
       "      <td>0.98</td>\n",
       "      <td>True</td>\n",
       "    </tr>\n",
       "    <tr>\n",
       "      <th>197</th>\n",
       "      <td>720575940619718449</td>\n",
       "      <td>720575940628633621</td>\n",
       "      <td>0.92</td>\n",
       "      <td>True</td>\n",
       "    </tr>\n",
       "    <tr>\n",
       "      <th>203</th>\n",
       "      <td>720575940617829588</td>\n",
       "      <td>720575940634352851</td>\n",
       "      <td>0.99</td>\n",
       "      <td>True</td>\n",
       "    </tr>\n",
       "    <tr>\n",
       "      <th>205</th>\n",
       "      <td>720575940620840277</td>\n",
       "      <td>720575940625169661</td>\n",
       "      <td>0.97</td>\n",
       "      <td>True</td>\n",
       "    </tr>\n",
       "    <tr>\n",
       "      <th>207</th>\n",
       "      <td>720575940635451022</td>\n",
       "      <td>720575940628937960</td>\n",
       "      <td>0.97</td>\n",
       "      <td>True</td>\n",
       "    </tr>\n",
       "    <tr>\n",
       "      <th>208</th>\n",
       "      <td>720575940630272572</td>\n",
       "      <td>720575940621932909</td>\n",
       "      <td>0.97</td>\n",
       "      <td>True</td>\n",
       "    </tr>\n",
       "    <tr>\n",
       "      <th>213</th>\n",
       "      <td>720575940633277335</td>\n",
       "      <td>720575940621655942</td>\n",
       "      <td>0.99</td>\n",
       "      <td>True</td>\n",
       "    </tr>\n",
       "    <tr>\n",
       "      <th>223</th>\n",
       "      <td>720575940624042760</td>\n",
       "      <td>720575940622007905</td>\n",
       "      <td>0.89</td>\n",
       "      <td>True</td>\n",
       "    </tr>\n",
       "    <tr>\n",
       "      <th>224</th>\n",
       "      <td>720575940615119569</td>\n",
       "      <td>720575940624345641</td>\n",
       "      <td>0.87</td>\n",
       "      <td>True</td>\n",
       "    </tr>\n",
       "    <tr>\n",
       "      <th>227</th>\n",
       "      <td>720575940645307415</td>\n",
       "      <td>720575940632606777</td>\n",
       "      <td>0.97</td>\n",
       "      <td>True</td>\n",
       "    </tr>\n",
       "    <tr>\n",
       "      <th>229</th>\n",
       "      <td>720575940626370704</td>\n",
       "      <td>720575940611069764</td>\n",
       "      <td>0.95</td>\n",
       "      <td>True</td>\n",
       "    </tr>\n",
       "    <tr>\n",
       "      <th>236</th>\n",
       "      <td>720575940628319431</td>\n",
       "      <td>720575940622822388</td>\n",
       "      <td>0.97</td>\n",
       "      <td>True</td>\n",
       "    </tr>\n",
       "    <tr>\n",
       "      <th>241</th>\n",
       "      <td>720575940620337317</td>\n",
       "      <td>720575940640266037</td>\n",
       "      <td>0.98</td>\n",
       "      <td>True</td>\n",
       "    </tr>\n",
       "    <tr>\n",
       "      <th>249</th>\n",
       "      <td>720575940623956265</td>\n",
       "      <td>720575940629041916</td>\n",
       "      <td>0.92</td>\n",
       "      <td>True</td>\n",
       "    </tr>\n",
       "    <tr>\n",
       "      <th>252</th>\n",
       "      <td>720575940620862384</td>\n",
       "      <td>720575940622944773</td>\n",
       "      <td>0.99</td>\n",
       "      <td>True</td>\n",
       "    </tr>\n",
       "    <tr>\n",
       "      <th>253</th>\n",
       "      <td>720575940620744225</td>\n",
       "      <td>720575940640094542</td>\n",
       "      <td>0.95</td>\n",
       "      <td>True</td>\n",
       "    </tr>\n",
       "  </tbody>\n",
       "</table>\n",
       "</div>"
      ],
      "text/plain": [
       "                 old_id              new_id  confidence  changed\n",
       "15   720575940621734109  720575940626398285        0.99     True\n",
       "17   720575940631809611  720575940615126447        0.86     True\n",
       "37   720575940612241066  720575940613605273        0.96     True\n",
       "44   720575940630558838  720575940623180321        0.96     True\n",
       "45   720575940630513408  720575940610294211        0.60     True\n",
       "55   720575940611821410  720575940624345641        0.82     True\n",
       "65   720575940633890017  720575940626397773        0.60     True\n",
       "74   720575940617878299  720575940621661062        0.95     True\n",
       "75   720575940620452261  720575940628938472        0.95     True\n",
       "79   720575940619668904  720575940640337205        0.90     True\n",
       "81   720575940624810220  720575940612504782        0.99     True\n",
       "86   720575940620279643  720575940623464918        0.99     True\n",
       "93   720575940604946633  720575940621795822        0.94     True\n",
       "101  720575940616425797  720575940621080711        0.88     True\n",
       "109  720575940618468637  720575940610500547        0.97     True\n",
       "115  720575940613146861  720575940630586238        0.86     True\n",
       "117  720575940620164657  720575940623463382        0.97     True\n",
       "126  720575940619190577  720575940628658692        0.99     True\n",
       "128  720575940633880462  720575940612980629        0.98     True\n",
       "130  720575940632453224  720575940628682383        0.86     True\n",
       "133  720575940639680445  720575940627519746        0.99     True\n",
       "146  720575940633883031  720575940615125423        0.89     True\n",
       "147  720575940613988077  720575940628389970        0.97     True\n",
       "155  720575940624863997  720575940623464918        0.99     True\n",
       "163  720575940629695223  720575940620724952        0.97     True\n",
       "176  720575940628061061  720575940628937960        0.98     True\n",
       "182  720575940629590654  720575940613148378        0.81     True\n",
       "183  720575940648559748  720575940621795822        0.99     True\n",
       "193  720575940618239673  720575940628389970        0.98     True\n",
       "197  720575940619718449  720575940628633621        0.92     True\n",
       "203  720575940617829588  720575940634352851        0.99     True\n",
       "205  720575940620840277  720575940625169661        0.97     True\n",
       "207  720575940635451022  720575940628937960        0.97     True\n",
       "208  720575940630272572  720575940621932909        0.97     True\n",
       "213  720575940633277335  720575940621655942        0.99     True\n",
       "223  720575940624042760  720575940622007905        0.89     True\n",
       "224  720575940615119569  720575940624345641        0.87     True\n",
       "227  720575940645307415  720575940632606777        0.97     True\n",
       "229  720575940626370704  720575940611069764        0.95     True\n",
       "236  720575940628319431  720575940622822388        0.97     True\n",
       "241  720575940620337317  720575940640266037        0.98     True\n",
       "249  720575940623956265  720575940629041916        0.92     True\n",
       "252  720575940620862384  720575940622944773        0.99     True\n",
       "253  720575940620744225  720575940640094542        0.95     True"
      ]
     },
     "execution_count": 10,
     "metadata": {},
     "output_type": "execute_result"
    }
   ],
   "source": [
    "updated_ID_df[updated_ID_df['confidence'] < 1]"
   ]
  },
  {
   "cell_type": "code",
   "execution_count": 11,
   "id": "70cf7e9f",
   "metadata": {
    "scrolled": true
   },
   "outputs": [
    {
     "data": {
      "text/plain": [
       "[720575940626398285,\n",
       " 720575940615126447,\n",
       " 720575940613605273,\n",
       " 720575940623180321,\n",
       " 720575940610294211,\n",
       " 720575940624345641,\n",
       " 720575940626397773,\n",
       " 720575940621661062,\n",
       " 720575940628938472,\n",
       " 720575940640337205,\n",
       " 720575940612504782,\n",
       " 720575940623464918,\n",
       " 720575940621795822,\n",
       " 720575940621080711,\n",
       " 720575940610500547,\n",
       " 720575940630586238,\n",
       " 720575940623463382,\n",
       " 720575940628658692,\n",
       " 720575940612980629,\n",
       " 720575940628682383,\n",
       " 720575940627519746,\n",
       " 720575940615125423,\n",
       " 720575940628389970,\n",
       " 720575940623464918,\n",
       " 720575940620724952,\n",
       " 720575940628937960,\n",
       " 720575940613148378,\n",
       " 720575940621795822,\n",
       " 720575940628389970,\n",
       " 720575940628633621,\n",
       " 720575940634352851,\n",
       " 720575940625169661,\n",
       " 720575940628937960,\n",
       " 720575940621932909,\n",
       " 720575940621655942,\n",
       " 720575940622007905,\n",
       " 720575940624345641,\n",
       " 720575940632606777,\n",
       " 720575940611069764,\n",
       " 720575940622822388,\n",
       " 720575940640266037,\n",
       " 720575940629041916,\n",
       " 720575940622944773,\n",
       " 720575940640094542]"
      ]
     },
     "execution_count": 11,
     "metadata": {},
     "output_type": "execute_result"
    }
   ],
   "source": [
    "updated_ID_df[updated_ID_df['confidence'] < 1]['new_id'].tolist()"
   ]
  },
  {
   "cell_type": "code",
   "execution_count": 12,
   "id": "c2366821",
   "metadata": {
    "scrolled": false
   },
   "outputs": [
    {
     "data": {
      "text/plain": [
       "[720575940621734109,\n",
       " 720575940631809611,\n",
       " 720575940612241066,\n",
       " 720575940630558838,\n",
       " 720575940630513408,\n",
       " 720575940611821410,\n",
       " 720575940633890017,\n",
       " 720575940617878299,\n",
       " 720575940620452261,\n",
       " 720575940619668904,\n",
       " 720575940624810220,\n",
       " 720575940620279643,\n",
       " 720575940604946633,\n",
       " 720575940616425797,\n",
       " 720575940618468637,\n",
       " 720575940613146861,\n",
       " 720575940620164657,\n",
       " 720575940619190577,\n",
       " 720575940633880462,\n",
       " 720575940632453224,\n",
       " 720575940639680445,\n",
       " 720575940633883031,\n",
       " 720575940613988077,\n",
       " 720575940624863997,\n",
       " 720575940629695223,\n",
       " 720575940628061061,\n",
       " 720575940629590654,\n",
       " 720575940648559748,\n",
       " 720575940618239673,\n",
       " 720575940619718449,\n",
       " 720575940617829588,\n",
       " 720575940620840277,\n",
       " 720575940635451022,\n",
       " 720575940630272572,\n",
       " 720575940633277335,\n",
       " 720575940624042760,\n",
       " 720575940615119569,\n",
       " 720575940645307415,\n",
       " 720575940626370704,\n",
       " 720575940628319431,\n",
       " 720575940620337317,\n",
       " 720575940623956265,\n",
       " 720575940620862384,\n",
       " 720575940620744225]"
      ]
     },
     "execution_count": 12,
     "metadata": {},
     "output_type": "execute_result"
    }
   ],
   "source": [
    "updated_ID_df[updated_ID_df['confidence'] < 1]['old_id'].tolist()"
   ]
  },
  {
   "cell_type": "markdown",
   "id": "70954653",
   "metadata": {},
   "source": []
  },
  {
   "cell_type": "markdown",
   "id": "bdb7a7b1",
   "metadata": {},
   "source": [
    "### 2. Saving back in the excel file"
   ]
  },
  {
   "cell_type": "code",
   "execution_count": 13,
   "id": "2903e8ed",
   "metadata": {},
   "outputs": [],
   "source": [
    "# Creating string for the date\n",
    "import datetime\n",
    "x = datetime.datetime.now()\n",
    "date_str = x.strftime(\"%d\") + x.strftime(\"%b\") + x.strftime(\"%Y\")\n",
    "\n",
    "# Writting in an existing excel file\n",
    "from openpyxl import load_workbook\n",
    "book = load_workbook(filePath)\n",
    "writer = pd.ExcelWriter(filePath, engine = 'openpyxl')\n",
    "writer.book = book\n",
    "\n",
    "result_df.to_excel(writer, sheet_name='Updated_table_'+date_str) #sorted_df\n",
    "writer.save()\n",
    "writer.close()"
   ]
  },
  {
   "cell_type": "code",
   "execution_count": 102,
   "id": "c89aaa46",
   "metadata": {},
   "outputs": [
    {
     "data": {
      "text/html": [
       "<div>\n",
       "<style scoped>\n",
       "    .dataframe tbody tr th:only-of-type {\n",
       "        vertical-align: middle;\n",
       "    }\n",
       "\n",
       "    .dataframe tbody tr th {\n",
       "        vertical-align: top;\n",
       "    }\n",
       "\n",
       "    .dataframe thead th {\n",
       "        text-align: right;\n",
       "    }\n",
       "</style>\n",
       "<table border=\"1\" class=\"dataframe\">\n",
       "  <thead>\n",
       "    <tr style=\"text-align: right;\">\n",
       "      <th></th>\n",
       "      <th>old_id</th>\n",
       "      <th>new_id</th>\n",
       "      <th>confidence</th>\n",
       "      <th>changed</th>\n",
       "    </tr>\n",
       "  </thead>\n",
       "  <tbody>\n",
       "  </tbody>\n",
       "</table>\n",
       "</div>"
      ],
      "text/plain": [
       "Empty DataFrame\n",
       "Columns: [old_id, new_id, confidence, changed]\n",
       "Index: []"
      ]
     },
     "execution_count": 102,
     "metadata": {},
     "output_type": "execute_result"
    }
   ],
   "source": [
    "updated_ID_df[updated_ID_df['new_id'] == 720575940613560342]"
   ]
  }
 ],
 "metadata": {
  "kernelspec": {
   "display_name": "Python 3",
   "language": "python",
   "name": "python3"
  },
  "language_info": {
   "codemirror_mode": {
    "name": "ipython",
    "version": 3
   },
   "file_extension": ".py",
   "mimetype": "text/x-python",
   "name": "python",
   "nbconvert_exporter": "python",
   "pygments_lexer": "ipython3",
   "version": "3.7.4"
  }
 },
 "nbformat": 4,
 "nbformat_minor": 5
}
