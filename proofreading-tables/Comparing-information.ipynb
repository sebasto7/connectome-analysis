{
 "cells": [
  {
   "cell_type": "markdown",
   "id": "23e13042",
   "metadata": {},
   "source": [
    "# Comparing information from many sources"
   ]
  },
  {
   "cell_type": "markdown",
   "id": "a03a79e7",
   "metadata": {},
   "source": [
    "### A ) Comparing IDs in a data base with IDs in a list "
   ]
  },
  {
   "cell_type": "code",
   "execution_count": 2,
   "id": "cb9913ac",
   "metadata": {},
   "outputs": [],
   "source": [
    "# Importing packages\n",
    "import os\n",
    "import pandas as pd"
   ]
  },
  {
   "cell_type": "code",
   "execution_count": 8,
   "id": "bf5872c9",
   "metadata": {},
   "outputs": [],
   "source": [
    "# General user parameters\n",
    "PC_disc = 'D'\n",
    "\n",
    "# Choose path and file for data base\n",
    "dataPath = f'{PC_disc}:\\Connectomics-Data\\FlyWire\\Excels\\drive-data-sets'\n",
    "date = '20230906'\n",
    "fileName = f'C3 proofreadings_{date}.xlsx'\n",
    "filePath = os.path.join(dataPath,fileName)\n",
    "data_base_df = pd.read_excel(filePath)\n",
    "\n",
    "\n",
    "# Choose path and file for list of IDs (txt file)\n",
    "dataPath = f'{PC_disc}:\\Connectomics-Data\\FlyWire\\Txts\\cell_type_proofread'\n",
    "fileDate = '20230906'\n",
    "fileName = f'Updated_root_ids_C3_R_{fileDate}.txt'\n",
    "filePath = os.path.join(dataPath,fileName)\n",
    "curr_ID_ls = list(set([word.split(',') for word in open(filePath, 'r').readlines()][0]))\n",
    "int_ID_ls = [int(s) for s in curr_ID_ls]"
   ]
  },
  {
   "cell_type": "code",
   "execution_count": 9,
   "id": "9f7d2a5d",
   "metadata": {},
   "outputs": [
    {
     "data": {
      "text/plain": [
       "412"
      ]
     },
     "execution_count": 9,
     "metadata": {},
     "output_type": "execute_result"
    }
   ],
   "source": [
    "# Comparing IDs between data base and list\n",
    "\n",
    "# Present in the data base but not in the list\n",
    "unique_in_database = data_base_df[data_base_df['Updated_seg_id'].isin(int_ID_ls) == False]['Updated_seg_id'].tolist()\n",
    "len(unique_in_database)"
   ]
  },
  {
   "cell_type": "code",
   "execution_count": 10,
   "id": "becdb117",
   "metadata": {},
   "outputs": [
    {
     "data": {
      "text/plain": [
       "172"
      ]
     },
     "execution_count": 10,
     "metadata": {},
     "output_type": "execute_result"
    }
   ],
   "source": [
    "# Comparing IDs between data base and list\n",
    "\n",
    "# Present in the list but not in the data base \n",
    "unique_in_list = [i for i in int_ID_ls if i not in data_base_df['Updated_seg_id'].tolist()]\n",
    "len(unique_in_list)"
   ]
  },
  {
   "cell_type": "code",
   "execution_count": 11,
   "id": "56dd80c8",
   "metadata": {},
   "outputs": [
    {
     "data": {
      "text/plain": [
       "[720575940620633560,\n",
       " 720575940639647651,\n",
       " 720575940625563429,\n",
       " 720575940633553439,\n",
       " 720575940629803458,\n",
       " 720575940630215127,\n",
       " 720575940628550916,\n",
       " 720575940630434876,\n",
       " 720575940635308444,\n",
       " 720575940620905638,\n",
       " 720575940618400230,\n",
       " 720575940616047116,\n",
       " 720575940627416457,\n",
       " 720575940627078417,\n",
       " 720575940627074566,\n",
       " 720575940638036157,\n",
       " 720575940632046509,\n",
       " 720575940629098492,\n",
       " 720575940621064277,\n",
       " 720575940620688110,\n",
       " 720575940629901074,\n",
       " 720575940620108715,\n",
       " 720575940648558980,\n",
       " 720575940643706784,\n",
       " 720575940628813060,\n",
       " 720575940622594292,\n",
       " 720575940631020495,\n",
       " 720575940632058063,\n",
       " 720575940630872428,\n",
       " 720575940647633460,\n",
       " 720575940611438968,\n",
       " 720575940639466054,\n",
       " 720575940627505283,\n",
       " 720575940625018109,\n",
       " 720575940620921424,\n",
       " 720575940620482753,\n",
       " 720575940620976048,\n",
       " 720575940630716534,\n",
       " 720575940627737725,\n",
       " 720575940629292806,\n",
       " 720575940629161713,\n",
       " 720575940633458124,\n",
       " 720575940630904261,\n",
       " 720575940608278364,\n",
       " 720575940622900237,\n",
       " 720575940613692950,\n",
       " 720575940640039229,\n",
       " 720575940622773929,\n",
       " 720575940633423897,\n",
       " 720575940622477823,\n",
       " 720575940616054175,\n",
       " 720575940611973489,\n",
       " 720575940638211300,\n",
       " 720575940624347430,\n",
       " 720575940639217085,\n",
       " 720575940640615485,\n",
       " 720575940632756781,\n",
       " 720575940611104462,\n",
       " 720575940627339346,\n",
       " 720575940627160266,\n",
       " 720575940619074587,\n",
       " 720575940615666399,\n",
       " 720575940609036757,\n",
       " 720575940621294768,\n",
       " 720575940629646583,\n",
       " 720575940624886712,\n",
       " 720575940628881668,\n",
       " 720575940632456490,\n",
       " 720575940613686993,\n",
       " 720575940631136274,\n",
       " 720575940613320434,\n",
       " 720575940610484782,\n",
       " 720575940632534476,\n",
       " 720575940632780077,\n",
       " 720575940613485608,\n",
       " 720575940646381678,\n",
       " 720575940639858485,\n",
       " 720575940623910349,\n",
       " 720575940612202850,\n",
       " 720575940639761059,\n",
       " 720575940622983081,\n",
       " 720575940615601575,\n",
       " 720575940625522667,\n",
       " 720575940622053381,\n",
       " 720575940625837242,\n",
       " 720575940633546700,\n",
       " 720575940623108301,\n",
       " 720575940617717282,\n",
       " 720575940626532354,\n",
       " 720575940612683816,\n",
       " 720575940638786118,\n",
       " 720575940627410690,\n",
       " 720575940622146625,\n",
       " 720575940634003885,\n",
       " 720575940628893160,\n",
       " 720575940624929789,\n",
       " 720575940621870445,\n",
       " 720575940620250049,\n",
       " 720575940628434248,\n",
       " 720575940609734357,\n",
       " 720575940627754073,\n",
       " 720575940621680321,\n",
       " 720575940629167878,\n",
       " 720575940620936583,\n",
       " 720575940624289205,\n",
       " 720575940624159123,\n",
       " 720575940609862667,\n",
       " 720575940622981912,\n",
       " 720575940630767097,\n",
       " 720575940632753837,\n",
       " 720575940637836009,\n",
       " 720575940625351780,\n",
       " 720575940617835547,\n",
       " 720575940610001109,\n",
       " 720575940608061826,\n",
       " 720575940634440343,\n",
       " 720575940630307835,\n",
       " 720575940610497582,\n",
       " 720575940614277859,\n",
       " 720575940621564864,\n",
       " 720575940628571753,\n",
       " 720575940621692353,\n",
       " 720575940627484297,\n",
       " 720575940626040508,\n",
       " 720575940610346030,\n",
       " 720575940620315969,\n",
       " 720575940616476555,\n",
       " 720575940630765946,\n",
       " 720575940607184329,\n",
       " 720575940626720152,\n",
       " 720575940637328198,\n",
       " 720575940633860397,\n",
       " 720575940623104862,\n",
       " 720575940623498790,\n",
       " 720575940636601742,\n",
       " 720575940613819670,\n",
       " 720575940623608870,\n",
       " 720575940636889456,\n",
       " 720575940624169001,\n",
       " 720575940631246863,\n",
       " 720575940619521950,\n",
       " 720575940605174304,\n",
       " 720575940604692704,\n",
       " 720575940610972914,\n",
       " 720575940642370011,\n",
       " 720575940620678022,\n",
       " 720575940623448188,\n",
       " 720575940614625698,\n",
       " 720575940616274827,\n",
       " 720575940617214395,\n",
       " 720575940622740208,\n",
       " 720575940635558904,\n",
       " 720575940627174417,\n",
       " 720575940629453553,\n",
       " 720575940624994557,\n",
       " 720575940619767893,\n",
       " 720575940639138281,\n",
       " 720575940626290946,\n",
       " 720575940621244848,\n",
       " 720575940619132632,\n",
       " 720575940633662628,\n",
       " 720575940624400713,\n",
       " 720575940608043954,\n",
       " 720575940630613356,\n",
       " 720575940627432469,\n",
       " 720575940636108407,\n",
       " 720575940614708236,\n",
       " 720575940605190624,\n",
       " 720575940620102772,\n",
       " 720575940630172571,\n",
       " 720575940625977788,\n",
       " 720575940660816769]"
      ]
     },
     "execution_count": 11,
     "metadata": {},
     "output_type": "execute_result"
    }
   ],
   "source": [
    "unique_in_list"
   ]
  },
  {
   "cell_type": "markdown",
   "id": "62016cfa",
   "metadata": {},
   "source": [
    "### B ) Comparing two lists from txt files"
   ]
  },
  {
   "cell_type": "code",
   "execution_count": 31,
   "id": "8a377bf1",
   "metadata": {},
   "outputs": [],
   "source": [
    "# Importing files\n",
    "\n",
    "PC_disc = 'D'\n",
    "dataPath =  f'{PC_disc}:\\Connectomics-Data\\FlyWire\\Txts\\optic_lobes_ids'\n",
    "\n",
    "#File one\n",
    "fileName_1 = f'Tm9_R_210.txt'\n",
    "filePath = os.path.join(dataPath,fileName_1)\n",
    "df_1 = pd.read_csv(filePath, delimiter = \"\\t\",header=None)\n",
    "list1 = list(set(df_1[0].tolist()))\n",
    "\n",
    "#File two\n",
    "fileName_2 = f'Tm9_R_490.txt'\n",
    "filePath = os.path.join(dataPath,fileName_2)\n",
    "df_2 = pd.read_csv(filePath, delimiter = \"\\t\",header=None)\n",
    "list2 = list(set(df_2[0].tolist()))\n",
    "\n"
   ]
  },
  {
   "cell_type": "code",
   "execution_count": 32,
   "id": "6a8eaf81",
   "metadata": {},
   "outputs": [],
   "source": [
    "# Comparing the files\n",
    "\n",
    "common_items = list(set(list1) & set(list2))\n",
    "uncommon_items = list(set(list1) ^ set(list2))"
   ]
  },
  {
   "cell_type": "code",
   "execution_count": 33,
   "id": "5b2520a6",
   "metadata": {},
   "outputs": [
    {
     "data": {
      "text/plain": [
       "700"
      ]
     },
     "execution_count": 33,
     "metadata": {},
     "output_type": "execute_result"
    }
   ],
   "source": [
    "len(uncommon_items)"
   ]
  },
  {
   "cell_type": "markdown",
   "id": "4d73ac41",
   "metadata": {},
   "source": [
    "### Saving the lists in txt files"
   ]
  },
  {
   "cell_type": "code",
   "execution_count": 36,
   "id": "2ace7b30",
   "metadata": {},
   "outputs": [],
   "source": [
    "# Saving function\n",
    "def save_list_to_file(file_path, input_list):\n",
    "    df = pd.DataFrame(input_list, columns=['Items'])\n",
    "    df.to_csv(file_path, header=False, index=False)\n",
    "\n",
    "\n"
   ]
  },
  {
   "cell_type": "code",
   "execution_count": 40,
   "id": "194f1be2",
   "metadata": {},
   "outputs": [],
   "source": [
    "# Saving\n",
    "PC_disc = 'D'\n",
    "outputPath =  f'{PC_disc}:/Connectomics-Data/FlyWire/Txts/optic_lobes_ids'\n",
    "\n",
    "file_path_1 = os.path.join(outputPath,fileName_1)\n",
    "save_list_to_file(file_path_1, list1)\n",
    "\n",
    "file_path_2 = os.path.join(outputPath,fileName_2)\n",
    "save_list_to_file(file_path_2, list2)"
   ]
  },
  {
   "cell_type": "code",
   "execution_count": null,
   "id": "b85dd761",
   "metadata": {},
   "outputs": [],
   "source": []
  }
 ],
 "metadata": {
  "kernelspec": {
   "display_name": "Python 3",
   "language": "python",
   "name": "python3"
  },
  "language_info": {
   "codemirror_mode": {
    "name": "ipython",
    "version": 3
   },
   "file_extension": ".py",
   "mimetype": "text/x-python",
   "name": "python",
   "nbconvert_exporter": "python",
   "pygments_lexer": "ipython3",
   "version": "3.7.4"
  }
 },
 "nbformat": 4,
 "nbformat_minor": 5
}
