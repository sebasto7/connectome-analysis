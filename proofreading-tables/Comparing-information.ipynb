{
 "cells": [
  {
   "cell_type": "markdown",
   "id": "a03a79e7",
   "metadata": {},
   "source": [
    "# Comparing IDs in a data base with IDs in a list "
   ]
  },
  {
   "cell_type": "code",
   "execution_count": 112,
   "id": "cb9913ac",
   "metadata": {},
   "outputs": [],
   "source": [
    "# Importing packages\n",
    "import os\n",
    "import pandas as pd\n",
    "\n",
    "# General user parameters\n",
    "PC_disc = 'D'\n",
    "dataPath =  f'{PC_disc}:\\Connectomics-Data\\FlyWire\\Excels\\drive-data-sets'\n"
   ]
  },
  {
   "cell_type": "code",
   "execution_count": 118,
   "id": "bf5872c9",
   "metadata": {},
   "outputs": [],
   "source": [
    "# Choose path and file for data base\n",
    "dataPath = f'{PC_disc}:\\Connectomics-Data\\FlyWire\\Excels\\drive-data-sets'\n",
    "date = '20230906'\n",
    "fileName = f'Dm12 proofreadings_{date}.xlsx'\n",
    "filePath = os.path.join(dataPath,fileName)\n",
    "data_base_df = pd.read_excel(filePath)\n",
    "\n",
    "\n",
    "# Choose path and file for list of IDs (txt file)\n",
    "dataPath = f'{PC_disc}:\\Connectomics-Data\\FlyWire\\Txts\\cell_type_proofread'\n",
    "fileDate = '20230906'\n",
    "fileName = f'Updated_root_ids_Dm12_{fileDate}.txt'\n",
    "filePath = os.path.join(dataPath,fileName)\n",
    "curr_ID_ls = list(set([word.split(',') for word in open(filePath, 'r').readlines()][0]))\n",
    "int_ID_ls = [int(s) for s in curr_ID_ls]"
   ]
  },
  {
   "cell_type": "code",
   "execution_count": 119,
   "id": "9f7d2a5d",
   "metadata": {},
   "outputs": [
    {
     "data": {
      "text/plain": [
       "0"
      ]
     },
     "execution_count": 119,
     "metadata": {},
     "output_type": "execute_result"
    }
   ],
   "source": [
    "# Comparing IDs between data base and list\n",
    "\n",
    "# Present in the data base but not in the list\n",
    "unique_in_database = data_base_df[data_base_df['Updated_seg_id'].isin(int_ID_ls) == False]['Updated_seg_id'].tolist()\n",
    "len(unique_in_database)"
   ]
  },
  {
   "cell_type": "code",
   "execution_count": 120,
   "id": "becdb117",
   "metadata": {},
   "outputs": [
    {
     "data": {
      "text/plain": [
       "5"
      ]
     },
     "execution_count": 120,
     "metadata": {},
     "output_type": "execute_result"
    }
   ],
   "source": [
    "# Comparing IDs between data base and list\n",
    "\n",
    "# Present in the list but not in the data base \n",
    "unique_in_list = [i for i in int_ID_ls if i not in data_base_df['Updated_seg_id'].tolist()]\n",
    "len(unique_in_list)"
   ]
  },
  {
   "cell_type": "code",
   "execution_count": 121,
   "id": "56dd80c8",
   "metadata": {},
   "outputs": [
    {
     "data": {
      "text/plain": [
       "[720575940634292119,\n",
       " 720575940628905448,\n",
       " 720575940631821143,\n",
       " 720575940633203852,\n",
       " 720575940618595874]"
      ]
     },
     "execution_count": 121,
     "metadata": {},
     "output_type": "execute_result"
    }
   ],
   "source": [
    "unique_in_list"
   ]
  },
  {
   "cell_type": "code",
   "execution_count": null,
   "id": "390d4d45",
   "metadata": {},
   "outputs": [],
   "source": []
  },
  {
   "cell_type": "code",
   "execution_count": null,
   "id": "8a377bf1",
   "metadata": {},
   "outputs": [],
   "source": []
  }
 ],
 "metadata": {
  "kernelspec": {
   "display_name": "Python 3",
   "language": "python",
   "name": "python3"
  },
  "language_info": {
   "codemirror_mode": {
    "name": "ipython",
    "version": 3
   },
   "file_extension": ".py",
   "mimetype": "text/x-python",
   "name": "python",
   "nbconvert_exporter": "python",
   "pygments_lexer": "ipython3",
   "version": "3.7.4"
  }
 },
 "nbformat": 4,
 "nbformat_minor": 5
}
