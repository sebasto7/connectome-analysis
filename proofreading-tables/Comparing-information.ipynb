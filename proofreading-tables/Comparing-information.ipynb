{
 "cells": [
  {
   "cell_type": "markdown",
   "id": "a03a79e7",
   "metadata": {},
   "source": [
    "# Comparing IDs in a data base with IDs in a list "
   ]
  },
  {
   "cell_type": "code",
   "execution_count": 32,
   "id": "cb9913ac",
   "metadata": {},
   "outputs": [],
   "source": [
    "# Importing packages\n",
    "import os\n",
    "import pandas as pd\n",
    "\n",
    "# General user parameters\n",
    "PC_disc = 'D'\n",
    "dataPath =  f'{PC_disc}:\\Connectomics-Data\\FlyWire\\Excels\\drive-data-sets'\n"
   ]
  },
  {
   "cell_type": "code",
   "execution_count": 34,
   "id": "bf5872c9",
   "metadata": {},
   "outputs": [],
   "source": [
    "# Choose path and file for data base\n",
    "dataPath = f'{PC_disc}:\\Connectomics-Data\\FlyWire\\Excels\\drive-data-sets'\n",
    "date = '20230906'\n",
    "fileName = f'C2 proofreadings_{date}.xlsx'\n",
    "filePath = os.path.join(dataPath,fileName)\n",
    "data_base_df = pd.read_excel(filePath)\n",
    "\n",
    "\n",
    "# Choose path and file for list of IDs (txt file)\n",
    "dataPath = f'{PC_disc}:\\Connectomics-Data\\FlyWire\\Txts\\cell_type_proofread'\n",
    "fileDate = '20230906'\n",
    "fileName = f'Updated_root_ids_C2_L_{fileDate}.txt'\n",
    "filePath = os.path.join(dataPath,fileName)\n",
    "curr_ID_ls = list(set([word.split(',') for word in open(filePath, 'r').readlines()][0]))\n",
    "int_ID_ls = [int(s) for s in curr_ID_ls]"
   ]
  },
  {
   "cell_type": "code",
   "execution_count": 35,
   "id": "9f7d2a5d",
   "metadata": {},
   "outputs": [
    {
     "data": {
      "text/plain": [
       "283"
      ]
     },
     "execution_count": 35,
     "metadata": {},
     "output_type": "execute_result"
    }
   ],
   "source": [
    "# Comparing IDs between data base and list\n",
    "\n",
    "# Present in the data base but not in the list\n",
    "unique_in_database = data_base_df[data_base_df['Updated_seg_id'].isin(int_ID_ls) == False]['Updated_seg_id'].tolist()\n",
    "len(unique_in_database)"
   ]
  },
  {
   "cell_type": "code",
   "execution_count": 36,
   "id": "becdb117",
   "metadata": {},
   "outputs": [
    {
     "data": {
      "text/plain": [
       "82"
      ]
     },
     "execution_count": 36,
     "metadata": {},
     "output_type": "execute_result"
    }
   ],
   "source": [
    "# Comparing IDs between data base and list\n",
    "\n",
    "# Present in the list but not in the data base \n",
    "unique_in_list = [i for i in int_ID_ls if i not in data_base_df['Updated_seg_id'].tolist()]\n",
    "len(unique_in_list)"
   ]
  },
  {
   "cell_type": "code",
   "execution_count": 37,
   "id": "56dd80c8",
   "metadata": {},
   "outputs": [
    {
     "data": {
      "text/plain": [
       "[720575940629373968,\n",
       " 720575940613588850,\n",
       " 720575940632395562,\n",
       " 720575940632578375,\n",
       " 720575940616932027,\n",
       " 720575940629786959,\n",
       " 720575940615900575,\n",
       " 720575940628100154,\n",
       " 720575940610436932,\n",
       " 720575940619983665,\n",
       " 720575940644432072,\n",
       " 720575940625447143,\n",
       " 720575940625088235,\n",
       " 720575940635522911,\n",
       " 720575940615969346,\n",
       " 720575940618101478,\n",
       " 720575940619994328,\n",
       " 720575940639734973,\n",
       " 720575940623984135,\n",
       " 720575940612388501,\n",
       " 720575940625892280,\n",
       " 720575940618440449,\n",
       " 720575940635605439,\n",
       " 720575940633628580,\n",
       " 720575940631437583,\n",
       " 720575940615509354,\n",
       " 720575940629206257,\n",
       " 720575940621024165,\n",
       " 720575940605369312,\n",
       " 720575940623334524,\n",
       " 720575940613094117,\n",
       " 720575940630498304,\n",
       " 720575940615166514,\n",
       " 720575940622711372,\n",
       " 720575940632372840,\n",
       " 720575940616817851,\n",
       " 720575940640211022,\n",
       " 720575940613865443,\n",
       " 720575940623504483,\n",
       " 720575940641089744,\n",
       " 720575940627094044,\n",
       " 720575940639633205,\n",
       " 720575940629586947,\n",
       " 720575940642379405,\n",
       " 720575940609459576,\n",
       " 720575940617979609,\n",
       " 720575940629784702,\n",
       " 720575940625282035,\n",
       " 720575940634105314,\n",
       " 720575940619693470,\n",
       " 720575940627069190,\n",
       " 720575940609256203,\n",
       " 720575940619606582,\n",
       " 720575940619911222,\n",
       " 720575940618980677,\n",
       " 720575940623431523,\n",
       " 720575940640693080,\n",
       " 720575940623994346,\n",
       " 720575940633586093,\n",
       " 720575940630590524,\n",
       " 720575940607687602,\n",
       " 720575940624184211,\n",
       " 720575940625578895,\n",
       " 720575940616859323,\n",
       " 720575940622973654,\n",
       " 720575940614025903,\n",
       " 720575940624367083,\n",
       " 720575940626622270,\n",
       " 720575940629212675,\n",
       " 720575940627786073,\n",
       " 720575940627334019,\n",
       " 720575940620741908,\n",
       " 720575940624605734,\n",
       " 720575940605225952,\n",
       " 720575940623249373,\n",
       " 720575940637421742,\n",
       " 720575940635606207,\n",
       " 720575940627469949,\n",
       " 720575940606022846,\n",
       " 720575940631182188,\n",
       " 720575940612776817,\n",
       " 720575940631870479]"
      ]
     },
     "execution_count": 37,
     "metadata": {},
     "output_type": "execute_result"
    }
   ],
   "source": [
    "unique_in_list"
   ]
  },
  {
   "cell_type": "code",
   "execution_count": null,
   "id": "390d4d45",
   "metadata": {},
   "outputs": [],
   "source": []
  },
  {
   "cell_type": "code",
   "execution_count": null,
   "id": "8a377bf1",
   "metadata": {},
   "outputs": [],
   "source": []
  }
 ],
 "metadata": {
  "kernelspec": {
   "display_name": "Python 3",
   "language": "python",
   "name": "python3"
  },
  "language_info": {
   "codemirror_mode": {
    "name": "ipython",
    "version": 3
   },
   "file_extension": ".py",
   "mimetype": "text/x-python",
   "name": "python",
   "nbconvert_exporter": "python",
   "pygments_lexer": "ipython3",
   "version": "3.7.4"
  }
 },
 "nbformat": 4,
 "nbformat_minor": 5
}
