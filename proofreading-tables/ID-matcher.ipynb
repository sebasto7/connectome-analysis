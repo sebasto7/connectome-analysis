{
 "cells": [
  {
   "cell_type": "markdown",
   "id": "bf3be882",
   "metadata": {},
   "source": [
    "# Match cell ids to other cell ids for intracolumnar neurons"
   ]
  },
  {
   "cell_type": "markdown",
   "id": "99aa852a",
   "metadata": {},
   "source": [
    "This notebook contains code for:\n",
    "<br><br> A) Reordering ids based on a reference list\n",
    "<br> B) Matching ids based on connectivity"
   ]
  },
  {
   "cell_type": "markdown",
   "id": "a94edf6b",
   "metadata": {},
   "source": [
    "#### Importing packages"
   ]
  },
  {
   "cell_type": "code",
   "execution_count": 1,
   "id": "f6bb3ef3",
   "metadata": {},
   "outputs": [
    {
     "name": "stderr",
     "output_type": "stream",
     "text": [
      "C:\\Users\\smolina\\Anaconda3\\envs\\EM\\lib\\site-packages\\blessed\\terminal.py:186: UserWarning: Failed to setupterm(kind='xterm-color'): Could not find terminal xterm-color\n",
      "  warnings.warn(msg)\n"
     ]
    }
   ],
   "source": [
    "import os\n",
    "import pandas as pd\n",
    "import numpy as np\n",
    "import fafbseg\n",
    "from fafbseg import flywire\n",
    "from helpers.synapse_queries import combine_xyz"
   ]
  },
  {
   "cell_type": "markdown",
   "id": "6e8e05ad",
   "metadata": {},
   "source": [
    "#### Defininig some useful functions"
   ]
  },
  {
   "cell_type": "code",
   "execution_count": 2,
   "id": "f00fe379",
   "metadata": {},
   "outputs": [],
   "source": [
    "def reorder_lists(list_A, list_B, list_B2):\n",
    "    \n",
    "    \"\"\"\n",
    "    Reorders items in list_A based on the order of list_B, while considering an unordered version list_B2.\n",
    "\n",
    "    Parameters:\n",
    "    list_A (list): The original list of items to be reordered.\n",
    "    list_B (list): The target order of items used for reordering.\n",
    "    list_B2 (list): An unordered version of list_B with the same items.\n",
    "\n",
    "    Returns:\n",
    "    list: A new list containing the items from list_A reordered according to the order of list_B.\n",
    "    \n",
    "    Example:\n",
    "    >>> list_A = [1, 2, 3, 4, 5]\n",
    "    >>> list_B = ['apple', 'banana', 'orange', 'grape', 'pear']\n",
    "    >>> list_B2 = ['grape', 'banana', 'apple', 'orange', 'pear']\n",
    "    >>> list_A2 = reorder_lists(list_A, list_B, list_B2)\n",
    "    >>> print(list_A2)\n",
    "    [4, 2, 1, 3, 5]\n",
    "    \"\"\"\n",
    "    \n",
    "    # Create a dictionary to store the indices of items in list_B2\n",
    "    index_dict = {item: index for index, item in enumerate(list_B2)}\n",
    "\n",
    "    # Sort list_B2 based on the order of list_B\n",
    "    sorted_list_B2 = sorted(list_B2, key=lambda x: list_B.index(x))\n",
    "\n",
    "    # Use the indices from index_dict to reorder list_A\n",
    "    list_A2 = [list_A[index_dict[item]] for item in sorted_list_B2]\n",
    "    \n",
    "\n",
    "    return list_A2"
   ]
  },
  {
   "cell_type": "markdown",
   "id": "feeb6cbf",
   "metadata": {},
   "source": [
    "### A) Reordering ids based on a reference list"
   ]
  },
  {
   "cell_type": "code",
   "execution_count": 47,
   "id": "ba82b63e",
   "metadata": {},
   "outputs": [],
   "source": [
    "# Choose path and file\n",
    "dataPath = r'C:\\Connectomics-Data\\FlyWire\\Excels'\n",
    "fileName = f'sort_Tm1_and_Tm4_lists.xlsx'\n",
    "filePath = os.path.join(dataPath,fileName)"
   ]
  },
  {
   "cell_type": "code",
   "execution_count": 48,
   "id": "25e1f4d2",
   "metadata": {},
   "outputs": [
    {
     "data": {
      "text/html": [
       "<div>\n",
       "<style scoped>\n",
       "    .dataframe tbody tr th:only-of-type {\n",
       "        vertical-align: middle;\n",
       "    }\n",
       "\n",
       "    .dataframe tbody tr th {\n",
       "        vertical-align: top;\n",
       "    }\n",
       "\n",
       "    .dataframe thead th {\n",
       "        text-align: right;\n",
       "    }\n",
       "</style>\n",
       "<table border=\"1\" class=\"dataframe\">\n",
       "  <thead>\n",
       "    <tr style=\"text-align: right;\">\n",
       "      <th></th>\n",
       "      <th>Notes</th>\n",
       "      <th>optic_lobe_id</th>\n",
       "      <th>Tm1 ID RIGHT ORDER</th>\n",
       "      <th>Tm1 ID</th>\n",
       "      <th>Tm4 ID</th>\n",
       "    </tr>\n",
       "  </thead>\n",
       "  <tbody>\n",
       "    <tr>\n",
       "      <th>0</th>\n",
       "      <td>NaN</td>\n",
       "      <td>R3</td>\n",
       "      <td>720575940628535356</td>\n",
       "      <td>720575940623656935</td>\n",
       "      <td>720575940616866699</td>\n",
       "    </tr>\n",
       "    <tr>\n",
       "      <th>1</th>\n",
       "      <td>NaN</td>\n",
       "      <td>R5</td>\n",
       "      <td>720575940625170360</td>\n",
       "      <td>720575940644820168</td>\n",
       "      <td>720575940643520200</td>\n",
       "    </tr>\n",
       "    <tr>\n",
       "      <th>2</th>\n",
       "      <td>NaN</td>\n",
       "      <td>R6</td>\n",
       "      <td>720575940635695864</td>\n",
       "      <td>720575940641585460</td>\n",
       "      <td>720575940627872503</td>\n",
       "    </tr>\n",
       "    <tr>\n",
       "      <th>3</th>\n",
       "      <td>NaN</td>\n",
       "      <td>R17</td>\n",
       "      <td>720575940624135242</td>\n",
       "      <td>720575940627774952</td>\n",
       "      <td>720575940628998460</td>\n",
       "    </tr>\n",
       "    <tr>\n",
       "      <th>4</th>\n",
       "      <td>NaN</td>\n",
       "      <td>R18</td>\n",
       "      <td>720575940638748093</td>\n",
       "      <td>720575940617451238</td>\n",
       "      <td>720575940627052681</td>\n",
       "    </tr>\n",
       "  </tbody>\n",
       "</table>\n",
       "</div>"
      ],
      "text/plain": [
       "  Notes optic_lobe_id  Tm1 ID RIGHT ORDER              Tm1 ID  \\\n",
       "0   NaN            R3  720575940628535356  720575940623656935   \n",
       "1   NaN            R5  720575940625170360  720575940644820168   \n",
       "2   NaN            R6  720575940635695864  720575940641585460   \n",
       "3   NaN           R17  720575940624135242  720575940627774952   \n",
       "4   NaN           R18  720575940638748093  720575940617451238   \n",
       "\n",
       "               Tm4 ID  \n",
       "0  720575940616866699  \n",
       "1  720575940643520200  \n",
       "2  720575940627872503  \n",
       "3  720575940628998460  \n",
       "4  720575940627052681  "
      ]
     },
     "execution_count": 48,
     "metadata": {},
     "output_type": "execute_result"
    }
   ],
   "source": [
    "#Loading file as DataFrame\n",
    "df = pd.read_excel(filePath, dtype = str)\n",
    "df.head()"
   ]
  },
  {
   "cell_type": "code",
   "execution_count": 50,
   "id": "08191a43",
   "metadata": {},
   "outputs": [
    {
     "data": {
      "text/html": [
       "<div>\n",
       "<style scoped>\n",
       "    .dataframe tbody tr th:only-of-type {\n",
       "        vertical-align: middle;\n",
       "    }\n",
       "\n",
       "    .dataframe tbody tr th {\n",
       "        vertical-align: top;\n",
       "    }\n",
       "\n",
       "    .dataframe thead th {\n",
       "        text-align: right;\n",
       "    }\n",
       "</style>\n",
       "<table border=\"1\" class=\"dataframe\">\n",
       "  <thead>\n",
       "    <tr style=\"text-align: right;\">\n",
       "      <th></th>\n",
       "      <th>Notes</th>\n",
       "      <th>optic_lobe_id</th>\n",
       "      <th>Tm1 ID RIGHT ORDER</th>\n",
       "      <th>Tm1 ID</th>\n",
       "      <th>Tm4 ID</th>\n",
       "      <th>Tm14 ID RIGHT ORDER</th>\n",
       "    </tr>\n",
       "  </thead>\n",
       "  <tbody>\n",
       "    <tr>\n",
       "      <th>0</th>\n",
       "      <td>NaN</td>\n",
       "      <td>R3</td>\n",
       "      <td>720575940628535356</td>\n",
       "      <td>720575940623656935</td>\n",
       "      <td>720575940616866699</td>\n",
       "      <td>720575940623233100</td>\n",
       "    </tr>\n",
       "    <tr>\n",
       "      <th>1</th>\n",
       "      <td>NaN</td>\n",
       "      <td>R5</td>\n",
       "      <td>720575940625170360</td>\n",
       "      <td>720575940644820168</td>\n",
       "      <td>720575940643520200</td>\n",
       "      <td>720575940617633117</td>\n",
       "    </tr>\n",
       "    <tr>\n",
       "      <th>2</th>\n",
       "      <td>NaN</td>\n",
       "      <td>R6</td>\n",
       "      <td>720575940635695864</td>\n",
       "      <td>720575940641585460</td>\n",
       "      <td>720575940627872503</td>\n",
       "      <td>720575940633696096</td>\n",
       "    </tr>\n",
       "    <tr>\n",
       "      <th>3</th>\n",
       "      <td>NaN</td>\n",
       "      <td>R17</td>\n",
       "      <td>720575940624135242</td>\n",
       "      <td>720575940627774952</td>\n",
       "      <td>720575940628998460</td>\n",
       "      <td>720575940628538630</td>\n",
       "    </tr>\n",
       "    <tr>\n",
       "      <th>4</th>\n",
       "      <td>NaN</td>\n",
       "      <td>R18</td>\n",
       "      <td>720575940638748093</td>\n",
       "      <td>720575940617451238</td>\n",
       "      <td>720575940627052681</td>\n",
       "      <td>720575940613481955</td>\n",
       "    </tr>\n",
       "  </tbody>\n",
       "</table>\n",
       "</div>"
      ],
      "text/plain": [
       "  Notes optic_lobe_id  Tm1 ID RIGHT ORDER              Tm1 ID  \\\n",
       "0   NaN            R3  720575940628535356  720575940623656935   \n",
       "1   NaN            R5  720575940625170360  720575940644820168   \n",
       "2   NaN            R6  720575940635695864  720575940641585460   \n",
       "3   NaN           R17  720575940624135242  720575940627774952   \n",
       "4   NaN           R18  720575940638748093  720575940617451238   \n",
       "\n",
       "               Tm4 ID Tm14 ID RIGHT ORDER  \n",
       "0  720575940616866699  720575940623233100  \n",
       "1  720575940643520200  720575940617633117  \n",
       "2  720575940627872503  720575940633696096  \n",
       "3  720575940628998460  720575940628538630  \n",
       "4  720575940627052681  720575940613481955  "
      ]
     },
     "execution_count": 50,
     "metadata": {},
     "output_type": "execute_result"
    }
   ],
   "source": [
    "# Running for my case\n",
    "\n",
    "list_A = df['Tm4 ID'].tolist()\n",
    "list_B = df['Tm1 ID RIGHT ORDER'].tolist()\n",
    "list_B2 = df['Tm1 ID'].tolist()\n",
    "\n",
    "list_A2 = reorder_lists(list_A, list_B, list_B2)\n",
    "df['Tm4 ID RIGHT ORDER'] =list_A2\n",
    "df.head()"
   ]
  },
  {
   "cell_type": "code",
   "execution_count": 52,
   "id": "edfd6ec9",
   "metadata": {},
   "outputs": [
    {
     "data": {
      "text/html": [
       "<div>\n",
       "<style scoped>\n",
       "    .dataframe tbody tr th:only-of-type {\n",
       "        vertical-align: middle;\n",
       "    }\n",
       "\n",
       "    .dataframe tbody tr th {\n",
       "        vertical-align: top;\n",
       "    }\n",
       "\n",
       "    .dataframe thead th {\n",
       "        text-align: right;\n",
       "    }\n",
       "</style>\n",
       "<table border=\"1\" class=\"dataframe\">\n",
       "  <thead>\n",
       "    <tr style=\"text-align: right;\">\n",
       "      <th></th>\n",
       "      <th>Notes</th>\n",
       "      <th>optic_lobe_id</th>\n",
       "      <th>Tm1 ID RIGHT ORDER</th>\n",
       "      <th>Tm1 ID</th>\n",
       "      <th>Tm4 ID</th>\n",
       "      <th>Tm14 ID RIGHT ORDER</th>\n",
       "    </tr>\n",
       "  </thead>\n",
       "  <tbody>\n",
       "    <tr>\n",
       "      <th>206</th>\n",
       "      <td>NaN</td>\n",
       "      <td>R675</td>\n",
       "      <td>720575940612294835</td>\n",
       "      <td>720575940625713907</td>\n",
       "      <td>720575940636521591</td>\n",
       "      <td>720575940622775907</td>\n",
       "    </tr>\n",
       "    <tr>\n",
       "      <th>207</th>\n",
       "      <td>NaN</td>\n",
       "      <td>R683</td>\n",
       "      <td>720575940614365343</td>\n",
       "      <td>720575940617570193</td>\n",
       "      <td>720575940617707328</td>\n",
       "      <td>720575940618041501</td>\n",
       "    </tr>\n",
       "    <tr>\n",
       "      <th>208</th>\n",
       "      <td>NaN</td>\n",
       "      <td>R688</td>\n",
       "      <td>720575940640734883</td>\n",
       "      <td>720575940626245932</td>\n",
       "      <td>720575940627035198</td>\n",
       "      <td>None</td>\n",
       "    </tr>\n",
       "    <tr>\n",
       "      <th>209</th>\n",
       "      <td>NaN</td>\n",
       "      <td>R689</td>\n",
       "      <td>720575940630797164</td>\n",
       "      <td>720575940634995225</td>\n",
       "      <td>None</td>\n",
       "      <td>None</td>\n",
       "    </tr>\n",
       "    <tr>\n",
       "      <th>210</th>\n",
       "      <td>NaN</td>\n",
       "      <td>R0</td>\n",
       "      <td>0</td>\n",
       "      <td>0</td>\n",
       "      <td>None</td>\n",
       "      <td>None</td>\n",
       "    </tr>\n",
       "  </tbody>\n",
       "</table>\n",
       "</div>"
      ],
      "text/plain": [
       "    Notes optic_lobe_id  Tm1 ID RIGHT ORDER              Tm1 ID  \\\n",
       "206   NaN          R675  720575940612294835  720575940625713907   \n",
       "207   NaN          R683  720575940614365343  720575940617570193   \n",
       "208   NaN          R688  720575940640734883  720575940626245932   \n",
       "209   NaN          R689  720575940630797164  720575940634995225   \n",
       "210   NaN            R0                   0                   0   \n",
       "\n",
       "                 Tm4 ID Tm14 ID RIGHT ORDER  \n",
       "206  720575940636521591  720575940622775907  \n",
       "207  720575940617707328  720575940618041501  \n",
       "208  720575940627035198                None  \n",
       "209                None                None  \n",
       "210                None                None  "
      ]
     },
     "execution_count": 52,
     "metadata": {},
     "output_type": "execute_result"
    }
   ],
   "source": [
    "df.tail()"
   ]
  },
  {
   "cell_type": "code",
   "execution_count": 55,
   "id": "f0a839bc",
   "metadata": {},
   "outputs": [],
   "source": [
    "# Creating string for the date\n",
    "import datetime\n",
    "x = datetime.datetime.now()\n",
    "date_str = x.strftime(\"%d\") + x.strftime(\"%b\") + x.strftime(\"%Y\")\n",
    "\n",
    "# Writting in an existing excel file\n",
    "from openpyxl import load_workbook\n",
    "book = load_workbook(filePath)\n",
    "writer = pd.ExcelWriter(filePath, engine = 'openpyxl')\n",
    "writer.book = book\n",
    "\n",
    "df = df.astype(str)\n",
    "df.to_excel(writer, sheet_name='Updated_table_'+date_str) #sorted_df\n",
    "writer.save()\n",
    "writer.close()"
   ]
  },
  {
   "cell_type": "code",
   "execution_count": null,
   "id": "e3a237b6",
   "metadata": {},
   "outputs": [],
   "source": []
  },
  {
   "cell_type": "code",
   "execution_count": null,
   "id": "759e5014",
   "metadata": {},
   "outputs": [],
   "source": []
  },
  {
   "cell_type": "markdown",
   "id": "2e7e56cb",
   "metadata": {},
   "source": [
    "### B) Matching ids based on connectivity"
   ]
  },
  {
   "cell_type": "markdown",
   "id": "e0a4106e",
   "metadata": {},
   "source": [
    "### 1. Loading curated data sets"
   ]
  },
  {
   "cell_type": "code",
   "execution_count": 8,
   "id": "40f629c6",
   "metadata": {},
   "outputs": [],
   "source": [
    "#Loading information  from excel files\n",
    "PC_disc = 'D'\n",
    "dataPath = f'{PC_disc}:\\Connectomics-Data\\FlyWire\\Excels\\drive-data-sets'\n",
    "date = '20230912'\n",
    "pre_neuron_type = 'Mi4'\n",
    "post_neuron_type = 'Tm9'\n",
    "fileName_post = f'{post_neuron_type} proofreadings_{date}.xlsx'\n",
    "filePath_post = os.path.join(dataPath,fileName_post)\n",
    "fileName_pre = f'{pre_neuron_type} proofreadings_{date}.xlsx'\n",
    "filePath_pre = os.path.join(dataPath,fileName_pre)\n",
    "\n",
    "#Loading file as DataFrame\n",
    "post_df = pd.read_excel(filePath_post)\n",
    "pre_df = pd.read_excel(filePath_pre)"
   ]
  },
  {
   "cell_type": "markdown",
   "id": "6b246682",
   "metadata": {},
   "source": [
    "#### 1.1 Selecting data"
   ]
  },
  {
   "cell_type": "code",
   "execution_count": 9,
   "id": "f4f1aa57",
   "metadata": {},
   "outputs": [
    {
     "name": "stdout",
     "output_type": "stream",
     "text": [
      "Total number of presynpatic ids: 786\n",
      "Total number of postsynpatic ids: 766\n"
     ]
    }
   ],
   "source": [
    "# Filtering data\n",
    "hemisphere = 'R' # 'R', 'L'\n",
    "neuropile_mesh = 'ME_L'\n",
    "\n",
    "# Selecting the R optic lobe IDs\n",
    "R_pre_df = pre_df[pre_df['hemisphere'] == hemisphere].copy()\n",
    "R_post_df = post_df[post_df['hemisphere'] == hemisphere].copy()\n",
    "\n",
    "# ID lists\n",
    "pre_ids = R_pre_df['Updated_seg_id'].tolist()\n",
    "post_ids = R_post_df['Updated_seg_id'].tolist()\n",
    "\n",
    "print(f'Total number of presynpatic ids: {len(pre_ids)}')\n",
    "print(f'Total number of postsynpatic ids: {len(post_ids)}')"
   ]
  },
  {
   "cell_type": "markdown",
   "id": "f2e06bde",
   "metadata": {},
   "source": [
    "### 2. Matching all presynaptic cell ids connecting to each postsynaptic cell"
   ]
  },
  {
   "cell_type": "code",
   "execution_count": 10,
   "id": "88b49f98",
   "metadata": {
    "scrolled": true
   },
   "outputs": [
    {
     "name": "stdout",
     "output_type": "stream",
     "text": [
      "Good to go and match ids\n"
     ]
    }
   ],
   "source": [
    "# Updating presynaptic neurons if they are not up-to-date\n",
    "if not np.unique(flywire.is_latest_root(pre_ids))[0]: #if not up-to-date\n",
    "    update_df = flywire.update_ids(pre_ids, stop_layer=2, supervoxels=None, timestamp=None, dataset='production', progress=True)\n",
    "    up_to_date_pre_ids = update_df['new_id'].tolist()\n",
    "    if len(update_df[update_df['confidence']< 1]) == 0:\n",
    "        print('Good to go and match ids')\n",
    "    else:\n",
    "        display(update_df[update_df['changed'] == True])\n",
    "        print('Consider updating your presynaptic neuron ids in the original data set')\n",
    "else:\n",
    "    up_to_date_pre_ids = pre_ids\n",
    "    print('Good to go and match ids')"
   ]
  },
  {
   "cell_type": "code",
   "execution_count": null,
   "id": "fe6ab219",
   "metadata": {},
   "outputs": [],
   "source": []
  },
  {
   "cell_type": "code",
   "execution_count": 11,
   "id": "d2b94b24",
   "metadata": {
    "scrolled": true
   },
   "outputs": [
    {
     "name": "stdout",
     "output_type": "stream",
     "text": [
      "Good to go and match ids\n"
     ]
    },
    {
     "data": {
      "application/vnd.jupyter.widget-view+json": {
       "model_id": "500e823367004e65be4c2b68dfcbc214",
       "version_major": 2,
       "version_minor": 0
      },
      "text/plain": [
       "Fetching synapses:   0%|          | 0/26 [00:00<?, ?it/s]"
      ]
     },
     "metadata": {},
     "output_type": "display_data"
    },
    {
     "data": {
      "text/html": [
       "<div>\n",
       "<style scoped>\n",
       "    .dataframe tbody tr th:only-of-type {\n",
       "        vertical-align: middle;\n",
       "    }\n",
       "\n",
       "    .dataframe tbody tr th {\n",
       "        vertical-align: top;\n",
       "    }\n",
       "\n",
       "    .dataframe thead th {\n",
       "        text-align: right;\n",
       "    }\n",
       "</style>\n",
       "<table border=\"1\" class=\"dataframe\">\n",
       "  <thead>\n",
       "    <tr style=\"text-align: right;\">\n",
       "      <th></th>\n",
       "      <th>post_pt_root_id</th>\n",
       "      <th>pre_pt_root_id</th>\n",
       "      <th>pre_syn_count</th>\n",
       "    </tr>\n",
       "  </thead>\n",
       "  <tbody>\n",
       "    <tr>\n",
       "      <th>0</th>\n",
       "      <td>720575940600084489</td>\n",
       "      <td>720575940613640258</td>\n",
       "      <td>2</td>\n",
       "    </tr>\n",
       "    <tr>\n",
       "      <th>1</th>\n",
       "      <td>720575940600084489</td>\n",
       "      <td>720575940621292826</td>\n",
       "      <td>19</td>\n",
       "    </tr>\n",
       "    <tr>\n",
       "      <th>2</th>\n",
       "      <td>720575940600084489</td>\n",
       "      <td>720575940632805919</td>\n",
       "      <td>1</td>\n",
       "    </tr>\n",
       "    <tr>\n",
       "      <th>3</th>\n",
       "      <td>720575940602880736</td>\n",
       "      <td>720575940619173430</td>\n",
       "      <td>23</td>\n",
       "    </tr>\n",
       "    <tr>\n",
       "      <th>4</th>\n",
       "      <td>720575940602880736</td>\n",
       "      <td>720575940623787619</td>\n",
       "      <td>4</td>\n",
       "    </tr>\n",
       "  </tbody>\n",
       "</table>\n",
       "</div>"
      ],
      "text/plain": [
       "      post_pt_root_id      pre_pt_root_id  pre_syn_count\n",
       "0  720575940600084489  720575940613640258              2\n",
       "1  720575940600084489  720575940621292826             19\n",
       "2  720575940600084489  720575940632805919              1\n",
       "3  720575940602880736  720575940619173430             23\n",
       "4  720575940602880736  720575940623787619              4"
      ]
     },
     "metadata": {},
     "output_type": "display_data"
    }
   ],
   "source": [
    "## Getting all synaptic connections\n",
    "\n",
    "# Quick update\n",
    "if not np.unique(flywire.is_latest_root(post_ids))[0]: # if not up-to-date\n",
    "    #Updating the IDs via Fafbseg\n",
    "    update_df = flywire.update_ids(post_ids, stop_layer=2, supervoxels=None, timestamp=None, dataset='production', progress=True)\n",
    "    up_to_date_post_ids = update_df['new_id']\n",
    "    if len(update_df[update_df['confidence']< 1]) == 0:\n",
    "        print('Good to go and match ids')\n",
    "    else:\n",
    "        display(update_df[update_df['changed'] == True])\n",
    "        print('Consider updating your postsynaptic neuron ids in the original data set')\n",
    "else:\n",
    "    up_to_date_post_ids = post_ids\n",
    "    print('Good to go and match ids')\n",
    "        \n",
    "    \n",
    "\n",
    "# Fetch the neuron's inputs\n",
    "post_inputs = flywire.synapses.fetch_synapses(up_to_date_post_ids, pre=False, post=True, attach=True, \n",
    "                                             min_score=50, clean=True, transmitters=False, \n",
    "                                             neuropils=True, batch_size=30, \n",
    "                                             dataset='production', progress=True,mat= \"live\")\n",
    "\n",
    "#Combining pre- and postsynpases XYZ values in single columns\n",
    "combine_xyz(post_inputs) # Function that does the operation\n",
    "\n",
    "# Filtering: keeping only synapses in the medulla\n",
    "post_inputs = post_inputs[post_inputs['neuropil'] == neuropile_mesh].copy()\n",
    "len(post_inputs)\n",
    "\n",
    "# Filter connections just selected presynaptic cells\n",
    "pre_post_match_df = post_inputs[post_inputs['pre_pt_root_id'].isin(up_to_date_pre_ids)].copy()\n",
    "\n",
    "# Aggregating data frame based on unique post and pre segment IDs\n",
    "# While aggregating, counting the number of contacts for each pre-post pair\n",
    "pre_post_counts = pre_post_match_df.groupby(['post_pt_root_id', 'pre_pt_root_id'])['pre_pt_root_id'].count().reset_index(name='pre_syn_count')\n",
    "display(pre_post_counts.head())"
   ]
  },
  {
   "cell_type": "code",
   "execution_count": null,
   "id": "c65b1bcd",
   "metadata": {},
   "outputs": [],
   "source": []
  },
  {
   "cell_type": "code",
   "execution_count": 16,
   "id": "38923ac1",
   "metadata": {
    "scrolled": true
   },
   "outputs": [
    {
     "data": {
      "text/html": [
       "<div>\n",
       "<style scoped>\n",
       "    .dataframe tbody tr th:only-of-type {\n",
       "        vertical-align: middle;\n",
       "    }\n",
       "\n",
       "    .dataframe tbody tr th {\n",
       "        vertical-align: top;\n",
       "    }\n",
       "\n",
       "    .dataframe thead th {\n",
       "        text-align: right;\n",
       "    }\n",
       "</style>\n",
       "<table border=\"1\" class=\"dataframe\">\n",
       "  <thead>\n",
       "    <tr style=\"text-align: right;\">\n",
       "      <th></th>\n",
       "      <th>post_pt_root_id</th>\n",
       "      <th>pre_pt_root_id</th>\n",
       "      <th>pre_syn_count</th>\n",
       "    </tr>\n",
       "  </thead>\n",
       "  <tbody>\n",
       "    <tr>\n",
       "      <th>1</th>\n",
       "      <td>720575940600084489</td>\n",
       "      <td>720575940621292826</td>\n",
       "      <td>19</td>\n",
       "    </tr>\n",
       "    <tr>\n",
       "      <th>3</th>\n",
       "      <td>720575940602880736</td>\n",
       "      <td>720575940619173430</td>\n",
       "      <td>23</td>\n",
       "    </tr>\n",
       "    <tr>\n",
       "      <th>5</th>\n",
       "      <td>720575940603557920</td>\n",
       "      <td>720575940620413609</td>\n",
       "      <td>14</td>\n",
       "    </tr>\n",
       "    <tr>\n",
       "      <th>7</th>\n",
       "      <td>720575940604080318</td>\n",
       "      <td>720575940637596649</td>\n",
       "      <td>18</td>\n",
       "    </tr>\n",
       "    <tr>\n",
       "      <th>9</th>\n",
       "      <td>720575940604494694</td>\n",
       "      <td>720575940649871737</td>\n",
       "      <td>24</td>\n",
       "    </tr>\n",
       "  </tbody>\n",
       "</table>\n",
       "</div>"
      ],
      "text/plain": [
       "      post_pt_root_id      pre_pt_root_id  pre_syn_count\n",
       "1  720575940600084489  720575940621292826             19\n",
       "3  720575940602880736  720575940619173430             23\n",
       "5  720575940603557920  720575940620413609             14\n",
       "7  720575940604080318  720575940637596649             18\n",
       "9  720575940604494694  720575940649871737             24"
      ]
     },
     "metadata": {},
     "output_type": "display_data"
    },
    {
     "name": "stdout",
     "output_type": "stream",
     "text": [
      "Total number of presynpatic ids: 786\n",
      "Total number of postsynpatic ids: 766\n",
      "Total number of ids with a pre-post match: 740\n"
     ]
    }
   ],
   "source": [
    "## Getting the post-pre match with the higher number of synaptic contacts\n",
    "\n",
    "# Find the row indices with the highest pre_syn_count for each unique pair\n",
    "idx = pre_post_counts.groupby('post_pt_root_id')['pre_syn_count'].idxmax()\n",
    "pre_post_counts_max = pre_post_counts.loc[idx].copy()\n",
    "display(pre_post_counts_max.head())\n",
    "print(f'Total number of presynpatic ids: {len(up_to_date_pre_ids)}')\n",
    "print(f'Total number of postsynpatic ids: {len(up_to_date_post_ids)}')\n",
    "print(f'Total number of ids with a pre-post match: {len(pre_post_counts_max)}')\n"
   ]
  },
  {
   "cell_type": "code",
   "execution_count": null,
   "id": "a048fbe5",
   "metadata": {},
   "outputs": [],
   "source": []
  },
  {
   "cell_type": "code",
   "execution_count": null,
   "id": "c7b6e8d9",
   "metadata": {
    "scrolled": true
   },
   "outputs": [],
   "source": []
  },
  {
   "cell_type": "code",
   "execution_count": null,
   "id": "a5205716",
   "metadata": {},
   "outputs": [],
   "source": []
  },
  {
   "cell_type": "markdown",
   "id": "7d698c7f",
   "metadata": {},
   "source": [
    "### 3. Merging tables to match optic_lobe_ids in both pre and post databases"
   ]
  },
  {
   "cell_type": "code",
   "execution_count": null,
   "id": "1b6c0ac8",
   "metadata": {},
   "outputs": [],
   "source": []
  },
  {
   "cell_type": "code",
   "execution_count": 79,
   "id": "8bed52a5",
   "metadata": {
    "scrolled": true
   },
   "outputs": [
    {
     "data": {
      "text/html": [
       "<div>\n",
       "<style scoped>\n",
       "    .dataframe tbody tr th:only-of-type {\n",
       "        vertical-align: middle;\n",
       "    }\n",
       "\n",
       "    .dataframe tbody tr th {\n",
       "        vertical-align: top;\n",
       "    }\n",
       "\n",
       "    .dataframe thead th {\n",
       "        text-align: right;\n",
       "    }\n",
       "</style>\n",
       "<table border=\"1\" class=\"dataframe\">\n",
       "  <thead>\n",
       "    <tr style=\"text-align: right;\">\n",
       "      <th></th>\n",
       "      <th>pre_pt_root_id</th>\n",
       "      <th>optic_lobe_id</th>\n",
       "    </tr>\n",
       "  </thead>\n",
       "  <tbody>\n",
       "    <tr>\n",
       "      <th>689</th>\n",
       "      <td>720575940602943968</td>\n",
       "      <td>R73</td>\n",
       "    </tr>\n",
       "    <tr>\n",
       "      <th>195</th>\n",
       "      <td>720575940604209580</td>\n",
       "      <td>R6</td>\n",
       "    </tr>\n",
       "    <tr>\n",
       "      <th>595</th>\n",
       "      <td>720575940604941024</td>\n",
       "      <td>R151</td>\n",
       "    </tr>\n",
       "    <tr>\n",
       "      <th>315</th>\n",
       "      <td>720575940605005280</td>\n",
       "      <td>R764</td>\n",
       "    </tr>\n",
       "    <tr>\n",
       "      <th>276</th>\n",
       "      <td>720575940605106110</td>\n",
       "      <td>R361</td>\n",
       "    </tr>\n",
       "  </tbody>\n",
       "</table>\n",
       "</div>"
      ],
      "text/plain": [
       "         pre_pt_root_id optic_lobe_id\n",
       "689  720575940602943968           R73\n",
       "195  720575940604209580            R6\n",
       "595  720575940604941024          R151\n",
       "315  720575940605005280          R764\n",
       "276  720575940605106110          R361"
      ]
     },
     "metadata": {},
     "output_type": "display_data"
    }
   ],
   "source": [
    "# Adding info about optic lobe ids (ids need to be up-to-date in the databse)\n",
    "pre_optic_lobe_ids = pd.merge(pre_post_counts_max, R_post_df[['optic_lobe_id', 'Updated_seg_id']], left_on='post_pt_root_id', right_on='Updated_seg_id', how='left')\n",
    "\n",
    "# Taking just the pre - post most connected pair (some pre can give input to more than one post)\n",
    "idx = pre_optic_lobe_ids.groupby('pre_pt_root_id')['pre_syn_count'].idxmax()\n",
    "pre_optic_lobe_ids_max = pre_optic_lobe_ids.loc[idx].copy()\n",
    "\n",
    "# Getting a dataframe where post cells are orphan (no strong pre cell connected specifically to that post)\n",
    "pre_optic_lobe_ids_not_max = pre_optic_lobe_ids.loc[~pre_optic_lobe_ids.index.isin(idx)].copy() \n",
    "# Briefly checking for duplicates\n",
    "pre_optic_lobe_ids_max_duplicates = pre_optic_lobe_ids_max[pre_optic_lobe_ids_max.duplicated(subset='pre_pt_root_id', keep=False)]\n",
    "\n",
    "# Brielfy getting all postsynaptic ids with no match.\n",
    "not_matched_post_ids = [item for item in up_to_date_post_ids if item not in pre_optic_lobe_ids_max.post_pt_root_id.tolist()]\n",
    "\n",
    "\n",
    "# Discarding redundant columns\n",
    "pre_optic_lobe_ids_max.drop(['post_pt_root_id', 'Updated_seg_id','pre_syn_count'], axis=1, inplace = True)\n",
    "display(pre_optic_lobe_ids_max.head())\n"
   ]
  },
  {
   "cell_type": "code",
   "execution_count": 84,
   "id": "e17b5b35",
   "metadata": {},
   "outputs": [
    {
     "data": {
      "text/html": [
       "<div>\n",
       "<style scoped>\n",
       "    .dataframe tbody tr th:only-of-type {\n",
       "        vertical-align: middle;\n",
       "    }\n",
       "\n",
       "    .dataframe tbody tr th {\n",
       "        vertical-align: top;\n",
       "    }\n",
       "\n",
       "    .dataframe thead th {\n",
       "        text-align: right;\n",
       "    }\n",
       "</style>\n",
       "<table border=\"1\" class=\"dataframe\">\n",
       "  <thead>\n",
       "    <tr style=\"text-align: right;\">\n",
       "      <th></th>\n",
       "      <th>post_pt_root_id</th>\n",
       "      <th>pre_pt_root_id</th>\n",
       "      <th>pre_syn_count</th>\n",
       "      <th>optic_lobe_id</th>\n",
       "      <th>Updated_seg_id</th>\n",
       "    </tr>\n",
       "  </thead>\n",
       "  <tbody>\n",
       "    <tr>\n",
       "      <th>42</th>\n",
       "      <td>720575940609620747</td>\n",
       "      <td>720575940613663658</td>\n",
       "      <td>2</td>\n",
       "      <td>R225</td>\n",
       "      <td>720575940609620747</td>\n",
       "    </tr>\n",
       "    <tr>\n",
       "      <th>117</th>\n",
       "      <td>720575940614768179</td>\n",
       "      <td>720575940608318850</td>\n",
       "      <td>11</td>\n",
       "      <td>R304</td>\n",
       "      <td>720575940614768179</td>\n",
       "    </tr>\n",
       "    <tr>\n",
       "      <th>192</th>\n",
       "      <td>720575940618339284</td>\n",
       "      <td>720575940627225866</td>\n",
       "      <td>10</td>\n",
       "      <td>R690</td>\n",
       "      <td>720575940618339284</td>\n",
       "    </tr>\n",
       "    <tr>\n",
       "      <th>197</th>\n",
       "      <td>720575940618568768</td>\n",
       "      <td>720575940631021372</td>\n",
       "      <td>1</td>\n",
       "      <td>R387</td>\n",
       "      <td>720575940618568768</td>\n",
       "    </tr>\n",
       "    <tr>\n",
       "      <th>205</th>\n",
       "      <td>720575940618837332</td>\n",
       "      <td>720575940610108484</td>\n",
       "      <td>2</td>\n",
       "      <td>R748</td>\n",
       "      <td>720575940618837332</td>\n",
       "    </tr>\n",
       "    <tr>\n",
       "      <th>214</th>\n",
       "      <td>720575940619730590</td>\n",
       "      <td>720575940621059169</td>\n",
       "      <td>6</td>\n",
       "      <td>R275</td>\n",
       "      <td>720575940619730590</td>\n",
       "    </tr>\n",
       "    <tr>\n",
       "      <th>321</th>\n",
       "      <td>720575940623374377</td>\n",
       "      <td>720575940624729236</td>\n",
       "      <td>3</td>\n",
       "      <td>R226</td>\n",
       "      <td>720575940623374377</td>\n",
       "    </tr>\n",
       "    <tr>\n",
       "      <th>375</th>\n",
       "      <td>720575940625477507</td>\n",
       "      <td>720575940628015379</td>\n",
       "      <td>3</td>\n",
       "      <td>R634</td>\n",
       "      <td>720575940625477507</td>\n",
       "    </tr>\n",
       "    <tr>\n",
       "      <th>500</th>\n",
       "      <td>720575940629865015</td>\n",
       "      <td>720575940615710406</td>\n",
       "      <td>3</td>\n",
       "      <td>R227</td>\n",
       "      <td>720575940629865015</td>\n",
       "    </tr>\n",
       "    <tr>\n",
       "      <th>588</th>\n",
       "      <td>720575940633410989</td>\n",
       "      <td>720575940640662899</td>\n",
       "      <td>1</td>\n",
       "      <td>R747</td>\n",
       "      <td>720575940633410989</td>\n",
       "    </tr>\n",
       "    <tr>\n",
       "      <th>639</th>\n",
       "      <td>720575940637324870</td>\n",
       "      <td>720575940638834246</td>\n",
       "      <td>3</td>\n",
       "      <td>R274</td>\n",
       "      <td>720575940637324870</td>\n",
       "    </tr>\n",
       "    <tr>\n",
       "      <th>738</th>\n",
       "      <td>720575940659658113</td>\n",
       "      <td>720575940612182312</td>\n",
       "      <td>2</td>\n",
       "      <td>R499</td>\n",
       "      <td>720575940659658113</td>\n",
       "    </tr>\n",
       "  </tbody>\n",
       "</table>\n",
       "</div>"
      ],
      "text/plain": [
       "        post_pt_root_id      pre_pt_root_id  pre_syn_count optic_lobe_id  \\\n",
       "42   720575940609620747  720575940613663658              2          R225   \n",
       "117  720575940614768179  720575940608318850             11          R304   \n",
       "192  720575940618339284  720575940627225866             10          R690   \n",
       "197  720575940618568768  720575940631021372              1          R387   \n",
       "205  720575940618837332  720575940610108484              2          R748   \n",
       "214  720575940619730590  720575940621059169              6          R275   \n",
       "321  720575940623374377  720575940624729236              3          R226   \n",
       "375  720575940625477507  720575940628015379              3          R634   \n",
       "500  720575940629865015  720575940615710406              3          R227   \n",
       "588  720575940633410989  720575940640662899              1          R747   \n",
       "639  720575940637324870  720575940638834246              3          R274   \n",
       "738  720575940659658113  720575940612182312              2          R499   \n",
       "\n",
       "         Updated_seg_id  \n",
       "42   720575940609620747  \n",
       "117  720575940614768179  \n",
       "192  720575940618339284  \n",
       "197  720575940618568768  \n",
       "205  720575940618837332  \n",
       "214  720575940619730590  \n",
       "321  720575940623374377  \n",
       "375  720575940625477507  \n",
       "500  720575940629865015  \n",
       "588  720575940633410989  \n",
       "639  720575940637324870  \n",
       "738  720575940659658113  "
      ]
     },
     "metadata": {},
     "output_type": "display_data"
    },
    {
     "name": "stdout",
     "output_type": "stream",
     "text": [
      "Find better pre for these post cells\n"
     ]
    }
   ],
   "source": [
    "# Try to find strongly-connected pre cells in the columns of these post cells\n",
    "display(pre_optic_lobe_ids_not_max)\n",
    "print('Find better pre for these post cells')\n"
   ]
  },
  {
   "cell_type": "code",
   "execution_count": null,
   "id": "926e3ead",
   "metadata": {},
   "outputs": [],
   "source": []
  },
  {
   "cell_type": "code",
   "execution_count": null,
   "id": "2d32cff6",
   "metadata": {},
   "outputs": [],
   "source": []
  },
  {
   "cell_type": "code",
   "execution_count": null,
   "id": "a0ac3b10",
   "metadata": {},
   "outputs": [],
   "source": []
  },
  {
   "cell_type": "code",
   "execution_count": null,
   "id": "2791c73e",
   "metadata": {},
   "outputs": [],
   "source": []
  },
  {
   "cell_type": "markdown",
   "id": "ee0b9558",
   "metadata": {},
   "source": [
    "### 4. Transfering the optic_lobe_id information to the presynaptic cell database"
   ]
  },
  {
   "cell_type": "code",
   "execution_count": 85,
   "id": "cc42cc94",
   "metadata": {},
   "outputs": [
    {
     "data": {
      "text/plain": [
       "Index(['XYZ-ME', 'symbol', 'XYZ-LO', 'quality comment', 'rim_area (Y/N)',\n",
       "       'hemisphere', 'lab', 'author', 'name', 'seg_id', 'identified_in',\n",
       "       'Updated_seg_id', 'Update_confidence', 'lab authorship (Y/N)',\n",
       "       'optic_lobe_id_x', 'patch_id', 'column_id', 'backbone proofread (Y/N)',\n",
       "       'twigs proofread (Y/N)', 'inputs_proofread (Y/N)', 'dark_neurons (Y/N)',\n",
       "       'bad_quality_rim (Y/N)', 'healthy_L3 (Y/N)', 'detached_lamina (Y/N)',\n",
       "       'pre_pt_root_id', 'optic_lobe_id_y'],\n",
       "      dtype='object')"
      ]
     },
     "execution_count": 85,
     "metadata": {},
     "output_type": "execute_result"
    }
   ],
   "source": [
    "pre_optic_lobe_ids_max_no_duplicates = pre_optic_lobe_ids_max.drop_duplicates(subset='pre_pt_root_id')\n",
    "R_pre_df_new = pd.merge(R_pre_df, pre_optic_lobe_ids_max_no_duplicates, left_on='Updated_seg_id', right_on='pre_pt_root_id', how='left')\n",
    "\n",
    "R_pre_df_new.columns"
   ]
  },
  {
   "cell_type": "markdown",
   "id": "fd502ea0",
   "metadata": {},
   "source": [
    "### 5. Saving the updated dataframe back in the data base file"
   ]
  },
  {
   "cell_type": "code",
   "execution_count": 89,
   "id": "796d6456",
   "metadata": {},
   "outputs": [],
   "source": [
    "# Creating string for the date\n",
    "import datetime\n",
    "x = datetime.datetime.now()\n",
    "date_str = x.strftime(\"%d\") + x.strftime(\"%b\") + x.strftime(\"%Y\")\n",
    "\n",
    "# Writting in an existing excel file\n",
    "from openpyxl import load_workbook\n",
    "book = load_workbook(filePath_pre)\n",
    "writer = pd.ExcelWriter(filePath_pre, engine = 'openpyxl')\n",
    "writer.book = book\n",
    "\n",
    "R_pre_df_new.to_excel(writer, sheet_name='Updated_table_'+date_str) #sorted_df\n",
    "writer.save()\n",
    "writer.close()"
   ]
  },
  {
   "cell_type": "code",
   "execution_count": null,
   "id": "db20560b",
   "metadata": {},
   "outputs": [],
   "source": []
  }
 ],
 "metadata": {
  "kernelspec": {
   "display_name": "Python 3",
   "language": "python",
   "name": "python3"
  },
  "language_info": {
   "codemirror_mode": {
    "name": "ipython",
    "version": 3
   },
   "file_extension": ".py",
   "mimetype": "text/x-python",
   "name": "python",
   "nbconvert_exporter": "python",
   "pygments_lexer": "ipython3",
   "version": "3.7.4"
  }
 },
 "nbformat": 4,
 "nbformat_minor": 5
}
