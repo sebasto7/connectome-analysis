{
 "cells": [
  {
   "cell_type": "markdown",
   "id": "a68a60bd",
   "metadata": {},
   "source": [
    "# Segment IDs authorship information"
   ]
  },
  {
   "cell_type": "markdown",
   "id": "ccf717fa",
   "metadata": {},
   "source": [
    "\n",
    "For publication purposes following the FlyWire principles, this notebook is used to retrive following information:\n",
    "- Number of edits aggregated by lab for each ID\n",
    "- ID identification, first person and lab that did it\n",
    "- ID completion status, the person and lab that did it"
   ]
  },
  {
   "cell_type": "code",
   "execution_count": 1,
   "id": "4ecf19d1",
   "metadata": {},
   "outputs": [
    {
     "name": "stderr",
     "output_type": "stream",
     "text": [
      "C:\\Users\\smolina\\Anaconda3\\envs\\EM\\lib\\site-packages\\blessed\\terminal.py:186: UserWarning: Failed to setupterm(kind='xterm-color'): Could not find terminal xterm-color\n",
      "  warnings.warn(msg)\n"
     ]
    }
   ],
   "source": [
    "# Importing packages\n",
    "\n",
    "import os\n",
    "import pandas as pd\n",
    "from fafbseg import flywire\n",
    "from caveclient import CAVEclient\n",
    "client = CAVEclient('flywire_fafb_production')\n",
    "from openpyxl import load_workbook"
   ]
  },
  {
   "cell_type": "code",
   "execution_count": 2,
   "id": "321efd35",
   "metadata": {},
   "outputs": [
    {
     "data": {
      "text/html": [
       "<div>\n",
       "<style scoped>\n",
       "    .dataframe tbody tr th:only-of-type {\n",
       "        vertical-align: middle;\n",
       "    }\n",
       "\n",
       "    .dataframe tbody tr th {\n",
       "        vertical-align: top;\n",
       "    }\n",
       "\n",
       "    .dataframe thead th {\n",
       "        text-align: right;\n",
       "    }\n",
       "</style>\n",
       "<table border=\"1\" class=\"dataframe\">\n",
       "  <thead>\n",
       "    <tr style=\"text-align: right;\">\n",
       "      <th></th>\n",
       "      <th>seg_id</th>\n",
       "      <th>symbol</th>\n",
       "      <th>optic_lobe_id</th>\n",
       "      <th>hemisphere</th>\n",
       "      <th>Updated_seg_ids</th>\n",
       "    </tr>\n",
       "  </thead>\n",
       "  <tbody>\n",
       "    <tr>\n",
       "      <th>0</th>\n",
       "      <td>720575940617931604</td>\n",
       "      <td>Tm9</td>\n",
       "      <td>None</td>\n",
       "      <td>None</td>\n",
       "      <td>720575940617931604</td>\n",
       "    </tr>\n",
       "    <tr>\n",
       "      <th>1</th>\n",
       "      <td>720575940611032530</td>\n",
       "      <td>Tm9</td>\n",
       "      <td>None</td>\n",
       "      <td>None</td>\n",
       "      <td>720575940611032530</td>\n",
       "    </tr>\n",
       "    <tr>\n",
       "      <th>2</th>\n",
       "      <td>720575940630963275</td>\n",
       "      <td>Tm9</td>\n",
       "      <td>None</td>\n",
       "      <td>None</td>\n",
       "      <td>720575940630963275</td>\n",
       "    </tr>\n",
       "    <tr>\n",
       "      <th>3</th>\n",
       "      <td>720575940612424470</td>\n",
       "      <td>Tm9</td>\n",
       "      <td>None</td>\n",
       "      <td>None</td>\n",
       "      <td>720575940612424470</td>\n",
       "    </tr>\n",
       "    <tr>\n",
       "      <th>4</th>\n",
       "      <td>720575940622307753</td>\n",
       "      <td>Tm9</td>\n",
       "      <td>None</td>\n",
       "      <td>None</td>\n",
       "      <td>720575940622307753</td>\n",
       "    </tr>\n",
       "  </tbody>\n",
       "</table>\n",
       "</div>"
      ],
      "text/plain": [
       "               seg_id symbol optic_lobe_id hemisphere     Updated_seg_ids\n",
       "0  720575940617931604    Tm9          None       None  720575940617931604\n",
       "1  720575940611032530    Tm9          None       None  720575940611032530\n",
       "2  720575940630963275    Tm9          None       None  720575940630963275\n",
       "3  720575940612424470    Tm9          None       None  720575940612424470\n",
       "4  720575940622307753    Tm9          None       None  720575940622307753"
      ]
     },
     "metadata": {},
     "output_type": "display_data"
    }
   ],
   "source": [
    "# Loading data set with IDs of interest\n",
    "\n",
    "# Choose path and file\n",
    "PC_disc = 'D'\n",
    "dataPath = f'{PC_disc}:\\Connectomics-Data\\FlyWire\\Excels\\drive-data-sets\\submission_nature'\n",
    "date = '20230823'\n",
    "fileName = f'Updated_unique_seg_ids_in_publication_{date}.xlsx'\n",
    "filePath = os.path.join(dataPath,fileName)\n",
    "\n",
    "#Loading file as DataFrame\n",
    "df = pd.read_excel(filePath)\n",
    "\n",
    "\n",
    "#Dropping the fisrt row ('asdf' was added as a walk-around to set that column values as type str)\n",
    "if df[\"seg_id\"][0] == 'asdf': \n",
    "    df = df.iloc[1: , :]\n",
    "    df.reset_index(inplace=True,drop=True)\n",
    "    \n",
    "#Dropping dupllicates\n",
    "result_df = df.drop_duplicates(subset=[\"Updated_seg_ids\"], keep='first')\n",
    "\n",
    "#Quick look on the dataframe\n",
    "display(result_df.head())\n",
    "    \n",
    "#Getting the lists of IDs to update\n",
    "segmentIDs = df[\"Updated_seg_ids\"].tolist()\n"
   ]
  },
  {
   "cell_type": "code",
   "execution_count": 3,
   "id": "bbbe644b",
   "metadata": {},
   "outputs": [],
   "source": [
    "# Preventing errors before running the hard part\n",
    "for s in segmentIDs:\n",
    "    if not type(s) == str:\n",
    "        print(f'{s} is not a string')"
   ]
  },
  {
   "cell_type": "markdown",
   "id": "ee09b531",
   "metadata": {},
   "source": [
    "### Getting number of edits and aggregate by lab"
   ]
  },
  {
   "cell_type": "code",
   "execution_count": 4,
   "id": "15ebbf6c",
   "metadata": {
    "scrolled": false
   },
   "outputs": [
    {
     "name": "stdout",
     "output_type": "stream",
     "text": [
      "Rounds to perform: 9\n",
      "Round 0\n"
     ]
    },
    {
     "data": {
      "application/vnd.jupyter.widget-view+json": {
       "model_id": "",
       "version_major": 2,
       "version_minor": 0
      },
      "text/plain": [
       "Fetching:   0%|          | 0/500 [00:00<?, ?it/s]"
      ]
     },
     "metadata": {},
     "output_type": "display_data"
    },
    {
     "name": "stdout",
     "output_type": "stream",
     "text": [
      "Round 1\n"
     ]
    },
    {
     "data": {
      "application/vnd.jupyter.widget-view+json": {
       "model_id": "",
       "version_major": 2,
       "version_minor": 0
      },
      "text/plain": [
       "Fetching:   0%|          | 0/500 [00:00<?, ?it/s]"
      ]
     },
     "metadata": {},
     "output_type": "display_data"
    },
    {
     "name": "stdout",
     "output_type": "stream",
     "text": [
      "Round 2\n"
     ]
    },
    {
     "data": {
      "application/vnd.jupyter.widget-view+json": {
       "model_id": "",
       "version_major": 2,
       "version_minor": 0
      },
      "text/plain": [
       "Fetching:   0%|          | 0/500 [00:00<?, ?it/s]"
      ]
     },
     "metadata": {},
     "output_type": "display_data"
    },
    {
     "name": "stdout",
     "output_type": "stream",
     "text": [
      "Round 3\n"
     ]
    },
    {
     "data": {
      "application/vnd.jupyter.widget-view+json": {
       "model_id": "",
       "version_major": 2,
       "version_minor": 0
      },
      "text/plain": [
       "Fetching:   0%|          | 0/500 [00:00<?, ?it/s]"
      ]
     },
     "metadata": {},
     "output_type": "display_data"
    },
    {
     "name": "stdout",
     "output_type": "stream",
     "text": [
      "Round 4\n"
     ]
    },
    {
     "data": {
      "application/vnd.jupyter.widget-view+json": {
       "model_id": "",
       "version_major": 2,
       "version_minor": 0
      },
      "text/plain": [
       "Fetching:   0%|          | 0/500 [00:00<?, ?it/s]"
      ]
     },
     "metadata": {},
     "output_type": "display_data"
    },
    {
     "name": "stdout",
     "output_type": "stream",
     "text": [
      "Faulty id: 720575940640126141\n",
      "Round 5\n"
     ]
    },
    {
     "data": {
      "application/vnd.jupyter.widget-view+json": {
       "model_id": "",
       "version_major": 2,
       "version_minor": 0
      },
      "text/plain": [
       "Fetching:   0%|          | 0/500 [00:00<?, ?it/s]"
      ]
     },
     "metadata": {},
     "output_type": "display_data"
    },
    {
     "name": "stdout",
     "output_type": "stream",
     "text": [
      "Round 6\n"
     ]
    },
    {
     "data": {
      "application/vnd.jupyter.widget-view+json": {
       "model_id": "",
       "version_major": 2,
       "version_minor": 0
      },
      "text/plain": [
       "Fetching:   0%|          | 0/500 [00:00<?, ?it/s]"
      ]
     },
     "metadata": {},
     "output_type": "display_data"
    },
    {
     "name": "stdout",
     "output_type": "stream",
     "text": [
      "Faulty id: 720575940609934019\n",
      "Round 7\n"
     ]
    },
    {
     "data": {
      "application/vnd.jupyter.widget-view+json": {
       "model_id": "",
       "version_major": 2,
       "version_minor": 0
      },
      "text/plain": [
       "Fetching:   0%|          | 0/500 [00:00<?, ?it/s]"
      ]
     },
     "metadata": {},
     "output_type": "display_data"
    },
    {
     "name": "stdout",
     "output_type": "stream",
     "text": [
      "Round 8\n"
     ]
    },
    {
     "data": {
      "application/vnd.jupyter.widget-view+json": {
       "model_id": "",
       "version_major": 2,
       "version_minor": 0
      },
      "text/plain": [
       "Fetching:   0%|          | 0/500 [00:00<?, ?it/s]"
      ]
     },
     "metadata": {},
     "output_type": "display_data"
    }
   ],
   "source": [
    "# Getting edits\n",
    "#edits = flywire.fetch_edit_history(unique_segmentIDs[0:500])\n",
    "#few_segmentIDs = segmentIDs[0:1000]\n",
    "#edits = flywire.fetch_edit_history(few_segmentIDs)\n",
    "\n",
    "\n",
    "# Getting edits in a for loop\n",
    "\n",
    "starting_round = 0 # usually it must starts from 0\n",
    "_steps = 500\n",
    "_start = _steps*starting_round\n",
    "_last = (_steps*starting_round) + _steps\n",
    "_rounds =  round(len(segmentIDs)/ _steps)\n",
    "\n",
    "print(f'Rounds to perform: {_rounds}')\n",
    "edits = pd.DataFrame()\n",
    "for i in range(starting_round,_rounds):\n",
    "    #print(f'Round {i}')\n",
    "    # getting edits in batches\n",
    "    try:\n",
    "        curr_edits = flywire.fetch_edit_history(segmentIDs[_start:_last])\n",
    "        edits = pd.concat([edits,curr_edits])\n",
    "        \n",
    "    # getting edits from single ids   \n",
    "    except:\n",
    "        for i in range(_start,_last):\n",
    "            curr_id = segmentIDs[i]\n",
    "            try:\n",
    "                curr_edits = flywire.fetch_edit_history(curr_id)\n",
    "                edits = pd.concat([edits,curr_edits])\n",
    "            except:\n",
    "                print(f'Faulty id: {curr_id}')\n",
    "        \n",
    "    _start = _start + _steps\n",
    "    _last = _last + _steps\n",
    "    "
   ]
  },
  {
   "cell_type": "code",
   "execution_count": 8,
   "id": "5656aad7",
   "metadata": {},
   "outputs": [],
   "source": [
    "# Step 1: Count the number of entries for each unique \"segment\"\n",
    "segment_counts = edits['segment'].value_counts().reset_index()\n",
    "segment_counts.columns = ['segment', 'total_segment_count']\n",
    "\n",
    "# Step 2: Calculate the total number of entries for each \"user_affiliation\" within each unique \"segment\"\n",
    "user_affiliation_counts = edits.groupby(['segment', 'user_affiliation'])['user_affiliation'].count().reset_index(name='user_affiliation_count')\n",
    "user_affiliation_counts = user_affiliation_counts.merge(segment_counts, on='segment')\n",
    "user_affiliation_counts['affiliation_percentage'] = round(user_affiliation_counts['user_affiliation_count'] / user_affiliation_counts['total_segment_count'] * 100)\n",
    "\n",
    "# Step 3: Calculate the total number of entries for each \"user_name\" within each unique \"segment\"\n",
    "user_name_counts = edits.groupby(['segment', 'user_name'])['user_name'].count().reset_index(name='user_name_count')\n",
    "user_name_counts = user_name_counts.merge(segment_counts, on='segment')\n",
    "user_name_counts['user_percentage'] = round(user_name_counts['user_name_count'] / user_name_counts['total_segment_count'] * 100)"
   ]
  },
  {
   "cell_type": "code",
   "execution_count": 6,
   "id": "488d3164",
   "metadata": {},
   "outputs": [
    {
     "data": {
      "text/html": [
       "<div>\n",
       "<style scoped>\n",
       "    .dataframe tbody tr th:only-of-type {\n",
       "        vertical-align: middle;\n",
       "    }\n",
       "\n",
       "    .dataframe tbody tr th {\n",
       "        vertical-align: top;\n",
       "    }\n",
       "\n",
       "    .dataframe thead th {\n",
       "        text-align: right;\n",
       "    }\n",
       "</style>\n",
       "<table border=\"1\" class=\"dataframe\">\n",
       "  <thead>\n",
       "    <tr style=\"text-align: right;\">\n",
       "      <th></th>\n",
       "      <th>segment</th>\n",
       "      <th>user_name</th>\n",
       "      <th>user_name_count</th>\n",
       "      <th>user_affiliation</th>\n",
       "      <th>user_affiliation_count</th>\n",
       "      <th>total_segment_count</th>\n",
       "      <th>affiliation_percentage</th>\n",
       "    </tr>\n",
       "  </thead>\n",
       "  <tbody>\n",
       "    <tr>\n",
       "      <th>9</th>\n",
       "      <td>720575940635571552</td>\n",
       "      <td>A. Javier</td>\n",
       "      <td>2</td>\n",
       "      <td>Mala Murthy Lab, Sebastian Seung Lab</td>\n",
       "      <td>212</td>\n",
       "      <td>231</td>\n",
       "      <td>92.0</td>\n",
       "    </tr>\n",
       "    <tr>\n",
       "      <th>10</th>\n",
       "      <td>720575940626044942</td>\n",
       "      <td>A. Javier</td>\n",
       "      <td>4</td>\n",
       "      <td>Mala Murthy Lab, Sebastian Seung Lab</td>\n",
       "      <td>189</td>\n",
       "      <td>205</td>\n",
       "      <td>92.0</td>\n",
       "    </tr>\n",
       "    <tr>\n",
       "      <th>13</th>\n",
       "      <td>720575940637971363</td>\n",
       "      <td>Albert Lin</td>\n",
       "      <td>1</td>\n",
       "      <td>Mala Murthy Lab, Sebastian Seung Lab</td>\n",
       "      <td>2</td>\n",
       "      <td>3</td>\n",
       "      <td>67.0</td>\n",
       "    </tr>\n",
       "    <tr>\n",
       "      <th>14</th>\n",
       "      <td>720575940613149034</td>\n",
       "      <td>Albert Lin</td>\n",
       "      <td>3</td>\n",
       "      <td>Gerit Linneweber Lab</td>\n",
       "      <td>1</td>\n",
       "      <td>5</td>\n",
       "      <td>20.0</td>\n",
       "    </tr>\n",
       "    <tr>\n",
       "      <th>15</th>\n",
       "      <td>720575940616392514</td>\n",
       "      <td>Albert Lin</td>\n",
       "      <td>4</td>\n",
       "      <td>Mala Murthy Lab</td>\n",
       "      <td>4</td>\n",
       "      <td>34</td>\n",
       "      <td>12.0</td>\n",
       "    </tr>\n",
       "    <tr>\n",
       "      <th>...</th>\n",
       "      <td>...</td>\n",
       "      <td>...</td>\n",
       "      <td>...</td>\n",
       "      <td>...</td>\n",
       "      <td>...</td>\n",
       "      <td>...</td>\n",
       "      <td>...</td>\n",
       "    </tr>\n",
       "    <tr>\n",
       "      <th>27117</th>\n",
       "      <td>720575940645803630</td>\n",
       "      <td>twotwos</td>\n",
       "      <td>1</td>\n",
       "      <td>Mala Murthy Lab, Sebastian Seung Lab</td>\n",
       "      <td>4</td>\n",
       "      <td>5</td>\n",
       "      <td>80.0</td>\n",
       "    </tr>\n",
       "    <tr>\n",
       "      <th>27118</th>\n",
       "      <td>720575940629485584</td>\n",
       "      <td>twotwos</td>\n",
       "      <td>10</td>\n",
       "      <td>Eyewire</td>\n",
       "      <td>24</td>\n",
       "      <td>25</td>\n",
       "      <td>96.0</td>\n",
       "    </tr>\n",
       "    <tr>\n",
       "      <th>27119</th>\n",
       "      <td>720575940626012761</td>\n",
       "      <td>twotwos</td>\n",
       "      <td>17</td>\n",
       "      <td>Mala Murthy Lab, Sebastian Seung Lab</td>\n",
       "      <td>2</td>\n",
       "      <td>20</td>\n",
       "      <td>10.0</td>\n",
       "    </tr>\n",
       "    <tr>\n",
       "      <th>27121</th>\n",
       "      <td>720575940626012761</td>\n",
       "      <td>twotwos</td>\n",
       "      <td>17</td>\n",
       "      <td>Eyewire</td>\n",
       "      <td>17</td>\n",
       "      <td>20</td>\n",
       "      <td>85.0</td>\n",
       "    </tr>\n",
       "    <tr>\n",
       "      <th>27122</th>\n",
       "      <td>720575940645803630</td>\n",
       "      <td>twotwos</td>\n",
       "      <td>1</td>\n",
       "      <td>Eyewire</td>\n",
       "      <td>1</td>\n",
       "      <td>5</td>\n",
       "      <td>20.0</td>\n",
       "    </tr>\n",
       "  </tbody>\n",
       "</table>\n",
       "<p>20419 rows × 7 columns</p>\n",
       "</div>"
      ],
      "text/plain": [
       "                  segment   user_name  user_name_count  \\\n",
       "9      720575940635571552   A. Javier                2   \n",
       "10     720575940626044942   A. Javier                4   \n",
       "13     720575940637971363  Albert Lin                1   \n",
       "14     720575940613149034  Albert Lin                3   \n",
       "15     720575940616392514  Albert Lin                4   \n",
       "...                   ...         ...              ...   \n",
       "27117  720575940645803630     twotwos                1   \n",
       "27118  720575940629485584     twotwos               10   \n",
       "27119  720575940626012761     twotwos               17   \n",
       "27121  720575940626012761     twotwos               17   \n",
       "27122  720575940645803630     twotwos                1   \n",
       "\n",
       "                           user_affiliation  user_affiliation_count  \\\n",
       "9      Mala Murthy Lab, Sebastian Seung Lab                     212   \n",
       "10     Mala Murthy Lab, Sebastian Seung Lab                     189   \n",
       "13     Mala Murthy Lab, Sebastian Seung Lab                       2   \n",
       "14                     Gerit Linneweber Lab                       1   \n",
       "15                          Mala Murthy Lab                       4   \n",
       "...                                     ...                     ...   \n",
       "27117  Mala Murthy Lab, Sebastian Seung Lab                       4   \n",
       "27118                               Eyewire                      24   \n",
       "27119  Mala Murthy Lab, Sebastian Seung Lab                       2   \n",
       "27121                               Eyewire                      17   \n",
       "27122                               Eyewire                       1   \n",
       "\n",
       "       total_segment_count  affiliation_percentage  \n",
       "9                      231                    92.0  \n",
       "10                     205                    92.0  \n",
       "13                       3                    67.0  \n",
       "14                       5                    20.0  \n",
       "15                      34                    12.0  \n",
       "...                    ...                     ...  \n",
       "27117                    5                    80.0  \n",
       "27118                   25                    96.0  \n",
       "27119                   20                    10.0  \n",
       "27121                   20                    85.0  \n",
       "27122                    5                    20.0  \n",
       "\n",
       "[20419 rows x 7 columns]"
      ]
     },
     "metadata": {},
     "output_type": "display_data"
    }
   ],
   "source": [
    "# Merge the two DataFrames on the 'segment' column\n",
    "edit_counts = pd.merge(user_affiliation_counts[['segment', 'user_affiliation','user_affiliation_count', 'affiliation_percentage', 'total_segment_count']], user_name_counts[['segment', 'user_name', 'user_name_count','user_percentage']], on='segment')\n",
    "\n",
    "\n",
    "# Sort the DataFrame by 'user_name'\n",
    "edit_counts = edit_counts.sort_values(by='user_name')\n",
    "\n",
    "# Reset the index to have a clean index order\n",
    "edit_counts = edit_counts.reset_index(drop=True)\n",
    "\n",
    "# Filtering the data set to >10% edits bb lab\n",
    "edit_counts_final = edit_counts[['segment','user_name', 'user_name_count', 'user_affiliation','user_affiliation_count', 'total_segment_count','affiliation_percentage']].copy()\n",
    "edit_counts_final = edit_counts_final[edit_counts_final['affiliation_percentage']>= 10].copy()\n",
    "\n",
    "# Print the merged DataFrame\n",
    "display(edit_counts_final)"
   ]
  },
  {
   "cell_type": "code",
   "execution_count": 11,
   "id": "62381d63",
   "metadata": {},
   "outputs": [],
   "source": [
    "#Saving in a new file\n",
    "\n",
    "import datetime\n",
    "x = datetime.datetime.now()\n",
    "date_str = x.strftime(\"%d\") + x.strftime(\"%b\") + x.strftime(\"%Y\")\n",
    "file_name = f'segment_ids_edit_counts_{date_str}.xlsx'\n",
    "savePath = os.path.join(dataPath, file_name)\n",
    "edit_counts_final.to_excel(savePath, sheet_name='Edits passed 10 percent')\n",
    "\n",
    "\n",
    "#More dataframes in same excel file\n",
    "book = load_workbook(savePath)\n",
    "writer = pd.ExcelWriter(savePath, engine = 'openpyxl')\n",
    "writer.book = book\n",
    "user_name_counts.to_excel(writer, sheet_name='Edits counts by user')\n",
    "user_affiliation_counts.to_excel(writer, sheet_name='Edits counts by affiliation')\n",
    "writer.save()\n",
    "writer.close()"
   ]
  },
  {
   "cell_type": "code",
   "execution_count": null,
   "id": "d2bbd9d9",
   "metadata": {},
   "outputs": [],
   "source": [
    "savePath"
   ]
  }
 ],
 "metadata": {
  "kernelspec": {
   "display_name": "Python 3",
   "language": "python",
   "name": "python3"
  },
  "language_info": {
   "codemirror_mode": {
    "name": "ipython",
    "version": 3
   },
   "file_extension": ".py",
   "mimetype": "text/x-python",
   "name": "python",
   "nbconvert_exporter": "python",
   "pygments_lexer": "ipython3",
   "version": "3.7.4"
  }
 },
 "nbformat": 4,
 "nbformat_minor": 5
}
