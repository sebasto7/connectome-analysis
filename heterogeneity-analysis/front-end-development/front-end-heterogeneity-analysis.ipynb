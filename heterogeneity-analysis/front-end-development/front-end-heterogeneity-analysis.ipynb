{
 "cells": [
  {
   "cell_type": "markdown",
   "id": "6d67c4c5-f9c5-47e3-9730-fb441b6e6130",
   "metadata": {},
   "source": [
    "# Heterogeneity analysis: front-end for data mininng from FAFB and male optic lobe data sets"
   ]
  },
  {
   "cell_type": "markdown",
   "id": "cae73b9b-0036-40e8-b6fa-ea7cd673b8b7",
   "metadata": {},
   "source": [
    "The purpose of the following script is to write a compatible front-end code for both data sets.\n",
    "Meaning that data will be structure in the same manner before any analysis takes place"
   ]
  },
  {
   "cell_type": "markdown",
   "id": "30df840d-3301-499c-b1ff-bf255660eb7d",
   "metadata": {},
   "source": [
    "This notebook has the following content:\n",
    "1. Overview of desired data structure.\n",
    "2. Data mining from the FAFB data set.\n",
    "3. Data mining from the malae optic lobe data set."
   ]
  },
  {
   "cell_type": "code",
   "execution_count": 2,
   "id": "68e2b3e1-fd14-42cc-b5e4-e2cac642a37d",
   "metadata": {},
   "outputs": [],
   "source": [
    "# Importing packages \n",
    "import pandas as pd"
   ]
  },
  {
   "cell_type": "markdown",
   "id": "66e4b33b-7f34-4ddf-8210-fc49816257cd",
   "metadata": {},
   "source": [
    "## 1. Overview of desired data structure "
   ]
  },
  {
   "cell_type": "markdown",
   "id": "07d1f18c-3453-4103-8d89-31c22a4d259a",
   "metadata": {},
   "source": [
    "The following file contains an example of the minimun information that has to be mined.\n",
    "We will use this example file to guide the data mining process as well as to debveloped the subsequent data analysis and visualization"
   ]
  },
  {
   "cell_type": "code",
   "execution_count": 9,
   "id": "d6414744-3dc9-49b8-8d97-72d5c1054368",
   "metadata": {},
   "outputs": [
    {
     "data": {
      "text/html": [
       "<div>\n",
       "<style scoped>\n",
       "    .dataframe tbody tr th:only-of-type {\n",
       "        vertical-align: middle;\n",
       "    }\n",
       "\n",
       "    .dataframe tbody tr th {\n",
       "        vertical-align: top;\n",
       "    }\n",
       "\n",
       "    .dataframe thead th {\n",
       "        text-align: right;\n",
       "    }\n",
       "</style>\n",
       "<table border=\"1\" class=\"dataframe\">\n",
       "  <thead>\n",
       "    <tr style=\"text-align: right;\">\n",
       "      <th></th>\n",
       "      <th>presynaptic_ID</th>\n",
       "      <th>counts</th>\n",
       "      <th>postsynaptic_ID</th>\n",
       "      <th>symbol</th>\n",
       "      <th>optic_lobe_id</th>\n",
       "      <th>hemisphere</th>\n",
       "      <th>dorso-ventral</th>\n",
       "    </tr>\n",
       "  </thead>\n",
       "  <tbody>\n",
       "    <tr>\n",
       "      <th>0</th>\n",
       "      <td>720575940612487630</td>\n",
       "      <td>36</td>\n",
       "      <td>720575940633269971</td>\n",
       "      <td>L3</td>\n",
       "      <td>R32</td>\n",
       "      <td>R</td>\n",
       "      <td>V</td>\n",
       "    </tr>\n",
       "    <tr>\n",
       "      <th>1</th>\n",
       "      <td>720575940612413026</td>\n",
       "      <td>25</td>\n",
       "      <td>720575940633269971</td>\n",
       "      <td>CT1</td>\n",
       "      <td>R32</td>\n",
       "      <td>R</td>\n",
       "      <td>V</td>\n",
       "    </tr>\n",
       "    <tr>\n",
       "      <th>2</th>\n",
       "      <td>720575940654872737</td>\n",
       "      <td>13</td>\n",
       "      <td>720575940633269971</td>\n",
       "      <td>Mi4</td>\n",
       "      <td>R32</td>\n",
       "      <td>R</td>\n",
       "      <td>V</td>\n",
       "    </tr>\n",
       "    <tr>\n",
       "      <th>3</th>\n",
       "      <td>720575940626330969</td>\n",
       "      <td>13</td>\n",
       "      <td>720575940633269971</td>\n",
       "      <td>Tm16</td>\n",
       "      <td>R32</td>\n",
       "      <td>R</td>\n",
       "      <td>V</td>\n",
       "    </tr>\n",
       "    <tr>\n",
       "      <th>4</th>\n",
       "      <td>720575940626044942</td>\n",
       "      <td>7</td>\n",
       "      <td>720575940633269971</td>\n",
       "      <td>OA-AL2b2</td>\n",
       "      <td>R32</td>\n",
       "      <td>R</td>\n",
       "      <td>V</td>\n",
       "    </tr>\n",
       "  </tbody>\n",
       "</table>\n",
       "</div>"
      ],
      "text/plain": [
       "       presynaptic_ID  counts     postsynaptic_ID    symbol optic_lobe_id  \\\n",
       "0  720575940612487630      36  720575940633269971        L3           R32   \n",
       "1  720575940612413026      25  720575940633269971       CT1           R32   \n",
       "2  720575940654872737      13  720575940633269971       Mi4           R32   \n",
       "3  720575940626330969      13  720575940633269971      Tm16           R32   \n",
       "4  720575940626044942       7  720575940633269971  OA-AL2b2           R32   \n",
       "\n",
       "  hemisphere dorso-ventral  \n",
       "0          R             V  \n",
       "1          R             V  \n",
       "2          R             V  \n",
       "3          R             V  \n",
       "4          R             V  "
      ]
     },
     "execution_count": 9,
     "metadata": {},
     "output_type": "execute_result"
    }
   ],
   "source": [
    "# Loading the file\n",
    "structure_df = pd.read_csv('data_frame_structure.csv',sep=\";\")\n",
    "structure_df.head()"
   ]
  },
  {
   "cell_type": "markdown",
   "id": "097f3198-7f01-4ddb-8f3d-cfe32e53070c",
   "metadata": {},
   "source": [
    "## 2. Data mining from the FAFB data set"
   ]
  },
  {
   "cell_type": "markdown",
   "id": "00c455a3-e6d9-43df-92ef-40b256ea65a3",
   "metadata": {},
   "source": [
    "For any cell type of interest, let´s create a data frame with the same structure.\n",
    "The data will be mined directly from the FAFB server via FAFBseg-py package.\n",
    "Useful labels and column IDs for medulla neurons will be loaded from Codex files."
   ]
  },
  {
   "cell_type": "code",
   "execution_count": null,
   "id": "ed7acba2-0153-4e44-8365-69d74017c95e",
   "metadata": {},
   "outputs": [],
   "source": [
    "# User parameters\n",
    "cell_type_of_interest = 'Mi1'"
   ]
  },
  {
   "cell_type": "markdown",
   "id": "1c410bcd-706f-4f34-bc0b-ea460b735355",
   "metadata": {},
   "source": [
    "### 2.1. Loading useful codex files (FAFB v783)"
   ]
  },
  {
   "cell_type": "code",
   "execution_count": null,
   "id": "753e79ec-7a28-45b6-83a3-ac28cf941890",
   "metadata": {},
   "outputs": [],
   "source": [
    "# Codex files\n"
   ]
  }
 ],
 "metadata": {
  "kernelspec": {
   "display_name": "Python 3 (ipykernel)",
   "language": "python",
   "name": "python3"
  },
  "language_info": {
   "codemirror_mode": {
    "name": "ipython",
    "version": 3
   },
   "file_extension": ".py",
   "mimetype": "text/x-python",
   "name": "python",
   "nbconvert_exporter": "python",
   "pygments_lexer": "ipython3",
   "version": "3.10.14"
  }
 },
 "nbformat": 4,
 "nbformat_minor": 5
}
