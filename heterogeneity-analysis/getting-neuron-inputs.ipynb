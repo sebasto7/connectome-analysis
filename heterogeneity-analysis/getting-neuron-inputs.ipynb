{
 "cells": [
  {
   "cell_type": "markdown",
   "id": "f15f5740",
   "metadata": {},
   "source": [
    "# Analysis of inputs of a list of neurons"
   ]
  },
  {
   "cell_type": "markdown",
   "id": "2471408c",
   "metadata": {},
   "source": [
    "From a .txt raw data file containing root IDs of the desired postsynaptic neuron:\n",
    "- updates the root IDs\n",
    "- fetch synapses ad generates the synapse count per each individual input partner\n",
    "- adds useful information: cell types names and authors\n",
    "- saves the neurons-inputs-count in a .xlsx file."
   ]
  },
  {
   "cell_type": "code",
   "execution_count": null,
   "id": "2a7c6e4f",
   "metadata": {},
   "outputs": [],
   "source": [
    "#Importing packages\n",
    "\n",
    "import fafbseg\n",
    "from fafbseg import flywire\n",
    "import numpy as np\n",
    "import pandas as pd\n",
    "import os\n",
    "from helpers.helper import update_dataframe_single_column"
   ]
  },
  {
   "cell_type": "markdown",
   "id": "e9ee0b34",
   "metadata": {},
   "source": [
    "### 1. Loading and updating ids from txt file"
   ]
  },
  {
   "cell_type": "code",
   "execution_count": null,
   "id": "a26d6ebe",
   "metadata": {},
   "outputs": [],
   "source": [
    "# Choose path and file\n",
    "\n",
    "dataPath = r'Z:\\Further projects\\Heterogeneity across cell types\\data\\Txts\\cell_type_poofread' # YOUR-PATH to txt\n",
    "fileName = f'root_ids_Mi1_R_20231106.txt'\n",
    "filePath = os.path.join(dataPath,fileName)\n",
    "ids_df = pd.read_csv(filePath, sep = \",\")\n",
    "curr_ID_ls = ids_df.columns.tolist()\n",
    "len(curr_ID_ls)"
   ]
  },
  {
   "cell_type": "code",
   "execution_count": null,
   "id": "56c1b7eb",
   "metadata": {},
   "outputs": [],
   "source": [
    "#Updating the IDs via Fafbseg\n",
    "\n",
    "updated_ID_df = fafbseg.flywire.update_ids(curr_ID_ls, stop_layer=2, supervoxels=None, timestamp=None, dataset='production', progress=True)"
   ]
  },
  {
   "cell_type": "markdown",
   "id": "2165bb55",
   "metadata": {},
   "source": [
    "### 2. Fetching synapses"
   ]
  },
  {
   "cell_type": "code",
   "execution_count": null,
   "id": "7bcf041a",
   "metadata": {},
   "outputs": [],
   "source": [
    "# Fetching synapses from new IDs\n",
    "\n",
    "ID_ls = updated_ID_df[\"new_id\"].tolist()\n",
    "\n",
    "if np.unique(flywire.is_latest_root(ID_ls))[0]:\n",
    "    # Fetch the neuron's inputs and putputs\n",
    "    neurons_inputs = flywire.synapses.fetch_synapses(ID_ls, pre=False, post=True, attach=True, \n",
    "                                             min_score=50, clean=True, transmitters=False, \n",
    "                                             neuropils=True, batch_size=30, \n",
    "                                             dataset='production', progress=True,mat= \"live\")\n",
    "else:\n",
    "    print(f'IDs not up to date, analysis aborted') "
   ]
  },
  {
   "cell_type": "code",
   "execution_count": null,
   "id": "5856a714",
   "metadata": {},
   "outputs": [],
   "source": [
    "# Selecting inputs from a single neuropile\n",
    "\n",
    "neuropile_list = ['ME_L'] # Using fafbseg 1.14.0 version, ME_L is R and ME_R is left. In newwer version this has been fixed.\n",
    "neuropile_neurons_inputs = neurons_inputs[(neurons_inputs['neuropil'].isin(neuropile_list))].copy()"
   ]
  },
  {
   "cell_type": "code",
   "execution_count": null,
   "id": "8200bfcb",
   "metadata": {},
   "outputs": [],
   "source": [
    "# Counting inputs and ouputs per ID, option joining dataframes\n",
    "\n",
    "final_input_df = pd.DataFrame()\n",
    "for n in neuropile_neurons_inputs['post'].unique():\n",
    "    inputs_count = {}\n",
    "    curr_inputs = neuropile_neurons_inputs[neuropile_neurons_inputs['post'] == n]\n",
    "    inputs_str = curr_inputs.applymap(str)\n",
    "    \n",
    "    for c in inputs_str['pre'].to_list():\n",
    "        inputs_count[c] = inputs_count.get(c, 0) + 1\n",
    "    input_count_df = pd.DataFrame(inputs_count, index=[0])\n",
    "    input_count_df = input_count_df.T\n",
    "    input_count_df.rename(columns={0: \"counts\"},inplace=True)\n",
    "    input_count_df.index.names = ['presynaptic_ID']\n",
    "    input_count_df = input_count_df.sort_values(by=\"counts\",ascending=False)\n",
    "    input_count_df['postsynaptic_ID'] = inputs_str['post'].to_list()[0:len(input_count_df)]\n",
    "    final_input_df = final_input_df.append(input_count_df)\n",
    "    #print(f'Counting done for: {n}')\n",
    "input_count_str_df = final_input_df.applymap(str)\n",
    "input_count_str_df.head()"
   ]
  },
  {
   "cell_type": "markdown",
   "id": "dca27f7a",
   "metadata": {},
   "source": [
    "### 3. Adding useful information to the data frame: cell types names and authors"
   ]
  },
  {
   "cell_type": "code",
   "execution_count": null,
   "id": "6329e970",
   "metadata": {},
   "outputs": [],
   "source": [
    "# Selecting dataframe\n",
    "\n",
    "partner_ID = input_count_str_df.index.tolist()"
   ]
  },
  {
   "cell_type": "code",
   "execution_count": null,
   "id": "1609ccea",
   "metadata": {},
   "outputs": [],
   "source": [
    "#Updating the IDs via Fafbseg\n",
    "\n",
    "updated_ID_df = fafbseg.flywire.update_ids(partner_ID, stop_layer=2, supervoxels=None, timestamp=None, dataset='production', progress=True)\n",
    "partner_ID_ls = updated_ID_df[\"new_id\"].tolist()"
   ]
  },
  {
   "cell_type": "code",
   "execution_count": null,
   "id": "7f14e2cc",
   "metadata": {},
   "outputs": [],
   "source": [
    "# Identifying user-based annotations about cell identity\n",
    "\n",
    "identification_df = flywire.find_celltypes(partner_ID_ls, user=None, exact=False, case=False, regex=True, update_roots=False)\n",
    "identification_no_duplicates_df = identification_df.drop_duplicates(subset='pt_root_id', keep='last', inplace=False, ignore_index=False).copy()"
   ]
  },
  {
   "cell_type": "code",
   "execution_count": null,
   "id": "3c6982dd",
   "metadata": {},
   "outputs": [],
   "source": [
    "# Adding info to the current data set\n",
    "\n",
    "# Selecting dataframes and resetting index\n",
    "source_df = identification_no_duplicates_df.copy()\n",
    "source_df.reset_index(inplace = True, drop = True)\n",
    "target_df = input_count_str_df.copy()\n",
    "target_df.reset_index(inplace = True, drop = True)\n",
    "\n",
    "\n",
    "# Adding columns for the function to properly work\n",
    "target_df['partner_ID'] = input_count_str_df.index.astype(str)\n",
    "source_df['partner_ID'] = identification_no_duplicates_df['pt_root_id'].tolist()\n",
    "target_df['name'] = None\n",
    "source_df['name'] = identification_no_duplicates_df['tag'].tolist()\n",
    "target_df['author'] = None\n",
    "source_df['author'] = identification_no_duplicates_df['user_id'].tolist()\n",
    "\n",
    "# Function inputs\n",
    "source_cols = ['name', 'author','partner_ID']\n",
    "target_cols = ['name', 'author', 'partner_ID']\n",
    "reference_column = 'partner_ID'\n",
    "\n",
    "source_df = source_df[source_cols].copy()\n",
    "target_df = target_df[source_cols].copy()\n",
    "\n",
    "source_df = source_df.astype(str)\n",
    "target_df = target_df.astype(str)\n",
    "\n",
    "\n",
    "# Running the function and compleating the dataset\n",
    "result_df = update_dataframe_single_column(source_df, target_df,reference_column)\n",
    "result_df['counts'] = input_count_str_df['counts'].tolist()\n",
    "result_df['postsynaptic_ID'] = input_count_str_df['postsynaptic_ID'].tolist()\n",
    "result_df.head()\n",
    "\n"
   ]
  },
  {
   "cell_type": "code",
   "execution_count": null,
   "id": "35cb4c95",
   "metadata": {},
   "outputs": [],
   "source": [
    "# Saving data in your computer\n",
    "outDir = r'Z:\\Further projects\\Heterogeneity across cell types\\data\\Excels\\min-score-50' # YOUR-PATH for saving excel file\n",
    "save_excel_file = True\n",
    "\n",
    "if save_excel_file: \n",
    "    ## Input count\n",
    "    file_name = f'Mi1_neurons_input_count_R.xlsx'\n",
    "    savePath = os.path.join(outDir, file_name)\n",
    "    result_df.to_excel(savePath, sheet_name='Buhmann synapses')"
   ]
  }
 ],
 "metadata": {
  "kernelspec": {
   "display_name": "Python 3",
   "language": "python",
   "name": "python3"
  },
  "language_info": {
   "codemirror_mode": {
    "name": "ipython",
    "version": 3
   },
   "file_extension": ".py",
   "mimetype": "text/x-python",
   "name": "python",
   "nbconvert_exporter": "python",
   "pygments_lexer": "ipython3",
   "version": "3.7.4"
  }
 },
 "nbformat": 4,
 "nbformat_minor": 5
}
