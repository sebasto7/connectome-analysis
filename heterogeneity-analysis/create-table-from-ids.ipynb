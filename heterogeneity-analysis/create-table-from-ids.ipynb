{
 "cells": [
  {
   "cell_type": "markdown",
   "id": "01fc0d7f",
   "metadata": {},
   "source": [
    "# Creating a data base table from a file containing neuron ids"
   ]
  },
  {
   "cell_type": "markdown",
   "id": "ec9058ff",
   "metadata": {},
   "source": [
    "This notebook contains code to generate a data base table from scratch, using only a list of IDs from a txt file and the available information stored in the FlyWire server"
   ]
  },
  {
   "cell_type": "code",
   "execution_count": 3,
   "id": "46b8dc5c",
   "metadata": {},
   "outputs": [],
   "source": [
    "import os\n",
    "import pandas as pd\n",
    "import numpy as np\n",
    "from fafbseg import flywire\n",
    "from caveclient import CAVEclient\n",
    "client = CAVEclient('flywire_fafb_production')"
   ]
  },
  {
   "cell_type": "markdown",
   "id": "74ab2d07",
   "metadata": {},
   "source": [
    "## A) Choosing file, loading ids and creating data base table\n"
   ]
  },
  {
   "cell_type": "markdown",
   "id": "d1674a8c",
   "metadata": {},
   "source": [
    "### Chossing the txt file of interest and id update"
   ]
  },
  {
   "cell_type": "code",
   "execution_count": 13,
   "id": "c2df2232",
   "metadata": {},
   "outputs": [],
   "source": [
    "#Loading ids\n",
    "dataPath = r'E:\\Connectomics-Data\\FlyWire\\Txts'\n",
    "fileName = 'root_ids_Tm9_class_optic_lobes_side_right.txt'\n",
    "filePath = os.path.join(dataPath,fileName)\n",
    "ids_df = pd.read_csv(filePath, sep = \",\")\n",
    "initial_ids_list = ids_df.columns.tolist()"
   ]
  },
  {
   "cell_type": "code",
   "execution_count": 22,
   "id": "8bafa12d",
   "metadata": {},
   "outputs": [
    {
     "data": {
      "application/vnd.jupyter.widget-view+json": {
       "model_id": "",
       "version_major": 2,
       "version_minor": 0
      },
      "text/plain": [
       "Updating:   0%|          | 0/698 [00:00<?, ?it/s]"
      ]
     },
     "metadata": {},
     "output_type": "display_data"
    }
   ],
   "source": [
    "#Updating ids\n",
    "ids_update_df = flywire.update_ids(initial_ids_list, stop_layer=2, supervoxels=None, timestamp=None, dataset='production', progress=True)"
   ]
  },
  {
   "cell_type": "code",
   "execution_count": 61,
   "id": "cce48b34",
   "metadata": {},
   "outputs": [],
   "source": [
    "#Filtering out bad updates\n",
    "filtered_id_update_df = ids_update_df[ids_update_df['confidence'] >= 0.95]\n",
    "ids_list = filtered_id_update_df['old_id'].tolist()\n",
    "updated_ids_list = filtered_id_update_df['new_id'].tolist()"
   ]
  },
  {
   "cell_type": "code",
   "execution_count": 77,
   "id": "a0a338a7",
   "metadata": {},
   "outputs": [
    {
     "data": {
      "text/html": [
       "<div>\n",
       "<style scoped>\n",
       "    .dataframe tbody tr th:only-of-type {\n",
       "        vertical-align: middle;\n",
       "    }\n",
       "\n",
       "    .dataframe tbody tr th {\n",
       "        vertical-align: top;\n",
       "    }\n",
       "\n",
       "    .dataframe thead th {\n",
       "        text-align: right;\n",
       "    }\n",
       "</style>\n",
       "<table border=\"1\" class=\"dataframe\">\n",
       "  <thead>\n",
       "    <tr style=\"text-align: right;\">\n",
       "      <th></th>\n",
       "      <th>id</th>\n",
       "      <th>created</th>\n",
       "      <th>superceded_id</th>\n",
       "      <th>pt_position_x</th>\n",
       "      <th>pt_position_y</th>\n",
       "      <th>pt_position_z</th>\n",
       "      <th>tag</th>\n",
       "      <th>user_id</th>\n",
       "      <th>pt_supervoxel_id</th>\n",
       "      <th>pt_root_id</th>\n",
       "    </tr>\n",
       "  </thead>\n",
       "  <tbody>\n",
       "    <tr>\n",
       "      <th>46445</th>\n",
       "      <td>69136</td>\n",
       "      <td>2022-12-14 12:27:39.139449+00:00</td>\n",
       "      <td>NaN</td>\n",
       "      <td>707164</td>\n",
       "      <td>316212</td>\n",
       "      <td>83400</td>\n",
       "      <td>Tm9, Tm9_L, transmedullary neuron Tm9, Choline...</td>\n",
       "      <td>153</td>\n",
       "      <td>82758522504262702</td>\n",
       "      <td>720575940626174522</td>\n",
       "    </tr>\n",
       "    <tr>\n",
       "      <th>46450</th>\n",
       "      <td>69138</td>\n",
       "      <td>2022-12-14 12:28:08.861083+00:00</td>\n",
       "      <td>NaN</td>\n",
       "      <td>703616</td>\n",
       "      <td>298688</td>\n",
       "      <td>79480</td>\n",
       "      <td>Tm9, Tm9_L, transmedullary neuron Tm9, Choline...</td>\n",
       "      <td>153</td>\n",
       "      <td>82687878815586003</td>\n",
       "      <td>720575940630668871</td>\n",
       "    </tr>\n",
       "    <tr>\n",
       "      <th>55703</th>\n",
       "      <td>66360</td>\n",
       "      <td>2022-11-28 17:15:24.221904+00:00</td>\n",
       "      <td>NaN</td>\n",
       "      <td>764796</td>\n",
       "      <td>360224</td>\n",
       "      <td>106880</td>\n",
       "      <td>Tm9, Tm9_L, transmedullary neuron Tm9, FBbt_00...</td>\n",
       "      <td>2395</td>\n",
       "      <td>83744440904245193</td>\n",
       "      <td>720575940627187849</td>\n",
       "    </tr>\n",
       "    <tr>\n",
       "      <th>55711</th>\n",
       "      <td>66362</td>\n",
       "      <td>2022-11-28 17:26:36.339709+00:00</td>\n",
       "      <td>NaN</td>\n",
       "      <td>776116</td>\n",
       "      <td>176348</td>\n",
       "      <td>133520</td>\n",
       "      <td>Tm9, Tm9_L, transmedullary neuron Tm9, FBbt_00...</td>\n",
       "      <td>2395</td>\n",
       "      <td>83952454827425104</td>\n",
       "      <td>720575940633362131</td>\n",
       "    </tr>\n",
       "    <tr>\n",
       "      <th>57859</th>\n",
       "      <td>66361</td>\n",
       "      <td>2022-11-28 17:24:46.608047+00:00</td>\n",
       "      <td>NaN</td>\n",
       "      <td>783032</td>\n",
       "      <td>176784</td>\n",
       "      <td>141840</td>\n",
       "      <td>Tm9, Tm9_L, transmedullary neuron Tm9, FBbt_00...</td>\n",
       "      <td>2395</td>\n",
       "      <td>84093192315805909</td>\n",
       "      <td>720575940612657522</td>\n",
       "    </tr>\n",
       "  </tbody>\n",
       "</table>\n",
       "</div>"
      ],
      "text/plain": [
       "          id                          created  superceded_id  pt_position_x  \\\n",
       "46445  69136 2022-12-14 12:27:39.139449+00:00            NaN         707164   \n",
       "46450  69138 2022-12-14 12:28:08.861083+00:00            NaN         703616   \n",
       "55703  66360 2022-11-28 17:15:24.221904+00:00            NaN         764796   \n",
       "55711  66362 2022-11-28 17:26:36.339709+00:00            NaN         776116   \n",
       "57859  66361 2022-11-28 17:24:46.608047+00:00            NaN         783032   \n",
       "\n",
       "       pt_position_y  pt_position_z  \\\n",
       "46445         316212          83400   \n",
       "46450         298688          79480   \n",
       "55703         360224         106880   \n",
       "55711         176348         133520   \n",
       "57859         176784         141840   \n",
       "\n",
       "                                                     tag  user_id  \\\n",
       "46445  Tm9, Tm9_L, transmedullary neuron Tm9, Choline...      153   \n",
       "46450  Tm9, Tm9_L, transmedullary neuron Tm9, Choline...      153   \n",
       "55703  Tm9, Tm9_L, transmedullary neuron Tm9, FBbt_00...     2395   \n",
       "55711  Tm9, Tm9_L, transmedullary neuron Tm9, FBbt_00...     2395   \n",
       "57859  Tm9, Tm9_L, transmedullary neuron Tm9, FBbt_00...     2395   \n",
       "\n",
       "        pt_supervoxel_id          pt_root_id  \n",
       "46445  82758522504262702  720575940626174522  \n",
       "46450  82687878815586003  720575940630668871  \n",
       "55703  83744440904245193  720575940627187849  \n",
       "55711  83952454827425104  720575940633362131  \n",
       "57859  84093192315805909  720575940612657522  "
      ]
     },
     "execution_count": 77,
     "metadata": {},
     "output_type": "execute_result"
    }
   ],
   "source": [
    "# Getting id identification\n",
    "identification_df = flywire.find_celltypes(updated_ids_list, user=None, exact=False, case=False, regex=True, update_roots=False)\n",
    "identification_df.head()"
   ]
  },
  {
   "cell_type": "markdown",
   "id": "04fe92e8",
   "metadata": {},
   "source": [
    "## Creating the data base table"
   ]
  },
  {
   "cell_type": "code",
   "execution_count": 78,
   "id": "8a5f389a",
   "metadata": {},
   "outputs": [],
   "source": [
    "# Initializing the data set from a dictionary\n",
    "initial_dict = {}\n",
    "initial_dict['seg_id'] = identification_df['pt_root_id'].astype(str).tolist()\n",
    "initial_dict['author'] = identification_df['user_id'].astype(str).tolist()\n",
    "initial_dict['name'] = identification_df['tag'].astype(str).tolist()\n",
    "df = pd.DataFrame(initial_dict)\n",
    "\n"
   ]
  },
  {
   "cell_type": "markdown",
   "id": "0177bd4e",
   "metadata": {},
   "source": [
    "## Saving table in an excel file"
   ]
  },
  {
   "cell_type": "code",
   "execution_count": 82,
   "id": "b0571463",
   "metadata": {},
   "outputs": [],
   "source": [
    "#Saving in a new file\n",
    "\n",
    "df = df.astype(str)\n",
    "import datetime\n",
    "x = datetime.datetime.now()\n",
    "date_str = x.strftime(\"%d\") + x.strftime(\"%b\") + x.strftime(\"%Y\")\n",
    "file_name = f'new_table_{fileName}_{date_str}.xlsx'\n",
    "savePath = os.path.join(dataPath, file_name)\n",
    "df.to_excel(savePath, sheet_name='Initial table')"
   ]
  },
  {
   "cell_type": "code",
   "execution_count": null,
   "id": "536ac93f",
   "metadata": {},
   "outputs": [],
   "source": []
  }
 ],
 "metadata": {
  "kernelspec": {
   "display_name": "Python 3",
   "language": "python",
   "name": "python3"
  },
  "language_info": {
   "codemirror_mode": {
    "name": "ipython",
    "version": 3
   },
   "file_extension": ".py",
   "mimetype": "text/x-python",
   "name": "python",
   "nbconvert_exporter": "python",
   "pygments_lexer": "ipython3",
   "version": "3.7.4"
  }
 },
 "nbformat": 4,
 "nbformat_minor": 5
}
