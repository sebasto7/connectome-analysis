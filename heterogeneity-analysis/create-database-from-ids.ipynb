{
 "cells": [
  {
   "cell_type": "markdown",
   "id": "01fc0d7f",
   "metadata": {},
   "source": [
    "# Creating a database table from a file containing neuron ids"
   ]
  },
  {
   "cell_type": "markdown",
   "id": "ec9058ff",
   "metadata": {},
   "source": [
    "This notebook contains code to generate a data base table from scratch, using only a list of IDs from a txt file and the available information stored in the server / you data path"
   ]
  },
  {
   "cell_type": "code",
   "execution_count": null,
   "id": "46b8dc5c",
   "metadata": {},
   "outputs": [],
   "source": [
    "import os\n",
    "import pandas as pd\n",
    "import numpy as np\n",
    "from fafbseg import flywire\n",
    "from caveclient import CAVEclient\n",
    "client = CAVEclient('flywire_fafb_production')"
   ]
  },
  {
   "cell_type": "markdown",
   "id": "74ab2d07",
   "metadata": {},
   "source": [
    "## A) Choosing file, loading ids and creating data base table\n"
   ]
  },
  {
   "cell_type": "markdown",
   "id": "d1674a8c",
   "metadata": {},
   "source": [
    "### Chossing the txt file of interest and id update"
   ]
  },
  {
   "cell_type": "code",
   "execution_count": null,
   "id": "c2df2232",
   "metadata": {},
   "outputs": [],
   "source": [
    "#Loading ids\n",
    "dataPath = r'Z:\\Further projects\\Heterogeneity across cell types\\data\\Txts\\cell_type_poofread'\n",
    "fileName = 'root_ids_Mi1_R_20231106.txt'\n",
    "filePath = os.path.join(dataPath,fileName)\n",
    "ids_df = pd.read_csv(filePath, sep = \",\")\n",
    "initial_ids_list = ids_df.columns.tolist()"
   ]
  },
  {
   "cell_type": "code",
   "execution_count": null,
   "id": "8bafa12d",
   "metadata": {},
   "outputs": [],
   "source": [
    "#Updating ids\n",
    "ids_update_df = flywire.update_ids(initial_ids_list, stop_layer=2, supervoxels=None, timestamp=None, dataset='production', progress=True)"
   ]
  },
  {
   "cell_type": "code",
   "execution_count": null,
   "id": "cce48b34",
   "metadata": {},
   "outputs": [],
   "source": [
    "#Filtering out bad updates\n",
    "filtered_id_update_df = ids_update_df[ids_update_df['confidence'] >= 0.95]\n",
    "ids_list = filtered_id_update_df['old_id'].tolist()\n",
    "updated_ids_list = filtered_id_update_df['new_id'].tolist()"
   ]
  },
  {
   "cell_type": "code",
   "execution_count": null,
   "id": "a0a338a7",
   "metadata": {},
   "outputs": [],
   "source": [
    "# Getting id identification\n",
    "identification_df = flywire.find_celltypes(updated_ids_list, user=None, exact=False, case=False, regex=True, update_roots=False)\n",
    "identification_df.head()"
   ]
  },
  {
   "cell_type": "markdown",
   "id": "04fe92e8",
   "metadata": {},
   "source": [
    "## Creating the data base table"
   ]
  },
  {
   "cell_type": "code",
   "execution_count": null,
   "id": "8a5f389a",
   "metadata": {},
   "outputs": [],
   "source": [
    "# Initializing the data set from a dictionary\n",
    "initial_dict = {}\n",
    "initial_dict['seg_id'] = identification_df['pt_root_id'].astype(str).tolist()\n",
    "initial_dict['author'] = identification_df['user_id'].astype(str).tolist()\n",
    "initial_dict['name'] = identification_df['tag'].astype(str).tolist()\n",
    "df = pd.DataFrame(initial_dict)\n",
    "\n"
   ]
  },
  {
   "cell_type": "markdown",
   "id": "0177bd4e",
   "metadata": {},
   "source": [
    "## Saving table in an excel file"
   ]
  },
  {
   "cell_type": "code",
   "execution_count": null,
   "id": "b0571463",
   "metadata": {},
   "outputs": [],
   "source": [
    "#Saving in a new file\n",
    "\n",
    "df = df.astype(str)\n",
    "import datetime\n",
    "x = datetime.datetime.now()\n",
    "date_str = x.strftime(\"%d\") + x.strftime(\"%b\") + x.strftime(\"%Y\")\n",
    "file_name = f'new_table_{fileName}_{date_str}.xlsx'\n",
    "savePath = os.path.join(dataPath, file_name)\n",
    "df.to_excel(savePath, sheet_name='Initial table')"
   ]
  },
  {
   "cell_type": "code",
   "execution_count": null,
   "id": "536ac93f",
   "metadata": {},
   "outputs": [],
   "source": []
  }
 ],
 "metadata": {
  "kernelspec": {
   "display_name": "Python 3",
   "language": "python",
   "name": "python3"
  },
  "language_info": {
   "codemirror_mode": {
    "name": "ipython",
    "version": 3
   },
   "file_extension": ".py",
   "mimetype": "text/x-python",
   "name": "python",
   "nbconvert_exporter": "python",
   "pygments_lexer": "ipython3",
   "version": "3.7.4"
  }
 },
 "nbformat": 4,
 "nbformat_minor": 5
}
