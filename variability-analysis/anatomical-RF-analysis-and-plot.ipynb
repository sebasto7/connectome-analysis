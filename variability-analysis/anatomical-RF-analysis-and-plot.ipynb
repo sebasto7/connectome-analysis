{
 "cells": [
  {
   "cell_type": "markdown",
   "id": "d01228e4",
   "metadata": {},
   "source": [
    "# Analysis and plot of anatomical receptive field (RF) size"
   ]
  },
  {
   "cell_type": "code",
   "execution_count": 1,
   "id": "3e80b938",
   "metadata": {},
   "outputs": [
    {
     "name": "stderr",
     "output_type": "stream",
     "text": [
      "C:\\Users\\sebas\\anaconda3\\envs\\EM\\lib\\site-packages\\blessed\\terminal.py:186: UserWarning: Failed to setupterm(kind='xterm-color'): Could not find terminal xterm-color\n",
      "  warnings.warn(msg)\n"
     ]
    }
   ],
   "source": [
    "#%% Importing packages\n",
    "import seaborn as sns\n",
    "import matplotlib.pyplot as plt\n",
    "import matplotlib\n",
    "import os\n",
    "import pandas as pd\n",
    "import numpy as np\n",
    "from scipy.spatial import ConvexHull, distance\n",
    "from fafbseg import flywire\n",
    "import navis\n",
    "#from helper_anatomical_RF_analysis import *\n",
    "from synapse_queries_helper import combine_xyz, calculate_neuron_weights, match_all_pre_to_single_post, calculate_spatial_span\n",
    "from helper import replace_outliers_with_nan"
   ]
  },
  {
   "cell_type": "code",
   "execution_count": 2,
   "id": "75f8cefd",
   "metadata": {},
   "outputs": [],
   "source": [
    "#%% General plotting settings\n",
    "PC_disc = 'D'\n",
    "dataPath = f'{PC_disc}:\\FlyWire-Data\\Processed-data'\n",
    "fig_save_path = os.path.join(dataPath,\"Figures\")\n",
    "save_figures = True\n",
    "\n",
    "#General style\n",
    "font = {'family' : 'arial',\n",
    "        'weight' : 'normal',\n",
    "        'size'   : 8}\n",
    "axes = {'labelsize': 12, 'titlesize': 12}\n",
    "ticks = {'labelsize': 10}\n",
    "legend = {'fontsize': 8}\n",
    "plt.rc('font', **font)\n",
    "plt.rc('axes', **axes)\n",
    "plt.rc('xtick', **ticks)\n",
    "plt.rc('ytick', **ticks)\n",
    "\n",
    "#Saving text for pdfs in a proper way\n",
    "matplotlib.rcParams['pdf.fonttype'] = 42\n",
    "matplotlib.rcParams['ps.fonttype'] = 42\n",
    "\n",
    "# For plotting purposes\n",
    "\n",
    "hemisphere = 'R' \n",
    "neuropile_mesh = 'ME_L' # for fafbseq before version 2.0.0 (if later used, this should read: 'ME_R')\n",
    "mesh_azim = 16\n",
    "mesh_elev = -50 \n",
    "cm = 1/2.54  # centimeters in inches"
   ]
  },
  {
   "cell_type": "code",
   "execution_count": 3,
   "id": "d46d1d8f",
   "metadata": {},
   "outputs": [
    {
     "name": "stdout",
     "output_type": "stream",
     "text": [
      "Total number of columns: 700\n",
      "All presynatic partners: \n",
      " ['Tm16', 'Mi4', 'CT1', 'L3', 'Dm12', 'C3', 'Tm20', 'Tm1', 'ML1', 'PS125', 'L4', 'C2', 'OA-AL2b2', 'TmY17', 'pMP7', 'TmY15', 'Mi13', 'Tm2', 'TmY10', 'Dm10', 'Mi9', 'Y3', 'T2', 'Tm23', 'TmY14', 'Dm3', 'Mi10', 'TmY11', 'Dm4', 'Tm4', 'Mi14', 'T5a', 'Dm15', 'Mi1', 'Dm20', 'Tm1a', 'Mi8', 'T5', 'Dm13', 'L2', 'Dm9', 'LC14b', 'Tm9', 'Tm5', 'Pm1a', 'T5c', 'T2a', 'T5b', 'TmY3', 'Lawf1', 'Tm5b', 'glia', 'R8', 'MeTu_m_l', 'Mt-N.I.', 'TmY21', 'TmY26', 'Me-Lo-2-N.I.', 'TmY24', 'TmY28', 'T3', 'TmY23', 'Mi?', 'glia ', 'Dm14', 'Dm8', 'L1', 'TmY25', 'TmY27', 'TmY22', 'Dm2', 'Dm1', 'TmY18', 'MeMe']\n",
      "All presynatic partners after threshold: \n",
      " ['Tm16', 'Mi4', 'CT1', 'L3', 'Dm12', 'C3', 'Tm20', 'Tm1', 'ML1', 'PS125', 'L4', 'C2', 'OA-AL2b2', 'TmY17', 'pMP7', 'TmY15', 'Mi13', 'Tm2', 'TmY10']\n"
     ]
    },
    {
     "data": {
      "image/png": "[encoded data removed]",
      "text/plain": [
       "<Figure size 720x720 with 1 Axes>"
      ]
     },
     "metadata": {
      "needs_background": "light"
     },
     "output_type": "display_data"
    }
   ],
   "source": [
    "#%% Data analysis \n",
    "##################################################### Presynaptic partner analysis ########################################################\n",
    "# Loading data\n",
    "PC_disc = 'D'\n",
    "dataPath = f'{PC_disc}:\\Connectomics-Data\\FlyWire\\Processed-data'\n",
    "fig_save_path = os.path.join(dataPath,\"Figures\")\n",
    "save_figures = True\n",
    "\n",
    "current_data = 'Tm9_700_R_20231113.xlsx'\n",
    "\n",
    "filePath =  os.path.join(dataPath,current_data)\n",
    "_sheet_name = 'Relative_counts'\n",
    "\n",
    "data_df = pd.read_excel(filePath, sheet_name=_sheet_name,index_col = 0)\n",
    "number_of_columns = len(data_df)\n",
    "pre_partners_ls = data_df.columns.tolist()\n",
    "print(f'Total number of columns: {number_of_columns}')\n",
    "print(f'All presynatic partners: \\n {pre_partners_ls}')\n",
    "\n",
    "# Applying a presence threshold based on NaN values\n",
    "percetatge_prescence = 0.05\n",
    "threshold = percetatge_prescence * len(data_df)\n",
    "\n",
    "# Filter columns based on the threshold\n",
    "filtered_data_df = data_df.dropna(thresh=threshold, axis=1)\n",
    "filtered_pre_partners_ls = filtered_data_df.columns.tolist()\n",
    "print(f'All presynatic partners after threshold: \\n {filtered_pre_partners_ls}')\n",
    "\n",
    "# Visualization of sorted inputs from hight to low\n",
    "_data = filtered_data_df\n",
    "fig, axs = plt.subplots(1, 1, figsize=(10, 10))\n",
    "fig.subplots_adjust(hspace=0.5)\n",
    "fig.suptitle(f'Wide field input partners (n = {number_of_columns}). \\n {_sheet_name}')\n",
    "sns.boxplot(data=_data[_data.mean().sort_values(ascending = False).index], ax=axs)\n",
    "axs.set_ylabel('Relative Counts')\n",
    "axs.set_xticklabels(axs.get_xticklabels(), rotation=90) \n",
    "plt.show()\n",
    "plt.close()"
   ]
  },
  {
   "cell_type": "code",
   "execution_count": 4,
   "id": "4aa4a441",
   "metadata": {},
   "outputs": [
    {
     "name": "stdout",
     "output_type": "stream",
     "text": [
      "Analyzing Dm12\n",
      "Number of neurons: 41\n",
      "Consider updating your ids in the original pre-neuron data set\n"
     ]
    },
    {
     "data": {
      "application/vnd.jupyter.widget-view+json": {
       "model_id": "",
       "version_major": 2,
       "version_minor": 0
      },
      "text/plain": [
       "Updating:   0%|          | 0/41 [00:00<?, ?it/s]"
      ]
     },
     "metadata": {},
     "output_type": "display_data"
    },
    {
     "name": "stdout",
     "output_type": "stream",
     "text": [
      "Consider updating your ids in the original post neuron data set\n"
     ]
    },
    {
     "data": {
      "application/vnd.jupyter.widget-view+json": {
       "model_id": "",
       "version_major": 2,
       "version_minor": 0
      },
      "text/plain": [
       "Updating:   0%|          | 0/682 [00:00<?, ?it/s]"
      ]
     },
     "metadata": {},
     "output_type": "display_data"
    },
    {
     "name": "stdout",
     "output_type": "stream",
     "text": [
      "Matching all pre to single post\n"
     ]
    },
    {
     "data": {
      "application/vnd.jupyter.widget-view+json": {
       "model_id": "a42687e99c9747c9b22d15206a3890fa",
       "version_major": 2,
       "version_minor": 0
      },
      "text/plain": [
       "Fetching synapses:   0%|          | 0/23 [00:00<?, ?it/s]"
      ]
     },
     "metadata": {},
     "output_type": "display_data"
    },
    {
     "data": {
      "application/vnd.jupyter.widget-view+json": {
       "model_id": "49fc84446bb642488732a317ff9b4f69",
       "version_major": 2,
       "version_minor": 0
      },
      "text/plain": [
       "Fetching synapses:   0%|          | 0/6 [00:00<?, ?it/s]"
      ]
     },
     "metadata": {},
     "output_type": "display_data"
    },
    {
     "name": "stdout",
     "output_type": "stream",
     "text": [
      "Calculating spatial span\n",
      "Analyzing L4\n",
      "Number of neurons: 73\n",
      "Consider updating your ids in the original pre-neuron data set\n"
     ]
    },
    {
     "data": {
      "application/vnd.jupyter.widget-view+json": {
       "model_id": "",
       "version_major": 2,
       "version_minor": 0
      },
      "text/plain": [
       "Updating:   0%|          | 0/73 [00:00<?, ?it/s]"
      ]
     },
     "metadata": {},
     "output_type": "display_data"
    },
    {
     "name": "stdout",
     "output_type": "stream",
     "text": [
      "Consider updating your ids in the original post neuron data set\n"
     ]
    },
    {
     "data": {
      "application/vnd.jupyter.widget-view+json": {
       "model_id": "",
       "version_major": 2,
       "version_minor": 0
      },
      "text/plain": [
       "Updating:   0%|          | 0/682 [00:00<?, ?it/s]"
      ]
     },
     "metadata": {},
     "output_type": "display_data"
    },
    {
     "name": "stdout",
     "output_type": "stream",
     "text": [
      "Matching all pre to single post\n"
     ]
    },
    {
     "data": {
      "application/vnd.jupyter.widget-view+json": {
       "model_id": "db5ced35423146be8f054887be9a77bc",
       "version_major": 2,
       "version_minor": 0
      },
      "text/plain": [
       "Fetching synapses:   0%|          | 0/23 [00:00<?, ?it/s]"
      ]
     },
     "metadata": {},
     "output_type": "display_data"
    },
    {
     "name": "stdout",
     "output_type": "stream",
     "text": [
      "Calculating spatial span\n"
     ]
    }
   ],
   "source": [
    "#%% Anatomical RF analysis (area and column span)\n",
    "\n",
    "#Defined variables for analysis purposes\n",
    "min_desired_count = 3 # minimun desired number of contacts between pre and post neurons to be considered\n",
    "single_column_diameter = 11.2 # in um (measured in FlyWire)\n",
    "single_column_area = 100 # in um^2 (Assumed column as circle)\n",
    "hemisphere = 'R'\n",
    "\n",
    "\n",
    "\n",
    "\n",
    "#############################################################################################\n",
    "########## Matching all presynaptic cell ids connecting to each postsynaptic cell ###########\n",
    "\n",
    "########## Looping across all presynaptic cell types\n",
    "\n",
    "pre_neuron_type_ls = ['L3','Mi4','L4','Tm16','Dm12','C2','C3','Mi13','Tm1','Tm20','TmY10','TmY15','TmY17'] # add \n",
    "pre_neuron_type_ls = ['Dm12','L4'] \n",
    "\n",
    "spatial_span_df_dict = {}\n",
    "individual_spatial_span_df_dict = {}\n",
    "\n",
    "for pre_neuron_type in pre_neuron_type_ls:\n",
    "    print(f'Analyzing {pre_neuron_type}')\n",
    "\n",
    "    ## Loading information  from excel files\n",
    "    PC_disc = 'D'\n",
    "    dataPath = f'{PC_disc}:\\Connectomics-Data\\FlyWire\\Excels\\drive-data-sets\\database'\n",
    "    date = '20230912'\n",
    "    post_neuron_type = 'Tm9'\n",
    "    fileName_post = f'{post_neuron_type} proofreadings.xlsx'\n",
    "    filePath_post = os.path.join(dataPath,fileName_post)\n",
    "    fileName_pre = f'{pre_neuron_type} proofreadings.xlsx'\n",
    "    filePath_pre = os.path.join(dataPath,fileName_pre)\n",
    "\n",
    "    #Loading file as DataFrame\n",
    "    post_df = pd.read_excel(filePath_post)\n",
    "    pre_df = pd.read_excel(filePath_pre)\n",
    "\n",
    "    ## Filtering data\n",
    "    # Selecting the R optic lobe IDs\n",
    "    R_pre_df = pre_df[pre_df['hemisphere'] == hemisphere].copy()\n",
    "    R_post_df = post_df[post_df['hemisphere'] == hemisphere].copy()\n",
    "    # Selecting the backbone proofread IDs\n",
    "    R_post_df = R_post_df[R_post_df['backbone proofread (Y/N)'] == 'Y'].copy()\n",
    "    R_pre_df = R_pre_df[R_pre_df['backbone proofread (Y/N)'] == 'Y'].copy()\n",
    "    # Selecting presynaptic cells ids\n",
    "    pre_ids = R_pre_df['Updated_seg_id'].tolist()\n",
    "    print(f'Number of neurons: {len( pre_ids)}')\n",
    "\n",
    "    # Quick updates\n",
    "    # Updating presynaptic neurons if they are not up-to-date\n",
    "    if not np.unique(flywire.is_latest_root(pre_ids))[0]: #if not up-to-date\n",
    "        print('Consider updating your ids in the original pre-neuron data set')\n",
    "        pre_ids_update_df = flywire.update_ids(pre_ids, stop_layer=2, supervoxels=None, timestamp=None, dataset='production', progress=True)\n",
    "        up_to_date_pre_ids = pre_ids_update_df['new_id'].tolist()\n",
    "    else:\n",
    "        up_to_date_pre_ids = [int(x) for x in pre_ids]\n",
    "        print('All pre ids were up to date')\n",
    "\n",
    "\n",
    "        ## Getting postsynaptic side ID\n",
    "    post_ids = R_post_df['Updated_seg_id'].tolist()\n",
    "\n",
    "    ## Updating postsynaptic neurons if they are not up-to-date\n",
    "    if not np.unique(flywire.is_latest_root(post_ids))[0]: # if not up-to-date\n",
    "        print('Consider updating your ids in the original post neuron data set')\n",
    "        #Updating the IDs via Fafbseg\n",
    "        post_ids_update_df = flywire.update_ids(post_ids, stop_layer=2, supervoxels=None, timestamp=None, dataset='production', progress=True)\n",
    "        up_to_date_post_ids = post_ids_update_df['new_id']\n",
    "    else:\n",
    "        up_to_date_post_ids = [int(x) for x in post_ids]\n",
    "        print('All post ids were up to date')\n",
    "\n",
    "\n",
    "    ## Doing the pre to post match\n",
    "    pre_post_counts, post_inputs = match_all_pre_to_single_post(up_to_date_post_ids, up_to_date_pre_ids, neuropile_mesh) \n",
    "\n",
    "    #############################################################################################\n",
    "    ## Analysis f spatial span of preynaptic inputs to single, unicolumnar, postsynaptic cells ##\n",
    "\n",
    "    # Synaptic counts filter\n",
    "    pre_post_counts = pre_post_counts[pre_post_counts['pre_syn_count']>=min_desired_count].copy()\n",
    "\n",
    "    ## Geeting information for all pre cells \n",
    "    pre_ls = pre_post_counts['pre_pt_root_id'].tolist() # all postsynaptic neurons\n",
    "\n",
    "    # Fetch the inputs from presynaptic cells\n",
    "    #TODO change \"pre_inputs\" to \"pre_connectivity\" (which includes inputs and outputs)\n",
    "    pre_inputs = flywire.synapses.fetch_synapses(pre_ls, pre=True, post=True, attach=True, \n",
    "                                                 min_score=50, clean=True, transmitters=False, \n",
    "                                                 neuropils=True, batch_size=30, \n",
    "                                                 dataset='production', progress=True,mat= \"live\")\n",
    "\n",
    "    # Filtering: keeping only synapses in the medulla\n",
    "    pre_inputs = pre_inputs[pre_inputs['neuropil'] == neuropile_mesh].copy()\n",
    "    len(pre_inputs)\n",
    "\n",
    "    #Combining pre- and postsynpases XYZ values in single columns\n",
    "    combine_xyz(pre_inputs) # Function that does the operation\n",
    "\n",
    "    ## Quantificatino of the spatial span\n",
    "    spatial_span_df, individual_spatial_span_df = calculate_spatial_span(up_to_date_post_ids, up_to_date_pre_ids, post_ids_update_df, R_post_df, post_inputs, pre_post_counts, pre_inputs, single_column_area, single_column_diameter)\n",
    "    spatial_span_df_dict[pre_neuron_type] = spatial_span_df\n",
    "    \n",
    "\n"
   ]
  },
  {
   "cell_type": "code",
   "execution_count": 7,
   "id": "30872236",
   "metadata": {},
   "outputs": [
    {
     "ename": "ValueError",
     "evalue": "No objects to concatenate",
     "output_type": "error",
     "traceback": [
      "\u001b[1;31m---------------------------------------------------------------------------\u001b[0m",
      "\u001b[1;31mValueError\u001b[0m                                Traceback (most recent call last)",
      "\u001b[1;32m~\\AppData\\Local\\Temp\\ipykernel_20004\\2810198017.py\u001b[0m in \u001b[0;36m<module>\u001b[1;34m\u001b[0m\n\u001b[0;32m     16\u001b[0m \u001b[1;33m\u001b[0m\u001b[0m\n\u001b[0;32m     17\u001b[0m \u001b[1;31m# Concatenate DataFrames in the list\u001b[0m\u001b[1;33m\u001b[0m\u001b[1;33m\u001b[0m\u001b[1;33m\u001b[0m\u001b[0m\n\u001b[1;32m---> 18\u001b[1;33m \u001b[0mcombined_individual_spatial_span_df\u001b[0m \u001b[1;33m=\u001b[0m \u001b[0mpd\u001b[0m\u001b[1;33m.\u001b[0m\u001b[0mconcat\u001b[0m\u001b[1;33m(\u001b[0m\u001b[0mdfs_list\u001b[0m\u001b[1;33m,\u001b[0m \u001b[0mignore_index\u001b[0m\u001b[1;33m=\u001b[0m\u001b[1;32mTrue\u001b[0m\u001b[1;33m)\u001b[0m\u001b[1;33m\u001b[0m\u001b[1;33m\u001b[0m\u001b[0m\n\u001b[0m\u001b[0;32m     19\u001b[0m \u001b[1;33m\u001b[0m\u001b[0m\n\u001b[0;32m     20\u001b[0m \u001b[0mprint\u001b[0m\u001b[1;33m(\u001b[0m\u001b[1;34m'Analysis done.'\u001b[0m\u001b[1;33m)\u001b[0m\u001b[1;33m\u001b[0m\u001b[1;33m\u001b[0m\u001b[0m\n",
      "\u001b[1;32m~\\anaconda3\\envs\\EM\\lib\\site-packages\\pandas\\util\\_decorators.py\u001b[0m in \u001b[0;36mwrapper\u001b[1;34m(*args, **kwargs)\u001b[0m\n\u001b[0;32m    309\u001b[0m                     \u001b[0mstacklevel\u001b[0m\u001b[1;33m=\u001b[0m\u001b[0mstacklevel\u001b[0m\u001b[1;33m,\u001b[0m\u001b[1;33m\u001b[0m\u001b[1;33m\u001b[0m\u001b[0m\n\u001b[0;32m    310\u001b[0m                 )\n\u001b[1;32m--> 311\u001b[1;33m             \u001b[1;32mreturn\u001b[0m \u001b[0mfunc\u001b[0m\u001b[1;33m(\u001b[0m\u001b[1;33m*\u001b[0m\u001b[0margs\u001b[0m\u001b[1;33m,\u001b[0m \u001b[1;33m**\u001b[0m\u001b[0mkwargs\u001b[0m\u001b[1;33m)\u001b[0m\u001b[1;33m\u001b[0m\u001b[1;33m\u001b[0m\u001b[0m\n\u001b[0m\u001b[0;32m    312\u001b[0m \u001b[1;33m\u001b[0m\u001b[0m\n\u001b[0;32m    313\u001b[0m         \u001b[1;32mreturn\u001b[0m \u001b[0mwrapper\u001b[0m\u001b[1;33m\u001b[0m\u001b[1;33m\u001b[0m\u001b[0m\n",
      "\u001b[1;32m~\\anaconda3\\envs\\EM\\lib\\site-packages\\pandas\\core\\reshape\\concat.py\u001b[0m in \u001b[0;36mconcat\u001b[1;34m(objs, axis, join, ignore_index, keys, levels, names, verify_integrity, sort, copy)\u001b[0m\n\u001b[0;32m    302\u001b[0m         \u001b[0mverify_integrity\u001b[0m\u001b[1;33m=\u001b[0m\u001b[0mverify_integrity\u001b[0m\u001b[1;33m,\u001b[0m\u001b[1;33m\u001b[0m\u001b[1;33m\u001b[0m\u001b[0m\n\u001b[0;32m    303\u001b[0m         \u001b[0mcopy\u001b[0m\u001b[1;33m=\u001b[0m\u001b[0mcopy\u001b[0m\u001b[1;33m,\u001b[0m\u001b[1;33m\u001b[0m\u001b[1;33m\u001b[0m\u001b[0m\n\u001b[1;32m--> 304\u001b[1;33m         \u001b[0msort\u001b[0m\u001b[1;33m=\u001b[0m\u001b[0msort\u001b[0m\u001b[1;33m,\u001b[0m\u001b[1;33m\u001b[0m\u001b[1;33m\u001b[0m\u001b[0m\n\u001b[0m\u001b[0;32m    305\u001b[0m     )\n\u001b[0;32m    306\u001b[0m \u001b[1;33m\u001b[0m\u001b[0m\n",
      "\u001b[1;32m~\\anaconda3\\envs\\EM\\lib\\site-packages\\pandas\\core\\reshape\\concat.py\u001b[0m in \u001b[0;36m__init__\u001b[1;34m(self, objs, axis, join, keys, levels, names, ignore_index, verify_integrity, copy, sort)\u001b[0m\n\u001b[0;32m    349\u001b[0m \u001b[1;33m\u001b[0m\u001b[0m\n\u001b[0;32m    350\u001b[0m         \u001b[1;32mif\u001b[0m \u001b[0mlen\u001b[0m\u001b[1;33m(\u001b[0m\u001b[0mobjs\u001b[0m\u001b[1;33m)\u001b[0m \u001b[1;33m==\u001b[0m \u001b[1;36m0\u001b[0m\u001b[1;33m:\u001b[0m\u001b[1;33m\u001b[0m\u001b[1;33m\u001b[0m\u001b[0m\n\u001b[1;32m--> 351\u001b[1;33m             \u001b[1;32mraise\u001b[0m \u001b[0mValueError\u001b[0m\u001b[1;33m(\u001b[0m\u001b[1;34m\"No objects to concatenate\"\u001b[0m\u001b[1;33m)\u001b[0m\u001b[1;33m\u001b[0m\u001b[1;33m\u001b[0m\u001b[0m\n\u001b[0m\u001b[0;32m    352\u001b[0m \u001b[1;33m\u001b[0m\u001b[0m\n\u001b[0;32m    353\u001b[0m         \u001b[1;32mif\u001b[0m \u001b[0mkeys\u001b[0m \u001b[1;32mis\u001b[0m \u001b[1;32mNone\u001b[0m\u001b[1;33m:\u001b[0m\u001b[1;33m\u001b[0m\u001b[1;33m\u001b[0m\u001b[0m\n",
      "\u001b[1;31mValueError\u001b[0m: No objects to concatenate"
     ]
    }
   ],
   "source": [
    "## Combining all dataframes and discarding outliers\n",
    "\n",
    "# Initialize an empty list to store DataFrames\n",
    "dfs_list = []\n",
    "\n",
    "# Iterate through the dictionary\n",
    "for neuron, df in individual_spatial_span_df_dict.items():\n",
    "    #Discard outliers\n",
    "    df = replace_outliers_with_nan(df, multiplier=1.5)\n",
    "    # Add 'neuron' column to the DataFrame\n",
    "    df['neuron'] = neuron\n",
    "    if len(df) < 10:\n",
    "        continue\n",
    "    # Append the DataFrame to the list\n",
    "    dfs_list.append(df)\n",
    "\n",
    "# Concatenate DataFrames in the list\n",
    "combined_individual_spatial_span_df = pd.concat(dfs_list, ignore_index=True)\n",
    "\n",
    "print('Analysis done.')"
   ]
  },
  {
   "cell_type": "code",
   "execution_count": null,
   "id": "17f4eeac",
   "metadata": {},
   "outputs": [],
   "source": []
  },
  {
   "cell_type": "code",
   "execution_count": null,
   "id": "a7f0a1b2",
   "metadata": {},
   "outputs": [],
   "source": []
  }
 ],
 "metadata": {
  "kernelspec": {
   "display_name": "Python 3 (ipykernel)",
   "language": "python",
   "name": "python3"
  },
  "language_info": {
   "codemirror_mode": {
    "name": "ipython",
    "version": 3
   },
   "file_extension": ".py",
   "mimetype": "text/x-python",
   "name": "python",
   "nbconvert_exporter": "python",
   "pygments_lexer": "ipython3",
   "version": "3.7.4"
  }
 },
 "nbformat": 4,
 "nbformat_minor": 5
}
