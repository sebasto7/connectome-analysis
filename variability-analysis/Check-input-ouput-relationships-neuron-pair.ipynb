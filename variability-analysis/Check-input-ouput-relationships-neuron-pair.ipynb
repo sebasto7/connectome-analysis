{
 "cells": [
  {
   "cell_type": "markdown",
   "id": "3543c080",
   "metadata": {},
   "source": [
    "# Check pair of neurons input-output relationships"
   ]
  },
  {
   "cell_type": "markdown",
   "id": "84a3f54e",
   "metadata": {},
   "source": [
    "This notebook contains:\n",
    "<br><br>A) Individual synaptic counts distributions\n",
    "<br>B) Pair-wise relationship"
   ]
  },
  {
   "cell_type": "code",
   "execution_count": 1,
   "id": "fc7c3467",
   "metadata": {},
   "outputs": [
    {
     "name": "stderr",
     "output_type": "stream",
     "text": [
      "C:\\Users\\smolina\\Anaconda3\\envs\\EM\\lib\\site-packages\\blessed\\terminal.py:186: UserWarning: Failed to setupterm(kind='xterm-color'): Could not find terminal xterm-color\n",
      "  warnings.warn(msg)\n"
     ]
    }
   ],
   "source": [
    "import os\n",
    "import pandas as pd\n",
    "import numpy as np\n",
    "from fafbseg import flywire\n",
    "import matplotlib.pyplot as plt\n",
    "import seaborn as sns"
   ]
  },
  {
   "cell_type": "code",
   "execution_count": 2,
   "id": "347e93ab",
   "metadata": {},
   "outputs": [],
   "source": [
    "# Choose path and file\n",
    "dataPath = r'D:\\Connectomics-Data\\FlyWire\\Txts\\cell_type_proofread'\n",
    "fileDate = '20230920'\n",
    "pre_neuron_type = 'LC14_L'\n",
    "post_neuron_type = 'LC10_R'\n",
    "\n",
    "pre_fileName = f'root_ids_{pre_neuron_type}_{fileDate}.txt'\n",
    "post_fileName = f'root_ids_{post_neuron_type}_{fileDate}.txt'\n",
    "pre_filePath = os.path.join(dataPath,pre_fileName)\n",
    "post_filePath = os.path.join(dataPath,post_fileName)\n",
    "pre_ids_df = pd.read_csv(pre_filePath, sep = \",\")\n",
    "post_ids_df = pd.read_csv(post_filePath, sep = \",\")\n",
    "\n",
    "pre_ids = pre_ids_df.columns.tolist()\n",
    "post_ids = post_ids_df.columns.tolist()\n"
   ]
  },
  {
   "cell_type": "code",
   "execution_count": 3,
   "id": "b9b6ec2c",
   "metadata": {},
   "outputs": [
    {
     "data": {
      "application/vnd.jupyter.widget-view+json": {
       "model_id": "",
       "version_major": 2,
       "version_minor": 0
      },
      "text/plain": [
       "Updating:   0%|          | 0/26 [00:00<?, ?it/s]"
      ]
     },
     "metadata": {},
     "output_type": "display_data"
    },
    {
     "data": {
      "application/vnd.jupyter.widget-view+json": {
       "model_id": "",
       "version_major": 2,
       "version_minor": 0
      },
      "text/plain": [
       "Updating:   0%|          | 0/352 [00:00<?, ?it/s]"
      ]
     },
     "metadata": {},
     "output_type": "display_data"
    }
   ],
   "source": [
    "# Update all ids\n",
    "#Presynaptic cell ids\n",
    "update_df = flywire.update_ids(pre_ids, stop_layer=2, supervoxels=None, timestamp=None, dataset='production', progress=True)\n",
    "up_to_date_pre_ids = update_df['new_id'].tolist()\n",
    "\n",
    "#Postsynaptic cell ids\n",
    "update_df = flywire.update_ids(post_ids, stop_layer=2, supervoxels=None, timestamp=None, dataset='production', progress=True)\n",
    "up_to_date_post_ids = update_df['new_id'].tolist()"
   ]
  },
  {
   "cell_type": "code",
   "execution_count": 4,
   "id": "40006ca0",
   "metadata": {},
   "outputs": [
    {
     "data": {
      "application/vnd.jupyter.widget-view+json": {
       "model_id": "15ab81a2948b45988c7da3d8e5914e0a",
       "version_major": 2,
       "version_minor": 0
      },
      "text/plain": [
       "Fetching synapses:   0%|          | 0/12 [00:00<?, ?it/s]"
      ]
     },
     "metadata": {},
     "output_type": "display_data"
    },
    {
     "data": {
      "application/vnd.jupyter.widget-view+json": {
       "model_id": "e101519646da45a2ab4b8b6a34fdfe79",
       "version_major": 2,
       "version_minor": 0
      },
      "text/plain": [
       "Fetching synapses:   0%|          | 0/12 [00:00<?, ?it/s]"
      ]
     },
     "metadata": {},
     "output_type": "display_data"
    }
   ],
   "source": [
    "# Getting inputs\n",
    "\n",
    "# Fetch the neuron's inputs\n",
    "post_inputs = flywire.synapses.fetch_synapses(up_to_date_post_ids, pre=False, post=True, attach=True, \n",
    "                                             min_score=50, clean=True, transmitters=False, \n",
    "                                             neuropils=True, batch_size=30, \n",
    "                                             dataset='production', progress=True,mat= \"live\")\n",
    "# Fetch the neuron's inputs\n",
    "pre_inputs = flywire.synapses.fetch_synapses(up_to_date_pre_ids, pre=False, post=True, attach=True, \n",
    "                                             min_score=50, clean=True, transmitters=False, \n",
    " \n",
    "                                             neuropils=True, batch_size=30, \n",
    "                                             dataset='production', progress=True,mat= \"live\")\n",
    "# Getting outputs\n",
    "\n",
    "# Fetch the neuron's outputs\n",
    "post_outputs = flywire.synapses.fetch_synapses(up_to_date_post_ids, pre= True, post=False, attach=True, \n",
    "                                             min_score=50, clean=True, transmitters=False, \n",
    "                                             neuropils=True, batch_size=30, \n",
    "                                             dataset='production', progress=True,mat= \"live\")\n",
    "\n",
    "# Fetch the neuron's outputs\n",
    "pre_outputs = flywire.synapses.fetch_synapses(up_to_date_pre_ids, pre= True, post=False, attach=True, \n",
    "                                             min_score=50, clean=True, transmitters=False, \n",
    "                                             neuropils=True, batch_size=30, \n",
    "                                             dataset='production', progress=True,mat= \"live\")"
   ]
  },
  {
   "cell_type": "markdown",
   "id": "219941b4",
   "metadata": {},
   "source": [
    "## A) Individual synaptic counts distributions"
   ]
  },
  {
   "cell_type": "code",
   "execution_count": 5,
   "id": "b05150f6",
   "metadata": {},
   "outputs": [],
   "source": [
    "# For the defined postsynaptic partner\n",
    "## Inputs\n",
    "#Geeting all input counts for each presynaptic neuron id\n",
    "post_inputs_counts = post_inputs.groupby(['post', 'pre'])['pre'].count().reset_index(name='pre_syn_count')\n",
    "\n",
    "## Outputs\n",
    "#Geeting all output counts for each presynaptic neuron id\n",
    "post_outputs_counts = post_outputs.groupby(['post', 'pre'])['post'].count().reset_index(name='post_syn_count')\n",
    "\n"
   ]
  },
  {
   "cell_type": "code",
   "execution_count": 6,
   "id": "50243c50",
   "metadata": {},
   "outputs": [],
   "source": [
    "# For the defined presynaptic partner\n",
    "\n",
    "## Inputs\n",
    "#Geeting all input counts for each presynaptic neuron id\n",
    "pre_inputs_counts = pre_inputs.groupby(['post', 'pre'])['pre'].count().reset_index(name='pre_syn_count')\n",
    "\n",
    "## Outputs\n",
    "#Geeting all output counts for each presynaptic neuron id\n",
    "pre_outputs_counts = pre_outputs.groupby(['post', 'pre'])['post'].count().reset_index(name='post_syn_count')"
   ]
  },
  {
   "cell_type": "code",
   "execution_count": 10,
   "id": "bb8d68c4",
   "metadata": {},
   "outputs": [
    {
     "data": {
      "image/png": "[encoded data removed]",
      "text/plain": [
       "<Figure size 720x576 with 4 Axes>"
      ]
     },
     "metadata": {
      "needs_background": "light"
     },
     "output_type": "display_data"
    }
   ],
   "source": [
    "# Brief visualization\n",
    "\n",
    "# List of data frames\n",
    "data_frames = [post_inputs_counts, post_outputs_counts, pre_inputs_counts, pre_outputs_counts]\n",
    "\n",
    "# List of data frames and their names\n",
    "data_frames = {'DataFrame 1': post_inputs_counts, 'DataFrame 2': post_outputs_counts, 'DataFrame 3': pre_inputs_counts, 'DataFrame 4': pre_outputs_counts}\n",
    "\n",
    "# Create subplots\n",
    "fig, axes = plt.subplots(nrows=2, ncols=2, figsize=(10, 8))\n",
    "fig.suptitle('Histograms for Third Column in Different DataFrames')\n",
    "\n",
    "# Set the absolute threshold for the maximum x-axis value\n",
    "x_axis_threshold = 20  # Replace with your desired threshold\n",
    "\n",
    "# Plot histograms in each subplot\n",
    "for ax, (name, df) in zip(axes.flatten(), data_frames.items()):\n",
    "    column_name = df.columns[2]  # Assuming the third column is always at index 2\n",
    "    sns.histplot(data=df, x=column_name, ax=ax, kde=True)\n",
    "    \n",
    "    # Set the x-axis limit\n",
    "    ax.set_xlim(right=x_axis_threshold)\n",
    "    \n",
    "    ax.set_title(f'Histogram for {column_name} in {name}')\n",
    "    ax.set_xlabel(column_name)\n",
    "\n",
    "# Adjust layout\n",
    "plt.tight_layout()\n",
    "plt.show()"
   ]
  },
  {
   "cell_type": "markdown",
   "id": "cd4d399e",
   "metadata": {},
   "source": [
    "## B) Pair-wise relationship"
   ]
  },
  {
   "cell_type": "code",
   "execution_count": 42,
   "id": "87d2f1c6",
   "metadata": {
    "scrolled": true
   },
   "outputs": [],
   "source": [
    "# Quick visualization of the weight of our presynaptic partner of interest as input of our postsynaptoc cell of interest\n",
    "\n",
    "#Geeting all input counts for each presynaptic neuron id\n",
    "post_inputs_counts = post_inputs.groupby(['post', 'pre'])['pre'].count().reset_index(name='pre_syn_count')\n",
    "\n",
    "#Initializing variables\n",
    "rel_neuron_type_weight = []\n",
    "rel_neuron_weight = []\n",
    "neuron_weight_post_ls = []\n",
    "neuron_weight_pre_ls = []\n",
    "#Looping to get the neuron and neuron type weigths to each postsynaptic partner\n",
    "for _post in list(set(post_inputs_counts['post'].tolist())):\n",
    "    curr_df = post_inputs_counts[post_inputs_counts['post'] == _post].copy()\n",
    "    curr_total_syn_count = curr_df['pre_syn_count'].sum()\n",
    "    curr_pre_type_df = curr_df[curr_df['pre'].isin(up_to_date_pre_ids)].copy()\n",
    "    # Weitgh for all cell of the same type\n",
    "    curr_rel_neuron_type_weight = curr_pre_type_df['pre_syn_count'].sum()/curr_total_syn_count\n",
    "    rel_neuron_type_weight.append(curr_rel_neuron_type_weight)\n",
    "    # Weitgh for individual cell of the same type\n",
    "    if len(curr_pre_type_df['pre']) == 0:\n",
    "        rel_neuron_weight.append(0.0)\n",
    "        neuron_weight_post_ls.append(_post) # tracking the postsynaptic neuron ids\n",
    "        neuron_weight_pre_ls.append('-') # tracking the presynaptic neuron ids\n",
    "    else:\n",
    "        for _pre in list(set(curr_pre_type_df['pre'].tolist())):\n",
    "            neuron_weight_post_ls.append(_post) # tracking the postsynaptic neuron ids\n",
    "            neuron_weight_pre_ls.append(_pre) # tracking the presynaptic neuron ids\n",
    "            curr_rel_neuron_weight = curr_pre_type_df[curr_pre_type_df['pre'] == _pre]['pre_syn_count'].sum() / curr_total_syn_count\n",
    "            rel_neuron_weight.append(curr_rel_neuron_weight)\n",
    "\n",
    "#Summary data frames\n",
    "neuron_weight_df = pd.DataFrame()\n",
    "neuron_weight_df['rel_weight'] = rel_neuron_weight\n",
    "neuron_weight_df['post'] = neuron_weight_post_ls\n",
    "neuron_weight_df['pre'] = neuron_weight_pre_ls \n",
    " \n"
   ]
  },
  {
   "cell_type": "code",
   "execution_count": 47,
   "id": "93112009",
   "metadata": {},
   "outputs": [
    {
     "data": {
      "text/plain": [
       "[720575940626972676,\n",
       " 720575940623448078,\n",
       " 720575940628822037,\n",
       " 720575940643127319,\n",
       " 720575940643207191,\n",
       " 720575940645531671,\n",
       " 720575940621203489,\n",
       " 720575940644892708,\n",
       " 720575940624787504,\n",
       " 720575940614383682,\n",
       " 720575940629076042,\n",
       " 720575940621314124,\n",
       " 720575940616712278,\n",
       " 720575940626008153,\n",
       " 720575940627804265,\n",
       " 720575940619169901,\n",
       " 720575940644393070,\n",
       " 720575940622614655,\n",
       " 720575940606099586,\n",
       " 720575940606244994,\n",
       " 720575940625465487,\n",
       " 720575940623804560,\n",
       " 720575940621365417,\n",
       " 720575940636481716,\n",
       " 720575940621050038,\n",
       " 720575940619497665,\n",
       " 720575940612499662,\n",
       " 720575940629608663,\n",
       " 720575940613085402,\n",
       " 720575940613853411,\n",
       " 720575940624050407,\n",
       " 720575940627454193,\n",
       " 720575940622917876,\n",
       " 720575940628558074,\n",
       " 720575940627933443,\n",
       " 720575940626735364,\n",
       " 720575940622475525,\n",
       " 720575940622373127,\n",
       " 720575940622950663,\n",
       " 720575940630534418,\n",
       " 720575940645441828,\n",
       " 720575940624013606,\n",
       " 720575940624029991,\n",
       " 720575940621363532,\n",
       " 720575940632103251,\n",
       " 720575940626039129,\n",
       " 720575940607510876,\n",
       " 720575940616393053,\n",
       " 720575940621062494,\n",
       " 720575940623143262,\n",
       " 720575940634433887,\n",
       " 720575940635484517,\n",
       " 720575940640350579,\n",
       " 720575940648939897,\n",
       " 720575940621166972,\n",
       " 720575940627624317,\n",
       " 720575940610075029,\n",
       " 720575940632746391,\n",
       " 720575940642935200,\n",
       " 720575940615377319,\n",
       " 720575940628636098,\n",
       " 720575940628398535,\n",
       " 720575940643322312,\n",
       " 720575940625893834,\n",
       " 720575940629854671,\n",
       " 720575940610501093,\n",
       " 720575940615834086,\n",
       " 720575940629817849,\n",
       " 720575940628687354,\n",
       " 720575940629758459,\n",
       " 720575940621961741,\n",
       " 720575940613429782,\n",
       " 720575940645077527,\n",
       " 720575940611275310,\n",
       " 720575940625719866,\n",
       " 720575940625799762,\n",
       " 720575940609276514,\n",
       " 720575940628359783,\n",
       " 720575940619700859,\n",
       " 720575940622912124,\n",
       " 720575940625246845,\n",
       " 720575940639486592,\n",
       " 720575940629756556,\n",
       " 720575940631196300,\n",
       " 720575940630155931,\n",
       " 720575940620532400,\n",
       " 720575940607736521,\n",
       " 720575940619698891,\n",
       " 720575940604125920,\n",
       " 720575940636234473,\n",
       " 720575940627038961,\n",
       " 720575940628570871,\n",
       " 720575940623082237,\n",
       " 720575940624962341,\n",
       " 720575940623418185,\n",
       " 720575940637344590,\n",
       " 720575940618636112,\n",
       " 720575940622744414,\n",
       " 720575940622805854,\n",
       " 720575940635081579,\n",
       " 720575940637604736,\n",
       " 720575940625881993,\n",
       " 720575940631264140,\n",
       " 720575940635683726,\n",
       " 720575940611576729,\n",
       " 720575940626779048,\n",
       " 720575940604935089,\n",
       " 720575940611623859,\n",
       " 720575940624595893,\n",
       " 720575940621204417,\n",
       " 720575940645180360,\n",
       " 720575940616598484,\n",
       " 720575940629398492,\n",
       " 720575940632871905,\n",
       " 720575940622584816,\n",
       " 720575940621538292,\n",
       " 720575940622320637,\n",
       " 720575940644133911,\n",
       " 720575940633027615,\n",
       " 720575940603860000,\n",
       " 720575940621562918,\n",
       " 720575940624186407,\n",
       " 720575940630500394,\n",
       " 720575940630692906,\n",
       " 720575940630879274,\n",
       " 720575940608977988,\n",
       " 720575940632382539,\n",
       " 720575940632034385,\n",
       " 720575940636144735,\n",
       " 720575940637731955,\n",
       " 720575940658842753,\n",
       " 720575940616490129,\n",
       " 720575940634088602,\n",
       " 720575940627088539,\n",
       " 720575940616541341,\n",
       " 720575940621175979,\n",
       " 720575940620416176,\n",
       " 720575940616840377,\n",
       " 720575940606983363,\n",
       " 720575940609539267,\n",
       " 720575940641989851,\n",
       " 720575940632149217,\n",
       " 720575940633560290,\n",
       " 720575940622615786,\n",
       " 720575940629153009,\n",
       " 720575940622927092,\n",
       " 720575940631305467,\n",
       " 720575940627346684,\n",
       " 720575940629138684,\n",
       " 720575940627328262,\n",
       " 720575940628303114,\n",
       " 720575940607548683,\n",
       " 720575940625397022,\n",
       " 720575940625804574,\n",
       " 720575940626001182,\n",
       " 720575940631440687,\n",
       " 720575940614255922,\n",
       " 720575940625898829,\n",
       " 720575940626470226,\n",
       " 720575940639057240,\n",
       " 720575940630130024,\n",
       " 720575940616179050,\n",
       " 720575940610493809,\n",
       " 720575940617102715,\n",
       " 720575940626474377,\n",
       " 720575940617514397,\n",
       " 720575940619249061,\n",
       " 720575940621254057,\n",
       " 720575940637652398,\n",
       " 720575940638246333,\n",
       " 720575940619187648,\n",
       " 720575940627017159,\n",
       " 720575940621086157,\n",
       " 720575940621710826,\n",
       " 720575940620764660,\n",
       " 720575940623312381,\n",
       " 720575940625442306,\n",
       " 720575940613561868,\n",
       " 720575940623941134,\n",
       " 720575940631084589,\n",
       " 720575940639702581,\n",
       " 720575940636839487,\n",
       " 720575940632548931,\n",
       " 720575940637582926,\n",
       " 720575940622364254,\n",
       " 720575940631187048,\n",
       " 720575940643401326,\n",
       " 720575940634156655,\n",
       " 720575940624811664,\n",
       " 720575940613109410,\n",
       " 720575940619577014,\n",
       " 720575940625729226,\n",
       " 720575940632764115,\n",
       " 720575940632125154,\n",
       " 720575940622366448,\n",
       " 720575940640554741,\n",
       " 720575940618567425,\n",
       " 720575940645603095,\n",
       " 720575940613183272,\n",
       " 720575940616156992,\n",
       " 720575940638910296,\n",
       " 720575940618465117,\n",
       " 720575940624351076,\n",
       " 720575940636311408,\n",
       " 720575940611802994,\n",
       " 720575940639485824,\n",
       " 720575940646352772,\n",
       " 720575940624387978,\n",
       " 720575940616247197,\n",
       " 720575940614823839,\n",
       " 720575940611471283,\n",
       " 720575940617228219,\n",
       " 720575940605411262,\n",
       " 720575940636772318,\n",
       " 720575940631576546,\n",
       " 720575940611887075,\n",
       " 720575940610578405,\n",
       " 720575940615833574,\n",
       " 720575940620720112,\n",
       " 720575940653619190]"
      ]
     },
     "execution_count": 47,
     "metadata": {},
     "output_type": "execute_result"
    }
   ],
   "source": [
    "neuron_weight_df[neuron_weight_df['rel_weight'] == 0]['post'].tolist()"
   ]
  },
  {
   "cell_type": "code",
   "execution_count": 44,
   "id": "45866224",
   "metadata": {},
   "outputs": [
    {
     "data": {
      "image/png": "[encoded data removed]",
      "text/plain": [
       "<Figure size 864x288 with 2 Axes>"
      ]
     },
     "metadata": {
      "needs_background": "light"
     },
     "output_type": "display_data"
    }
   ],
   "source": [
    "# Plotting \n",
    "\n",
    "#Filtering out 0 values\n",
    "rel_neuron_type_weight = [x for x in rel_neuron_type_weight if x != 0]\n",
    "rel_neuron_weight = [x for x in rel_neuron_weight if x != 0] \n",
    "\n",
    "# Calculate the percentage values\n",
    "rel_neuron_type_weight_percent = [x * 100 for x in rel_neuron_type_weight] \n",
    "rel_neuron_weight_percent = [x * 100 for x in rel_neuron_weight] \n",
    "\n",
    "# Create subplots for each dimension using Seaborn\n",
    "plt.figure(figsize=(12, 4))\n",
    "\n",
    "plt.subplot(131)  # 1 row, 3 columns, 1st subplot\n",
    "sns.histplot(rel_neuron_type_weight_percent, bins=20, color='blue', alpha=0.7, kde=True)\n",
    "plt.title(f'Neuron type weight: {pre_neuron_type}({len(pre_ids)})>{post_neuron_type}({len(post_ids)})')\n",
    "plt.xlabel('Input fraction (%)')  # Update the x-axis label\n",
    "plt.ylabel(f'{post_neuron_type} counts (total: {len(rel_neuron_type_weight_percent)})')  # Update the x-axis label\n",
    "\n",
    "plt.subplot(132)  # 1 row, 3 columns, 2nd subplot\n",
    "sns.histplot(rel_neuron_weight_percent, bins=20, color='green', alpha=0.7, kde=True)\n",
    "plt.title(f'Neuron weight: {pre_neuron_type}({len(pre_ids)})>{post_neuron_type}({len(post_ids)})')\n",
    "plt.xlabel('Input fraction (%)')  # Update the x-axis label\n",
    "plt.ylabel(f'{pre_neuron_type}>{post_neuron_type} counts (total: {len(rel_neuron_weight_percent)})')  # Update the x-axis label\n",
    "\n",
    "plt.tight_layout()  # Ensure proper spacing between subplots\n",
    "plt.show()"
   ]
  },
  {
   "cell_type": "code",
   "execution_count": null,
   "id": "77d41e4e",
   "metadata": {},
   "outputs": [],
   "source": []
  },
  {
   "cell_type": "code",
   "execution_count": null,
   "id": "8bb245af",
   "metadata": {},
   "outputs": [],
   "source": []
  },
  {
   "cell_type": "code",
   "execution_count": null,
   "id": "f5213ec3",
   "metadata": {},
   "outputs": [],
   "source": []
  }
 ],
 "metadata": {
  "kernelspec": {
   "display_name": "Python 3",
   "language": "python",
   "name": "python3"
  },
  "language_info": {
   "codemirror_mode": {
    "name": "ipython",
    "version": 3
   },
   "file_extension": ".py",
   "mimetype": "text/x-python",
   "name": "python",
   "nbconvert_exporter": "python",
   "pygments_lexer": "ipython3",
   "version": "3.7.4"
  }
 },
 "nbformat": 4,
 "nbformat_minor": 5
}
