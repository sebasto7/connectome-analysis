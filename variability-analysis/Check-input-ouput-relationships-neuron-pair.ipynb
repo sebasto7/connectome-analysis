{
 "cells": [
  {
   "cell_type": "markdown",
   "id": "3543c080",
   "metadata": {},
   "source": [
    "# Check pair of neurons input-output relationships"
   ]
  },
  {
   "cell_type": "code",
   "execution_count": 66,
   "id": "fc7c3467",
   "metadata": {},
   "outputs": [],
   "source": [
    "import os\n",
    "import pandas as pd\n",
    "import numpy as np\n",
    "from fafbseg import flywire\n",
    "import matplotlib.pyplot as plt\n",
    "import seaborn as sns"
   ]
  },
  {
   "cell_type": "code",
   "execution_count": 113,
   "id": "347e93ab",
   "metadata": {},
   "outputs": [],
   "source": [
    "# Choose path and file\n",
    "dataPath = r'D:\\Connectomics-Data\\FlyWire\\Txts\\cell_type_proofread'\n",
    "fileDate = '20230920'\n",
    "pre_neuron_type = 'LC14_L'\n",
    "post_neuron_type = 'LC17_R'\n",
    "\n",
    "pre_fileName = f'root_ids_{pre_neuron_type}_{fileDate}.txt'\n",
    "post_fileName = f'root_ids_{post_neuron_type}_{fileDate}.txt'\n",
    "pre_filePath = os.path.join(dataPath,pre_fileName)\n",
    "post_filePath = os.path.join(dataPath,post_fileName)\n",
    "pre_ids_df = pd.read_csv(pre_filePath, sep = \",\")\n",
    "post_ids_df = pd.read_csv(post_filePath, sep = \",\")\n",
    "\n",
    "pre_ids = pre_ids_df.columns.tolist()\n",
    "post_ids = post_ids_df.columns.tolist()\n"
   ]
  },
  {
   "cell_type": "code",
   "execution_count": 114,
   "id": "b9b6ec2c",
   "metadata": {},
   "outputs": [
    {
     "data": {
      "application/vnd.jupyter.widget-view+json": {
       "model_id": "",
       "version_major": 2,
       "version_minor": 0
      },
      "text/plain": [
       "Updating:   0%|          | 0/26 [00:00<?, ?it/s]"
      ]
     },
     "metadata": {},
     "output_type": "display_data"
    },
    {
     "data": {
      "application/vnd.jupyter.widget-view+json": {
       "model_id": "",
       "version_major": 2,
       "version_minor": 0
      },
      "text/plain": [
       "Updating:   0%|          | 0/142 [00:00<?, ?it/s]"
      ]
     },
     "metadata": {},
     "output_type": "display_data"
    }
   ],
   "source": [
    "# Update all ids\n",
    "#Presynaptic cell ids\n",
    "update_df = flywire.update_ids(pre_ids, stop_layer=2, supervoxels=None, timestamp=None, dataset='production', progress=True)\n",
    "up_to_date_pre_ids = update_df['new_id'].tolist()\n",
    "\n",
    "#Postsynaptic cell ids\n",
    "update_df = flywire.update_ids(post_ids, stop_layer=2, supervoxels=None, timestamp=None, dataset='production', progress=True)\n",
    "up_to_date_post_ids = update_df['new_id'].tolist()"
   ]
  },
  {
   "cell_type": "code",
   "execution_count": 115,
   "id": "758cca57",
   "metadata": {},
   "outputs": [
    {
     "data": {
      "application/vnd.jupyter.widget-view+json": {
       "model_id": "fa82d31988154f7aad7eca35b7fab07b",
       "version_major": 2,
       "version_minor": 0
      },
      "text/plain": [
       "Fetching synapses:   0%|          | 0/5 [00:00<?, ?it/s]"
      ]
     },
     "metadata": {},
     "output_type": "display_data"
    }
   ],
   "source": [
    "# Getting inputs\n",
    "\n",
    "# Fetch the neuron's inputs\n",
    "post_inputs = flywire.synapses.fetch_synapses(up_to_date_post_ids, pre=False, post=True, attach=True, \n",
    "                                             min_score=50, clean=True, transmitters=False, \n",
    "                                             neuropils=True, batch_size=30, \n",
    "                                             dataset='production', progress=True,mat= \"live\")\n",
    "\n",
    "# Fetch the neuron's outputs\n",
    "pre_outputs = flywire.synapses.fetch_synapses(up_to_date_pre_ids, pre= True, post=False, attach=True, \n",
    "                                             min_score=50, clean=True, transmitters=False, \n",
    "                                             neuropils=True, batch_size=30, \n",
    "                                             dataset='production', progress=True,mat= \"live\")"
   ]
  },
  {
   "cell_type": "code",
   "execution_count": 116,
   "id": "87d2f1c6",
   "metadata": {},
   "outputs": [],
   "source": [
    "# Quick visualization of the weight of our presynaptic partner of interest as input of our postsynaptoc cell of interest\n",
    "\n",
    "#Geeting all input counts for each presynaptic neuron id\n",
    "post_inputs_counts = post_inputs.groupby(['post', 'pre'])['pre'].count().reset_index(name='pre_syn_count')\n",
    "\n",
    "#Initializing variables\n",
    "neuron_type_weight = []\n",
    "neuron_weight = []\n",
    "neuron_weight_post_ls = []\n",
    "neuron_weight_pre_ls = []\n",
    "#Looping to get the neuron and neuron type weigths to each postsynaptic partner\n",
    "for _post in list(set(post_inputs_counts['post'].tolist())):\n",
    "    curr_df = post_inputs_counts[post_inputs_counts['post'] == _post].copy()\n",
    "    curr_total_syn_count = curr_df['pre_syn_count'].sum()\n",
    "    curr_pre_type_df = curr_df[curr_df['pre'].isin(up_to_date_pre_ids)].copy()\n",
    "    # Weitgh for all cell of the same type\n",
    "    curr_neuron_type_weight = curr_pre_type_df['pre_syn_count'].sum()/curr_total_syn_count\n",
    "    neuron_type_weight.append(curr_neuron_type_weight)\n",
    "    # Weitgh for individual cell of the same type\n",
    "    if len(curr_pre_type_df['pre']) == 0:\n",
    "        neuron_weight.append(0.0)\n",
    "    else:\n",
    "        for _pre in list(set(curr_pre_type_df['pre'].tolist())):\n",
    "            neuron_weight_post_ls.append(_post) # tracking the postsynaptic neuron ids\n",
    "            neuron_weight_pre_ls.append(_pre) # tracking the presynaptic neuron ids\n",
    "            curr_neuron_weight = curr_pre_type_df[curr_pre_type_df['pre'] == _pre]['pre_syn_count'].sum() / curr_total_syn_count\n",
    "            neuron_weight.append(curr_neuron_weight)\n"
   ]
  },
  {
   "cell_type": "code",
   "execution_count": 117,
   "id": "45866224",
   "metadata": {},
   "outputs": [
    {
     "data": {
      "image/png": "[encoded data removed]",
      "text/plain": [
       "<Figure size 864x288 with 2 Axes>"
      ]
     },
     "metadata": {
      "needs_background": "light"
     },
     "output_type": "display_data"
    }
   ],
   "source": [
    "# Plotting \n",
    "\n",
    "# Calculate the percentage values\n",
    "neuron_type_weight_percent = [x * 100 for x in neuron_type_weight] \n",
    "neuron_weight_percent = [x * 100 for x in neuron_weight] \n",
    "\n",
    "# Create subplots for each dimension using Seaborn\n",
    "plt.figure(figsize=(12, 4))\n",
    "\n",
    "plt.subplot(131)  # 1 row, 3 columns, 1st subplot\n",
    "sns.histplot(neuron_type_weight_percent, bins=20, color='blue', alpha=0.7, kde=True)\n",
    "plt.title(f'Neuron type weight: {pre_neuron_type}({len(pre_ids)})>{post_neuron_type}({len(post_ids)})')\n",
    "plt.xlabel('Input fraction (%)')  # Update the x-axis label\n",
    "plt.ylabel(f'{post_neuron_type} counts (total: {len(neuron_type_weight_percent)})')  # Update the x-axis label\n",
    "\n",
    "plt.subplot(132)  # 1 row, 3 columns, 2nd subplot\n",
    "sns.histplot(neuron_weight_percent, bins=20, color='green', alpha=0.7, kde=True)\n",
    "plt.title(f'Neuron weight: {pre_neuron_type}({len(pre_ids)})>{post_neuron_type}({len(post_ids)})')\n",
    "plt.xlabel('Input fraction (%)')  # Update the x-axis label\n",
    "plt.ylabel(f'{pre_neuron_type}>{post_neuron_type} counts (total: {len(neuron_weight_percent)})')  # Update the x-axis label\n",
    "\n",
    "plt.tight_layout()  # Ensure proper spacing between subplots\n",
    "plt.show()"
   ]
  },
  {
   "cell_type": "code",
   "execution_count": null,
   "id": "77d41e4e",
   "metadata": {},
   "outputs": [],
   "source": []
  },
  {
   "cell_type": "code",
   "execution_count": null,
   "id": "8bb245af",
   "metadata": {},
   "outputs": [],
   "source": []
  },
  {
   "cell_type": "code",
   "execution_count": null,
   "id": "f5213ec3",
   "metadata": {},
   "outputs": [],
   "source": []
  }
 ],
 "metadata": {
  "kernelspec": {
   "display_name": "Python 3",
   "language": "python",
   "name": "python3"
  },
  "language_info": {
   "codemirror_mode": {
    "name": "ipython",
    "version": 3
   },
   "file_extension": ".py",
   "mimetype": "text/x-python",
   "name": "python",
   "nbconvert_exporter": "python",
   "pygments_lexer": "ipython3",
   "version": "3.7.4"
  }
 },
 "nbformat": 4,
 "nbformat_minor": 5
}
