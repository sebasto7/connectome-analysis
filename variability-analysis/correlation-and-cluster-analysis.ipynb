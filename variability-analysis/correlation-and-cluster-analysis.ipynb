{
 "cells": [
  {
   "cell_type": "markdown",
   "id": "043786f1",
   "metadata": {},
   "source": [
    "# Correlation and cluster analysis"
   ]
  },
  {
   "cell_type": "markdown",
   "id": "07735793",
   "metadata": {},
   "source": [
    "Code curretly used for figure 4 in the paper: Heterogeneity of synaptic connectivity in the fly visual system.\n",
    "<br>This notes includes:\n",
    "<br><br>A) \n",
    "<br>B)\n",
    "<br>C)"
   ]
  },
  {
   "cell_type": "code",
   "execution_count": 2,
   "id": "4d0fd217",
   "metadata": {
    "scrolled": true
   },
   "outputs": [
    {
     "name": "stderr",
     "output_type": "stream",
     "text": [
      "C:\\Users\\smolina\\Anaconda3\\envs\\EM\\lib\\site-packages\\blessed\\terminal.py:186: UserWarning: Failed to setupterm(kind='xterm-color'): Could not find terminal xterm-color\n",
      "  warnings.warn(msg)\n"
     ]
    }
   ],
   "source": [
    "# Importing packages\n",
    "import numpy as np\n",
    "import pandas as pd\n",
    "import os\n",
    "import seaborn as sns\n",
    "import matplotlib\n",
    "import matplotlib.pyplot as plt\n",
    "from sklearn.cluster import KMeans\n",
    "from sklearn.metrics import silhouette_score\n",
    "from sklearn.preprocessing import StandardScaler\n",
    "from scipy.stats import pearsonr\n",
    "from sklearn.cluster import AgglomerativeClustering\n",
    "from scipy.cluster import hierarchy\n",
    "import matplotlib.gridspec as gridspec\n",
    "from scipy.spatial.distance import hamming\n",
    "from sklearn.metrics import pairwise_distances\n",
    "from fafbseg import flywire\n",
    "import navis\n",
    "\n",
    "from sklearn.metrics.pairwise import cosine_similarity"
   ]
  },
  {
   "cell_type": "code",
   "execution_count": 7,
   "id": "0d0a5ae9",
   "metadata": {},
   "outputs": [
    {
     "data": {
      "text/plain": [
       "'D:\\\\Connectomics-Data\\\\FlyWire\\\\Processed-data\\\\Tm9_700_healthy_L3_R_20231113.xlsx'"
      ]
     },
     "execution_count": 7,
     "metadata": {},
     "output_type": "execute_result"
    }
   ],
   "source": [
    "filePath"
   ]
  },
  {
   "cell_type": "code",
   "execution_count": 8,
   "id": "6c22eab0",
   "metadata": {},
   "outputs": [],
   "source": [
    "# Loading data\n",
    "PC_disc = 'D'\n",
    "dataPath = f'{PC_disc}:\\Connectomics-Data\\FlyWire\\Processed-data'\n",
    "fig_save_path = os.path.join(dataPath,\"Figures\")\n",
    "\n",
    "current_data = 'Tm9_700_healthy_L3_R_20231113.xlsx' \n",
    "# current_data = 'Tm9_abs_counts_L_5percent_threshold.csv' \n",
    "\n",
    "filePath =  os.path.join(dataPath,current_data)\n",
    "\n",
    "data_df = pd.read_excel(filePath, sheet_name='Relative_counts',index_col = 0)\n",
    "data_df = data_df.fillna(0)\n",
    "\n"
   ]
  },
  {
   "cell_type": "code",
   "execution_count": null,
   "id": "c8805cd0",
   "metadata": {},
   "outputs": [],
   "source": []
  },
  {
   "cell_type": "code",
   "execution_count": null,
   "id": "2e8c8fa9",
   "metadata": {},
   "outputs": [],
   "source": [
    "# picked neurons = ['']\n",
    "# cluster_df = data_df[['Mi4','CT1']]\n",
    "\n",
    "# df_excluded = df.drop(columns=columns_to_exclude)\n",
    "\n",
    "#TODO: Take binary data\n",
    "# cluster_df = data_df[['Mi4','CT1']]\n",
    "# neurons_to_exclude = [\"L3\", \"Mi4\", \"CT1\"]\n",
    "# cluster_df = data_df.drop(columns=neurons_to_exclude)\n",
    "\n",
    "cluster_df = data_df\n",
    "\n",
    "data_array = cluster_df.to_numpy()\n",
    "order = ['L3','Mi4','CT1','Tm16','Dm12','Tm20',\n",
    "         'C3','Tm1','PS125','L4','ML1','TmY17','C2',\n",
    "         'OA-AL2b2','Tm2','Mi13','putative-fru-N.I.','Tm5c','Me-Lo-2-N.I.','TmY15']\n",
    "data_df = data_df[order]"
   ]
  }
 ],
 "metadata": {
  "kernelspec": {
   "display_name": "Python 3",
   "language": "python",
   "name": "python3"
  },
  "language_info": {
   "codemirror_mode": {
    "name": "ipython",
    "version": 3
   },
   "file_extension": ".py",
   "mimetype": "text/x-python",
   "name": "python",
   "nbconvert_exporter": "python",
   "pygments_lexer": "ipython3",
   "version": "3.7.4"
  }
 },
 "nbformat": 4,
 "nbformat_minor": 5
}
